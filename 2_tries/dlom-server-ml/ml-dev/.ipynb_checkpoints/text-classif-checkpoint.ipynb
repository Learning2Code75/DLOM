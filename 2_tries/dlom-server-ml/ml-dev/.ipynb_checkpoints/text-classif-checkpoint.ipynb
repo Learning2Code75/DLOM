{
 "cells": [
  {
   "cell_type": "code",
   "execution_count": 1,
   "id": "c06ef63d",
   "metadata": {},
   "outputs": [],
   "source": [
    "import re\n",
    "import pickle\n",
    "import numpy as np\n",
    "import pandas as pd\n",
    "\n",
    "# nltk\n",
    "from nltk.stem import WordNetLemmatizer\n",
    "\n",
    "# sklearn\n",
    "from sklearn.svm import LinearSVC\n",
    "from sklearn.naive_bayes import BernoulliNB\n",
    "from sklearn.linear_model import LogisticRegression\n",
    "\n",
    "from sklearn.model_selection import train_test_split\n",
    "from sklearn.feature_extraction.text import TfidfVectorizer\n",
    "from sklearn.metrics import classification_report"
   ]
  },
  {
   "cell_type": "code",
   "execution_count": 2,
   "id": "1435ecfb",
   "metadata": {},
   "outputs": [],
   "source": [
    "dataset = pd.read_csv(\"/home/neelchoksi19bce0990/Documents/S/DLOM/ML/2_textClassification/data/IMDBDataset.csv\")"
   ]
  },
  {
   "cell_type": "code",
   "execution_count": 3,
   "id": "bb5b0600",
   "metadata": {},
   "outputs": [
    {
     "data": {
      "text/html": [
       "<div>\n",
       "<style scoped>\n",
       "    .dataframe tbody tr th:only-of-type {\n",
       "        vertical-align: middle;\n",
       "    }\n",
       "\n",
       "    .dataframe tbody tr th {\n",
       "        vertical-align: top;\n",
       "    }\n",
       "\n",
       "    .dataframe thead th {\n",
       "        text-align: right;\n",
       "    }\n",
       "</style>\n",
       "<table border=\"1\" class=\"dataframe\">\n",
       "  <thead>\n",
       "    <tr style=\"text-align: right;\">\n",
       "      <th></th>\n",
       "      <th>review</th>\n",
       "      <th>sentiment</th>\n",
       "    </tr>\n",
       "  </thead>\n",
       "  <tbody>\n",
       "    <tr>\n",
       "      <th>0</th>\n",
       "      <td>One of the other reviewers has mentioned that ...</td>\n",
       "      <td>positive</td>\n",
       "    </tr>\n",
       "    <tr>\n",
       "      <th>1</th>\n",
       "      <td>A wonderful little production. &lt;br /&gt;&lt;br /&gt;The...</td>\n",
       "      <td>positive</td>\n",
       "    </tr>\n",
       "    <tr>\n",
       "      <th>2</th>\n",
       "      <td>I thought this was a wonderful way to spend ti...</td>\n",
       "      <td>positive</td>\n",
       "    </tr>\n",
       "    <tr>\n",
       "      <th>3</th>\n",
       "      <td>Basically there's a family where a little boy ...</td>\n",
       "      <td>negative</td>\n",
       "    </tr>\n",
       "    <tr>\n",
       "      <th>4</th>\n",
       "      <td>Petter Mattei's \"Love in the Time of Money\" is...</td>\n",
       "      <td>positive</td>\n",
       "    </tr>\n",
       "  </tbody>\n",
       "</table>\n",
       "</div>"
      ],
      "text/plain": [
       "                                              review sentiment\n",
       "0  One of the other reviewers has mentioned that ...  positive\n",
       "1  A wonderful little production. <br /><br />The...  positive\n",
       "2  I thought this was a wonderful way to spend ti...  positive\n",
       "3  Basically there's a family where a little boy ...  negative\n",
       "4  Petter Mattei's \"Love in the Time of Money\" is...  positive"
      ]
     },
     "execution_count": 3,
     "metadata": {},
     "output_type": "execute_result"
    }
   ],
   "source": [
    "dataset.head()"
   ]
  },
  {
   "cell_type": "code",
   "execution_count": 4,
   "id": "6753ee6c",
   "metadata": {},
   "outputs": [],
   "source": [
    "from sklearn.preprocessing import LabelEncoder \n",
    "encoder = LabelEncoder()\n",
    "\n",
    "dataset['sentiment'] = encoder.fit_transform(dataset['sentiment'])"
   ]
  },
  {
   "cell_type": "code",
   "execution_count": 5,
   "id": "ec181338",
   "metadata": {},
   "outputs": [
    {
     "data": {
      "text/html": [
       "<div>\n",
       "<style scoped>\n",
       "    .dataframe tbody tr th:only-of-type {\n",
       "        vertical-align: middle;\n",
       "    }\n",
       "\n",
       "    .dataframe tbody tr th {\n",
       "        vertical-align: top;\n",
       "    }\n",
       "\n",
       "    .dataframe thead th {\n",
       "        text-align: right;\n",
       "    }\n",
       "</style>\n",
       "<table border=\"1\" class=\"dataframe\">\n",
       "  <thead>\n",
       "    <tr style=\"text-align: right;\">\n",
       "      <th></th>\n",
       "      <th>review</th>\n",
       "      <th>sentiment</th>\n",
       "    </tr>\n",
       "  </thead>\n",
       "  <tbody>\n",
       "    <tr>\n",
       "      <th>0</th>\n",
       "      <td>One of the other reviewers has mentioned that ...</td>\n",
       "      <td>1</td>\n",
       "    </tr>\n",
       "    <tr>\n",
       "      <th>1</th>\n",
       "      <td>A wonderful little production. &lt;br /&gt;&lt;br /&gt;The...</td>\n",
       "      <td>1</td>\n",
       "    </tr>\n",
       "    <tr>\n",
       "      <th>2</th>\n",
       "      <td>I thought this was a wonderful way to spend ti...</td>\n",
       "      <td>1</td>\n",
       "    </tr>\n",
       "    <tr>\n",
       "      <th>3</th>\n",
       "      <td>Basically there's a family where a little boy ...</td>\n",
       "      <td>0</td>\n",
       "    </tr>\n",
       "    <tr>\n",
       "      <th>4</th>\n",
       "      <td>Petter Mattei's \"Love in the Time of Money\" is...</td>\n",
       "      <td>1</td>\n",
       "    </tr>\n",
       "  </tbody>\n",
       "</table>\n",
       "</div>"
      ],
      "text/plain": [
       "                                              review  sentiment\n",
       "0  One of the other reviewers has mentioned that ...          1\n",
       "1  A wonderful little production. <br /><br />The...          1\n",
       "2  I thought this was a wonderful way to spend ti...          1\n",
       "3  Basically there's a family where a little boy ...          0\n",
       "4  Petter Mattei's \"Love in the Time of Money\" is...          1"
      ]
     },
     "execution_count": 5,
     "metadata": {},
     "output_type": "execute_result"
    }
   ],
   "source": [
    "dataset.head()"
   ]
  },
  {
   "cell_type": "code",
   "execution_count": 6,
   "id": "be4b7677",
   "metadata": {},
   "outputs": [],
   "source": [
    "dataset.rename(columns = {'review':'text'}, inplace = True)"
   ]
  },
  {
   "cell_type": "code",
   "execution_count": 7,
   "id": "9c218d1f",
   "metadata": {},
   "outputs": [
    {
     "data": {
      "text/html": [
       "<div>\n",
       "<style scoped>\n",
       "    .dataframe tbody tr th:only-of-type {\n",
       "        vertical-align: middle;\n",
       "    }\n",
       "\n",
       "    .dataframe tbody tr th {\n",
       "        vertical-align: top;\n",
       "    }\n",
       "\n",
       "    .dataframe thead th {\n",
       "        text-align: right;\n",
       "    }\n",
       "</style>\n",
       "<table border=\"1\" class=\"dataframe\">\n",
       "  <thead>\n",
       "    <tr style=\"text-align: right;\">\n",
       "      <th></th>\n",
       "      <th>text</th>\n",
       "      <th>sentiment</th>\n",
       "    </tr>\n",
       "  </thead>\n",
       "  <tbody>\n",
       "    <tr>\n",
       "      <th>0</th>\n",
       "      <td>One of the other reviewers has mentioned that ...</td>\n",
       "      <td>1</td>\n",
       "    </tr>\n",
       "    <tr>\n",
       "      <th>1</th>\n",
       "      <td>A wonderful little production. &lt;br /&gt;&lt;br /&gt;The...</td>\n",
       "      <td>1</td>\n",
       "    </tr>\n",
       "    <tr>\n",
       "      <th>2</th>\n",
       "      <td>I thought this was a wonderful way to spend ti...</td>\n",
       "      <td>1</td>\n",
       "    </tr>\n",
       "    <tr>\n",
       "      <th>3</th>\n",
       "      <td>Basically there's a family where a little boy ...</td>\n",
       "      <td>0</td>\n",
       "    </tr>\n",
       "    <tr>\n",
       "      <th>4</th>\n",
       "      <td>Petter Mattei's \"Love in the Time of Money\" is...</td>\n",
       "      <td>1</td>\n",
       "    </tr>\n",
       "  </tbody>\n",
       "</table>\n",
       "</div>"
      ],
      "text/plain": [
       "                                                text  sentiment\n",
       "0  One of the other reviewers has mentioned that ...          1\n",
       "1  A wonderful little production. <br /><br />The...          1\n",
       "2  I thought this was a wonderful way to spend ti...          1\n",
       "3  Basically there's a family where a little boy ...          0\n",
       "4  Petter Mattei's \"Love in the Time of Money\" is...          1"
      ]
     },
     "execution_count": 7,
     "metadata": {},
     "output_type": "execute_result"
    }
   ],
   "source": [
    "dataset.head()"
   ]
  },
  {
   "cell_type": "code",
   "execution_count": 8,
   "id": "8747fd24",
   "metadata": {},
   "outputs": [],
   "source": [
    "text, sentiment = list(dataset['text']), list(dataset['sentiment'])"
   ]
  },
  {
   "cell_type": "code",
   "execution_count": 9,
   "id": "b8441af6",
   "metadata": {},
   "outputs": [],
   "source": [
    "# Defining dictionary containing all emojis with their meanings.\n",
    "emojis = {':)': 'smile', ':-)': 'smile', ';d': 'wink', ':-E': 'vampire', ':(': 'sad', \n",
    "          ':-(': 'sad', ':-<': 'sad', ':P': 'raspberry', ':O': 'surprised',\n",
    "          ':-@': 'shocked', ':@': 'shocked',':-$': 'confused', ':\\\\': 'annoyed', \n",
    "          ':#': 'mute', ':X': 'mute', ':^)': 'smile', ':-&': 'confused', '$_$': 'greedy',\n",
    "          '@@': 'eyeroll', ':-!': 'confused', ':-D': 'smile', ':-0': 'yell', 'O.o': 'confused',\n",
    "          '<(-_-)>': 'robot', 'd[-_-]b': 'dj', \":'-)\": 'sadsmile', ';)': 'wink', \n",
    "          ';-)': 'wink', 'O:-)': 'angel','O*-)': 'angel','(:-D': 'gossip', '=^.^=': 'cat'}\n",
    "\n",
    "## Defining set containing all stopwords in english.\n",
    "stopwords = ['a', 'about', 'above', 'after', 'again', 'ain', 'all', 'am', 'an',\n",
    "             'and','any','are', 'as', 'at', 'be', 'because', 'been', 'before',\n",
    "             'being', 'below', 'between','both', 'by', 'can', 'd', 'did', 'do',\n",
    "             'does', 'doing', 'down', 'during', 'each','few', 'for', 'from', \n",
    "             'further', 'had', 'has', 'have', 'having', 'he', 'her', 'here',\n",
    "             'hers', 'herself', 'him', 'himself', 'his', 'how', 'i', 'if', 'in',\n",
    "             'into','is', 'it', 'its', 'itself', 'just', 'll', 'm', 'ma',\n",
    "             'me', 'more', 'most','my', 'myself', 'now', 'o', 'of', 'on', 'once',\n",
    "             'only', 'or', 'other', 'our', 'ours','ourselves', 'out', 'own', 're',\n",
    "             's', 'same', 'she', \"shes\", 'should', \"shouldve\",'so', 'some', 'such',\n",
    "             't', 'than', 'that', \"thatll\", 'the', 'their', 'theirs', 'them',\n",
    "             'themselves', 'then', 'there', 'these', 'they', 'this', 'those', \n",
    "             'through', 'to', 'too','under', 'until', 'up', 've', 'very', 'was',\n",
    "             'we', 'were', 'what', 'when', 'where','which','while', 'who', 'whom',\n",
    "             'why', 'will', 'with', 'won', 'y', 'you', \"youd\",\"youll\", \"youre\",\n",
    "             \"youve\", 'your', 'yours', 'yourself', 'yourselves']"
   ]
  },
  {
   "cell_type": "code",
   "execution_count": 10,
   "id": "1b8a8a78",
   "metadata": {},
   "outputs": [
    {
     "name": "stderr",
     "output_type": "stream",
     "text": [
      "[nltk_data] Downloading package omw-1.4 to\n",
      "[nltk_data]     /home/neelchoksi19bce0990/nltk_data...\n",
      "[nltk_data]   Package omw-1.4 is already up-to-date!\n",
      "[nltk_data] Downloading package wordnet to\n",
      "[nltk_data]     /home/neelchoksi19bce0990/nltk_data...\n",
      "[nltk_data]   Package wordnet is already up-to-date!\n"
     ]
    },
    {
     "data": {
      "text/plain": [
       "True"
      ]
     },
     "execution_count": 10,
     "metadata": {},
     "output_type": "execute_result"
    }
   ],
   "source": [
    "import nltk\n",
    "nltk.download('omw-1.4')\n",
    "nltk.download('wordnet')"
   ]
  },
  {
   "cell_type": "code",
   "execution_count": 11,
   "id": "cd9bb8fc",
   "metadata": {},
   "outputs": [],
   "source": [
    "lemmatizer = WordNetLemmatizer()\n",
    "# grouping together the inflected forms (\"better\" -> \"good\")\n",
    "\n",
    "def preprocess(textdata):\n",
    "    processed_texts = []\n",
    "\n",
    "    # Defining regex patterns.\n",
    "    url_pattern = r\"((http://)[^ ]*|(https://)[^ ]*|( www\\.)[^ ]*)\"\n",
    "    user_pattern = '@[^\\s]+'\n",
    "    alpha_pattern = \"[^a-zA-Z0-9]\"\n",
    "    sequence_pattern = r\"(.)\\1\\1+\"\n",
    "    seq_replace_pattern = r\"\\1\\1\"\n",
    "\n",
    "    for tweet in textdata:\n",
    "        tweet = tweet.lower()\n",
    "\n",
    "        # Replace all URls with 'URL'\n",
    "        tweet = re.sub(url_pattern, ' URL', tweet)\n",
    "        # Replace all emojis.\n",
    "        for emoji in emojis.keys():\n",
    "            tweet = tweet.replace(emoji, \"EMOJI\" + emojis[emoji])\n",
    "            # Replace @USERNAME to 'USER'.\n",
    "        tweet = re.sub(user_pattern, ' USER', tweet)\n",
    "        # Replace all non alphabets.\n",
    "        tweet = re.sub(alpha_pattern, \" \", tweet)\n",
    "        # Replace 3 or more consecutive letters by 2 letter.\n",
    "        tweet = re.sub(sequence_pattern, seq_replace_pattern, tweet)\n",
    "\n",
    "        preprocessed_words = []\n",
    "        for word in tweet.split():\n",
    "            # Check if the word is a stopword.\n",
    "            if len(word) > 1 and word not in stopwords:\n",
    "                # Lemmatizing the word.\n",
    "                word = lemmatizer.lemmatize(word)\n",
    "                preprocessed_words.append(word)\n",
    "\n",
    "        processed_texts.append(' '.join(preprocessed_words))\n",
    "\n",
    "    return processed_texts\n"
   ]
  },
  {
   "cell_type": "code",
   "execution_count": 12,
   "id": "75a3b483",
   "metadata": {},
   "outputs": [],
   "source": [
    "processedtext = preprocess(text)"
   ]
  },
  {
   "cell_type": "code",
   "execution_count": 108,
   "id": "86d2ae5d",
   "metadata": {},
   "outputs": [],
   "source": [
    "X_train, X_test, y_train, y_test = train_test_split(processedtext, sentiment,\n",
    "                                                    test_size = 0.05, random_state = 0)\n"
   ]
  },
  {
   "cell_type": "code",
   "execution_count": 109,
   "id": "04aac1c2",
   "metadata": {},
   "outputs": [
    {
     "data": {
      "text/html": [
       "<style>#sk-container-id-3 {color: black;background-color: white;}#sk-container-id-3 pre{padding: 0;}#sk-container-id-3 div.sk-toggleable {background-color: white;}#sk-container-id-3 label.sk-toggleable__label {cursor: pointer;display: block;width: 100%;margin-bottom: 0;padding: 0.3em;box-sizing: border-box;text-align: center;}#sk-container-id-3 label.sk-toggleable__label-arrow:before {content: \"▸\";float: left;margin-right: 0.25em;color: #696969;}#sk-container-id-3 label.sk-toggleable__label-arrow:hover:before {color: black;}#sk-container-id-3 div.sk-estimator:hover label.sk-toggleable__label-arrow:before {color: black;}#sk-container-id-3 div.sk-toggleable__content {max-height: 0;max-width: 0;overflow: hidden;text-align: left;background-color: #f0f8ff;}#sk-container-id-3 div.sk-toggleable__content pre {margin: 0.2em;color: black;border-radius: 0.25em;background-color: #f0f8ff;}#sk-container-id-3 input.sk-toggleable__control:checked~div.sk-toggleable__content {max-height: 200px;max-width: 100%;overflow: auto;}#sk-container-id-3 input.sk-toggleable__control:checked~label.sk-toggleable__label-arrow:before {content: \"▾\";}#sk-container-id-3 div.sk-estimator input.sk-toggleable__control:checked~label.sk-toggleable__label {background-color: #d4ebff;}#sk-container-id-3 div.sk-label input.sk-toggleable__control:checked~label.sk-toggleable__label {background-color: #d4ebff;}#sk-container-id-3 input.sk-hidden--visually {border: 0;clip: rect(1px 1px 1px 1px);clip: rect(1px, 1px, 1px, 1px);height: 1px;margin: -1px;overflow: hidden;padding: 0;position: absolute;width: 1px;}#sk-container-id-3 div.sk-estimator {font-family: monospace;background-color: #f0f8ff;border: 1px dotted black;border-radius: 0.25em;box-sizing: border-box;margin-bottom: 0.5em;}#sk-container-id-3 div.sk-estimator:hover {background-color: #d4ebff;}#sk-container-id-3 div.sk-parallel-item::after {content: \"\";width: 100%;border-bottom: 1px solid gray;flex-grow: 1;}#sk-container-id-3 div.sk-label:hover label.sk-toggleable__label {background-color: #d4ebff;}#sk-container-id-3 div.sk-serial::before {content: \"\";position: absolute;border-left: 1px solid gray;box-sizing: border-box;top: 0;bottom: 0;left: 50%;z-index: 0;}#sk-container-id-3 div.sk-serial {display: flex;flex-direction: column;align-items: center;background-color: white;padding-right: 0.2em;padding-left: 0.2em;position: relative;}#sk-container-id-3 div.sk-item {position: relative;z-index: 1;}#sk-container-id-3 div.sk-parallel {display: flex;align-items: stretch;justify-content: center;background-color: white;position: relative;}#sk-container-id-3 div.sk-item::before, #sk-container-id-3 div.sk-parallel-item::before {content: \"\";position: absolute;border-left: 1px solid gray;box-sizing: border-box;top: 0;bottom: 0;left: 50%;z-index: -1;}#sk-container-id-3 div.sk-parallel-item {display: flex;flex-direction: column;z-index: 1;position: relative;background-color: white;}#sk-container-id-3 div.sk-parallel-item:first-child::after {align-self: flex-end;width: 50%;}#sk-container-id-3 div.sk-parallel-item:last-child::after {align-self: flex-start;width: 50%;}#sk-container-id-3 div.sk-parallel-item:only-child::after {width: 0;}#sk-container-id-3 div.sk-dashed-wrapped {border: 1px dashed gray;margin: 0 0.4em 0.5em 0.4em;box-sizing: border-box;padding-bottom: 0.4em;background-color: white;}#sk-container-id-3 div.sk-label label {font-family: monospace;font-weight: bold;display: inline-block;line-height: 1.2em;}#sk-container-id-3 div.sk-label-container {text-align: center;}#sk-container-id-3 div.sk-container {/* jupyter's `normalize.less` sets `[hidden] { display: none; }` but bootstrap.min.css set `[hidden] { display: none !important; }` so we also need the `!important` here to be able to override the default hidden behavior on the sphinx rendered scikit-learn.org. See: https://github.com/scikit-learn/scikit-learn/issues/21755 */display: inline-block !important;position: relative;}#sk-container-id-3 div.sk-text-repr-fallback {display: none;}</style><div id=\"sk-container-id-3\" class=\"sk-top-container\"><div class=\"sk-text-repr-fallback\"><pre>TfidfVectorizer(max_features=5000, ngram_range=(1, 2))</pre><b>In a Jupyter environment, please rerun this cell to show the HTML representation or trust the notebook. <br />On GitHub, the HTML representation is unable to render, please try loading this page with nbviewer.org.</b></div><div class=\"sk-container\" hidden><div class=\"sk-item\"><div class=\"sk-estimator sk-toggleable\"><input class=\"sk-toggleable__control sk-hidden--visually\" id=\"sk-estimator-id-3\" type=\"checkbox\" checked><label for=\"sk-estimator-id-3\" class=\"sk-toggleable__label sk-toggleable__label-arrow\">TfidfVectorizer</label><div class=\"sk-toggleable__content\"><pre>TfidfVectorizer(max_features=5000, ngram_range=(1, 2))</pre></div></div></div></div></div>"
      ],
      "text/plain": [
       "TfidfVectorizer(max_features=5000, ngram_range=(1, 2))"
      ]
     },
     "execution_count": 109,
     "metadata": {},
     "output_type": "execute_result"
    }
   ],
   "source": [
    "vectorizer = TfidfVectorizer(ngram_range=(1,2), max_features=5000)\n",
    "vectorizer.fit(X_train)"
   ]
  },
  {
   "cell_type": "code",
   "execution_count": 110,
   "id": "4c1dfc93",
   "metadata": {},
   "outputs": [],
   "source": [
    "X_train = vectorizer.transform(X_train)\n",
    "X_test  = vectorizer.transform(X_test)"
   ]
  },
  {
   "cell_type": "code",
   "execution_count": 111,
   "id": "7a4a837b",
   "metadata": {},
   "outputs": [],
   "source": [
    "def model_evaluate(model):\n",
    "    y_pred = model.predict(X_test)\n",
    "    print(classification_report(y_test, y_pred))\n"
   ]
  },
  {
   "cell_type": "code",
   "execution_count": 102,
   "id": "15b45fc0",
   "metadata": {},
   "outputs": [
    {
     "name": "stdout",
     "output_type": "stream",
     "text": [
      "              precision    recall  f1-score   support\n",
      "\n",
      "           0       0.88      0.84      0.86      1257\n",
      "           1       0.84      0.89      0.86      1243\n",
      "\n",
      "    accuracy                           0.86      2500\n",
      "   macro avg       0.86      0.86      0.86      2500\n",
      "weighted avg       0.86      0.86      0.86      2500\n",
      "\n"
     ]
    }
   ],
   "source": [
    "BNBmodel = BernoulliNB(alpha = 2)\n",
    "BNBmodel.fit(X_train, y_train)\n",
    "model_evaluate(BNBmodel)"
   ]
  },
  {
   "cell_type": "code",
   "execution_count": 103,
   "id": "13112f43",
   "metadata": {},
   "outputs": [
    {
     "name": "stdout",
     "output_type": "stream",
     "text": [
      "              precision    recall  f1-score   support\n",
      "\n",
      "           0       0.90      0.87      0.88      1257\n",
      "           1       0.87      0.90      0.89      1243\n",
      "\n",
      "    accuracy                           0.89      2500\n",
      "   macro avg       0.89      0.89      0.89      2500\n",
      "weighted avg       0.89      0.89      0.89      2500\n",
      "\n"
     ]
    }
   ],
   "source": [
    "SVCmodel = LinearSVC()\n",
    "SVCmodel.fit(X_train, y_train)\n",
    "model_evaluate(SVCmodel)"
   ]
  },
  {
   "cell_type": "code",
   "execution_count": 104,
   "id": "e4fd67be",
   "metadata": {},
   "outputs": [
    {
     "name": "stdout",
     "output_type": "stream",
     "text": [
      "              precision    recall  f1-score   support\n",
      "\n",
      "           0       0.91      0.87      0.89      1257\n",
      "           1       0.88      0.91      0.89      1243\n",
      "\n",
      "    accuracy                           0.89      2500\n",
      "   macro avg       0.89      0.89      0.89      2500\n",
      "weighted avg       0.89      0.89      0.89      2500\n",
      "\n"
     ]
    }
   ],
   "source": [
    "LRmodel = LogisticRegression(C = 2, max_iter = 1000, n_jobs=-1)\n",
    "LRmodel.fit(X_train, y_train)\n",
    "model_evaluate(LRmodel)"
   ]
  },
  {
   "cell_type": "code",
   "execution_count": 105,
   "id": "a2c2a76c",
   "metadata": {},
   "outputs": [
    {
     "name": "stdout",
     "output_type": "stream",
     "text": [
      "              precision    recall  f1-score   support\n",
      "\n",
      "           0       0.91      0.87      0.89      1257\n",
      "           1       0.88      0.91      0.89      1243\n",
      "\n",
      "    accuracy                           0.89      2500\n",
      "   macro avg       0.89      0.89      0.89      2500\n",
      "weighted avg       0.89      0.89      0.89      2500\n",
      "\n"
     ]
    }
   ],
   "source": [
    "# Pipeline!!\n",
    "from sklearn.pipeline import Pipeline\n",
    "\n",
    "X_train, X_test, y_train, y_test = train_test_split(processedtext, sentiment,\n",
    "                                                    test_size = 0.05, random_state = 0)\n",
    "\n",
    "pipe = Pipeline([('vectorizer', vectorizer), ('lr', LRmodel)])\n",
    "pipe.fit(X_train, y_train)\n",
    "\n",
    "model_evaluate(pipe)\n"
   ]
  },
  {
   "cell_type": "code",
   "execution_count": 22,
   "id": "07f45187",
   "metadata": {},
   "outputs": [
    {
     "name": "stdout",
     "output_type": "stream",
     "text": [
      "              precision    recall  f1-score   support\n",
      "\n",
      "           0       0.92      0.89      0.91      1257\n",
      "           1       0.90      0.92      0.91      1243\n",
      "\n",
      "    accuracy                           0.91      2500\n",
      "   macro avg       0.91      0.91      0.91      2500\n",
      "weighted avg       0.91      0.91      0.91      2500\n",
      "\n"
     ]
    }
   ],
   "source": [
    "with open('pipeline.pickle','wb') as f:\n",
    "    pickle.dump(pipe, f)\n",
    "    \n",
    "with open('pipeline.pickle', 'rb') as f:\n",
    "    loaded_pipe = pickle.load(f)\n",
    "    \n",
    "model_evaluate(loaded_pipe)"
   ]
  },
  {
   "cell_type": "code",
   "execution_count": 14,
   "id": "0d14b276",
   "metadata": {},
   "outputs": [],
   "source": [
    "with open('pipeline.pickle', 'rb') as f:\n",
    "    loaded_pipe = pickle.load(f)\n",
    "    \n",
    "# model_evaluate(loaded_pipe)"
   ]
  },
  {
   "cell_type": "code",
   "execution_count": 15,
   "id": "79a0a8a7",
   "metadata": {},
   "outputs": [
    {
     "name": "stdout",
     "output_type": "stream",
     "text": [
      "[('I hate twitter', 1, 'Negative'), ('May the Force be with you.', 1, 'Negative'), (\"Mr. Stark, I don't feel so good\", 1, 'Negative')]\n"
     ]
    }
   ],
   "source": [
    "def predict(model, text):\n",
    "    # Predict the sentiment\n",
    "    preprocessed_text = preprocess(text)\n",
    "    predictions = model.predict(preprocessed_text)\n",
    "\n",
    "    pred_to_label = {0: 'Positive', 1: 'Negative'}\n",
    "\n",
    "    # Make a list of text with sentiment.\n",
    "    data = []\n",
    "    for t, pred in zip(text, predictions):\n",
    "        data.append((t, pred, pred_to_label[pred]))\n",
    "\n",
    "    return data\n",
    "\n",
    "\n",
    "if __name__==\"__main__\":\n",
    "    # Text to classify should be in a list.\n",
    "    text = [\"I hate twitter\",\n",
    "            \"May the Force be with you.\",\n",
    "            \"Mr. Stark, I don't feel so good\"]\n",
    "    \n",
    "    predictions = predict(loaded_pipe, text)\n",
    "    print(predictions)\n"
   ]
  },
  {
   "cell_type": "markdown",
   "id": "2d384fd2",
   "metadata": {},
   "source": [
    "# m6 - predict sentiment arr "
   ]
  },
  {
   "cell_type": "code",
   "execution_count": 63,
   "id": "250d69c5",
   "metadata": {},
   "outputs": [],
   "source": [
    "# X_train = pd.read_csv('../../../ML/2_textClassification/data/X_train.csv')\n",
    "# y_train = pd.read_csv('../../../ML/2_textClassification/data/y_train.csv')\n",
    "# X_test = pd.read_csv('../../../ML/2_textClassification/data/X_test.csv')\n",
    "# y_test = pd.read_csv('../../../ML/2_textClassification/data/y_test.csv')\n",
    "\n",
    "# X_train=X_train.drop(['Unnamed: 0'],axis=1)\n",
    "# y_train=y_train.drop(['Unnamed: 0'],axis=1)\n",
    "# X_test=X_test.drop(['Unnamed: 0'],axis=1)\n",
    "# y_test=y_test.drop(['Unnamed: 0'],axis=1)\n",
    "\n",
    "# X_train = X_train.to_numpy()\n",
    "# y_train = y_train.to_numpy()\n",
    "# X_test = X_test.to_numpy()\n",
    "# y_test = y_test.to_numpy()"
   ]
  },
  {
   "cell_type": "code",
   "execution_count": 112,
   "id": "ae1d6e65",
   "metadata": {},
   "outputs": [
    {
     "data": {
      "text/plain": [
       "<47500x5000 sparse matrix of type '<class 'numpy.float64'>'\n",
       "\twith 4265836 stored elements in Compressed Sparse Row format>"
      ]
     },
     "execution_count": 112,
     "metadata": {},
     "output_type": "execute_result"
    }
   ],
   "source": [
    "X_train"
   ]
  },
  {
   "cell_type": "code",
   "execution_count": 114,
   "id": "05fb9f90",
   "metadata": {
    "scrolled": true
   },
   "outputs": [
    {
     "ename": "ValueError",
     "evalue": "cannot use sparse input in 'SVC' trained on dense data",
     "output_type": "error",
     "traceback": [
      "\u001b[0;31m---------------------------------------------------------------------------\u001b[0m",
      "\u001b[0;31mValueError\u001b[0m                                Traceback (most recent call last)",
      "Input \u001b[0;32mIn [114]\u001b[0m, in \u001b[0;36m<cell line: 33>\u001b[0;34m()\u001b[0m\n\u001b[1;32m     27\u001b[0m stack_model \u001b[38;5;241m=\u001b[39m StackingClassifier(\n\u001b[1;32m     28\u001b[0m     estimators \u001b[38;5;241m=\u001b[39m estimator_list, final_estimator \u001b[38;5;241m=\u001b[39m LogisticRegression()\n\u001b[1;32m     29\u001b[0m )\n\u001b[1;32m     31\u001b[0m stack_model\u001b[38;5;241m.\u001b[39mfit(X_train\u001b[38;5;241m.\u001b[39mtoarray(),y_train)\n\u001b[0;32m---> 33\u001b[0m y_train_pred \u001b[38;5;241m=\u001b[39m \u001b[43mstack_model\u001b[49m\u001b[38;5;241;43m.\u001b[39;49m\u001b[43mpredict\u001b[49m\u001b[43m(\u001b[49m\u001b[43mX_train\u001b[49m\u001b[43m)\u001b[49m\n\u001b[1;32m     34\u001b[0m y_test_pred \u001b[38;5;241m=\u001b[39m stack_model\u001b[38;5;241m.\u001b[39mpredict(X_test)\n\u001b[1;32m     37\u001b[0m \u001b[38;5;66;03m#training set model performance\u001b[39;00m\n\u001b[1;32m     38\u001b[0m \u001b[38;5;66;03m#Train set performance \u001b[39;00m\n",
      "File \u001b[0;32m~/.local/lib/python3.9/site-packages/sklearn/ensemble/_stacking.py:607\u001b[0m, in \u001b[0;36mStackingClassifier.predict\u001b[0;34m(self, X, **predict_params)\u001b[0m\n\u001b[1;32m    586\u001b[0m \u001b[38;5;129m@available_if\u001b[39m(_estimator_has(\u001b[38;5;124m\"\u001b[39m\u001b[38;5;124mpredict\u001b[39m\u001b[38;5;124m\"\u001b[39m))\n\u001b[1;32m    587\u001b[0m \u001b[38;5;28;01mdef\u001b[39;00m \u001b[38;5;21mpredict\u001b[39m(\u001b[38;5;28mself\u001b[39m, X, \u001b[38;5;241m*\u001b[39m\u001b[38;5;241m*\u001b[39mpredict_params):\n\u001b[1;32m    588\u001b[0m     \u001b[38;5;124;03m\"\"\"Predict target for X.\u001b[39;00m\n\u001b[1;32m    589\u001b[0m \n\u001b[1;32m    590\u001b[0m \u001b[38;5;124;03m    Parameters\u001b[39;00m\n\u001b[0;32m   (...)\u001b[0m\n\u001b[1;32m    605\u001b[0m \u001b[38;5;124;03m        Predicted targets.\u001b[39;00m\n\u001b[1;32m    606\u001b[0m \u001b[38;5;124;03m    \"\"\"\u001b[39;00m\n\u001b[0;32m--> 607\u001b[0m     y_pred \u001b[38;5;241m=\u001b[39m \u001b[38;5;28;43msuper\u001b[39;49m\u001b[43m(\u001b[49m\u001b[43m)\u001b[49m\u001b[38;5;241;43m.\u001b[39;49m\u001b[43mpredict\u001b[49m\u001b[43m(\u001b[49m\u001b[43mX\u001b[49m\u001b[43m,\u001b[49m\u001b[43m \u001b[49m\u001b[38;5;241;43m*\u001b[39;49m\u001b[38;5;241;43m*\u001b[39;49m\u001b[43mpredict_params\u001b[49m\u001b[43m)\u001b[49m\n\u001b[1;32m    608\u001b[0m     \u001b[38;5;28;01mreturn\u001b[39;00m \u001b[38;5;28mself\u001b[39m\u001b[38;5;241m.\u001b[39m_le\u001b[38;5;241m.\u001b[39minverse_transform(y_pred)\n",
      "File \u001b[0;32m~/.local/lib/python3.9/site-packages/sklearn/ensemble/_stacking.py:351\u001b[0m, in \u001b[0;36m_BaseStacking.predict\u001b[0;34m(self, X, **predict_params)\u001b[0m\n\u001b[1;32m    330\u001b[0m \u001b[38;5;124;03m\"\"\"Predict target for X.\u001b[39;00m\n\u001b[1;32m    331\u001b[0m \n\u001b[1;32m    332\u001b[0m \u001b[38;5;124;03mParameters\u001b[39;00m\n\u001b[0;32m   (...)\u001b[0m\n\u001b[1;32m    347\u001b[0m \u001b[38;5;124;03m    Predicted targets.\u001b[39;00m\n\u001b[1;32m    348\u001b[0m \u001b[38;5;124;03m\"\"\"\u001b[39;00m\n\u001b[1;32m    350\u001b[0m check_is_fitted(\u001b[38;5;28mself\u001b[39m)\n\u001b[0;32m--> 351\u001b[0m \u001b[38;5;28;01mreturn\u001b[39;00m \u001b[38;5;28mself\u001b[39m\u001b[38;5;241m.\u001b[39mfinal_estimator_\u001b[38;5;241m.\u001b[39mpredict(\u001b[38;5;28;43mself\u001b[39;49m\u001b[38;5;241;43m.\u001b[39;49m\u001b[43mtransform\u001b[49m\u001b[43m(\u001b[49m\u001b[43mX\u001b[49m\u001b[43m)\u001b[49m, \u001b[38;5;241m*\u001b[39m\u001b[38;5;241m*\u001b[39mpredict_params)\n",
      "File \u001b[0;32m~/.local/lib/python3.9/site-packages/sklearn/ensemble/_stacking.py:663\u001b[0m, in \u001b[0;36mStackingClassifier.transform\u001b[0;34m(self, X)\u001b[0m\n\u001b[1;32m    648\u001b[0m \u001b[38;5;28;01mdef\u001b[39;00m \u001b[38;5;21mtransform\u001b[39m(\u001b[38;5;28mself\u001b[39m, X):\n\u001b[1;32m    649\u001b[0m     \u001b[38;5;124;03m\"\"\"Return class labels or probabilities for X for each estimator.\u001b[39;00m\n\u001b[1;32m    650\u001b[0m \n\u001b[1;32m    651\u001b[0m \u001b[38;5;124;03m    Parameters\u001b[39;00m\n\u001b[0;32m   (...)\u001b[0m\n\u001b[1;32m    661\u001b[0m \u001b[38;5;124;03m        Prediction outputs for each estimator.\u001b[39;00m\n\u001b[1;32m    662\u001b[0m \u001b[38;5;124;03m    \"\"\"\u001b[39;00m\n\u001b[0;32m--> 663\u001b[0m     \u001b[38;5;28;01mreturn\u001b[39;00m \u001b[38;5;28;43mself\u001b[39;49m\u001b[38;5;241;43m.\u001b[39;49m\u001b[43m_transform\u001b[49m\u001b[43m(\u001b[49m\u001b[43mX\u001b[49m\u001b[43m)\u001b[49m\n",
      "File \u001b[0;32m~/.local/lib/python3.9/site-packages/sklearn/ensemble/_stacking.py:276\u001b[0m, in \u001b[0;36m_BaseStacking._transform\u001b[0;34m(self, X)\u001b[0m\n\u001b[1;32m    274\u001b[0m \u001b[38;5;124;03m\"\"\"Concatenate and return the predictions of the estimators.\"\"\"\u001b[39;00m\n\u001b[1;32m    275\u001b[0m check_is_fitted(\u001b[38;5;28mself\u001b[39m)\n\u001b[0;32m--> 276\u001b[0m predictions \u001b[38;5;241m=\u001b[39m [\n\u001b[1;32m    277\u001b[0m     \u001b[38;5;28mgetattr\u001b[39m(est, meth)(X)\n\u001b[1;32m    278\u001b[0m     \u001b[38;5;28;01mfor\u001b[39;00m est, meth \u001b[38;5;129;01min\u001b[39;00m \u001b[38;5;28mzip\u001b[39m(\u001b[38;5;28mself\u001b[39m\u001b[38;5;241m.\u001b[39mestimators_, \u001b[38;5;28mself\u001b[39m\u001b[38;5;241m.\u001b[39mstack_method_)\n\u001b[1;32m    279\u001b[0m     \u001b[38;5;28;01mif\u001b[39;00m est \u001b[38;5;241m!=\u001b[39m \u001b[38;5;124m\"\u001b[39m\u001b[38;5;124mdrop\u001b[39m\u001b[38;5;124m\"\u001b[39m\n\u001b[1;32m    280\u001b[0m ]\n\u001b[1;32m    281\u001b[0m \u001b[38;5;28;01mreturn\u001b[39;00m \u001b[38;5;28mself\u001b[39m\u001b[38;5;241m.\u001b[39m_concatenate_predictions(X, predictions)\n",
      "File \u001b[0;32m~/.local/lib/python3.9/site-packages/sklearn/ensemble/_stacking.py:277\u001b[0m, in \u001b[0;36m<listcomp>\u001b[0;34m(.0)\u001b[0m\n\u001b[1;32m    274\u001b[0m \u001b[38;5;124;03m\"\"\"Concatenate and return the predictions of the estimators.\"\"\"\u001b[39;00m\n\u001b[1;32m    275\u001b[0m check_is_fitted(\u001b[38;5;28mself\u001b[39m)\n\u001b[1;32m    276\u001b[0m predictions \u001b[38;5;241m=\u001b[39m [\n\u001b[0;32m--> 277\u001b[0m     \u001b[38;5;28;43mgetattr\u001b[39;49m\u001b[43m(\u001b[49m\u001b[43mest\u001b[49m\u001b[43m,\u001b[49m\u001b[43m \u001b[49m\u001b[43mmeth\u001b[49m\u001b[43m)\u001b[49m\u001b[43m(\u001b[49m\u001b[43mX\u001b[49m\u001b[43m)\u001b[49m\n\u001b[1;32m    278\u001b[0m     \u001b[38;5;28;01mfor\u001b[39;00m est, meth \u001b[38;5;129;01min\u001b[39;00m \u001b[38;5;28mzip\u001b[39m(\u001b[38;5;28mself\u001b[39m\u001b[38;5;241m.\u001b[39mestimators_, \u001b[38;5;28mself\u001b[39m\u001b[38;5;241m.\u001b[39mstack_method_)\n\u001b[1;32m    279\u001b[0m     \u001b[38;5;28;01mif\u001b[39;00m est \u001b[38;5;241m!=\u001b[39m \u001b[38;5;124m\"\u001b[39m\u001b[38;5;124mdrop\u001b[39m\u001b[38;5;124m\"\u001b[39m\n\u001b[1;32m    280\u001b[0m ]\n\u001b[1;32m    281\u001b[0m \u001b[38;5;28;01mreturn\u001b[39;00m \u001b[38;5;28mself\u001b[39m\u001b[38;5;241m.\u001b[39m_concatenate_predictions(X, predictions)\n",
      "File \u001b[0;32m~/.local/lib/python3.9/site-packages/sklearn/svm/_base.py:775\u001b[0m, in \u001b[0;36mBaseSVC.decision_function\u001b[0;34m(self, X)\u001b[0m\n\u001b[1;32m    748\u001b[0m \u001b[38;5;28;01mdef\u001b[39;00m \u001b[38;5;21mdecision_function\u001b[39m(\u001b[38;5;28mself\u001b[39m, X):\n\u001b[1;32m    749\u001b[0m     \u001b[38;5;124;03m\"\"\"Evaluate the decision function for the samples in X.\u001b[39;00m\n\u001b[1;32m    750\u001b[0m \n\u001b[1;32m    751\u001b[0m \u001b[38;5;124;03m    Parameters\u001b[39;00m\n\u001b[0;32m   (...)\u001b[0m\n\u001b[1;32m    773\u001b[0m \u001b[38;5;124;03m    transformation of ovo decision function.\u001b[39;00m\n\u001b[1;32m    774\u001b[0m \u001b[38;5;124;03m    \"\"\"\u001b[39;00m\n\u001b[0;32m--> 775\u001b[0m     dec \u001b[38;5;241m=\u001b[39m \u001b[38;5;28;43mself\u001b[39;49m\u001b[38;5;241;43m.\u001b[39;49m\u001b[43m_decision_function\u001b[49m\u001b[43m(\u001b[49m\u001b[43mX\u001b[49m\u001b[43m)\u001b[49m\n\u001b[1;32m    776\u001b[0m     \u001b[38;5;28;01mif\u001b[39;00m \u001b[38;5;28mself\u001b[39m\u001b[38;5;241m.\u001b[39mdecision_function_shape \u001b[38;5;241m==\u001b[39m \u001b[38;5;124m\"\u001b[39m\u001b[38;5;124movr\u001b[39m\u001b[38;5;124m\"\u001b[39m \u001b[38;5;129;01mand\u001b[39;00m \u001b[38;5;28mlen\u001b[39m(\u001b[38;5;28mself\u001b[39m\u001b[38;5;241m.\u001b[39mclasses_) \u001b[38;5;241m>\u001b[39m \u001b[38;5;241m2\u001b[39m:\n\u001b[1;32m    777\u001b[0m         \u001b[38;5;28;01mreturn\u001b[39;00m _ovr_decision_function(dec \u001b[38;5;241m<\u001b[39m \u001b[38;5;241m0\u001b[39m, \u001b[38;5;241m-\u001b[39mdec, \u001b[38;5;28mlen\u001b[39m(\u001b[38;5;28mself\u001b[39m\u001b[38;5;241m.\u001b[39mclasses_))\n",
      "File \u001b[0;32m~/.local/lib/python3.9/site-packages/sklearn/svm/_base.py:533\u001b[0m, in \u001b[0;36mBaseLibSVM._decision_function\u001b[0;34m(self, X)\u001b[0m\n\u001b[1;32m    519\u001b[0m \u001b[38;5;124;03m\"\"\"Evaluates the decision function for the samples in X.\u001b[39;00m\n\u001b[1;32m    520\u001b[0m \n\u001b[1;32m    521\u001b[0m \u001b[38;5;124;03mParameters\u001b[39;00m\n\u001b[0;32m   (...)\u001b[0m\n\u001b[1;32m    529\u001b[0m \u001b[38;5;124;03m    in the model.\u001b[39;00m\n\u001b[1;32m    530\u001b[0m \u001b[38;5;124;03m\"\"\"\u001b[39;00m\n\u001b[1;32m    531\u001b[0m \u001b[38;5;66;03m# NOTE: _validate_for_predict contains check for is_fitted\u001b[39;00m\n\u001b[1;32m    532\u001b[0m \u001b[38;5;66;03m# hence must be placed before any other attributes are used.\u001b[39;00m\n\u001b[0;32m--> 533\u001b[0m X \u001b[38;5;241m=\u001b[39m \u001b[38;5;28;43mself\u001b[39;49m\u001b[38;5;241;43m.\u001b[39;49m\u001b[43m_validate_for_predict\u001b[49m\u001b[43m(\u001b[49m\u001b[43mX\u001b[49m\u001b[43m)\u001b[49m\n\u001b[1;32m    534\u001b[0m X \u001b[38;5;241m=\u001b[39m \u001b[38;5;28mself\u001b[39m\u001b[38;5;241m.\u001b[39m_compute_kernel(X)\n\u001b[1;32m    536\u001b[0m \u001b[38;5;28;01mif\u001b[39;00m \u001b[38;5;28mself\u001b[39m\u001b[38;5;241m.\u001b[39m_sparse:\n",
      "File \u001b[0;32m~/.local/lib/python3.9/site-packages/sklearn/svm/_base.py:626\u001b[0m, in \u001b[0;36mBaseLibSVM._validate_for_predict\u001b[0;34m(self, X)\u001b[0m\n\u001b[1;32m    623\u001b[0m     X\u001b[38;5;241m.\u001b[39msort_indices()\n\u001b[1;32m    625\u001b[0m \u001b[38;5;28;01mif\u001b[39;00m sp\u001b[38;5;241m.\u001b[39missparse(X) \u001b[38;5;129;01mand\u001b[39;00m \u001b[38;5;129;01mnot\u001b[39;00m \u001b[38;5;28mself\u001b[39m\u001b[38;5;241m.\u001b[39m_sparse \u001b[38;5;129;01mand\u001b[39;00m \u001b[38;5;129;01mnot\u001b[39;00m callable(\u001b[38;5;28mself\u001b[39m\u001b[38;5;241m.\u001b[39mkernel):\n\u001b[0;32m--> 626\u001b[0m     \u001b[38;5;28;01mraise\u001b[39;00m \u001b[38;5;167;01mValueError\u001b[39;00m(\n\u001b[1;32m    627\u001b[0m         \u001b[38;5;124m\"\u001b[39m\u001b[38;5;124mcannot use sparse input in \u001b[39m\u001b[38;5;132;01m%r\u001b[39;00m\u001b[38;5;124m trained on dense data\u001b[39m\u001b[38;5;124m\"\u001b[39m\n\u001b[1;32m    628\u001b[0m         \u001b[38;5;241m%\u001b[39m \u001b[38;5;28mtype\u001b[39m(\u001b[38;5;28mself\u001b[39m)\u001b[38;5;241m.\u001b[39m\u001b[38;5;18m__name__\u001b[39m\n\u001b[1;32m    629\u001b[0m     )\n\u001b[1;32m    631\u001b[0m \u001b[38;5;28;01mif\u001b[39;00m \u001b[38;5;28mself\u001b[39m\u001b[38;5;241m.\u001b[39mkernel \u001b[38;5;241m==\u001b[39m \u001b[38;5;124m\"\u001b[39m\u001b[38;5;124mprecomputed\u001b[39m\u001b[38;5;124m\"\u001b[39m:\n\u001b[1;32m    632\u001b[0m     \u001b[38;5;28;01mif\u001b[39;00m X\u001b[38;5;241m.\u001b[39mshape[\u001b[38;5;241m1\u001b[39m] \u001b[38;5;241m!=\u001b[39m \u001b[38;5;28mself\u001b[39m\u001b[38;5;241m.\u001b[39mshape_fit_[\u001b[38;5;241m0\u001b[39m]:\n",
      "\u001b[0;31mValueError\u001b[0m: cannot use sparse input in 'SVC' trained on dense data"
     ]
    }
   ],
   "source": [
    "# from sklearn.svm import SVC\n",
    "# from sklearn.tree import DecisionTreeClassifier\n",
    "# from sklearn.neighbors import KNeighborsClassifier\n",
    "# from sklearn.naive_bayes import GaussianNB\n",
    "\n",
    "# from sklearn.metrics import accuracy_score\n",
    "# from sklearn.metrics import matthews_corrcoef\n",
    "# from sklearn.metrics import f1_score\n",
    "\n",
    "# from sklearn.ensemble import StackingClassifier\n",
    "# from sklearn.linear_model import LogisticRegression # meta lerner\n",
    "\n",
    "\n",
    "# svc = SVC(kernel='sigmoid',gamma=1.0)\n",
    "# knc = KNeighborsClassifier()\n",
    "# dtc = DecisionTreeClassifier(max_depth=5)\n",
    "# lrc = LogisticRegression(solver='liblinear',penalty='l1')\n",
    "# gnb = GaussianNB()\n",
    "\n",
    "# estimator_list = [\n",
    "#     ('SVC',svc),\n",
    "#     ('KNC',knc),\n",
    "#     ('DTC',dtc),\n",
    "#     ('LRC',lrc),\n",
    "#     ('GNB',gnb),   \n",
    "# ]\n",
    "# stack_model = StackingClassifier(\n",
    "#     estimators = estimator_list, final_estimator = LogisticRegression()\n",
    "# )\n",
    "\n",
    "# stack_model.fit(X_train.toarray(),y_train)\n",
    "\n",
    "# y_train_pred = stack_model.predict(X_train)\n",
    "# y_test_pred = stack_model.predict(X_test)\n",
    "\n",
    "\n",
    "# #training set model performance\n",
    "# #Train set performance \n",
    "# stack_model_train_accuracy = accuracy_score(y_train,y_train_pred)\n",
    "# stack_model_train_mcc = matthews_corrcoef(y_train,y_train_pred)\n",
    "# stack_model_train_f1 = f1_score(y_train,y_train_pred,average=\"weighted\")\n",
    "\n",
    "# #Test set performance\n",
    "# stack_model_test_accuracy = accuracy_score(y_test,y_test_pred)\n",
    "# stack_model_test_mcc = matthews_corrcoef(y_test,y_test_pred)\n",
    "# stack_model_test_f1 = f1_score(y_test,y_test_pred,average=\"weighted\")\n",
    "\n",
    "\n",
    "# #stacking model train accuracies : \n",
    "# print(\"stack_model : train accuracies\")\n",
    "# print (\"accuracy %s\" % stack_model_train_accuracy)\n",
    "# print(\"matthews corr coef : %s\" %stack_model_train_mcc)\n",
    "# print(\"f1 score : %s\" %stack_model_train_f1)\n",
    "\n",
    "# #stacking model test accuracies:\n",
    "# print(\"stack_model : test accuracies\")\n",
    "# print (\"accuracy %s\" % stack_model_test_accuracy)\n",
    "# print(\"matthews corr coef : %s\" %stack_model_test_mcc)\n",
    "# print(\"f1 score : %s\" %stack_model_test_f1)"
   ]
  },
  {
   "cell_type": "code",
   "execution_count": null,
   "id": "534ab358",
   "metadata": {},
   "outputs": [],
   "source": [
    "model_evaluate(stack_model)"
   ]
  },
  {
   "cell_type": "code",
   "execution_count": null,
   "id": "5065bfe3",
   "metadata": {},
   "outputs": [],
   "source": [
    "# import gensim \n",
    "# from nltk import sent_tokenize \n",
    "# from gensim.utils import simple_preprocess\n",
    "\n",
    "# all_reviews = []\n",
    "# for doc in df_movie['review']:\n",
    "#     raw_sent = sent_tokenize(doc)\n",
    "#     for sent in raw_sent:\n",
    "#         all_reviews.append(simple_preprocess(sent))"
   ]
  },
  {
   "cell_type": "code",
   "execution_count": null,
   "id": "d7ab5ccc",
   "metadata": {},
   "outputs": [],
   "source": [
    "# model_w2v_ml = gensim.models.Word2Vec(\n",
    "# window=10,\n",
    "# min_count=2)"
   ]
  },
  {
   "cell_type": "code",
   "execution_count": null,
   "id": "6b4545db",
   "metadata": {},
   "outputs": [],
   "source": [
    "# model_w2v_ml.build_vocab(all_reviews)"
   ]
  },
  {
   "cell_type": "code",
   "execution_count": null,
   "id": "38016522",
   "metadata": {},
   "outputs": [],
   "source": [
    "# model_w2v_ml.train(all_reviews,total_examples=model_w2v_ml.corpus_count,epochs = model_w2v_ml.epochs)"
   ]
  },
  {
   "cell_type": "code",
   "execution_count": null,
   "id": "d4b9f2d7",
   "metadata": {},
   "outputs": [],
   "source": [
    "# def document_vector(doc):\n",
    "#     doc= [word for word in doc.split() if word in model_w2v_ml.wv.index_to_key]\n",
    "#     if(len(doc) == 0):\n",
    "#         return np.zeros(100)\n",
    "#     return np.mean(model_w2v_ml.wv[doc],axis=0)"
   ]
  },
  {
   "cell_type": "code",
   "execution_count": null,
   "id": "0fe27eea",
   "metadata": {},
   "outputs": [],
   "source": [
    "# from tqdm import tqdm\n",
    "# X = []\n",
    "# for doc in tqdm(df_movie['review'].values):\n",
    "#     X.append(document_vector(doc))"
   ]
  },
  {
   "cell_type": "code",
   "execution_count": 66,
   "id": "30ef6fc8",
   "metadata": {},
   "outputs": [],
   "source": []
  },
  {
   "cell_type": "code",
   "execution_count": 67,
   "id": "173f4a34",
   "metadata": {},
   "outputs": [
    {
     "ename": "AttributeError",
     "evalue": "'numpy.ndarray' object has no attribute 'lower'",
     "output_type": "error",
     "traceback": [
      "\u001b[0;31m---------------------------------------------------------------------------\u001b[0m",
      "\u001b[0;31mAttributeError\u001b[0m                            Traceback (most recent call last)",
      "Input \u001b[0;32mIn [67]\u001b[0m, in \u001b[0;36m<cell line: 5>\u001b[0;34m()\u001b[0m\n\u001b[1;32m      2\u001b[0m \u001b[38;5;28;01mfrom\u001b[39;00m \u001b[38;5;21;01msklearn\u001b[39;00m\u001b[38;5;21;01m.\u001b[39;00m\u001b[38;5;21;01mpipeline\u001b[39;00m \u001b[38;5;28;01mimport\u001b[39;00m Pipeline\n\u001b[1;32m      4\u001b[0m pipe \u001b[38;5;241m=\u001b[39m Pipeline([(\u001b[38;5;124m'\u001b[39m\u001b[38;5;124mvectorizer\u001b[39m\u001b[38;5;124m'\u001b[39m, vectorizer_tfidf), (\u001b[38;5;124m'\u001b[39m\u001b[38;5;124mstack\u001b[39m\u001b[38;5;124m'\u001b[39m, stack_model)])\n\u001b[0;32m----> 5\u001b[0m \u001b[43mpipe\u001b[49m\u001b[38;5;241;43m.\u001b[39;49m\u001b[43mfit\u001b[49m\u001b[43m(\u001b[49m\u001b[43mX_train\u001b[49m\u001b[43m,\u001b[49m\u001b[43m \u001b[49m\u001b[43my_train\u001b[49m\u001b[43m)\u001b[49m\n\u001b[1;32m      7\u001b[0m model_evaluate(pipe)\n",
      "File \u001b[0;32m~/.local/lib/python3.9/site-packages/sklearn/pipeline.py:378\u001b[0m, in \u001b[0;36mPipeline.fit\u001b[0;34m(self, X, y, **fit_params)\u001b[0m\n\u001b[1;32m    352\u001b[0m \u001b[38;5;124;03m\"\"\"Fit the model.\u001b[39;00m\n\u001b[1;32m    353\u001b[0m \n\u001b[1;32m    354\u001b[0m \u001b[38;5;124;03mFit all the transformers one after the other and transform the\u001b[39;00m\n\u001b[0;32m   (...)\u001b[0m\n\u001b[1;32m    375\u001b[0m \u001b[38;5;124;03m    Pipeline with fitted steps.\u001b[39;00m\n\u001b[1;32m    376\u001b[0m \u001b[38;5;124;03m\"\"\"\u001b[39;00m\n\u001b[1;32m    377\u001b[0m fit_params_steps \u001b[38;5;241m=\u001b[39m \u001b[38;5;28mself\u001b[39m\u001b[38;5;241m.\u001b[39m_check_fit_params(\u001b[38;5;241m*\u001b[39m\u001b[38;5;241m*\u001b[39mfit_params)\n\u001b[0;32m--> 378\u001b[0m Xt \u001b[38;5;241m=\u001b[39m \u001b[38;5;28;43mself\u001b[39;49m\u001b[38;5;241;43m.\u001b[39;49m\u001b[43m_fit\u001b[49m\u001b[43m(\u001b[49m\u001b[43mX\u001b[49m\u001b[43m,\u001b[49m\u001b[43m \u001b[49m\u001b[43my\u001b[49m\u001b[43m,\u001b[49m\u001b[43m \u001b[49m\u001b[38;5;241;43m*\u001b[39;49m\u001b[38;5;241;43m*\u001b[39;49m\u001b[43mfit_params_steps\u001b[49m\u001b[43m)\u001b[49m\n\u001b[1;32m    379\u001b[0m \u001b[38;5;28;01mwith\u001b[39;00m _print_elapsed_time(\u001b[38;5;124m\"\u001b[39m\u001b[38;5;124mPipeline\u001b[39m\u001b[38;5;124m\"\u001b[39m, \u001b[38;5;28mself\u001b[39m\u001b[38;5;241m.\u001b[39m_log_message(\u001b[38;5;28mlen\u001b[39m(\u001b[38;5;28mself\u001b[39m\u001b[38;5;241m.\u001b[39msteps) \u001b[38;5;241m-\u001b[39m \u001b[38;5;241m1\u001b[39m)):\n\u001b[1;32m    380\u001b[0m     \u001b[38;5;28;01mif\u001b[39;00m \u001b[38;5;28mself\u001b[39m\u001b[38;5;241m.\u001b[39m_final_estimator \u001b[38;5;241m!=\u001b[39m \u001b[38;5;124m\"\u001b[39m\u001b[38;5;124mpassthrough\u001b[39m\u001b[38;5;124m\"\u001b[39m:\n",
      "File \u001b[0;32m~/.local/lib/python3.9/site-packages/sklearn/pipeline.py:336\u001b[0m, in \u001b[0;36mPipeline._fit\u001b[0;34m(self, X, y, **fit_params_steps)\u001b[0m\n\u001b[1;32m    334\u001b[0m     cloned_transformer \u001b[38;5;241m=\u001b[39m clone(transformer)\n\u001b[1;32m    335\u001b[0m \u001b[38;5;66;03m# Fit or load from cache the current transformer\u001b[39;00m\n\u001b[0;32m--> 336\u001b[0m X, fitted_transformer \u001b[38;5;241m=\u001b[39m \u001b[43mfit_transform_one_cached\u001b[49m\u001b[43m(\u001b[49m\n\u001b[1;32m    337\u001b[0m \u001b[43m    \u001b[49m\u001b[43mcloned_transformer\u001b[49m\u001b[43m,\u001b[49m\n\u001b[1;32m    338\u001b[0m \u001b[43m    \u001b[49m\u001b[43mX\u001b[49m\u001b[43m,\u001b[49m\n\u001b[1;32m    339\u001b[0m \u001b[43m    \u001b[49m\u001b[43my\u001b[49m\u001b[43m,\u001b[49m\n\u001b[1;32m    340\u001b[0m \u001b[43m    \u001b[49m\u001b[38;5;28;43;01mNone\u001b[39;49;00m\u001b[43m,\u001b[49m\n\u001b[1;32m    341\u001b[0m \u001b[43m    \u001b[49m\u001b[43mmessage_clsname\u001b[49m\u001b[38;5;241;43m=\u001b[39;49m\u001b[38;5;124;43m\"\u001b[39;49m\u001b[38;5;124;43mPipeline\u001b[39;49m\u001b[38;5;124;43m\"\u001b[39;49m\u001b[43m,\u001b[49m\n\u001b[1;32m    342\u001b[0m \u001b[43m    \u001b[49m\u001b[43mmessage\u001b[49m\u001b[38;5;241;43m=\u001b[39;49m\u001b[38;5;28;43mself\u001b[39;49m\u001b[38;5;241;43m.\u001b[39;49m\u001b[43m_log_message\u001b[49m\u001b[43m(\u001b[49m\u001b[43mstep_idx\u001b[49m\u001b[43m)\u001b[49m\u001b[43m,\u001b[49m\n\u001b[1;32m    343\u001b[0m \u001b[43m    \u001b[49m\u001b[38;5;241;43m*\u001b[39;49m\u001b[38;5;241;43m*\u001b[39;49m\u001b[43mfit_params_steps\u001b[49m\u001b[43m[\u001b[49m\u001b[43mname\u001b[49m\u001b[43m]\u001b[49m\u001b[43m,\u001b[49m\n\u001b[1;32m    344\u001b[0m \u001b[43m\u001b[49m\u001b[43m)\u001b[49m\n\u001b[1;32m    345\u001b[0m \u001b[38;5;66;03m# Replace the transformer of the step with the fitted\u001b[39;00m\n\u001b[1;32m    346\u001b[0m \u001b[38;5;66;03m# transformer. This is necessary when loading the transformer\u001b[39;00m\n\u001b[1;32m    347\u001b[0m \u001b[38;5;66;03m# from the cache.\u001b[39;00m\n\u001b[1;32m    348\u001b[0m \u001b[38;5;28mself\u001b[39m\u001b[38;5;241m.\u001b[39msteps[step_idx] \u001b[38;5;241m=\u001b[39m (name, fitted_transformer)\n",
      "File \u001b[0;32m~/.local/lib/python3.9/site-packages/joblib/memory.py:352\u001b[0m, in \u001b[0;36mNotMemorizedFunc.__call__\u001b[0;34m(self, *args, **kwargs)\u001b[0m\n\u001b[1;32m    351\u001b[0m \u001b[38;5;28;01mdef\u001b[39;00m \u001b[38;5;21m__call__\u001b[39m(\u001b[38;5;28mself\u001b[39m, \u001b[38;5;241m*\u001b[39margs, \u001b[38;5;241m*\u001b[39m\u001b[38;5;241m*\u001b[39mkwargs):\n\u001b[0;32m--> 352\u001b[0m     \u001b[38;5;28;01mreturn\u001b[39;00m \u001b[38;5;28;43mself\u001b[39;49m\u001b[38;5;241;43m.\u001b[39;49m\u001b[43mfunc\u001b[49m\u001b[43m(\u001b[49m\u001b[38;5;241;43m*\u001b[39;49m\u001b[43margs\u001b[49m\u001b[43m,\u001b[49m\u001b[43m \u001b[49m\u001b[38;5;241;43m*\u001b[39;49m\u001b[38;5;241;43m*\u001b[39;49m\u001b[43mkwargs\u001b[49m\u001b[43m)\u001b[49m\n",
      "File \u001b[0;32m~/.local/lib/python3.9/site-packages/sklearn/pipeline.py:870\u001b[0m, in \u001b[0;36m_fit_transform_one\u001b[0;34m(transformer, X, y, weight, message_clsname, message, **fit_params)\u001b[0m\n\u001b[1;32m    868\u001b[0m \u001b[38;5;28;01mwith\u001b[39;00m _print_elapsed_time(message_clsname, message):\n\u001b[1;32m    869\u001b[0m     \u001b[38;5;28;01mif\u001b[39;00m \u001b[38;5;28mhasattr\u001b[39m(transformer, \u001b[38;5;124m\"\u001b[39m\u001b[38;5;124mfit_transform\u001b[39m\u001b[38;5;124m\"\u001b[39m):\n\u001b[0;32m--> 870\u001b[0m         res \u001b[38;5;241m=\u001b[39m \u001b[43mtransformer\u001b[49m\u001b[38;5;241;43m.\u001b[39;49m\u001b[43mfit_transform\u001b[49m\u001b[43m(\u001b[49m\u001b[43mX\u001b[49m\u001b[43m,\u001b[49m\u001b[43m \u001b[49m\u001b[43my\u001b[49m\u001b[43m,\u001b[49m\u001b[43m \u001b[49m\u001b[38;5;241;43m*\u001b[39;49m\u001b[38;5;241;43m*\u001b[39;49m\u001b[43mfit_params\u001b[49m\u001b[43m)\u001b[49m\n\u001b[1;32m    871\u001b[0m     \u001b[38;5;28;01melse\u001b[39;00m:\n\u001b[1;32m    872\u001b[0m         res \u001b[38;5;241m=\u001b[39m transformer\u001b[38;5;241m.\u001b[39mfit(X, y, \u001b[38;5;241m*\u001b[39m\u001b[38;5;241m*\u001b[39mfit_params)\u001b[38;5;241m.\u001b[39mtransform(X)\n",
      "File \u001b[0;32m~/.local/lib/python3.9/site-packages/sklearn/feature_extraction/text.py:2079\u001b[0m, in \u001b[0;36mTfidfVectorizer.fit_transform\u001b[0;34m(self, raw_documents, y)\u001b[0m\n\u001b[1;32m   2072\u001b[0m \u001b[38;5;28mself\u001b[39m\u001b[38;5;241m.\u001b[39m_check_params()\n\u001b[1;32m   2073\u001b[0m \u001b[38;5;28mself\u001b[39m\u001b[38;5;241m.\u001b[39m_tfidf \u001b[38;5;241m=\u001b[39m TfidfTransformer(\n\u001b[1;32m   2074\u001b[0m     norm\u001b[38;5;241m=\u001b[39m\u001b[38;5;28mself\u001b[39m\u001b[38;5;241m.\u001b[39mnorm,\n\u001b[1;32m   2075\u001b[0m     use_idf\u001b[38;5;241m=\u001b[39m\u001b[38;5;28mself\u001b[39m\u001b[38;5;241m.\u001b[39muse_idf,\n\u001b[1;32m   2076\u001b[0m     smooth_idf\u001b[38;5;241m=\u001b[39m\u001b[38;5;28mself\u001b[39m\u001b[38;5;241m.\u001b[39msmooth_idf,\n\u001b[1;32m   2077\u001b[0m     sublinear_tf\u001b[38;5;241m=\u001b[39m\u001b[38;5;28mself\u001b[39m\u001b[38;5;241m.\u001b[39msublinear_tf,\n\u001b[1;32m   2078\u001b[0m )\n\u001b[0;32m-> 2079\u001b[0m X \u001b[38;5;241m=\u001b[39m \u001b[38;5;28;43msuper\u001b[39;49m\u001b[43m(\u001b[49m\u001b[43m)\u001b[49m\u001b[38;5;241;43m.\u001b[39;49m\u001b[43mfit_transform\u001b[49m\u001b[43m(\u001b[49m\u001b[43mraw_documents\u001b[49m\u001b[43m)\u001b[49m\n\u001b[1;32m   2080\u001b[0m \u001b[38;5;28mself\u001b[39m\u001b[38;5;241m.\u001b[39m_tfidf\u001b[38;5;241m.\u001b[39mfit(X)\n\u001b[1;32m   2081\u001b[0m \u001b[38;5;66;03m# X is already a transformed view of raw_documents so\u001b[39;00m\n\u001b[1;32m   2082\u001b[0m \u001b[38;5;66;03m# we set copy to False\u001b[39;00m\n",
      "File \u001b[0;32m~/.local/lib/python3.9/site-packages/sklearn/feature_extraction/text.py:1338\u001b[0m, in \u001b[0;36mCountVectorizer.fit_transform\u001b[0;34m(self, raw_documents, y)\u001b[0m\n\u001b[1;32m   1330\u001b[0m             warnings\u001b[38;5;241m.\u001b[39mwarn(\n\u001b[1;32m   1331\u001b[0m                 \u001b[38;5;124m\"\u001b[39m\u001b[38;5;124mUpper case characters found in\u001b[39m\u001b[38;5;124m\"\u001b[39m\n\u001b[1;32m   1332\u001b[0m                 \u001b[38;5;124m\"\u001b[39m\u001b[38;5;124m vocabulary while \u001b[39m\u001b[38;5;124m'\u001b[39m\u001b[38;5;124mlowercase\u001b[39m\u001b[38;5;124m'\u001b[39m\u001b[38;5;124m\"\u001b[39m\n\u001b[1;32m   1333\u001b[0m                 \u001b[38;5;124m\"\u001b[39m\u001b[38;5;124m is True. These entries will not\u001b[39m\u001b[38;5;124m\"\u001b[39m\n\u001b[1;32m   1334\u001b[0m                 \u001b[38;5;124m\"\u001b[39m\u001b[38;5;124m be matched with any documents\u001b[39m\u001b[38;5;124m\"\u001b[39m\n\u001b[1;32m   1335\u001b[0m             )\n\u001b[1;32m   1336\u001b[0m             \u001b[38;5;28;01mbreak\u001b[39;00m\n\u001b[0;32m-> 1338\u001b[0m vocabulary, X \u001b[38;5;241m=\u001b[39m \u001b[38;5;28;43mself\u001b[39;49m\u001b[38;5;241;43m.\u001b[39;49m\u001b[43m_count_vocab\u001b[49m\u001b[43m(\u001b[49m\u001b[43mraw_documents\u001b[49m\u001b[43m,\u001b[49m\u001b[43m \u001b[49m\u001b[38;5;28;43mself\u001b[39;49m\u001b[38;5;241;43m.\u001b[39;49m\u001b[43mfixed_vocabulary_\u001b[49m\u001b[43m)\u001b[49m\n\u001b[1;32m   1340\u001b[0m \u001b[38;5;28;01mif\u001b[39;00m \u001b[38;5;28mself\u001b[39m\u001b[38;5;241m.\u001b[39mbinary:\n\u001b[1;32m   1341\u001b[0m     X\u001b[38;5;241m.\u001b[39mdata\u001b[38;5;241m.\u001b[39mfill(\u001b[38;5;241m1\u001b[39m)\n",
      "File \u001b[0;32m~/.local/lib/python3.9/site-packages/sklearn/feature_extraction/text.py:1209\u001b[0m, in \u001b[0;36mCountVectorizer._count_vocab\u001b[0;34m(self, raw_documents, fixed_vocab)\u001b[0m\n\u001b[1;32m   1207\u001b[0m \u001b[38;5;28;01mfor\u001b[39;00m doc \u001b[38;5;129;01min\u001b[39;00m raw_documents:\n\u001b[1;32m   1208\u001b[0m     feature_counter \u001b[38;5;241m=\u001b[39m {}\n\u001b[0;32m-> 1209\u001b[0m     \u001b[38;5;28;01mfor\u001b[39;00m feature \u001b[38;5;129;01min\u001b[39;00m \u001b[43manalyze\u001b[49m\u001b[43m(\u001b[49m\u001b[43mdoc\u001b[49m\u001b[43m)\u001b[49m:\n\u001b[1;32m   1210\u001b[0m         \u001b[38;5;28;01mtry\u001b[39;00m:\n\u001b[1;32m   1211\u001b[0m             feature_idx \u001b[38;5;241m=\u001b[39m vocabulary[feature]\n",
      "File \u001b[0;32m~/.local/lib/python3.9/site-packages/sklearn/feature_extraction/text.py:111\u001b[0m, in \u001b[0;36m_analyze\u001b[0;34m(doc, analyzer, tokenizer, ngrams, preprocessor, decoder, stop_words)\u001b[0m\n\u001b[1;32m    109\u001b[0m \u001b[38;5;28;01melse\u001b[39;00m:\n\u001b[1;32m    110\u001b[0m     \u001b[38;5;28;01mif\u001b[39;00m preprocessor \u001b[38;5;129;01mis\u001b[39;00m \u001b[38;5;129;01mnot\u001b[39;00m \u001b[38;5;28;01mNone\u001b[39;00m:\n\u001b[0;32m--> 111\u001b[0m         doc \u001b[38;5;241m=\u001b[39m \u001b[43mpreprocessor\u001b[49m\u001b[43m(\u001b[49m\u001b[43mdoc\u001b[49m\u001b[43m)\u001b[49m\n\u001b[1;32m    112\u001b[0m     \u001b[38;5;28;01mif\u001b[39;00m tokenizer \u001b[38;5;129;01mis\u001b[39;00m \u001b[38;5;129;01mnot\u001b[39;00m \u001b[38;5;28;01mNone\u001b[39;00m:\n\u001b[1;32m    113\u001b[0m         doc \u001b[38;5;241m=\u001b[39m tokenizer(doc)\n",
      "File \u001b[0;32m~/.local/lib/python3.9/site-packages/sklearn/feature_extraction/text.py:69\u001b[0m, in \u001b[0;36m_preprocess\u001b[0;34m(doc, accent_function, lower)\u001b[0m\n\u001b[1;32m     50\u001b[0m \u001b[38;5;124;03m\"\"\"Chain together an optional series of text preprocessing steps to\u001b[39;00m\n\u001b[1;32m     51\u001b[0m \u001b[38;5;124;03mapply to a document.\u001b[39;00m\n\u001b[1;32m     52\u001b[0m \n\u001b[0;32m   (...)\u001b[0m\n\u001b[1;32m     66\u001b[0m \u001b[38;5;124;03m    preprocessed string\u001b[39;00m\n\u001b[1;32m     67\u001b[0m \u001b[38;5;124;03m\"\"\"\u001b[39;00m\n\u001b[1;32m     68\u001b[0m \u001b[38;5;28;01mif\u001b[39;00m lower:\n\u001b[0;32m---> 69\u001b[0m     doc \u001b[38;5;241m=\u001b[39m \u001b[43mdoc\u001b[49m\u001b[38;5;241;43m.\u001b[39;49m\u001b[43mlower\u001b[49m()\n\u001b[1;32m     70\u001b[0m \u001b[38;5;28;01mif\u001b[39;00m accent_function \u001b[38;5;129;01mis\u001b[39;00m \u001b[38;5;129;01mnot\u001b[39;00m \u001b[38;5;28;01mNone\u001b[39;00m:\n\u001b[1;32m     71\u001b[0m     doc \u001b[38;5;241m=\u001b[39m accent_function(doc)\n",
      "\u001b[0;31mAttributeError\u001b[0m: 'numpy.ndarray' object has no attribute 'lower'"
     ]
    }
   ],
   "source": [
    "# # Pipeline!!\n",
    "# from sklearn.pipeline import Pipeline\n",
    "\n",
    "# X_train, X_test, y_train, y_test = train_test_split(processedtext, sentiment,\n",
    "#                                                     test_size = 0.05, random_state = 0)\n",
    "\n",
    "# pipe = Pipeline([('vectorizer', vectorizer), ('stack', stack_model)])\n",
    "# pipe.fit(X_train, y_train)\n",
    "\n",
    "# model_evaluate(pipe)\n"
   ]
  },
  {
   "cell_type": "code",
   "execution_count": null,
   "id": "ed73d7b8",
   "metadata": {},
   "outputs": [],
   "source": [
    "# with open('pipeline.pickle','wb') as f:\n",
    "#     pickle.dump(pipe, f)\n",
    "    \n"
   ]
  },
  {
   "cell_type": "code",
   "execution_count": 13,
   "id": "6c961707",
   "metadata": {},
   "outputs": [],
   "source": [
    "with open('pipeline.pickle', 'rb') as f:\n",
    "    loaded_pipe = pickle.load(f)\n",
    "    \n",
    "# model_evaluate(loaded_pipe)"
   ]
  },
  {
   "cell_type": "code",
   "execution_count": null,
   "id": "ae354f7d",
   "metadata": {},
   "outputs": [],
   "source": [
    "# def predict(model, text):\n",
    "#     # Predict the sentiment\n",
    "#     preprocessed_text = preprocess(text)\n",
    "#     predictions = model.predict(preprocessed_text)\n",
    "\n",
    "#     pred_to_label = {0: 'Positive', 1: 'Negative'}\n",
    "\n",
    "#     # Make a list of text with sentiment.\n",
    "#     data = []\n",
    "#     for t, pred in zip(text, predictions):\n",
    "#         data.append((t, pred, pred_to_label[pred]))\n",
    "\n",
    "#     return data\n",
    "\n",
    "\n",
    "# if __name__==\"__main__\":\n",
    "#     # Text to classify should be in a list.\n",
    "#     text = [\"I hate twitter\",\n",
    "#             \"May the Force be with you.\",\n",
    "#             \"Mr. Stark, I don't feel so good\"]\n",
    "    \n",
    "#     predictions = predict(loaded_pipe, text)\n",
    "#     print(predictions)\n"
   ]
  },
  {
   "cell_type": "code",
   "execution_count": null,
   "id": "62437cbd",
   "metadata": {},
   "outputs": [],
   "source": []
  },
  {
   "cell_type": "code",
   "execution_count": null,
   "id": "0a660e2c",
   "metadata": {},
   "outputs": [],
   "source": []
  },
  {
   "cell_type": "code",
   "execution_count": null,
   "id": "3ec4bbd9",
   "metadata": {},
   "outputs": [],
   "source": []
  },
  {
   "cell_type": "markdown",
   "id": "658261cb",
   "metadata": {},
   "source": [
    "# data from mongodb for m1,m2,m3,m4,m5:"
   ]
  },
  {
   "cell_type": "code",
   "execution_count": 16,
   "id": "274e108a",
   "metadata": {},
   "outputs": [],
   "source": [
    "import pymongo\n",
    "import pandas as pd \n",
    "import datetime"
   ]
  },
  {
   "cell_type": "code",
   "execution_count": 17,
   "id": "60009398",
   "metadata": {},
   "outputs": [],
   "source": [
    "mongo_client = pymongo.MongoClient(\"mongodb://localhost:27018\")"
   ]
  },
  {
   "cell_type": "code",
   "execution_count": 18,
   "id": "b1908b45",
   "metadata": {},
   "outputs": [],
   "source": [
    "dlom_server_mus2_orderclient = mongo_client[\"dlom_server_mus2_orderclient\"]\n",
    "dlom_server_mus2_orderlogs = mongo_client[\"dlom_server_mus2_orderlogs\"]"
   ]
  },
  {
   "cell_type": "code",
   "execution_count": 19,
   "id": "7e4d66ba",
   "metadata": {},
   "outputs": [
    {
     "name": "stdout",
     "output_type": "stream",
     "text": [
      "Database(MongoClient(host=['localhost:27018'], document_class=dict, tz_aware=False, connect=True), 'dlom_server_mus2_orderclient')\n",
      "Database(MongoClient(host=['localhost:27018'], document_class=dict, tz_aware=False, connect=True), 'dlom_server_mus2_orderlogs')\n"
     ]
    }
   ],
   "source": [
    "print(dlom_server_mus2_orderclient)\n",
    "print(dlom_server_mus2_orderlogs)"
   ]
  },
  {
   "cell_type": "code",
   "execution_count": 20,
   "id": "2c0afae5",
   "metadata": {},
   "outputs": [
    {
     "name": "stdout",
     "output_type": "stream",
     "text": [
      "Collection(Database(MongoClient(host=['localhost:27018'], document_class=dict, tz_aware=False, connect=True), 'dlom_server_mus2_orderclient'), 'dlomorders')\n"
     ]
    }
   ],
   "source": [
    "dlom_orders_collection = dlom_server_mus2_orderclient[\"dlomorders\"]\n",
    "print(dlom_orders_collection)"
   ]
  },
  {
   "cell_type": "code",
   "execution_count": 21,
   "id": "42cc8bef",
   "metadata": {},
   "outputs": [
    {
     "name": "stdout",
     "output_type": "stream",
     "text": [
      "Collection(Database(MongoClient(host=['localhost:27018'], document_class=dict, tz_aware=False, connect=True), 'dlom_server_mus2_orderclient'), 'dlomclients')\n"
     ]
    }
   ],
   "source": [
    "dlom_clients_collection =  dlom_server_mus2_orderclient[\"dlomclients\"]\n",
    "print(dlom_clients_collection)"
   ]
  },
  {
   "cell_type": "code",
   "execution_count": 22,
   "id": "46bc440d",
   "metadata": {},
   "outputs": [
    {
     "name": "stdout",
     "output_type": "stream",
     "text": [
      "Collection(Database(MongoClient(host=['localhost:27018'], document_class=dict, tz_aware=False, connect=True), 'dlom_server_mus2_orderlogs'), 'orderlogs')\n"
     ]
    }
   ],
   "source": [
    "dlom_orderlogs_collection = dlom_server_mus2_orderlogs[\"orderlogs\"]\n",
    "print(dlom_orderlogs_collection)"
   ]
  },
  {
   "cell_type": "code",
   "execution_count": 23,
   "id": "1b56152c",
   "metadata": {},
   "outputs": [
    {
     "data": {
      "text/plain": [
       "{'_id': ObjectId('63ce7e543cb25e08b646e2e8'),\n",
       " 'clientId': ObjectId('63ce7e473cb25e08b646e2e0'),\n",
       " 'salesperson': '63d57088175d4fbd6cb97e70',\n",
       " 'salesOrder': {'distributorName': 'company1114',\n",
       "  'distributorDetails': 'addr11',\n",
       "  'voucherNo': 'vno23',\n",
       "  'dated': '2023-02-08',\n",
       "  'modeTermsOfPayment': 'mode1',\n",
       "  'buyerRefOrderNo': 'buyer12',\n",
       "  'otherRef': 'oref2',\n",
       "  'invoiceTo': 'invto2',\n",
       "  'despatchThrough': 'despt',\n",
       "  'destination': 'dest',\n",
       "  'termsOfDelivery': 'terms',\n",
       "  'soTable': [{'siNo': 0,\n",
       "    'descriptionOfGoods': 'desc1',\n",
       "    'dueOn': '2023-02-22',\n",
       "    'qty': 100,\n",
       "    'rate': '100',\n",
       "    'per': 'unit',\n",
       "    'amount': '10000',\n",
       "    '_id': ObjectId('63faed58f8c0a4de3b6742a4')}],\n",
       "  'totalQty': 100,\n",
       "  'totalAmt': '10000',\n",
       "  'amtInWords': 'ten thousand only'},\n",
       " 'invoice': {'distributorName': 'company1114',\n",
       "  'distributorDetails': 'addr11',\n",
       "  'invoiceNo': 'inv122',\n",
       "  'dated': '2023-02-25',\n",
       "  'deliveryNote': 'delnote1',\n",
       "  'supplierRef': 'sref1',\n",
       "  'otherRef': 'orref2',\n",
       "  'client': 'cli2',\n",
       "  'despatchDocNo': 'des',\n",
       "  'deliveryNoteDate': '2023-02-13',\n",
       "  'despatchedThrough': 'des',\n",
       "  'destination': 'des',\n",
       "  'invTable': [{'siNo': 0,\n",
       "    'descriptionOfGoods': 'prodsku99',\n",
       "    'hsnSAC': 'hsn1',\n",
       "    'GSTRate': '9',\n",
       "    'qty': 1,\n",
       "    'rate': '988',\n",
       "    'per': 'unit',\n",
       "    'amount': '988',\n",
       "    '_id': ObjectId('63faed58f8c0a4de3b6742a1')},\n",
       "   {'siNo': 0,\n",
       "    'descriptionOfGoods': 'prodsku20',\n",
       "    'hsnSAC': 'hsn2',\n",
       "    'GSTRate': '5',\n",
       "    'qty': 1,\n",
       "    'rate': '1200',\n",
       "    'per': 'unit',\n",
       "    'amount': '1200',\n",
       "    '_id': ObjectId('63faed58f8c0a4de3b6742a2')},\n",
       "   {'siNo': 0,\n",
       "    'descriptionOfGoods': 'prodsku20',\n",
       "    'hsnSAC': 'hsn2',\n",
       "    'GSTRate': '5',\n",
       "    'qty': 2,\n",
       "    'rate': '1200',\n",
       "    'per': 'unit',\n",
       "    'amount': '2400',\n",
       "    '_id': ObjectId('63faed58f8c0a4de3b6742a3')}],\n",
       "  'totalQty': 4,\n",
       "  'totalAmount': '4857',\n",
       "  'amtChargableInWords': 'four thousand eight hundred and fifty seven only',\n",
       "  'invTaxTable': [{'hsnSAC': 'hsn1',\n",
       "    'taxableValue': '988',\n",
       "    'centralTaxRate': '4.5',\n",
       "    'centralTaxAmt': '44.46',\n",
       "    'stateTaxRate': '4.5',\n",
       "    'stateTaxAmt': '44.46',\n",
       "    '_id': ObjectId('63faed58f8c0a4de3b67429f')},\n",
       "   {'hsnSAC': 'hsn2',\n",
       "    'taxableValue': '3600',\n",
       "    'centralTaxRate': '2.5',\n",
       "    'centralTaxAmt': '90',\n",
       "    'stateTaxRate': '2.5',\n",
       "    'stateTaxAmt': '90',\n",
       "    '_id': ObjectId('63faed58f8c0a4de3b6742a0')}],\n",
       "  'totalTaxableValue': '4588',\n",
       "  'totalCentralTaxAmt': '134.46',\n",
       "  'totalStateTaxAmt': '134.46',\n",
       "  'taxAmtInWords': 'two hundred and sixty nine only',\n",
       "  'companyPAN': 'cpan',\n",
       "  'companyBankDetails': {'bankName': 'bname1',\n",
       "   'acNo': '1224',\n",
       "   'BranchIFSCode': 'ifcs2'},\n",
       "  'for': 'daf'},\n",
       " 'wareHouseReceipt': [{'imgString': 'testimg url1',\n",
       "   '_id': ObjectId('63faed58f8c0a4de3b67429c')},\n",
       "  {'imgString': 'testimg url2', '_id': ObjectId('63faed58f8c0a4de3b67429d')},\n",
       "  {'imgString': '', '_id': ObjectId('63faed58f8c0a4de3b67429e')}],\n",
       " 'salesReceipt': {'distributorName': 'company1114',\n",
       "  'distributorDetails': 'addr11',\n",
       "  'soldBy': 'sold1',\n",
       "  'date': '2023-02-15',\n",
       "  'name': 'name1a',\n",
       "  'address': 'adde1',\n",
       "  'mode': 'm1',\n",
       "  'srTable': [{'qty': 10,\n",
       "    'details': 'det1',\n",
       "    'price': '1000',\n",
       "    'amount': '10000',\n",
       "    '_id': ObjectId('63faed58f8c0a4de3b67429b')}]},\n",
       " 'orderDelivery': {'history': [{'timeStamp': '2023-02-18T12:12:39.988Z',\n",
       "    'status': 'dispatched',\n",
       "    '_id': ObjectId('63faed58f8c0a4de3b674298')},\n",
       "   {'timeStamp': '2023-02-22T11:42:28.883Z',\n",
       "    'status': 'delivered',\n",
       "    '_id': ObjectId('63faed58f8c0a4de3b674299')},\n",
       "   {'timeStamp': '2023-02-23T17:54:30.641Z',\n",
       "    'status': 'client acknowledged',\n",
       "    '_id': ObjectId('63faed58f8c0a4de3b67429a')}]},\n",
       " 'orderCancel': {'timeStamp': '2023-01-23T12:32:13.152Z',\n",
       "  'state': '',\n",
       "  'desc': ''},\n",
       " 'orderPayment': {'history': [{'timeStamp': '2023-02-18T12:13:13.857Z',\n",
       "    'amount': '100',\n",
       "    'method': 'cash',\n",
       "    'description': 'desc1',\n",
       "    '_id': ObjectId('63faed58f8c0a4de3b674296')},\n",
       "   {'timeStamp': '2023-02-23T17:54:51.015Z',\n",
       "    'amount': '567',\n",
       "    'method': 'cash',\n",
       "    'description': 'bank',\n",
       "    '_id': ObjectId('63faed58f8c0a4de3b674297')}]},\n",
       " 'createdAt': datetime.datetime(2023, 1, 23, 12, 32, 20, 243000),\n",
       " 'updatedAt': datetime.datetime(2023, 2, 26, 5, 25, 44, 253000),\n",
       " '__v': 0}"
      ]
     },
     "execution_count": 23,
     "metadata": {},
     "output_type": "execute_result"
    }
   ],
   "source": [
    "do_one_record = dlom_orders_collection.find_one()\n",
    "do_one_record"
   ]
  },
  {
   "cell_type": "code",
   "execution_count": 24,
   "id": "71d70b9c",
   "metadata": {
    "scrolled": true
   },
   "outputs": [
    {
     "data": {
      "text/plain": [
       "{'_id': ObjectId('63ce7e473cb25e08b646e2e0'),\n",
       " 'companyName': 'company1',\n",
       " 'contactPersonName': 'cp11',\n",
       " 'address': 'addr1',\n",
       " 'gst': 'gst1',\n",
       " 'phoneNumber': '123456789',\n",
       " 'discountRate': '5',\n",
       " 'salesPersonAssigned': 'sp1',\n",
       " 'clientSocialMedia': [{'title': 'country',\n",
       "   'link': 'IND',\n",
       "   '_id': ObjectId('63fa53c5d7d738df1c63e01b')},\n",
       "  {'title': 'LinkedIN',\n",
       "   'link': 'https://www.linkedin.com/in/neel-choksi-73232719b/',\n",
       "   '_id': ObjectId('63fa53c5d7d738df1c63e01c')}],\n",
       " 'typeOfCustomer': 'permanent',\n",
       " 'crm': [{'msg': 'msg15',\n",
       "   'personType': 'client',\n",
       "   'timestamp': '2023-01-29 03:09',\n",
       "   '_id': ObjectId('63f7a0b49ab1059988e8e15c')},\n",
       "  {'msg': 'msg123',\n",
       "   'personType': 'sp',\n",
       "   'timestamp': '2023-02-19 00:12',\n",
       "   '_id': ObjectId('63f7a0b49ab1059988e8e15d')},\n",
       "  {'msg': 'msg1222 adfjalfja;lka j;fla jfa jfa j  aifjpao iafa fapjosdfia jfa fjapofjapo fajp foajpfoa fjapo jafja   a  a f     ',\n",
       "   'personType': 'client',\n",
       "   'timestamp': '2023-02-19 00:12',\n",
       "   '_id': ObjectId('63f7a0b49ab1059988e8e15e')},\n",
       "  {'msg': 'msg676761',\n",
       "   'personType': 'sp',\n",
       "   'timestamp': '2023-02-23 00:12',\n",
       "   '_id': ObjectId('63f7a0b49ab1059988e8e15f')}],\n",
       " '__v': 0}"
      ]
     },
     "execution_count": 24,
     "metadata": {},
     "output_type": "execute_result"
    }
   ],
   "source": [
    "dc_one_record = dlom_clients_collection.find_one()\n",
    "dc_one_record"
   ]
  },
  {
   "cell_type": "code",
   "execution_count": 25,
   "id": "2f063230",
   "metadata": {},
   "outputs": [
    {
     "name": "stdout",
     "output_type": "stream",
     "text": [
      "<pymongo.cursor.Cursor object at 0x7f62eee83f10>\n",
      "{'_id': ObjectId('63ce7e543cb25e08b646e2e8'), 'clientId': ObjectId('63ce7e473cb25e08b646e2e0'), 'salesperson': '63d57088175d4fbd6cb97e70', 'salesOrder': {'distributorName': 'company1114', 'distributorDetails': 'addr11', 'voucherNo': 'vno23', 'dated': '2023-02-08', 'modeTermsOfPayment': 'mode1', 'buyerRefOrderNo': 'buyer12', 'otherRef': 'oref2', 'invoiceTo': 'invto2', 'despatchThrough': 'despt', 'destination': 'dest', 'termsOfDelivery': 'terms', 'soTable': [{'siNo': 0, 'descriptionOfGoods': 'desc1', 'dueOn': '2023-02-22', 'qty': 100, 'rate': '100', 'per': 'unit', 'amount': '10000', '_id': ObjectId('63faed58f8c0a4de3b6742a4')}], 'totalQty': 100, 'totalAmt': '10000', 'amtInWords': 'ten thousand only'}, 'invoice': {'distributorName': 'company1114', 'distributorDetails': 'addr11', 'invoiceNo': 'inv122', 'dated': '2023-02-25', 'deliveryNote': 'delnote1', 'supplierRef': 'sref1', 'otherRef': 'orref2', 'client': 'cli2', 'despatchDocNo': 'des', 'deliveryNoteDate': '2023-02-13', 'despatchedThrough': 'des', 'destination': 'des', 'invTable': [{'siNo': 0, 'descriptionOfGoods': 'prodsku99', 'hsnSAC': 'hsn1', 'GSTRate': '9', 'qty': 1, 'rate': '988', 'per': 'unit', 'amount': '988', '_id': ObjectId('63faed58f8c0a4de3b6742a1')}, {'siNo': 0, 'descriptionOfGoods': 'prodsku20', 'hsnSAC': 'hsn2', 'GSTRate': '5', 'qty': 1, 'rate': '1200', 'per': 'unit', 'amount': '1200', '_id': ObjectId('63faed58f8c0a4de3b6742a2')}, {'siNo': 0, 'descriptionOfGoods': 'prodsku20', 'hsnSAC': 'hsn2', 'GSTRate': '5', 'qty': 2, 'rate': '1200', 'per': 'unit', 'amount': '2400', '_id': ObjectId('63faed58f8c0a4de3b6742a3')}], 'totalQty': 4, 'totalAmount': '4857', 'amtChargableInWords': 'four thousand eight hundred and fifty seven only', 'invTaxTable': [{'hsnSAC': 'hsn1', 'taxableValue': '988', 'centralTaxRate': '4.5', 'centralTaxAmt': '44.46', 'stateTaxRate': '4.5', 'stateTaxAmt': '44.46', '_id': ObjectId('63faed58f8c0a4de3b67429f')}, {'hsnSAC': 'hsn2', 'taxableValue': '3600', 'centralTaxRate': '2.5', 'centralTaxAmt': '90', 'stateTaxRate': '2.5', 'stateTaxAmt': '90', '_id': ObjectId('63faed58f8c0a4de3b6742a0')}], 'totalTaxableValue': '4588', 'totalCentralTaxAmt': '134.46', 'totalStateTaxAmt': '134.46', 'taxAmtInWords': 'two hundred and sixty nine only', 'companyPAN': 'cpan', 'companyBankDetails': {'bankName': 'bname1', 'acNo': '1224', 'BranchIFSCode': 'ifcs2'}, 'for': 'daf'}, 'wareHouseReceipt': [{'imgString': 'testimg url1', '_id': ObjectId('63faed58f8c0a4de3b67429c')}, {'imgString': 'testimg url2', '_id': ObjectId('63faed58f8c0a4de3b67429d')}, {'imgString': '', '_id': ObjectId('63faed58f8c0a4de3b67429e')}], 'salesReceipt': {'distributorName': 'company1114', 'distributorDetails': 'addr11', 'soldBy': 'sold1', 'date': '2023-02-15', 'name': 'name1a', 'address': 'adde1', 'mode': 'm1', 'srTable': [{'qty': 10, 'details': 'det1', 'price': '1000', 'amount': '10000', '_id': ObjectId('63faed58f8c0a4de3b67429b')}]}, 'orderDelivery': {'history': [{'timeStamp': '2023-02-18T12:12:39.988Z', 'status': 'dispatched', '_id': ObjectId('63faed58f8c0a4de3b674298')}, {'timeStamp': '2023-02-22T11:42:28.883Z', 'status': 'delivered', '_id': ObjectId('63faed58f8c0a4de3b674299')}, {'timeStamp': '2023-02-23T17:54:30.641Z', 'status': 'client acknowledged', '_id': ObjectId('63faed58f8c0a4de3b67429a')}]}, 'orderCancel': {'timeStamp': '2023-01-23T12:32:13.152Z', 'state': '', 'desc': ''}, 'orderPayment': {'history': [{'timeStamp': '2023-02-18T12:13:13.857Z', 'amount': '100', 'method': 'cash', 'description': 'desc1', '_id': ObjectId('63faed58f8c0a4de3b674296')}, {'timeStamp': '2023-02-23T17:54:51.015Z', 'amount': '567', 'method': 'cash', 'description': 'bank', '_id': ObjectId('63faed58f8c0a4de3b674297')}]}, 'createdAt': datetime.datetime(2023, 1, 23, 12, 32, 20, 243000), 'updatedAt': datetime.datetime(2023, 2, 26, 5, 25, 44, 253000), '__v': 0}\n",
      "{'_id': ObjectId('63cf8c6b0f0f991962134b55'), 'clientId': ObjectId('63ce7e473cb25e08b646e2e0'), 'salesperson': '', 'salesOrder': {'distributorName': 'company11146', 'distributorDetails': 'addr11', 'voucherNo': '', 'dated': '', 'modeTermsOfPayment': '', 'buyerRefOrderNo': '', 'otherRef': '', 'invoiceTo': '', 'despatchThrough': '', 'destination': '', 'termsOfDelivery': '', 'soTable': [], 'totalQty': 0, 'totalAmt': '', 'amtInWords': ''}, 'invoice': {'distributorName': 'company11146', 'distributorDetails': 'addr11', 'invoiceNo': '', 'dated': '', 'deliveryNote': '', 'supplierRef': '', 'otherRef': '', 'client': '', 'despatchDocNo': '', 'deliveryNoteDate': '', 'despatchedThrough': '', 'destination': '', 'invTable': [], 'totalQty': 0, 'totalAmount': '', 'amtChargableInWords': '', 'invTaxTable': [], 'totalTaxableValue': '', 'totalCentralTaxAmt': '', 'totalStateTaxAmt': '', 'taxAmtInWords': '', 'companyPAN': '', 'companyBankDetails': {'bankName': '', 'acNo': '', 'BranchIFSCode': ''}, 'for': ''}, 'wareHouseReceipt': [{'imgString': '', '_id': ObjectId('63f60d143df4288c08eee4ad')}], 'salesReceipt': {'distributorName': 'company11146', 'distributorDetails': 'addr11', 'soldBy': '', 'date': '', 'name': '', 'address': '', 'mode': '', 'srTable': [{'qty': 1, 'details': 'det1', 'price': '1200', 'amount': '1200', '_id': ObjectId('63f60d143df4288c08eee4ac')}]}, 'orderDelivery': {'history': [{'timeStamp': '2023-02-22T12:36:32.603Z', 'status': 'status1', '_id': ObjectId('63f60d143df4288c08eee4aa')}, {'timeStamp': '2023-02-22T12:36:42.047Z', 'status': 'status2', '_id': ObjectId('63f60d143df4288c08eee4ab')}]}, 'orderCancel': {'timeStamp': '2023-01-24T07:44:25.257Z', 'state': 'reason1', 'desc': 'desc1'}, 'orderPayment': {'history': [{'timeStamp': '2023-02-22T12:39:37.979Z', 'amount': '1200', 'method': 'cash', 'description': 'desc1', '_id': ObjectId('63f60d143df4288c08eee4a9')}]}, 'createdAt': datetime.datetime(2023, 1, 24, 7, 44, 43, 616000), 'updatedAt': datetime.datetime(2023, 2, 22, 12, 39, 48, 669000), '__v': 0}\n",
      "{'_id': ObjectId('63d247f7ef4b90ee6baa5777'), 'clientId': ObjectId('63ce7e473cb25e08b646e2e0'), 'salesperson': '', 'salesOrder': {'distributorName': 'company11146', 'distributorDetails': 'addr11', 'voucherNo': '', 'dated': '', 'modeTermsOfPayment': '', 'buyerRefOrderNo': '', 'otherRef': '', 'invoiceTo': '', 'despatchThrough': '', 'destination': '', 'termsOfDelivery': '', 'soTable': [], 'totalQty': 0, 'totalAmt': '', 'amtInWords': ''}, 'invoice': {'distributorName': 'company11146', 'distributorDetails': 'addr11', 'invoiceNo': '', 'dated': '', 'deliveryNote': '', 'supplierRef': '', 'otherRef': '', 'client': '', 'despatchDocNo': '', 'deliveryNoteDate': '', 'despatchedThrough': '', 'destination': '', 'invTable': [], 'totalQty': 0, 'totalAmount': '', 'amtChargableInWords': '', 'invTaxTable': [], 'totalTaxableValue': '', 'totalCentralTaxAmt': '', 'totalStateTaxAmt': '', 'taxAmtInWords': '', 'companyPAN': '', 'companyBankDetails': {'bankName': '', 'acNo': '', 'BranchIFSCode': ''}, 'for': ''}, 'wareHouseReceipt': [{'imgString': '', '_id': ObjectId('63f0c158119c38497d5c8c53')}], 'salesReceipt': {'distributorName': 'company11146', 'distributorDetails': 'addr11', 'soldBy': '', 'date': '', 'name': '', 'address': '', 'mode': '', 'srTable': []}, 'orderDelivery': {'history': []}, 'orderCancel': {'timeStamp': '2023-01-26T09:29:15.749Z', 'state': 'reason1', 'desc': 'desc12'}, 'orderPayment': {'history': []}, 'createdAt': datetime.datetime(2023, 1, 26, 9, 29, 27, 505000), 'updatedAt': datetime.datetime(2023, 2, 18, 12, 15, 20, 148000), '__v': 0}\n",
      "{'_id': ObjectId('63d6084c552dd4d69eee1f57'), 'clientId': ObjectId('63ce7e473cb25e08b646e2e0'), 'salesperson': '63d57048175d4fbd6cb97e68', 'salesOrder': {'distributorName': 'company1114', 'distributorDetails': 'addr11', 'voucherNo': 'vno1', 'dated': '2023-01-22', 'modeTermsOfPayment': 'mod1', 'buyerRefOrderNo': 'ref1', 'otherRef': 'oref1', 'invoiceTo': 'inv1', 'despatchThrough': 'despt1', 'destination': 'dest1', 'termsOfDelivery': 'terms1', 'soTable': [{'siNo': 0, 'descriptionOfGoods': 'desc1', 'dueOn': '2023-01-31', 'qty': 2, 'rate': '10', 'per': 'unit', 'amount': '20', '_id': ObjectId('63fa1deb0613abd661379865')}], 'totalQty': 2, 'totalAmt': '20', 'amtInWords': 'twenty only'}, 'invoice': {'distributorName': 'company1114', 'distributorDetails': 'addr11', 'invoiceNo': 'inv1', 'dated': '2023-01-29', 'deliveryNote': 'dnot1', 'supplierRef': 'sup ref1', 'otherRef': 'otherr ref1', 'client': 'client1', 'despatchDocNo': 'doc1', 'deliveryNoteDate': '2023-01-30', 'despatchedThrough': 'despth1', 'destination': 'ddest1', 'invTable': [{'siNo': 0, 'descriptionOfGoods': 'desc1', 'hsnSAC': 'hsn1', 'GSTRate': '8', 'qty': 5, 'rate': '5', 'per': 'unit', 'amount': '25', '_id': ObjectId('63fa1deb0613abd661379864')}], 'totalQty': 5, 'totalAmount': '27', 'amtChargableInWords': 'twenty seven only', 'invTaxTable': [{'hsnSAC': 'hsn1', 'taxableValue': '25', 'centralTaxRate': '4', 'centralTaxAmt': '1', 'stateTaxRate': '4', 'stateTaxAmt': '1', '_id': ObjectId('63fa1deb0613abd661379863')}], 'totalTaxableValue': '25', 'totalCentralTaxAmt': '1', 'totalStateTaxAmt': '1', 'taxAmtInWords': 'two only', 'companyPAN': 'cpan1', 'companyBankDetails': {'bankName': 'bname1', 'acNo': 'ac112', 'BranchIFSCode': 'ead2132'}, 'for': 'this '}, 'wareHouseReceipt': [{'imgString': '', '_id': ObjectId('63fa1deb0613abd661379862')}], 'salesReceipt': {'distributorName': 'company1114', 'distributorDetails': 'addr11', 'soldBy': 'soldby1', 'date': '2023-01-30', 'name': 'name1', 'address': 'addr1', 'mode': 'mode1', 'srTable': [{'qty': 10, 'details': 'det1', 'price': '500', 'amount': '5000', '_id': ObjectId('63fa1deb0613abd661379861')}]}, 'orderDelivery': {'history': [{'timeStamp': '2023-01-29T08:33:55.295Z', 'status': 'entry1', '_id': ObjectId('63fa1deb0613abd66137985f')}, {'timeStamp': '2023-01-29T08:34:03.854Z', 'status': 'entry2', '_id': ObjectId('63fa1deb0613abd661379860')}]}, 'orderCancel': {'timeStamp': '2023-01-29T05:40:51.542Z', 'state': '', 'desc': ''}, 'orderPayment': {'history': [{'timeStamp': '2023-02-22T11:46:26.180Z', 'amount': '15', 'method': 'cash', 'description': 'desc1', '_id': ObjectId('63fa1deb0613abd66137985e')}]}, 'createdAt': datetime.datetime(2023, 1, 29, 5, 46, 52, 235000), 'updatedAt': datetime.datetime(2023, 2, 25, 14, 40, 43, 215000), '__v': 0}\n",
      "{'_id': ObjectId('63de815bf820f95e82ddee96'), 'clientId': ObjectId('63ce7e473cb25e08b646e2e0'), 'salesperson': '63d57088175d4fbd6cb97e70', 'salesOrder': {'distributorName': 'company1114', 'distributorDetails': 'addr11', 'voucherNo': '', 'dated': '', 'modeTermsOfPayment': '', 'buyerRefOrderNo': '', 'otherRef': '', 'invoiceTo': 'addr1', 'despatchThrough': '', 'destination': '', 'termsOfDelivery': '', 'soTable': [], 'totalQty': 0, 'totalAmt': '', 'amtInWords': ''}, 'invoice': {'distributorName': 'company1114', 'distributorDetails': 'addr11', 'invoiceNo': 'inv554', 'dated': '', 'deliveryNote': '', 'supplierRef': '', 'otherRef': '', 'client': '', 'despatchDocNo': '', 'deliveryNoteDate': '', 'despatchedThrough': '', 'destination': '', 'invTable': [{'siNo': 0, 'descriptionOfGoods': 'prodsku99', 'hsnSAC': 'hsn1', 'GSTRate': '9', 'qty': 1, 'rate': '988', 'per': 'unit', 'amount': '988', '_id': ObjectId('63fa4ff4d7d738df1c63de2d')}], 'totalQty': 1, 'totalAmount': '1077', 'amtChargableInWords': 'one thousand and seventy seven only', 'invTaxTable': [{'hsnSAC': 'hsn1', 'taxableValue': '988', 'centralTaxRate': '4.5', 'centralTaxAmt': '44.46', 'stateTaxRate': '4.5', 'stateTaxAmt': '44.46', '_id': ObjectId('63fa4ff4d7d738df1c63de2c')}], 'totalTaxableValue': '988', 'totalCentralTaxAmt': '44.46', 'totalStateTaxAmt': '44.46', 'taxAmtInWords': 'eighty nine only', 'companyPAN': '', 'companyBankDetails': {'bankName': '', 'acNo': '', 'BranchIFSCode': ''}, 'for': ''}, 'wareHouseReceipt': [{'imgString': '', '_id': ObjectId('63fa4ff4d7d738df1c63de2b')}], 'salesReceipt': {'distributorName': 'company1114', 'distributorDetails': 'addr11', 'soldBy': '', 'date': '', 'name': '', 'address': '', 'mode': '', 'srTable': []}, 'orderDelivery': {'history': []}, 'orderCancel': {'timeStamp': '2023-02-04T16:01:19.998Z', 'state': '', 'desc': ''}, 'orderPayment': {'history': []}, 'createdAt': datetime.datetime(2023, 2, 4, 16, 1, 31, 499000), 'updatedAt': datetime.datetime(2023, 2, 25, 18, 14, 12, 174000), '__v': 0}\n",
      "{'_id': ObjectId('63f0bf71119c38497d5c89dd'), 'clientId': ObjectId('63de7c32f820f95e82ddee53'), 'salesperson': '63d57088175d4fbd6cb97e70', 'salesOrder': {'distributorName': 'company1114', 'distributorDetails': 'addr11', 'voucherNo': '', 'dated': '', 'modeTermsOfPayment': '', 'buyerRefOrderNo': '', 'otherRef': '', 'invoiceTo': '', 'despatchThrough': '', 'destination': '', 'termsOfDelivery': '', 'soTable': [], 'totalQty': 0, 'totalAmt': '', 'amtInWords': ''}, 'invoice': {'distributorName': 'company1114', 'distributorDetails': 'addr11', 'invoiceNo': 'inv122', 'dated': '', 'deliveryNote': '', 'supplierRef': '', 'otherRef': '', 'client': '', 'despatchDocNo': '', 'deliveryNoteDate': '', 'despatchedThrough': '', 'destination': '', 'invTable': [{'siNo': 0, 'descriptionOfGoods': 'prodSKU3', 'hsnSAC': 'hsn1', 'GSTRate': '5', 'qty': 2, 'rate': '4001', 'per': 'unit', 'amount': '8002', '_id': ObjectId('63fa46610613abd661379de5')}], 'totalQty': 2, 'totalAmount': '8402', 'amtChargableInWords': 'eight thousand four hundred and two only', 'invTaxTable': [{'hsnSAC': 'hsn1', 'taxableValue': '8002', 'centralTaxRate': '2.5', 'centralTaxAmt': '200.05', 'stateTaxRate': '2.5', 'stateTaxAmt': '200.05', '_id': ObjectId('63fa46610613abd661379de4')}], 'totalTaxableValue': '8002', 'totalCentralTaxAmt': '200.05', 'totalStateTaxAmt': '200.05', 'taxAmtInWords': 'four hundred only', 'companyPAN': '', 'companyBankDetails': {'bankName': '', 'acNo': '', 'BranchIFSCode': ''}, 'for': ''}, 'wareHouseReceipt': [{'imgString': '', '_id': ObjectId('63fa46610613abd661379de3')}], 'salesReceipt': {'distributorName': 'company1114', 'distributorDetails': 'addr11', 'soldBy': '', 'date': '', 'name': '', 'address': '', 'mode': '', 'srTable': []}, 'orderDelivery': {'history': []}, 'orderCancel': {'timeStamp': '2023-02-18T12:06:32.504Z', 'state': '', 'desc': ''}, 'orderPayment': {'history': []}, 'createdAt': datetime.datetime(2023, 2, 18, 12, 7, 13, 860000), 'updatedAt': datetime.datetime(2023, 2, 25, 17, 33, 21, 496000), '__v': 0}\n",
      "{'_id': ObjectId('63fa4c7fd7d738df1c63dd2f'), 'clientId': ObjectId('63e47a71f39019447bec4817'), 'salesperson': '63d57048175d4fbd6cb97e68', 'salesOrder': {'distributorName': 'company1114', 'distributorDetails': 'addr11', 'voucherNo': '', 'dated': '', 'modeTermsOfPayment': '', 'buyerRefOrderNo': '', 'otherRef': '', 'invoiceTo': 'addr test1', 'despatchThrough': '', 'destination': '', 'termsOfDelivery': '', 'soTable': [], 'totalQty': 0, 'totalAmt': '', 'amtInWords': ''}, 'invoice': {'distributorName': 'company1114', 'distributorDetails': 'addr11', 'invoiceNo': 'in668', 'dated': '', 'deliveryNote': '', 'supplierRef': '', 'otherRef': '', 'client': '', 'despatchDocNo': '', 'deliveryNoteDate': '', 'despatchedThrough': '', 'destination': '', 'invTable': [{'siNo': 0, 'descriptionOfGoods': 'prodsku20', 'hsnSAC': 'hsn2', 'GSTRate': '5', 'qty': 2, 'rate': '1200', 'per': 'unit', 'amount': '2400', '_id': ObjectId('63fa504bd7d738df1c63df78')}], 'totalQty': 2, 'totalAmount': '2520', 'amtChargableInWords': 'two thousand five hundred and twenty only', 'invTaxTable': [{'hsnSAC': 'hsn2', 'taxableValue': '2400', 'centralTaxRate': '2.5', 'centralTaxAmt': '60', 'stateTaxRate': '2.5', 'stateTaxAmt': '60', '_id': ObjectId('63fa504bd7d738df1c63df77')}], 'totalTaxableValue': '2400', 'totalCentralTaxAmt': '60', 'totalStateTaxAmt': '60', 'taxAmtInWords': 'one hundred and twenty only', 'companyPAN': '', 'companyBankDetails': {'bankName': '', 'acNo': '', 'BranchIFSCode': ''}, 'for': ''}, 'wareHouseReceipt': [{'imgString': '', '_id': ObjectId('63fa504bd7d738df1c63df76')}], 'salesReceipt': {'distributorName': 'company1114', 'distributorDetails': 'addr11', 'soldBy': '', 'date': '', 'name': '', 'address': '', 'mode': '', 'srTable': []}, 'orderDelivery': {'history': []}, 'orderCancel': {'timeStamp': '2023-02-25T17:59:07.674Z', 'state': '', 'desc': ''}, 'orderPayment': {'history': []}, 'createdAt': datetime.datetime(2023, 2, 25, 17, 59, 27, 970000), 'updatedAt': datetime.datetime(2023, 2, 25, 18, 15, 39, 687000), '__v': 0}\n"
     ]
    }
   ],
   "source": [
    "do_all_records = dlom_orders_collection.find()\n",
    "print(do_all_records)\n",
    "for row in do_all_records:\n",
    "    print(row)"
   ]
  },
  {
   "cell_type": "code",
   "execution_count": 26,
   "id": "1876ffd4",
   "metadata": {
    "scrolled": true
   },
   "outputs": [
    {
     "name": "stdout",
     "output_type": "stream",
     "text": [
      "<pymongo.cursor.Cursor object at 0x7f62eee83c40>\n",
      "{'_id': ObjectId('63ce7e473cb25e08b646e2e0'), 'companyName': 'company1', 'contactPersonName': 'cp11', 'address': 'addr1', 'gst': 'gst1', 'phoneNumber': '123456789', 'discountRate': '5', 'salesPersonAssigned': 'sp1', 'clientSocialMedia': [{'title': 'country', 'link': 'IND', '_id': ObjectId('63fa53c5d7d738df1c63e01b')}, {'title': 'LinkedIN', 'link': 'https://www.linkedin.com/in/neel-choksi-73232719b/', '_id': ObjectId('63fa53c5d7d738df1c63e01c')}], 'typeOfCustomer': 'permanent', 'crm': [{'msg': 'msg15', 'personType': 'client', 'timestamp': '2023-01-29 03:09', '_id': ObjectId('63f7a0b49ab1059988e8e15c')}, {'msg': 'msg123', 'personType': 'sp', 'timestamp': '2023-02-19 00:12', '_id': ObjectId('63f7a0b49ab1059988e8e15d')}, {'msg': 'msg1222 adfjalfja;lka j;fla jfa jfa j  aifjpao iafa fapjosdfia jfa fjapofjapo fajp foajpfoa fjapo jafja   a  a f     ', 'personType': 'client', 'timestamp': '2023-02-19 00:12', '_id': ObjectId('63f7a0b49ab1059988e8e15e')}, {'msg': 'msg676761', 'personType': 'sp', 'timestamp': '2023-02-23 00:12', '_id': ObjectId('63f7a0b49ab1059988e8e15f')}], '__v': 0}\n",
      "{'_id': ObjectId('63de7c32f820f95e82ddee53'), 'companyName': 'comp2', 'contactPersonName': 'cp23', 'address': 'addr38', 'gst': 'gst334', 'phoneNumber': '39048348', 'discountRate': '7', 'salesPersonAssigned': 'sp2', 'clientSocialMedia': [{'title': 'country', 'link': 'IND', '_id': ObjectId('63fa53fad7d738df1c63e02e')}], 'typeOfCustomer': 'permanent', 'crm': [{'msg': 'msg1', 'personType': 'client', 'timestamp': '2023-02-20 00:12', '_id': ObjectId('63fb13bef8c0a4de3b674393')}, {'msg': 'Feeling really good about the previous products.', 'personType': 'sp', 'timestamp': '2023-02-26 00:12', '_id': ObjectId('63fb13bef8c0a4de3b674394')}, {'msg': 'Feeling bad about your services', 'personType': 'sp', 'timestamp': '2023-02-26 00:12', '_id': ObjectId('63fb13bef8c0a4de3b674395')}], '__v': 0}\n",
      "{'_id': ObjectId('63e47a71f39019447bec4817'), 'companyName': 'test1', 'contactPersonName': 'cp2', 'address': 'addr test1', 'gst': 'gst test1', 'phoneNumber': '29824983', 'discountRate': '4', 'salesPersonAssigned': 'sp2', 'clientSocialMedia': [{'title': 'country', 'link': 'FRA', '_id': ObjectId('63fa540cd7d738df1c63e03c')}], 'typeOfCustomer': 'potential', 'crm': [], '__v': 0}\n"
     ]
    }
   ],
   "source": [
    "dc_all_records = dlom_clients_collection.find()\n",
    "print(dc_all_records)\n",
    "for row in dc_all_records :\n",
    "    print(row)"
   ]
  },
  {
   "cell_type": "code",
   "execution_count": 27,
   "id": "82bbae86",
   "metadata": {},
   "outputs": [
    {
     "name": "stdout",
     "output_type": "stream",
     "text": [
      "[{'_id': ObjectId('63ce7e543cb25e08b646e2e8'), 'clientId': ObjectId('63ce7e473cb25e08b646e2e0'), 'salesperson': '63d57088175d4fbd6cb97e70', 'salesOrder': {'distributorName': 'company1114', 'distributorDetails': 'addr11', 'voucherNo': 'vno23', 'dated': '2023-02-08', 'modeTermsOfPayment': 'mode1', 'buyerRefOrderNo': 'buyer12', 'otherRef': 'oref2', 'invoiceTo': 'invto2', 'despatchThrough': 'despt', 'destination': 'dest', 'termsOfDelivery': 'terms', 'soTable': [{'siNo': 0, 'descriptionOfGoods': 'desc1', 'dueOn': '2023-02-22', 'qty': 100, 'rate': '100', 'per': 'unit', 'amount': '10000', '_id': ObjectId('63faed58f8c0a4de3b6742a4')}], 'totalQty': 100, 'totalAmt': '10000', 'amtInWords': 'ten thousand only'}, 'invoice': {'distributorName': 'company1114', 'distributorDetails': 'addr11', 'invoiceNo': 'inv122', 'dated': '2023-02-25', 'deliveryNote': 'delnote1', 'supplierRef': 'sref1', 'otherRef': 'orref2', 'client': 'cli2', 'despatchDocNo': 'des', 'deliveryNoteDate': '2023-02-13', 'despatchedThrough': 'des', 'destination': 'des', 'invTable': [{'siNo': 0, 'descriptionOfGoods': 'prodsku99', 'hsnSAC': 'hsn1', 'GSTRate': '9', 'qty': 1, 'rate': '988', 'per': 'unit', 'amount': '988', '_id': ObjectId('63faed58f8c0a4de3b6742a1')}, {'siNo': 0, 'descriptionOfGoods': 'prodsku20', 'hsnSAC': 'hsn2', 'GSTRate': '5', 'qty': 1, 'rate': '1200', 'per': 'unit', 'amount': '1200', '_id': ObjectId('63faed58f8c0a4de3b6742a2')}, {'siNo': 0, 'descriptionOfGoods': 'prodsku20', 'hsnSAC': 'hsn2', 'GSTRate': '5', 'qty': 2, 'rate': '1200', 'per': 'unit', 'amount': '2400', '_id': ObjectId('63faed58f8c0a4de3b6742a3')}], 'totalQty': 4, 'totalAmount': '4857', 'amtChargableInWords': 'four thousand eight hundred and fifty seven only', 'invTaxTable': [{'hsnSAC': 'hsn1', 'taxableValue': '988', 'centralTaxRate': '4.5', 'centralTaxAmt': '44.46', 'stateTaxRate': '4.5', 'stateTaxAmt': '44.46', '_id': ObjectId('63faed58f8c0a4de3b67429f')}, {'hsnSAC': 'hsn2', 'taxableValue': '3600', 'centralTaxRate': '2.5', 'centralTaxAmt': '90', 'stateTaxRate': '2.5', 'stateTaxAmt': '90', '_id': ObjectId('63faed58f8c0a4de3b6742a0')}], 'totalTaxableValue': '4588', 'totalCentralTaxAmt': '134.46', 'totalStateTaxAmt': '134.46', 'taxAmtInWords': 'two hundred and sixty nine only', 'companyPAN': 'cpan', 'companyBankDetails': {'bankName': 'bname1', 'acNo': '1224', 'BranchIFSCode': 'ifcs2'}, 'for': 'daf'}, 'wareHouseReceipt': [{'imgString': 'testimg url1', '_id': ObjectId('63faed58f8c0a4de3b67429c')}, {'imgString': 'testimg url2', '_id': ObjectId('63faed58f8c0a4de3b67429d')}, {'imgString': '', '_id': ObjectId('63faed58f8c0a4de3b67429e')}], 'salesReceipt': {'distributorName': 'company1114', 'distributorDetails': 'addr11', 'soldBy': 'sold1', 'date': '2023-02-15', 'name': 'name1a', 'address': 'adde1', 'mode': 'm1', 'srTable': [{'qty': 10, 'details': 'det1', 'price': '1000', 'amount': '10000', '_id': ObjectId('63faed58f8c0a4de3b67429b')}]}, 'orderDelivery': {'history': [{'timeStamp': '2023-02-18T12:12:39.988Z', 'status': 'dispatched', '_id': ObjectId('63faed58f8c0a4de3b674298')}, {'timeStamp': '2023-02-22T11:42:28.883Z', 'status': 'delivered', '_id': ObjectId('63faed58f8c0a4de3b674299')}, {'timeStamp': '2023-02-23T17:54:30.641Z', 'status': 'client acknowledged', '_id': ObjectId('63faed58f8c0a4de3b67429a')}]}, 'orderCancel': {'timeStamp': '2023-01-23T12:32:13.152Z', 'state': '', 'desc': ''}, 'orderPayment': {'history': [{'timeStamp': '2023-02-18T12:13:13.857Z', 'amount': '100', 'method': 'cash', 'description': 'desc1', '_id': ObjectId('63faed58f8c0a4de3b674296')}, {'timeStamp': '2023-02-23T17:54:51.015Z', 'amount': '567', 'method': 'cash', 'description': 'bank', '_id': ObjectId('63faed58f8c0a4de3b674297')}]}, 'createdAt': datetime.datetime(2023, 1, 23, 12, 32, 20, 243000), 'updatedAt': datetime.datetime(2023, 2, 26, 5, 25, 44, 253000), '__v': 0}, {'_id': ObjectId('63cf8c6b0f0f991962134b55'), 'clientId': ObjectId('63ce7e473cb25e08b646e2e0'), 'salesperson': '', 'salesOrder': {'distributorName': 'company11146', 'distributorDetails': 'addr11', 'voucherNo': '', 'dated': '', 'modeTermsOfPayment': '', 'buyerRefOrderNo': '', 'otherRef': '', 'invoiceTo': '', 'despatchThrough': '', 'destination': '', 'termsOfDelivery': '', 'soTable': [], 'totalQty': 0, 'totalAmt': '', 'amtInWords': ''}, 'invoice': {'distributorName': 'company11146', 'distributorDetails': 'addr11', 'invoiceNo': '', 'dated': '', 'deliveryNote': '', 'supplierRef': '', 'otherRef': '', 'client': '', 'despatchDocNo': '', 'deliveryNoteDate': '', 'despatchedThrough': '', 'destination': '', 'invTable': [], 'totalQty': 0, 'totalAmount': '', 'amtChargableInWords': '', 'invTaxTable': [], 'totalTaxableValue': '', 'totalCentralTaxAmt': '', 'totalStateTaxAmt': '', 'taxAmtInWords': '', 'companyPAN': '', 'companyBankDetails': {'bankName': '', 'acNo': '', 'BranchIFSCode': ''}, 'for': ''}, 'wareHouseReceipt': [{'imgString': '', '_id': ObjectId('63f60d143df4288c08eee4ad')}], 'salesReceipt': {'distributorName': 'company11146', 'distributorDetails': 'addr11', 'soldBy': '', 'date': '', 'name': '', 'address': '', 'mode': '', 'srTable': [{'qty': 1, 'details': 'det1', 'price': '1200', 'amount': '1200', '_id': ObjectId('63f60d143df4288c08eee4ac')}]}, 'orderDelivery': {'history': [{'timeStamp': '2023-02-22T12:36:32.603Z', 'status': 'status1', '_id': ObjectId('63f60d143df4288c08eee4aa')}, {'timeStamp': '2023-02-22T12:36:42.047Z', 'status': 'status2', '_id': ObjectId('63f60d143df4288c08eee4ab')}]}, 'orderCancel': {'timeStamp': '2023-01-24T07:44:25.257Z', 'state': 'reason1', 'desc': 'desc1'}, 'orderPayment': {'history': [{'timeStamp': '2023-02-22T12:39:37.979Z', 'amount': '1200', 'method': 'cash', 'description': 'desc1', '_id': ObjectId('63f60d143df4288c08eee4a9')}]}, 'createdAt': datetime.datetime(2023, 1, 24, 7, 44, 43, 616000), 'updatedAt': datetime.datetime(2023, 2, 22, 12, 39, 48, 669000), '__v': 0}, {'_id': ObjectId('63d247f7ef4b90ee6baa5777'), 'clientId': ObjectId('63ce7e473cb25e08b646e2e0'), 'salesperson': '', 'salesOrder': {'distributorName': 'company11146', 'distributorDetails': 'addr11', 'voucherNo': '', 'dated': '', 'modeTermsOfPayment': '', 'buyerRefOrderNo': '', 'otherRef': '', 'invoiceTo': '', 'despatchThrough': '', 'destination': '', 'termsOfDelivery': '', 'soTable': [], 'totalQty': 0, 'totalAmt': '', 'amtInWords': ''}, 'invoice': {'distributorName': 'company11146', 'distributorDetails': 'addr11', 'invoiceNo': '', 'dated': '', 'deliveryNote': '', 'supplierRef': '', 'otherRef': '', 'client': '', 'despatchDocNo': '', 'deliveryNoteDate': '', 'despatchedThrough': '', 'destination': '', 'invTable': [], 'totalQty': 0, 'totalAmount': '', 'amtChargableInWords': '', 'invTaxTable': [], 'totalTaxableValue': '', 'totalCentralTaxAmt': '', 'totalStateTaxAmt': '', 'taxAmtInWords': '', 'companyPAN': '', 'companyBankDetails': {'bankName': '', 'acNo': '', 'BranchIFSCode': ''}, 'for': ''}, 'wareHouseReceipt': [{'imgString': '', '_id': ObjectId('63f0c158119c38497d5c8c53')}], 'salesReceipt': {'distributorName': 'company11146', 'distributorDetails': 'addr11', 'soldBy': '', 'date': '', 'name': '', 'address': '', 'mode': '', 'srTable': []}, 'orderDelivery': {'history': []}, 'orderCancel': {'timeStamp': '2023-01-26T09:29:15.749Z', 'state': 'reason1', 'desc': 'desc12'}, 'orderPayment': {'history': []}, 'createdAt': datetime.datetime(2023, 1, 26, 9, 29, 27, 505000), 'updatedAt': datetime.datetime(2023, 2, 18, 12, 15, 20, 148000), '__v': 0}, {'_id': ObjectId('63d6084c552dd4d69eee1f57'), 'clientId': ObjectId('63ce7e473cb25e08b646e2e0'), 'salesperson': '63d57048175d4fbd6cb97e68', 'salesOrder': {'distributorName': 'company1114', 'distributorDetails': 'addr11', 'voucherNo': 'vno1', 'dated': '2023-01-22', 'modeTermsOfPayment': 'mod1', 'buyerRefOrderNo': 'ref1', 'otherRef': 'oref1', 'invoiceTo': 'inv1', 'despatchThrough': 'despt1', 'destination': 'dest1', 'termsOfDelivery': 'terms1', 'soTable': [{'siNo': 0, 'descriptionOfGoods': 'desc1', 'dueOn': '2023-01-31', 'qty': 2, 'rate': '10', 'per': 'unit', 'amount': '20', '_id': ObjectId('63fa1deb0613abd661379865')}], 'totalQty': 2, 'totalAmt': '20', 'amtInWords': 'twenty only'}, 'invoice': {'distributorName': 'company1114', 'distributorDetails': 'addr11', 'invoiceNo': 'inv1', 'dated': '2023-01-29', 'deliveryNote': 'dnot1', 'supplierRef': 'sup ref1', 'otherRef': 'otherr ref1', 'client': 'client1', 'despatchDocNo': 'doc1', 'deliveryNoteDate': '2023-01-30', 'despatchedThrough': 'despth1', 'destination': 'ddest1', 'invTable': [{'siNo': 0, 'descriptionOfGoods': 'desc1', 'hsnSAC': 'hsn1', 'GSTRate': '8', 'qty': 5, 'rate': '5', 'per': 'unit', 'amount': '25', '_id': ObjectId('63fa1deb0613abd661379864')}], 'totalQty': 5, 'totalAmount': '27', 'amtChargableInWords': 'twenty seven only', 'invTaxTable': [{'hsnSAC': 'hsn1', 'taxableValue': '25', 'centralTaxRate': '4', 'centralTaxAmt': '1', 'stateTaxRate': '4', 'stateTaxAmt': '1', '_id': ObjectId('63fa1deb0613abd661379863')}], 'totalTaxableValue': '25', 'totalCentralTaxAmt': '1', 'totalStateTaxAmt': '1', 'taxAmtInWords': 'two only', 'companyPAN': 'cpan1', 'companyBankDetails': {'bankName': 'bname1', 'acNo': 'ac112', 'BranchIFSCode': 'ead2132'}, 'for': 'this '}, 'wareHouseReceipt': [{'imgString': '', '_id': ObjectId('63fa1deb0613abd661379862')}], 'salesReceipt': {'distributorName': 'company1114', 'distributorDetails': 'addr11', 'soldBy': 'soldby1', 'date': '2023-01-30', 'name': 'name1', 'address': 'addr1', 'mode': 'mode1', 'srTable': [{'qty': 10, 'details': 'det1', 'price': '500', 'amount': '5000', '_id': ObjectId('63fa1deb0613abd661379861')}]}, 'orderDelivery': {'history': [{'timeStamp': '2023-01-29T08:33:55.295Z', 'status': 'entry1', '_id': ObjectId('63fa1deb0613abd66137985f')}, {'timeStamp': '2023-01-29T08:34:03.854Z', 'status': 'entry2', '_id': ObjectId('63fa1deb0613abd661379860')}]}, 'orderCancel': {'timeStamp': '2023-01-29T05:40:51.542Z', 'state': '', 'desc': ''}, 'orderPayment': {'history': [{'timeStamp': '2023-02-22T11:46:26.180Z', 'amount': '15', 'method': 'cash', 'description': 'desc1', '_id': ObjectId('63fa1deb0613abd66137985e')}]}, 'createdAt': datetime.datetime(2023, 1, 29, 5, 46, 52, 235000), 'updatedAt': datetime.datetime(2023, 2, 25, 14, 40, 43, 215000), '__v': 0}, {'_id': ObjectId('63de815bf820f95e82ddee96'), 'clientId': ObjectId('63ce7e473cb25e08b646e2e0'), 'salesperson': '63d57088175d4fbd6cb97e70', 'salesOrder': {'distributorName': 'company1114', 'distributorDetails': 'addr11', 'voucherNo': '', 'dated': '', 'modeTermsOfPayment': '', 'buyerRefOrderNo': '', 'otherRef': '', 'invoiceTo': 'addr1', 'despatchThrough': '', 'destination': '', 'termsOfDelivery': '', 'soTable': [], 'totalQty': 0, 'totalAmt': '', 'amtInWords': ''}, 'invoice': {'distributorName': 'company1114', 'distributorDetails': 'addr11', 'invoiceNo': 'inv554', 'dated': '', 'deliveryNote': '', 'supplierRef': '', 'otherRef': '', 'client': '', 'despatchDocNo': '', 'deliveryNoteDate': '', 'despatchedThrough': '', 'destination': '', 'invTable': [{'siNo': 0, 'descriptionOfGoods': 'prodsku99', 'hsnSAC': 'hsn1', 'GSTRate': '9', 'qty': 1, 'rate': '988', 'per': 'unit', 'amount': '988', '_id': ObjectId('63fa4ff4d7d738df1c63de2d')}], 'totalQty': 1, 'totalAmount': '1077', 'amtChargableInWords': 'one thousand and seventy seven only', 'invTaxTable': [{'hsnSAC': 'hsn1', 'taxableValue': '988', 'centralTaxRate': '4.5', 'centralTaxAmt': '44.46', 'stateTaxRate': '4.5', 'stateTaxAmt': '44.46', '_id': ObjectId('63fa4ff4d7d738df1c63de2c')}], 'totalTaxableValue': '988', 'totalCentralTaxAmt': '44.46', 'totalStateTaxAmt': '44.46', 'taxAmtInWords': 'eighty nine only', 'companyPAN': '', 'companyBankDetails': {'bankName': '', 'acNo': '', 'BranchIFSCode': ''}, 'for': ''}, 'wareHouseReceipt': [{'imgString': '', '_id': ObjectId('63fa4ff4d7d738df1c63de2b')}], 'salesReceipt': {'distributorName': 'company1114', 'distributorDetails': 'addr11', 'soldBy': '', 'date': '', 'name': '', 'address': '', 'mode': '', 'srTable': []}, 'orderDelivery': {'history': []}, 'orderCancel': {'timeStamp': '2023-02-04T16:01:19.998Z', 'state': '', 'desc': ''}, 'orderPayment': {'history': []}, 'createdAt': datetime.datetime(2023, 2, 4, 16, 1, 31, 499000), 'updatedAt': datetime.datetime(2023, 2, 25, 18, 14, 12, 174000), '__v': 0}, {'_id': ObjectId('63f0bf71119c38497d5c89dd'), 'clientId': ObjectId('63de7c32f820f95e82ddee53'), 'salesperson': '63d57088175d4fbd6cb97e70', 'salesOrder': {'distributorName': 'company1114', 'distributorDetails': 'addr11', 'voucherNo': '', 'dated': '', 'modeTermsOfPayment': '', 'buyerRefOrderNo': '', 'otherRef': '', 'invoiceTo': '', 'despatchThrough': '', 'destination': '', 'termsOfDelivery': '', 'soTable': [], 'totalQty': 0, 'totalAmt': '', 'amtInWords': ''}, 'invoice': {'distributorName': 'company1114', 'distributorDetails': 'addr11', 'invoiceNo': 'inv122', 'dated': '', 'deliveryNote': '', 'supplierRef': '', 'otherRef': '', 'client': '', 'despatchDocNo': '', 'deliveryNoteDate': '', 'despatchedThrough': '', 'destination': '', 'invTable': [{'siNo': 0, 'descriptionOfGoods': 'prodSKU3', 'hsnSAC': 'hsn1', 'GSTRate': '5', 'qty': 2, 'rate': '4001', 'per': 'unit', 'amount': '8002', '_id': ObjectId('63fa46610613abd661379de5')}], 'totalQty': 2, 'totalAmount': '8402', 'amtChargableInWords': 'eight thousand four hundred and two only', 'invTaxTable': [{'hsnSAC': 'hsn1', 'taxableValue': '8002', 'centralTaxRate': '2.5', 'centralTaxAmt': '200.05', 'stateTaxRate': '2.5', 'stateTaxAmt': '200.05', '_id': ObjectId('63fa46610613abd661379de4')}], 'totalTaxableValue': '8002', 'totalCentralTaxAmt': '200.05', 'totalStateTaxAmt': '200.05', 'taxAmtInWords': 'four hundred only', 'companyPAN': '', 'companyBankDetails': {'bankName': '', 'acNo': '', 'BranchIFSCode': ''}, 'for': ''}, 'wareHouseReceipt': [{'imgString': '', '_id': ObjectId('63fa46610613abd661379de3')}], 'salesReceipt': {'distributorName': 'company1114', 'distributorDetails': 'addr11', 'soldBy': '', 'date': '', 'name': '', 'address': '', 'mode': '', 'srTable': []}, 'orderDelivery': {'history': []}, 'orderCancel': {'timeStamp': '2023-02-18T12:06:32.504Z', 'state': '', 'desc': ''}, 'orderPayment': {'history': []}, 'createdAt': datetime.datetime(2023, 2, 18, 12, 7, 13, 860000), 'updatedAt': datetime.datetime(2023, 2, 25, 17, 33, 21, 496000), '__v': 0}, {'_id': ObjectId('63fa4c7fd7d738df1c63dd2f'), 'clientId': ObjectId('63e47a71f39019447bec4817'), 'salesperson': '63d57048175d4fbd6cb97e68', 'salesOrder': {'distributorName': 'company1114', 'distributorDetails': 'addr11', 'voucherNo': '', 'dated': '', 'modeTermsOfPayment': '', 'buyerRefOrderNo': '', 'otherRef': '', 'invoiceTo': 'addr test1', 'despatchThrough': '', 'destination': '', 'termsOfDelivery': '', 'soTable': [], 'totalQty': 0, 'totalAmt': '', 'amtInWords': ''}, 'invoice': {'distributorName': 'company1114', 'distributorDetails': 'addr11', 'invoiceNo': 'in668', 'dated': '', 'deliveryNote': '', 'supplierRef': '', 'otherRef': '', 'client': '', 'despatchDocNo': '', 'deliveryNoteDate': '', 'despatchedThrough': '', 'destination': '', 'invTable': [{'siNo': 0, 'descriptionOfGoods': 'prodsku20', 'hsnSAC': 'hsn2', 'GSTRate': '5', 'qty': 2, 'rate': '1200', 'per': 'unit', 'amount': '2400', '_id': ObjectId('63fa504bd7d738df1c63df78')}], 'totalQty': 2, 'totalAmount': '2520', 'amtChargableInWords': 'two thousand five hundred and twenty only', 'invTaxTable': [{'hsnSAC': 'hsn2', 'taxableValue': '2400', 'centralTaxRate': '2.5', 'centralTaxAmt': '60', 'stateTaxRate': '2.5', 'stateTaxAmt': '60', '_id': ObjectId('63fa504bd7d738df1c63df77')}], 'totalTaxableValue': '2400', 'totalCentralTaxAmt': '60', 'totalStateTaxAmt': '60', 'taxAmtInWords': 'one hundred and twenty only', 'companyPAN': '', 'companyBankDetails': {'bankName': '', 'acNo': '', 'BranchIFSCode': ''}, 'for': ''}, 'wareHouseReceipt': [{'imgString': '', '_id': ObjectId('63fa504bd7d738df1c63df76')}], 'salesReceipt': {'distributorName': 'company1114', 'distributorDetails': 'addr11', 'soldBy': '', 'date': '', 'name': '', 'address': '', 'mode': '', 'srTable': []}, 'orderDelivery': {'history': []}, 'orderCancel': {'timeStamp': '2023-02-25T17:59:07.674Z', 'state': '', 'desc': ''}, 'orderPayment': {'history': []}, 'createdAt': datetime.datetime(2023, 2, 25, 17, 59, 27, 970000), 'updatedAt': datetime.datetime(2023, 2, 25, 18, 15, 39, 687000), '__v': 0}]\n"
     ]
    }
   ],
   "source": [
    "do_all_records = dlom_orders_collection.find()\n",
    "do_list_cursor = list(do_all_records)\n",
    "print(do_list_cursor)"
   ]
  },
  {
   "cell_type": "code",
   "execution_count": 28,
   "id": "4490e3ad",
   "metadata": {},
   "outputs": [
    {
     "data": {
      "text/html": [
       "<div>\n",
       "<style scoped>\n",
       "    .dataframe tbody tr th:only-of-type {\n",
       "        vertical-align: middle;\n",
       "    }\n",
       "\n",
       "    .dataframe tbody tr th {\n",
       "        vertical-align: top;\n",
       "    }\n",
       "\n",
       "    .dataframe thead th {\n",
       "        text-align: right;\n",
       "    }\n",
       "</style>\n",
       "<table border=\"1\" class=\"dataframe\">\n",
       "  <thead>\n",
       "    <tr style=\"text-align: right;\">\n",
       "      <th></th>\n",
       "      <th>_id</th>\n",
       "      <th>clientId</th>\n",
       "      <th>salesperson</th>\n",
       "      <th>salesOrder</th>\n",
       "      <th>invoice</th>\n",
       "      <th>wareHouseReceipt</th>\n",
       "      <th>salesReceipt</th>\n",
       "      <th>orderDelivery</th>\n",
       "      <th>orderCancel</th>\n",
       "      <th>orderPayment</th>\n",
       "      <th>createdAt</th>\n",
       "      <th>updatedAt</th>\n",
       "      <th>__v</th>\n",
       "    </tr>\n",
       "  </thead>\n",
       "  <tbody>\n",
       "    <tr>\n",
       "      <th>0</th>\n",
       "      <td>63ce7e543cb25e08b646e2e8</td>\n",
       "      <td>63ce7e473cb25e08b646e2e0</td>\n",
       "      <td>63d57088175d4fbd6cb97e70</td>\n",
       "      <td>{'distributorName': 'company1114', 'distributo...</td>\n",
       "      <td>{'distributorName': 'company1114', 'distributo...</td>\n",
       "      <td>[{'imgString': 'testimg url1', '_id': 63faed58...</td>\n",
       "      <td>{'distributorName': 'company1114', 'distributo...</td>\n",
       "      <td>{'history': [{'timeStamp': '2023-02-18T12:12:3...</td>\n",
       "      <td>{'timeStamp': '2023-01-23T12:32:13.152Z', 'sta...</td>\n",
       "      <td>{'history': [{'timeStamp': '2023-02-18T12:13:1...</td>\n",
       "      <td>2023-01-23 12:32:20.243</td>\n",
       "      <td>2023-02-26 05:25:44.253</td>\n",
       "      <td>0</td>\n",
       "    </tr>\n",
       "    <tr>\n",
       "      <th>1</th>\n",
       "      <td>63cf8c6b0f0f991962134b55</td>\n",
       "      <td>63ce7e473cb25e08b646e2e0</td>\n",
       "      <td></td>\n",
       "      <td>{'distributorName': 'company11146', 'distribut...</td>\n",
       "      <td>{'distributorName': 'company11146', 'distribut...</td>\n",
       "      <td>[{'imgString': '', '_id': 63f60d143df4288c08ee...</td>\n",
       "      <td>{'distributorName': 'company11146', 'distribut...</td>\n",
       "      <td>{'history': [{'timeStamp': '2023-02-22T12:36:3...</td>\n",
       "      <td>{'timeStamp': '2023-01-24T07:44:25.257Z', 'sta...</td>\n",
       "      <td>{'history': [{'timeStamp': '2023-02-22T12:39:3...</td>\n",
       "      <td>2023-01-24 07:44:43.616</td>\n",
       "      <td>2023-02-22 12:39:48.669</td>\n",
       "      <td>0</td>\n",
       "    </tr>\n",
       "    <tr>\n",
       "      <th>2</th>\n",
       "      <td>63d247f7ef4b90ee6baa5777</td>\n",
       "      <td>63ce7e473cb25e08b646e2e0</td>\n",
       "      <td></td>\n",
       "      <td>{'distributorName': 'company11146', 'distribut...</td>\n",
       "      <td>{'distributorName': 'company11146', 'distribut...</td>\n",
       "      <td>[{'imgString': '', '_id': 63f0c158119c38497d5c...</td>\n",
       "      <td>{'distributorName': 'company11146', 'distribut...</td>\n",
       "      <td>{'history': []}</td>\n",
       "      <td>{'timeStamp': '2023-01-26T09:29:15.749Z', 'sta...</td>\n",
       "      <td>{'history': []}</td>\n",
       "      <td>2023-01-26 09:29:27.505</td>\n",
       "      <td>2023-02-18 12:15:20.148</td>\n",
       "      <td>0</td>\n",
       "    </tr>\n",
       "    <tr>\n",
       "      <th>3</th>\n",
       "      <td>63d6084c552dd4d69eee1f57</td>\n",
       "      <td>63ce7e473cb25e08b646e2e0</td>\n",
       "      <td>63d57048175d4fbd6cb97e68</td>\n",
       "      <td>{'distributorName': 'company1114', 'distributo...</td>\n",
       "      <td>{'distributorName': 'company1114', 'distributo...</td>\n",
       "      <td>[{'imgString': '', '_id': 63fa1deb0613abd66137...</td>\n",
       "      <td>{'distributorName': 'company1114', 'distributo...</td>\n",
       "      <td>{'history': [{'timeStamp': '2023-01-29T08:33:5...</td>\n",
       "      <td>{'timeStamp': '2023-01-29T05:40:51.542Z', 'sta...</td>\n",
       "      <td>{'history': [{'timeStamp': '2023-02-22T11:46:2...</td>\n",
       "      <td>2023-01-29 05:46:52.235</td>\n",
       "      <td>2023-02-25 14:40:43.215</td>\n",
       "      <td>0</td>\n",
       "    </tr>\n",
       "    <tr>\n",
       "      <th>4</th>\n",
       "      <td>63de815bf820f95e82ddee96</td>\n",
       "      <td>63ce7e473cb25e08b646e2e0</td>\n",
       "      <td>63d57088175d4fbd6cb97e70</td>\n",
       "      <td>{'distributorName': 'company1114', 'distributo...</td>\n",
       "      <td>{'distributorName': 'company1114', 'distributo...</td>\n",
       "      <td>[{'imgString': '', '_id': 63fa4ff4d7d738df1c63...</td>\n",
       "      <td>{'distributorName': 'company1114', 'distributo...</td>\n",
       "      <td>{'history': []}</td>\n",
       "      <td>{'timeStamp': '2023-02-04T16:01:19.998Z', 'sta...</td>\n",
       "      <td>{'history': []}</td>\n",
       "      <td>2023-02-04 16:01:31.499</td>\n",
       "      <td>2023-02-25 18:14:12.174</td>\n",
       "      <td>0</td>\n",
       "    </tr>\n",
       "  </tbody>\n",
       "</table>\n",
       "</div>"
      ],
      "text/plain": [
       "                        _id                  clientId  \\\n",
       "0  63ce7e543cb25e08b646e2e8  63ce7e473cb25e08b646e2e0   \n",
       "1  63cf8c6b0f0f991962134b55  63ce7e473cb25e08b646e2e0   \n",
       "2  63d247f7ef4b90ee6baa5777  63ce7e473cb25e08b646e2e0   \n",
       "3  63d6084c552dd4d69eee1f57  63ce7e473cb25e08b646e2e0   \n",
       "4  63de815bf820f95e82ddee96  63ce7e473cb25e08b646e2e0   \n",
       "\n",
       "                salesperson  \\\n",
       "0  63d57088175d4fbd6cb97e70   \n",
       "1                             \n",
       "2                             \n",
       "3  63d57048175d4fbd6cb97e68   \n",
       "4  63d57088175d4fbd6cb97e70   \n",
       "\n",
       "                                          salesOrder  \\\n",
       "0  {'distributorName': 'company1114', 'distributo...   \n",
       "1  {'distributorName': 'company11146', 'distribut...   \n",
       "2  {'distributorName': 'company11146', 'distribut...   \n",
       "3  {'distributorName': 'company1114', 'distributo...   \n",
       "4  {'distributorName': 'company1114', 'distributo...   \n",
       "\n",
       "                                             invoice  \\\n",
       "0  {'distributorName': 'company1114', 'distributo...   \n",
       "1  {'distributorName': 'company11146', 'distribut...   \n",
       "2  {'distributorName': 'company11146', 'distribut...   \n",
       "3  {'distributorName': 'company1114', 'distributo...   \n",
       "4  {'distributorName': 'company1114', 'distributo...   \n",
       "\n",
       "                                    wareHouseReceipt  \\\n",
       "0  [{'imgString': 'testimg url1', '_id': 63faed58...   \n",
       "1  [{'imgString': '', '_id': 63f60d143df4288c08ee...   \n",
       "2  [{'imgString': '', '_id': 63f0c158119c38497d5c...   \n",
       "3  [{'imgString': '', '_id': 63fa1deb0613abd66137...   \n",
       "4  [{'imgString': '', '_id': 63fa4ff4d7d738df1c63...   \n",
       "\n",
       "                                        salesReceipt  \\\n",
       "0  {'distributorName': 'company1114', 'distributo...   \n",
       "1  {'distributorName': 'company11146', 'distribut...   \n",
       "2  {'distributorName': 'company11146', 'distribut...   \n",
       "3  {'distributorName': 'company1114', 'distributo...   \n",
       "4  {'distributorName': 'company1114', 'distributo...   \n",
       "\n",
       "                                       orderDelivery  \\\n",
       "0  {'history': [{'timeStamp': '2023-02-18T12:12:3...   \n",
       "1  {'history': [{'timeStamp': '2023-02-22T12:36:3...   \n",
       "2                                    {'history': []}   \n",
       "3  {'history': [{'timeStamp': '2023-01-29T08:33:5...   \n",
       "4                                    {'history': []}   \n",
       "\n",
       "                                         orderCancel  \\\n",
       "0  {'timeStamp': '2023-01-23T12:32:13.152Z', 'sta...   \n",
       "1  {'timeStamp': '2023-01-24T07:44:25.257Z', 'sta...   \n",
       "2  {'timeStamp': '2023-01-26T09:29:15.749Z', 'sta...   \n",
       "3  {'timeStamp': '2023-01-29T05:40:51.542Z', 'sta...   \n",
       "4  {'timeStamp': '2023-02-04T16:01:19.998Z', 'sta...   \n",
       "\n",
       "                                        orderPayment               createdAt  \\\n",
       "0  {'history': [{'timeStamp': '2023-02-18T12:13:1... 2023-01-23 12:32:20.243   \n",
       "1  {'history': [{'timeStamp': '2023-02-22T12:39:3... 2023-01-24 07:44:43.616   \n",
       "2                                    {'history': []} 2023-01-26 09:29:27.505   \n",
       "3  {'history': [{'timeStamp': '2023-02-22T11:46:2... 2023-01-29 05:46:52.235   \n",
       "4                                    {'history': []} 2023-02-04 16:01:31.499   \n",
       "\n",
       "                updatedAt  __v  \n",
       "0 2023-02-26 05:25:44.253    0  \n",
       "1 2023-02-22 12:39:48.669    0  \n",
       "2 2023-02-18 12:15:20.148    0  \n",
       "3 2023-02-25 14:40:43.215    0  \n",
       "4 2023-02-25 18:14:12.174    0  "
      ]
     },
     "execution_count": 28,
     "metadata": {},
     "output_type": "execute_result"
    }
   ],
   "source": [
    "do_df = pd.DataFrame(do_list_cursor)\n",
    "do_df.head()"
   ]
  },
  {
   "cell_type": "code",
   "execution_count": 29,
   "id": "8983a331",
   "metadata": {},
   "outputs": [
    {
     "name": "stdout",
     "output_type": "stream",
     "text": [
      "_id                         object\n",
      "clientId                    object\n",
      "salesperson                 object\n",
      "salesOrder                  object\n",
      "invoice                     object\n",
      "wareHouseReceipt            object\n",
      "salesReceipt                object\n",
      "orderDelivery               object\n",
      "orderCancel                 object\n",
      "orderPayment                object\n",
      "createdAt           datetime64[ns]\n",
      "updatedAt           datetime64[ns]\n",
      "__v                          int64\n",
      "dtype: object\n"
     ]
    }
   ],
   "source": [
    "print(do_df.dtypes)"
   ]
  },
  {
   "cell_type": "code",
   "execution_count": 30,
   "id": "32651a1f",
   "metadata": {},
   "outputs": [
    {
     "name": "stdout",
     "output_type": "stream",
     "text": [
      "[{'_id': ObjectId('63ce7e473cb25e08b646e2e0'), 'companyName': 'company1', 'contactPersonName': 'cp11', 'address': 'addr1', 'gst': 'gst1', 'phoneNumber': '123456789', 'discountRate': '5', 'salesPersonAssigned': 'sp1', 'clientSocialMedia': [{'title': 'country', 'link': 'IND', '_id': ObjectId('63fa53c5d7d738df1c63e01b')}, {'title': 'LinkedIN', 'link': 'https://www.linkedin.com/in/neel-choksi-73232719b/', '_id': ObjectId('63fa53c5d7d738df1c63e01c')}], 'typeOfCustomer': 'permanent', 'crm': [{'msg': 'msg15', 'personType': 'client', 'timestamp': '2023-01-29 03:09', '_id': ObjectId('63f7a0b49ab1059988e8e15c')}, {'msg': 'msg123', 'personType': 'sp', 'timestamp': '2023-02-19 00:12', '_id': ObjectId('63f7a0b49ab1059988e8e15d')}, {'msg': 'msg1222 adfjalfja;lka j;fla jfa jfa j  aifjpao iafa fapjosdfia jfa fjapofjapo fajp foajpfoa fjapo jafja   a  a f     ', 'personType': 'client', 'timestamp': '2023-02-19 00:12', '_id': ObjectId('63f7a0b49ab1059988e8e15e')}, {'msg': 'msg676761', 'personType': 'sp', 'timestamp': '2023-02-23 00:12', '_id': ObjectId('63f7a0b49ab1059988e8e15f')}], '__v': 0}, {'_id': ObjectId('63de7c32f820f95e82ddee53'), 'companyName': 'comp2', 'contactPersonName': 'cp23', 'address': 'addr38', 'gst': 'gst334', 'phoneNumber': '39048348', 'discountRate': '7', 'salesPersonAssigned': 'sp2', 'clientSocialMedia': [{'title': 'country', 'link': 'IND', '_id': ObjectId('63fa53fad7d738df1c63e02e')}], 'typeOfCustomer': 'permanent', 'crm': [{'msg': 'msg1', 'personType': 'client', 'timestamp': '2023-02-20 00:12', '_id': ObjectId('63fb13bef8c0a4de3b674393')}, {'msg': 'Feeling really good about the previous products.', 'personType': 'sp', 'timestamp': '2023-02-26 00:12', '_id': ObjectId('63fb13bef8c0a4de3b674394')}, {'msg': 'Feeling bad about your services', 'personType': 'sp', 'timestamp': '2023-02-26 00:12', '_id': ObjectId('63fb13bef8c0a4de3b674395')}], '__v': 0}, {'_id': ObjectId('63e47a71f39019447bec4817'), 'companyName': 'test1', 'contactPersonName': 'cp2', 'address': 'addr test1', 'gst': 'gst test1', 'phoneNumber': '29824983', 'discountRate': '4', 'salesPersonAssigned': 'sp2', 'clientSocialMedia': [{'title': 'country', 'link': 'FRA', '_id': ObjectId('63fa540cd7d738df1c63e03c')}], 'typeOfCustomer': 'potential', 'crm': [], '__v': 0}]\n"
     ]
    }
   ],
   "source": [
    "dc_all_records = dlom_clients_collection.find()\n",
    "dc_list_cursor = list(dc_all_records)\n",
    "print(dc_list_cursor)"
   ]
  },
  {
   "cell_type": "code",
   "execution_count": 31,
   "id": "4f40473f",
   "metadata": {},
   "outputs": [
    {
     "data": {
      "text/html": [
       "<div>\n",
       "<style scoped>\n",
       "    .dataframe tbody tr th:only-of-type {\n",
       "        vertical-align: middle;\n",
       "    }\n",
       "\n",
       "    .dataframe tbody tr th {\n",
       "        vertical-align: top;\n",
       "    }\n",
       "\n",
       "    .dataframe thead th {\n",
       "        text-align: right;\n",
       "    }\n",
       "</style>\n",
       "<table border=\"1\" class=\"dataframe\">\n",
       "  <thead>\n",
       "    <tr style=\"text-align: right;\">\n",
       "      <th></th>\n",
       "      <th>_id</th>\n",
       "      <th>companyName</th>\n",
       "      <th>contactPersonName</th>\n",
       "      <th>address</th>\n",
       "      <th>gst</th>\n",
       "      <th>phoneNumber</th>\n",
       "      <th>discountRate</th>\n",
       "      <th>salesPersonAssigned</th>\n",
       "      <th>clientSocialMedia</th>\n",
       "      <th>typeOfCustomer</th>\n",
       "      <th>crm</th>\n",
       "      <th>__v</th>\n",
       "    </tr>\n",
       "  </thead>\n",
       "  <tbody>\n",
       "    <tr>\n",
       "      <th>0</th>\n",
       "      <td>63ce7e473cb25e08b646e2e0</td>\n",
       "      <td>company1</td>\n",
       "      <td>cp11</td>\n",
       "      <td>addr1</td>\n",
       "      <td>gst1</td>\n",
       "      <td>123456789</td>\n",
       "      <td>5</td>\n",
       "      <td>sp1</td>\n",
       "      <td>[{'title': 'country', 'link': 'IND', '_id': 63...</td>\n",
       "      <td>permanent</td>\n",
       "      <td>[{'msg': 'msg15', 'personType': 'client', 'tim...</td>\n",
       "      <td>0</td>\n",
       "    </tr>\n",
       "    <tr>\n",
       "      <th>1</th>\n",
       "      <td>63de7c32f820f95e82ddee53</td>\n",
       "      <td>comp2</td>\n",
       "      <td>cp23</td>\n",
       "      <td>addr38</td>\n",
       "      <td>gst334</td>\n",
       "      <td>39048348</td>\n",
       "      <td>7</td>\n",
       "      <td>sp2</td>\n",
       "      <td>[{'title': 'country', 'link': 'IND', '_id': 63...</td>\n",
       "      <td>permanent</td>\n",
       "      <td>[{'msg': 'msg1', 'personType': 'client', 'time...</td>\n",
       "      <td>0</td>\n",
       "    </tr>\n",
       "    <tr>\n",
       "      <th>2</th>\n",
       "      <td>63e47a71f39019447bec4817</td>\n",
       "      <td>test1</td>\n",
       "      <td>cp2</td>\n",
       "      <td>addr test1</td>\n",
       "      <td>gst test1</td>\n",
       "      <td>29824983</td>\n",
       "      <td>4</td>\n",
       "      <td>sp2</td>\n",
       "      <td>[{'title': 'country', 'link': 'FRA', '_id': 63...</td>\n",
       "      <td>potential</td>\n",
       "      <td>[]</td>\n",
       "      <td>0</td>\n",
       "    </tr>\n",
       "  </tbody>\n",
       "</table>\n",
       "</div>"
      ],
      "text/plain": [
       "                        _id companyName contactPersonName     address  \\\n",
       "0  63ce7e473cb25e08b646e2e0    company1              cp11       addr1   \n",
       "1  63de7c32f820f95e82ddee53       comp2              cp23      addr38   \n",
       "2  63e47a71f39019447bec4817       test1               cp2  addr test1   \n",
       "\n",
       "         gst phoneNumber discountRate salesPersonAssigned  \\\n",
       "0       gst1   123456789            5                 sp1   \n",
       "1     gst334    39048348            7                 sp2   \n",
       "2  gst test1    29824983            4                 sp2   \n",
       "\n",
       "                                   clientSocialMedia typeOfCustomer  \\\n",
       "0  [{'title': 'country', 'link': 'IND', '_id': 63...      permanent   \n",
       "1  [{'title': 'country', 'link': 'IND', '_id': 63...      permanent   \n",
       "2  [{'title': 'country', 'link': 'FRA', '_id': 63...      potential   \n",
       "\n",
       "                                                 crm  __v  \n",
       "0  [{'msg': 'msg15', 'personType': 'client', 'tim...    0  \n",
       "1  [{'msg': 'msg1', 'personType': 'client', 'time...    0  \n",
       "2                                                 []    0  "
      ]
     },
     "execution_count": 31,
     "metadata": {},
     "output_type": "execute_result"
    }
   ],
   "source": [
    "dc_df = pd.DataFrame(dc_list_cursor)\n",
    "dc_df.head()"
   ]
  },
  {
   "cell_type": "code",
   "execution_count": 32,
   "id": "c8af2baa",
   "metadata": {},
   "outputs": [
    {
     "name": "stdout",
     "output_type": "stream",
     "text": [
      "_id                    object\n",
      "companyName            object\n",
      "contactPersonName      object\n",
      "address                object\n",
      "gst                    object\n",
      "phoneNumber            object\n",
      "discountRate           object\n",
      "salesPersonAssigned    object\n",
      "clientSocialMedia      object\n",
      "typeOfCustomer         object\n",
      "crm                    object\n",
      "__v                     int64\n",
      "dtype: object\n"
     ]
    }
   ],
   "source": [
    "print(dc_df.dtypes)"
   ]
  },
  {
   "cell_type": "code",
   "execution_count": 33,
   "id": "be0eeb82",
   "metadata": {},
   "outputs": [],
   "source": [
    "monthDayCombo = []\n",
    "uid=0\n",
    "for i in range(1,13):\n",
    "    m_string = \"\"\n",
    "    if(i<10):\n",
    "        m_string = \"0\"+str(i)\n",
    "    else:\n",
    "        m_string = str(i)\n",
    "\n",
    "    for j in range(0,7):\n",
    "        monthDayCombo.append({\n",
    "            'id':uid,\n",
    "            'day':str(j),\n",
    "            'month':m_string\n",
    "        })\n",
    "        uid = uid + 1"
   ]
  },
  {
   "cell_type": "code",
   "execution_count": 34,
   "id": "0379c638",
   "metadata": {
    "scrolled": true
   },
   "outputs": [
    {
     "data": {
      "text/plain": [
       "[{'orderId': '63ce7e543cb25e08b646e2e8',\n",
       "  'clientId': '63ce7e473cb25e08b646e2e0',\n",
       "  'clientName': 'company1',\n",
       "  'qty': 4,\n",
       "  'sales': 4857.0,\n",
       "  'month': '02',\n",
       "  'day': '6',\n",
       "  'cliAvgSenti': 1.0,\n",
       "  'spAvgSenti': 1.0},\n",
       " {'orderId': '63cf8c6b0f0f991962134b55',\n",
       "  'clientId': '63ce7e473cb25e08b646e2e0',\n",
       "  'clientName': 'company1',\n",
       "  'qty': 0,\n",
       "  'sales': 0.0,\n",
       "  'month': '02',\n",
       "  'day': '6',\n",
       "  'cliAvgSenti': 1.0,\n",
       "  'spAvgSenti': 1.0},\n",
       " {'orderId': '63d247f7ef4b90ee6baa5777',\n",
       "  'clientId': '63ce7e473cb25e08b646e2e0',\n",
       "  'clientName': 'company1',\n",
       "  'qty': 0,\n",
       "  'sales': 0.0,\n",
       "  'month': '02',\n",
       "  'day': '6',\n",
       "  'cliAvgSenti': 1.0,\n",
       "  'spAvgSenti': 1.0},\n",
       " {'orderId': '63d6084c552dd4d69eee1f57',\n",
       "  'clientId': '63ce7e473cb25e08b646e2e0',\n",
       "  'clientName': 'company1',\n",
       "  'qty': 5,\n",
       "  'sales': 27.0,\n",
       "  'month': '01',\n",
       "  'day': '0',\n",
       "  'cliAvgSenti': 1.0,\n",
       "  'spAvgSenti': 1.0},\n",
       " {'orderId': '63de815bf820f95e82ddee96',\n",
       "  'clientId': '63ce7e473cb25e08b646e2e0',\n",
       "  'clientName': 'company1',\n",
       "  'qty': 1,\n",
       "  'sales': 1077.0,\n",
       "  'month': '02',\n",
       "  'day': '6',\n",
       "  'cliAvgSenti': 1.0,\n",
       "  'spAvgSenti': 1.0},\n",
       " {'orderId': '63f0bf71119c38497d5c89dd',\n",
       "  'clientId': '63de7c32f820f95e82ddee53',\n",
       "  'clientName': 'comp2',\n",
       "  'qty': 2,\n",
       "  'sales': 8402.0,\n",
       "  'month': '02',\n",
       "  'day': '6',\n",
       "  'cliAvgSenti': 1.0,\n",
       "  'spAvgSenti': 0.5},\n",
       " {'orderId': '63fa4c7fd7d738df1c63dd2f',\n",
       "  'clientId': '63e47a71f39019447bec4817',\n",
       "  'clientName': 'test1',\n",
       "  'qty': 2,\n",
       "  'sales': 2520.0,\n",
       "  'month': '02',\n",
       "  'day': '6',\n",
       "  'cliAvgSenti': 0.0,\n",
       "  'spAvgSenti': 0.0}]"
      ]
     },
     "execution_count": 34,
     "metadata": {},
     "output_type": "execute_result"
    }
   ],
   "source": [
    "dc_all_records = dlom_clients_collection.find()\n",
    "dc_list = list(dc_all_records)\n",
    "# print(len(dc_list))\n",
    "\n",
    "dol_all_records = dlom_orderlogs_collection.find()\n",
    "dol_list = list(dol_all_records)\n",
    "# print(len(dol_list))\n",
    "\n",
    "do_all_records = dlom_orders_collection.find()\n",
    "do_list = list(do_all_records)\n",
    "do_list_processed = []\n",
    "prods_list_processed = []\n",
    "for item in do_list:\n",
    "    #for product list:\n",
    "    \n",
    "    \n",
    "    #for order list:\n",
    "    clientName = \"\"\n",
    "    qty = 0 \n",
    "    order_id = \"\"\n",
    "    sales = \"\"\n",
    "    timestamp = \"\"\n",
    "    day = \"\"\n",
    "    month = \"\"\n",
    "    cliAvgSenti = float(0)\n",
    "    spAvgSenti = float(0)\n",
    "#     print(item['clientId'])\n",
    "    clichats = []\n",
    "    spchats = []\n",
    "    \n",
    "    \n",
    "    for cli in dc_list:\n",
    "        if cli['_id'] == item['clientId']:\n",
    "            clientName = cli['companyName']\n",
    "#             print(list(cli['crm']))\n",
    "            for crm in cli['crm']:\n",
    "                if(len(crm)>0):\n",
    "                    if(crm['personType']=='client'):\n",
    "                        clichats.append(crm['msg'])\n",
    "                    elif (crm['personType']=='sp'):\n",
    "                        spchats.append(crm['msg'])\n",
    "#                 print(crm)\n",
    "            \n",
    "#             print(clientName)\n",
    "#     print(clichats)\n",
    "#     print(spchats)\n",
    "    if(len(clichats)>0):\n",
    "        cliChatsPreds = predict(loaded_pipe,clichats)\n",
    "        for cc in cliChatsPreds:\n",
    "            cliAvgSenti = cliAvgSenti + float(cc[1])\n",
    "        cliAvgSenti = cliAvgSenti/len(cliChatsPreds)\n",
    "        \n",
    "        \n",
    "    if(len(spchats)>0):\n",
    "        spChatsPreds = predict(loaded_pipe,spchats)\n",
    "        for sc in spChatsPreds:\n",
    "            spAvgSenti = spAvgSenti + float(sc[1])\n",
    "        spAvgSenti = spAvgSenti/len(spChatsPreds)\n",
    "\n",
    "        \n",
    "#     print(cliChatsPreds)\n",
    "#     print(spChatsPreds)\n",
    "    \n",
    "    qty = int(item['invoice']['totalQty'])\n",
    "#     print(qty)\n",
    "    \n",
    "    order_id = str(item['_id'])\n",
    "#     print(order_id)\n",
    "    \n",
    "    sales = item['invoice']['totalAmount']\n",
    "    \n",
    "    sales_float =float(0)\n",
    "    if(sales != \"\"):\n",
    "        sales_float = float(sales)\n",
    "    \n",
    "    for dol in dol_list:\n",
    "        if(dol['order']['invoice']['invoiceNo'] == item['invoice']['invoiceNo'] and dol['operation']==\"invoice\"):\n",
    "            timestamp = datetime.datetime.strptime(str(dol['createdAt']), '%Y-%m-%d %H:%M:%S.%f')\n",
    "            month = timestamp.strftime(\"%m\")\n",
    "            day = timestamp.strftime(\"%w\")\n",
    "            break\n",
    "            \n",
    "    \n",
    "    \n",
    "    do_list_processed.append({\n",
    "        'orderId':order_id, \n",
    "        'clientId':str(item['clientId']),\n",
    "        'clientName':clientName,\n",
    "        'qty':qty,\n",
    "        'sales':sales_float,\n",
    "        'month':month,\n",
    "        'day':day,\n",
    "        'cliAvgSenti':cliAvgSenti,\n",
    "        'spAvgSenti':spAvgSenti\n",
    "    })\n",
    "    \n",
    "    if(len(item['invoice']['invTable'])>0):\n",
    "        for prod in item['invoice']['invTable']:\n",
    "#             print(prod)\n",
    "            prods_list_processed.append({\n",
    "                'prodName':prod['descriptionOfGoods'],\n",
    "                'clientName':clientName,\n",
    "                'month':month,\n",
    "                'day':day,\n",
    "                'orderQty':qty,\n",
    "                'orderTotal':sales_float,\n",
    "                'cliAvgSenti':cliAvgSenti,\n",
    "                'spAvgSenti':spAvgSenti,\n",
    "                'sales':float(prod['amount'])\n",
    "            })\n",
    "    \n",
    "\n",
    "dc_list_processed = []\n",
    "for client in dc_list:\n",
    "    \n",
    "    clientOrders = []\n",
    "    for order in do_list_processed:\n",
    "        if order['clientId'] == str(client['_id']):\n",
    "            clientOrders.append(order)\n",
    "    \n",
    "#     print(clientOrders)\n",
    "\n",
    "    \n",
    "    processed_cliOrders = []\n",
    "    qty = 0\n",
    "    for clio in clientOrders:\n",
    "        for mdc in monthDayCombo:\n",
    "            if(mdc['month']==clio['month']):\n",
    "                if(mdc['day']==clio['day']):\n",
    "                    processed_cliOrders.append({\n",
    "                        'id':mdc['id'],\n",
    "                        'qty':clio['qty'],\n",
    "                        'sales':clio['sales']\n",
    "                    })\n",
    "    unique_ids = [] \n",
    "    for pco in processed_cliOrders:\n",
    "        if pco['id'] in unique_ids:\n",
    "            continue\n",
    "        else :\n",
    "            unique_ids.append(pco['id'])\n",
    "    \n",
    "    for uid in unique_ids :\n",
    "        qty_1 =0 \n",
    "        sales_1 = float(0)\n",
    "        month_1 = \"\"\n",
    "        day_1 = \"\"\n",
    "        \n",
    "        for pco in processed_cliOrders:\n",
    "            if(pco['id']==uid):\n",
    "                qty_1 =qty_1 + pco['qty']\n",
    "                sales_1 = sales_1 + pco['sales'] \n",
    "                \n",
    "        for entry in monthDayCombo:\n",
    "            if(entry['id']==uid):\n",
    "                month_1 = entry['month']\n",
    "                day_1 = entry['day']\n",
    "        \n",
    "        dc_list_processed.append({\n",
    "            'cliName':client['companyName'],\n",
    "            'month':month_1,\n",
    "            'day':day_1,\n",
    "            'qty':qty_1,\n",
    "            'sales':sales_1\n",
    "        })\n",
    "    \n",
    "#     print(monthDayCombo)\n",
    "#     print(processed_cliOrders)\n",
    "#     print(unique_ids)\n",
    "    \n",
    "#     print(\"\\n\\n\")\n",
    "\n",
    "#     print(\"\\n\\n\")\n",
    "do_list_processed"
   ]
  },
  {
   "cell_type": "code",
   "execution_count": 35,
   "id": "b644dc73",
   "metadata": {},
   "outputs": [
    {
     "data": {
      "text/html": [
       "<div>\n",
       "<style scoped>\n",
       "    .dataframe tbody tr th:only-of-type {\n",
       "        vertical-align: middle;\n",
       "    }\n",
       "\n",
       "    .dataframe tbody tr th {\n",
       "        vertical-align: top;\n",
       "    }\n",
       "\n",
       "    .dataframe thead th {\n",
       "        text-align: right;\n",
       "    }\n",
       "</style>\n",
       "<table border=\"1\" class=\"dataframe\">\n",
       "  <thead>\n",
       "    <tr style=\"text-align: right;\">\n",
       "      <th></th>\n",
       "      <th>orderId</th>\n",
       "      <th>clientId</th>\n",
       "      <th>clientName</th>\n",
       "      <th>qty</th>\n",
       "      <th>sales</th>\n",
       "      <th>month</th>\n",
       "      <th>day</th>\n",
       "      <th>cliAvgSenti</th>\n",
       "      <th>spAvgSenti</th>\n",
       "    </tr>\n",
       "  </thead>\n",
       "  <tbody>\n",
       "    <tr>\n",
       "      <th>0</th>\n",
       "      <td>63ce7e543cb25e08b646e2e8</td>\n",
       "      <td>63ce7e473cb25e08b646e2e0</td>\n",
       "      <td>company1</td>\n",
       "      <td>4</td>\n",
       "      <td>4857.0</td>\n",
       "      <td>02</td>\n",
       "      <td>6</td>\n",
       "      <td>1.0</td>\n",
       "      <td>1.0</td>\n",
       "    </tr>\n",
       "    <tr>\n",
       "      <th>1</th>\n",
       "      <td>63cf8c6b0f0f991962134b55</td>\n",
       "      <td>63ce7e473cb25e08b646e2e0</td>\n",
       "      <td>company1</td>\n",
       "      <td>0</td>\n",
       "      <td>0.0</td>\n",
       "      <td>02</td>\n",
       "      <td>6</td>\n",
       "      <td>1.0</td>\n",
       "      <td>1.0</td>\n",
       "    </tr>\n",
       "    <tr>\n",
       "      <th>2</th>\n",
       "      <td>63d247f7ef4b90ee6baa5777</td>\n",
       "      <td>63ce7e473cb25e08b646e2e0</td>\n",
       "      <td>company1</td>\n",
       "      <td>0</td>\n",
       "      <td>0.0</td>\n",
       "      <td>02</td>\n",
       "      <td>6</td>\n",
       "      <td>1.0</td>\n",
       "      <td>1.0</td>\n",
       "    </tr>\n",
       "    <tr>\n",
       "      <th>3</th>\n",
       "      <td>63d6084c552dd4d69eee1f57</td>\n",
       "      <td>63ce7e473cb25e08b646e2e0</td>\n",
       "      <td>company1</td>\n",
       "      <td>5</td>\n",
       "      <td>27.0</td>\n",
       "      <td>01</td>\n",
       "      <td>0</td>\n",
       "      <td>1.0</td>\n",
       "      <td>1.0</td>\n",
       "    </tr>\n",
       "    <tr>\n",
       "      <th>4</th>\n",
       "      <td>63de815bf820f95e82ddee96</td>\n",
       "      <td>63ce7e473cb25e08b646e2e0</td>\n",
       "      <td>company1</td>\n",
       "      <td>1</td>\n",
       "      <td>1077.0</td>\n",
       "      <td>02</td>\n",
       "      <td>6</td>\n",
       "      <td>1.0</td>\n",
       "      <td>1.0</td>\n",
       "    </tr>\n",
       "    <tr>\n",
       "      <th>5</th>\n",
       "      <td>63f0bf71119c38497d5c89dd</td>\n",
       "      <td>63de7c32f820f95e82ddee53</td>\n",
       "      <td>comp2</td>\n",
       "      <td>2</td>\n",
       "      <td>8402.0</td>\n",
       "      <td>02</td>\n",
       "      <td>6</td>\n",
       "      <td>1.0</td>\n",
       "      <td>0.5</td>\n",
       "    </tr>\n",
       "    <tr>\n",
       "      <th>6</th>\n",
       "      <td>63fa4c7fd7d738df1c63dd2f</td>\n",
       "      <td>63e47a71f39019447bec4817</td>\n",
       "      <td>test1</td>\n",
       "      <td>2</td>\n",
       "      <td>2520.0</td>\n",
       "      <td>02</td>\n",
       "      <td>6</td>\n",
       "      <td>0.0</td>\n",
       "      <td>0.0</td>\n",
       "    </tr>\n",
       "  </tbody>\n",
       "</table>\n",
       "</div>"
      ],
      "text/plain": [
       "                    orderId                  clientId clientName  qty   sales  \\\n",
       "0  63ce7e543cb25e08b646e2e8  63ce7e473cb25e08b646e2e0   company1    4  4857.0   \n",
       "1  63cf8c6b0f0f991962134b55  63ce7e473cb25e08b646e2e0   company1    0     0.0   \n",
       "2  63d247f7ef4b90ee6baa5777  63ce7e473cb25e08b646e2e0   company1    0     0.0   \n",
       "3  63d6084c552dd4d69eee1f57  63ce7e473cb25e08b646e2e0   company1    5    27.0   \n",
       "4  63de815bf820f95e82ddee96  63ce7e473cb25e08b646e2e0   company1    1  1077.0   \n",
       "5  63f0bf71119c38497d5c89dd  63de7c32f820f95e82ddee53      comp2    2  8402.0   \n",
       "6  63fa4c7fd7d738df1c63dd2f  63e47a71f39019447bec4817      test1    2  2520.0   \n",
       "\n",
       "  month day  cliAvgSenti  spAvgSenti  \n",
       "0    02   6          1.0         1.0  \n",
       "1    02   6          1.0         1.0  \n",
       "2    02   6          1.0         1.0  \n",
       "3    01   0          1.0         1.0  \n",
       "4    02   6          1.0         1.0  \n",
       "5    02   6          1.0         0.5  \n",
       "6    02   6          0.0         0.0  "
      ]
     },
     "execution_count": 35,
     "metadata": {},
     "output_type": "execute_result"
    }
   ],
   "source": [
    "orderwise_df_1 = pd.DataFrame(do_list_processed)\n",
    "orderwise_df_1"
   ]
  },
  {
   "cell_type": "code",
   "execution_count": 36,
   "id": "8affdc31",
   "metadata": {},
   "outputs": [
    {
     "data": {
      "text/plain": [
       "orderId         object\n",
       "clientId        object\n",
       "clientName      object\n",
       "qty              int64\n",
       "sales          float64\n",
       "month           object\n",
       "day             object\n",
       "cliAvgSenti    float64\n",
       "spAvgSenti     float64\n",
       "dtype: object"
      ]
     },
     "execution_count": 36,
     "metadata": {},
     "output_type": "execute_result"
    }
   ],
   "source": [
    "orderwise_df_1.dtypes"
   ]
  },
  {
   "cell_type": "code",
   "execution_count": 37,
   "id": "564d5090",
   "metadata": {
    "scrolled": true
   },
   "outputs": [
    {
     "data": {
      "text/plain": [
       "[{'prodName': 'prodsku99',\n",
       "  'clientName': 'company1',\n",
       "  'month': '02',\n",
       "  'day': '6',\n",
       "  'orderQty': 4,\n",
       "  'orderTotal': 4857.0,\n",
       "  'cliAvgSenti': 1.0,\n",
       "  'spAvgSenti': 1.0,\n",
       "  'sales': 988.0},\n",
       " {'prodName': 'prodsku20',\n",
       "  'clientName': 'company1',\n",
       "  'month': '02',\n",
       "  'day': '6',\n",
       "  'orderQty': 4,\n",
       "  'orderTotal': 4857.0,\n",
       "  'cliAvgSenti': 1.0,\n",
       "  'spAvgSenti': 1.0,\n",
       "  'sales': 1200.0},\n",
       " {'prodName': 'prodsku20',\n",
       "  'clientName': 'company1',\n",
       "  'month': '02',\n",
       "  'day': '6',\n",
       "  'orderQty': 4,\n",
       "  'orderTotal': 4857.0,\n",
       "  'cliAvgSenti': 1.0,\n",
       "  'spAvgSenti': 1.0,\n",
       "  'sales': 2400.0},\n",
       " {'prodName': 'desc1',\n",
       "  'clientName': 'company1',\n",
       "  'month': '01',\n",
       "  'day': '0',\n",
       "  'orderQty': 5,\n",
       "  'orderTotal': 27.0,\n",
       "  'cliAvgSenti': 1.0,\n",
       "  'spAvgSenti': 1.0,\n",
       "  'sales': 25.0},\n",
       " {'prodName': 'prodsku99',\n",
       "  'clientName': 'company1',\n",
       "  'month': '02',\n",
       "  'day': '6',\n",
       "  'orderQty': 1,\n",
       "  'orderTotal': 1077.0,\n",
       "  'cliAvgSenti': 1.0,\n",
       "  'spAvgSenti': 1.0,\n",
       "  'sales': 988.0},\n",
       " {'prodName': 'prodSKU3',\n",
       "  'clientName': 'comp2',\n",
       "  'month': '02',\n",
       "  'day': '6',\n",
       "  'orderQty': 2,\n",
       "  'orderTotal': 8402.0,\n",
       "  'cliAvgSenti': 1.0,\n",
       "  'spAvgSenti': 0.5,\n",
       "  'sales': 8002.0},\n",
       " {'prodName': 'prodsku20',\n",
       "  'clientName': 'test1',\n",
       "  'month': '02',\n",
       "  'day': '6',\n",
       "  'orderQty': 2,\n",
       "  'orderTotal': 2520.0,\n",
       "  'cliAvgSenti': 0.0,\n",
       "  'spAvgSenti': 0.0,\n",
       "  'sales': 2400.0}]"
      ]
     },
     "execution_count": 37,
     "metadata": {},
     "output_type": "execute_result"
    }
   ],
   "source": [
    "prods_list_processed"
   ]
  },
  {
   "cell_type": "code",
   "execution_count": 38,
   "id": "be560f7e",
   "metadata": {},
   "outputs": [
    {
     "data": {
      "text/html": [
       "<div>\n",
       "<style scoped>\n",
       "    .dataframe tbody tr th:only-of-type {\n",
       "        vertical-align: middle;\n",
       "    }\n",
       "\n",
       "    .dataframe tbody tr th {\n",
       "        vertical-align: top;\n",
       "    }\n",
       "\n",
       "    .dataframe thead th {\n",
       "        text-align: right;\n",
       "    }\n",
       "</style>\n",
       "<table border=\"1\" class=\"dataframe\">\n",
       "  <thead>\n",
       "    <tr style=\"text-align: right;\">\n",
       "      <th></th>\n",
       "      <th>prodName</th>\n",
       "      <th>clientName</th>\n",
       "      <th>month</th>\n",
       "      <th>day</th>\n",
       "      <th>orderQty</th>\n",
       "      <th>orderTotal</th>\n",
       "      <th>cliAvgSenti</th>\n",
       "      <th>spAvgSenti</th>\n",
       "      <th>sales</th>\n",
       "    </tr>\n",
       "  </thead>\n",
       "  <tbody>\n",
       "    <tr>\n",
       "      <th>0</th>\n",
       "      <td>prodsku99</td>\n",
       "      <td>company1</td>\n",
       "      <td>02</td>\n",
       "      <td>6</td>\n",
       "      <td>4</td>\n",
       "      <td>4857.0</td>\n",
       "      <td>1.0</td>\n",
       "      <td>1.0</td>\n",
       "      <td>988.0</td>\n",
       "    </tr>\n",
       "    <tr>\n",
       "      <th>1</th>\n",
       "      <td>prodsku20</td>\n",
       "      <td>company1</td>\n",
       "      <td>02</td>\n",
       "      <td>6</td>\n",
       "      <td>4</td>\n",
       "      <td>4857.0</td>\n",
       "      <td>1.0</td>\n",
       "      <td>1.0</td>\n",
       "      <td>1200.0</td>\n",
       "    </tr>\n",
       "    <tr>\n",
       "      <th>2</th>\n",
       "      <td>prodsku20</td>\n",
       "      <td>company1</td>\n",
       "      <td>02</td>\n",
       "      <td>6</td>\n",
       "      <td>4</td>\n",
       "      <td>4857.0</td>\n",
       "      <td>1.0</td>\n",
       "      <td>1.0</td>\n",
       "      <td>2400.0</td>\n",
       "    </tr>\n",
       "    <tr>\n",
       "      <th>3</th>\n",
       "      <td>desc1</td>\n",
       "      <td>company1</td>\n",
       "      <td>01</td>\n",
       "      <td>0</td>\n",
       "      <td>5</td>\n",
       "      <td>27.0</td>\n",
       "      <td>1.0</td>\n",
       "      <td>1.0</td>\n",
       "      <td>25.0</td>\n",
       "    </tr>\n",
       "    <tr>\n",
       "      <th>4</th>\n",
       "      <td>prodsku99</td>\n",
       "      <td>company1</td>\n",
       "      <td>02</td>\n",
       "      <td>6</td>\n",
       "      <td>1</td>\n",
       "      <td>1077.0</td>\n",
       "      <td>1.0</td>\n",
       "      <td>1.0</td>\n",
       "      <td>988.0</td>\n",
       "    </tr>\n",
       "    <tr>\n",
       "      <th>5</th>\n",
       "      <td>prodSKU3</td>\n",
       "      <td>comp2</td>\n",
       "      <td>02</td>\n",
       "      <td>6</td>\n",
       "      <td>2</td>\n",
       "      <td>8402.0</td>\n",
       "      <td>1.0</td>\n",
       "      <td>0.5</td>\n",
       "      <td>8002.0</td>\n",
       "    </tr>\n",
       "    <tr>\n",
       "      <th>6</th>\n",
       "      <td>prodsku20</td>\n",
       "      <td>test1</td>\n",
       "      <td>02</td>\n",
       "      <td>6</td>\n",
       "      <td>2</td>\n",
       "      <td>2520.0</td>\n",
       "      <td>0.0</td>\n",
       "      <td>0.0</td>\n",
       "      <td>2400.0</td>\n",
       "    </tr>\n",
       "  </tbody>\n",
       "</table>\n",
       "</div>"
      ],
      "text/plain": [
       "    prodName clientName month day  orderQty  orderTotal  cliAvgSenti  \\\n",
       "0  prodsku99   company1    02   6         4      4857.0          1.0   \n",
       "1  prodsku20   company1    02   6         4      4857.0          1.0   \n",
       "2  prodsku20   company1    02   6         4      4857.0          1.0   \n",
       "3      desc1   company1    01   0         5        27.0          1.0   \n",
       "4  prodsku99   company1    02   6         1      1077.0          1.0   \n",
       "5   prodSKU3      comp2    02   6         2      8402.0          1.0   \n",
       "6  prodsku20      test1    02   6         2      2520.0          0.0   \n",
       "\n",
       "   spAvgSenti   sales  \n",
       "0         1.0   988.0  \n",
       "1         1.0  1200.0  \n",
       "2         1.0  2400.0  \n",
       "3         1.0    25.0  \n",
       "4         1.0   988.0  \n",
       "5         0.5  8002.0  \n",
       "6         0.0  2400.0  "
      ]
     },
     "execution_count": 38,
     "metadata": {},
     "output_type": "execute_result"
    }
   ],
   "source": [
    "prodwise_df_1 = pd.DataFrame(prods_list_processed)\n",
    "prodwise_df_1"
   ]
  },
  {
   "cell_type": "code",
   "execution_count": 39,
   "id": "49797fda",
   "metadata": {},
   "outputs": [
    {
     "data": {
      "text/plain": [
       "prodName        object\n",
       "clientName      object\n",
       "month           object\n",
       "day             object\n",
       "orderQty         int64\n",
       "orderTotal     float64\n",
       "cliAvgSenti    float64\n",
       "spAvgSenti     float64\n",
       "sales          float64\n",
       "dtype: object"
      ]
     },
     "execution_count": 39,
     "metadata": {},
     "output_type": "execute_result"
    }
   ],
   "source": [
    "prodwise_df_1.dtypes"
   ]
  },
  {
   "cell_type": "code",
   "execution_count": 40,
   "id": "dd220afe",
   "metadata": {},
   "outputs": [
    {
     "data": {
      "text/html": [
       "<div>\n",
       "<style scoped>\n",
       "    .dataframe tbody tr th:only-of-type {\n",
       "        vertical-align: middle;\n",
       "    }\n",
       "\n",
       "    .dataframe tbody tr th {\n",
       "        vertical-align: top;\n",
       "    }\n",
       "\n",
       "    .dataframe thead th {\n",
       "        text-align: right;\n",
       "    }\n",
       "</style>\n",
       "<table border=\"1\" class=\"dataframe\">\n",
       "  <thead>\n",
       "    <tr style=\"text-align: right;\">\n",
       "      <th></th>\n",
       "      <th>cliName</th>\n",
       "      <th>month</th>\n",
       "      <th>day</th>\n",
       "      <th>qty</th>\n",
       "      <th>sales</th>\n",
       "    </tr>\n",
       "  </thead>\n",
       "  <tbody>\n",
       "    <tr>\n",
       "      <th>0</th>\n",
       "      <td>company1</td>\n",
       "      <td>02</td>\n",
       "      <td>6</td>\n",
       "      <td>5</td>\n",
       "      <td>5934.0</td>\n",
       "    </tr>\n",
       "    <tr>\n",
       "      <th>1</th>\n",
       "      <td>company1</td>\n",
       "      <td>01</td>\n",
       "      <td>0</td>\n",
       "      <td>5</td>\n",
       "      <td>27.0</td>\n",
       "    </tr>\n",
       "    <tr>\n",
       "      <th>2</th>\n",
       "      <td>comp2</td>\n",
       "      <td>02</td>\n",
       "      <td>6</td>\n",
       "      <td>2</td>\n",
       "      <td>8402.0</td>\n",
       "    </tr>\n",
       "    <tr>\n",
       "      <th>3</th>\n",
       "      <td>test1</td>\n",
       "      <td>02</td>\n",
       "      <td>6</td>\n",
       "      <td>2</td>\n",
       "      <td>2520.0</td>\n",
       "    </tr>\n",
       "  </tbody>\n",
       "</table>\n",
       "</div>"
      ],
      "text/plain": [
       "    cliName month day  qty   sales\n",
       "0  company1    02   6    5  5934.0\n",
       "1  company1    01   0    5    27.0\n",
       "2     comp2    02   6    2  8402.0\n",
       "3     test1    02   6    2  2520.0"
      ]
     },
     "execution_count": 40,
     "metadata": {},
     "output_type": "execute_result"
    }
   ],
   "source": [
    "clientwise_df_1 = pd.DataFrame(dc_list_processed)\n",
    "clientwise_df_1"
   ]
  },
  {
   "cell_type": "code",
   "execution_count": 41,
   "id": "a05b4aa3",
   "metadata": {},
   "outputs": [
    {
     "data": {
      "text/plain": [
       "cliName     object\n",
       "month       object\n",
       "day         object\n",
       "qty          int64\n",
       "sales      float64\n",
       "dtype: object"
      ]
     },
     "execution_count": 41,
     "metadata": {},
     "output_type": "execute_result"
    }
   ],
   "source": [
    "clientwise_df_1.dtypes"
   ]
  },
  {
   "cell_type": "code",
   "execution_count": null,
   "id": "a8b85b11",
   "metadata": {},
   "outputs": [],
   "source": []
  },
  {
   "cell_type": "code",
   "execution_count": 51,
   "id": "42fc1afd",
   "metadata": {},
   "outputs": [],
   "source": [
    "from sklearn.model_selection import train_test_split\n",
    "from sklearn.compose import ColumnTransformer\n",
    "from sklearn.impute import SimpleImputer\n",
    "from sklearn.preprocessing import OneHotEncoder\n",
    "from sklearn.preprocessing import OrdinalEncoder\n",
    "from sklearn.preprocessing import MinMaxScaler\n",
    "from sklearn.pipeline import Pipeline,make_pipeline\n",
    "from sklearn.feature_selection import SelectKBest,chi2"
   ]
  },
  {
   "cell_type": "markdown",
   "id": "31a52e40",
   "metadata": {},
   "source": [
    "# m1 - predict orderwise reg"
   ]
  },
  {
   "cell_type": "code",
   "execution_count": null,
   "id": "bdabfbe5",
   "metadata": {},
   "outputs": [],
   "source": [
    "#create pipeline \n",
    "\n",
    "#preprocess + feature engineering + train model using pipeline\n",
    "\n",
    "#export m1_pipeline \n",
    "\n",
    "#import m1_pipeline \n",
    "\n",
    "# make predict fuction for m1_pipeline"
   ]
  },
  {
   "cell_type": "code",
   "execution_count": 296,
   "id": "8ba02e6f",
   "metadata": {},
   "outputs": [
    {
     "data": {
      "text/html": [
       "<div>\n",
       "<style scoped>\n",
       "    .dataframe tbody tr th:only-of-type {\n",
       "        vertical-align: middle;\n",
       "    }\n",
       "\n",
       "    .dataframe tbody tr th {\n",
       "        vertical-align: top;\n",
       "    }\n",
       "\n",
       "    .dataframe thead th {\n",
       "        text-align: right;\n",
       "    }\n",
       "</style>\n",
       "<table border=\"1\" class=\"dataframe\">\n",
       "  <thead>\n",
       "    <tr style=\"text-align: right;\">\n",
       "      <th></th>\n",
       "      <th>clientName</th>\n",
       "      <th>qty</th>\n",
       "      <th>sales</th>\n",
       "      <th>month</th>\n",
       "      <th>day</th>\n",
       "      <th>cliAvgSenti</th>\n",
       "      <th>spAvgSenti</th>\n",
       "    </tr>\n",
       "  </thead>\n",
       "  <tbody>\n",
       "    <tr>\n",
       "      <th>0</th>\n",
       "      <td>company1</td>\n",
       "      <td>4</td>\n",
       "      <td>4857.0</td>\n",
       "      <td>02</td>\n",
       "      <td>6</td>\n",
       "      <td>1.0</td>\n",
       "      <td>1.0</td>\n",
       "    </tr>\n",
       "    <tr>\n",
       "      <th>1</th>\n",
       "      <td>company1</td>\n",
       "      <td>0</td>\n",
       "      <td>0.0</td>\n",
       "      <td>02</td>\n",
       "      <td>6</td>\n",
       "      <td>1.0</td>\n",
       "      <td>1.0</td>\n",
       "    </tr>\n",
       "  </tbody>\n",
       "</table>\n",
       "</div>"
      ],
      "text/plain": [
       "  clientName  qty   sales month day  cliAvgSenti  spAvgSenti\n",
       "0   company1    4  4857.0    02   6          1.0         1.0\n",
       "1   company1    0     0.0    02   6          1.0         1.0"
      ]
     },
     "execution_count": 296,
     "metadata": {},
     "output_type": "execute_result"
    }
   ],
   "source": [
    "#create pipeline\n",
    "orderwise_df_1.head(2)"
   ]
  },
  {
   "cell_type": "code",
   "execution_count": 277,
   "id": "ed2137d0",
   "metadata": {
    "scrolled": true
   },
   "outputs": [
    {
     "ename": "KeyError",
     "evalue": "\"['orderId', 'clientId'] not found in axis\"",
     "output_type": "error",
     "traceback": [
      "\u001b[0;31m---------------------------------------------------------------------------\u001b[0m",
      "\u001b[0;31mKeyError\u001b[0m                                  Traceback (most recent call last)",
      "Input \u001b[0;32mIn [277]\u001b[0m, in \u001b[0;36m<cell line: 1>\u001b[0;34m()\u001b[0m\n\u001b[0;32m----> 1\u001b[0m \u001b[43morderwise_df_1\u001b[49m\u001b[38;5;241;43m.\u001b[39;49m\u001b[43mdrop\u001b[49m\u001b[43m(\u001b[49m\u001b[43mcolumns\u001b[49m\u001b[38;5;241;43m=\u001b[39;49m\u001b[43m[\u001b[49m\u001b[38;5;124;43m'\u001b[39;49m\u001b[38;5;124;43morderId\u001b[39;49m\u001b[38;5;124;43m'\u001b[39;49m\u001b[43m,\u001b[49m\u001b[38;5;124;43m'\u001b[39;49m\u001b[38;5;124;43mclientId\u001b[39;49m\u001b[38;5;124;43m'\u001b[39;49m\u001b[43m]\u001b[49m\u001b[43m,\u001b[49m\u001b[43minplace\u001b[49m\u001b[38;5;241;43m=\u001b[39;49m\u001b[38;5;28;43;01mTrue\u001b[39;49;00m\u001b[43m)\u001b[49m\n\u001b[1;32m      2\u001b[0m orderwise_df_1\u001b[38;5;241m.\u001b[39mhead(\u001b[38;5;241m2\u001b[39m)\n",
      "File \u001b[0;32m~/.local/lib/python3.9/site-packages/pandas/util/_decorators.py:311\u001b[0m, in \u001b[0;36mdeprecate_nonkeyword_arguments.<locals>.decorate.<locals>.wrapper\u001b[0;34m(*args, **kwargs)\u001b[0m\n\u001b[1;32m    305\u001b[0m \u001b[38;5;28;01mif\u001b[39;00m \u001b[38;5;28mlen\u001b[39m(args) \u001b[38;5;241m>\u001b[39m num_allow_args:\n\u001b[1;32m    306\u001b[0m     warnings\u001b[38;5;241m.\u001b[39mwarn(\n\u001b[1;32m    307\u001b[0m         msg\u001b[38;5;241m.\u001b[39mformat(arguments\u001b[38;5;241m=\u001b[39marguments),\n\u001b[1;32m    308\u001b[0m         \u001b[38;5;167;01mFutureWarning\u001b[39;00m,\n\u001b[1;32m    309\u001b[0m         stacklevel\u001b[38;5;241m=\u001b[39mstacklevel,\n\u001b[1;32m    310\u001b[0m     )\n\u001b[0;32m--> 311\u001b[0m \u001b[38;5;28;01mreturn\u001b[39;00m \u001b[43mfunc\u001b[49m\u001b[43m(\u001b[49m\u001b[38;5;241;43m*\u001b[39;49m\u001b[43margs\u001b[49m\u001b[43m,\u001b[49m\u001b[43m \u001b[49m\u001b[38;5;241;43m*\u001b[39;49m\u001b[38;5;241;43m*\u001b[39;49m\u001b[43mkwargs\u001b[49m\u001b[43m)\u001b[49m\n",
      "File \u001b[0;32m~/.local/lib/python3.9/site-packages/pandas/core/frame.py:4948\u001b[0m, in \u001b[0;36mDataFrame.drop\u001b[0;34m(self, labels, axis, index, columns, level, inplace, errors)\u001b[0m\n\u001b[1;32m   4800\u001b[0m \u001b[38;5;129m@deprecate_nonkeyword_arguments\u001b[39m(version\u001b[38;5;241m=\u001b[39m\u001b[38;5;28;01mNone\u001b[39;00m, allowed_args\u001b[38;5;241m=\u001b[39m[\u001b[38;5;124m\"\u001b[39m\u001b[38;5;124mself\u001b[39m\u001b[38;5;124m\"\u001b[39m, \u001b[38;5;124m\"\u001b[39m\u001b[38;5;124mlabels\u001b[39m\u001b[38;5;124m\"\u001b[39m])\n\u001b[1;32m   4801\u001b[0m \u001b[38;5;28;01mdef\u001b[39;00m \u001b[38;5;21mdrop\u001b[39m(\n\u001b[1;32m   4802\u001b[0m     \u001b[38;5;28mself\u001b[39m,\n\u001b[0;32m   (...)\u001b[0m\n\u001b[1;32m   4809\u001b[0m     errors: \u001b[38;5;28mstr\u001b[39m \u001b[38;5;241m=\u001b[39m \u001b[38;5;124m\"\u001b[39m\u001b[38;5;124mraise\u001b[39m\u001b[38;5;124m\"\u001b[39m,\n\u001b[1;32m   4810\u001b[0m ):\n\u001b[1;32m   4811\u001b[0m     \u001b[38;5;124;03m\"\"\"\u001b[39;00m\n\u001b[1;32m   4812\u001b[0m \u001b[38;5;124;03m    Drop specified labels from rows or columns.\u001b[39;00m\n\u001b[1;32m   4813\u001b[0m \n\u001b[0;32m   (...)\u001b[0m\n\u001b[1;32m   4946\u001b[0m \u001b[38;5;124;03m            weight  1.0     0.8\u001b[39;00m\n\u001b[1;32m   4947\u001b[0m \u001b[38;5;124;03m    \"\"\"\u001b[39;00m\n\u001b[0;32m-> 4948\u001b[0m     \u001b[38;5;28;01mreturn\u001b[39;00m \u001b[38;5;28;43msuper\u001b[39;49m\u001b[43m(\u001b[49m\u001b[43m)\u001b[49m\u001b[38;5;241;43m.\u001b[39;49m\u001b[43mdrop\u001b[49m\u001b[43m(\u001b[49m\n\u001b[1;32m   4949\u001b[0m \u001b[43m        \u001b[49m\u001b[43mlabels\u001b[49m\u001b[38;5;241;43m=\u001b[39;49m\u001b[43mlabels\u001b[49m\u001b[43m,\u001b[49m\n\u001b[1;32m   4950\u001b[0m \u001b[43m        \u001b[49m\u001b[43maxis\u001b[49m\u001b[38;5;241;43m=\u001b[39;49m\u001b[43maxis\u001b[49m\u001b[43m,\u001b[49m\n\u001b[1;32m   4951\u001b[0m \u001b[43m        \u001b[49m\u001b[43mindex\u001b[49m\u001b[38;5;241;43m=\u001b[39;49m\u001b[43mindex\u001b[49m\u001b[43m,\u001b[49m\n\u001b[1;32m   4952\u001b[0m \u001b[43m        \u001b[49m\u001b[43mcolumns\u001b[49m\u001b[38;5;241;43m=\u001b[39;49m\u001b[43mcolumns\u001b[49m\u001b[43m,\u001b[49m\n\u001b[1;32m   4953\u001b[0m \u001b[43m        \u001b[49m\u001b[43mlevel\u001b[49m\u001b[38;5;241;43m=\u001b[39;49m\u001b[43mlevel\u001b[49m\u001b[43m,\u001b[49m\n\u001b[1;32m   4954\u001b[0m \u001b[43m        \u001b[49m\u001b[43minplace\u001b[49m\u001b[38;5;241;43m=\u001b[39;49m\u001b[43minplace\u001b[49m\u001b[43m,\u001b[49m\n\u001b[1;32m   4955\u001b[0m \u001b[43m        \u001b[49m\u001b[43merrors\u001b[49m\u001b[38;5;241;43m=\u001b[39;49m\u001b[43merrors\u001b[49m\u001b[43m,\u001b[49m\n\u001b[1;32m   4956\u001b[0m \u001b[43m    \u001b[49m\u001b[43m)\u001b[49m\n",
      "File \u001b[0;32m~/.local/lib/python3.9/site-packages/pandas/core/generic.py:4279\u001b[0m, in \u001b[0;36mNDFrame.drop\u001b[0;34m(self, labels, axis, index, columns, level, inplace, errors)\u001b[0m\n\u001b[1;32m   4277\u001b[0m \u001b[38;5;28;01mfor\u001b[39;00m axis, labels \u001b[38;5;129;01min\u001b[39;00m axes\u001b[38;5;241m.\u001b[39mitems():\n\u001b[1;32m   4278\u001b[0m     \u001b[38;5;28;01mif\u001b[39;00m labels \u001b[38;5;129;01mis\u001b[39;00m \u001b[38;5;129;01mnot\u001b[39;00m \u001b[38;5;28;01mNone\u001b[39;00m:\n\u001b[0;32m-> 4279\u001b[0m         obj \u001b[38;5;241m=\u001b[39m \u001b[43mobj\u001b[49m\u001b[38;5;241;43m.\u001b[39;49m\u001b[43m_drop_axis\u001b[49m\u001b[43m(\u001b[49m\u001b[43mlabels\u001b[49m\u001b[43m,\u001b[49m\u001b[43m \u001b[49m\u001b[43maxis\u001b[49m\u001b[43m,\u001b[49m\u001b[43m \u001b[49m\u001b[43mlevel\u001b[49m\u001b[38;5;241;43m=\u001b[39;49m\u001b[43mlevel\u001b[49m\u001b[43m,\u001b[49m\u001b[43m \u001b[49m\u001b[43merrors\u001b[49m\u001b[38;5;241;43m=\u001b[39;49m\u001b[43merrors\u001b[49m\u001b[43m)\u001b[49m\n\u001b[1;32m   4281\u001b[0m \u001b[38;5;28;01mif\u001b[39;00m inplace:\n\u001b[1;32m   4282\u001b[0m     \u001b[38;5;28mself\u001b[39m\u001b[38;5;241m.\u001b[39m_update_inplace(obj)\n",
      "File \u001b[0;32m~/.local/lib/python3.9/site-packages/pandas/core/generic.py:4323\u001b[0m, in \u001b[0;36mNDFrame._drop_axis\u001b[0;34m(self, labels, axis, level, errors, consolidate, only_slice)\u001b[0m\n\u001b[1;32m   4321\u001b[0m         new_axis \u001b[38;5;241m=\u001b[39m axis\u001b[38;5;241m.\u001b[39mdrop(labels, level\u001b[38;5;241m=\u001b[39mlevel, errors\u001b[38;5;241m=\u001b[39merrors)\n\u001b[1;32m   4322\u001b[0m     \u001b[38;5;28;01melse\u001b[39;00m:\n\u001b[0;32m-> 4323\u001b[0m         new_axis \u001b[38;5;241m=\u001b[39m \u001b[43maxis\u001b[49m\u001b[38;5;241;43m.\u001b[39;49m\u001b[43mdrop\u001b[49m\u001b[43m(\u001b[49m\u001b[43mlabels\u001b[49m\u001b[43m,\u001b[49m\u001b[43m \u001b[49m\u001b[43merrors\u001b[49m\u001b[38;5;241;43m=\u001b[39;49m\u001b[43merrors\u001b[49m\u001b[43m)\u001b[49m\n\u001b[1;32m   4324\u001b[0m     indexer \u001b[38;5;241m=\u001b[39m axis\u001b[38;5;241m.\u001b[39mget_indexer(new_axis)\n\u001b[1;32m   4326\u001b[0m \u001b[38;5;66;03m# Case for non-unique axis\u001b[39;00m\n\u001b[1;32m   4327\u001b[0m \u001b[38;5;28;01melse\u001b[39;00m:\n",
      "File \u001b[0;32m~/.local/lib/python3.9/site-packages/pandas/core/indexes/base.py:6644\u001b[0m, in \u001b[0;36mIndex.drop\u001b[0;34m(self, labels, errors)\u001b[0m\n\u001b[1;32m   6642\u001b[0m \u001b[38;5;28;01mif\u001b[39;00m mask\u001b[38;5;241m.\u001b[39many():\n\u001b[1;32m   6643\u001b[0m     \u001b[38;5;28;01mif\u001b[39;00m errors \u001b[38;5;241m!=\u001b[39m \u001b[38;5;124m\"\u001b[39m\u001b[38;5;124mignore\u001b[39m\u001b[38;5;124m\"\u001b[39m:\n\u001b[0;32m-> 6644\u001b[0m         \u001b[38;5;28;01mraise\u001b[39;00m \u001b[38;5;167;01mKeyError\u001b[39;00m(\u001b[38;5;124mf\u001b[39m\u001b[38;5;124m\"\u001b[39m\u001b[38;5;132;01m{\u001b[39;00m\u001b[38;5;28mlist\u001b[39m(labels[mask])\u001b[38;5;132;01m}\u001b[39;00m\u001b[38;5;124m not found in axis\u001b[39m\u001b[38;5;124m\"\u001b[39m)\n\u001b[1;32m   6645\u001b[0m     indexer \u001b[38;5;241m=\u001b[39m indexer[\u001b[38;5;241m~\u001b[39mmask]\n\u001b[1;32m   6646\u001b[0m \u001b[38;5;28;01mreturn\u001b[39;00m \u001b[38;5;28mself\u001b[39m\u001b[38;5;241m.\u001b[39mdelete(indexer)\n",
      "\u001b[0;31mKeyError\u001b[0m: \"['orderId', 'clientId'] not found in axis\""
     ]
    }
   ],
   "source": [
    "orderwise_df_1.drop(columns=['orderId','clientId'],inplace=True)\n",
    "orderwise_df_1.head(2)"
   ]
  },
  {
   "cell_type": "code",
   "execution_count": 297,
   "id": "89f92881",
   "metadata": {},
   "outputs": [
    {
     "data": {
      "text/plain": [
       "clientName      object\n",
       "qty              int64\n",
       "sales          float64\n",
       "month           object\n",
       "day             object\n",
       "cliAvgSenti    float64\n",
       "spAvgSenti     float64\n",
       "dtype: object"
      ]
     },
     "execution_count": 297,
     "metadata": {},
     "output_type": "execute_result"
    }
   ],
   "source": [
    "orderwise_df_1.dtypes"
   ]
  },
  {
   "cell_type": "code",
   "execution_count": 298,
   "id": "abdb178d",
   "metadata": {},
   "outputs": [],
   "source": [
    "X_train,X_test,y_train,y_test = train_test_split(orderwise_df_1.drop(columns=['sales']),\n",
    "                                                    orderwise_df_1['sales'],\n",
    "                                                 test_size=0.2,\n",
    "                                                 random_state=42\n",
    "                                                )"
   ]
  },
  {
   "cell_type": "code",
   "execution_count": 299,
   "id": "e52b3d1e",
   "metadata": {},
   "outputs": [
    {
     "data": {
      "text/html": [
       "<div>\n",
       "<style scoped>\n",
       "    .dataframe tbody tr th:only-of-type {\n",
       "        vertical-align: middle;\n",
       "    }\n",
       "\n",
       "    .dataframe tbody tr th {\n",
       "        vertical-align: top;\n",
       "    }\n",
       "\n",
       "    .dataframe thead th {\n",
       "        text-align: right;\n",
       "    }\n",
       "</style>\n",
       "<table border=\"1\" class=\"dataframe\">\n",
       "  <thead>\n",
       "    <tr style=\"text-align: right;\">\n",
       "      <th></th>\n",
       "      <th>clientName</th>\n",
       "      <th>qty</th>\n",
       "      <th>month</th>\n",
       "      <th>day</th>\n",
       "      <th>cliAvgSenti</th>\n",
       "      <th>spAvgSenti</th>\n",
       "    </tr>\n",
       "  </thead>\n",
       "  <tbody>\n",
       "    <tr>\n",
       "      <th>5</th>\n",
       "      <td>comp2</td>\n",
       "      <td>2</td>\n",
       "      <td>02</td>\n",
       "      <td>6</td>\n",
       "      <td>1.0</td>\n",
       "      <td>0.5</td>\n",
       "    </tr>\n",
       "    <tr>\n",
       "      <th>2</th>\n",
       "      <td>company1</td>\n",
       "      <td>0</td>\n",
       "      <td>02</td>\n",
       "      <td>6</td>\n",
       "      <td>1.0</td>\n",
       "      <td>1.0</td>\n",
       "    </tr>\n",
       "    <tr>\n",
       "      <th>4</th>\n",
       "      <td>company1</td>\n",
       "      <td>1</td>\n",
       "      <td>02</td>\n",
       "      <td>6</td>\n",
       "      <td>1.0</td>\n",
       "      <td>1.0</td>\n",
       "    </tr>\n",
       "    <tr>\n",
       "      <th>3</th>\n",
       "      <td>company1</td>\n",
       "      <td>5</td>\n",
       "      <td>01</td>\n",
       "      <td>0</td>\n",
       "      <td>1.0</td>\n",
       "      <td>1.0</td>\n",
       "    </tr>\n",
       "    <tr>\n",
       "      <th>6</th>\n",
       "      <td>test1</td>\n",
       "      <td>2</td>\n",
       "      <td>02</td>\n",
       "      <td>6</td>\n",
       "      <td>0.0</td>\n",
       "      <td>0.0</td>\n",
       "    </tr>\n",
       "  </tbody>\n",
       "</table>\n",
       "</div>"
      ],
      "text/plain": [
       "  clientName  qty month day  cliAvgSenti  spAvgSenti\n",
       "5      comp2    2    02   6          1.0         0.5\n",
       "2   company1    0    02   6          1.0         1.0\n",
       "4   company1    1    02   6          1.0         1.0\n",
       "3   company1    5    01   0          1.0         1.0\n",
       "6      test1    2    02   6          0.0         0.0"
      ]
     },
     "execution_count": 299,
     "metadata": {},
     "output_type": "execute_result"
    }
   ],
   "source": [
    "X_train.head()"
   ]
  },
  {
   "cell_type": "code",
   "execution_count": 300,
   "id": "1cebf5e4",
   "metadata": {},
   "outputs": [
    {
     "data": {
      "text/plain": [
       "5    8402.0\n",
       "2       0.0\n",
       "4    1077.0\n",
       "3      27.0\n",
       "6    2520.0\n",
       "Name: sales, dtype: float64"
      ]
     },
     "execution_count": 300,
     "metadata": {},
     "output_type": "execute_result"
    }
   ],
   "source": [
    "y_train.head()"
   ]
  },
  {
   "cell_type": "code",
   "execution_count": 301,
   "id": "e6b9a616",
   "metadata": {},
   "outputs": [],
   "source": [
    "# Ordinal encoding\n",
    "from sklearn.compose import ColumnTransformer\n",
    "from sklearn.compose import make_column_transformer\n",
    "from sklearn.pipeline import make_pipeline\n",
    "\n",
    "# trf1 = ColumnTransformer([\n",
    "#     ('orde_clientName_month_day',OrdinalEncoder(handle_unknown=\"use_encoded_value\",unknown_value=100),[0,2,3])\n",
    "# ],remainder=\"passthrough\")\n",
    "\n",
    "# trf1 = make_column_transformer(\n",
    "#     ([\"clientName\",\"month\",\"day\"],OrdinalEncoder(handle_unknown=\"use_encoded_value\",unknown_value=100))\n",
    "# )\n",
    "\n",
    "# preprocess = make_column_transformer(\n",
    "#     (['age', 'fare'], StandardScaler()),\n",
    "#     (['pclass', 'sex', 'embarked'], OneHotEncoder())\n",
    "# )\n",
    "\n",
    "# preprocess = make_column_transformer(\n",
    "#     (numerical_features, make_pipeline(SimpleImputer(), StandardScaler())),\n",
    "#     (categorical_features, OneHotEncoder()))\n",
    "\n",
    "\n"
   ]
  },
  {
   "cell_type": "code",
   "execution_count": null,
   "id": "42db2133",
   "metadata": {},
   "outputs": [],
   "source": []
  },
  {
   "cell_type": "code",
   "execution_count": 302,
   "id": "29a8e524",
   "metadata": {},
   "outputs": [],
   "source": [
    "#scaling \n",
    "trf2 = ColumnTransformer([\n",
    "    ('scale',MinMaxScaler(),slice(0,5))\n",
    "])"
   ]
  },
  {
   "cell_type": "code",
   "execution_count": 303,
   "id": "5909c592",
   "metadata": {},
   "outputs": [],
   "source": [
    "#model training \n",
    "from xgboost import XGBRegressor\n",
    "trf3 = XGBRegressor(random_state=42, n_jobs=-1, n_estimators=20, max_depth=4)"
   ]
  },
  {
   "cell_type": "code",
   "execution_count": 290,
   "id": "0b0af543",
   "metadata": {},
   "outputs": [],
   "source": [
    "#pipeline \n",
    "pipe_m1 = Pipeline([\n",
    "    ('trf1',trf1),\n",
    "    ('trf2',trf2),\n",
    "    ('trf3',trf3)\n",
    "])\n",
    "# Display Pipeline\n",
    "\n",
    "from sklearn import set_config\n",
    "set_config(display='diagram')"
   ]
  },
  {
   "cell_type": "code",
   "execution_count": null,
   "id": "50ecfe02",
   "metadata": {},
   "outputs": [],
   "source": [
    "pipe_m1 = make_pipeline"
   ]
  },
  {
   "cell_type": "code",
   "execution_count": 291,
   "id": "70111972",
   "metadata": {
    "scrolled": true
   },
   "outputs": [
    {
     "ename": "TypeError",
     "evalue": "All estimators should implement fit and transform, or can be 'drop' or 'passthrough' specifiers. '['clientName', 'month', 'day']' (type <class 'list'>) doesn't.",
     "output_type": "error",
     "traceback": [
      "\u001b[0;31m---------------------------------------------------------------------------\u001b[0m",
      "\u001b[0;31mTypeError\u001b[0m                                 Traceback (most recent call last)",
      "Input \u001b[0;32mIn [291]\u001b[0m, in \u001b[0;36m<cell line: 1>\u001b[0;34m()\u001b[0m\n\u001b[0;32m----> 1\u001b[0m \u001b[43mpipe_m1\u001b[49m\u001b[38;5;241;43m.\u001b[39;49m\u001b[43mfit\u001b[49m\u001b[43m(\u001b[49m\u001b[43mX_train\u001b[49m\u001b[43m,\u001b[49m\u001b[43my_train\u001b[49m\u001b[43m)\u001b[49m\n",
      "File \u001b[0;32m~/.local/lib/python3.9/site-packages/sklearn/pipeline.py:378\u001b[0m, in \u001b[0;36mPipeline.fit\u001b[0;34m(self, X, y, **fit_params)\u001b[0m\n\u001b[1;32m    352\u001b[0m \u001b[38;5;124;03m\"\"\"Fit the model.\u001b[39;00m\n\u001b[1;32m    353\u001b[0m \n\u001b[1;32m    354\u001b[0m \u001b[38;5;124;03mFit all the transformers one after the other and transform the\u001b[39;00m\n\u001b[0;32m   (...)\u001b[0m\n\u001b[1;32m    375\u001b[0m \u001b[38;5;124;03m    Pipeline with fitted steps.\u001b[39;00m\n\u001b[1;32m    376\u001b[0m \u001b[38;5;124;03m\"\"\"\u001b[39;00m\n\u001b[1;32m    377\u001b[0m fit_params_steps \u001b[38;5;241m=\u001b[39m \u001b[38;5;28mself\u001b[39m\u001b[38;5;241m.\u001b[39m_check_fit_params(\u001b[38;5;241m*\u001b[39m\u001b[38;5;241m*\u001b[39mfit_params)\n\u001b[0;32m--> 378\u001b[0m Xt \u001b[38;5;241m=\u001b[39m \u001b[38;5;28;43mself\u001b[39;49m\u001b[38;5;241;43m.\u001b[39;49m\u001b[43m_fit\u001b[49m\u001b[43m(\u001b[49m\u001b[43mX\u001b[49m\u001b[43m,\u001b[49m\u001b[43m \u001b[49m\u001b[43my\u001b[49m\u001b[43m,\u001b[49m\u001b[43m \u001b[49m\u001b[38;5;241;43m*\u001b[39;49m\u001b[38;5;241;43m*\u001b[39;49m\u001b[43mfit_params_steps\u001b[49m\u001b[43m)\u001b[49m\n\u001b[1;32m    379\u001b[0m \u001b[38;5;28;01mwith\u001b[39;00m _print_elapsed_time(\u001b[38;5;124m\"\u001b[39m\u001b[38;5;124mPipeline\u001b[39m\u001b[38;5;124m\"\u001b[39m, \u001b[38;5;28mself\u001b[39m\u001b[38;5;241m.\u001b[39m_log_message(\u001b[38;5;28mlen\u001b[39m(\u001b[38;5;28mself\u001b[39m\u001b[38;5;241m.\u001b[39msteps) \u001b[38;5;241m-\u001b[39m \u001b[38;5;241m1\u001b[39m)):\n\u001b[1;32m    380\u001b[0m     \u001b[38;5;28;01mif\u001b[39;00m \u001b[38;5;28mself\u001b[39m\u001b[38;5;241m.\u001b[39m_final_estimator \u001b[38;5;241m!=\u001b[39m \u001b[38;5;124m\"\u001b[39m\u001b[38;5;124mpassthrough\u001b[39m\u001b[38;5;124m\"\u001b[39m:\n",
      "File \u001b[0;32m~/.local/lib/python3.9/site-packages/sklearn/pipeline.py:336\u001b[0m, in \u001b[0;36mPipeline._fit\u001b[0;34m(self, X, y, **fit_params_steps)\u001b[0m\n\u001b[1;32m    334\u001b[0m     cloned_transformer \u001b[38;5;241m=\u001b[39m clone(transformer)\n\u001b[1;32m    335\u001b[0m \u001b[38;5;66;03m# Fit or load from cache the current transformer\u001b[39;00m\n\u001b[0;32m--> 336\u001b[0m X, fitted_transformer \u001b[38;5;241m=\u001b[39m \u001b[43mfit_transform_one_cached\u001b[49m\u001b[43m(\u001b[49m\n\u001b[1;32m    337\u001b[0m \u001b[43m    \u001b[49m\u001b[43mcloned_transformer\u001b[49m\u001b[43m,\u001b[49m\n\u001b[1;32m    338\u001b[0m \u001b[43m    \u001b[49m\u001b[43mX\u001b[49m\u001b[43m,\u001b[49m\n\u001b[1;32m    339\u001b[0m \u001b[43m    \u001b[49m\u001b[43my\u001b[49m\u001b[43m,\u001b[49m\n\u001b[1;32m    340\u001b[0m \u001b[43m    \u001b[49m\u001b[38;5;28;43;01mNone\u001b[39;49;00m\u001b[43m,\u001b[49m\n\u001b[1;32m    341\u001b[0m \u001b[43m    \u001b[49m\u001b[43mmessage_clsname\u001b[49m\u001b[38;5;241;43m=\u001b[39;49m\u001b[38;5;124;43m\"\u001b[39;49m\u001b[38;5;124;43mPipeline\u001b[39;49m\u001b[38;5;124;43m\"\u001b[39;49m\u001b[43m,\u001b[49m\n\u001b[1;32m    342\u001b[0m \u001b[43m    \u001b[49m\u001b[43mmessage\u001b[49m\u001b[38;5;241;43m=\u001b[39;49m\u001b[38;5;28;43mself\u001b[39;49m\u001b[38;5;241;43m.\u001b[39;49m\u001b[43m_log_message\u001b[49m\u001b[43m(\u001b[49m\u001b[43mstep_idx\u001b[49m\u001b[43m)\u001b[49m\u001b[43m,\u001b[49m\n\u001b[1;32m    343\u001b[0m \u001b[43m    \u001b[49m\u001b[38;5;241;43m*\u001b[39;49m\u001b[38;5;241;43m*\u001b[39;49m\u001b[43mfit_params_steps\u001b[49m\u001b[43m[\u001b[49m\u001b[43mname\u001b[49m\u001b[43m]\u001b[49m\u001b[43m,\u001b[49m\n\u001b[1;32m    344\u001b[0m \u001b[43m\u001b[49m\u001b[43m)\u001b[49m\n\u001b[1;32m    345\u001b[0m \u001b[38;5;66;03m# Replace the transformer of the step with the fitted\u001b[39;00m\n\u001b[1;32m    346\u001b[0m \u001b[38;5;66;03m# transformer. This is necessary when loading the transformer\u001b[39;00m\n\u001b[1;32m    347\u001b[0m \u001b[38;5;66;03m# from the cache.\u001b[39;00m\n\u001b[1;32m    348\u001b[0m \u001b[38;5;28mself\u001b[39m\u001b[38;5;241m.\u001b[39msteps[step_idx] \u001b[38;5;241m=\u001b[39m (name, fitted_transformer)\n",
      "File \u001b[0;32m~/.local/lib/python3.9/site-packages/joblib/memory.py:352\u001b[0m, in \u001b[0;36mNotMemorizedFunc.__call__\u001b[0;34m(self, *args, **kwargs)\u001b[0m\n\u001b[1;32m    351\u001b[0m \u001b[38;5;28;01mdef\u001b[39;00m \u001b[38;5;21m__call__\u001b[39m(\u001b[38;5;28mself\u001b[39m, \u001b[38;5;241m*\u001b[39margs, \u001b[38;5;241m*\u001b[39m\u001b[38;5;241m*\u001b[39mkwargs):\n\u001b[0;32m--> 352\u001b[0m     \u001b[38;5;28;01mreturn\u001b[39;00m \u001b[38;5;28;43mself\u001b[39;49m\u001b[38;5;241;43m.\u001b[39;49m\u001b[43mfunc\u001b[49m\u001b[43m(\u001b[49m\u001b[38;5;241;43m*\u001b[39;49m\u001b[43margs\u001b[49m\u001b[43m,\u001b[49m\u001b[43m \u001b[49m\u001b[38;5;241;43m*\u001b[39;49m\u001b[38;5;241;43m*\u001b[39;49m\u001b[43mkwargs\u001b[49m\u001b[43m)\u001b[49m\n",
      "File \u001b[0;32m~/.local/lib/python3.9/site-packages/sklearn/pipeline.py:870\u001b[0m, in \u001b[0;36m_fit_transform_one\u001b[0;34m(transformer, X, y, weight, message_clsname, message, **fit_params)\u001b[0m\n\u001b[1;32m    868\u001b[0m \u001b[38;5;28;01mwith\u001b[39;00m _print_elapsed_time(message_clsname, message):\n\u001b[1;32m    869\u001b[0m     \u001b[38;5;28;01mif\u001b[39;00m \u001b[38;5;28mhasattr\u001b[39m(transformer, \u001b[38;5;124m\"\u001b[39m\u001b[38;5;124mfit_transform\u001b[39m\u001b[38;5;124m\"\u001b[39m):\n\u001b[0;32m--> 870\u001b[0m         res \u001b[38;5;241m=\u001b[39m \u001b[43mtransformer\u001b[49m\u001b[38;5;241;43m.\u001b[39;49m\u001b[43mfit_transform\u001b[49m\u001b[43m(\u001b[49m\u001b[43mX\u001b[49m\u001b[43m,\u001b[49m\u001b[43m \u001b[49m\u001b[43my\u001b[49m\u001b[43m,\u001b[49m\u001b[43m \u001b[49m\u001b[38;5;241;43m*\u001b[39;49m\u001b[38;5;241;43m*\u001b[39;49m\u001b[43mfit_params\u001b[49m\u001b[43m)\u001b[49m\n\u001b[1;32m    871\u001b[0m     \u001b[38;5;28;01melse\u001b[39;00m:\n\u001b[1;32m    872\u001b[0m         res \u001b[38;5;241m=\u001b[39m transformer\u001b[38;5;241m.\u001b[39mfit(X, y, \u001b[38;5;241m*\u001b[39m\u001b[38;5;241m*\u001b[39mfit_params)\u001b[38;5;241m.\u001b[39mtransform(X)\n",
      "File \u001b[0;32m~/.local/lib/python3.9/site-packages/sklearn/compose/_column_transformer.py:686\u001b[0m, in \u001b[0;36mColumnTransformer.fit_transform\u001b[0;34m(self, X, y)\u001b[0m\n\u001b[1;32m    684\u001b[0m \u001b[38;5;66;03m# set n_features_in_ attribute\u001b[39;00m\n\u001b[1;32m    685\u001b[0m \u001b[38;5;28mself\u001b[39m\u001b[38;5;241m.\u001b[39m_check_n_features(X, reset\u001b[38;5;241m=\u001b[39m\u001b[38;5;28;01mTrue\u001b[39;00m)\n\u001b[0;32m--> 686\u001b[0m \u001b[38;5;28;43mself\u001b[39;49m\u001b[38;5;241;43m.\u001b[39;49m\u001b[43m_validate_transformers\u001b[49m\u001b[43m(\u001b[49m\u001b[43m)\u001b[49m\n\u001b[1;32m    687\u001b[0m \u001b[38;5;28mself\u001b[39m\u001b[38;5;241m.\u001b[39m_validate_column_callables(X)\n\u001b[1;32m    688\u001b[0m \u001b[38;5;28mself\u001b[39m\u001b[38;5;241m.\u001b[39m_validate_remainder(X)\n",
      "File \u001b[0;32m~/.local/lib/python3.9/site-packages/sklearn/compose/_column_transformer.py:358\u001b[0m, in \u001b[0;36mColumnTransformer._validate_transformers\u001b[0;34m(self)\u001b[0m\n\u001b[1;32m    354\u001b[0m     \u001b[38;5;28;01mcontinue\u001b[39;00m\n\u001b[1;32m    355\u001b[0m \u001b[38;5;28;01mif\u001b[39;00m \u001b[38;5;129;01mnot\u001b[39;00m (\u001b[38;5;28mhasattr\u001b[39m(t, \u001b[38;5;124m\"\u001b[39m\u001b[38;5;124mfit\u001b[39m\u001b[38;5;124m\"\u001b[39m) \u001b[38;5;129;01mor\u001b[39;00m \u001b[38;5;28mhasattr\u001b[39m(t, \u001b[38;5;124m\"\u001b[39m\u001b[38;5;124mfit_transform\u001b[39m\u001b[38;5;124m\"\u001b[39m)) \u001b[38;5;129;01mor\u001b[39;00m \u001b[38;5;129;01mnot\u001b[39;00m \u001b[38;5;28mhasattr\u001b[39m(\n\u001b[1;32m    356\u001b[0m     t, \u001b[38;5;124m\"\u001b[39m\u001b[38;5;124mtransform\u001b[39m\u001b[38;5;124m\"\u001b[39m\n\u001b[1;32m    357\u001b[0m ):\n\u001b[0;32m--> 358\u001b[0m     \u001b[38;5;28;01mraise\u001b[39;00m \u001b[38;5;167;01mTypeError\u001b[39;00m(\n\u001b[1;32m    359\u001b[0m         \u001b[38;5;124m\"\u001b[39m\u001b[38;5;124mAll estimators should implement fit and \u001b[39m\u001b[38;5;124m\"\u001b[39m\n\u001b[1;32m    360\u001b[0m         \u001b[38;5;124m\"\u001b[39m\u001b[38;5;124mtransform, or can be \u001b[39m\u001b[38;5;124m'\u001b[39m\u001b[38;5;124mdrop\u001b[39m\u001b[38;5;124m'\u001b[39m\u001b[38;5;124m or \u001b[39m\u001b[38;5;124m'\u001b[39m\u001b[38;5;124mpassthrough\u001b[39m\u001b[38;5;124m'\u001b[39m\u001b[38;5;124m \u001b[39m\u001b[38;5;124m\"\u001b[39m\n\u001b[1;32m    361\u001b[0m         \u001b[38;5;124m\"\u001b[39m\u001b[38;5;124mspecifiers. \u001b[39m\u001b[38;5;124m'\u001b[39m\u001b[38;5;132;01m%s\u001b[39;00m\u001b[38;5;124m'\u001b[39m\u001b[38;5;124m (type \u001b[39m\u001b[38;5;132;01m%s\u001b[39;00m\u001b[38;5;124m) doesn\u001b[39m\u001b[38;5;124m'\u001b[39m\u001b[38;5;124mt.\u001b[39m\u001b[38;5;124m\"\u001b[39m \u001b[38;5;241m%\u001b[39m (t, \u001b[38;5;28mtype\u001b[39m(t))\n\u001b[1;32m    362\u001b[0m     )\n",
      "\u001b[0;31mTypeError\u001b[0m: All estimators should implement fit and transform, or can be 'drop' or 'passthrough' specifiers. '['clientName', 'month', 'day']' (type <class 'list'>) doesn't."
     ]
    }
   ],
   "source": [
    "pipe_m1.fit(X_train,y_train)"
   ]
  },
  {
   "cell_type": "code",
   "execution_count": 70,
   "id": "d7f0a1a4",
   "metadata": {
    "scrolled": true
   },
   "outputs": [
    {
     "data": {
      "text/plain": [
       "{'trf1': ColumnTransformer(remainder='passthrough',\n",
       "                   transformers=[('orde_clientName_month_day',\n",
       "                                  OrdinalEncoder(handle_unknown='use_encoded_value',\n",
       "                                                 unknown_value=100),\n",
       "                                  [0, 2, 3])]),\n",
       " 'trf2': ColumnTransformer(transformers=[('scale', MinMaxScaler(), slice(0, 5, None))]),\n",
       " 'trf3': XGBRegressor(base_score=0.5, booster='gbtree', callbacks=None,\n",
       "              colsample_bylevel=1, colsample_bynode=1, colsample_bytree=1,\n",
       "              early_stopping_rounds=None, enable_categorical=False,\n",
       "              eval_metric=None, feature_types=None, gamma=0, gpu_id=-1,\n",
       "              grow_policy='depthwise', importance_type=None,\n",
       "              interaction_constraints='', learning_rate=0.300000012, max_bin=256,\n",
       "              max_cat_threshold=64, max_cat_to_onehot=4, max_delta_step=0,\n",
       "              max_depth=4, max_leaves=0, min_child_weight=1, missing=nan,\n",
       "              monotone_constraints='()', n_estimators=20, n_jobs=-1,\n",
       "              num_parallel_tree=1, predictor='auto', random_state=42, ...)}"
      ]
     },
     "execution_count": 70,
     "metadata": {},
     "output_type": "execute_result"
    }
   ],
   "source": [
    "pipe_m1.named_steps"
   ]
  },
  {
   "cell_type": "code",
   "execution_count": 71,
   "id": "afe6fae6",
   "metadata": {},
   "outputs": [],
   "source": [
    "#predict \n",
    "y_pred = pipe_m1.predict(X_test)"
   ]
  },
  {
   "cell_type": "code",
   "execution_count": 74,
   "id": "6502186d",
   "metadata": {},
   "outputs": [
    {
     "name": "stdout",
     "output_type": "stream",
     "text": [
      "MAE 1910.8719945698977\n",
      "MSE 7302789.495139035\n",
      "RMSE 2702.367387151317\n",
      "R2Score -0.2382620602327723\n"
     ]
    }
   ],
   "source": [
    "from sklearn.metrics import mean_absolute_error\n",
    "from sklearn.metrics import mean_squared_error\n",
    "from sklearn.metrics import r2_score\n",
    "\n",
    "print(\"MAE\",mean_absolute_error(y_test,y_pred))\n",
    "print(\"MSE\",mean_squared_error(y_test,y_pred))\n",
    "print(\"RMSE\",np.sqrt(mean_squared_error(y_test,y_pred)))\n",
    "print(\"R2Score\",r2_score(y_test,y_pred))"
   ]
  },
  {
   "cell_type": "code",
   "execution_count": 75,
   "id": "b3025822",
   "metadata": {},
   "outputs": [],
   "source": [
    "import pickle \n",
    "pickle.dump(pipe_m1,open('pipe_m1_orderwise_sales_reg.pkl','wb'))"
   ]
  },
  {
   "cell_type": "code",
   "execution_count": 293,
   "id": "e10cbbd2",
   "metadata": {},
   "outputs": [],
   "source": [
    "pipe_m1_loaded = pickle.load(open('pipe_m1_orderwise_sales_reg.pkl','rb'))"
   ]
  },
  {
   "cell_type": "code",
   "execution_count": 294,
   "id": "24f99abe",
   "metadata": {},
   "outputs": [
    {
     "name": "stdout",
     "output_type": "stream",
     "text": [
      "[['comp2' 5 '03' '4' 0.9 0.4]]\n"
     ]
    }
   ],
   "source": [
    "test_pipe_m1_input = np.array(['comp2',5,'03','4',0.9,0.4],dtype=object).reshape(1,6)\n",
    "print(test_pipe_m1_input)"
   ]
  },
  {
   "cell_type": "code",
   "execution_count": 79,
   "id": "b6c3a055",
   "metadata": {},
   "outputs": [
    {
     "name": "stderr",
     "output_type": "stream",
     "text": [
      "/home/neelchoksi19bce0990/.local/lib/python3.9/site-packages/sklearn/base.py:450: UserWarning: X does not have valid feature names, but OrdinalEncoder was fitted with feature names\n",
      "  warnings.warn(\n"
     ]
    },
    {
     "data": {
      "text/plain": [
       "array([8076.362], dtype=float32)"
      ]
     },
     "execution_count": 79,
     "metadata": {},
     "output_type": "execute_result"
    }
   ],
   "source": [
    "pipe_m1_loaded.predict(test_pipe_m1_input)"
   ]
  },
  {
   "cell_type": "code",
   "execution_count": null,
   "id": "df689f05",
   "metadata": {},
   "outputs": [],
   "source": []
  },
  {
   "cell_type": "markdown",
   "id": "1c752768",
   "metadata": {},
   "source": [
    "# m2 - predict productwise reg"
   ]
  },
  {
   "cell_type": "code",
   "execution_count": null,
   "id": "1e25b155",
   "metadata": {},
   "outputs": [],
   "source": [
    "#create pipeline \n",
    "#train model using pipeline\n",
    "#export m1_pipeline \n",
    "#import m1_pipeline \n",
    "# make predict fuction for m1_pipeline"
   ]
  },
  {
   "cell_type": "code",
   "execution_count": 80,
   "id": "10fff752",
   "metadata": {},
   "outputs": [
    {
     "data": {
      "text/html": [
       "<div>\n",
       "<style scoped>\n",
       "    .dataframe tbody tr th:only-of-type {\n",
       "        vertical-align: middle;\n",
       "    }\n",
       "\n",
       "    .dataframe tbody tr th {\n",
       "        vertical-align: top;\n",
       "    }\n",
       "\n",
       "    .dataframe thead th {\n",
       "        text-align: right;\n",
       "    }\n",
       "</style>\n",
       "<table border=\"1\" class=\"dataframe\">\n",
       "  <thead>\n",
       "    <tr style=\"text-align: right;\">\n",
       "      <th></th>\n",
       "      <th>prodName</th>\n",
       "      <th>clientName</th>\n",
       "      <th>month</th>\n",
       "      <th>day</th>\n",
       "      <th>orderQty</th>\n",
       "      <th>orderTotal</th>\n",
       "      <th>cliAvgSenti</th>\n",
       "      <th>spAvgSenti</th>\n",
       "      <th>sales</th>\n",
       "    </tr>\n",
       "  </thead>\n",
       "  <tbody>\n",
       "    <tr>\n",
       "      <th>0</th>\n",
       "      <td>prodsku99</td>\n",
       "      <td>company1</td>\n",
       "      <td>02</td>\n",
       "      <td>6</td>\n",
       "      <td>4</td>\n",
       "      <td>4857.0</td>\n",
       "      <td>1.0</td>\n",
       "      <td>1.0</td>\n",
       "      <td>988.0</td>\n",
       "    </tr>\n",
       "    <tr>\n",
       "      <th>1</th>\n",
       "      <td>prodsku20</td>\n",
       "      <td>company1</td>\n",
       "      <td>02</td>\n",
       "      <td>6</td>\n",
       "      <td>4</td>\n",
       "      <td>4857.0</td>\n",
       "      <td>1.0</td>\n",
       "      <td>1.0</td>\n",
       "      <td>1200.0</td>\n",
       "    </tr>\n",
       "  </tbody>\n",
       "</table>\n",
       "</div>"
      ],
      "text/plain": [
       "    prodName clientName month day  orderQty  orderTotal  cliAvgSenti  \\\n",
       "0  prodsku99   company1    02   6         4      4857.0          1.0   \n",
       "1  prodsku20   company1    02   6         4      4857.0          1.0   \n",
       "\n",
       "   spAvgSenti   sales  \n",
       "0         1.0   988.0  \n",
       "1         1.0  1200.0  "
      ]
     },
     "execution_count": 80,
     "metadata": {},
     "output_type": "execute_result"
    }
   ],
   "source": [
    "prodwise_df_1.head(2)"
   ]
  },
  {
   "cell_type": "code",
   "execution_count": 81,
   "id": "bbe5193d",
   "metadata": {},
   "outputs": [
    {
     "data": {
      "text/plain": [
       "prodName        object\n",
       "clientName      object\n",
       "month           object\n",
       "day             object\n",
       "orderQty         int64\n",
       "orderTotal     float64\n",
       "cliAvgSenti    float64\n",
       "spAvgSenti     float64\n",
       "sales          float64\n",
       "dtype: object"
      ]
     },
     "execution_count": 81,
     "metadata": {},
     "output_type": "execute_result"
    }
   ],
   "source": [
    "prodwise_df_1.dtypes"
   ]
  },
  {
   "cell_type": "code",
   "execution_count": 82,
   "id": "d58dd96e",
   "metadata": {},
   "outputs": [],
   "source": [
    "X_train,X_test,y_train,y_test = train_test_split(prodwise_df_1.drop(columns=['sales']),\n",
    "                                                    prodwise_df_1['sales'],\n",
    "                                                     test_size=0.2,\n",
    "                                                 random_state=42\n",
    "                                                )"
   ]
  },
  {
   "cell_type": "code",
   "execution_count": 83,
   "id": "17ab6f81",
   "metadata": {},
   "outputs": [
    {
     "data": {
      "text/html": [
       "<div>\n",
       "<style scoped>\n",
       "    .dataframe tbody tr th:only-of-type {\n",
       "        vertical-align: middle;\n",
       "    }\n",
       "\n",
       "    .dataframe tbody tr th {\n",
       "        vertical-align: top;\n",
       "    }\n",
       "\n",
       "    .dataframe thead th {\n",
       "        text-align: right;\n",
       "    }\n",
       "</style>\n",
       "<table border=\"1\" class=\"dataframe\">\n",
       "  <thead>\n",
       "    <tr style=\"text-align: right;\">\n",
       "      <th></th>\n",
       "      <th>prodName</th>\n",
       "      <th>clientName</th>\n",
       "      <th>month</th>\n",
       "      <th>day</th>\n",
       "      <th>orderQty</th>\n",
       "      <th>orderTotal</th>\n",
       "      <th>cliAvgSenti</th>\n",
       "      <th>spAvgSenti</th>\n",
       "    </tr>\n",
       "  </thead>\n",
       "  <tbody>\n",
       "    <tr>\n",
       "      <th>5</th>\n",
       "      <td>prodSKU3</td>\n",
       "      <td>comp2</td>\n",
       "      <td>02</td>\n",
       "      <td>6</td>\n",
       "      <td>2</td>\n",
       "      <td>8402.0</td>\n",
       "      <td>1.0</td>\n",
       "      <td>0.5</td>\n",
       "    </tr>\n",
       "    <tr>\n",
       "      <th>2</th>\n",
       "      <td>prodsku20</td>\n",
       "      <td>company1</td>\n",
       "      <td>02</td>\n",
       "      <td>6</td>\n",
       "      <td>4</td>\n",
       "      <td>4857.0</td>\n",
       "      <td>1.0</td>\n",
       "      <td>1.0</td>\n",
       "    </tr>\n",
       "    <tr>\n",
       "      <th>4</th>\n",
       "      <td>prodsku99</td>\n",
       "      <td>company1</td>\n",
       "      <td>02</td>\n",
       "      <td>6</td>\n",
       "      <td>1</td>\n",
       "      <td>1077.0</td>\n",
       "      <td>1.0</td>\n",
       "      <td>1.0</td>\n",
       "    </tr>\n",
       "    <tr>\n",
       "      <th>3</th>\n",
       "      <td>desc1</td>\n",
       "      <td>company1</td>\n",
       "      <td>01</td>\n",
       "      <td>0</td>\n",
       "      <td>5</td>\n",
       "      <td>27.0</td>\n",
       "      <td>1.0</td>\n",
       "      <td>1.0</td>\n",
       "    </tr>\n",
       "    <tr>\n",
       "      <th>6</th>\n",
       "      <td>prodsku20</td>\n",
       "      <td>test1</td>\n",
       "      <td>02</td>\n",
       "      <td>6</td>\n",
       "      <td>2</td>\n",
       "      <td>2520.0</td>\n",
       "      <td>0.0</td>\n",
       "      <td>0.0</td>\n",
       "    </tr>\n",
       "  </tbody>\n",
       "</table>\n",
       "</div>"
      ],
      "text/plain": [
       "    prodName clientName month day  orderQty  orderTotal  cliAvgSenti  \\\n",
       "5   prodSKU3      comp2    02   6         2      8402.0          1.0   \n",
       "2  prodsku20   company1    02   6         4      4857.0          1.0   \n",
       "4  prodsku99   company1    02   6         1      1077.0          1.0   \n",
       "3      desc1   company1    01   0         5        27.0          1.0   \n",
       "6  prodsku20      test1    02   6         2      2520.0          0.0   \n",
       "\n",
       "   spAvgSenti  \n",
       "5         0.5  \n",
       "2         1.0  \n",
       "4         1.0  \n",
       "3         1.0  \n",
       "6         0.0  "
      ]
     },
     "execution_count": 83,
     "metadata": {},
     "output_type": "execute_result"
    }
   ],
   "source": [
    "X_train.head()"
   ]
  },
  {
   "cell_type": "code",
   "execution_count": 84,
   "id": "5993393f",
   "metadata": {},
   "outputs": [
    {
     "data": {
      "text/plain": [
       "5    8002.0\n",
       "2    2400.0\n",
       "4     988.0\n",
       "3      25.0\n",
       "6    2400.0\n",
       "Name: sales, dtype: float64"
      ]
     },
     "execution_count": 84,
     "metadata": {},
     "output_type": "execute_result"
    }
   ],
   "source": [
    "y_train.head()"
   ]
  },
  {
   "cell_type": "code",
   "execution_count": 86,
   "id": "64f234bc",
   "metadata": {},
   "outputs": [],
   "source": [
    "#Ordinal encoding \n",
    "trf1 = ColumnTransformer([\n",
    "    ('orde_prodName_clientName_month_day',OrdinalEncoder(handle_unknown=\"use_encoded_value\",unknown_value=100),[0,1,2,3])\n",
    "],remainder=\"passthrough\")"
   ]
  },
  {
   "cell_type": "code",
   "execution_count": 87,
   "id": "1303f24d",
   "metadata": {},
   "outputs": [],
   "source": [
    "#scaling \n",
    "trf2 = ColumnTransformer([\n",
    "    ('scale',MinMaxScaler(),slice(0,7))\n",
    "])"
   ]
  },
  {
   "cell_type": "code",
   "execution_count": 88,
   "id": "0792afe9",
   "metadata": {},
   "outputs": [],
   "source": [
    "#model training \n",
    "from xgboost import XGBRegressor\n",
    "trf3 = XGBRegressor(random_state=42, n_jobs=-1, n_estimators=20, max_depth=4)"
   ]
  },
  {
   "cell_type": "code",
   "execution_count": 89,
   "id": "28f0c3d8",
   "metadata": {},
   "outputs": [],
   "source": [
    "#pipeline \n",
    "pipe_m2 = Pipeline([\n",
    "    ('trf1',trf1),\n",
    "    ('trf2',trf2),\n",
    "    ('trf3',trf3)\n",
    "])\n"
   ]
  },
  {
   "cell_type": "code",
   "execution_count": 90,
   "id": "f04c92c9",
   "metadata": {},
   "outputs": [
    {
     "data": {
      "text/html": [
       "<style>#sk-container-id-2 {color: black;background-color: white;}#sk-container-id-2 pre{padding: 0;}#sk-container-id-2 div.sk-toggleable {background-color: white;}#sk-container-id-2 label.sk-toggleable__label {cursor: pointer;display: block;width: 100%;margin-bottom: 0;padding: 0.3em;box-sizing: border-box;text-align: center;}#sk-container-id-2 label.sk-toggleable__label-arrow:before {content: \"▸\";float: left;margin-right: 0.25em;color: #696969;}#sk-container-id-2 label.sk-toggleable__label-arrow:hover:before {color: black;}#sk-container-id-2 div.sk-estimator:hover label.sk-toggleable__label-arrow:before {color: black;}#sk-container-id-2 div.sk-toggleable__content {max-height: 0;max-width: 0;overflow: hidden;text-align: left;background-color: #f0f8ff;}#sk-container-id-2 div.sk-toggleable__content pre {margin: 0.2em;color: black;border-radius: 0.25em;background-color: #f0f8ff;}#sk-container-id-2 input.sk-toggleable__control:checked~div.sk-toggleable__content {max-height: 200px;max-width: 100%;overflow: auto;}#sk-container-id-2 input.sk-toggleable__control:checked~label.sk-toggleable__label-arrow:before {content: \"▾\";}#sk-container-id-2 div.sk-estimator input.sk-toggleable__control:checked~label.sk-toggleable__label {background-color: #d4ebff;}#sk-container-id-2 div.sk-label input.sk-toggleable__control:checked~label.sk-toggleable__label {background-color: #d4ebff;}#sk-container-id-2 input.sk-hidden--visually {border: 0;clip: rect(1px 1px 1px 1px);clip: rect(1px, 1px, 1px, 1px);height: 1px;margin: -1px;overflow: hidden;padding: 0;position: absolute;width: 1px;}#sk-container-id-2 div.sk-estimator {font-family: monospace;background-color: #f0f8ff;border: 1px dotted black;border-radius: 0.25em;box-sizing: border-box;margin-bottom: 0.5em;}#sk-container-id-2 div.sk-estimator:hover {background-color: #d4ebff;}#sk-container-id-2 div.sk-parallel-item::after {content: \"\";width: 100%;border-bottom: 1px solid gray;flex-grow: 1;}#sk-container-id-2 div.sk-label:hover label.sk-toggleable__label {background-color: #d4ebff;}#sk-container-id-2 div.sk-serial::before {content: \"\";position: absolute;border-left: 1px solid gray;box-sizing: border-box;top: 0;bottom: 0;left: 50%;z-index: 0;}#sk-container-id-2 div.sk-serial {display: flex;flex-direction: column;align-items: center;background-color: white;padding-right: 0.2em;padding-left: 0.2em;position: relative;}#sk-container-id-2 div.sk-item {position: relative;z-index: 1;}#sk-container-id-2 div.sk-parallel {display: flex;align-items: stretch;justify-content: center;background-color: white;position: relative;}#sk-container-id-2 div.sk-item::before, #sk-container-id-2 div.sk-parallel-item::before {content: \"\";position: absolute;border-left: 1px solid gray;box-sizing: border-box;top: 0;bottom: 0;left: 50%;z-index: -1;}#sk-container-id-2 div.sk-parallel-item {display: flex;flex-direction: column;z-index: 1;position: relative;background-color: white;}#sk-container-id-2 div.sk-parallel-item:first-child::after {align-self: flex-end;width: 50%;}#sk-container-id-2 div.sk-parallel-item:last-child::after {align-self: flex-start;width: 50%;}#sk-container-id-2 div.sk-parallel-item:only-child::after {width: 0;}#sk-container-id-2 div.sk-dashed-wrapped {border: 1px dashed gray;margin: 0 0.4em 0.5em 0.4em;box-sizing: border-box;padding-bottom: 0.4em;background-color: white;}#sk-container-id-2 div.sk-label label {font-family: monospace;font-weight: bold;display: inline-block;line-height: 1.2em;}#sk-container-id-2 div.sk-label-container {text-align: center;}#sk-container-id-2 div.sk-container {/* jupyter's `normalize.less` sets `[hidden] { display: none; }` but bootstrap.min.css set `[hidden] { display: none !important; }` so we also need the `!important` here to be able to override the default hidden behavior on the sphinx rendered scikit-learn.org. See: https://github.com/scikit-learn/scikit-learn/issues/21755 */display: inline-block !important;position: relative;}#sk-container-id-2 div.sk-text-repr-fallback {display: none;}</style><div id=\"sk-container-id-2\" class=\"sk-top-container\"><div class=\"sk-text-repr-fallback\"><pre>Pipeline(steps=[(&#x27;trf1&#x27;,\n",
       "                 ColumnTransformer(remainder=&#x27;passthrough&#x27;,\n",
       "                                   transformers=[(&#x27;orde_prodName_clientName_month_day&#x27;,\n",
       "                                                  OrdinalEncoder(handle_unknown=&#x27;use_encoded_value&#x27;,\n",
       "                                                                 unknown_value=100),\n",
       "                                                  [0, 1, 2, 3])])),\n",
       "                (&#x27;trf2&#x27;,\n",
       "                 ColumnTransformer(transformers=[(&#x27;scale&#x27;, MinMaxScaler(),\n",
       "                                                  slice(0, 7, None))])),\n",
       "                (&#x27;trf3&#x27;,\n",
       "                 XGBRegressor(base_score=0.5, booster=&#x27;gbtree&#x27;, callbacks=No...\n",
       "                              feature_types=None, gamma=0, gpu_id=-1,\n",
       "                              grow_policy=&#x27;depthwise&#x27;, importance_type=None,\n",
       "                              interaction_constraints=&#x27;&#x27;,\n",
       "                              learning_rate=0.300000012, max_bin=256,\n",
       "                              max_cat_threshold=64, max_cat_to_onehot=4,\n",
       "                              max_delta_step=0, max_depth=4, max_leaves=0,\n",
       "                              min_child_weight=1, missing=nan,\n",
       "                              monotone_constraints=&#x27;()&#x27;, n_estimators=20,\n",
       "                              n_jobs=-1, num_parallel_tree=1, predictor=&#x27;auto&#x27;,\n",
       "                              random_state=42, ...))])</pre><b>In a Jupyter environment, please rerun this cell to show the HTML representation or trust the notebook. <br />On GitHub, the HTML representation is unable to render, please try loading this page with nbviewer.org.</b></div><div class=\"sk-container\" hidden><div class=\"sk-item sk-dashed-wrapped\"><div class=\"sk-label-container\"><div class=\"sk-label sk-toggleable\"><input class=\"sk-toggleable__control sk-hidden--visually\" id=\"sk-estimator-id-11\" type=\"checkbox\" ><label for=\"sk-estimator-id-11\" class=\"sk-toggleable__label sk-toggleable__label-arrow\">Pipeline</label><div class=\"sk-toggleable__content\"><pre>Pipeline(steps=[(&#x27;trf1&#x27;,\n",
       "                 ColumnTransformer(remainder=&#x27;passthrough&#x27;,\n",
       "                                   transformers=[(&#x27;orde_prodName_clientName_month_day&#x27;,\n",
       "                                                  OrdinalEncoder(handle_unknown=&#x27;use_encoded_value&#x27;,\n",
       "                                                                 unknown_value=100),\n",
       "                                                  [0, 1, 2, 3])])),\n",
       "                (&#x27;trf2&#x27;,\n",
       "                 ColumnTransformer(transformers=[(&#x27;scale&#x27;, MinMaxScaler(),\n",
       "                                                  slice(0, 7, None))])),\n",
       "                (&#x27;trf3&#x27;,\n",
       "                 XGBRegressor(base_score=0.5, booster=&#x27;gbtree&#x27;, callbacks=No...\n",
       "                              feature_types=None, gamma=0, gpu_id=-1,\n",
       "                              grow_policy=&#x27;depthwise&#x27;, importance_type=None,\n",
       "                              interaction_constraints=&#x27;&#x27;,\n",
       "                              learning_rate=0.300000012, max_bin=256,\n",
       "                              max_cat_threshold=64, max_cat_to_onehot=4,\n",
       "                              max_delta_step=0, max_depth=4, max_leaves=0,\n",
       "                              min_child_weight=1, missing=nan,\n",
       "                              monotone_constraints=&#x27;()&#x27;, n_estimators=20,\n",
       "                              n_jobs=-1, num_parallel_tree=1, predictor=&#x27;auto&#x27;,\n",
       "                              random_state=42, ...))])</pre></div></div></div><div class=\"sk-serial\"><div class=\"sk-item sk-dashed-wrapped\"><div class=\"sk-label-container\"><div class=\"sk-label sk-toggleable\"><input class=\"sk-toggleable__control sk-hidden--visually\" id=\"sk-estimator-id-12\" type=\"checkbox\" ><label for=\"sk-estimator-id-12\" class=\"sk-toggleable__label sk-toggleable__label-arrow\">trf1: ColumnTransformer</label><div class=\"sk-toggleable__content\"><pre>ColumnTransformer(remainder=&#x27;passthrough&#x27;,\n",
       "                  transformers=[(&#x27;orde_prodName_clientName_month_day&#x27;,\n",
       "                                 OrdinalEncoder(handle_unknown=&#x27;use_encoded_value&#x27;,\n",
       "                                                unknown_value=100),\n",
       "                                 [0, 1, 2, 3])])</pre></div></div></div><div class=\"sk-parallel\"><div class=\"sk-parallel-item\"><div class=\"sk-item\"><div class=\"sk-label-container\"><div class=\"sk-label sk-toggleable\"><input class=\"sk-toggleable__control sk-hidden--visually\" id=\"sk-estimator-id-13\" type=\"checkbox\" ><label for=\"sk-estimator-id-13\" class=\"sk-toggleable__label sk-toggleable__label-arrow\">orde_prodName_clientName_month_day</label><div class=\"sk-toggleable__content\"><pre>[0, 1, 2, 3]</pre></div></div></div><div class=\"sk-serial\"><div class=\"sk-item\"><div class=\"sk-estimator sk-toggleable\"><input class=\"sk-toggleable__control sk-hidden--visually\" id=\"sk-estimator-id-14\" type=\"checkbox\" ><label for=\"sk-estimator-id-14\" class=\"sk-toggleable__label sk-toggleable__label-arrow\">OrdinalEncoder</label><div class=\"sk-toggleable__content\"><pre>OrdinalEncoder(handle_unknown=&#x27;use_encoded_value&#x27;, unknown_value=100)</pre></div></div></div></div></div></div><div class=\"sk-parallel-item\"><div class=\"sk-item\"><div class=\"sk-label-container\"><div class=\"sk-label sk-toggleable\"><input class=\"sk-toggleable__control sk-hidden--visually\" id=\"sk-estimator-id-15\" type=\"checkbox\" ><label for=\"sk-estimator-id-15\" class=\"sk-toggleable__label sk-toggleable__label-arrow\">remainder</label><div class=\"sk-toggleable__content\"><pre>[&#x27;orderQty&#x27;, &#x27;orderTotal&#x27;, &#x27;cliAvgSenti&#x27;, &#x27;spAvgSenti&#x27;]</pre></div></div></div><div class=\"sk-serial\"><div class=\"sk-item\"><div class=\"sk-estimator sk-toggleable\"><input class=\"sk-toggleable__control sk-hidden--visually\" id=\"sk-estimator-id-16\" type=\"checkbox\" ><label for=\"sk-estimator-id-16\" class=\"sk-toggleable__label sk-toggleable__label-arrow\">passthrough</label><div class=\"sk-toggleable__content\"><pre>passthrough</pre></div></div></div></div></div></div></div></div><div class=\"sk-item sk-dashed-wrapped\"><div class=\"sk-label-container\"><div class=\"sk-label sk-toggleable\"><input class=\"sk-toggleable__control sk-hidden--visually\" id=\"sk-estimator-id-17\" type=\"checkbox\" ><label for=\"sk-estimator-id-17\" class=\"sk-toggleable__label sk-toggleable__label-arrow\">trf2: ColumnTransformer</label><div class=\"sk-toggleable__content\"><pre>ColumnTransformer(transformers=[(&#x27;scale&#x27;, MinMaxScaler(), slice(0, 7, None))])</pre></div></div></div><div class=\"sk-parallel\"><div class=\"sk-parallel-item\"><div class=\"sk-item\"><div class=\"sk-label-container\"><div class=\"sk-label sk-toggleable\"><input class=\"sk-toggleable__control sk-hidden--visually\" id=\"sk-estimator-id-18\" type=\"checkbox\" ><label for=\"sk-estimator-id-18\" class=\"sk-toggleable__label sk-toggleable__label-arrow\">scale</label><div class=\"sk-toggleable__content\"><pre>slice(0, 7, None)</pre></div></div></div><div class=\"sk-serial\"><div class=\"sk-item\"><div class=\"sk-estimator sk-toggleable\"><input class=\"sk-toggleable__control sk-hidden--visually\" id=\"sk-estimator-id-19\" type=\"checkbox\" ><label for=\"sk-estimator-id-19\" class=\"sk-toggleable__label sk-toggleable__label-arrow\">MinMaxScaler</label><div class=\"sk-toggleable__content\"><pre>MinMaxScaler()</pre></div></div></div></div></div></div></div></div><div class=\"sk-item\"><div class=\"sk-estimator sk-toggleable\"><input class=\"sk-toggleable__control sk-hidden--visually\" id=\"sk-estimator-id-20\" type=\"checkbox\" ><label for=\"sk-estimator-id-20\" class=\"sk-toggleable__label sk-toggleable__label-arrow\">XGBRegressor</label><div class=\"sk-toggleable__content\"><pre>XGBRegressor(base_score=0.5, booster=&#x27;gbtree&#x27;, callbacks=None,\n",
       "             colsample_bylevel=1, colsample_bynode=1, colsample_bytree=1,\n",
       "             early_stopping_rounds=None, enable_categorical=False,\n",
       "             eval_metric=None, feature_types=None, gamma=0, gpu_id=-1,\n",
       "             grow_policy=&#x27;depthwise&#x27;, importance_type=None,\n",
       "             interaction_constraints=&#x27;&#x27;, learning_rate=0.300000012, max_bin=256,\n",
       "             max_cat_threshold=64, max_cat_to_onehot=4, max_delta_step=0,\n",
       "             max_depth=4, max_leaves=0, min_child_weight=1, missing=nan,\n",
       "             monotone_constraints=&#x27;()&#x27;, n_estimators=20, n_jobs=-1,\n",
       "             num_parallel_tree=1, predictor=&#x27;auto&#x27;, random_state=42, ...)</pre></div></div></div></div></div></div></div>"
      ],
      "text/plain": [
       "Pipeline(steps=[('trf1',\n",
       "                 ColumnTransformer(remainder='passthrough',\n",
       "                                   transformers=[('orde_prodName_clientName_month_day',\n",
       "                                                  OrdinalEncoder(handle_unknown='use_encoded_value',\n",
       "                                                                 unknown_value=100),\n",
       "                                                  [0, 1, 2, 3])])),\n",
       "                ('trf2',\n",
       "                 ColumnTransformer(transformers=[('scale', MinMaxScaler(),\n",
       "                                                  slice(0, 7, None))])),\n",
       "                ('trf3',\n",
       "                 XGBRegressor(base_score=0.5, booster='gbtree', callbacks=No...\n",
       "                              feature_types=None, gamma=0, gpu_id=-1,\n",
       "                              grow_policy='depthwise', importance_type=None,\n",
       "                              interaction_constraints='',\n",
       "                              learning_rate=0.300000012, max_bin=256,\n",
       "                              max_cat_threshold=64, max_cat_to_onehot=4,\n",
       "                              max_delta_step=0, max_depth=4, max_leaves=0,\n",
       "                              min_child_weight=1, missing=nan,\n",
       "                              monotone_constraints='()', n_estimators=20,\n",
       "                              n_jobs=-1, num_parallel_tree=1, predictor='auto',\n",
       "                              random_state=42, ...))])"
      ]
     },
     "execution_count": 90,
     "metadata": {},
     "output_type": "execute_result"
    }
   ],
   "source": [
    "pipe_m2.fit(X_train,y_train)"
   ]
  },
  {
   "cell_type": "code",
   "execution_count": 91,
   "id": "68ab1fcf",
   "metadata": {},
   "outputs": [
    {
     "data": {
      "text/plain": [
       "{'trf1': ColumnTransformer(remainder='passthrough',\n",
       "                   transformers=[('orde_prodName_clientName_month_day',\n",
       "                                  OrdinalEncoder(handle_unknown='use_encoded_value',\n",
       "                                                 unknown_value=100),\n",
       "                                  [0, 1, 2, 3])]),\n",
       " 'trf2': ColumnTransformer(transformers=[('scale', MinMaxScaler(), slice(0, 7, None))]),\n",
       " 'trf3': XGBRegressor(base_score=0.5, booster='gbtree', callbacks=None,\n",
       "              colsample_bylevel=1, colsample_bynode=1, colsample_bytree=1,\n",
       "              early_stopping_rounds=None, enable_categorical=False,\n",
       "              eval_metric=None, feature_types=None, gamma=0, gpu_id=-1,\n",
       "              grow_policy='depthwise', importance_type=None,\n",
       "              interaction_constraints='', learning_rate=0.300000012, max_bin=256,\n",
       "              max_cat_threshold=64, max_cat_to_onehot=4, max_delta_step=0,\n",
       "              max_depth=4, max_leaves=0, min_child_weight=1, missing=nan,\n",
       "              monotone_constraints='()', n_estimators=20, n_jobs=-1,\n",
       "              num_parallel_tree=1, predictor='auto', random_state=42, ...)}"
      ]
     },
     "execution_count": 91,
     "metadata": {},
     "output_type": "execute_result"
    }
   ],
   "source": [
    "pipe_m2.named_steps"
   ]
  },
  {
   "cell_type": "code",
   "execution_count": 92,
   "id": "402fa4fc",
   "metadata": {},
   "outputs": [],
   "source": [
    "#predict \n",
    "y_pred = pipe_m2.predict(X_test)"
   ]
  },
  {
   "cell_type": "code",
   "execution_count": 93,
   "id": "9b11149f",
   "metadata": {},
   "outputs": [
    {
     "name": "stdout",
     "output_type": "stream",
     "text": [
      "MAE 1201.149658203125\n",
      "MSE 1443314.818762362\n",
      "RMSE 1201.3803805466284\n",
      "R2Score -127.45450505183001\n"
     ]
    }
   ],
   "source": [
    "from sklearn.metrics import mean_absolute_error\n",
    "from sklearn.metrics import mean_squared_error\n",
    "from sklearn.metrics import r2_score\n",
    "\n",
    "print(\"MAE\",mean_absolute_error(y_test,y_pred))\n",
    "print(\"MSE\",mean_squared_error(y_test,y_pred))\n",
    "print(\"RMSE\",np.sqrt(mean_squared_error(y_test,y_pred)))\n",
    "print(\"R2Score\",r2_score(y_test,y_pred))"
   ]
  },
  {
   "cell_type": "code",
   "execution_count": 94,
   "id": "d161614b",
   "metadata": {},
   "outputs": [],
   "source": [
    "import pickle \n",
    "pickle.dump(pipe_m2,open('pipe_m2_prodwise_sales_reg.pkl','wb'))\n",
    "\n"
   ]
  },
  {
   "cell_type": "code",
   "execution_count": 95,
   "id": "07f04f63",
   "metadata": {},
   "outputs": [
    {
     "name": "stderr",
     "output_type": "stream",
     "text": [
      "/home/neelchoksi19bce0990/.local/lib/python3.9/site-packages/sklearn/base.py:450: UserWarning: X does not have valid feature names, but OrdinalEncoder was fitted with feature names\n",
      "  warnings.warn(\n"
     ]
    },
    {
     "data": {
      "text/plain": [
       "array([2212.6936], dtype=float32)"
      ]
     },
     "execution_count": 95,
     "metadata": {},
     "output_type": "execute_result"
    }
   ],
   "source": [
    "pipe_m2_loaded = pickle.load(open('pipe_m2_prodwise_sales_reg.pkl','rb'))\n",
    "test_pipe_m2_input = np.array(['prodsku99','company1','03','4',10,6000.0,0.8,0.9],dtype=object).reshape(1,8)\n",
    "pipe_m2_loaded.predict(test_pipe_m2_input)"
   ]
  },
  {
   "cell_type": "code",
   "execution_count": null,
   "id": "ac91470c",
   "metadata": {},
   "outputs": [],
   "source": []
  },
  {
   "cell_type": "markdown",
   "id": "020a57c1",
   "metadata": {},
   "source": [
    "# m3 - predict productwise client"
   ]
  },
  {
   "cell_type": "code",
   "execution_count": null,
   "id": "ab877481",
   "metadata": {},
   "outputs": [],
   "source": [
    "#create pipeline \n",
    "#train model using pipeline\n",
    "#export m1_pipeline \n",
    "#import m1_pipeline \n",
    "# make predict fuction for m1_pipeline"
   ]
  },
  {
   "cell_type": "code",
   "execution_count": 178,
   "id": "edcb3bde",
   "metadata": {},
   "outputs": [
    {
     "data": {
      "text/html": [
       "<div>\n",
       "<style scoped>\n",
       "    .dataframe tbody tr th:only-of-type {\n",
       "        vertical-align: middle;\n",
       "    }\n",
       "\n",
       "    .dataframe tbody tr th {\n",
       "        vertical-align: top;\n",
       "    }\n",
       "\n",
       "    .dataframe thead th {\n",
       "        text-align: right;\n",
       "    }\n",
       "</style>\n",
       "<table border=\"1\" class=\"dataframe\">\n",
       "  <thead>\n",
       "    <tr style=\"text-align: right;\">\n",
       "      <th></th>\n",
       "      <th>prodName</th>\n",
       "      <th>clientName</th>\n",
       "      <th>month</th>\n",
       "      <th>day</th>\n",
       "      <th>orderQty</th>\n",
       "      <th>orderTotal</th>\n",
       "      <th>cliAvgSenti</th>\n",
       "      <th>spAvgSenti</th>\n",
       "      <th>sales</th>\n",
       "    </tr>\n",
       "  </thead>\n",
       "  <tbody>\n",
       "    <tr>\n",
       "      <th>0</th>\n",
       "      <td>prodsku99</td>\n",
       "      <td>company1</td>\n",
       "      <td>02</td>\n",
       "      <td>6</td>\n",
       "      <td>4</td>\n",
       "      <td>4857.0</td>\n",
       "      <td>1.0</td>\n",
       "      <td>1.0</td>\n",
       "      <td>988.0</td>\n",
       "    </tr>\n",
       "    <tr>\n",
       "      <th>1</th>\n",
       "      <td>prodsku20</td>\n",
       "      <td>company1</td>\n",
       "      <td>02</td>\n",
       "      <td>6</td>\n",
       "      <td>4</td>\n",
       "      <td>4857.0</td>\n",
       "      <td>1.0</td>\n",
       "      <td>1.0</td>\n",
       "      <td>1200.0</td>\n",
       "    </tr>\n",
       "    <tr>\n",
       "      <th>2</th>\n",
       "      <td>prodsku20</td>\n",
       "      <td>company1</td>\n",
       "      <td>02</td>\n",
       "      <td>6</td>\n",
       "      <td>4</td>\n",
       "      <td>4857.0</td>\n",
       "      <td>1.0</td>\n",
       "      <td>1.0</td>\n",
       "      <td>2400.0</td>\n",
       "    </tr>\n",
       "    <tr>\n",
       "      <th>3</th>\n",
       "      <td>desc1</td>\n",
       "      <td>company1</td>\n",
       "      <td>01</td>\n",
       "      <td>0</td>\n",
       "      <td>5</td>\n",
       "      <td>27.0</td>\n",
       "      <td>1.0</td>\n",
       "      <td>1.0</td>\n",
       "      <td>25.0</td>\n",
       "    </tr>\n",
       "    <tr>\n",
       "      <th>4</th>\n",
       "      <td>prodsku99</td>\n",
       "      <td>company1</td>\n",
       "      <td>02</td>\n",
       "      <td>6</td>\n",
       "      <td>1</td>\n",
       "      <td>1077.0</td>\n",
       "      <td>1.0</td>\n",
       "      <td>1.0</td>\n",
       "      <td>988.0</td>\n",
       "    </tr>\n",
       "  </tbody>\n",
       "</table>\n",
       "</div>"
      ],
      "text/plain": [
       "    prodName clientName month day  orderQty  orderTotal  cliAvgSenti  \\\n",
       "0  prodsku99   company1    02   6         4      4857.0          1.0   \n",
       "1  prodsku20   company1    02   6         4      4857.0          1.0   \n",
       "2  prodsku20   company1    02   6         4      4857.0          1.0   \n",
       "3      desc1   company1    01   0         5        27.0          1.0   \n",
       "4  prodsku99   company1    02   6         1      1077.0          1.0   \n",
       "\n",
       "   spAvgSenti   sales  \n",
       "0         1.0   988.0  \n",
       "1         1.0  1200.0  \n",
       "2         1.0  2400.0  \n",
       "3         1.0    25.0  \n",
       "4         1.0   988.0  "
      ]
     },
     "execution_count": 178,
     "metadata": {},
     "output_type": "execute_result"
    }
   ],
   "source": [
    "prodwise_df_1.head()"
   ]
  },
  {
   "cell_type": "code",
   "execution_count": 179,
   "id": "5132f44a",
   "metadata": {},
   "outputs": [
    {
     "data": {
      "text/plain": [
       "prodName        object\n",
       "clientName      object\n",
       "month           object\n",
       "day             object\n",
       "orderQty         int64\n",
       "orderTotal     float64\n",
       "cliAvgSenti    float64\n",
       "spAvgSenti     float64\n",
       "sales          float64\n",
       "dtype: object"
      ]
     },
     "execution_count": 179,
     "metadata": {},
     "output_type": "execute_result"
    }
   ],
   "source": [
    "prodwise_df_1.dtypes"
   ]
  },
  {
   "cell_type": "code",
   "execution_count": 180,
   "id": "a51f0709",
   "metadata": {},
   "outputs": [],
   "source": [
    "X_train,X_test,y_train,y_test = train_test_split(prodwise_df_1.drop(columns=['clientName']),\n",
    "                                                    prodwise_df_1['clientName'],\n",
    "                                                 test_size = 0.2,\n",
    "                                                 random_state = 42\n",
    "                                                )"
   ]
  },
  {
   "cell_type": "code",
   "execution_count": 181,
   "id": "a0fd5a42",
   "metadata": {},
   "outputs": [
    {
     "data": {
      "text/html": [
       "<div>\n",
       "<style scoped>\n",
       "    .dataframe tbody tr th:only-of-type {\n",
       "        vertical-align: middle;\n",
       "    }\n",
       "\n",
       "    .dataframe tbody tr th {\n",
       "        vertical-align: top;\n",
       "    }\n",
       "\n",
       "    .dataframe thead th {\n",
       "        text-align: right;\n",
       "    }\n",
       "</style>\n",
       "<table border=\"1\" class=\"dataframe\">\n",
       "  <thead>\n",
       "    <tr style=\"text-align: right;\">\n",
       "      <th></th>\n",
       "      <th>prodName</th>\n",
       "      <th>month</th>\n",
       "      <th>day</th>\n",
       "      <th>orderQty</th>\n",
       "      <th>orderTotal</th>\n",
       "      <th>cliAvgSenti</th>\n",
       "      <th>spAvgSenti</th>\n",
       "      <th>sales</th>\n",
       "    </tr>\n",
       "  </thead>\n",
       "  <tbody>\n",
       "    <tr>\n",
       "      <th>5</th>\n",
       "      <td>prodSKU3</td>\n",
       "      <td>02</td>\n",
       "      <td>6</td>\n",
       "      <td>2</td>\n",
       "      <td>8402.0</td>\n",
       "      <td>1.0</td>\n",
       "      <td>0.5</td>\n",
       "      <td>8002.0</td>\n",
       "    </tr>\n",
       "    <tr>\n",
       "      <th>2</th>\n",
       "      <td>prodsku20</td>\n",
       "      <td>02</td>\n",
       "      <td>6</td>\n",
       "      <td>4</td>\n",
       "      <td>4857.0</td>\n",
       "      <td>1.0</td>\n",
       "      <td>1.0</td>\n",
       "      <td>2400.0</td>\n",
       "    </tr>\n",
       "    <tr>\n",
       "      <th>4</th>\n",
       "      <td>prodsku99</td>\n",
       "      <td>02</td>\n",
       "      <td>6</td>\n",
       "      <td>1</td>\n",
       "      <td>1077.0</td>\n",
       "      <td>1.0</td>\n",
       "      <td>1.0</td>\n",
       "      <td>988.0</td>\n",
       "    </tr>\n",
       "    <tr>\n",
       "      <th>3</th>\n",
       "      <td>desc1</td>\n",
       "      <td>01</td>\n",
       "      <td>0</td>\n",
       "      <td>5</td>\n",
       "      <td>27.0</td>\n",
       "      <td>1.0</td>\n",
       "      <td>1.0</td>\n",
       "      <td>25.0</td>\n",
       "    </tr>\n",
       "    <tr>\n",
       "      <th>6</th>\n",
       "      <td>prodsku20</td>\n",
       "      <td>02</td>\n",
       "      <td>6</td>\n",
       "      <td>2</td>\n",
       "      <td>2520.0</td>\n",
       "      <td>0.0</td>\n",
       "      <td>0.0</td>\n",
       "      <td>2400.0</td>\n",
       "    </tr>\n",
       "  </tbody>\n",
       "</table>\n",
       "</div>"
      ],
      "text/plain": [
       "    prodName month day  orderQty  orderTotal  cliAvgSenti  spAvgSenti   sales\n",
       "5   prodSKU3    02   6         2      8402.0          1.0         0.5  8002.0\n",
       "2  prodsku20    02   6         4      4857.0          1.0         1.0  2400.0\n",
       "4  prodsku99    02   6         1      1077.0          1.0         1.0   988.0\n",
       "3      desc1    01   0         5        27.0          1.0         1.0    25.0\n",
       "6  prodsku20    02   6         2      2520.0          0.0         0.0  2400.0"
      ]
     },
     "execution_count": 181,
     "metadata": {},
     "output_type": "execute_result"
    }
   ],
   "source": [
    "X_train.head()"
   ]
  },
  {
   "cell_type": "code",
   "execution_count": 182,
   "id": "bb9f5649",
   "metadata": {},
   "outputs": [
    {
     "data": {
      "text/plain": [
       "5       comp2\n",
       "2    company1\n",
       "4    company1\n",
       "3    company1\n",
       "6       test1\n",
       "Name: clientName, dtype: object"
      ]
     },
     "execution_count": 182,
     "metadata": {},
     "output_type": "execute_result"
    }
   ],
   "source": [
    "y_train.head()"
   ]
  },
  {
   "cell_type": "code",
   "execution_count": 183,
   "id": "07888465",
   "metadata": {},
   "outputs": [],
   "source": [
    "#Ordinal encoding \n",
    "trf1 = ColumnTransformer([\n",
    "    ('orde_prodName_month_day',OrdinalEncoder(handle_unknown=\"use_encoded_value\",unknown_value=100),[0,1,2])\n",
    "],remainder=\"passthrough\")"
   ]
  },
  {
   "cell_type": "code",
   "execution_count": 184,
   "id": "e8c52484",
   "metadata": {},
   "outputs": [],
   "source": [
    "#scaling \n",
    "trf2 = ColumnTransformer([\n",
    "    ('scale',MinMaxScaler(),slice(0,7))\n",
    "])"
   ]
  },
  {
   "cell_type": "code",
   "execution_count": 185,
   "id": "b8adc16a",
   "metadata": {},
   "outputs": [],
   "source": [
    "#model training \n",
    "from sklearn.ensemble import BaggingClassifier\n",
    "from sklearn.tree import DecisionTreeClassifier\n",
    "trf3 = BaggingClassifier(\n",
    "    base_estimator = DecisionTreeClassifier(),\n",
    "    n_estimators = 500,\n",
    "    max_samples = 0.25,\n",
    "    bootstrap = True,\n",
    "    random_state = 42\n",
    ")"
   ]
  },
  {
   "cell_type": "code",
   "execution_count": 186,
   "id": "c042f73d",
   "metadata": {},
   "outputs": [],
   "source": [
    "#pipeline \n",
    "pipe_m3_x = Pipeline([\n",
    "    ('trf1',trf1),\n",
    "    ('trf2',trf2),\n",
    "    ('trf3',trf3)\n",
    "])"
   ]
  },
  {
   "cell_type": "code",
   "execution_count": null,
   "id": "248178d9",
   "metadata": {},
   "outputs": [],
   "source": []
  },
  {
   "cell_type": "code",
   "execution_count": 187,
   "id": "0cdfb7e1",
   "metadata": {},
   "outputs": [],
   "source": [
    "#Ordinal encoding \n",
    "trf4 = OrdinalEncoder(handle_unknown=\"use_encoded_value\",unknown_value=100)\n"
   ]
  },
  {
   "cell_type": "code",
   "execution_count": 224,
   "id": "d3a9e728",
   "metadata": {},
   "outputs": [],
   "source": [
    "trf4_general = OrdinalEncoder(handle_unknown=\"use_encoded_value\",unknown_value=100)"
   ]
  },
  {
   "cell_type": "code",
   "execution_count": 236,
   "id": "d75a450f",
   "metadata": {},
   "outputs": [
    {
     "name": "stdout",
     "output_type": "stream",
     "text": [
      "['company1', 'company1', 'company1', 'company1', 'company1', 'comp2', 'test1']\n"
     ]
    },
    {
     "data": {
      "text/plain": [
       "array([['company1'],\n",
       "       ['company1'],\n",
       "       ['company1'],\n",
       "       ['company1'],\n",
       "       ['company1'],\n",
       "       ['comp2'],\n",
       "       ['test1']], dtype='<U8')"
      ]
     },
     "execution_count": 236,
     "metadata": {},
     "output_type": "execute_result"
    }
   ],
   "source": [
    "pred_list = list(prodwise_df_1['clientName'])\n",
    "print(pred_list)\n",
    "ip_pred_list =np.array(pred_list).reshape(len(pred_list),1)\n",
    "ip_pred_list"
   ]
  },
  {
   "cell_type": "code",
   "execution_count": 237,
   "id": "a2d6f934",
   "metadata": {},
   "outputs": [
    {
     "data": {
      "text/html": [
       "<style>#sk-container-id-8 {color: black;background-color: white;}#sk-container-id-8 pre{padding: 0;}#sk-container-id-8 div.sk-toggleable {background-color: white;}#sk-container-id-8 label.sk-toggleable__label {cursor: pointer;display: block;width: 100%;margin-bottom: 0;padding: 0.3em;box-sizing: border-box;text-align: center;}#sk-container-id-8 label.sk-toggleable__label-arrow:before {content: \"▸\";float: left;margin-right: 0.25em;color: #696969;}#sk-container-id-8 label.sk-toggleable__label-arrow:hover:before {color: black;}#sk-container-id-8 div.sk-estimator:hover label.sk-toggleable__label-arrow:before {color: black;}#sk-container-id-8 div.sk-toggleable__content {max-height: 0;max-width: 0;overflow: hidden;text-align: left;background-color: #f0f8ff;}#sk-container-id-8 div.sk-toggleable__content pre {margin: 0.2em;color: black;border-radius: 0.25em;background-color: #f0f8ff;}#sk-container-id-8 input.sk-toggleable__control:checked~div.sk-toggleable__content {max-height: 200px;max-width: 100%;overflow: auto;}#sk-container-id-8 input.sk-toggleable__control:checked~label.sk-toggleable__label-arrow:before {content: \"▾\";}#sk-container-id-8 div.sk-estimator input.sk-toggleable__control:checked~label.sk-toggleable__label {background-color: #d4ebff;}#sk-container-id-8 div.sk-label input.sk-toggleable__control:checked~label.sk-toggleable__label {background-color: #d4ebff;}#sk-container-id-8 input.sk-hidden--visually {border: 0;clip: rect(1px 1px 1px 1px);clip: rect(1px, 1px, 1px, 1px);height: 1px;margin: -1px;overflow: hidden;padding: 0;position: absolute;width: 1px;}#sk-container-id-8 div.sk-estimator {font-family: monospace;background-color: #f0f8ff;border: 1px dotted black;border-radius: 0.25em;box-sizing: border-box;margin-bottom: 0.5em;}#sk-container-id-8 div.sk-estimator:hover {background-color: #d4ebff;}#sk-container-id-8 div.sk-parallel-item::after {content: \"\";width: 100%;border-bottom: 1px solid gray;flex-grow: 1;}#sk-container-id-8 div.sk-label:hover label.sk-toggleable__label {background-color: #d4ebff;}#sk-container-id-8 div.sk-serial::before {content: \"\";position: absolute;border-left: 1px solid gray;box-sizing: border-box;top: 0;bottom: 0;left: 50%;z-index: 0;}#sk-container-id-8 div.sk-serial {display: flex;flex-direction: column;align-items: center;background-color: white;padding-right: 0.2em;padding-left: 0.2em;position: relative;}#sk-container-id-8 div.sk-item {position: relative;z-index: 1;}#sk-container-id-8 div.sk-parallel {display: flex;align-items: stretch;justify-content: center;background-color: white;position: relative;}#sk-container-id-8 div.sk-item::before, #sk-container-id-8 div.sk-parallel-item::before {content: \"\";position: absolute;border-left: 1px solid gray;box-sizing: border-box;top: 0;bottom: 0;left: 50%;z-index: -1;}#sk-container-id-8 div.sk-parallel-item {display: flex;flex-direction: column;z-index: 1;position: relative;background-color: white;}#sk-container-id-8 div.sk-parallel-item:first-child::after {align-self: flex-end;width: 50%;}#sk-container-id-8 div.sk-parallel-item:last-child::after {align-self: flex-start;width: 50%;}#sk-container-id-8 div.sk-parallel-item:only-child::after {width: 0;}#sk-container-id-8 div.sk-dashed-wrapped {border: 1px dashed gray;margin: 0 0.4em 0.5em 0.4em;box-sizing: border-box;padding-bottom: 0.4em;background-color: white;}#sk-container-id-8 div.sk-label label {font-family: monospace;font-weight: bold;display: inline-block;line-height: 1.2em;}#sk-container-id-8 div.sk-label-container {text-align: center;}#sk-container-id-8 div.sk-container {/* jupyter's `normalize.less` sets `[hidden] { display: none; }` but bootstrap.min.css set `[hidden] { display: none !important; }` so we also need the `!important` here to be able to override the default hidden behavior on the sphinx rendered scikit-learn.org. See: https://github.com/scikit-learn/scikit-learn/issues/21755 */display: inline-block !important;position: relative;}#sk-container-id-8 div.sk-text-repr-fallback {display: none;}</style><div id=\"sk-container-id-8\" class=\"sk-top-container\"><div class=\"sk-text-repr-fallback\"><pre>OrdinalEncoder(handle_unknown=&#x27;use_encoded_value&#x27;, unknown_value=100)</pre><b>In a Jupyter environment, please rerun this cell to show the HTML representation or trust the notebook. <br />On GitHub, the HTML representation is unable to render, please try loading this page with nbviewer.org.</b></div><div class=\"sk-container\" hidden><div class=\"sk-item\"><div class=\"sk-estimator sk-toggleable\"><input class=\"sk-toggleable__control sk-hidden--visually\" id=\"sk-estimator-id-75\" type=\"checkbox\" checked><label for=\"sk-estimator-id-75\" class=\"sk-toggleable__label sk-toggleable__label-arrow\">OrdinalEncoder</label><div class=\"sk-toggleable__content\"><pre>OrdinalEncoder(handle_unknown=&#x27;use_encoded_value&#x27;, unknown_value=100)</pre></div></div></div></div></div>"
      ],
      "text/plain": [
       "OrdinalEncoder(handle_unknown='use_encoded_value', unknown_value=100)"
      ]
     },
     "execution_count": 237,
     "metadata": {},
     "output_type": "execute_result"
    }
   ],
   "source": [
    "trf4_general.fit(ip_pred_list)"
   ]
  },
  {
   "cell_type": "code",
   "execution_count": 239,
   "id": "2c0c6ece",
   "metadata": {},
   "outputs": [],
   "source": [
    "y_train=trf4.fit_transform(pd.DataFrame(y_train))"
   ]
  },
  {
   "cell_type": "code",
   "execution_count": 240,
   "id": "364b7624",
   "metadata": {},
   "outputs": [
    {
     "name": "stderr",
     "output_type": "stream",
     "text": [
      "/home/neelchoksi19bce0990/.local/lib/python3.9/site-packages/sklearn/ensemble/_bagging.py:760: DataConversionWarning: A column-vector y was passed when a 1d array was expected. Please change the shape of y to (n_samples, ), for example using ravel().\n",
      "  y = column_or_1d(y, warn=True)\n"
     ]
    },
    {
     "data": {
      "text/html": [
       "<style>#sk-container-id-9 {color: black;background-color: white;}#sk-container-id-9 pre{padding: 0;}#sk-container-id-9 div.sk-toggleable {background-color: white;}#sk-container-id-9 label.sk-toggleable__label {cursor: pointer;display: block;width: 100%;margin-bottom: 0;padding: 0.3em;box-sizing: border-box;text-align: center;}#sk-container-id-9 label.sk-toggleable__label-arrow:before {content: \"▸\";float: left;margin-right: 0.25em;color: #696969;}#sk-container-id-9 label.sk-toggleable__label-arrow:hover:before {color: black;}#sk-container-id-9 div.sk-estimator:hover label.sk-toggleable__label-arrow:before {color: black;}#sk-container-id-9 div.sk-toggleable__content {max-height: 0;max-width: 0;overflow: hidden;text-align: left;background-color: #f0f8ff;}#sk-container-id-9 div.sk-toggleable__content pre {margin: 0.2em;color: black;border-radius: 0.25em;background-color: #f0f8ff;}#sk-container-id-9 input.sk-toggleable__control:checked~div.sk-toggleable__content {max-height: 200px;max-width: 100%;overflow: auto;}#sk-container-id-9 input.sk-toggleable__control:checked~label.sk-toggleable__label-arrow:before {content: \"▾\";}#sk-container-id-9 div.sk-estimator input.sk-toggleable__control:checked~label.sk-toggleable__label {background-color: #d4ebff;}#sk-container-id-9 div.sk-label input.sk-toggleable__control:checked~label.sk-toggleable__label {background-color: #d4ebff;}#sk-container-id-9 input.sk-hidden--visually {border: 0;clip: rect(1px 1px 1px 1px);clip: rect(1px, 1px, 1px, 1px);height: 1px;margin: -1px;overflow: hidden;padding: 0;position: absolute;width: 1px;}#sk-container-id-9 div.sk-estimator {font-family: monospace;background-color: #f0f8ff;border: 1px dotted black;border-radius: 0.25em;box-sizing: border-box;margin-bottom: 0.5em;}#sk-container-id-9 div.sk-estimator:hover {background-color: #d4ebff;}#sk-container-id-9 div.sk-parallel-item::after {content: \"\";width: 100%;border-bottom: 1px solid gray;flex-grow: 1;}#sk-container-id-9 div.sk-label:hover label.sk-toggleable__label {background-color: #d4ebff;}#sk-container-id-9 div.sk-serial::before {content: \"\";position: absolute;border-left: 1px solid gray;box-sizing: border-box;top: 0;bottom: 0;left: 50%;z-index: 0;}#sk-container-id-9 div.sk-serial {display: flex;flex-direction: column;align-items: center;background-color: white;padding-right: 0.2em;padding-left: 0.2em;position: relative;}#sk-container-id-9 div.sk-item {position: relative;z-index: 1;}#sk-container-id-9 div.sk-parallel {display: flex;align-items: stretch;justify-content: center;background-color: white;position: relative;}#sk-container-id-9 div.sk-item::before, #sk-container-id-9 div.sk-parallel-item::before {content: \"\";position: absolute;border-left: 1px solid gray;box-sizing: border-box;top: 0;bottom: 0;left: 50%;z-index: -1;}#sk-container-id-9 div.sk-parallel-item {display: flex;flex-direction: column;z-index: 1;position: relative;background-color: white;}#sk-container-id-9 div.sk-parallel-item:first-child::after {align-self: flex-end;width: 50%;}#sk-container-id-9 div.sk-parallel-item:last-child::after {align-self: flex-start;width: 50%;}#sk-container-id-9 div.sk-parallel-item:only-child::after {width: 0;}#sk-container-id-9 div.sk-dashed-wrapped {border: 1px dashed gray;margin: 0 0.4em 0.5em 0.4em;box-sizing: border-box;padding-bottom: 0.4em;background-color: white;}#sk-container-id-9 div.sk-label label {font-family: monospace;font-weight: bold;display: inline-block;line-height: 1.2em;}#sk-container-id-9 div.sk-label-container {text-align: center;}#sk-container-id-9 div.sk-container {/* jupyter's `normalize.less` sets `[hidden] { display: none; }` but bootstrap.min.css set `[hidden] { display: none !important; }` so we also need the `!important` here to be able to override the default hidden behavior on the sphinx rendered scikit-learn.org. See: https://github.com/scikit-learn/scikit-learn/issues/21755 */display: inline-block !important;position: relative;}#sk-container-id-9 div.sk-text-repr-fallback {display: none;}</style><div id=\"sk-container-id-9\" class=\"sk-top-container\"><div class=\"sk-text-repr-fallback\"><pre>Pipeline(steps=[(&#x27;trf1&#x27;,\n",
       "                 ColumnTransformer(remainder=&#x27;passthrough&#x27;,\n",
       "                                   transformers=[(&#x27;orde_prodName_month_day&#x27;,\n",
       "                                                  OrdinalEncoder(handle_unknown=&#x27;use_encoded_value&#x27;,\n",
       "                                                                 unknown_value=100),\n",
       "                                                  [0, 1, 2])])),\n",
       "                (&#x27;trf2&#x27;,\n",
       "                 ColumnTransformer(transformers=[(&#x27;scale&#x27;, MinMaxScaler(),\n",
       "                                                  slice(0, 7, None))])),\n",
       "                (&#x27;trf3&#x27;,\n",
       "                 BaggingClassifier(base_estimator=DecisionTreeClassifier(),\n",
       "                                   max_samples=0.25, n_estimators=500,\n",
       "                                   random_state=42))])</pre><b>In a Jupyter environment, please rerun this cell to show the HTML representation or trust the notebook. <br />On GitHub, the HTML representation is unable to render, please try loading this page with nbviewer.org.</b></div><div class=\"sk-container\" hidden><div class=\"sk-item sk-dashed-wrapped\"><div class=\"sk-label-container\"><div class=\"sk-label sk-toggleable\"><input class=\"sk-toggleable__control sk-hidden--visually\" id=\"sk-estimator-id-76\" type=\"checkbox\" ><label for=\"sk-estimator-id-76\" class=\"sk-toggleable__label sk-toggleable__label-arrow\">Pipeline</label><div class=\"sk-toggleable__content\"><pre>Pipeline(steps=[(&#x27;trf1&#x27;,\n",
       "                 ColumnTransformer(remainder=&#x27;passthrough&#x27;,\n",
       "                                   transformers=[(&#x27;orde_prodName_month_day&#x27;,\n",
       "                                                  OrdinalEncoder(handle_unknown=&#x27;use_encoded_value&#x27;,\n",
       "                                                                 unknown_value=100),\n",
       "                                                  [0, 1, 2])])),\n",
       "                (&#x27;trf2&#x27;,\n",
       "                 ColumnTransformer(transformers=[(&#x27;scale&#x27;, MinMaxScaler(),\n",
       "                                                  slice(0, 7, None))])),\n",
       "                (&#x27;trf3&#x27;,\n",
       "                 BaggingClassifier(base_estimator=DecisionTreeClassifier(),\n",
       "                                   max_samples=0.25, n_estimators=500,\n",
       "                                   random_state=42))])</pre></div></div></div><div class=\"sk-serial\"><div class=\"sk-item sk-dashed-wrapped\"><div class=\"sk-label-container\"><div class=\"sk-label sk-toggleable\"><input class=\"sk-toggleable__control sk-hidden--visually\" id=\"sk-estimator-id-77\" type=\"checkbox\" ><label for=\"sk-estimator-id-77\" class=\"sk-toggleable__label sk-toggleable__label-arrow\">trf1: ColumnTransformer</label><div class=\"sk-toggleable__content\"><pre>ColumnTransformer(remainder=&#x27;passthrough&#x27;,\n",
       "                  transformers=[(&#x27;orde_prodName_month_day&#x27;,\n",
       "                                 OrdinalEncoder(handle_unknown=&#x27;use_encoded_value&#x27;,\n",
       "                                                unknown_value=100),\n",
       "                                 [0, 1, 2])])</pre></div></div></div><div class=\"sk-parallel\"><div class=\"sk-parallel-item\"><div class=\"sk-item\"><div class=\"sk-label-container\"><div class=\"sk-label sk-toggleable\"><input class=\"sk-toggleable__control sk-hidden--visually\" id=\"sk-estimator-id-78\" type=\"checkbox\" ><label for=\"sk-estimator-id-78\" class=\"sk-toggleable__label sk-toggleable__label-arrow\">orde_prodName_month_day</label><div class=\"sk-toggleable__content\"><pre>[0, 1, 2]</pre></div></div></div><div class=\"sk-serial\"><div class=\"sk-item\"><div class=\"sk-estimator sk-toggleable\"><input class=\"sk-toggleable__control sk-hidden--visually\" id=\"sk-estimator-id-79\" type=\"checkbox\" ><label for=\"sk-estimator-id-79\" class=\"sk-toggleable__label sk-toggleable__label-arrow\">OrdinalEncoder</label><div class=\"sk-toggleable__content\"><pre>OrdinalEncoder(handle_unknown=&#x27;use_encoded_value&#x27;, unknown_value=100)</pre></div></div></div></div></div></div><div class=\"sk-parallel-item\"><div class=\"sk-item\"><div class=\"sk-label-container\"><div class=\"sk-label sk-toggleable\"><input class=\"sk-toggleable__control sk-hidden--visually\" id=\"sk-estimator-id-80\" type=\"checkbox\" ><label for=\"sk-estimator-id-80\" class=\"sk-toggleable__label sk-toggleable__label-arrow\">remainder</label><div class=\"sk-toggleable__content\"><pre>[&#x27;orderQty&#x27;, &#x27;orderTotal&#x27;, &#x27;cliAvgSenti&#x27;, &#x27;spAvgSenti&#x27;, &#x27;sales&#x27;]</pre></div></div></div><div class=\"sk-serial\"><div class=\"sk-item\"><div class=\"sk-estimator sk-toggleable\"><input class=\"sk-toggleable__control sk-hidden--visually\" id=\"sk-estimator-id-81\" type=\"checkbox\" ><label for=\"sk-estimator-id-81\" class=\"sk-toggleable__label sk-toggleable__label-arrow\">passthrough</label><div class=\"sk-toggleable__content\"><pre>passthrough</pre></div></div></div></div></div></div></div></div><div class=\"sk-item sk-dashed-wrapped\"><div class=\"sk-label-container\"><div class=\"sk-label sk-toggleable\"><input class=\"sk-toggleable__control sk-hidden--visually\" id=\"sk-estimator-id-82\" type=\"checkbox\" ><label for=\"sk-estimator-id-82\" class=\"sk-toggleable__label sk-toggleable__label-arrow\">trf2: ColumnTransformer</label><div class=\"sk-toggleable__content\"><pre>ColumnTransformer(transformers=[(&#x27;scale&#x27;, MinMaxScaler(), slice(0, 7, None))])</pre></div></div></div><div class=\"sk-parallel\"><div class=\"sk-parallel-item\"><div class=\"sk-item\"><div class=\"sk-label-container\"><div class=\"sk-label sk-toggleable\"><input class=\"sk-toggleable__control sk-hidden--visually\" id=\"sk-estimator-id-83\" type=\"checkbox\" ><label for=\"sk-estimator-id-83\" class=\"sk-toggleable__label sk-toggleable__label-arrow\">scale</label><div class=\"sk-toggleable__content\"><pre>slice(0, 7, None)</pre></div></div></div><div class=\"sk-serial\"><div class=\"sk-item\"><div class=\"sk-estimator sk-toggleable\"><input class=\"sk-toggleable__control sk-hidden--visually\" id=\"sk-estimator-id-84\" type=\"checkbox\" ><label for=\"sk-estimator-id-84\" class=\"sk-toggleable__label sk-toggleable__label-arrow\">MinMaxScaler</label><div class=\"sk-toggleable__content\"><pre>MinMaxScaler()</pre></div></div></div></div></div></div></div></div><div class=\"sk-item sk-dashed-wrapped\"><div class=\"sk-label-container\"><div class=\"sk-label sk-toggleable\"><input class=\"sk-toggleable__control sk-hidden--visually\" id=\"sk-estimator-id-85\" type=\"checkbox\" ><label for=\"sk-estimator-id-85\" class=\"sk-toggleable__label sk-toggleable__label-arrow\">trf3: BaggingClassifier</label><div class=\"sk-toggleable__content\"><pre>BaggingClassifier(base_estimator=DecisionTreeClassifier(), max_samples=0.25,\n",
       "                  n_estimators=500, random_state=42)</pre></div></div></div><div class=\"sk-parallel\"><div class=\"sk-parallel-item\"><div class=\"sk-item\"><div class=\"sk-label-container\"><div class=\"sk-label sk-toggleable\"><input class=\"sk-toggleable__control sk-hidden--visually\" id=\"sk-estimator-id-86\" type=\"checkbox\" ><label for=\"sk-estimator-id-86\" class=\"sk-toggleable__label sk-toggleable__label-arrow\">base_estimator: DecisionTreeClassifier</label><div class=\"sk-toggleable__content\"><pre>DecisionTreeClassifier()</pre></div></div></div><div class=\"sk-serial\"><div class=\"sk-item\"><div class=\"sk-estimator sk-toggleable\"><input class=\"sk-toggleable__control sk-hidden--visually\" id=\"sk-estimator-id-87\" type=\"checkbox\" ><label for=\"sk-estimator-id-87\" class=\"sk-toggleable__label sk-toggleable__label-arrow\">DecisionTreeClassifier</label><div class=\"sk-toggleable__content\"><pre>DecisionTreeClassifier()</pre></div></div></div></div></div></div></div></div></div></div></div></div>"
      ],
      "text/plain": [
       "Pipeline(steps=[('trf1',\n",
       "                 ColumnTransformer(remainder='passthrough',\n",
       "                                   transformers=[('orde_prodName_month_day',\n",
       "                                                  OrdinalEncoder(handle_unknown='use_encoded_value',\n",
       "                                                                 unknown_value=100),\n",
       "                                                  [0, 1, 2])])),\n",
       "                ('trf2',\n",
       "                 ColumnTransformer(transformers=[('scale', MinMaxScaler(),\n",
       "                                                  slice(0, 7, None))])),\n",
       "                ('trf3',\n",
       "                 BaggingClassifier(base_estimator=DecisionTreeClassifier(),\n",
       "                                   max_samples=0.25, n_estimators=500,\n",
       "                                   random_state=42))])"
      ]
     },
     "execution_count": 240,
     "metadata": {},
     "output_type": "execute_result"
    }
   ],
   "source": [
    "pipe_m3_x.fit(X_train,y_train)"
   ]
  },
  {
   "cell_type": "code",
   "execution_count": 241,
   "id": "ee9ba6a9",
   "metadata": {},
   "outputs": [
    {
     "data": {
      "text/plain": [
       "{'trf1': ColumnTransformer(remainder='passthrough',\n",
       "                   transformers=[('orde_prodName_month_day',\n",
       "                                  OrdinalEncoder(handle_unknown='use_encoded_value',\n",
       "                                                 unknown_value=100),\n",
       "                                  [0, 1, 2])]),\n",
       " 'trf2': ColumnTransformer(transformers=[('scale', MinMaxScaler(), slice(0, 7, None))]),\n",
       " 'trf3': BaggingClassifier(base_estimator=DecisionTreeClassifier(), max_samples=0.25,\n",
       "                   n_estimators=500, random_state=42)}"
      ]
     },
     "execution_count": 241,
     "metadata": {},
     "output_type": "execute_result"
    }
   ],
   "source": [
    "pipe_m3_x.named_steps"
   ]
  },
  {
   "cell_type": "code",
   "execution_count": null,
   "id": "361d9443",
   "metadata": {},
   "outputs": [],
   "source": []
  },
  {
   "cell_type": "code",
   "execution_count": 242,
   "id": "05c5fd77",
   "metadata": {},
   "outputs": [],
   "source": [
    "y_pred = pipe_m3_x.predict(X_test)"
   ]
  },
  {
   "cell_type": "code",
   "execution_count": 243,
   "id": "09a6d838",
   "metadata": {},
   "outputs": [
    {
     "data": {
      "text/plain": [
       "array([1., 1.])"
      ]
     },
     "execution_count": 243,
     "metadata": {},
     "output_type": "execute_result"
    }
   ],
   "source": [
    "y_pred"
   ]
  },
  {
   "cell_type": "code",
   "execution_count": 244,
   "id": "7d3414ae",
   "metadata": {},
   "outputs": [],
   "source": [
    "y_test=trf4.fit_transform(pd.DataFrame(y_test)).reshape(1,len(y_test))[0]"
   ]
  },
  {
   "cell_type": "code",
   "execution_count": 245,
   "id": "ac9dfe96",
   "metadata": {},
   "outputs": [
    {
     "name": "stdout",
     "output_type": "stream",
     "text": [
      "accuracy :  0.0\n",
      "precision :  0.0\n",
      "f1 score :  0.0\n",
      "matthews cor coef :  0.0\n"
     ]
    }
   ],
   "source": [
    "from sklearn.metrics import accuracy_score\n",
    "from sklearn.metrics import matthews_corrcoef\n",
    "from sklearn.metrics import precision_score\n",
    "from sklearn.metrics import f1_score\n",
    "\n",
    "\n",
    "print(\"accuracy : \",accuracy_score(y_test,y_pred))\n",
    "print(\"precision : \",precision_score(y_test,y_pred))\n",
    "print(\"f1 score : \",f1_score(y_test,y_pred))\n",
    "print(\"matthews cor coef : \",matthews_corrcoef(y_test,y_pred))\n"
   ]
  },
  {
   "cell_type": "code",
   "execution_count": 246,
   "id": "6a30054b",
   "metadata": {},
   "outputs": [],
   "source": [
    "import pickle \n",
    "pickle.dump(pipe_m3_x,open('pipe_m3_x_prodwise_cliname_classif.pkl','wb'))\n",
    "pickle.dump(trf4_general,open('pipe_m3_y_prodwise_cliname_classif.pkl','wb'))\n",
    "\n"
   ]
  },
  {
   "cell_type": "code",
   "execution_count": 247,
   "id": "acf2ee1e",
   "metadata": {},
   "outputs": [
    {
     "name": "stderr",
     "output_type": "stream",
     "text": [
      "/home/neelchoksi19bce0990/.local/lib/python3.9/site-packages/sklearn/base.py:450: UserWarning: X does not have valid feature names, but OrdinalEncoder was fitted with feature names\n",
      "  warnings.warn(\n"
     ]
    },
    {
     "data": {
      "text/plain": [
       "array([1.])"
      ]
     },
     "execution_count": 247,
     "metadata": {},
     "output_type": "execute_result"
    }
   ],
   "source": [
    "pipe_m3_x_loaded = pickle.load(open('pipe_m3_x_prodwise_cliname_classif.pkl','rb'))\n",
    "pipe_m3_y_loaded = pickle.load(open('pipe_m3_y_prodwise_cliname_classif.pkl','rb'))\n",
    "\n",
    "test_pipe_m3_input = np.array(['prodsku99','03','4',10,6000.0,0.8,0.9,988.0],dtype=object).reshape(1,8)\n",
    "pipe_m3_x_loaded.predict(test_pipe_m3_input)"
   ]
  },
  {
   "cell_type": "code",
   "execution_count": 248,
   "id": "7a0cc2a6",
   "metadata": {},
   "outputs": [
    {
     "name": "stderr",
     "output_type": "stream",
     "text": [
      "/home/neelchoksi19bce0990/.local/lib/python3.9/site-packages/sklearn/base.py:450: UserWarning: X does not have valid feature names, but OrdinalEncoder was fitted with feature names\n",
      "  warnings.warn(\n"
     ]
    },
    {
     "data": {
      "text/plain": [
       "array([[1.]])"
      ]
     },
     "execution_count": 248,
     "metadata": {},
     "output_type": "execute_result"
    }
   ],
   "source": [
    "a=pipe_m3_x_loaded.predict(test_pipe_m3_input).reshape(1,-1)\n",
    "a"
   ]
  },
  {
   "cell_type": "code",
   "execution_count": 250,
   "id": "e7b379c9",
   "metadata": {},
   "outputs": [
    {
     "data": {
      "text/plain": [
       "'company1'"
      ]
     },
     "execution_count": 250,
     "metadata": {},
     "output_type": "execute_result"
    }
   ],
   "source": [
    "pipe_m3_y_loaded.inverse_transform(a)[0][0]"
   ]
  },
  {
   "cell_type": "code",
   "execution_count": 173,
   "id": "5c1daa7d",
   "metadata": {},
   "outputs": [],
   "source": [
    "# oe_try = OrdinalEncoder(handle_unknown=\"use_encoded_value\",unknown_value=100)"
   ]
  },
  {
   "cell_type": "code",
   "execution_count": 175,
   "id": "1a16a984",
   "metadata": {},
   "outputs": [
    {
     "data": {
      "text/plain": [
       "array([[0.],\n",
       "       [1.],\n",
       "       [2.]])"
      ]
     },
     "execution_count": 175,
     "metadata": {},
     "output_type": "execute_result"
    }
   ],
   "source": [
    "# oe_try.fit_transform(pd.DataFrame(['CLi1','Cli2','Cli3']))"
   ]
  },
  {
   "cell_type": "code",
   "execution_count": 176,
   "id": "4b01d9d6",
   "metadata": {},
   "outputs": [
    {
     "data": {
      "text/plain": [
       "array([['CLi1']], dtype=object)"
      ]
     },
     "execution_count": 176,
     "metadata": {},
     "output_type": "execute_result"
    }
   ],
   "source": [
    "# oe_try.inverse_transform([[0.]])"
   ]
  },
  {
   "cell_type": "markdown",
   "id": "fb11021a",
   "metadata": {},
   "source": [
    "# m4 - predict productwise product"
   ]
  },
  {
   "cell_type": "code",
   "execution_count": null,
   "id": "ba07d0dd",
   "metadata": {},
   "outputs": [],
   "source": [
    "#create pipeline \n",
    "#train model using pipeline\n",
    "#export m1_pipeline \n",
    "#import m1_pipeline \n",
    "# make predict fuction for m1_pipeline"
   ]
  },
  {
   "cell_type": "code",
   "execution_count": 251,
   "id": "e3d165f7",
   "metadata": {},
   "outputs": [
    {
     "data": {
      "text/html": [
       "<div>\n",
       "<style scoped>\n",
       "    .dataframe tbody tr th:only-of-type {\n",
       "        vertical-align: middle;\n",
       "    }\n",
       "\n",
       "    .dataframe tbody tr th {\n",
       "        vertical-align: top;\n",
       "    }\n",
       "\n",
       "    .dataframe thead th {\n",
       "        text-align: right;\n",
       "    }\n",
       "</style>\n",
       "<table border=\"1\" class=\"dataframe\">\n",
       "  <thead>\n",
       "    <tr style=\"text-align: right;\">\n",
       "      <th></th>\n",
       "      <th>prodName</th>\n",
       "      <th>clientName</th>\n",
       "      <th>month</th>\n",
       "      <th>day</th>\n",
       "      <th>orderQty</th>\n",
       "      <th>orderTotal</th>\n",
       "      <th>cliAvgSenti</th>\n",
       "      <th>spAvgSenti</th>\n",
       "      <th>sales</th>\n",
       "    </tr>\n",
       "  </thead>\n",
       "  <tbody>\n",
       "    <tr>\n",
       "      <th>0</th>\n",
       "      <td>prodsku99</td>\n",
       "      <td>company1</td>\n",
       "      <td>02</td>\n",
       "      <td>6</td>\n",
       "      <td>4</td>\n",
       "      <td>4857.0</td>\n",
       "      <td>1.0</td>\n",
       "      <td>1.0</td>\n",
       "      <td>988.0</td>\n",
       "    </tr>\n",
       "    <tr>\n",
       "      <th>1</th>\n",
       "      <td>prodsku20</td>\n",
       "      <td>company1</td>\n",
       "      <td>02</td>\n",
       "      <td>6</td>\n",
       "      <td>4</td>\n",
       "      <td>4857.0</td>\n",
       "      <td>1.0</td>\n",
       "      <td>1.0</td>\n",
       "      <td>1200.0</td>\n",
       "    </tr>\n",
       "    <tr>\n",
       "      <th>2</th>\n",
       "      <td>prodsku20</td>\n",
       "      <td>company1</td>\n",
       "      <td>02</td>\n",
       "      <td>6</td>\n",
       "      <td>4</td>\n",
       "      <td>4857.0</td>\n",
       "      <td>1.0</td>\n",
       "      <td>1.0</td>\n",
       "      <td>2400.0</td>\n",
       "    </tr>\n",
       "    <tr>\n",
       "      <th>3</th>\n",
       "      <td>desc1</td>\n",
       "      <td>company1</td>\n",
       "      <td>01</td>\n",
       "      <td>0</td>\n",
       "      <td>5</td>\n",
       "      <td>27.0</td>\n",
       "      <td>1.0</td>\n",
       "      <td>1.0</td>\n",
       "      <td>25.0</td>\n",
       "    </tr>\n",
       "    <tr>\n",
       "      <th>4</th>\n",
       "      <td>prodsku99</td>\n",
       "      <td>company1</td>\n",
       "      <td>02</td>\n",
       "      <td>6</td>\n",
       "      <td>1</td>\n",
       "      <td>1077.0</td>\n",
       "      <td>1.0</td>\n",
       "      <td>1.0</td>\n",
       "      <td>988.0</td>\n",
       "    </tr>\n",
       "  </tbody>\n",
       "</table>\n",
       "</div>"
      ],
      "text/plain": [
       "    prodName clientName month day  orderQty  orderTotal  cliAvgSenti  \\\n",
       "0  prodsku99   company1    02   6         4      4857.0          1.0   \n",
       "1  prodsku20   company1    02   6         4      4857.0          1.0   \n",
       "2  prodsku20   company1    02   6         4      4857.0          1.0   \n",
       "3      desc1   company1    01   0         5        27.0          1.0   \n",
       "4  prodsku99   company1    02   6         1      1077.0          1.0   \n",
       "\n",
       "   spAvgSenti   sales  \n",
       "0         1.0   988.0  \n",
       "1         1.0  1200.0  \n",
       "2         1.0  2400.0  \n",
       "3         1.0    25.0  \n",
       "4         1.0   988.0  "
      ]
     },
     "execution_count": 251,
     "metadata": {},
     "output_type": "execute_result"
    }
   ],
   "source": [
    "prodwise_df_1.head()"
   ]
  },
  {
   "cell_type": "code",
   "execution_count": 252,
   "id": "9b888533",
   "metadata": {},
   "outputs": [
    {
     "data": {
      "text/plain": [
       "prodName        object\n",
       "clientName      object\n",
       "month           object\n",
       "day             object\n",
       "orderQty         int64\n",
       "orderTotal     float64\n",
       "cliAvgSenti    float64\n",
       "spAvgSenti     float64\n",
       "sales          float64\n",
       "dtype: object"
      ]
     },
     "execution_count": 252,
     "metadata": {},
     "output_type": "execute_result"
    }
   ],
   "source": [
    "prodwise_df_1.dtypes"
   ]
  },
  {
   "cell_type": "code",
   "execution_count": 253,
   "id": "27078258",
   "metadata": {},
   "outputs": [],
   "source": [
    "X_train,X_test,y_train,y_test = train_test_split(prodwise_df_1.drop(columns=['prodName']),\n",
    "                                                    prodwise_df_1['prodName'],\n",
    "                                                 test_size = 0.2,\n",
    "                                                 random_state = 42\n",
    "                                                )"
   ]
  },
  {
   "cell_type": "code",
   "execution_count": 254,
   "id": "c0710169",
   "metadata": {},
   "outputs": [
    {
     "data": {
      "text/html": [
       "<div>\n",
       "<style scoped>\n",
       "    .dataframe tbody tr th:only-of-type {\n",
       "        vertical-align: middle;\n",
       "    }\n",
       "\n",
       "    .dataframe tbody tr th {\n",
       "        vertical-align: top;\n",
       "    }\n",
       "\n",
       "    .dataframe thead th {\n",
       "        text-align: right;\n",
       "    }\n",
       "</style>\n",
       "<table border=\"1\" class=\"dataframe\">\n",
       "  <thead>\n",
       "    <tr style=\"text-align: right;\">\n",
       "      <th></th>\n",
       "      <th>clientName</th>\n",
       "      <th>month</th>\n",
       "      <th>day</th>\n",
       "      <th>orderQty</th>\n",
       "      <th>orderTotal</th>\n",
       "      <th>cliAvgSenti</th>\n",
       "      <th>spAvgSenti</th>\n",
       "      <th>sales</th>\n",
       "    </tr>\n",
       "  </thead>\n",
       "  <tbody>\n",
       "    <tr>\n",
       "      <th>5</th>\n",
       "      <td>comp2</td>\n",
       "      <td>02</td>\n",
       "      <td>6</td>\n",
       "      <td>2</td>\n",
       "      <td>8402.0</td>\n",
       "      <td>1.0</td>\n",
       "      <td>0.5</td>\n",
       "      <td>8002.0</td>\n",
       "    </tr>\n",
       "    <tr>\n",
       "      <th>2</th>\n",
       "      <td>company1</td>\n",
       "      <td>02</td>\n",
       "      <td>6</td>\n",
       "      <td>4</td>\n",
       "      <td>4857.0</td>\n",
       "      <td>1.0</td>\n",
       "      <td>1.0</td>\n",
       "      <td>2400.0</td>\n",
       "    </tr>\n",
       "    <tr>\n",
       "      <th>4</th>\n",
       "      <td>company1</td>\n",
       "      <td>02</td>\n",
       "      <td>6</td>\n",
       "      <td>1</td>\n",
       "      <td>1077.0</td>\n",
       "      <td>1.0</td>\n",
       "      <td>1.0</td>\n",
       "      <td>988.0</td>\n",
       "    </tr>\n",
       "    <tr>\n",
       "      <th>3</th>\n",
       "      <td>company1</td>\n",
       "      <td>01</td>\n",
       "      <td>0</td>\n",
       "      <td>5</td>\n",
       "      <td>27.0</td>\n",
       "      <td>1.0</td>\n",
       "      <td>1.0</td>\n",
       "      <td>25.0</td>\n",
       "    </tr>\n",
       "    <tr>\n",
       "      <th>6</th>\n",
       "      <td>test1</td>\n",
       "      <td>02</td>\n",
       "      <td>6</td>\n",
       "      <td>2</td>\n",
       "      <td>2520.0</td>\n",
       "      <td>0.0</td>\n",
       "      <td>0.0</td>\n",
       "      <td>2400.0</td>\n",
       "    </tr>\n",
       "  </tbody>\n",
       "</table>\n",
       "</div>"
      ],
      "text/plain": [
       "  clientName month day  orderQty  orderTotal  cliAvgSenti  spAvgSenti   sales\n",
       "5      comp2    02   6         2      8402.0          1.0         0.5  8002.0\n",
       "2   company1    02   6         4      4857.0          1.0         1.0  2400.0\n",
       "4   company1    02   6         1      1077.0          1.0         1.0   988.0\n",
       "3   company1    01   0         5        27.0          1.0         1.0    25.0\n",
       "6      test1    02   6         2      2520.0          0.0         0.0  2400.0"
      ]
     },
     "execution_count": 254,
     "metadata": {},
     "output_type": "execute_result"
    }
   ],
   "source": [
    "X_train.head()"
   ]
  },
  {
   "cell_type": "code",
   "execution_count": 255,
   "id": "2c8b0fba",
   "metadata": {},
   "outputs": [
    {
     "data": {
      "text/plain": [
       "5     prodSKU3\n",
       "2    prodsku20\n",
       "4    prodsku99\n",
       "3        desc1\n",
       "6    prodsku20\n",
       "Name: prodName, dtype: object"
      ]
     },
     "execution_count": 255,
     "metadata": {},
     "output_type": "execute_result"
    }
   ],
   "source": [
    "y_train.head()"
   ]
  },
  {
   "cell_type": "code",
   "execution_count": 256,
   "id": "d6e64a44",
   "metadata": {},
   "outputs": [],
   "source": [
    "#Ordinal encoding \n",
    "trf1 = ColumnTransformer([\n",
    "    ('orde_clientName_month_day',OrdinalEncoder(handle_unknown=\"use_encoded_value\",unknown_value=100),[0,1,2])\n",
    "],remainder=\"passthrough\")"
   ]
  },
  {
   "cell_type": "code",
   "execution_count": 257,
   "id": "1c8ef62a",
   "metadata": {},
   "outputs": [],
   "source": [
    "#scaling \n",
    "trf2 = ColumnTransformer([\n",
    "    ('scale',MinMaxScaler(),slice(0,7))\n",
    "])"
   ]
  },
  {
   "cell_type": "code",
   "execution_count": 258,
   "id": "d405282e",
   "metadata": {},
   "outputs": [],
   "source": [
    "#model training \n",
    "from sklearn.ensemble import BaggingClassifier\n",
    "from sklearn.tree import DecisionTreeClassifier\n",
    "trf3 = BaggingClassifier(\n",
    "    base_estimator = DecisionTreeClassifier(),\n",
    "    n_estimators = 500,\n",
    "    max_samples = 0.25,\n",
    "    bootstrap = True,\n",
    "    random_state = 42\n",
    ")"
   ]
  },
  {
   "cell_type": "code",
   "execution_count": 259,
   "id": "39f41f1f",
   "metadata": {},
   "outputs": [],
   "source": [
    "#pipeline \n",
    "pipe_m4_x = Pipeline([\n",
    "    ('trf1',trf1),\n",
    "    ('trf2',trf2),\n",
    "    ('trf3',trf3)\n",
    "])"
   ]
  },
  {
   "cell_type": "code",
   "execution_count": 260,
   "id": "e33e55db",
   "metadata": {},
   "outputs": [],
   "source": [
    "#Ordinal encoding \n",
    "trf4 = OrdinalEncoder(handle_unknown=\"use_encoded_value\",unknown_value=100)\n"
   ]
  },
  {
   "cell_type": "code",
   "execution_count": 261,
   "id": "c799a51a",
   "metadata": {},
   "outputs": [],
   "source": [
    "trf4_general = OrdinalEncoder(handle_unknown=\"use_encoded_value\",unknown_value=100)"
   ]
  },
  {
   "cell_type": "code",
   "execution_count": 262,
   "id": "e2a970e1",
   "metadata": {},
   "outputs": [
    {
     "name": "stdout",
     "output_type": "stream",
     "text": [
      "['prodsku99', 'prodsku20', 'prodsku20', 'desc1', 'prodsku99', 'prodSKU3', 'prodsku20']\n"
     ]
    },
    {
     "data": {
      "text/plain": [
       "array([['prodsku99'],\n",
       "       ['prodsku20'],\n",
       "       ['prodsku20'],\n",
       "       ['desc1'],\n",
       "       ['prodsku99'],\n",
       "       ['prodSKU3'],\n",
       "       ['prodsku20']], dtype='<U9')"
      ]
     },
     "execution_count": 262,
     "metadata": {},
     "output_type": "execute_result"
    }
   ],
   "source": [
    "pred_list = list(prodwise_df_1['prodName'])\n",
    "print(pred_list)\n",
    "ip_pred_list =np.array(pred_list).reshape(len(pred_list),1)\n",
    "ip_pred_list"
   ]
  },
  {
   "cell_type": "code",
   "execution_count": 263,
   "id": "7d5b1d76",
   "metadata": {},
   "outputs": [
    {
     "data": {
      "text/html": [
       "<style>#sk-container-id-10 {color: black;background-color: white;}#sk-container-id-10 pre{padding: 0;}#sk-container-id-10 div.sk-toggleable {background-color: white;}#sk-container-id-10 label.sk-toggleable__label {cursor: pointer;display: block;width: 100%;margin-bottom: 0;padding: 0.3em;box-sizing: border-box;text-align: center;}#sk-container-id-10 label.sk-toggleable__label-arrow:before {content: \"▸\";float: left;margin-right: 0.25em;color: #696969;}#sk-container-id-10 label.sk-toggleable__label-arrow:hover:before {color: black;}#sk-container-id-10 div.sk-estimator:hover label.sk-toggleable__label-arrow:before {color: black;}#sk-container-id-10 div.sk-toggleable__content {max-height: 0;max-width: 0;overflow: hidden;text-align: left;background-color: #f0f8ff;}#sk-container-id-10 div.sk-toggleable__content pre {margin: 0.2em;color: black;border-radius: 0.25em;background-color: #f0f8ff;}#sk-container-id-10 input.sk-toggleable__control:checked~div.sk-toggleable__content {max-height: 200px;max-width: 100%;overflow: auto;}#sk-container-id-10 input.sk-toggleable__control:checked~label.sk-toggleable__label-arrow:before {content: \"▾\";}#sk-container-id-10 div.sk-estimator input.sk-toggleable__control:checked~label.sk-toggleable__label {background-color: #d4ebff;}#sk-container-id-10 div.sk-label input.sk-toggleable__control:checked~label.sk-toggleable__label {background-color: #d4ebff;}#sk-container-id-10 input.sk-hidden--visually {border: 0;clip: rect(1px 1px 1px 1px);clip: rect(1px, 1px, 1px, 1px);height: 1px;margin: -1px;overflow: hidden;padding: 0;position: absolute;width: 1px;}#sk-container-id-10 div.sk-estimator {font-family: monospace;background-color: #f0f8ff;border: 1px dotted black;border-radius: 0.25em;box-sizing: border-box;margin-bottom: 0.5em;}#sk-container-id-10 div.sk-estimator:hover {background-color: #d4ebff;}#sk-container-id-10 div.sk-parallel-item::after {content: \"\";width: 100%;border-bottom: 1px solid gray;flex-grow: 1;}#sk-container-id-10 div.sk-label:hover label.sk-toggleable__label {background-color: #d4ebff;}#sk-container-id-10 div.sk-serial::before {content: \"\";position: absolute;border-left: 1px solid gray;box-sizing: border-box;top: 0;bottom: 0;left: 50%;z-index: 0;}#sk-container-id-10 div.sk-serial {display: flex;flex-direction: column;align-items: center;background-color: white;padding-right: 0.2em;padding-left: 0.2em;position: relative;}#sk-container-id-10 div.sk-item {position: relative;z-index: 1;}#sk-container-id-10 div.sk-parallel {display: flex;align-items: stretch;justify-content: center;background-color: white;position: relative;}#sk-container-id-10 div.sk-item::before, #sk-container-id-10 div.sk-parallel-item::before {content: \"\";position: absolute;border-left: 1px solid gray;box-sizing: border-box;top: 0;bottom: 0;left: 50%;z-index: -1;}#sk-container-id-10 div.sk-parallel-item {display: flex;flex-direction: column;z-index: 1;position: relative;background-color: white;}#sk-container-id-10 div.sk-parallel-item:first-child::after {align-self: flex-end;width: 50%;}#sk-container-id-10 div.sk-parallel-item:last-child::after {align-self: flex-start;width: 50%;}#sk-container-id-10 div.sk-parallel-item:only-child::after {width: 0;}#sk-container-id-10 div.sk-dashed-wrapped {border: 1px dashed gray;margin: 0 0.4em 0.5em 0.4em;box-sizing: border-box;padding-bottom: 0.4em;background-color: white;}#sk-container-id-10 div.sk-label label {font-family: monospace;font-weight: bold;display: inline-block;line-height: 1.2em;}#sk-container-id-10 div.sk-label-container {text-align: center;}#sk-container-id-10 div.sk-container {/* jupyter's `normalize.less` sets `[hidden] { display: none; }` but bootstrap.min.css set `[hidden] { display: none !important; }` so we also need the `!important` here to be able to override the default hidden behavior on the sphinx rendered scikit-learn.org. See: https://github.com/scikit-learn/scikit-learn/issues/21755 */display: inline-block !important;position: relative;}#sk-container-id-10 div.sk-text-repr-fallback {display: none;}</style><div id=\"sk-container-id-10\" class=\"sk-top-container\"><div class=\"sk-text-repr-fallback\"><pre>OrdinalEncoder(handle_unknown=&#x27;use_encoded_value&#x27;, unknown_value=100)</pre><b>In a Jupyter environment, please rerun this cell to show the HTML representation or trust the notebook. <br />On GitHub, the HTML representation is unable to render, please try loading this page with nbviewer.org.</b></div><div class=\"sk-container\" hidden><div class=\"sk-item\"><div class=\"sk-estimator sk-toggleable\"><input class=\"sk-toggleable__control sk-hidden--visually\" id=\"sk-estimator-id-88\" type=\"checkbox\" checked><label for=\"sk-estimator-id-88\" class=\"sk-toggleable__label sk-toggleable__label-arrow\">OrdinalEncoder</label><div class=\"sk-toggleable__content\"><pre>OrdinalEncoder(handle_unknown=&#x27;use_encoded_value&#x27;, unknown_value=100)</pre></div></div></div></div></div>"
      ],
      "text/plain": [
       "OrdinalEncoder(handle_unknown='use_encoded_value', unknown_value=100)"
      ]
     },
     "execution_count": 263,
     "metadata": {},
     "output_type": "execute_result"
    }
   ],
   "source": [
    "trf4_general.fit(ip_pred_list)"
   ]
  },
  {
   "cell_type": "code",
   "execution_count": 264,
   "id": "2e3e79bd",
   "metadata": {},
   "outputs": [],
   "source": [
    "y_train=trf4.fit_transform(pd.DataFrame(y_train))"
   ]
  },
  {
   "cell_type": "code",
   "execution_count": 265,
   "id": "6e476188",
   "metadata": {},
   "outputs": [
    {
     "name": "stderr",
     "output_type": "stream",
     "text": [
      "/home/neelchoksi19bce0990/.local/lib/python3.9/site-packages/sklearn/ensemble/_bagging.py:760: DataConversionWarning: A column-vector y was passed when a 1d array was expected. Please change the shape of y to (n_samples, ), for example using ravel().\n",
      "  y = column_or_1d(y, warn=True)\n"
     ]
    },
    {
     "data": {
      "text/html": [
       "<style>#sk-container-id-11 {color: black;background-color: white;}#sk-container-id-11 pre{padding: 0;}#sk-container-id-11 div.sk-toggleable {background-color: white;}#sk-container-id-11 label.sk-toggleable__label {cursor: pointer;display: block;width: 100%;margin-bottom: 0;padding: 0.3em;box-sizing: border-box;text-align: center;}#sk-container-id-11 label.sk-toggleable__label-arrow:before {content: \"▸\";float: left;margin-right: 0.25em;color: #696969;}#sk-container-id-11 label.sk-toggleable__label-arrow:hover:before {color: black;}#sk-container-id-11 div.sk-estimator:hover label.sk-toggleable__label-arrow:before {color: black;}#sk-container-id-11 div.sk-toggleable__content {max-height: 0;max-width: 0;overflow: hidden;text-align: left;background-color: #f0f8ff;}#sk-container-id-11 div.sk-toggleable__content pre {margin: 0.2em;color: black;border-radius: 0.25em;background-color: #f0f8ff;}#sk-container-id-11 input.sk-toggleable__control:checked~div.sk-toggleable__content {max-height: 200px;max-width: 100%;overflow: auto;}#sk-container-id-11 input.sk-toggleable__control:checked~label.sk-toggleable__label-arrow:before {content: \"▾\";}#sk-container-id-11 div.sk-estimator input.sk-toggleable__control:checked~label.sk-toggleable__label {background-color: #d4ebff;}#sk-container-id-11 div.sk-label input.sk-toggleable__control:checked~label.sk-toggleable__label {background-color: #d4ebff;}#sk-container-id-11 input.sk-hidden--visually {border: 0;clip: rect(1px 1px 1px 1px);clip: rect(1px, 1px, 1px, 1px);height: 1px;margin: -1px;overflow: hidden;padding: 0;position: absolute;width: 1px;}#sk-container-id-11 div.sk-estimator {font-family: monospace;background-color: #f0f8ff;border: 1px dotted black;border-radius: 0.25em;box-sizing: border-box;margin-bottom: 0.5em;}#sk-container-id-11 div.sk-estimator:hover {background-color: #d4ebff;}#sk-container-id-11 div.sk-parallel-item::after {content: \"\";width: 100%;border-bottom: 1px solid gray;flex-grow: 1;}#sk-container-id-11 div.sk-label:hover label.sk-toggleable__label {background-color: #d4ebff;}#sk-container-id-11 div.sk-serial::before {content: \"\";position: absolute;border-left: 1px solid gray;box-sizing: border-box;top: 0;bottom: 0;left: 50%;z-index: 0;}#sk-container-id-11 div.sk-serial {display: flex;flex-direction: column;align-items: center;background-color: white;padding-right: 0.2em;padding-left: 0.2em;position: relative;}#sk-container-id-11 div.sk-item {position: relative;z-index: 1;}#sk-container-id-11 div.sk-parallel {display: flex;align-items: stretch;justify-content: center;background-color: white;position: relative;}#sk-container-id-11 div.sk-item::before, #sk-container-id-11 div.sk-parallel-item::before {content: \"\";position: absolute;border-left: 1px solid gray;box-sizing: border-box;top: 0;bottom: 0;left: 50%;z-index: -1;}#sk-container-id-11 div.sk-parallel-item {display: flex;flex-direction: column;z-index: 1;position: relative;background-color: white;}#sk-container-id-11 div.sk-parallel-item:first-child::after {align-self: flex-end;width: 50%;}#sk-container-id-11 div.sk-parallel-item:last-child::after {align-self: flex-start;width: 50%;}#sk-container-id-11 div.sk-parallel-item:only-child::after {width: 0;}#sk-container-id-11 div.sk-dashed-wrapped {border: 1px dashed gray;margin: 0 0.4em 0.5em 0.4em;box-sizing: border-box;padding-bottom: 0.4em;background-color: white;}#sk-container-id-11 div.sk-label label {font-family: monospace;font-weight: bold;display: inline-block;line-height: 1.2em;}#sk-container-id-11 div.sk-label-container {text-align: center;}#sk-container-id-11 div.sk-container {/* jupyter's `normalize.less` sets `[hidden] { display: none; }` but bootstrap.min.css set `[hidden] { display: none !important; }` so we also need the `!important` here to be able to override the default hidden behavior on the sphinx rendered scikit-learn.org. See: https://github.com/scikit-learn/scikit-learn/issues/21755 */display: inline-block !important;position: relative;}#sk-container-id-11 div.sk-text-repr-fallback {display: none;}</style><div id=\"sk-container-id-11\" class=\"sk-top-container\"><div class=\"sk-text-repr-fallback\"><pre>Pipeline(steps=[(&#x27;trf1&#x27;,\n",
       "                 ColumnTransformer(remainder=&#x27;passthrough&#x27;,\n",
       "                                   transformers=[(&#x27;orde_clientName_month_day&#x27;,\n",
       "                                                  OrdinalEncoder(handle_unknown=&#x27;use_encoded_value&#x27;,\n",
       "                                                                 unknown_value=100),\n",
       "                                                  [0, 1, 2])])),\n",
       "                (&#x27;trf2&#x27;,\n",
       "                 ColumnTransformer(transformers=[(&#x27;scale&#x27;, MinMaxScaler(),\n",
       "                                                  slice(0, 7, None))])),\n",
       "                (&#x27;trf3&#x27;,\n",
       "                 BaggingClassifier(base_estimator=DecisionTreeClassifier(),\n",
       "                                   max_samples=0.25, n_estimators=500,\n",
       "                                   random_state=42))])</pre><b>In a Jupyter environment, please rerun this cell to show the HTML representation or trust the notebook. <br />On GitHub, the HTML representation is unable to render, please try loading this page with nbviewer.org.</b></div><div class=\"sk-container\" hidden><div class=\"sk-item sk-dashed-wrapped\"><div class=\"sk-label-container\"><div class=\"sk-label sk-toggleable\"><input class=\"sk-toggleable__control sk-hidden--visually\" id=\"sk-estimator-id-89\" type=\"checkbox\" ><label for=\"sk-estimator-id-89\" class=\"sk-toggleable__label sk-toggleable__label-arrow\">Pipeline</label><div class=\"sk-toggleable__content\"><pre>Pipeline(steps=[(&#x27;trf1&#x27;,\n",
       "                 ColumnTransformer(remainder=&#x27;passthrough&#x27;,\n",
       "                                   transformers=[(&#x27;orde_clientName_month_day&#x27;,\n",
       "                                                  OrdinalEncoder(handle_unknown=&#x27;use_encoded_value&#x27;,\n",
       "                                                                 unknown_value=100),\n",
       "                                                  [0, 1, 2])])),\n",
       "                (&#x27;trf2&#x27;,\n",
       "                 ColumnTransformer(transformers=[(&#x27;scale&#x27;, MinMaxScaler(),\n",
       "                                                  slice(0, 7, None))])),\n",
       "                (&#x27;trf3&#x27;,\n",
       "                 BaggingClassifier(base_estimator=DecisionTreeClassifier(),\n",
       "                                   max_samples=0.25, n_estimators=500,\n",
       "                                   random_state=42))])</pre></div></div></div><div class=\"sk-serial\"><div class=\"sk-item sk-dashed-wrapped\"><div class=\"sk-label-container\"><div class=\"sk-label sk-toggleable\"><input class=\"sk-toggleable__control sk-hidden--visually\" id=\"sk-estimator-id-90\" type=\"checkbox\" ><label for=\"sk-estimator-id-90\" class=\"sk-toggleable__label sk-toggleable__label-arrow\">trf1: ColumnTransformer</label><div class=\"sk-toggleable__content\"><pre>ColumnTransformer(remainder=&#x27;passthrough&#x27;,\n",
       "                  transformers=[(&#x27;orde_clientName_month_day&#x27;,\n",
       "                                 OrdinalEncoder(handle_unknown=&#x27;use_encoded_value&#x27;,\n",
       "                                                unknown_value=100),\n",
       "                                 [0, 1, 2])])</pre></div></div></div><div class=\"sk-parallel\"><div class=\"sk-parallel-item\"><div class=\"sk-item\"><div class=\"sk-label-container\"><div class=\"sk-label sk-toggleable\"><input class=\"sk-toggleable__control sk-hidden--visually\" id=\"sk-estimator-id-91\" type=\"checkbox\" ><label for=\"sk-estimator-id-91\" class=\"sk-toggleable__label sk-toggleable__label-arrow\">orde_clientName_month_day</label><div class=\"sk-toggleable__content\"><pre>[0, 1, 2]</pre></div></div></div><div class=\"sk-serial\"><div class=\"sk-item\"><div class=\"sk-estimator sk-toggleable\"><input class=\"sk-toggleable__control sk-hidden--visually\" id=\"sk-estimator-id-92\" type=\"checkbox\" ><label for=\"sk-estimator-id-92\" class=\"sk-toggleable__label sk-toggleable__label-arrow\">OrdinalEncoder</label><div class=\"sk-toggleable__content\"><pre>OrdinalEncoder(handle_unknown=&#x27;use_encoded_value&#x27;, unknown_value=100)</pre></div></div></div></div></div></div><div class=\"sk-parallel-item\"><div class=\"sk-item\"><div class=\"sk-label-container\"><div class=\"sk-label sk-toggleable\"><input class=\"sk-toggleable__control sk-hidden--visually\" id=\"sk-estimator-id-93\" type=\"checkbox\" ><label for=\"sk-estimator-id-93\" class=\"sk-toggleable__label sk-toggleable__label-arrow\">remainder</label><div class=\"sk-toggleable__content\"><pre>[&#x27;orderQty&#x27;, &#x27;orderTotal&#x27;, &#x27;cliAvgSenti&#x27;, &#x27;spAvgSenti&#x27;, &#x27;sales&#x27;]</pre></div></div></div><div class=\"sk-serial\"><div class=\"sk-item\"><div class=\"sk-estimator sk-toggleable\"><input class=\"sk-toggleable__control sk-hidden--visually\" id=\"sk-estimator-id-94\" type=\"checkbox\" ><label for=\"sk-estimator-id-94\" class=\"sk-toggleable__label sk-toggleable__label-arrow\">passthrough</label><div class=\"sk-toggleable__content\"><pre>passthrough</pre></div></div></div></div></div></div></div></div><div class=\"sk-item sk-dashed-wrapped\"><div class=\"sk-label-container\"><div class=\"sk-label sk-toggleable\"><input class=\"sk-toggleable__control sk-hidden--visually\" id=\"sk-estimator-id-95\" type=\"checkbox\" ><label for=\"sk-estimator-id-95\" class=\"sk-toggleable__label sk-toggleable__label-arrow\">trf2: ColumnTransformer</label><div class=\"sk-toggleable__content\"><pre>ColumnTransformer(transformers=[(&#x27;scale&#x27;, MinMaxScaler(), slice(0, 7, None))])</pre></div></div></div><div class=\"sk-parallel\"><div class=\"sk-parallel-item\"><div class=\"sk-item\"><div class=\"sk-label-container\"><div class=\"sk-label sk-toggleable\"><input class=\"sk-toggleable__control sk-hidden--visually\" id=\"sk-estimator-id-96\" type=\"checkbox\" ><label for=\"sk-estimator-id-96\" class=\"sk-toggleable__label sk-toggleable__label-arrow\">scale</label><div class=\"sk-toggleable__content\"><pre>slice(0, 7, None)</pre></div></div></div><div class=\"sk-serial\"><div class=\"sk-item\"><div class=\"sk-estimator sk-toggleable\"><input class=\"sk-toggleable__control sk-hidden--visually\" id=\"sk-estimator-id-97\" type=\"checkbox\" ><label for=\"sk-estimator-id-97\" class=\"sk-toggleable__label sk-toggleable__label-arrow\">MinMaxScaler</label><div class=\"sk-toggleable__content\"><pre>MinMaxScaler()</pre></div></div></div></div></div></div></div></div><div class=\"sk-item sk-dashed-wrapped\"><div class=\"sk-label-container\"><div class=\"sk-label sk-toggleable\"><input class=\"sk-toggleable__control sk-hidden--visually\" id=\"sk-estimator-id-98\" type=\"checkbox\" ><label for=\"sk-estimator-id-98\" class=\"sk-toggleable__label sk-toggleable__label-arrow\">trf3: BaggingClassifier</label><div class=\"sk-toggleable__content\"><pre>BaggingClassifier(base_estimator=DecisionTreeClassifier(), max_samples=0.25,\n",
       "                  n_estimators=500, random_state=42)</pre></div></div></div><div class=\"sk-parallel\"><div class=\"sk-parallel-item\"><div class=\"sk-item\"><div class=\"sk-label-container\"><div class=\"sk-label sk-toggleable\"><input class=\"sk-toggleable__control sk-hidden--visually\" id=\"sk-estimator-id-99\" type=\"checkbox\" ><label for=\"sk-estimator-id-99\" class=\"sk-toggleable__label sk-toggleable__label-arrow\">base_estimator: DecisionTreeClassifier</label><div class=\"sk-toggleable__content\"><pre>DecisionTreeClassifier()</pre></div></div></div><div class=\"sk-serial\"><div class=\"sk-item\"><div class=\"sk-estimator sk-toggleable\"><input class=\"sk-toggleable__control sk-hidden--visually\" id=\"sk-estimator-id-100\" type=\"checkbox\" ><label for=\"sk-estimator-id-100\" class=\"sk-toggleable__label sk-toggleable__label-arrow\">DecisionTreeClassifier</label><div class=\"sk-toggleable__content\"><pre>DecisionTreeClassifier()</pre></div></div></div></div></div></div></div></div></div></div></div></div>"
      ],
      "text/plain": [
       "Pipeline(steps=[('trf1',\n",
       "                 ColumnTransformer(remainder='passthrough',\n",
       "                                   transformers=[('orde_clientName_month_day',\n",
       "                                                  OrdinalEncoder(handle_unknown='use_encoded_value',\n",
       "                                                                 unknown_value=100),\n",
       "                                                  [0, 1, 2])])),\n",
       "                ('trf2',\n",
       "                 ColumnTransformer(transformers=[('scale', MinMaxScaler(),\n",
       "                                                  slice(0, 7, None))])),\n",
       "                ('trf3',\n",
       "                 BaggingClassifier(base_estimator=DecisionTreeClassifier(),\n",
       "                                   max_samples=0.25, n_estimators=500,\n",
       "                                   random_state=42))])"
      ]
     },
     "execution_count": 265,
     "metadata": {},
     "output_type": "execute_result"
    }
   ],
   "source": [
    "pipe_m4_x.fit(X_train,y_train)"
   ]
  },
  {
   "cell_type": "code",
   "execution_count": 266,
   "id": "9be11194",
   "metadata": {},
   "outputs": [
    {
     "data": {
      "text/plain": [
       "{'trf1': ColumnTransformer(remainder='passthrough',\n",
       "                   transformers=[('orde_clientName_month_day',\n",
       "                                  OrdinalEncoder(handle_unknown='use_encoded_value',\n",
       "                                                 unknown_value=100),\n",
       "                                  [0, 1, 2])]),\n",
       " 'trf2': ColumnTransformer(transformers=[('scale', MinMaxScaler(), slice(0, 7, None))]),\n",
       " 'trf3': BaggingClassifier(base_estimator=DecisionTreeClassifier(), max_samples=0.25,\n",
       "                   n_estimators=500, random_state=42)}"
      ]
     },
     "execution_count": 266,
     "metadata": {},
     "output_type": "execute_result"
    }
   ],
   "source": [
    "pipe_m4_x.named_steps"
   ]
  },
  {
   "cell_type": "code",
   "execution_count": 267,
   "id": "492dc5ff",
   "metadata": {},
   "outputs": [],
   "source": [
    "y_pred = pipe_m4_x.predict(X_test)"
   ]
  },
  {
   "cell_type": "code",
   "execution_count": 268,
   "id": "13a32c44",
   "metadata": {},
   "outputs": [],
   "source": [
    "y_test=trf4.fit_transform(pd.DataFrame(y_test)).reshape(1,len(y_test))[0]"
   ]
  },
  {
   "cell_type": "code",
   "execution_count": 270,
   "id": "4f44266d",
   "metadata": {},
   "outputs": [
    {
     "name": "stdout",
     "output_type": "stream",
     "text": [
      "accuracy :  0.0\n",
      "matthews cor coef :  0.0\n"
     ]
    }
   ],
   "source": [
    "from sklearn.metrics import accuracy_score\n",
    "from sklearn.metrics import matthews_corrcoef\n",
    "from sklearn.metrics import precision_score\n",
    "from sklearn.metrics import f1_score\n",
    "\n",
    "\n",
    "print(\"accuracy : \",accuracy_score(y_test,y_pred))\n",
    "# print(\"precision : \",precision_score(y_test,y_pred))\n",
    "# print(\"f1 score : \",f1_score(y_test,y_pred))\n",
    "print(\"matthews cor coef : \",matthews_corrcoef(y_test,y_pred))\n"
   ]
  },
  {
   "cell_type": "code",
   "execution_count": 271,
   "id": "f78aed6e",
   "metadata": {},
   "outputs": [],
   "source": [
    "import pickle \n",
    "pickle.dump(pipe_m4_x,open('pipe_m4_x_prodwise_prodName_classif.pkl','wb'))\n",
    "pickle.dump(trf4_general,open('pipe_m4_y_prodwise_prodName_classif.pkl','wb'))\n",
    "\n"
   ]
  },
  {
   "cell_type": "code",
   "execution_count": 272,
   "id": "21cb6c59",
   "metadata": {},
   "outputs": [
    {
     "name": "stderr",
     "output_type": "stream",
     "text": [
      "/home/neelchoksi19bce0990/.local/lib/python3.9/site-packages/sklearn/base.py:450: UserWarning: X does not have valid feature names, but OrdinalEncoder was fitted with feature names\n",
      "  warnings.warn(\n"
     ]
    },
    {
     "data": {
      "text/plain": [
       "array([2.])"
      ]
     },
     "execution_count": 272,
     "metadata": {},
     "output_type": "execute_result"
    }
   ],
   "source": [
    "pipe_m4_x_loaded = pickle.load(open('pipe_m4_x_prodwise_prodName_classif.pkl','rb'))\n",
    "pipe_m4_y_loaded = pickle.load(open('pipe_m4_y_prodwise_prodName_classif.pkl','rb'))\n",
    "\n",
    "test_pipe_m4_input = np.array(['company1','03','4',10,6000.0,0.8,0.9,988.0],dtype=object).reshape(1,8)\n",
    "pipe_m4_x_loaded.predict(test_pipe_m4_input)"
   ]
  },
  {
   "cell_type": "code",
   "execution_count": 273,
   "id": "25aed049",
   "metadata": {},
   "outputs": [
    {
     "name": "stderr",
     "output_type": "stream",
     "text": [
      "/home/neelchoksi19bce0990/.local/lib/python3.9/site-packages/sklearn/base.py:450: UserWarning: X does not have valid feature names, but OrdinalEncoder was fitted with feature names\n",
      "  warnings.warn(\n"
     ]
    },
    {
     "data": {
      "text/plain": [
       "array([[2.]])"
      ]
     },
     "execution_count": 273,
     "metadata": {},
     "output_type": "execute_result"
    }
   ],
   "source": [
    "a=pipe_m4_x_loaded.predict(test_pipe_m4_input).reshape(1,-1)\n",
    "a"
   ]
  },
  {
   "cell_type": "code",
   "execution_count": 275,
   "id": "2099d382",
   "metadata": {},
   "outputs": [
    {
     "data": {
      "text/plain": [
       "'prodsku20'"
      ]
     },
     "execution_count": 275,
     "metadata": {},
     "output_type": "execute_result"
    }
   ],
   "source": [
    "pipe_m4_y_loaded.inverse_transform(a)[0][0]"
   ]
  },
  {
   "cell_type": "code",
   "execution_count": null,
   "id": "b3ab5e0f",
   "metadata": {},
   "outputs": [],
   "source": []
  },
  {
   "cell_type": "markdown",
   "id": "88e1e6da",
   "metadata": {},
   "source": [
    "# m5 - predict clientwise sales "
   ]
  },
  {
   "cell_type": "code",
   "execution_count": null,
   "id": "a7e8c40f",
   "metadata": {},
   "outputs": [],
   "source": [
    "#create pipeline \n",
    "#train model using pipeline\n",
    "#export m1_pipeline \n",
    "#import m1_pipeline \n",
    "# make predict fuction for m1_pipeline"
   ]
  },
  {
   "cell_type": "code",
   "execution_count": 96,
   "id": "936ffc22",
   "metadata": {},
   "outputs": [
    {
     "data": {
      "text/html": [
       "<div>\n",
       "<style scoped>\n",
       "    .dataframe tbody tr th:only-of-type {\n",
       "        vertical-align: middle;\n",
       "    }\n",
       "\n",
       "    .dataframe tbody tr th {\n",
       "        vertical-align: top;\n",
       "    }\n",
       "\n",
       "    .dataframe thead th {\n",
       "        text-align: right;\n",
       "    }\n",
       "</style>\n",
       "<table border=\"1\" class=\"dataframe\">\n",
       "  <thead>\n",
       "    <tr style=\"text-align: right;\">\n",
       "      <th></th>\n",
       "      <th>cliName</th>\n",
       "      <th>month</th>\n",
       "      <th>day</th>\n",
       "      <th>qty</th>\n",
       "      <th>sales</th>\n",
       "    </tr>\n",
       "  </thead>\n",
       "  <tbody>\n",
       "    <tr>\n",
       "      <th>0</th>\n",
       "      <td>company1</td>\n",
       "      <td>02</td>\n",
       "      <td>6</td>\n",
       "      <td>5</td>\n",
       "      <td>5934.0</td>\n",
       "    </tr>\n",
       "    <tr>\n",
       "      <th>1</th>\n",
       "      <td>company1</td>\n",
       "      <td>01</td>\n",
       "      <td>0</td>\n",
       "      <td>5</td>\n",
       "      <td>27.0</td>\n",
       "    </tr>\n",
       "    <tr>\n",
       "      <th>2</th>\n",
       "      <td>comp2</td>\n",
       "      <td>02</td>\n",
       "      <td>6</td>\n",
       "      <td>2</td>\n",
       "      <td>8402.0</td>\n",
       "    </tr>\n",
       "    <tr>\n",
       "      <th>3</th>\n",
       "      <td>test1</td>\n",
       "      <td>02</td>\n",
       "      <td>6</td>\n",
       "      <td>2</td>\n",
       "      <td>2520.0</td>\n",
       "    </tr>\n",
       "  </tbody>\n",
       "</table>\n",
       "</div>"
      ],
      "text/plain": [
       "    cliName month day  qty   sales\n",
       "0  company1    02   6    5  5934.0\n",
       "1  company1    01   0    5    27.0\n",
       "2     comp2    02   6    2  8402.0\n",
       "3     test1    02   6    2  2520.0"
      ]
     },
     "execution_count": 96,
     "metadata": {},
     "output_type": "execute_result"
    }
   ],
   "source": [
    "clientwise_df_1.head()"
   ]
  },
  {
   "cell_type": "code",
   "execution_count": 97,
   "id": "00ae482b",
   "metadata": {},
   "outputs": [
    {
     "data": {
      "text/plain": [
       "cliName     object\n",
       "month       object\n",
       "day         object\n",
       "qty          int64\n",
       "sales      float64\n",
       "dtype: object"
      ]
     },
     "execution_count": 97,
     "metadata": {},
     "output_type": "execute_result"
    }
   ],
   "source": [
    "clientwise_df_1.dtypes"
   ]
  },
  {
   "cell_type": "code",
   "execution_count": 98,
   "id": "e31acfb6",
   "metadata": {},
   "outputs": [],
   "source": [
    "X_train,X_test,y_train,y_test = train_test_split(clientwise_df_1.drop(columns=['sales']),\n",
    "                                                    clientwise_df_1['sales'],\n",
    "                                                     test_size = 0.2,\n",
    "                                                 random_state=42\n",
    "                                                )"
   ]
  },
  {
   "cell_type": "code",
   "execution_count": 99,
   "id": "b874c055",
   "metadata": {},
   "outputs": [
    {
     "data": {
      "text/html": [
       "<div>\n",
       "<style scoped>\n",
       "    .dataframe tbody tr th:only-of-type {\n",
       "        vertical-align: middle;\n",
       "    }\n",
       "\n",
       "    .dataframe tbody tr th {\n",
       "        vertical-align: top;\n",
       "    }\n",
       "\n",
       "    .dataframe thead th {\n",
       "        text-align: right;\n",
       "    }\n",
       "</style>\n",
       "<table border=\"1\" class=\"dataframe\">\n",
       "  <thead>\n",
       "    <tr style=\"text-align: right;\">\n",
       "      <th></th>\n",
       "      <th>cliName</th>\n",
       "      <th>month</th>\n",
       "      <th>day</th>\n",
       "      <th>qty</th>\n",
       "    </tr>\n",
       "  </thead>\n",
       "  <tbody>\n",
       "    <tr>\n",
       "      <th>3</th>\n",
       "      <td>test1</td>\n",
       "      <td>02</td>\n",
       "      <td>6</td>\n",
       "      <td>2</td>\n",
       "    </tr>\n",
       "    <tr>\n",
       "      <th>0</th>\n",
       "      <td>company1</td>\n",
       "      <td>02</td>\n",
       "      <td>6</td>\n",
       "      <td>5</td>\n",
       "    </tr>\n",
       "    <tr>\n",
       "      <th>2</th>\n",
       "      <td>comp2</td>\n",
       "      <td>02</td>\n",
       "      <td>6</td>\n",
       "      <td>2</td>\n",
       "    </tr>\n",
       "  </tbody>\n",
       "</table>\n",
       "</div>"
      ],
      "text/plain": [
       "    cliName month day  qty\n",
       "3     test1    02   6    2\n",
       "0  company1    02   6    5\n",
       "2     comp2    02   6    2"
      ]
     },
     "execution_count": 99,
     "metadata": {},
     "output_type": "execute_result"
    }
   ],
   "source": [
    "X_train.head()"
   ]
  },
  {
   "cell_type": "code",
   "execution_count": 100,
   "id": "afcfd7cd",
   "metadata": {},
   "outputs": [
    {
     "data": {
      "text/plain": [
       "3    2520.0\n",
       "0    5934.0\n",
       "2    8402.0\n",
       "Name: sales, dtype: float64"
      ]
     },
     "execution_count": 100,
     "metadata": {},
     "output_type": "execute_result"
    }
   ],
   "source": [
    "y_train.head()"
   ]
  },
  {
   "cell_type": "code",
   "execution_count": 101,
   "id": "338d31e1",
   "metadata": {},
   "outputs": [],
   "source": [
    "#Ordinal encoding\n",
    "trf1 = ColumnTransformer([\n",
    "    ('orde_clientName_month_day',OrdinalEncoder(handle_unknown=\"use_encoded_value\",unknown_value=100),[0,1,2])\n",
    "],remainder=\"passthrough\")"
   ]
  },
  {
   "cell_type": "code",
   "execution_count": 102,
   "id": "b13c8cd4",
   "metadata": {},
   "outputs": [],
   "source": [
    "#scaling \n",
    "trf2 = ColumnTransformer([\n",
    "    ('scale',MinMaxScaler(),slice(0,3))\n",
    "])"
   ]
  },
  {
   "cell_type": "code",
   "execution_count": 103,
   "id": "13dbed7a",
   "metadata": {},
   "outputs": [],
   "source": [
    "#model training \n",
    "from xgboost import XGBRegressor\n",
    "trf3 = XGBRegressor(random_state=42, n_jobs=-1, n_estimators=20, max_depth=4)"
   ]
  },
  {
   "cell_type": "code",
   "execution_count": 110,
   "id": "7a8ddf55",
   "metadata": {},
   "outputs": [],
   "source": [
    "#pipeline \n",
    "pipe_m5 = Pipeline([\n",
    "    ('trf1',trf1),\n",
    "    ('trf2',trf2),\n",
    "    ('trf3',trf3)\n",
    "])\n"
   ]
  },
  {
   "cell_type": "code",
   "execution_count": 111,
   "id": "04554405",
   "metadata": {},
   "outputs": [
    {
     "data": {
      "text/html": [
       "<style>#sk-container-id-5 {color: black;background-color: white;}#sk-container-id-5 pre{padding: 0;}#sk-container-id-5 div.sk-toggleable {background-color: white;}#sk-container-id-5 label.sk-toggleable__label {cursor: pointer;display: block;width: 100%;margin-bottom: 0;padding: 0.3em;box-sizing: border-box;text-align: center;}#sk-container-id-5 label.sk-toggleable__label-arrow:before {content: \"▸\";float: left;margin-right: 0.25em;color: #696969;}#sk-container-id-5 label.sk-toggleable__label-arrow:hover:before {color: black;}#sk-container-id-5 div.sk-estimator:hover label.sk-toggleable__label-arrow:before {color: black;}#sk-container-id-5 div.sk-toggleable__content {max-height: 0;max-width: 0;overflow: hidden;text-align: left;background-color: #f0f8ff;}#sk-container-id-5 div.sk-toggleable__content pre {margin: 0.2em;color: black;border-radius: 0.25em;background-color: #f0f8ff;}#sk-container-id-5 input.sk-toggleable__control:checked~div.sk-toggleable__content {max-height: 200px;max-width: 100%;overflow: auto;}#sk-container-id-5 input.sk-toggleable__control:checked~label.sk-toggleable__label-arrow:before {content: \"▾\";}#sk-container-id-5 div.sk-estimator input.sk-toggleable__control:checked~label.sk-toggleable__label {background-color: #d4ebff;}#sk-container-id-5 div.sk-label input.sk-toggleable__control:checked~label.sk-toggleable__label {background-color: #d4ebff;}#sk-container-id-5 input.sk-hidden--visually {border: 0;clip: rect(1px 1px 1px 1px);clip: rect(1px, 1px, 1px, 1px);height: 1px;margin: -1px;overflow: hidden;padding: 0;position: absolute;width: 1px;}#sk-container-id-5 div.sk-estimator {font-family: monospace;background-color: #f0f8ff;border: 1px dotted black;border-radius: 0.25em;box-sizing: border-box;margin-bottom: 0.5em;}#sk-container-id-5 div.sk-estimator:hover {background-color: #d4ebff;}#sk-container-id-5 div.sk-parallel-item::after {content: \"\";width: 100%;border-bottom: 1px solid gray;flex-grow: 1;}#sk-container-id-5 div.sk-label:hover label.sk-toggleable__label {background-color: #d4ebff;}#sk-container-id-5 div.sk-serial::before {content: \"\";position: absolute;border-left: 1px solid gray;box-sizing: border-box;top: 0;bottom: 0;left: 50%;z-index: 0;}#sk-container-id-5 div.sk-serial {display: flex;flex-direction: column;align-items: center;background-color: white;padding-right: 0.2em;padding-left: 0.2em;position: relative;}#sk-container-id-5 div.sk-item {position: relative;z-index: 1;}#sk-container-id-5 div.sk-parallel {display: flex;align-items: stretch;justify-content: center;background-color: white;position: relative;}#sk-container-id-5 div.sk-item::before, #sk-container-id-5 div.sk-parallel-item::before {content: \"\";position: absolute;border-left: 1px solid gray;box-sizing: border-box;top: 0;bottom: 0;left: 50%;z-index: -1;}#sk-container-id-5 div.sk-parallel-item {display: flex;flex-direction: column;z-index: 1;position: relative;background-color: white;}#sk-container-id-5 div.sk-parallel-item:first-child::after {align-self: flex-end;width: 50%;}#sk-container-id-5 div.sk-parallel-item:last-child::after {align-self: flex-start;width: 50%;}#sk-container-id-5 div.sk-parallel-item:only-child::after {width: 0;}#sk-container-id-5 div.sk-dashed-wrapped {border: 1px dashed gray;margin: 0 0.4em 0.5em 0.4em;box-sizing: border-box;padding-bottom: 0.4em;background-color: white;}#sk-container-id-5 div.sk-label label {font-family: monospace;font-weight: bold;display: inline-block;line-height: 1.2em;}#sk-container-id-5 div.sk-label-container {text-align: center;}#sk-container-id-5 div.sk-container {/* jupyter's `normalize.less` sets `[hidden] { display: none; }` but bootstrap.min.css set `[hidden] { display: none !important; }` so we also need the `!important` here to be able to override the default hidden behavior on the sphinx rendered scikit-learn.org. See: https://github.com/scikit-learn/scikit-learn/issues/21755 */display: inline-block !important;position: relative;}#sk-container-id-5 div.sk-text-repr-fallback {display: none;}</style><div id=\"sk-container-id-5\" class=\"sk-top-container\"><div class=\"sk-text-repr-fallback\"><pre>Pipeline(steps=[(&#x27;trf1&#x27;,\n",
       "                 ColumnTransformer(remainder=&#x27;passthrough&#x27;,\n",
       "                                   transformers=[(&#x27;orde_clientName_month_day&#x27;,\n",
       "                                                  OrdinalEncoder(handle_unknown=&#x27;use_encoded_value&#x27;,\n",
       "                                                                 unknown_value=100),\n",
       "                                                  [0, 1, 2])])),\n",
       "                (&#x27;trf2&#x27;,\n",
       "                 ColumnTransformer(transformers=[(&#x27;scale&#x27;, MinMaxScaler(),\n",
       "                                                  slice(0, 3, None))])),\n",
       "                (&#x27;trf3&#x27;,\n",
       "                 XGBRegressor(base_score=0.5, booster=&#x27;gbtree&#x27;, callbacks=None,\n",
       "                              colsampl...\n",
       "                              feature_types=None, gamma=0, gpu_id=-1,\n",
       "                              grow_policy=&#x27;depthwise&#x27;, importance_type=None,\n",
       "                              interaction_constraints=&#x27;&#x27;,\n",
       "                              learning_rate=0.300000012, max_bin=256,\n",
       "                              max_cat_threshold=64, max_cat_to_onehot=4,\n",
       "                              max_delta_step=0, max_depth=4, max_leaves=0,\n",
       "                              min_child_weight=1, missing=nan,\n",
       "                              monotone_constraints=&#x27;()&#x27;, n_estimators=20,\n",
       "                              n_jobs=-1, num_parallel_tree=1, predictor=&#x27;auto&#x27;,\n",
       "                              random_state=42, ...))])</pre><b>In a Jupyter environment, please rerun this cell to show the HTML representation or trust the notebook. <br />On GitHub, the HTML representation is unable to render, please try loading this page with nbviewer.org.</b></div><div class=\"sk-container\" hidden><div class=\"sk-item sk-dashed-wrapped\"><div class=\"sk-label-container\"><div class=\"sk-label sk-toggleable\"><input class=\"sk-toggleable__control sk-hidden--visually\" id=\"sk-estimator-id-41\" type=\"checkbox\" ><label for=\"sk-estimator-id-41\" class=\"sk-toggleable__label sk-toggleable__label-arrow\">Pipeline</label><div class=\"sk-toggleable__content\"><pre>Pipeline(steps=[(&#x27;trf1&#x27;,\n",
       "                 ColumnTransformer(remainder=&#x27;passthrough&#x27;,\n",
       "                                   transformers=[(&#x27;orde_clientName_month_day&#x27;,\n",
       "                                                  OrdinalEncoder(handle_unknown=&#x27;use_encoded_value&#x27;,\n",
       "                                                                 unknown_value=100),\n",
       "                                                  [0, 1, 2])])),\n",
       "                (&#x27;trf2&#x27;,\n",
       "                 ColumnTransformer(transformers=[(&#x27;scale&#x27;, MinMaxScaler(),\n",
       "                                                  slice(0, 3, None))])),\n",
       "                (&#x27;trf3&#x27;,\n",
       "                 XGBRegressor(base_score=0.5, booster=&#x27;gbtree&#x27;, callbacks=None,\n",
       "                              colsampl...\n",
       "                              feature_types=None, gamma=0, gpu_id=-1,\n",
       "                              grow_policy=&#x27;depthwise&#x27;, importance_type=None,\n",
       "                              interaction_constraints=&#x27;&#x27;,\n",
       "                              learning_rate=0.300000012, max_bin=256,\n",
       "                              max_cat_threshold=64, max_cat_to_onehot=4,\n",
       "                              max_delta_step=0, max_depth=4, max_leaves=0,\n",
       "                              min_child_weight=1, missing=nan,\n",
       "                              monotone_constraints=&#x27;()&#x27;, n_estimators=20,\n",
       "                              n_jobs=-1, num_parallel_tree=1, predictor=&#x27;auto&#x27;,\n",
       "                              random_state=42, ...))])</pre></div></div></div><div class=\"sk-serial\"><div class=\"sk-item sk-dashed-wrapped\"><div class=\"sk-label-container\"><div class=\"sk-label sk-toggleable\"><input class=\"sk-toggleable__control sk-hidden--visually\" id=\"sk-estimator-id-42\" type=\"checkbox\" ><label for=\"sk-estimator-id-42\" class=\"sk-toggleable__label sk-toggleable__label-arrow\">trf1: ColumnTransformer</label><div class=\"sk-toggleable__content\"><pre>ColumnTransformer(remainder=&#x27;passthrough&#x27;,\n",
       "                  transformers=[(&#x27;orde_clientName_month_day&#x27;,\n",
       "                                 OrdinalEncoder(handle_unknown=&#x27;use_encoded_value&#x27;,\n",
       "                                                unknown_value=100),\n",
       "                                 [0, 1, 2])])</pre></div></div></div><div class=\"sk-parallel\"><div class=\"sk-parallel-item\"><div class=\"sk-item\"><div class=\"sk-label-container\"><div class=\"sk-label sk-toggleable\"><input class=\"sk-toggleable__control sk-hidden--visually\" id=\"sk-estimator-id-43\" type=\"checkbox\" ><label for=\"sk-estimator-id-43\" class=\"sk-toggleable__label sk-toggleable__label-arrow\">orde_clientName_month_day</label><div class=\"sk-toggleable__content\"><pre>[0, 1, 2]</pre></div></div></div><div class=\"sk-serial\"><div class=\"sk-item\"><div class=\"sk-estimator sk-toggleable\"><input class=\"sk-toggleable__control sk-hidden--visually\" id=\"sk-estimator-id-44\" type=\"checkbox\" ><label for=\"sk-estimator-id-44\" class=\"sk-toggleable__label sk-toggleable__label-arrow\">OrdinalEncoder</label><div class=\"sk-toggleable__content\"><pre>OrdinalEncoder(handle_unknown=&#x27;use_encoded_value&#x27;, unknown_value=100)</pre></div></div></div></div></div></div><div class=\"sk-parallel-item\"><div class=\"sk-item\"><div class=\"sk-label-container\"><div class=\"sk-label sk-toggleable\"><input class=\"sk-toggleable__control sk-hidden--visually\" id=\"sk-estimator-id-45\" type=\"checkbox\" ><label for=\"sk-estimator-id-45\" class=\"sk-toggleable__label sk-toggleable__label-arrow\">remainder</label><div class=\"sk-toggleable__content\"><pre>[&#x27;qty&#x27;]</pre></div></div></div><div class=\"sk-serial\"><div class=\"sk-item\"><div class=\"sk-estimator sk-toggleable\"><input class=\"sk-toggleable__control sk-hidden--visually\" id=\"sk-estimator-id-46\" type=\"checkbox\" ><label for=\"sk-estimator-id-46\" class=\"sk-toggleable__label sk-toggleable__label-arrow\">passthrough</label><div class=\"sk-toggleable__content\"><pre>passthrough</pre></div></div></div></div></div></div></div></div><div class=\"sk-item sk-dashed-wrapped\"><div class=\"sk-label-container\"><div class=\"sk-label sk-toggleable\"><input class=\"sk-toggleable__control sk-hidden--visually\" id=\"sk-estimator-id-47\" type=\"checkbox\" ><label for=\"sk-estimator-id-47\" class=\"sk-toggleable__label sk-toggleable__label-arrow\">trf2: ColumnTransformer</label><div class=\"sk-toggleable__content\"><pre>ColumnTransformer(transformers=[(&#x27;scale&#x27;, MinMaxScaler(), slice(0, 3, None))])</pre></div></div></div><div class=\"sk-parallel\"><div class=\"sk-parallel-item\"><div class=\"sk-item\"><div class=\"sk-label-container\"><div class=\"sk-label sk-toggleable\"><input class=\"sk-toggleable__control sk-hidden--visually\" id=\"sk-estimator-id-48\" type=\"checkbox\" ><label for=\"sk-estimator-id-48\" class=\"sk-toggleable__label sk-toggleable__label-arrow\">scale</label><div class=\"sk-toggleable__content\"><pre>slice(0, 3, None)</pre></div></div></div><div class=\"sk-serial\"><div class=\"sk-item\"><div class=\"sk-estimator sk-toggleable\"><input class=\"sk-toggleable__control sk-hidden--visually\" id=\"sk-estimator-id-49\" type=\"checkbox\" ><label for=\"sk-estimator-id-49\" class=\"sk-toggleable__label sk-toggleable__label-arrow\">MinMaxScaler</label><div class=\"sk-toggleable__content\"><pre>MinMaxScaler()</pre></div></div></div></div></div></div></div></div><div class=\"sk-item\"><div class=\"sk-estimator sk-toggleable\"><input class=\"sk-toggleable__control sk-hidden--visually\" id=\"sk-estimator-id-50\" type=\"checkbox\" ><label for=\"sk-estimator-id-50\" class=\"sk-toggleable__label sk-toggleable__label-arrow\">XGBRegressor</label><div class=\"sk-toggleable__content\"><pre>XGBRegressor(base_score=0.5, booster=&#x27;gbtree&#x27;, callbacks=None,\n",
       "             colsample_bylevel=1, colsample_bynode=1, colsample_bytree=1,\n",
       "             early_stopping_rounds=None, enable_categorical=False,\n",
       "             eval_metric=None, feature_types=None, gamma=0, gpu_id=-1,\n",
       "             grow_policy=&#x27;depthwise&#x27;, importance_type=None,\n",
       "             interaction_constraints=&#x27;&#x27;, learning_rate=0.300000012, max_bin=256,\n",
       "             max_cat_threshold=64, max_cat_to_onehot=4, max_delta_step=0,\n",
       "             max_depth=4, max_leaves=0, min_child_weight=1, missing=nan,\n",
       "             monotone_constraints=&#x27;()&#x27;, n_estimators=20, n_jobs=-1,\n",
       "             num_parallel_tree=1, predictor=&#x27;auto&#x27;, random_state=42, ...)</pre></div></div></div></div></div></div></div>"
      ],
      "text/plain": [
       "Pipeline(steps=[('trf1',\n",
       "                 ColumnTransformer(remainder='passthrough',\n",
       "                                   transformers=[('orde_clientName_month_day',\n",
       "                                                  OrdinalEncoder(handle_unknown='use_encoded_value',\n",
       "                                                                 unknown_value=100),\n",
       "                                                  [0, 1, 2])])),\n",
       "                ('trf2',\n",
       "                 ColumnTransformer(transformers=[('scale', MinMaxScaler(),\n",
       "                                                  slice(0, 3, None))])),\n",
       "                ('trf3',\n",
       "                 XGBRegressor(base_score=0.5, booster='gbtree', callbacks=None,\n",
       "                              colsampl...\n",
       "                              feature_types=None, gamma=0, gpu_id=-1,\n",
       "                              grow_policy='depthwise', importance_type=None,\n",
       "                              interaction_constraints='',\n",
       "                              learning_rate=0.300000012, max_bin=256,\n",
       "                              max_cat_threshold=64, max_cat_to_onehot=4,\n",
       "                              max_delta_step=0, max_depth=4, max_leaves=0,\n",
       "                              min_child_weight=1, missing=nan,\n",
       "                              monotone_constraints='()', n_estimators=20,\n",
       "                              n_jobs=-1, num_parallel_tree=1, predictor='auto',\n",
       "                              random_state=42, ...))])"
      ]
     },
     "execution_count": 111,
     "metadata": {},
     "output_type": "execute_result"
    }
   ],
   "source": [
    "pipe_m5.fit(X_train,y_train)"
   ]
  },
  {
   "cell_type": "code",
   "execution_count": 112,
   "id": "44dc4031",
   "metadata": {},
   "outputs": [
    {
     "data": {
      "text/plain": [
       "{'trf1': ColumnTransformer(remainder='passthrough',\n",
       "                   transformers=[('orde_clientName_month_day',\n",
       "                                  OrdinalEncoder(handle_unknown='use_encoded_value',\n",
       "                                                 unknown_value=100),\n",
       "                                  [0, 1, 2])]),\n",
       " 'trf2': ColumnTransformer(transformers=[('scale', MinMaxScaler(), slice(0, 3, None))]),\n",
       " 'trf3': XGBRegressor(base_score=0.5, booster='gbtree', callbacks=None,\n",
       "              colsample_bylevel=1, colsample_bynode=1, colsample_bytree=1,\n",
       "              early_stopping_rounds=None, enable_categorical=False,\n",
       "              eval_metric=None, feature_types=None, gamma=0, gpu_id=-1,\n",
       "              grow_policy='depthwise', importance_type=None,\n",
       "              interaction_constraints='', learning_rate=0.300000012, max_bin=256,\n",
       "              max_cat_threshold=64, max_cat_to_onehot=4, max_delta_step=0,\n",
       "              max_depth=4, max_leaves=0, min_child_weight=1, missing=nan,\n",
       "              monotone_constraints='()', n_estimators=20, n_jobs=-1,\n",
       "              num_parallel_tree=1, predictor='auto', random_state=42, ...)}"
      ]
     },
     "execution_count": 112,
     "metadata": {},
     "output_type": "execute_result"
    }
   ],
   "source": [
    "pipe_m5.named_steps"
   ]
  },
  {
   "cell_type": "code",
   "execution_count": 113,
   "id": "131819ec",
   "metadata": {},
   "outputs": [],
   "source": [
    "#predict \n",
    "y_pred = pipe_m5.predict(X_test)"
   ]
  },
  {
   "cell_type": "code",
   "execution_count": 114,
   "id": "a4b82420",
   "metadata": {},
   "outputs": [
    {
     "name": "stdout",
     "output_type": "stream",
     "text": [
      "MAE 5844.107421875\n",
      "MSE 34153591.55841446\n",
      "RMSE 5844.107421875\n",
      "R2Score nan\n"
     ]
    },
    {
     "name": "stderr",
     "output_type": "stream",
     "text": [
      "/home/neelchoksi19bce0990/.local/lib/python3.9/site-packages/sklearn/metrics/_regression.py:918: UndefinedMetricWarning: R^2 score is not well-defined with less than two samples.\n",
      "  warnings.warn(msg, UndefinedMetricWarning)\n"
     ]
    }
   ],
   "source": [
    "from sklearn.metrics import mean_absolute_error\n",
    "from sklearn.metrics import mean_squared_error\n",
    "from sklearn.metrics import r2_score\n",
    "\n",
    "print(\"MAE\",mean_absolute_error(y_test,y_pred))\n",
    "print(\"MSE\",mean_squared_error(y_test,y_pred))\n",
    "print(\"RMSE\",np.sqrt(mean_squared_error(y_test,y_pred)))\n",
    "print(\"R2Score\",r2_score(y_test,y_pred))"
   ]
  },
  {
   "cell_type": "code",
   "execution_count": 115,
   "id": "dbf00f83",
   "metadata": {},
   "outputs": [],
   "source": [
    "import pickle \n",
    "pickle.dump(pipe_m5,open('pipe_m5_clientwise_sales_reg.pkl','wb'))\n",
    "\n"
   ]
  },
  {
   "cell_type": "code",
   "execution_count": 116,
   "id": "1d42fcb6",
   "metadata": {},
   "outputs": [
    {
     "name": "stderr",
     "output_type": "stream",
     "text": [
      "/home/neelchoksi19bce0990/.local/lib/python3.9/site-packages/sklearn/base.py:450: UserWarning: X does not have valid feature names, but OrdinalEncoder was fitted with feature names\n",
      "  warnings.warn(\n"
     ]
    },
    {
     "data": {
      "text/plain": [
       "array([5871.1074], dtype=float32)"
      ]
     },
     "execution_count": 116,
     "metadata": {},
     "output_type": "execute_result"
    }
   ],
   "source": [
    "pipe_m5_loaded = pickle.load(open('pipe_m5_clientwise_sales_reg.pkl','rb'))\n",
    "test_pipe_m5_input = np.array(['company1','08','4',10],dtype=object).reshape(1,4)\n",
    "pipe_m5_loaded.predict(test_pipe_m5_input)"
   ]
  },
  {
   "cell_type": "code",
   "execution_count": null,
   "id": "5c6f194d",
   "metadata": {},
   "outputs": [],
   "source": []
  }
 ],
 "metadata": {
  "kernelspec": {
   "display_name": "senti",
   "language": "python",
   "name": "senti"
  },
  "language_info": {
   "codemirror_mode": {
    "name": "ipython",
    "version": 3
   },
   "file_extension": ".py",
   "mimetype": "text/x-python",
   "name": "python",
   "nbconvert_exporter": "python",
   "pygments_lexer": "ipython3",
   "version": "3.9.16"
  }
 },
 "nbformat": 4,
 "nbformat_minor": 5
}
