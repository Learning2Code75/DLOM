{
 "cells": [
  {
   "cell_type": "code",
   "execution_count": 1,
   "id": "c06ef63d",
   "metadata": {},
   "outputs": [],
   "source": [
    "import re\n",
    "import pickle\n",
    "import numpy as np\n",
    "import pandas as pd\n",
    "\n",
    "# nltk\n",
    "from nltk.stem import WordNetLemmatizer\n",
    "\n",
    "# sklearn\n",
    "from sklearn.svm import LinearSVC\n",
    "from sklearn.naive_bayes import BernoulliNB\n",
    "from sklearn.linear_model import LogisticRegression\n",
    "\n",
    "from sklearn.model_selection import train_test_split\n",
    "from sklearn.feature_extraction.text import TfidfVectorizer\n",
    "from sklearn.metrics import classification_report"
   ]
  },
  {
   "cell_type": "code",
   "execution_count": 2,
   "id": "1435ecfb",
   "metadata": {},
   "outputs": [],
   "source": [
    "dataset = pd.read_csv(\"/home/neelchoksi19bce0990/Documents/S/DLOM/ML/2_textClassification/data/IMDBDataset.csv\")"
   ]
  },
  {
   "cell_type": "code",
   "execution_count": 3,
   "id": "bb5b0600",
   "metadata": {},
   "outputs": [
    {
     "data": {
      "text/html": [
       "<div>\n",
       "<style scoped>\n",
       "    .dataframe tbody tr th:only-of-type {\n",
       "        vertical-align: middle;\n",
       "    }\n",
       "\n",
       "    .dataframe tbody tr th {\n",
       "        vertical-align: top;\n",
       "    }\n",
       "\n",
       "    .dataframe thead th {\n",
       "        text-align: right;\n",
       "    }\n",
       "</style>\n",
       "<table border=\"1\" class=\"dataframe\">\n",
       "  <thead>\n",
       "    <tr style=\"text-align: right;\">\n",
       "      <th></th>\n",
       "      <th>review</th>\n",
       "      <th>sentiment</th>\n",
       "    </tr>\n",
       "  </thead>\n",
       "  <tbody>\n",
       "    <tr>\n",
       "      <th>0</th>\n",
       "      <td>One of the other reviewers has mentioned that ...</td>\n",
       "      <td>positive</td>\n",
       "    </tr>\n",
       "    <tr>\n",
       "      <th>1</th>\n",
       "      <td>A wonderful little production. &lt;br /&gt;&lt;br /&gt;The...</td>\n",
       "      <td>positive</td>\n",
       "    </tr>\n",
       "    <tr>\n",
       "      <th>2</th>\n",
       "      <td>I thought this was a wonderful way to spend ti...</td>\n",
       "      <td>positive</td>\n",
       "    </tr>\n",
       "    <tr>\n",
       "      <th>3</th>\n",
       "      <td>Basically there's a family where a little boy ...</td>\n",
       "      <td>negative</td>\n",
       "    </tr>\n",
       "    <tr>\n",
       "      <th>4</th>\n",
       "      <td>Petter Mattei's \"Love in the Time of Money\" is...</td>\n",
       "      <td>positive</td>\n",
       "    </tr>\n",
       "  </tbody>\n",
       "</table>\n",
       "</div>"
      ],
      "text/plain": [
       "                                              review sentiment\n",
       "0  One of the other reviewers has mentioned that ...  positive\n",
       "1  A wonderful little production. <br /><br />The...  positive\n",
       "2  I thought this was a wonderful way to spend ti...  positive\n",
       "3  Basically there's a family where a little boy ...  negative\n",
       "4  Petter Mattei's \"Love in the Time of Money\" is...  positive"
      ]
     },
     "execution_count": 3,
     "metadata": {},
     "output_type": "execute_result"
    }
   ],
   "source": [
    "dataset.head()"
   ]
  },
  {
   "cell_type": "code",
   "execution_count": 4,
   "id": "6753ee6c",
   "metadata": {},
   "outputs": [],
   "source": [
    "from sklearn.preprocessing import LabelEncoder \n",
    "encoder = LabelEncoder()\n",
    "\n",
    "dataset['sentiment'] = encoder.fit_transform(dataset['sentiment'])"
   ]
  },
  {
   "cell_type": "code",
   "execution_count": 5,
   "id": "ec181338",
   "metadata": {},
   "outputs": [
    {
     "data": {
      "text/html": [
       "<div>\n",
       "<style scoped>\n",
       "    .dataframe tbody tr th:only-of-type {\n",
       "        vertical-align: middle;\n",
       "    }\n",
       "\n",
       "    .dataframe tbody tr th {\n",
       "        vertical-align: top;\n",
       "    }\n",
       "\n",
       "    .dataframe thead th {\n",
       "        text-align: right;\n",
       "    }\n",
       "</style>\n",
       "<table border=\"1\" class=\"dataframe\">\n",
       "  <thead>\n",
       "    <tr style=\"text-align: right;\">\n",
       "      <th></th>\n",
       "      <th>review</th>\n",
       "      <th>sentiment</th>\n",
       "    </tr>\n",
       "  </thead>\n",
       "  <tbody>\n",
       "    <tr>\n",
       "      <th>0</th>\n",
       "      <td>One of the other reviewers has mentioned that ...</td>\n",
       "      <td>1</td>\n",
       "    </tr>\n",
       "    <tr>\n",
       "      <th>1</th>\n",
       "      <td>A wonderful little production. &lt;br /&gt;&lt;br /&gt;The...</td>\n",
       "      <td>1</td>\n",
       "    </tr>\n",
       "    <tr>\n",
       "      <th>2</th>\n",
       "      <td>I thought this was a wonderful way to spend ti...</td>\n",
       "      <td>1</td>\n",
       "    </tr>\n",
       "    <tr>\n",
       "      <th>3</th>\n",
       "      <td>Basically there's a family where a little boy ...</td>\n",
       "      <td>0</td>\n",
       "    </tr>\n",
       "    <tr>\n",
       "      <th>4</th>\n",
       "      <td>Petter Mattei's \"Love in the Time of Money\" is...</td>\n",
       "      <td>1</td>\n",
       "    </tr>\n",
       "  </tbody>\n",
       "</table>\n",
       "</div>"
      ],
      "text/plain": [
       "                                              review  sentiment\n",
       "0  One of the other reviewers has mentioned that ...          1\n",
       "1  A wonderful little production. <br /><br />The...          1\n",
       "2  I thought this was a wonderful way to spend ti...          1\n",
       "3  Basically there's a family where a little boy ...          0\n",
       "4  Petter Mattei's \"Love in the Time of Money\" is...          1"
      ]
     },
     "execution_count": 5,
     "metadata": {},
     "output_type": "execute_result"
    }
   ],
   "source": [
    "dataset.head()"
   ]
  },
  {
   "cell_type": "code",
   "execution_count": 6,
   "id": "be4b7677",
   "metadata": {},
   "outputs": [],
   "source": [
    "dataset.rename(columns = {'review':'text'}, inplace = True)"
   ]
  },
  {
   "cell_type": "code",
   "execution_count": 7,
   "id": "9c218d1f",
   "metadata": {},
   "outputs": [
    {
     "data": {
      "text/html": [
       "<div>\n",
       "<style scoped>\n",
       "    .dataframe tbody tr th:only-of-type {\n",
       "        vertical-align: middle;\n",
       "    }\n",
       "\n",
       "    .dataframe tbody tr th {\n",
       "        vertical-align: top;\n",
       "    }\n",
       "\n",
       "    .dataframe thead th {\n",
       "        text-align: right;\n",
       "    }\n",
       "</style>\n",
       "<table border=\"1\" class=\"dataframe\">\n",
       "  <thead>\n",
       "    <tr style=\"text-align: right;\">\n",
       "      <th></th>\n",
       "      <th>text</th>\n",
       "      <th>sentiment</th>\n",
       "    </tr>\n",
       "  </thead>\n",
       "  <tbody>\n",
       "    <tr>\n",
       "      <th>0</th>\n",
       "      <td>One of the other reviewers has mentioned that ...</td>\n",
       "      <td>1</td>\n",
       "    </tr>\n",
       "    <tr>\n",
       "      <th>1</th>\n",
       "      <td>A wonderful little production. &lt;br /&gt;&lt;br /&gt;The...</td>\n",
       "      <td>1</td>\n",
       "    </tr>\n",
       "    <tr>\n",
       "      <th>2</th>\n",
       "      <td>I thought this was a wonderful way to spend ti...</td>\n",
       "      <td>1</td>\n",
       "    </tr>\n",
       "    <tr>\n",
       "      <th>3</th>\n",
       "      <td>Basically there's a family where a little boy ...</td>\n",
       "      <td>0</td>\n",
       "    </tr>\n",
       "    <tr>\n",
       "      <th>4</th>\n",
       "      <td>Petter Mattei's \"Love in the Time of Money\" is...</td>\n",
       "      <td>1</td>\n",
       "    </tr>\n",
       "  </tbody>\n",
       "</table>\n",
       "</div>"
      ],
      "text/plain": [
       "                                                text  sentiment\n",
       "0  One of the other reviewers has mentioned that ...          1\n",
       "1  A wonderful little production. <br /><br />The...          1\n",
       "2  I thought this was a wonderful way to spend ti...          1\n",
       "3  Basically there's a family where a little boy ...          0\n",
       "4  Petter Mattei's \"Love in the Time of Money\" is...          1"
      ]
     },
     "execution_count": 7,
     "metadata": {},
     "output_type": "execute_result"
    }
   ],
   "source": [
    "dataset.head()"
   ]
  },
  {
   "cell_type": "code",
   "execution_count": 8,
   "id": "8747fd24",
   "metadata": {},
   "outputs": [],
   "source": [
    "text, sentiment = list(dataset['text']), list(dataset['sentiment'])"
   ]
  },
  {
   "cell_type": "code",
   "execution_count": 9,
   "id": "b8441af6",
   "metadata": {},
   "outputs": [],
   "source": [
    "# Defining dictionary containing all emojis with their meanings.\n",
    "emojis = {':)': 'smile', ':-)': 'smile', ';d': 'wink', ':-E': 'vampire', ':(': 'sad', \n",
    "          ':-(': 'sad', ':-<': 'sad', ':P': 'raspberry', ':O': 'surprised',\n",
    "          ':-@': 'shocked', ':@': 'shocked',':-$': 'confused', ':\\\\': 'annoyed', \n",
    "          ':#': 'mute', ':X': 'mute', ':^)': 'smile', ':-&': 'confused', '$_$': 'greedy',\n",
    "          '@@': 'eyeroll', ':-!': 'confused', ':-D': 'smile', ':-0': 'yell', 'O.o': 'confused',\n",
    "          '<(-_-)>': 'robot', 'd[-_-]b': 'dj', \":'-)\": 'sadsmile', ';)': 'wink', \n",
    "          ';-)': 'wink', 'O:-)': 'angel','O*-)': 'angel','(:-D': 'gossip', '=^.^=': 'cat'}\n",
    "\n",
    "## Defining set containing all stopwords in english.\n",
    "stopwords = ['a', 'about', 'above', 'after', 'again', 'ain', 'all', 'am', 'an',\n",
    "             'and','any','are', 'as', 'at', 'be', 'because', 'been', 'before',\n",
    "             'being', 'below', 'between','both', 'by', 'can', 'd', 'did', 'do',\n",
    "             'does', 'doing', 'down', 'during', 'each','few', 'for', 'from', \n",
    "             'further', 'had', 'has', 'have', 'having', 'he', 'her', 'here',\n",
    "             'hers', 'herself', 'him', 'himself', 'his', 'how', 'i', 'if', 'in',\n",
    "             'into','is', 'it', 'its', 'itself', 'just', 'll', 'm', 'ma',\n",
    "             'me', 'more', 'most','my', 'myself', 'now', 'o', 'of', 'on', 'once',\n",
    "             'only', 'or', 'other', 'our', 'ours','ourselves', 'out', 'own', 're',\n",
    "             's', 'same', 'she', \"shes\", 'should', \"shouldve\",'so', 'some', 'such',\n",
    "             't', 'than', 'that', \"thatll\", 'the', 'their', 'theirs', 'them',\n",
    "             'themselves', 'then', 'there', 'these', 'they', 'this', 'those', \n",
    "             'through', 'to', 'too','under', 'until', 'up', 've', 'very', 'was',\n",
    "             'we', 'were', 'what', 'when', 'where','which','while', 'who', 'whom',\n",
    "             'why', 'will', 'with', 'won', 'y', 'you', \"youd\",\"youll\", \"youre\",\n",
    "             \"youve\", 'your', 'yours', 'yourself', 'yourselves']"
   ]
  },
  {
   "cell_type": "code",
   "execution_count": 10,
   "id": "1b8a8a78",
   "metadata": {},
   "outputs": [
    {
     "name": "stderr",
     "output_type": "stream",
     "text": [
      "[nltk_data] Downloading package omw-1.4 to\n",
      "[nltk_data]     /home/neelchoksi19bce0990/nltk_data...\n",
      "[nltk_data]   Package omw-1.4 is already up-to-date!\n",
      "[nltk_data] Downloading package wordnet to\n",
      "[nltk_data]     /home/neelchoksi19bce0990/nltk_data...\n",
      "[nltk_data]   Package wordnet is already up-to-date!\n"
     ]
    },
    {
     "data": {
      "text/plain": [
       "True"
      ]
     },
     "execution_count": 10,
     "metadata": {},
     "output_type": "execute_result"
    }
   ],
   "source": [
    "import nltk\n",
    "nltk.download('omw-1.4')\n",
    "nltk.download('wordnet')"
   ]
  },
  {
   "cell_type": "code",
   "execution_count": 11,
   "id": "cd9bb8fc",
   "metadata": {},
   "outputs": [],
   "source": [
    "lemmatizer = WordNetLemmatizer()\n",
    "# grouping together the inflected forms (\"better\" -> \"good\")\n",
    "\n",
    "def preprocess(textdata):\n",
    "    processed_texts = []\n",
    "\n",
    "    # Defining regex patterns.\n",
    "    url_pattern = r\"((http://)[^ ]*|(https://)[^ ]*|( www\\.)[^ ]*)\"\n",
    "    user_pattern = '@[^\\s]+'\n",
    "    alpha_pattern = \"[^a-zA-Z0-9]\"\n",
    "    sequence_pattern = r\"(.)\\1\\1+\"\n",
    "    seq_replace_pattern = r\"\\1\\1\"\n",
    "\n",
    "    for tweet in textdata:\n",
    "        tweet = tweet.lower()\n",
    "\n",
    "        # Replace all URls with 'URL'\n",
    "        tweet = re.sub(url_pattern, ' URL', tweet)\n",
    "        # Replace all emojis.\n",
    "        for emoji in emojis.keys():\n",
    "            tweet = tweet.replace(emoji, \"EMOJI\" + emojis[emoji])\n",
    "            # Replace @USERNAME to 'USER'.\n",
    "        tweet = re.sub(user_pattern, ' USER', tweet)\n",
    "        # Replace all non alphabets.\n",
    "        tweet = re.sub(alpha_pattern, \" \", tweet)\n",
    "        # Replace 3 or more consecutive letters by 2 letter.\n",
    "        tweet = re.sub(sequence_pattern, seq_replace_pattern, tweet)\n",
    "\n",
    "        preprocessed_words = []\n",
    "        for word in tweet.split():\n",
    "            # Check if the word is a stopword.\n",
    "            if len(word) > 1 and word not in stopwords:\n",
    "                # Lemmatizing the word.\n",
    "                word = lemmatizer.lemmatize(word)\n",
    "                preprocessed_words.append(word)\n",
    "\n",
    "        processed_texts.append(' '.join(preprocessed_words))\n",
    "\n",
    "    return processed_texts\n"
   ]
  },
  {
   "cell_type": "code",
   "execution_count": 12,
   "id": "75a3b483",
   "metadata": {},
   "outputs": [],
   "source": [
    "processedtext = preprocess(text)"
   ]
  },
  {
   "cell_type": "code",
   "execution_count": 13,
   "id": "86d2ae5d",
   "metadata": {},
   "outputs": [],
   "source": [
    "X_train, X_test, y_train, y_test = train_test_split(processedtext, sentiment,\n",
    "                                                    test_size = 0.05, random_state = 0)\n"
   ]
  },
  {
   "cell_type": "code",
   "execution_count": 14,
   "id": "04aac1c2",
   "metadata": {},
   "outputs": [
    {
     "data": {
      "text/html": [
       "<style>#sk-container-id-1 {color: black;background-color: white;}#sk-container-id-1 pre{padding: 0;}#sk-container-id-1 div.sk-toggleable {background-color: white;}#sk-container-id-1 label.sk-toggleable__label {cursor: pointer;display: block;width: 100%;margin-bottom: 0;padding: 0.3em;box-sizing: border-box;text-align: center;}#sk-container-id-1 label.sk-toggleable__label-arrow:before {content: \"▸\";float: left;margin-right: 0.25em;color: #696969;}#sk-container-id-1 label.sk-toggleable__label-arrow:hover:before {color: black;}#sk-container-id-1 div.sk-estimator:hover label.sk-toggleable__label-arrow:before {color: black;}#sk-container-id-1 div.sk-toggleable__content {max-height: 0;max-width: 0;overflow: hidden;text-align: left;background-color: #f0f8ff;}#sk-container-id-1 div.sk-toggleable__content pre {margin: 0.2em;color: black;border-radius: 0.25em;background-color: #f0f8ff;}#sk-container-id-1 input.sk-toggleable__control:checked~div.sk-toggleable__content {max-height: 200px;max-width: 100%;overflow: auto;}#sk-container-id-1 input.sk-toggleable__control:checked~label.sk-toggleable__label-arrow:before {content: \"▾\";}#sk-container-id-1 div.sk-estimator input.sk-toggleable__control:checked~label.sk-toggleable__label {background-color: #d4ebff;}#sk-container-id-1 div.sk-label input.sk-toggleable__control:checked~label.sk-toggleable__label {background-color: #d4ebff;}#sk-container-id-1 input.sk-hidden--visually {border: 0;clip: rect(1px 1px 1px 1px);clip: rect(1px, 1px, 1px, 1px);height: 1px;margin: -1px;overflow: hidden;padding: 0;position: absolute;width: 1px;}#sk-container-id-1 div.sk-estimator {font-family: monospace;background-color: #f0f8ff;border: 1px dotted black;border-radius: 0.25em;box-sizing: border-box;margin-bottom: 0.5em;}#sk-container-id-1 div.sk-estimator:hover {background-color: #d4ebff;}#sk-container-id-1 div.sk-parallel-item::after {content: \"\";width: 100%;border-bottom: 1px solid gray;flex-grow: 1;}#sk-container-id-1 div.sk-label:hover label.sk-toggleable__label {background-color: #d4ebff;}#sk-container-id-1 div.sk-serial::before {content: \"\";position: absolute;border-left: 1px solid gray;box-sizing: border-box;top: 0;bottom: 0;left: 50%;z-index: 0;}#sk-container-id-1 div.sk-serial {display: flex;flex-direction: column;align-items: center;background-color: white;padding-right: 0.2em;padding-left: 0.2em;position: relative;}#sk-container-id-1 div.sk-item {position: relative;z-index: 1;}#sk-container-id-1 div.sk-parallel {display: flex;align-items: stretch;justify-content: center;background-color: white;position: relative;}#sk-container-id-1 div.sk-item::before, #sk-container-id-1 div.sk-parallel-item::before {content: \"\";position: absolute;border-left: 1px solid gray;box-sizing: border-box;top: 0;bottom: 0;left: 50%;z-index: -1;}#sk-container-id-1 div.sk-parallel-item {display: flex;flex-direction: column;z-index: 1;position: relative;background-color: white;}#sk-container-id-1 div.sk-parallel-item:first-child::after {align-self: flex-end;width: 50%;}#sk-container-id-1 div.sk-parallel-item:last-child::after {align-self: flex-start;width: 50%;}#sk-container-id-1 div.sk-parallel-item:only-child::after {width: 0;}#sk-container-id-1 div.sk-dashed-wrapped {border: 1px dashed gray;margin: 0 0.4em 0.5em 0.4em;box-sizing: border-box;padding-bottom: 0.4em;background-color: white;}#sk-container-id-1 div.sk-label label {font-family: monospace;font-weight: bold;display: inline-block;line-height: 1.2em;}#sk-container-id-1 div.sk-label-container {text-align: center;}#sk-container-id-1 div.sk-container {/* jupyter's `normalize.less` sets `[hidden] { display: none; }` but bootstrap.min.css set `[hidden] { display: none !important; }` so we also need the `!important` here to be able to override the default hidden behavior on the sphinx rendered scikit-learn.org. See: https://github.com/scikit-learn/scikit-learn/issues/21755 */display: inline-block !important;position: relative;}#sk-container-id-1 div.sk-text-repr-fallback {display: none;}</style><div id=\"sk-container-id-1\" class=\"sk-top-container\"><div class=\"sk-text-repr-fallback\"><pre>TfidfVectorizer(max_features=5000, ngram_range=(1, 2))</pre><b>In a Jupyter environment, please rerun this cell to show the HTML representation or trust the notebook. <br />On GitHub, the HTML representation is unable to render, please try loading this page with nbviewer.org.</b></div><div class=\"sk-container\" hidden><div class=\"sk-item\"><div class=\"sk-estimator sk-toggleable\"><input class=\"sk-toggleable__control sk-hidden--visually\" id=\"sk-estimator-id-1\" type=\"checkbox\" checked><label for=\"sk-estimator-id-1\" class=\"sk-toggleable__label sk-toggleable__label-arrow\">TfidfVectorizer</label><div class=\"sk-toggleable__content\"><pre>TfidfVectorizer(max_features=5000, ngram_range=(1, 2))</pre></div></div></div></div></div>"
      ],
      "text/plain": [
       "TfidfVectorizer(max_features=5000, ngram_range=(1, 2))"
      ]
     },
     "execution_count": 14,
     "metadata": {},
     "output_type": "execute_result"
    }
   ],
   "source": [
    "vectorizer = TfidfVectorizer(ngram_range=(1,2), max_features=5000)\n",
    "vectorizer.fit(X_train)"
   ]
  },
  {
   "cell_type": "code",
   "execution_count": null,
   "id": "9e7cc715",
   "metadata": {},
   "outputs": [],
   "source": []
  },
  {
   "cell_type": "code",
   "execution_count": 20,
   "id": "4c1dfc93",
   "metadata": {},
   "outputs": [],
   "source": [
    "X_train = vectorizer.transform(X_train)\n",
    "X_test  = vectorizer.transform(X_test)"
   ]
  },
  {
   "cell_type": "code",
   "execution_count": 21,
   "id": "7a4a837b",
   "metadata": {},
   "outputs": [],
   "source": [
    "def model_evaluate(model):\n",
    "    y_pred = model.predict(X_test)\n",
    "    print(classification_report(y_test, y_pred))\n"
   ]
  },
  {
   "cell_type": "code",
   "execution_count": 22,
   "id": "15b45fc0",
   "metadata": {},
   "outputs": [
    {
     "name": "stdout",
     "output_type": "stream",
     "text": [
      "              precision    recall  f1-score   support\n",
      "\n",
      "           0       0.88      0.84      0.86      1257\n",
      "           1       0.84      0.89      0.86      1243\n",
      "\n",
      "    accuracy                           0.86      2500\n",
      "   macro avg       0.86      0.86      0.86      2500\n",
      "weighted avg       0.86      0.86      0.86      2500\n",
      "\n"
     ]
    }
   ],
   "source": [
    "BNBmodel = BernoulliNB(alpha = 2)\n",
    "BNBmodel.fit(X_train, y_train)\n",
    "model_evaluate(BNBmodel)"
   ]
  },
  {
   "cell_type": "code",
   "execution_count": 23,
   "id": "13112f43",
   "metadata": {},
   "outputs": [
    {
     "name": "stdout",
     "output_type": "stream",
     "text": [
      "              precision    recall  f1-score   support\n",
      "\n",
      "           0       0.90      0.87      0.88      1257\n",
      "           1       0.87      0.90      0.89      1243\n",
      "\n",
      "    accuracy                           0.89      2500\n",
      "   macro avg       0.89      0.89      0.89      2500\n",
      "weighted avg       0.89      0.89      0.89      2500\n",
      "\n"
     ]
    }
   ],
   "source": [
    "SVCmodel = LinearSVC()\n",
    "SVCmodel.fit(X_train, y_train)\n",
    "model_evaluate(SVCmodel)"
   ]
  },
  {
   "cell_type": "code",
   "execution_count": 24,
   "id": "e4fd67be",
   "metadata": {},
   "outputs": [
    {
     "name": "stdout",
     "output_type": "stream",
     "text": [
      "              precision    recall  f1-score   support\n",
      "\n",
      "           0       0.91      0.87      0.89      1257\n",
      "           1       0.88      0.91      0.89      1243\n",
      "\n",
      "    accuracy                           0.89      2500\n",
      "   macro avg       0.89      0.89      0.89      2500\n",
      "weighted avg       0.89      0.89      0.89      2500\n",
      "\n"
     ]
    }
   ],
   "source": [
    "LRmodel = LogisticRegression(C = 2, max_iter = 1000, n_jobs=-1)\n",
    "LRmodel.fit(X_train, y_train)\n",
    "model_evaluate(LRmodel)"
   ]
  },
  {
   "cell_type": "code",
   "execution_count": 25,
   "id": "a2c2a76c",
   "metadata": {},
   "outputs": [
    {
     "name": "stdout",
     "output_type": "stream",
     "text": [
      "              precision    recall  f1-score   support\n",
      "\n",
      "           0       0.91      0.87      0.89      1257\n",
      "           1       0.88      0.91      0.89      1243\n",
      "\n",
      "    accuracy                           0.89      2500\n",
      "   macro avg       0.89      0.89      0.89      2500\n",
      "weighted avg       0.89      0.89      0.89      2500\n",
      "\n"
     ]
    }
   ],
   "source": [
    "# Pipeline!!\n",
    "from sklearn.pipeline import Pipeline\n",
    "\n",
    "X_train, X_test, y_train, y_test = train_test_split(processedtext, sentiment,\n",
    "                                                    test_size = 0.05, random_state = 0)\n",
    "\n",
    "pipe = Pipeline([('vectorizer', vectorizer), ('lr', LRmodel)])\n",
    "pipe.fit(X_train, y_train)\n",
    "\n",
    "model_evaluate(pipe)\n"
   ]
  },
  {
   "cell_type": "code",
   "execution_count": 22,
   "id": "07f45187",
   "metadata": {},
   "outputs": [
    {
     "name": "stdout",
     "output_type": "stream",
     "text": [
      "              precision    recall  f1-score   support\n",
      "\n",
      "           0       0.92      0.89      0.91      1257\n",
      "           1       0.90      0.92      0.91      1243\n",
      "\n",
      "    accuracy                           0.91      2500\n",
      "   macro avg       0.91      0.91      0.91      2500\n",
      "weighted avg       0.91      0.91      0.91      2500\n",
      "\n"
     ]
    }
   ],
   "source": [
    "with open('pipeline.pickle','wb') as f:\n",
    "    pickle.dump(pipe, f)\n",
    "    \n",
    "with open('pipeline.pickle', 'rb') as f:\n",
    "    loaded_pipe = pickle.load(f)\n",
    "    \n",
    "model_evaluate(loaded_pipe)"
   ]
  },
  {
   "cell_type": "code",
   "execution_count": 26,
   "id": "7974af5f",
   "metadata": {},
   "outputs": [],
   "source": [
    "with open('pipeline.pickle', 'rb') as f:\n",
    "    loaded_pipe = pickle.load(f)\n",
    "    \n",
    "# model_evaluate(loaded_pipe)"
   ]
  },
  {
   "cell_type": "code",
   "execution_count": 27,
   "id": "79a0a8a7",
   "metadata": {},
   "outputs": [
    {
     "name": "stdout",
     "output_type": "stream",
     "text": [
      "[('I hate twitter', 1, 'Negative'), ('May the Force be with you.', 1, 'Negative'), (\"Mr. Stark, I don't feel so good\", 1, 'Negative')]\n"
     ]
    }
   ],
   "source": [
    "def predict(model, text):\n",
    "    # Predict the sentiment\n",
    "    preprocessed_text = preprocess(text)\n",
    "    predictions = model.predict(preprocessed_text)\n",
    "\n",
    "    pred_to_label = {0: 'Positive', 1: 'Negative'}\n",
    "\n",
    "    # Make a list of text with sentiment.\n",
    "    data = []\n",
    "    for t, pred in zip(text, predictions):\n",
    "        data.append((t, pred, pred_to_label[pred]))\n",
    "\n",
    "    return data\n",
    "\n",
    "\n",
    "if __name__==\"__main__\":\n",
    "    # Text to classify should be in a list.\n",
    "    text = [\"I hate twitter\",\n",
    "            \"May the Force be with you.\",\n",
    "            \"Mr. Stark, I don't feel so good\"]\n",
    "    \n",
    "    predictions = predict(loaded_pipe, text)\n",
    "    print(predictions)\n"
   ]
  },
  {
   "cell_type": "markdown",
   "id": "2d384fd2",
   "metadata": {},
   "source": [
    "# m6 - predict sentiment arr "
   ]
  },
  {
   "cell_type": "code",
   "execution_count": 63,
   "id": "250d69c5",
   "metadata": {},
   "outputs": [],
   "source": [
    "# X_train = pd.read_csv('../../../ML/2_textClassification/data/X_train.csv')\n",
    "# y_train = pd.read_csv('../../../ML/2_textClassification/data/y_train.csv')\n",
    "# X_test = pd.read_csv('../../../ML/2_textClassification/data/X_test.csv')\n",
    "# y_test = pd.read_csv('../../../ML/2_textClassification/data/y_test.csv')\n",
    "\n",
    "# X_train=X_train.drop(['Unnamed: 0'],axis=1)\n",
    "# y_train=y_train.drop(['Unnamed: 0'],axis=1)\n",
    "# X_test=X_test.drop(['Unnamed: 0'],axis=1)\n",
    "# y_test=y_test.drop(['Unnamed: 0'],axis=1)\n",
    "\n",
    "# X_train = X_train.to_numpy()\n",
    "# y_train = y_train.to_numpy()\n",
    "# X_test = X_test.to_numpy()\n",
    "# y_test = y_test.to_numpy()"
   ]
  },
  {
   "cell_type": "code",
   "execution_count": 112,
   "id": "ae1d6e65",
   "metadata": {},
   "outputs": [
    {
     "data": {
      "text/plain": [
       "<47500x5000 sparse matrix of type '<class 'numpy.float64'>'\n",
       "\twith 4265836 stored elements in Compressed Sparse Row format>"
      ]
     },
     "execution_count": 112,
     "metadata": {},
     "output_type": "execute_result"
    }
   ],
   "source": [
    "X_train"
   ]
  },
  {
   "cell_type": "code",
   "execution_count": 114,
   "id": "05fb9f90",
   "metadata": {
    "scrolled": true
   },
   "outputs": [
    {
     "ename": "ValueError",
     "evalue": "cannot use sparse input in 'SVC' trained on dense data",
     "output_type": "error",
     "traceback": [
      "\u001b[0;31m---------------------------------------------------------------------------\u001b[0m",
      "\u001b[0;31mValueError\u001b[0m                                Traceback (most recent call last)",
      "Input \u001b[0;32mIn [114]\u001b[0m, in \u001b[0;36m<cell line: 33>\u001b[0;34m()\u001b[0m\n\u001b[1;32m     27\u001b[0m stack_model \u001b[38;5;241m=\u001b[39m StackingClassifier(\n\u001b[1;32m     28\u001b[0m     estimators \u001b[38;5;241m=\u001b[39m estimator_list, final_estimator \u001b[38;5;241m=\u001b[39m LogisticRegression()\n\u001b[1;32m     29\u001b[0m )\n\u001b[1;32m     31\u001b[0m stack_model\u001b[38;5;241m.\u001b[39mfit(X_train\u001b[38;5;241m.\u001b[39mtoarray(),y_train)\n\u001b[0;32m---> 33\u001b[0m y_train_pred \u001b[38;5;241m=\u001b[39m \u001b[43mstack_model\u001b[49m\u001b[38;5;241;43m.\u001b[39;49m\u001b[43mpredict\u001b[49m\u001b[43m(\u001b[49m\u001b[43mX_train\u001b[49m\u001b[43m)\u001b[49m\n\u001b[1;32m     34\u001b[0m y_test_pred \u001b[38;5;241m=\u001b[39m stack_model\u001b[38;5;241m.\u001b[39mpredict(X_test)\n\u001b[1;32m     37\u001b[0m \u001b[38;5;66;03m#training set model performance\u001b[39;00m\n\u001b[1;32m     38\u001b[0m \u001b[38;5;66;03m#Train set performance \u001b[39;00m\n",
      "File \u001b[0;32m~/.local/lib/python3.9/site-packages/sklearn/ensemble/_stacking.py:607\u001b[0m, in \u001b[0;36mStackingClassifier.predict\u001b[0;34m(self, X, **predict_params)\u001b[0m\n\u001b[1;32m    586\u001b[0m \u001b[38;5;129m@available_if\u001b[39m(_estimator_has(\u001b[38;5;124m\"\u001b[39m\u001b[38;5;124mpredict\u001b[39m\u001b[38;5;124m\"\u001b[39m))\n\u001b[1;32m    587\u001b[0m \u001b[38;5;28;01mdef\u001b[39;00m \u001b[38;5;21mpredict\u001b[39m(\u001b[38;5;28mself\u001b[39m, X, \u001b[38;5;241m*\u001b[39m\u001b[38;5;241m*\u001b[39mpredict_params):\n\u001b[1;32m    588\u001b[0m     \u001b[38;5;124;03m\"\"\"Predict target for X.\u001b[39;00m\n\u001b[1;32m    589\u001b[0m \n\u001b[1;32m    590\u001b[0m \u001b[38;5;124;03m    Parameters\u001b[39;00m\n\u001b[0;32m   (...)\u001b[0m\n\u001b[1;32m    605\u001b[0m \u001b[38;5;124;03m        Predicted targets.\u001b[39;00m\n\u001b[1;32m    606\u001b[0m \u001b[38;5;124;03m    \"\"\"\u001b[39;00m\n\u001b[0;32m--> 607\u001b[0m     y_pred \u001b[38;5;241m=\u001b[39m \u001b[38;5;28;43msuper\u001b[39;49m\u001b[43m(\u001b[49m\u001b[43m)\u001b[49m\u001b[38;5;241;43m.\u001b[39;49m\u001b[43mpredict\u001b[49m\u001b[43m(\u001b[49m\u001b[43mX\u001b[49m\u001b[43m,\u001b[49m\u001b[43m \u001b[49m\u001b[38;5;241;43m*\u001b[39;49m\u001b[38;5;241;43m*\u001b[39;49m\u001b[43mpredict_params\u001b[49m\u001b[43m)\u001b[49m\n\u001b[1;32m    608\u001b[0m     \u001b[38;5;28;01mreturn\u001b[39;00m \u001b[38;5;28mself\u001b[39m\u001b[38;5;241m.\u001b[39m_le\u001b[38;5;241m.\u001b[39minverse_transform(y_pred)\n",
      "File \u001b[0;32m~/.local/lib/python3.9/site-packages/sklearn/ensemble/_stacking.py:351\u001b[0m, in \u001b[0;36m_BaseStacking.predict\u001b[0;34m(self, X, **predict_params)\u001b[0m\n\u001b[1;32m    330\u001b[0m \u001b[38;5;124;03m\"\"\"Predict target for X.\u001b[39;00m\n\u001b[1;32m    331\u001b[0m \n\u001b[1;32m    332\u001b[0m \u001b[38;5;124;03mParameters\u001b[39;00m\n\u001b[0;32m   (...)\u001b[0m\n\u001b[1;32m    347\u001b[0m \u001b[38;5;124;03m    Predicted targets.\u001b[39;00m\n\u001b[1;32m    348\u001b[0m \u001b[38;5;124;03m\"\"\"\u001b[39;00m\n\u001b[1;32m    350\u001b[0m check_is_fitted(\u001b[38;5;28mself\u001b[39m)\n\u001b[0;32m--> 351\u001b[0m \u001b[38;5;28;01mreturn\u001b[39;00m \u001b[38;5;28mself\u001b[39m\u001b[38;5;241m.\u001b[39mfinal_estimator_\u001b[38;5;241m.\u001b[39mpredict(\u001b[38;5;28;43mself\u001b[39;49m\u001b[38;5;241;43m.\u001b[39;49m\u001b[43mtransform\u001b[49m\u001b[43m(\u001b[49m\u001b[43mX\u001b[49m\u001b[43m)\u001b[49m, \u001b[38;5;241m*\u001b[39m\u001b[38;5;241m*\u001b[39mpredict_params)\n",
      "File \u001b[0;32m~/.local/lib/python3.9/site-packages/sklearn/ensemble/_stacking.py:663\u001b[0m, in \u001b[0;36mStackingClassifier.transform\u001b[0;34m(self, X)\u001b[0m\n\u001b[1;32m    648\u001b[0m \u001b[38;5;28;01mdef\u001b[39;00m \u001b[38;5;21mtransform\u001b[39m(\u001b[38;5;28mself\u001b[39m, X):\n\u001b[1;32m    649\u001b[0m     \u001b[38;5;124;03m\"\"\"Return class labels or probabilities for X for each estimator.\u001b[39;00m\n\u001b[1;32m    650\u001b[0m \n\u001b[1;32m    651\u001b[0m \u001b[38;5;124;03m    Parameters\u001b[39;00m\n\u001b[0;32m   (...)\u001b[0m\n\u001b[1;32m    661\u001b[0m \u001b[38;5;124;03m        Prediction outputs for each estimator.\u001b[39;00m\n\u001b[1;32m    662\u001b[0m \u001b[38;5;124;03m    \"\"\"\u001b[39;00m\n\u001b[0;32m--> 663\u001b[0m     \u001b[38;5;28;01mreturn\u001b[39;00m \u001b[38;5;28;43mself\u001b[39;49m\u001b[38;5;241;43m.\u001b[39;49m\u001b[43m_transform\u001b[49m\u001b[43m(\u001b[49m\u001b[43mX\u001b[49m\u001b[43m)\u001b[49m\n",
      "File \u001b[0;32m~/.local/lib/python3.9/site-packages/sklearn/ensemble/_stacking.py:276\u001b[0m, in \u001b[0;36m_BaseStacking._transform\u001b[0;34m(self, X)\u001b[0m\n\u001b[1;32m    274\u001b[0m \u001b[38;5;124;03m\"\"\"Concatenate and return the predictions of the estimators.\"\"\"\u001b[39;00m\n\u001b[1;32m    275\u001b[0m check_is_fitted(\u001b[38;5;28mself\u001b[39m)\n\u001b[0;32m--> 276\u001b[0m predictions \u001b[38;5;241m=\u001b[39m [\n\u001b[1;32m    277\u001b[0m     \u001b[38;5;28mgetattr\u001b[39m(est, meth)(X)\n\u001b[1;32m    278\u001b[0m     \u001b[38;5;28;01mfor\u001b[39;00m est, meth \u001b[38;5;129;01min\u001b[39;00m \u001b[38;5;28mzip\u001b[39m(\u001b[38;5;28mself\u001b[39m\u001b[38;5;241m.\u001b[39mestimators_, \u001b[38;5;28mself\u001b[39m\u001b[38;5;241m.\u001b[39mstack_method_)\n\u001b[1;32m    279\u001b[0m     \u001b[38;5;28;01mif\u001b[39;00m est \u001b[38;5;241m!=\u001b[39m \u001b[38;5;124m\"\u001b[39m\u001b[38;5;124mdrop\u001b[39m\u001b[38;5;124m\"\u001b[39m\n\u001b[1;32m    280\u001b[0m ]\n\u001b[1;32m    281\u001b[0m \u001b[38;5;28;01mreturn\u001b[39;00m \u001b[38;5;28mself\u001b[39m\u001b[38;5;241m.\u001b[39m_concatenate_predictions(X, predictions)\n",
      "File \u001b[0;32m~/.local/lib/python3.9/site-packages/sklearn/ensemble/_stacking.py:277\u001b[0m, in \u001b[0;36m<listcomp>\u001b[0;34m(.0)\u001b[0m\n\u001b[1;32m    274\u001b[0m \u001b[38;5;124;03m\"\"\"Concatenate and return the predictions of the estimators.\"\"\"\u001b[39;00m\n\u001b[1;32m    275\u001b[0m check_is_fitted(\u001b[38;5;28mself\u001b[39m)\n\u001b[1;32m    276\u001b[0m predictions \u001b[38;5;241m=\u001b[39m [\n\u001b[0;32m--> 277\u001b[0m     \u001b[38;5;28;43mgetattr\u001b[39;49m\u001b[43m(\u001b[49m\u001b[43mest\u001b[49m\u001b[43m,\u001b[49m\u001b[43m \u001b[49m\u001b[43mmeth\u001b[49m\u001b[43m)\u001b[49m\u001b[43m(\u001b[49m\u001b[43mX\u001b[49m\u001b[43m)\u001b[49m\n\u001b[1;32m    278\u001b[0m     \u001b[38;5;28;01mfor\u001b[39;00m est, meth \u001b[38;5;129;01min\u001b[39;00m \u001b[38;5;28mzip\u001b[39m(\u001b[38;5;28mself\u001b[39m\u001b[38;5;241m.\u001b[39mestimators_, \u001b[38;5;28mself\u001b[39m\u001b[38;5;241m.\u001b[39mstack_method_)\n\u001b[1;32m    279\u001b[0m     \u001b[38;5;28;01mif\u001b[39;00m est \u001b[38;5;241m!=\u001b[39m \u001b[38;5;124m\"\u001b[39m\u001b[38;5;124mdrop\u001b[39m\u001b[38;5;124m\"\u001b[39m\n\u001b[1;32m    280\u001b[0m ]\n\u001b[1;32m    281\u001b[0m \u001b[38;5;28;01mreturn\u001b[39;00m \u001b[38;5;28mself\u001b[39m\u001b[38;5;241m.\u001b[39m_concatenate_predictions(X, predictions)\n",
      "File \u001b[0;32m~/.local/lib/python3.9/site-packages/sklearn/svm/_base.py:775\u001b[0m, in \u001b[0;36mBaseSVC.decision_function\u001b[0;34m(self, X)\u001b[0m\n\u001b[1;32m    748\u001b[0m \u001b[38;5;28;01mdef\u001b[39;00m \u001b[38;5;21mdecision_function\u001b[39m(\u001b[38;5;28mself\u001b[39m, X):\n\u001b[1;32m    749\u001b[0m     \u001b[38;5;124;03m\"\"\"Evaluate the decision function for the samples in X.\u001b[39;00m\n\u001b[1;32m    750\u001b[0m \n\u001b[1;32m    751\u001b[0m \u001b[38;5;124;03m    Parameters\u001b[39;00m\n\u001b[0;32m   (...)\u001b[0m\n\u001b[1;32m    773\u001b[0m \u001b[38;5;124;03m    transformation of ovo decision function.\u001b[39;00m\n\u001b[1;32m    774\u001b[0m \u001b[38;5;124;03m    \"\"\"\u001b[39;00m\n\u001b[0;32m--> 775\u001b[0m     dec \u001b[38;5;241m=\u001b[39m \u001b[38;5;28;43mself\u001b[39;49m\u001b[38;5;241;43m.\u001b[39;49m\u001b[43m_decision_function\u001b[49m\u001b[43m(\u001b[49m\u001b[43mX\u001b[49m\u001b[43m)\u001b[49m\n\u001b[1;32m    776\u001b[0m     \u001b[38;5;28;01mif\u001b[39;00m \u001b[38;5;28mself\u001b[39m\u001b[38;5;241m.\u001b[39mdecision_function_shape \u001b[38;5;241m==\u001b[39m \u001b[38;5;124m\"\u001b[39m\u001b[38;5;124movr\u001b[39m\u001b[38;5;124m\"\u001b[39m \u001b[38;5;129;01mand\u001b[39;00m \u001b[38;5;28mlen\u001b[39m(\u001b[38;5;28mself\u001b[39m\u001b[38;5;241m.\u001b[39mclasses_) \u001b[38;5;241m>\u001b[39m \u001b[38;5;241m2\u001b[39m:\n\u001b[1;32m    777\u001b[0m         \u001b[38;5;28;01mreturn\u001b[39;00m _ovr_decision_function(dec \u001b[38;5;241m<\u001b[39m \u001b[38;5;241m0\u001b[39m, \u001b[38;5;241m-\u001b[39mdec, \u001b[38;5;28mlen\u001b[39m(\u001b[38;5;28mself\u001b[39m\u001b[38;5;241m.\u001b[39mclasses_))\n",
      "File \u001b[0;32m~/.local/lib/python3.9/site-packages/sklearn/svm/_base.py:533\u001b[0m, in \u001b[0;36mBaseLibSVM._decision_function\u001b[0;34m(self, X)\u001b[0m\n\u001b[1;32m    519\u001b[0m \u001b[38;5;124;03m\"\"\"Evaluates the decision function for the samples in X.\u001b[39;00m\n\u001b[1;32m    520\u001b[0m \n\u001b[1;32m    521\u001b[0m \u001b[38;5;124;03mParameters\u001b[39;00m\n\u001b[0;32m   (...)\u001b[0m\n\u001b[1;32m    529\u001b[0m \u001b[38;5;124;03m    in the model.\u001b[39;00m\n\u001b[1;32m    530\u001b[0m \u001b[38;5;124;03m\"\"\"\u001b[39;00m\n\u001b[1;32m    531\u001b[0m \u001b[38;5;66;03m# NOTE: _validate_for_predict contains check for is_fitted\u001b[39;00m\n\u001b[1;32m    532\u001b[0m \u001b[38;5;66;03m# hence must be placed before any other attributes are used.\u001b[39;00m\n\u001b[0;32m--> 533\u001b[0m X \u001b[38;5;241m=\u001b[39m \u001b[38;5;28;43mself\u001b[39;49m\u001b[38;5;241;43m.\u001b[39;49m\u001b[43m_validate_for_predict\u001b[49m\u001b[43m(\u001b[49m\u001b[43mX\u001b[49m\u001b[43m)\u001b[49m\n\u001b[1;32m    534\u001b[0m X \u001b[38;5;241m=\u001b[39m \u001b[38;5;28mself\u001b[39m\u001b[38;5;241m.\u001b[39m_compute_kernel(X)\n\u001b[1;32m    536\u001b[0m \u001b[38;5;28;01mif\u001b[39;00m \u001b[38;5;28mself\u001b[39m\u001b[38;5;241m.\u001b[39m_sparse:\n",
      "File \u001b[0;32m~/.local/lib/python3.9/site-packages/sklearn/svm/_base.py:626\u001b[0m, in \u001b[0;36mBaseLibSVM._validate_for_predict\u001b[0;34m(self, X)\u001b[0m\n\u001b[1;32m    623\u001b[0m     X\u001b[38;5;241m.\u001b[39msort_indices()\n\u001b[1;32m    625\u001b[0m \u001b[38;5;28;01mif\u001b[39;00m sp\u001b[38;5;241m.\u001b[39missparse(X) \u001b[38;5;129;01mand\u001b[39;00m \u001b[38;5;129;01mnot\u001b[39;00m \u001b[38;5;28mself\u001b[39m\u001b[38;5;241m.\u001b[39m_sparse \u001b[38;5;129;01mand\u001b[39;00m \u001b[38;5;129;01mnot\u001b[39;00m callable(\u001b[38;5;28mself\u001b[39m\u001b[38;5;241m.\u001b[39mkernel):\n\u001b[0;32m--> 626\u001b[0m     \u001b[38;5;28;01mraise\u001b[39;00m \u001b[38;5;167;01mValueError\u001b[39;00m(\n\u001b[1;32m    627\u001b[0m         \u001b[38;5;124m\"\u001b[39m\u001b[38;5;124mcannot use sparse input in \u001b[39m\u001b[38;5;132;01m%r\u001b[39;00m\u001b[38;5;124m trained on dense data\u001b[39m\u001b[38;5;124m\"\u001b[39m\n\u001b[1;32m    628\u001b[0m         \u001b[38;5;241m%\u001b[39m \u001b[38;5;28mtype\u001b[39m(\u001b[38;5;28mself\u001b[39m)\u001b[38;5;241m.\u001b[39m\u001b[38;5;18m__name__\u001b[39m\n\u001b[1;32m    629\u001b[0m     )\n\u001b[1;32m    631\u001b[0m \u001b[38;5;28;01mif\u001b[39;00m \u001b[38;5;28mself\u001b[39m\u001b[38;5;241m.\u001b[39mkernel \u001b[38;5;241m==\u001b[39m \u001b[38;5;124m\"\u001b[39m\u001b[38;5;124mprecomputed\u001b[39m\u001b[38;5;124m\"\u001b[39m:\n\u001b[1;32m    632\u001b[0m     \u001b[38;5;28;01mif\u001b[39;00m X\u001b[38;5;241m.\u001b[39mshape[\u001b[38;5;241m1\u001b[39m] \u001b[38;5;241m!=\u001b[39m \u001b[38;5;28mself\u001b[39m\u001b[38;5;241m.\u001b[39mshape_fit_[\u001b[38;5;241m0\u001b[39m]:\n",
      "\u001b[0;31mValueError\u001b[0m: cannot use sparse input in 'SVC' trained on dense data"
     ]
    }
   ],
   "source": [
    "# from sklearn.svm import SVC\n",
    "# from sklearn.tree import DecisionTreeClassifier\n",
    "# from sklearn.neighbors import KNeighborsClassifier\n",
    "# from sklearn.naive_bayes import GaussianNB\n",
    "\n",
    "# from sklearn.metrics import accuracy_score\n",
    "# from sklearn.metrics import matthews_corrcoef\n",
    "# from sklearn.metrics import f1_score\n",
    "\n",
    "# from sklearn.ensemble import StackingClassifier\n",
    "# from sklearn.linear_model import LogisticRegression # meta lerner\n",
    "\n",
    "\n",
    "# svc = SVC(kernel='sigmoid',gamma=1.0)\n",
    "# knc = KNeighborsClassifier()\n",
    "# dtc = DecisionTreeClassifier(max_depth=5)\n",
    "# lrc = LogisticRegression(solver='liblinear',penalty='l1')\n",
    "# gnb = GaussianNB()\n",
    "\n",
    "# estimator_list = [\n",
    "#     ('SVC',svc),\n",
    "#     ('KNC',knc),\n",
    "#     ('DTC',dtc),\n",
    "#     ('LRC',lrc),\n",
    "#     ('GNB',gnb),   \n",
    "# ]\n",
    "# stack_model = StackingClassifier(\n",
    "#     estimators = estimator_list, final_estimator = LogisticRegression()\n",
    "# )\n",
    "\n",
    "# stack_model.fit(X_train.toarray(),y_train)\n",
    "\n",
    "# y_train_pred = stack_model.predict(X_train)\n",
    "# y_test_pred = stack_model.predict(X_test)\n",
    "\n",
    "\n",
    "# #training set model performance\n",
    "# #Train set performance \n",
    "# stack_model_train_accuracy = accuracy_score(y_train,y_train_pred)\n",
    "# stack_model_train_mcc = matthews_corrcoef(y_train,y_train_pred)\n",
    "# stack_model_train_f1 = f1_score(y_train,y_train_pred,average=\"weighted\")\n",
    "\n",
    "# #Test set performance\n",
    "# stack_model_test_accuracy = accuracy_score(y_test,y_test_pred)\n",
    "# stack_model_test_mcc = matthews_corrcoef(y_test,y_test_pred)\n",
    "# stack_model_test_f1 = f1_score(y_test,y_test_pred,average=\"weighted\")\n",
    "\n",
    "\n",
    "# #stacking model train accuracies : \n",
    "# print(\"stack_model : train accuracies\")\n",
    "# print (\"accuracy %s\" % stack_model_train_accuracy)\n",
    "# print(\"matthews corr coef : %s\" %stack_model_train_mcc)\n",
    "# print(\"f1 score : %s\" %stack_model_train_f1)\n",
    "\n",
    "# #stacking model test accuracies:\n",
    "# print(\"stack_model : test accuracies\")\n",
    "# print (\"accuracy %s\" % stack_model_test_accuracy)\n",
    "# print(\"matthews corr coef : %s\" %stack_model_test_mcc)\n",
    "# print(\"f1 score : %s\" %stack_model_test_f1)"
   ]
  },
  {
   "cell_type": "code",
   "execution_count": null,
   "id": "534ab358",
   "metadata": {},
   "outputs": [],
   "source": [
    "model_evaluate(stack_model)"
   ]
  },
  {
   "cell_type": "code",
   "execution_count": null,
   "id": "5065bfe3",
   "metadata": {},
   "outputs": [],
   "source": [
    "# import gensim \n",
    "# from nltk import sent_tokenize \n",
    "# from gensim.utils import simple_preprocess\n",
    "\n",
    "# all_reviews = []\n",
    "# for doc in df_movie['review']:\n",
    "#     raw_sent = sent_tokenize(doc)\n",
    "#     for sent in raw_sent:\n",
    "#         all_reviews.append(simple_preprocess(sent))"
   ]
  },
  {
   "cell_type": "code",
   "execution_count": null,
   "id": "d7ab5ccc",
   "metadata": {},
   "outputs": [],
   "source": [
    "# model_w2v_ml = gensim.models.Word2Vec(\n",
    "# window=10,\n",
    "# min_count=2)"
   ]
  },
  {
   "cell_type": "code",
   "execution_count": null,
   "id": "6b4545db",
   "metadata": {},
   "outputs": [],
   "source": [
    "# model_w2v_ml.build_vocab(all_reviews)"
   ]
  },
  {
   "cell_type": "code",
   "execution_count": null,
   "id": "38016522",
   "metadata": {},
   "outputs": [],
   "source": [
    "# model_w2v_ml.train(all_reviews,total_examples=model_w2v_ml.corpus_count,epochs = model_w2v_ml.epochs)"
   ]
  },
  {
   "cell_type": "code",
   "execution_count": null,
   "id": "d4b9f2d7",
   "metadata": {},
   "outputs": [],
   "source": [
    "# def document_vector(doc):\n",
    "#     doc= [word for word in doc.split() if word in model_w2v_ml.wv.index_to_key]\n",
    "#     if(len(doc) == 0):\n",
    "#         return np.zeros(100)\n",
    "#     return np.mean(model_w2v_ml.wv[doc],axis=0)"
   ]
  },
  {
   "cell_type": "code",
   "execution_count": null,
   "id": "0fe27eea",
   "metadata": {},
   "outputs": [],
   "source": [
    "# from tqdm import tqdm\n",
    "# X = []\n",
    "# for doc in tqdm(df_movie['review'].values):\n",
    "#     X.append(document_vector(doc))"
   ]
  },
  {
   "cell_type": "code",
   "execution_count": 66,
   "id": "30ef6fc8",
   "metadata": {},
   "outputs": [],
   "source": []
  },
  {
   "cell_type": "code",
   "execution_count": 67,
   "id": "173f4a34",
   "metadata": {},
   "outputs": [
    {
     "ename": "AttributeError",
     "evalue": "'numpy.ndarray' object has no attribute 'lower'",
     "output_type": "error",
     "traceback": [
      "\u001b[0;31m---------------------------------------------------------------------------\u001b[0m",
      "\u001b[0;31mAttributeError\u001b[0m                            Traceback (most recent call last)",
      "Input \u001b[0;32mIn [67]\u001b[0m, in \u001b[0;36m<cell line: 5>\u001b[0;34m()\u001b[0m\n\u001b[1;32m      2\u001b[0m \u001b[38;5;28;01mfrom\u001b[39;00m \u001b[38;5;21;01msklearn\u001b[39;00m\u001b[38;5;21;01m.\u001b[39;00m\u001b[38;5;21;01mpipeline\u001b[39;00m \u001b[38;5;28;01mimport\u001b[39;00m Pipeline\n\u001b[1;32m      4\u001b[0m pipe \u001b[38;5;241m=\u001b[39m Pipeline([(\u001b[38;5;124m'\u001b[39m\u001b[38;5;124mvectorizer\u001b[39m\u001b[38;5;124m'\u001b[39m, vectorizer_tfidf), (\u001b[38;5;124m'\u001b[39m\u001b[38;5;124mstack\u001b[39m\u001b[38;5;124m'\u001b[39m, stack_model)])\n\u001b[0;32m----> 5\u001b[0m \u001b[43mpipe\u001b[49m\u001b[38;5;241;43m.\u001b[39;49m\u001b[43mfit\u001b[49m\u001b[43m(\u001b[49m\u001b[43mX_train\u001b[49m\u001b[43m,\u001b[49m\u001b[43m \u001b[49m\u001b[43my_train\u001b[49m\u001b[43m)\u001b[49m\n\u001b[1;32m      7\u001b[0m model_evaluate(pipe)\n",
      "File \u001b[0;32m~/.local/lib/python3.9/site-packages/sklearn/pipeline.py:378\u001b[0m, in \u001b[0;36mPipeline.fit\u001b[0;34m(self, X, y, **fit_params)\u001b[0m\n\u001b[1;32m    352\u001b[0m \u001b[38;5;124;03m\"\"\"Fit the model.\u001b[39;00m\n\u001b[1;32m    353\u001b[0m \n\u001b[1;32m    354\u001b[0m \u001b[38;5;124;03mFit all the transformers one after the other and transform the\u001b[39;00m\n\u001b[0;32m   (...)\u001b[0m\n\u001b[1;32m    375\u001b[0m \u001b[38;5;124;03m    Pipeline with fitted steps.\u001b[39;00m\n\u001b[1;32m    376\u001b[0m \u001b[38;5;124;03m\"\"\"\u001b[39;00m\n\u001b[1;32m    377\u001b[0m fit_params_steps \u001b[38;5;241m=\u001b[39m \u001b[38;5;28mself\u001b[39m\u001b[38;5;241m.\u001b[39m_check_fit_params(\u001b[38;5;241m*\u001b[39m\u001b[38;5;241m*\u001b[39mfit_params)\n\u001b[0;32m--> 378\u001b[0m Xt \u001b[38;5;241m=\u001b[39m \u001b[38;5;28;43mself\u001b[39;49m\u001b[38;5;241;43m.\u001b[39;49m\u001b[43m_fit\u001b[49m\u001b[43m(\u001b[49m\u001b[43mX\u001b[49m\u001b[43m,\u001b[49m\u001b[43m \u001b[49m\u001b[43my\u001b[49m\u001b[43m,\u001b[49m\u001b[43m \u001b[49m\u001b[38;5;241;43m*\u001b[39;49m\u001b[38;5;241;43m*\u001b[39;49m\u001b[43mfit_params_steps\u001b[49m\u001b[43m)\u001b[49m\n\u001b[1;32m    379\u001b[0m \u001b[38;5;28;01mwith\u001b[39;00m _print_elapsed_time(\u001b[38;5;124m\"\u001b[39m\u001b[38;5;124mPipeline\u001b[39m\u001b[38;5;124m\"\u001b[39m, \u001b[38;5;28mself\u001b[39m\u001b[38;5;241m.\u001b[39m_log_message(\u001b[38;5;28mlen\u001b[39m(\u001b[38;5;28mself\u001b[39m\u001b[38;5;241m.\u001b[39msteps) \u001b[38;5;241m-\u001b[39m \u001b[38;5;241m1\u001b[39m)):\n\u001b[1;32m    380\u001b[0m     \u001b[38;5;28;01mif\u001b[39;00m \u001b[38;5;28mself\u001b[39m\u001b[38;5;241m.\u001b[39m_final_estimator \u001b[38;5;241m!=\u001b[39m \u001b[38;5;124m\"\u001b[39m\u001b[38;5;124mpassthrough\u001b[39m\u001b[38;5;124m\"\u001b[39m:\n",
      "File \u001b[0;32m~/.local/lib/python3.9/site-packages/sklearn/pipeline.py:336\u001b[0m, in \u001b[0;36mPipeline._fit\u001b[0;34m(self, X, y, **fit_params_steps)\u001b[0m\n\u001b[1;32m    334\u001b[0m     cloned_transformer \u001b[38;5;241m=\u001b[39m clone(transformer)\n\u001b[1;32m    335\u001b[0m \u001b[38;5;66;03m# Fit or load from cache the current transformer\u001b[39;00m\n\u001b[0;32m--> 336\u001b[0m X, fitted_transformer \u001b[38;5;241m=\u001b[39m \u001b[43mfit_transform_one_cached\u001b[49m\u001b[43m(\u001b[49m\n\u001b[1;32m    337\u001b[0m \u001b[43m    \u001b[49m\u001b[43mcloned_transformer\u001b[49m\u001b[43m,\u001b[49m\n\u001b[1;32m    338\u001b[0m \u001b[43m    \u001b[49m\u001b[43mX\u001b[49m\u001b[43m,\u001b[49m\n\u001b[1;32m    339\u001b[0m \u001b[43m    \u001b[49m\u001b[43my\u001b[49m\u001b[43m,\u001b[49m\n\u001b[1;32m    340\u001b[0m \u001b[43m    \u001b[49m\u001b[38;5;28;43;01mNone\u001b[39;49;00m\u001b[43m,\u001b[49m\n\u001b[1;32m    341\u001b[0m \u001b[43m    \u001b[49m\u001b[43mmessage_clsname\u001b[49m\u001b[38;5;241;43m=\u001b[39;49m\u001b[38;5;124;43m\"\u001b[39;49m\u001b[38;5;124;43mPipeline\u001b[39;49m\u001b[38;5;124;43m\"\u001b[39;49m\u001b[43m,\u001b[49m\n\u001b[1;32m    342\u001b[0m \u001b[43m    \u001b[49m\u001b[43mmessage\u001b[49m\u001b[38;5;241;43m=\u001b[39;49m\u001b[38;5;28;43mself\u001b[39;49m\u001b[38;5;241;43m.\u001b[39;49m\u001b[43m_log_message\u001b[49m\u001b[43m(\u001b[49m\u001b[43mstep_idx\u001b[49m\u001b[43m)\u001b[49m\u001b[43m,\u001b[49m\n\u001b[1;32m    343\u001b[0m \u001b[43m    \u001b[49m\u001b[38;5;241;43m*\u001b[39;49m\u001b[38;5;241;43m*\u001b[39;49m\u001b[43mfit_params_steps\u001b[49m\u001b[43m[\u001b[49m\u001b[43mname\u001b[49m\u001b[43m]\u001b[49m\u001b[43m,\u001b[49m\n\u001b[1;32m    344\u001b[0m \u001b[43m\u001b[49m\u001b[43m)\u001b[49m\n\u001b[1;32m    345\u001b[0m \u001b[38;5;66;03m# Replace the transformer of the step with the fitted\u001b[39;00m\n\u001b[1;32m    346\u001b[0m \u001b[38;5;66;03m# transformer. This is necessary when loading the transformer\u001b[39;00m\n\u001b[1;32m    347\u001b[0m \u001b[38;5;66;03m# from the cache.\u001b[39;00m\n\u001b[1;32m    348\u001b[0m \u001b[38;5;28mself\u001b[39m\u001b[38;5;241m.\u001b[39msteps[step_idx] \u001b[38;5;241m=\u001b[39m (name, fitted_transformer)\n",
      "File \u001b[0;32m~/.local/lib/python3.9/site-packages/joblib/memory.py:352\u001b[0m, in \u001b[0;36mNotMemorizedFunc.__call__\u001b[0;34m(self, *args, **kwargs)\u001b[0m\n\u001b[1;32m    351\u001b[0m \u001b[38;5;28;01mdef\u001b[39;00m \u001b[38;5;21m__call__\u001b[39m(\u001b[38;5;28mself\u001b[39m, \u001b[38;5;241m*\u001b[39margs, \u001b[38;5;241m*\u001b[39m\u001b[38;5;241m*\u001b[39mkwargs):\n\u001b[0;32m--> 352\u001b[0m     \u001b[38;5;28;01mreturn\u001b[39;00m \u001b[38;5;28;43mself\u001b[39;49m\u001b[38;5;241;43m.\u001b[39;49m\u001b[43mfunc\u001b[49m\u001b[43m(\u001b[49m\u001b[38;5;241;43m*\u001b[39;49m\u001b[43margs\u001b[49m\u001b[43m,\u001b[49m\u001b[43m \u001b[49m\u001b[38;5;241;43m*\u001b[39;49m\u001b[38;5;241;43m*\u001b[39;49m\u001b[43mkwargs\u001b[49m\u001b[43m)\u001b[49m\n",
      "File \u001b[0;32m~/.local/lib/python3.9/site-packages/sklearn/pipeline.py:870\u001b[0m, in \u001b[0;36m_fit_transform_one\u001b[0;34m(transformer, X, y, weight, message_clsname, message, **fit_params)\u001b[0m\n\u001b[1;32m    868\u001b[0m \u001b[38;5;28;01mwith\u001b[39;00m _print_elapsed_time(message_clsname, message):\n\u001b[1;32m    869\u001b[0m     \u001b[38;5;28;01mif\u001b[39;00m \u001b[38;5;28mhasattr\u001b[39m(transformer, \u001b[38;5;124m\"\u001b[39m\u001b[38;5;124mfit_transform\u001b[39m\u001b[38;5;124m\"\u001b[39m):\n\u001b[0;32m--> 870\u001b[0m         res \u001b[38;5;241m=\u001b[39m \u001b[43mtransformer\u001b[49m\u001b[38;5;241;43m.\u001b[39;49m\u001b[43mfit_transform\u001b[49m\u001b[43m(\u001b[49m\u001b[43mX\u001b[49m\u001b[43m,\u001b[49m\u001b[43m \u001b[49m\u001b[43my\u001b[49m\u001b[43m,\u001b[49m\u001b[43m \u001b[49m\u001b[38;5;241;43m*\u001b[39;49m\u001b[38;5;241;43m*\u001b[39;49m\u001b[43mfit_params\u001b[49m\u001b[43m)\u001b[49m\n\u001b[1;32m    871\u001b[0m     \u001b[38;5;28;01melse\u001b[39;00m:\n\u001b[1;32m    872\u001b[0m         res \u001b[38;5;241m=\u001b[39m transformer\u001b[38;5;241m.\u001b[39mfit(X, y, \u001b[38;5;241m*\u001b[39m\u001b[38;5;241m*\u001b[39mfit_params)\u001b[38;5;241m.\u001b[39mtransform(X)\n",
      "File \u001b[0;32m~/.local/lib/python3.9/site-packages/sklearn/feature_extraction/text.py:2079\u001b[0m, in \u001b[0;36mTfidfVectorizer.fit_transform\u001b[0;34m(self, raw_documents, y)\u001b[0m\n\u001b[1;32m   2072\u001b[0m \u001b[38;5;28mself\u001b[39m\u001b[38;5;241m.\u001b[39m_check_params()\n\u001b[1;32m   2073\u001b[0m \u001b[38;5;28mself\u001b[39m\u001b[38;5;241m.\u001b[39m_tfidf \u001b[38;5;241m=\u001b[39m TfidfTransformer(\n\u001b[1;32m   2074\u001b[0m     norm\u001b[38;5;241m=\u001b[39m\u001b[38;5;28mself\u001b[39m\u001b[38;5;241m.\u001b[39mnorm,\n\u001b[1;32m   2075\u001b[0m     use_idf\u001b[38;5;241m=\u001b[39m\u001b[38;5;28mself\u001b[39m\u001b[38;5;241m.\u001b[39muse_idf,\n\u001b[1;32m   2076\u001b[0m     smooth_idf\u001b[38;5;241m=\u001b[39m\u001b[38;5;28mself\u001b[39m\u001b[38;5;241m.\u001b[39msmooth_idf,\n\u001b[1;32m   2077\u001b[0m     sublinear_tf\u001b[38;5;241m=\u001b[39m\u001b[38;5;28mself\u001b[39m\u001b[38;5;241m.\u001b[39msublinear_tf,\n\u001b[1;32m   2078\u001b[0m )\n\u001b[0;32m-> 2079\u001b[0m X \u001b[38;5;241m=\u001b[39m \u001b[38;5;28;43msuper\u001b[39;49m\u001b[43m(\u001b[49m\u001b[43m)\u001b[49m\u001b[38;5;241;43m.\u001b[39;49m\u001b[43mfit_transform\u001b[49m\u001b[43m(\u001b[49m\u001b[43mraw_documents\u001b[49m\u001b[43m)\u001b[49m\n\u001b[1;32m   2080\u001b[0m \u001b[38;5;28mself\u001b[39m\u001b[38;5;241m.\u001b[39m_tfidf\u001b[38;5;241m.\u001b[39mfit(X)\n\u001b[1;32m   2081\u001b[0m \u001b[38;5;66;03m# X is already a transformed view of raw_documents so\u001b[39;00m\n\u001b[1;32m   2082\u001b[0m \u001b[38;5;66;03m# we set copy to False\u001b[39;00m\n",
      "File \u001b[0;32m~/.local/lib/python3.9/site-packages/sklearn/feature_extraction/text.py:1338\u001b[0m, in \u001b[0;36mCountVectorizer.fit_transform\u001b[0;34m(self, raw_documents, y)\u001b[0m\n\u001b[1;32m   1330\u001b[0m             warnings\u001b[38;5;241m.\u001b[39mwarn(\n\u001b[1;32m   1331\u001b[0m                 \u001b[38;5;124m\"\u001b[39m\u001b[38;5;124mUpper case characters found in\u001b[39m\u001b[38;5;124m\"\u001b[39m\n\u001b[1;32m   1332\u001b[0m                 \u001b[38;5;124m\"\u001b[39m\u001b[38;5;124m vocabulary while \u001b[39m\u001b[38;5;124m'\u001b[39m\u001b[38;5;124mlowercase\u001b[39m\u001b[38;5;124m'\u001b[39m\u001b[38;5;124m\"\u001b[39m\n\u001b[1;32m   1333\u001b[0m                 \u001b[38;5;124m\"\u001b[39m\u001b[38;5;124m is True. These entries will not\u001b[39m\u001b[38;5;124m\"\u001b[39m\n\u001b[1;32m   1334\u001b[0m                 \u001b[38;5;124m\"\u001b[39m\u001b[38;5;124m be matched with any documents\u001b[39m\u001b[38;5;124m\"\u001b[39m\n\u001b[1;32m   1335\u001b[0m             )\n\u001b[1;32m   1336\u001b[0m             \u001b[38;5;28;01mbreak\u001b[39;00m\n\u001b[0;32m-> 1338\u001b[0m vocabulary, X \u001b[38;5;241m=\u001b[39m \u001b[38;5;28;43mself\u001b[39;49m\u001b[38;5;241;43m.\u001b[39;49m\u001b[43m_count_vocab\u001b[49m\u001b[43m(\u001b[49m\u001b[43mraw_documents\u001b[49m\u001b[43m,\u001b[49m\u001b[43m \u001b[49m\u001b[38;5;28;43mself\u001b[39;49m\u001b[38;5;241;43m.\u001b[39;49m\u001b[43mfixed_vocabulary_\u001b[49m\u001b[43m)\u001b[49m\n\u001b[1;32m   1340\u001b[0m \u001b[38;5;28;01mif\u001b[39;00m \u001b[38;5;28mself\u001b[39m\u001b[38;5;241m.\u001b[39mbinary:\n\u001b[1;32m   1341\u001b[0m     X\u001b[38;5;241m.\u001b[39mdata\u001b[38;5;241m.\u001b[39mfill(\u001b[38;5;241m1\u001b[39m)\n",
      "File \u001b[0;32m~/.local/lib/python3.9/site-packages/sklearn/feature_extraction/text.py:1209\u001b[0m, in \u001b[0;36mCountVectorizer._count_vocab\u001b[0;34m(self, raw_documents, fixed_vocab)\u001b[0m\n\u001b[1;32m   1207\u001b[0m \u001b[38;5;28;01mfor\u001b[39;00m doc \u001b[38;5;129;01min\u001b[39;00m raw_documents:\n\u001b[1;32m   1208\u001b[0m     feature_counter \u001b[38;5;241m=\u001b[39m {}\n\u001b[0;32m-> 1209\u001b[0m     \u001b[38;5;28;01mfor\u001b[39;00m feature \u001b[38;5;129;01min\u001b[39;00m \u001b[43manalyze\u001b[49m\u001b[43m(\u001b[49m\u001b[43mdoc\u001b[49m\u001b[43m)\u001b[49m:\n\u001b[1;32m   1210\u001b[0m         \u001b[38;5;28;01mtry\u001b[39;00m:\n\u001b[1;32m   1211\u001b[0m             feature_idx \u001b[38;5;241m=\u001b[39m vocabulary[feature]\n",
      "File \u001b[0;32m~/.local/lib/python3.9/site-packages/sklearn/feature_extraction/text.py:111\u001b[0m, in \u001b[0;36m_analyze\u001b[0;34m(doc, analyzer, tokenizer, ngrams, preprocessor, decoder, stop_words)\u001b[0m\n\u001b[1;32m    109\u001b[0m \u001b[38;5;28;01melse\u001b[39;00m:\n\u001b[1;32m    110\u001b[0m     \u001b[38;5;28;01mif\u001b[39;00m preprocessor \u001b[38;5;129;01mis\u001b[39;00m \u001b[38;5;129;01mnot\u001b[39;00m \u001b[38;5;28;01mNone\u001b[39;00m:\n\u001b[0;32m--> 111\u001b[0m         doc \u001b[38;5;241m=\u001b[39m \u001b[43mpreprocessor\u001b[49m\u001b[43m(\u001b[49m\u001b[43mdoc\u001b[49m\u001b[43m)\u001b[49m\n\u001b[1;32m    112\u001b[0m     \u001b[38;5;28;01mif\u001b[39;00m tokenizer \u001b[38;5;129;01mis\u001b[39;00m \u001b[38;5;129;01mnot\u001b[39;00m \u001b[38;5;28;01mNone\u001b[39;00m:\n\u001b[1;32m    113\u001b[0m         doc \u001b[38;5;241m=\u001b[39m tokenizer(doc)\n",
      "File \u001b[0;32m~/.local/lib/python3.9/site-packages/sklearn/feature_extraction/text.py:69\u001b[0m, in \u001b[0;36m_preprocess\u001b[0;34m(doc, accent_function, lower)\u001b[0m\n\u001b[1;32m     50\u001b[0m \u001b[38;5;124;03m\"\"\"Chain together an optional series of text preprocessing steps to\u001b[39;00m\n\u001b[1;32m     51\u001b[0m \u001b[38;5;124;03mapply to a document.\u001b[39;00m\n\u001b[1;32m     52\u001b[0m \n\u001b[0;32m   (...)\u001b[0m\n\u001b[1;32m     66\u001b[0m \u001b[38;5;124;03m    preprocessed string\u001b[39;00m\n\u001b[1;32m     67\u001b[0m \u001b[38;5;124;03m\"\"\"\u001b[39;00m\n\u001b[1;32m     68\u001b[0m \u001b[38;5;28;01mif\u001b[39;00m lower:\n\u001b[0;32m---> 69\u001b[0m     doc \u001b[38;5;241m=\u001b[39m \u001b[43mdoc\u001b[49m\u001b[38;5;241;43m.\u001b[39;49m\u001b[43mlower\u001b[49m()\n\u001b[1;32m     70\u001b[0m \u001b[38;5;28;01mif\u001b[39;00m accent_function \u001b[38;5;129;01mis\u001b[39;00m \u001b[38;5;129;01mnot\u001b[39;00m \u001b[38;5;28;01mNone\u001b[39;00m:\n\u001b[1;32m     71\u001b[0m     doc \u001b[38;5;241m=\u001b[39m accent_function(doc)\n",
      "\u001b[0;31mAttributeError\u001b[0m: 'numpy.ndarray' object has no attribute 'lower'"
     ]
    }
   ],
   "source": [
    "# # Pipeline!!\n",
    "# from sklearn.pipeline import Pipeline\n",
    "\n",
    "# X_train, X_test, y_train, y_test = train_test_split(processedtext, sentiment,\n",
    "#                                                     test_size = 0.05, random_state = 0)\n",
    "\n",
    "# pipe = Pipeline([('vectorizer', vectorizer), ('stack', stack_model)])\n",
    "# pipe.fit(X_train, y_train)\n",
    "\n",
    "# model_evaluate(pipe)\n"
   ]
  },
  {
   "cell_type": "code",
   "execution_count": null,
   "id": "ed73d7b8",
   "metadata": {},
   "outputs": [],
   "source": [
    "# with open('pipeline.pickle','wb') as f:\n",
    "#     pickle.dump(pipe, f)\n",
    "    \n"
   ]
  },
  {
   "cell_type": "code",
   "execution_count": 28,
   "id": "6c961707",
   "metadata": {},
   "outputs": [],
   "source": [
    "with open('pipeline.pickle', 'rb') as f:\n",
    "    loaded_pipe = pickle.load(f)\n",
    "    \n",
    "# model_evaluate(loaded_pipe)"
   ]
  },
  {
   "cell_type": "code",
   "execution_count": null,
   "id": "ae354f7d",
   "metadata": {},
   "outputs": [],
   "source": [
    "# def predict(model, text):\n",
    "#     # Predict the sentiment\n",
    "#     preprocessed_text = preprocess(text)\n",
    "#     predictions = model.predict(preprocessed_text)\n",
    "\n",
    "#     pred_to_label = {0: 'Positive', 1: 'Negative'}\n",
    "\n",
    "#     # Make a list of text with sentiment.\n",
    "#     data = []\n",
    "#     for t, pred in zip(text, predictions):\n",
    "#         data.append((t, pred, pred_to_label[pred]))\n",
    "\n",
    "#     return data\n",
    "\n",
    "\n",
    "# if __name__==\"__main__\":\n",
    "#     # Text to classify should be in a list.\n",
    "#     text = [\"I hate twitter\",\n",
    "#             \"May the Force be with you.\",\n",
    "#             \"Mr. Stark, I don't feel so good\"]\n",
    "    \n",
    "#     predictions = predict(loaded_pipe, text)\n",
    "#     print(predictions)\n"
   ]
  },
  {
   "cell_type": "code",
   "execution_count": null,
   "id": "62437cbd",
   "metadata": {},
   "outputs": [],
   "source": []
  },
  {
   "cell_type": "code",
   "execution_count": null,
   "id": "0a660e2c",
   "metadata": {},
   "outputs": [],
   "source": []
  },
  {
   "cell_type": "code",
   "execution_count": null,
   "id": "3ec4bbd9",
   "metadata": {},
   "outputs": [],
   "source": []
  },
  {
   "cell_type": "markdown",
   "id": "658261cb",
   "metadata": {},
   "source": [
    "# data from mongodb for m1,m2,m3,m4,m5:"
   ]
  },
  {
   "cell_type": "code",
   "execution_count": 29,
   "id": "274e108a",
   "metadata": {},
   "outputs": [],
   "source": [
    "import pymongo\n",
    "import pandas as pd \n",
    "import datetime"
   ]
  },
  {
   "cell_type": "code",
   "execution_count": 30,
   "id": "60009398",
   "metadata": {},
   "outputs": [],
   "source": [
    "mongo_client = pymongo.MongoClient(\"mongodb://localhost:27018\")"
   ]
  },
  {
   "cell_type": "code",
   "execution_count": 31,
   "id": "b1908b45",
   "metadata": {},
   "outputs": [],
   "source": [
    "dlom_server_mus2_orderclient = mongo_client[\"dlom_server_mus2_orderclient\"]\n",
    "dlom_server_mus2_orderlogs = mongo_client[\"dlom_server_mus2_orderlogs\"]"
   ]
  },
  {
   "cell_type": "code",
   "execution_count": 32,
   "id": "7e4d66ba",
   "metadata": {},
   "outputs": [
    {
     "name": "stdout",
     "output_type": "stream",
     "text": [
      "Database(MongoClient(host=['localhost:27018'], document_class=dict, tz_aware=False, connect=True), 'dlom_server_mus2_orderclient')\n",
      "Database(MongoClient(host=['localhost:27018'], document_class=dict, tz_aware=False, connect=True), 'dlom_server_mus2_orderlogs')\n"
     ]
    }
   ],
   "source": [
    "print(dlom_server_mus2_orderclient)\n",
    "print(dlom_server_mus2_orderlogs)"
   ]
  },
  {
   "cell_type": "code",
   "execution_count": 33,
   "id": "2c0afae5",
   "metadata": {},
   "outputs": [
    {
     "name": "stdout",
     "output_type": "stream",
     "text": [
      "Collection(Database(MongoClient(host=['localhost:27018'], document_class=dict, tz_aware=False, connect=True), 'dlom_server_mus2_orderclient'), 'dlomorders')\n"
     ]
    }
   ],
   "source": [
    "dlom_orders_collection = dlom_server_mus2_orderclient[\"dlomorders\"]\n",
    "print(dlom_orders_collection)"
   ]
  },
  {
   "cell_type": "code",
   "execution_count": 34,
   "id": "42cc8bef",
   "metadata": {},
   "outputs": [
    {
     "name": "stdout",
     "output_type": "stream",
     "text": [
      "Collection(Database(MongoClient(host=['localhost:27018'], document_class=dict, tz_aware=False, connect=True), 'dlom_server_mus2_orderclient'), 'dlomclients')\n"
     ]
    }
   ],
   "source": [
    "dlom_clients_collection =  dlom_server_mus2_orderclient[\"dlomclients\"]\n",
    "print(dlom_clients_collection)"
   ]
  },
  {
   "cell_type": "code",
   "execution_count": 35,
   "id": "46bc440d",
   "metadata": {},
   "outputs": [
    {
     "name": "stdout",
     "output_type": "stream",
     "text": [
      "Collection(Database(MongoClient(host=['localhost:27018'], document_class=dict, tz_aware=False, connect=True), 'dlom_server_mus2_orderlogs'), 'orderlogs')\n"
     ]
    }
   ],
   "source": [
    "dlom_orderlogs_collection = dlom_server_mus2_orderlogs[\"orderlogs\"]\n",
    "print(dlom_orderlogs_collection)"
   ]
  },
  {
   "cell_type": "code",
   "execution_count": 36,
   "id": "1b56152c",
   "metadata": {},
   "outputs": [
    {
     "data": {
      "text/plain": [
       "{'_id': ObjectId('63ce7e543cb25e08b646e2e8'),\n",
       " 'clientId': ObjectId('63ce7e473cb25e08b646e2e0'),\n",
       " 'salesperson': '63d57088175d4fbd6cb97e70',\n",
       " 'salesOrder': {'distributorName': 'company1114',\n",
       "  'distributorDetails': 'addr11',\n",
       "  'voucherNo': 'vno23',\n",
       "  'dated': '2023-02-08',\n",
       "  'modeTermsOfPayment': 'mode1',\n",
       "  'buyerRefOrderNo': 'buyer12',\n",
       "  'otherRef': 'oref2',\n",
       "  'invoiceTo': 'invto2',\n",
       "  'despatchThrough': 'despt',\n",
       "  'destination': 'dest',\n",
       "  'termsOfDelivery': 'terms',\n",
       "  'soTable': [{'siNo': 0,\n",
       "    'descriptionOfGoods': 'desc1',\n",
       "    'dueOn': '2023-02-22',\n",
       "    'qty': 100,\n",
       "    'rate': '100',\n",
       "    'per': 'unit',\n",
       "    'amount': '10000',\n",
       "    '_id': ObjectId('63faed58f8c0a4de3b6742a4')}],\n",
       "  'totalQty': 100,\n",
       "  'totalAmt': '10000',\n",
       "  'amtInWords': 'ten thousand only'},\n",
       " 'invoice': {'distributorName': 'company1114',\n",
       "  'distributorDetails': 'addr11',\n",
       "  'invoiceNo': 'inv122',\n",
       "  'dated': '2023-02-25',\n",
       "  'deliveryNote': 'delnote1',\n",
       "  'supplierRef': 'sref1',\n",
       "  'otherRef': 'orref2',\n",
       "  'client': 'cli2',\n",
       "  'despatchDocNo': 'des',\n",
       "  'deliveryNoteDate': '2023-02-13',\n",
       "  'despatchedThrough': 'des',\n",
       "  'destination': 'des',\n",
       "  'invTable': [{'siNo': 0,\n",
       "    'descriptionOfGoods': 'prodsku99',\n",
       "    'hsnSAC': 'hsn1',\n",
       "    'GSTRate': '9',\n",
       "    'qty': 1,\n",
       "    'rate': '988',\n",
       "    'per': 'unit',\n",
       "    'amount': '988',\n",
       "    '_id': ObjectId('63faed58f8c0a4de3b6742a1')},\n",
       "   {'siNo': 0,\n",
       "    'descriptionOfGoods': 'prodsku20',\n",
       "    'hsnSAC': 'hsn2',\n",
       "    'GSTRate': '5',\n",
       "    'qty': 1,\n",
       "    'rate': '1200',\n",
       "    'per': 'unit',\n",
       "    'amount': '1200',\n",
       "    '_id': ObjectId('63faed58f8c0a4de3b6742a2')},\n",
       "   {'siNo': 0,\n",
       "    'descriptionOfGoods': 'prodsku20',\n",
       "    'hsnSAC': 'hsn2',\n",
       "    'GSTRate': '5',\n",
       "    'qty': 2,\n",
       "    'rate': '1200',\n",
       "    'per': 'unit',\n",
       "    'amount': '2400',\n",
       "    '_id': ObjectId('63faed58f8c0a4de3b6742a3')}],\n",
       "  'totalQty': 4,\n",
       "  'totalAmount': '4857',\n",
       "  'amtChargableInWords': 'four thousand eight hundred and fifty seven only',\n",
       "  'invTaxTable': [{'hsnSAC': 'hsn1',\n",
       "    'taxableValue': '988',\n",
       "    'centralTaxRate': '4.5',\n",
       "    'centralTaxAmt': '44.46',\n",
       "    'stateTaxRate': '4.5',\n",
       "    'stateTaxAmt': '44.46',\n",
       "    '_id': ObjectId('63faed58f8c0a4de3b67429f')},\n",
       "   {'hsnSAC': 'hsn2',\n",
       "    'taxableValue': '3600',\n",
       "    'centralTaxRate': '2.5',\n",
       "    'centralTaxAmt': '90',\n",
       "    'stateTaxRate': '2.5',\n",
       "    'stateTaxAmt': '90',\n",
       "    '_id': ObjectId('63faed58f8c0a4de3b6742a0')}],\n",
       "  'totalTaxableValue': '4588',\n",
       "  'totalCentralTaxAmt': '134.46',\n",
       "  'totalStateTaxAmt': '134.46',\n",
       "  'taxAmtInWords': 'two hundred and sixty nine only',\n",
       "  'companyPAN': 'cpan',\n",
       "  'companyBankDetails': {'bankName': 'bname1',\n",
       "   'acNo': '1224',\n",
       "   'BranchIFSCode': 'ifcs2'},\n",
       "  'for': 'daf'},\n",
       " 'wareHouseReceipt': [{'imgString': 'testimg url1',\n",
       "   '_id': ObjectId('63faed58f8c0a4de3b67429c')},\n",
       "  {'imgString': 'testimg url2', '_id': ObjectId('63faed58f8c0a4de3b67429d')},\n",
       "  {'imgString': '', '_id': ObjectId('63faed58f8c0a4de3b67429e')}],\n",
       " 'salesReceipt': {'distributorName': 'company1114',\n",
       "  'distributorDetails': 'addr11',\n",
       "  'soldBy': 'sold1',\n",
       "  'date': '2023-02-15',\n",
       "  'name': 'name1a',\n",
       "  'address': 'adde1',\n",
       "  'mode': 'm1',\n",
       "  'srTable': [{'qty': 10,\n",
       "    'details': 'det1',\n",
       "    'price': '1000',\n",
       "    'amount': '10000',\n",
       "    '_id': ObjectId('63faed58f8c0a4de3b67429b')}]},\n",
       " 'orderDelivery': {'history': [{'timeStamp': '2023-02-18T12:12:39.988Z',\n",
       "    'status': 'dispatched',\n",
       "    '_id': ObjectId('63faed58f8c0a4de3b674298')},\n",
       "   {'timeStamp': '2023-02-22T11:42:28.883Z',\n",
       "    'status': 'delivered',\n",
       "    '_id': ObjectId('63faed58f8c0a4de3b674299')},\n",
       "   {'timeStamp': '2023-02-23T17:54:30.641Z',\n",
       "    'status': 'client acknowledged',\n",
       "    '_id': ObjectId('63faed58f8c0a4de3b67429a')}]},\n",
       " 'orderCancel': {'timeStamp': '2023-01-23T12:32:13.152Z',\n",
       "  'state': '',\n",
       "  'desc': ''},\n",
       " 'orderPayment': {'history': [{'timeStamp': '2023-02-18T12:13:13.857Z',\n",
       "    'amount': '100',\n",
       "    'method': 'cash',\n",
       "    'description': 'desc1',\n",
       "    '_id': ObjectId('63faed58f8c0a4de3b674296')},\n",
       "   {'timeStamp': '2023-02-23T17:54:51.015Z',\n",
       "    'amount': '567',\n",
       "    'method': 'cash',\n",
       "    'description': 'bank',\n",
       "    '_id': ObjectId('63faed58f8c0a4de3b674297')}]},\n",
       " 'createdAt': datetime.datetime(2023, 1, 23, 12, 32, 20, 243000),\n",
       " 'updatedAt': datetime.datetime(2023, 2, 26, 5, 25, 44, 253000),\n",
       " '__v': 0}"
      ]
     },
     "execution_count": 36,
     "metadata": {},
     "output_type": "execute_result"
    }
   ],
   "source": [
    "do_one_record = dlom_orders_collection.find_one()\n",
    "do_one_record"
   ]
  },
  {
   "cell_type": "code",
   "execution_count": 37,
   "id": "71d70b9c",
   "metadata": {
    "scrolled": true
   },
   "outputs": [
    {
     "data": {
      "text/plain": [
       "{'_id': ObjectId('63ce7e473cb25e08b646e2e0'),\n",
       " 'companyName': 'JJ Electronics',\n",
       " 'contactPersonName': 'John Doe',\n",
       " 'address': '  Street:  183,184, Avarampalayam Road, Sidhapudur  City:   Coimbatore  State/province/area:    Tamil Nadu    Zip code  641044  Country calling code  +91 Country  India ',\n",
       " 'gst': '37AADCS0472N1Z1',\n",
       " 'phoneNumber': '04222329232',\n",
       " 'discountRate': '5',\n",
       " 'salesPersonAssigned': 'Jim Jones',\n",
       " 'clientSocialMedia': [{'title': 'country',\n",
       "   'link': 'IND',\n",
       "   '_id': ObjectId('641c9e1037f039be4b993222')},\n",
       "  {'title': 'LinkedIN',\n",
       "   'link': 'https://www.linkedin.com/in/neel-choksi-73232719b/',\n",
       "   '_id': ObjectId('641c9e1037f039be4b993223')}],\n",
       " 'typeOfCustomer': 'potential',\n",
       " 'crm': [{'msg': 'Hoping to receive the next shipment soon.',\n",
       "   'personType': 'client',\n",
       "   'timestamp': '2023-01-29 03:09',\n",
       "   '_id': ObjectId('641ca23637f039be4b993358')},\n",
       "  {'msg': 'Definitely, the shipment is on its way.',\n",
       "   'personType': 'sp',\n",
       "   'timestamp': '2023-02-19 00:12',\n",
       "   '_id': ObjectId('641ca23637f039be4b993359')},\n",
       "  {'msg': 'Received the shipment, there are some flaws with the products.',\n",
       "   'personType': 'client',\n",
       "   'timestamp': '2023-02-19 00:12',\n",
       "   '_id': ObjectId('641ca23637f039be4b99335a')},\n",
       "  {'msg': 'Apologize for the flaws. What can I help you with SIr?',\n",
       "   'personType': 'sp',\n",
       "   'timestamp': '2023-02-23 00:12',\n",
       "   '_id': ObjectId('641ca23637f039be4b99335b')}],\n",
       " '__v': 0}"
      ]
     },
     "execution_count": 37,
     "metadata": {},
     "output_type": "execute_result"
    }
   ],
   "source": [
    "dc_one_record = dlom_clients_collection.find_one()\n",
    "dc_one_record"
   ]
  },
  {
   "cell_type": "code",
   "execution_count": 38,
   "id": "2f063230",
   "metadata": {},
   "outputs": [
    {
     "name": "stdout",
     "output_type": "stream",
     "text": [
      "<pymongo.cursor.Cursor object at 0x7f6bb3b78ee0>\n",
      "{'_id': ObjectId('63ce7e543cb25e08b646e2e8'), 'clientId': ObjectId('63ce7e473cb25e08b646e2e0'), 'salesperson': '63d57088175d4fbd6cb97e70', 'salesOrder': {'distributorName': 'company1114', 'distributorDetails': 'addr11', 'voucherNo': 'vno23', 'dated': '2023-02-08', 'modeTermsOfPayment': 'mode1', 'buyerRefOrderNo': 'buyer12', 'otherRef': 'oref2', 'invoiceTo': 'invto2', 'despatchThrough': 'despt', 'destination': 'dest', 'termsOfDelivery': 'terms', 'soTable': [{'siNo': 0, 'descriptionOfGoods': 'desc1', 'dueOn': '2023-02-22', 'qty': 100, 'rate': '100', 'per': 'unit', 'amount': '10000', '_id': ObjectId('63faed58f8c0a4de3b6742a4')}], 'totalQty': 100, 'totalAmt': '10000', 'amtInWords': 'ten thousand only'}, 'invoice': {'distributorName': 'company1114', 'distributorDetails': 'addr11', 'invoiceNo': 'inv122', 'dated': '2023-02-25', 'deliveryNote': 'delnote1', 'supplierRef': 'sref1', 'otherRef': 'orref2', 'client': 'cli2', 'despatchDocNo': 'des', 'deliveryNoteDate': '2023-02-13', 'despatchedThrough': 'des', 'destination': 'des', 'invTable': [{'siNo': 0, 'descriptionOfGoods': 'prodsku99', 'hsnSAC': 'hsn1', 'GSTRate': '9', 'qty': 1, 'rate': '988', 'per': 'unit', 'amount': '988', '_id': ObjectId('63faed58f8c0a4de3b6742a1')}, {'siNo': 0, 'descriptionOfGoods': 'prodsku20', 'hsnSAC': 'hsn2', 'GSTRate': '5', 'qty': 1, 'rate': '1200', 'per': 'unit', 'amount': '1200', '_id': ObjectId('63faed58f8c0a4de3b6742a2')}, {'siNo': 0, 'descriptionOfGoods': 'prodsku20', 'hsnSAC': 'hsn2', 'GSTRate': '5', 'qty': 2, 'rate': '1200', 'per': 'unit', 'amount': '2400', '_id': ObjectId('63faed58f8c0a4de3b6742a3')}], 'totalQty': 4, 'totalAmount': '4857', 'amtChargableInWords': 'four thousand eight hundred and fifty seven only', 'invTaxTable': [{'hsnSAC': 'hsn1', 'taxableValue': '988', 'centralTaxRate': '4.5', 'centralTaxAmt': '44.46', 'stateTaxRate': '4.5', 'stateTaxAmt': '44.46', '_id': ObjectId('63faed58f8c0a4de3b67429f')}, {'hsnSAC': 'hsn2', 'taxableValue': '3600', 'centralTaxRate': '2.5', 'centralTaxAmt': '90', 'stateTaxRate': '2.5', 'stateTaxAmt': '90', '_id': ObjectId('63faed58f8c0a4de3b6742a0')}], 'totalTaxableValue': '4588', 'totalCentralTaxAmt': '134.46', 'totalStateTaxAmt': '134.46', 'taxAmtInWords': 'two hundred and sixty nine only', 'companyPAN': 'cpan', 'companyBankDetails': {'bankName': 'bname1', 'acNo': '1224', 'BranchIFSCode': 'ifcs2'}, 'for': 'daf'}, 'wareHouseReceipt': [{'imgString': 'testimg url1', '_id': ObjectId('63faed58f8c0a4de3b67429c')}, {'imgString': 'testimg url2', '_id': ObjectId('63faed58f8c0a4de3b67429d')}, {'imgString': '', '_id': ObjectId('63faed58f8c0a4de3b67429e')}], 'salesReceipt': {'distributorName': 'company1114', 'distributorDetails': 'addr11', 'soldBy': 'sold1', 'date': '2023-02-15', 'name': 'name1a', 'address': 'adde1', 'mode': 'm1', 'srTable': [{'qty': 10, 'details': 'det1', 'price': '1000', 'amount': '10000', '_id': ObjectId('63faed58f8c0a4de3b67429b')}]}, 'orderDelivery': {'history': [{'timeStamp': '2023-02-18T12:12:39.988Z', 'status': 'dispatched', '_id': ObjectId('63faed58f8c0a4de3b674298')}, {'timeStamp': '2023-02-22T11:42:28.883Z', 'status': 'delivered', '_id': ObjectId('63faed58f8c0a4de3b674299')}, {'timeStamp': '2023-02-23T17:54:30.641Z', 'status': 'client acknowledged', '_id': ObjectId('63faed58f8c0a4de3b67429a')}]}, 'orderCancel': {'timeStamp': '2023-01-23T12:32:13.152Z', 'state': '', 'desc': ''}, 'orderPayment': {'history': [{'timeStamp': '2023-02-18T12:13:13.857Z', 'amount': '100', 'method': 'cash', 'description': 'desc1', '_id': ObjectId('63faed58f8c0a4de3b674296')}, {'timeStamp': '2023-02-23T17:54:51.015Z', 'amount': '567', 'method': 'cash', 'description': 'bank', '_id': ObjectId('63faed58f8c0a4de3b674297')}]}, 'createdAt': datetime.datetime(2023, 1, 23, 12, 32, 20, 243000), 'updatedAt': datetime.datetime(2023, 2, 26, 5, 25, 44, 253000), '__v': 0}\n",
      "{'_id': ObjectId('63cf8c6b0f0f991962134b55'), 'clientId': ObjectId('63ce7e473cb25e08b646e2e0'), 'salesperson': '', 'salesOrder': {'distributorName': 'company11146', 'distributorDetails': 'addr11', 'voucherNo': '', 'dated': '', 'modeTermsOfPayment': '', 'buyerRefOrderNo': '', 'otherRef': '', 'invoiceTo': '', 'despatchThrough': '', 'destination': '', 'termsOfDelivery': '', 'soTable': [], 'totalQty': 0, 'totalAmt': '', 'amtInWords': ''}, 'invoice': {'distributorName': 'company11146', 'distributorDetails': 'addr11', 'invoiceNo': '', 'dated': '', 'deliveryNote': '', 'supplierRef': '', 'otherRef': '', 'client': '', 'despatchDocNo': '', 'deliveryNoteDate': '', 'despatchedThrough': '', 'destination': '', 'invTable': [], 'totalQty': 0, 'totalAmount': '', 'amtChargableInWords': '', 'invTaxTable': [], 'totalTaxableValue': '', 'totalCentralTaxAmt': '', 'totalStateTaxAmt': '', 'taxAmtInWords': '', 'companyPAN': '', 'companyBankDetails': {'bankName': '', 'acNo': '', 'BranchIFSCode': ''}, 'for': ''}, 'wareHouseReceipt': [{'imgString': '', '_id': ObjectId('63f60d143df4288c08eee4ad')}], 'salesReceipt': {'distributorName': 'company11146', 'distributorDetails': 'addr11', 'soldBy': '', 'date': '', 'name': '', 'address': '', 'mode': '', 'srTable': [{'qty': 1, 'details': 'det1', 'price': '1200', 'amount': '1200', '_id': ObjectId('63f60d143df4288c08eee4ac')}]}, 'orderDelivery': {'history': [{'timeStamp': '2023-02-22T12:36:32.603Z', 'status': 'status1', '_id': ObjectId('63f60d143df4288c08eee4aa')}, {'timeStamp': '2023-02-22T12:36:42.047Z', 'status': 'status2', '_id': ObjectId('63f60d143df4288c08eee4ab')}]}, 'orderCancel': {'timeStamp': '2023-01-24T07:44:25.257Z', 'state': 'reason1', 'desc': 'desc1'}, 'orderPayment': {'history': [{'timeStamp': '2023-02-22T12:39:37.979Z', 'amount': '1200', 'method': 'cash', 'description': 'desc1', '_id': ObjectId('63f60d143df4288c08eee4a9')}]}, 'createdAt': datetime.datetime(2023, 1, 24, 7, 44, 43, 616000), 'updatedAt': datetime.datetime(2023, 2, 22, 12, 39, 48, 669000), '__v': 0}\n",
      "{'_id': ObjectId('63d247f7ef4b90ee6baa5777'), 'clientId': ObjectId('63ce7e473cb25e08b646e2e0'), 'salesperson': '', 'salesOrder': {'distributorName': 'company11146', 'distributorDetails': 'addr11', 'voucherNo': '', 'dated': '', 'modeTermsOfPayment': '', 'buyerRefOrderNo': '', 'otherRef': '', 'invoiceTo': '', 'despatchThrough': '', 'destination': '', 'termsOfDelivery': '', 'soTable': [], 'totalQty': 0, 'totalAmt': '', 'amtInWords': ''}, 'invoice': {'distributorName': 'company11146', 'distributorDetails': 'addr11', 'invoiceNo': '', 'dated': '', 'deliveryNote': '', 'supplierRef': '', 'otherRef': '', 'client': '', 'despatchDocNo': '', 'deliveryNoteDate': '', 'despatchedThrough': '', 'destination': '', 'invTable': [], 'totalQty': 0, 'totalAmount': '', 'amtChargableInWords': '', 'invTaxTable': [], 'totalTaxableValue': '', 'totalCentralTaxAmt': '', 'totalStateTaxAmt': '', 'taxAmtInWords': '', 'companyPAN': '', 'companyBankDetails': {'bankName': '', 'acNo': '', 'BranchIFSCode': ''}, 'for': ''}, 'wareHouseReceipt': [{'imgString': '', '_id': ObjectId('63f0c158119c38497d5c8c53')}], 'salesReceipt': {'distributorName': 'company11146', 'distributorDetails': 'addr11', 'soldBy': '', 'date': '', 'name': '', 'address': '', 'mode': '', 'srTable': []}, 'orderDelivery': {'history': []}, 'orderCancel': {'timeStamp': '2023-01-26T09:29:15.749Z', 'state': 'reason1', 'desc': 'desc12'}, 'orderPayment': {'history': []}, 'createdAt': datetime.datetime(2023, 1, 26, 9, 29, 27, 505000), 'updatedAt': datetime.datetime(2023, 2, 18, 12, 15, 20, 148000), '__v': 0}\n",
      "{'_id': ObjectId('63d6084c552dd4d69eee1f57'), 'clientId': ObjectId('63ce7e473cb25e08b646e2e0'), 'salesperson': '63d57048175d4fbd6cb97e68', 'salesOrder': {'distributorName': 'company1114', 'distributorDetails': 'addr11', 'voucherNo': 'vno1', 'dated': '2023-01-22', 'modeTermsOfPayment': 'mod1', 'buyerRefOrderNo': 'ref1', 'otherRef': 'oref1', 'invoiceTo': 'inv1', 'despatchThrough': 'despt1', 'destination': 'dest1', 'termsOfDelivery': 'terms1', 'soTable': [{'siNo': 0, 'descriptionOfGoods': 'desc1', 'dueOn': '2023-01-31', 'qty': 2, 'rate': '10', 'per': 'unit', 'amount': '20', '_id': ObjectId('63fa1deb0613abd661379865')}], 'totalQty': 2, 'totalAmt': '20', 'amtInWords': 'twenty only'}, 'invoice': {'distributorName': 'company1114', 'distributorDetails': 'addr11', 'invoiceNo': 'inv1', 'dated': '2023-01-29', 'deliveryNote': 'dnot1', 'supplierRef': 'sup ref1', 'otherRef': 'otherr ref1', 'client': 'client1', 'despatchDocNo': 'doc1', 'deliveryNoteDate': '2023-01-30', 'despatchedThrough': 'despth1', 'destination': 'ddest1', 'invTable': [{'siNo': 0, 'descriptionOfGoods': 'desc1', 'hsnSAC': 'hsn1', 'GSTRate': '8', 'qty': 5, 'rate': '5', 'per': 'unit', 'amount': '25', '_id': ObjectId('63fa1deb0613abd661379864')}], 'totalQty': 5, 'totalAmount': '27', 'amtChargableInWords': 'twenty seven only', 'invTaxTable': [{'hsnSAC': 'hsn1', 'taxableValue': '25', 'centralTaxRate': '4', 'centralTaxAmt': '1', 'stateTaxRate': '4', 'stateTaxAmt': '1', '_id': ObjectId('63fa1deb0613abd661379863')}], 'totalTaxableValue': '25', 'totalCentralTaxAmt': '1', 'totalStateTaxAmt': '1', 'taxAmtInWords': 'two only', 'companyPAN': 'cpan1', 'companyBankDetails': {'bankName': 'bname1', 'acNo': 'ac112', 'BranchIFSCode': 'ead2132'}, 'for': 'this '}, 'wareHouseReceipt': [{'imgString': '', '_id': ObjectId('63fa1deb0613abd661379862')}], 'salesReceipt': {'distributorName': 'company1114', 'distributorDetails': 'addr11', 'soldBy': 'soldby1', 'date': '2023-01-30', 'name': 'name1', 'address': 'addr1', 'mode': 'mode1', 'srTable': [{'qty': 10, 'details': 'det1', 'price': '500', 'amount': '5000', '_id': ObjectId('63fa1deb0613abd661379861')}]}, 'orderDelivery': {'history': [{'timeStamp': '2023-01-29T08:33:55.295Z', 'status': 'entry1', '_id': ObjectId('63fa1deb0613abd66137985f')}, {'timeStamp': '2023-01-29T08:34:03.854Z', 'status': 'entry2', '_id': ObjectId('63fa1deb0613abd661379860')}]}, 'orderCancel': {'timeStamp': '2023-01-29T05:40:51.542Z', 'state': '', 'desc': ''}, 'orderPayment': {'history': [{'timeStamp': '2023-02-22T11:46:26.180Z', 'amount': '15', 'method': 'cash', 'description': 'desc1', '_id': ObjectId('63fa1deb0613abd66137985e')}]}, 'createdAt': datetime.datetime(2023, 1, 29, 5, 46, 52, 235000), 'updatedAt': datetime.datetime(2023, 2, 25, 14, 40, 43, 215000), '__v': 0}\n",
      "{'_id': ObjectId('63de815bf820f95e82ddee96'), 'clientId': ObjectId('63ce7e473cb25e08b646e2e0'), 'salesperson': '63d57088175d4fbd6cb97e70', 'salesOrder': {'distributorName': 'company1114', 'distributorDetails': 'addr11', 'voucherNo': '', 'dated': '', 'modeTermsOfPayment': '', 'buyerRefOrderNo': '', 'otherRef': '', 'invoiceTo': 'addr1', 'despatchThrough': '', 'destination': '', 'termsOfDelivery': '', 'soTable': [], 'totalQty': 0, 'totalAmt': '', 'amtInWords': ''}, 'invoice': {'distributorName': 'company1114', 'distributorDetails': 'addr11', 'invoiceNo': 'inv554', 'dated': '', 'deliveryNote': '', 'supplierRef': '', 'otherRef': '', 'client': '', 'despatchDocNo': '', 'deliveryNoteDate': '', 'despatchedThrough': '', 'destination': '', 'invTable': [{'siNo': 0, 'descriptionOfGoods': 'prodsku99', 'hsnSAC': 'hsn1', 'GSTRate': '9', 'qty': 1, 'rate': '988', 'per': 'unit', 'amount': '988', '_id': ObjectId('63fa4ff4d7d738df1c63de2d')}], 'totalQty': 1, 'totalAmount': '1077', 'amtChargableInWords': 'one thousand and seventy seven only', 'invTaxTable': [{'hsnSAC': 'hsn1', 'taxableValue': '988', 'centralTaxRate': '4.5', 'centralTaxAmt': '44.46', 'stateTaxRate': '4.5', 'stateTaxAmt': '44.46', '_id': ObjectId('63fa4ff4d7d738df1c63de2c')}], 'totalTaxableValue': '988', 'totalCentralTaxAmt': '44.46', 'totalStateTaxAmt': '44.46', 'taxAmtInWords': 'eighty nine only', 'companyPAN': '', 'companyBankDetails': {'bankName': '', 'acNo': '', 'BranchIFSCode': ''}, 'for': ''}, 'wareHouseReceipt': [{'imgString': '', '_id': ObjectId('63fa4ff4d7d738df1c63de2b')}], 'salesReceipt': {'distributorName': 'company1114', 'distributorDetails': 'addr11', 'soldBy': '', 'date': '', 'name': '', 'address': '', 'mode': '', 'srTable': []}, 'orderDelivery': {'history': []}, 'orderCancel': {'timeStamp': '2023-02-04T16:01:19.998Z', 'state': '', 'desc': ''}, 'orderPayment': {'history': []}, 'createdAt': datetime.datetime(2023, 2, 4, 16, 1, 31, 499000), 'updatedAt': datetime.datetime(2023, 2, 25, 18, 14, 12, 174000), '__v': 0}\n",
      "{'_id': ObjectId('63f0bf71119c38497d5c89dd'), 'clientId': ObjectId('63de7c32f820f95e82ddee53'), 'salesperson': '63d57088175d4fbd6cb97e70', 'salesOrder': {'distributorName': 'company1114', 'distributorDetails': 'addr11', 'voucherNo': '', 'dated': '', 'modeTermsOfPayment': '', 'buyerRefOrderNo': '', 'otherRef': '', 'invoiceTo': '', 'despatchThrough': '', 'destination': '', 'termsOfDelivery': '', 'soTable': [], 'totalQty': 0, 'totalAmt': '', 'amtInWords': ''}, 'invoice': {'distributorName': 'company1114', 'distributorDetails': 'addr11', 'invoiceNo': 'inv122', 'dated': '', 'deliveryNote': '', 'supplierRef': '', 'otherRef': '', 'client': '', 'despatchDocNo': '', 'deliveryNoteDate': '', 'despatchedThrough': '', 'destination': '', 'invTable': [{'siNo': 0, 'descriptionOfGoods': 'prodSKU3', 'hsnSAC': 'hsn1', 'GSTRate': '5', 'qty': 2, 'rate': '4001', 'per': 'unit', 'amount': '8002', '_id': ObjectId('63fa46610613abd661379de5')}], 'totalQty': 2, 'totalAmount': '8402', 'amtChargableInWords': 'eight thousand four hundred and two only', 'invTaxTable': [{'hsnSAC': 'hsn1', 'taxableValue': '8002', 'centralTaxRate': '2.5', 'centralTaxAmt': '200.05', 'stateTaxRate': '2.5', 'stateTaxAmt': '200.05', '_id': ObjectId('63fa46610613abd661379de4')}], 'totalTaxableValue': '8002', 'totalCentralTaxAmt': '200.05', 'totalStateTaxAmt': '200.05', 'taxAmtInWords': 'four hundred only', 'companyPAN': '', 'companyBankDetails': {'bankName': '', 'acNo': '', 'BranchIFSCode': ''}, 'for': ''}, 'wareHouseReceipt': [{'imgString': '', '_id': ObjectId('63fa46610613abd661379de3')}], 'salesReceipt': {'distributorName': 'company1114', 'distributorDetails': 'addr11', 'soldBy': '', 'date': '', 'name': '', 'address': '', 'mode': '', 'srTable': []}, 'orderDelivery': {'history': []}, 'orderCancel': {'timeStamp': '2023-02-18T12:06:32.504Z', 'state': '', 'desc': ''}, 'orderPayment': {'history': []}, 'createdAt': datetime.datetime(2023, 2, 18, 12, 7, 13, 860000), 'updatedAt': datetime.datetime(2023, 2, 25, 17, 33, 21, 496000), '__v': 0}\n",
      "{'_id': ObjectId('63fa4c7fd7d738df1c63dd2f'), 'clientId': ObjectId('63e47a71f39019447bec4817'), 'salesperson': '63d57048175d4fbd6cb97e68', 'salesOrder': {'distributorName': 'company1114', 'distributorDetails': 'addr11', 'voucherNo': '', 'dated': '', 'modeTermsOfPayment': '', 'buyerRefOrderNo': '', 'otherRef': '', 'invoiceTo': 'addr test1', 'despatchThrough': '', 'destination': '', 'termsOfDelivery': '', 'soTable': [], 'totalQty': 0, 'totalAmt': '', 'amtInWords': ''}, 'invoice': {'distributorName': 'company1114', 'distributorDetails': 'addr11', 'invoiceNo': 'in668', 'dated': '', 'deliveryNote': '', 'supplierRef': '', 'otherRef': '', 'client': '', 'despatchDocNo': '', 'deliveryNoteDate': '', 'despatchedThrough': '', 'destination': '', 'invTable': [{'siNo': 0, 'descriptionOfGoods': 'prodsku20', 'hsnSAC': 'hsn2', 'GSTRate': '5', 'qty': 2, 'rate': '1200', 'per': 'unit', 'amount': '2400', '_id': ObjectId('63fa504bd7d738df1c63df78')}], 'totalQty': 2, 'totalAmount': '2520', 'amtChargableInWords': 'two thousand five hundred and twenty only', 'invTaxTable': [{'hsnSAC': 'hsn2', 'taxableValue': '2400', 'centralTaxRate': '2.5', 'centralTaxAmt': '60', 'stateTaxRate': '2.5', 'stateTaxAmt': '60', '_id': ObjectId('63fa504bd7d738df1c63df77')}], 'totalTaxableValue': '2400', 'totalCentralTaxAmt': '60', 'totalStateTaxAmt': '60', 'taxAmtInWords': 'one hundred and twenty only', 'companyPAN': '', 'companyBankDetails': {'bankName': '', 'acNo': '', 'BranchIFSCode': ''}, 'for': ''}, 'wareHouseReceipt': [{'imgString': '', '_id': ObjectId('63fa504bd7d738df1c63df76')}], 'salesReceipt': {'distributorName': 'company1114', 'distributorDetails': 'addr11', 'soldBy': '', 'date': '', 'name': '', 'address': '', 'mode': '', 'srTable': []}, 'orderDelivery': {'history': []}, 'orderCancel': {'timeStamp': '2023-02-25T17:59:07.674Z', 'state': '', 'desc': ''}, 'orderPayment': {'history': []}, 'createdAt': datetime.datetime(2023, 2, 25, 17, 59, 27, 970000), 'updatedAt': datetime.datetime(2023, 2, 25, 18, 15, 39, 687000), '__v': 0}\n",
      "{'_id': ObjectId('641cc5f237f039be4b9934cc'), 'clientId': ObjectId('63e47a71f39019447bec4817'), 'salesperson': '63d57048175d4fbd6cb97e68', 'salesOrder': {'distributorName': 'BRB Electronics Distributor', 'distributorDetails': 'BSCIC Industrial Estate, Fort, Mumbai 40001', 'voucherNo': 'vno88092', 'dated': '', 'modeTermsOfPayment': 'cash', 'buyerRefOrderNo': 'ord55604', 'otherRef': 'other3323', 'invoiceTo': 'Decathlon Andheri West  48, Veera Desai Rd, Azad Nagar 2, Jeevan Nagar, Azad Nagar, Andheri West, Mumbai, Maharashtra 400102', 'despatchThrough': 'road', 'destination': 'Mumbai', 'termsOfDelivery': '60 day payment', 'soTable': [{'siNo': 0, 'descriptionOfGoods': 'headphone', 'dueOn': '2023-03-27', 'qty': 5, 'rate': '4001', 'per': 'unit', 'amount': '20005', '_id': ObjectId('641cd20f37f039be4b993ff9')}, {'siNo': 0, 'descriptionOfGoods': 'keyboard', 'dueOn': '2023-03-27', 'qty': 1, 'rate': '1200', 'per': 'unit', 'amount': '1200', '_id': ObjectId('641cd20f37f039be4b993ffa')}], 'totalQty': 6, 'totalAmt': '21205', 'amtInWords': 'twenty one thousand two hundred and five only'}, 'invoice': {'distributorName': 'BRB Electronics Distributor', 'distributorDetails': 'BSCIC Industrial Estate, Fort, Mumbai 40001', 'invoiceNo': 'inv7985', 'dated': '2023-03-27', 'deliveryNote': 'delivered through FedEx', 'supplierRef': 'suppl4531', 'otherRef': 'other1214', 'client': 'Decathlon Electronics', 'despatchDocNo': 'doc1443', 'deliveryNoteDate': '2023-03-27', 'despatchedThrough': 'road', 'destination': 'Mumbai', 'invTable': [{'siNo': 0, 'descriptionOfGoods': 'prodSKU3', 'hsnSAC': 'hsn1', 'GSTRate': '5', 'qty': 5, 'rate': '4001', 'per': 'unit', 'amount': '20005', '_id': ObjectId('641cd20f37f039be4b993ff7')}, {'siNo': 0, 'descriptionOfGoods': 'prodsku20', 'hsnSAC': 'hsn1', 'GSTRate': '5', 'qty': 1, 'rate': '1200', 'per': 'unit', 'amount': '1200', '_id': ObjectId('641cd20f37f039be4b993ff8')}], 'totalQty': 6, 'totalAmount': '22265', 'amtChargableInWords': 'twenty two thousand two hundred and sixty five only', 'invTaxTable': [{'hsnSAC': 'hsn1', 'taxableValue': '21205', 'centralTaxRate': '2.5', 'centralTaxAmt': '530.125', 'stateTaxRate': '2.5', 'stateTaxAmt': '530.125', '_id': ObjectId('641cd20f37f039be4b993ff6')}], 'totalTaxableValue': '21205', 'totalCentralTaxAmt': '530.125', 'totalStateTaxAmt': '530.125', 'taxAmtInWords': 'one thousand and sixty only', 'companyPAN': 'ABCTY1234D', 'companyBankDetails': {'bankName': 'SBI Bank', 'acNo': '32104561034', 'BranchIFSCode': 'SBIN0014370'}, 'for': 'Decathlon Electronics'}, 'wareHouseReceipt': [{'imgString': 'data:image/jpeg;base64,/9j/4AAQSkZJRgABAQAAAQABAAD/2wCEAAoHCBEVEhUSFRcSGRgZHBkaGRwYGhUdHBgaGhoZHhwYHBkfLDAlHB4rHxgcJjgnLS8xNTY1GiY7QD0zPy40NTEBDAwMEA8QGBISGjYrJCsxNDc/PjY/Oj8/NzQxOz4/Pzc6QD8xNzs4PTE3MzU0OD8/ND0xQDExND06ODQ4NTYxNf/AABEIALMBGQMBIgACEQEDEQH/xAAbAAEBAAMBAQEAAAAAAAAAAAAABAIDBQYBB//EAD4QAAEDAgMEBggGAgIBBQAAAAEAAhEDIQQSMQUTQVEiMlJhcZEVU4GSocHR0gYUI0Jyk2KxovBDJDNjs8L/xAAXAQEBAQEAAAAAAAAAAAAAAAAAAQID/8QAHREBAQACAgMBAAAAAAAAAAAAAAECERJBAyExwf/aAAwDAQACEQMRAD8A/W0RFUEREBERAREQEREBERAREQEREBERAREQEREBERAREQEREBERAREQEREBERAREQZUxJW3dt5L8p29t3EvxuNpCtiKQw1J76TKRDQ51NgcXVHauBkQIgg8Iv3dkfiTHVNn4XENp7xxdUFXKwkvZSFQywAgNc4sDRwzGANAuuXgykl39/W7jZNvc7sck3Y5LybfxFi34imxuHeynD85eyobjdlpa5ogNIc6DcmDIbF/R4DEmo3MWubciHSDbiQR/wBEeA4W6vG/S4WYzLpVu28k3beSxr1MrXO7IJ5aCVyztpubLl4kT0YsYmZ04qsutu28k3beS5DNuAkDK4TaTEDxIPxW4bUZnLS+iIAMl4ggkxHfa/iEHR3beSbtvJcQfiJkTldpMdGdJy6xPDVbae3KZY5/RGXVrnBriAJ6IOqDrbtvJN23kuPU28xpIsYi7ekDIBsRrrHsWLvxA0ftd7AD80Ha3beSbtvJc+htVjgSS2QA4DM2SHTAgkQ7omx7vZRhca14tY36JLc1uMAmyDKvDQPFYNK+bSPRb4/IrCjoqjc3ULdkHJaW6jxWjbVaszD1HURNQDoCC6TIGguVO9LFu7HJN2OS8di/xFjgwMbhagqB7WueW1HNIbUY17mta3i0ucJIEQQXGQvRbOxj3ktcxwgNOYhwDiReAQIjiCpleNkvbfC8eXTobtvJN23ks1w8TtWo1zminUcASJaxpFnERLntJNp0i6rDs7tvJN23kvPu25VH/iqnTRlPiBIvU1Ex7FY3aZ6AMDPzaRk6JJDhJBPCzvNB1N23km7byXHrbYe1xAZUcAYBa2nDrTIl4PdcDRZYfar3Oc0tLIzQ57W5XQYEFrib66IOtu28k3beS47tsGxDSbuBDQ12UtgXJc2QTMQNBwWv047Xd1PdpT/9nsQdzdt5Ju28lycHtbOQHNLJMdLKDOUumA5wIsRMi8WPCyjjWucWkFsRBcWQ6eAgkoN9UANJWhrpW7F9R3gpMObIjeiIqCIiDkbU/CuBxTxUr0g54EZg57SQNA4tIzDxXbw2HZTY2mxrWtaAGgCAANAAvlLVcb8S0abnUS46Zv3ZejLJv4gJcrdS30u69Ai8OMJTJ1qE3g7w5ui0DmdA099oXoMBiqVJopurBxABbIMhpAIE8Rrc/JQdaoyWkHiCPNT1sGHCHOcRp+0WMch3BbMLiqdQZmODhzC4v4losc6iXkWLv3ZTHRzGfYNLoOg3ZNMEOBfIiCXExl018FR+XuXZnyQAeroJjh3leO/JU3As6V5gZ9SAeBJ5E6cPLubKdhqALd4C52VxmbCLRwjW/wBEFrdlsAjNVgTEvcdRB17lq/8ATMzUzWa0mzmue2bgWh1xYjzV2GxdOoCWODgOSlq4BrqheXv1BLQ94AgAaNcO46IMDicM6G/mGGNAH05v4aqgYFoghz7Gety/3ouLWw4aXQ58B5Eb2sCBEa6ix4SLdy2U2kgdGs6x6QrYntC1hFpPfY96DuGgLklxmOMdUkiIjiUoUGtBDZvzc48AOJPABZUmw0C9gBcknTiTcnvK2oItpdVv8vkVhR0We0uq3+XyKwo6Ijc3UeK3VajWtLnEBoEknQAcVpbqPFa9q5t07LM2NjFpuig2phjIFWkcsEw9pidNCvrdp4YkAVaMnQZ2SfZK8zQoVXGG0nToYNGw0k9LS+mvcqfRdYC1MWkiCwXN+epPFB3PSuG9dR99nOOfNKQp1GnI8ObJnKWubMzE34mV59mCxJIBovbJNy6jEwbmHE8Edg8cxri2AB0obaYEAGHi8ACeQQdw7Gw+uUeTeNuSp/Kjow5wy9Xq2tGkclwaVLGuYCC+T/kI15Z/mparse14Y4u4XB4ExP8A7lr9xQehdsumS4mSX9bq9LTUR3BZUdnsa8vaSHGZPRk5jJ4cwuPiMPjsrsu8mLfqD7h/tasHhsf0s+94RL29/J7u7kg9EMKILczoJJI6NyTJ4c1r9G0+/wAm/ReedT2lNmv95und+pr5exbjTxwjoVjYSQ9gvxEF/wBUHoGUIy3dDdB0YFiOA5FKWFY05mggxGrja3AnuC4Ro43LOWrPZ3jJ8JzR8Vo3uKDwwtrAmP3sIExrDu9B6XF9R3go8NorMX1HeCjw2iIoREVBERBnR1Ss+oCAxrHc8zy0j2BrpSjquTt91EObvKDKhIhpc+k03J6IzkfDmFFdHfV7dCjfT9V1/wDgvufEero/2v8AsXnTUwdmjD0SCZgVMPOaOILhyA+i2YSlQJD6WCaYg5mOoS17XZgDDu5pkTrBQd7PiPV0f7X/AGJnxHq6P9r/ALFlhKz3g5qb2RpmLDPeMpPxVSCPPiPV0f7X/YmfEero/wBr/sWVfHUWEh72NIgnMQIB0PwW6nVa6cpBgwY5jggnz4j1dH+1/wBim/L1cxfkYHGJivVAtoIyRHcuqiDjvwVQkuNOnJuf16vHl0bKpprgQKdEDuqPH/4VyII8+I9XR/tf9iZ8R6uj/a/7FYiCLaXVb/L5FYUdFntLqt/l8isKOiI3jUL5jMPvGFmZzZ4tyz/yBHmF+dfj7EVDj8LQe+kzDua5xNZxbSc8Z8xfBbnLQGlrSQCXDgSqvwdtCq+jjm60GVslHpF4a1xOam14NwG5TYmMy63x2Yctt8fW3q6GwQyIrVyRMO/SDrzbotA48lR6Nf6/Ee8z7V5hj2ienVOfonM+u6YER0jrfQ/JbpcCHF1axDoNSuR0b3BdcW0XJl33bLcYJr4ixkXZyI7PevlXZJc0tNfEQRBuz5theaY9phrX19IEVcSNAeToHFV0tr16TCBTeQCTLiHGLnUvmOEeCDts2W4CBXxHmz5NUzvw9L94cRiSe/cdoECck2gDXQc7qZu265aHBrfCL+cx8VpP4jrBwaWQZi4b910Ha9Gv9fiPeZ9qejXevxHmz7Vy6+2q7WOcGtJAt0T/AKkf7WrBbexD80inaIhp7+Tzy7kHZ9Gv9fiPeZ9qejXevxHmz7VxHfiWqLZP+Px1/wC8YW47eqCJyCQDBa7j4GEHV9Gu9fiPNn2qRv4fh+8OIxJda53F4PEhk/FaDturlzdCNZyu+qxbt95IHQkxHRdxQd/F9R3go8NorMX1HeCjw2iIoREVBERBnR1UW1auIaW7oMM9pj3QZ1lptw4c7q2jqscSawI3Ypkcc7nDygFRXJ/N4nMIYwHS9Ktbn0haOqdfKFtw9XGvBIFBsSOkyq2TOovpEX5gqtz8VaGUNLzUeIOXTqGRm42twWIqYueph4vpUfyMfs5x5nlcKcLvYO9yZptkzREDWeMz8FSp8Kahb+oGNdya4uEcLkD/AEqEE2LrBrcxY994hrcx0N45fVZYevmBOVzYJEOEExxA5LViH4gOhjaZbAu57gZvNg0204rdQL4OcNBkwGkm3CSQLoNyIiAiIgIiIItpdVv8vkVhR0We0uq3+XyKwo6IjDGYGjWaGVWU3tkHK9rXCecHQrY/ZtPc7hgFJkQBTaxoaOQbBb8FtbqPFVJu60rjYfYmTStWm9/0gTJmOi0W+io9HP8AX1/Nn2rorVVnKcsZoMTJE8JA1CCI7Ndb9eva+rORHZ70ds1xEb+v5s+1YMGO4nDaO0bUEHL0DrcZtRaxtpJZcffpYTW3Qq6X1GbXT4oPtPZbmgAV6/mznPBq0V9hl7g44jE2iB+iRZwM3YTwHHgqsIMXn/VOHLIPUa8Om0dYkRr8Pb0UHO9HP9fX82fano5/r6/mz7V0UQc70c/19fzZ9qejn+vr+bPtWzHDE9HcmiNc28DzyiMpHf8ABUUs2VuaM0DNExMXibxKCP0c/wBfX82fapqmwy54qHEYiRED9EixnUsnXvXRxW9hu7yTm6WaerBsI0M5fZKmo/m56Rw8S2crakxPSFzrEQfgUFeL6jvBR4bRWYvqO8FHhtERQiIqCIiDOjqvtUvHVaw/ycW39jSvlHVc/adJ5qAta4jLqCRcF1rNPAz7Aoq3PiOxS/sd9i+l9e8Mpd36jvsXFNGpEw86GIcBEyROTX2aLZSw1RxIAIg3zEtDtRb9NB1s9fsU/wCx32KpcR2zq3Me/wDHqJ6OrHUt7+n3ASBk146oO0ihDWUGvqOecgGZxdlhrWgkmQOV1wMF+OKD3U81OuynVdkpVXhmR7iSGggOLmZoMFwEweS1MbZuRZLXrkXF2q5wqNg1BYdXPl1OsOAnxHL2S4TEVWjV5kx021HxfSHP+M8FlHpEXEG0a2pA423ZmJtcOIJ8l8dtCsOHZ/8AGeMTo+3laUHcRcVuPrmIDTP/AMZtpfrwRE8eCuwdfMDJBOohj220uHcZB+iD5tLqt/l8isKOiz2l1W/y+RWFHREbm6jxVSlbqPFVIoiIgIiICIiAiIgIiICIiDRi+o7wUeG0VmL6jvBR4bREUIiKgiIgzo6qhT0dVQooiIgIvixzjmPMII9sYBuIw9XDuJAqMcyRqMwIn2L862f+BsZlo4ao3DspU6zaz6jHvcahaCOiw9QuBAdoOiDwg/qOccx5hM7eY8wumHlyxlkamVnxy9pYdzngtYTDdQKZ4m0uv5c1H+ReTO6AAgiWUOYkWP0sDeYC9BmHMeaZxzHmFzZefGAfxpTeZy0DNhaZ11v8Sh2e/MTu736QZQ1Jg/Az4L0GYcx5rNBwKWzXumQGkRGZlKecgtBXTwOGDARFMG0lrQ3N3mNTMqxEEW0uq3+XyKwo6LPaXVb/AC+RWFHREbm6jxVSlbqPFVIoiIgIiICIiAiIgIiICIiDRi+o7wUeG0VmL6jvBR4bREUIiKgiIgzo6qfa1UsYHDNMgdGeM8FRR1U+0doUaRaKgdDpghj3AEQL5QY63+1FcoYuqTAL7gxEm8SLDW1pEhXYGo4mHivJnrBwaInUjw+Kwbt/CZssvBGn6VYaibdHz5LN238MADmfDpginV/aQDPRtrbmAY0QQ13YlrcxAyntvNxlvMOidfYue94khrcLfSSJImwMOtB/6F6PBYrD1SW0xdoaSCxzYDpA6wA/abDkvtfE4dji1xa0gTcEWAJJBiCAASggGDa1wbuXXyzAog9V0gHNpLQeet+C5THy7K6nRN+lBbqbHV3s9q9C3aOEOjmHjYE6T3cJPxX04/C36TLGDY63tpqYPig8/h87nNApUzJAOXLMccoLo6pME2+KtqYNzhDaDZsHB26AI6YJs49LTuiQui3aOEiQ5pEE2af2gEjTWDpqqcOaVRuZmmlg5undbmg802m5pDm08M0t6sOYCDPAg9HQ6ToujhHYgkOcDlzAAteCDLg0z0uF7i8ga3B7P5dvI+bk3DOXfqeF0GW5H+XvO+qbkf5e876raiCLaXVb/L5FYUdFntLqt/l8isKOiI3N1HiqlK3UeKqRXmTj6/SgYYwYFmWtqen4WstbcfiTaMNNzOVvLSN5Y2PFdqns5skuc5wOglwjUag962HAUySYff8AzqfWyCRu0qVgWAE99HlNulf2L4Nosid1aYkGiRxI0drCu/Ismen77/qvjsDTIgh3vv4T396CEbSpwTuz50NLgmztAY8wvp2pR4sAtPSNEWmO17VZ+Qp8ncf3v4iCddb/ABQ4CmREP9+pPPWUEY2nSi7ADxGajbn+5ffSFKXAsAI76VwNdDbjryVhwNM3h3vP+qDA0xwd77/r3IJPz9Ow3Ym461DUcOssW7RpH9kWPGlExpZ062058FZ+Qp8ne/U+t1kcFT0h3vP7xz70EPpFlv0hef3UJjhbNeTZbsLiqb3ZcoHK9MyYmBBJ0uqG4GmIgOtp03/VZUcM1k5c14F3OdoSf3E8yg+4vqO8FHhtFZi+o7wUeG0RFCIioIiIM6OqoU9HVZ1arWjM5waOZIAUV9dVaDBc0HvIWP5hnaZ7wU1QYaoelunkTrldprPl8E/KYZsOyUW21hos48+8nzKCvfM7TfMLH8wzts94LSyhhzIa2keYAadea1bjCC2WgI4dARCCv8wztM94J+YZ2me8Fo/IYcw4U6RsIOVug0vyusvR9CI3dKOWVqDb+ZZ2me8Fkyo03BB8CCuOcXs8WmhbUBoOWLkkAWgi5/xPIrPCbUwIzCm+m25c8NBaQYu5wiRyvxEahB2UXK9PYWSM9wAT0X2BEibceHM21WXpvC2/Vp3mL6wXA+Raf+kIOmi1Uagc1rhcOAIsRYiRY6Lagi2l1W/y+RWFHRZ7S6rf5fIrCjoiNzdR4qpSt1HiqkUREQEREBERAREQEREBERBoxfUd4KPDaKzF9R3go8NoiKERFQREQZ0dVHtSlVJYWBxiZykjlFs7QfbPsVlHVRbe2V+Zo7rNk6TXTGbqmYiRqoqNmEr3BDyNbPeCRPVDt4bwdSAJBXRZXqNGUUahA06VMk31kuXnD+COkTv9QRGTmah7X+fwWWH/AAUGVGP3s5N3/wCMCd25rgJzWnL7JQetpmwJEGNLW7rLLKFkiDmbYbiS1u4MG89Xujre1dBkwJ1i6zRBw6VPEtMta4m4OZ2YR0dAalrg+fnSytXaSHUy4c25GxcjQvJMiD7ea6aIJ8PVe6czHM5SWGfdJW9fUQEREEW0uq3+XyKwo6LPaXVb/L5FYUdERubqPFVKVuo8VUiiIiAiIgIiICIiAiIgIiINGL6jvBR4bRWYvqO8FHh9ERQiIqCIiD6HEaLS+rU4H4BbV8hBPvqva+Dfom+q9r4N+ioyplQT76r2vg36Jvqva+DfoqMqZUE++q9r4N+ib6r2vg36KjKmVBPvqva+Dfom+q9r4N+ioyplQT76r2vg36Jvqva+DfoqMqZUE++q9r4N+ib6r2vg36KjKmVBK4vdAcZjuHyVFNsLLKvqAtdSo/gT5BbEIQTb2r2j5N+i+b2r2j5N+ipyplQTb2r2j5N+ib2r2j5N+ipyplQTb2r2j5N+ib2r2j5N+ipyplQTb2r2j5N+ib2r2j5N+ipyplQTb2r2j5N+ib2r2j5N+ipyplQTb2r2j5N+ib2r2j5N+ipyplQTOdUIguJB7gttFkLZlX2EBERAREQEREBERAREQEREBERAREQEREBERAREQEREBERAREQEREBERAREQEREBERB/9k=', '_id': ObjectId('641cd20f37f039be4b993ff5')}], 'salesReceipt': {'distributorName': 'BRB Electronics Distributor', 'distributorDetails': 'BSCIC Industrial Estate, Fort, Mumbai 40001', 'soldBy': 'Decathlon Electronics', 'date': '2023-03-24', 'name': 'Hitesh Chowdhary', 'address': 'Decathlon Andheri West  48, Veera Desai Rd, Azad Nagar 2, Jeevan Nagar, Azad Nagar, Andheri West, Mumbai, Maharashtra 400102', 'mode': 'cash', 'srTable': [{'qty': 1, 'details': 'headphone', 'price': '5000', 'amount': '5000', '_id': ObjectId('641cd20f37f039be4b993ff3')}, {'qty': 1, 'details': 'keyboard', 'price': '1200', 'amount': '1200', '_id': ObjectId('641cd20f37f039be4b993ff4')}]}, 'orderDelivery': {'history': [{'timeStamp': '2023-03-23T22:19:43.529Z', 'status': 'packing', '_id': ObjectId('641cd20f37f039be4b993fef')}, {'timeStamp': '2023-03-23T22:19:57.564Z', 'status': 'shipped', '_id': ObjectId('641cd20f37f039be4b993ff0')}, {'timeStamp': '2023-03-23T22:20:05.988Z', 'status': 'delivered', '_id': ObjectId('641cd20f37f039be4b993ff1')}, {'timeStamp': '2023-03-23T22:20:22.959Z', 'status': 'acknowledged', '_id': ObjectId('641cd20f37f039be4b993ff2')}]}, 'orderCancel': {'timeStamp': '2023-03-23T21:30:24.655Z', 'state': '', 'desc': ''}, 'orderPayment': {'history': [{'timeStamp': '2023-03-23T22:20:32.461Z', 'amount': '5000', 'method': 'cash', 'description': 'UPI Transaction ID : 654156789105', '_id': ObjectId('641cd20f37f039be4b993fed')}, {'timeStamp': '2023-03-23T22:26:04.035Z', 'amount': '1200', 'method': 'cash', 'description': 'collected by Jim Jones', '_id': ObjectId('641cd20f37f039be4b993fee')}]}, 'createdAt': datetime.datetime(2023, 3, 23, 21, 34, 42, 95000), 'updatedAt': datetime.datetime(2023, 3, 23, 22, 26, 23, 373000), '__v': 0}\n"
     ]
    }
   ],
   "source": [
    "do_all_records = dlom_orders_collection.find()\n",
    "print(do_all_records)\n",
    "for row in do_all_records:\n",
    "    print(row)"
   ]
  },
  {
   "cell_type": "code",
   "execution_count": 39,
   "id": "1876ffd4",
   "metadata": {
    "scrolled": true
   },
   "outputs": [
    {
     "name": "stdout",
     "output_type": "stream",
     "text": [
      "<pymongo.cursor.Cursor object at 0x7f6bb3b78490>\n",
      "{'_id': ObjectId('63ce7e473cb25e08b646e2e0'), 'companyName': 'JJ Electronics', 'contactPersonName': 'John Doe', 'address': '  Street:  183,184, Avarampalayam Road, Sidhapudur  City:   Coimbatore  State/province/area:    Tamil Nadu    Zip code  641044  Country calling code  +91 Country  India ', 'gst': '37AADCS0472N1Z1', 'phoneNumber': '04222329232', 'discountRate': '5', 'salesPersonAssigned': 'Jim Jones', 'clientSocialMedia': [{'title': 'country', 'link': 'IND', '_id': ObjectId('641c9e1037f039be4b993222')}, {'title': 'LinkedIN', 'link': 'https://www.linkedin.com/in/neel-choksi-73232719b/', '_id': ObjectId('641c9e1037f039be4b993223')}], 'typeOfCustomer': 'potential', 'crm': [{'msg': 'Hoping to receive the next shipment soon.', 'personType': 'client', 'timestamp': '2023-01-29 03:09', '_id': ObjectId('641ca23637f039be4b993358')}, {'msg': 'Definitely, the shipment is on its way.', 'personType': 'sp', 'timestamp': '2023-02-19 00:12', '_id': ObjectId('641ca23637f039be4b993359')}, {'msg': 'Received the shipment, there are some flaws with the products.', 'personType': 'client', 'timestamp': '2023-02-19 00:12', '_id': ObjectId('641ca23637f039be4b99335a')}, {'msg': 'Apologize for the flaws. What can I help you with SIr?', 'personType': 'sp', 'timestamp': '2023-02-23 00:12', '_id': ObjectId('641ca23637f039be4b99335b')}], '__v': 0}\n",
      "{'_id': ObjectId('63de7c32f820f95e82ddee53'), 'companyName': 'Star Bazaar', 'contactPersonName': 'Hitesh Chowdhary', 'address': 'Star Market, Aarambh Shreeji, Near Mcdonald, Mira Road (East), Mumbai - 401107, Maharashtra, India ', 'gst': '37AADCS0472N2Z0', 'phoneNumber': '9029002233', 'discountRate': '7', 'salesPersonAssigned': 'Jim Jones', 'clientSocialMedia': [{'title': 'country', 'link': 'IND', '_id': ObjectId('641ca14f37f039be4b9932cb')}, {'title': 'Email', 'link': 'mailto:Starhelp@trent-tata.com', '_id': ObjectId('641ca14f37f039be4b9932cc')}, {'title': 'Facebook', 'link': 'https://www.facebook.com/starbazaarindia', '_id': ObjectId('641ca14f37f039be4b9932cd')}, {'title': 'Twitter', 'link': 'https://twitter.com/starbazaarindia', '_id': ObjectId('641ca14f37f039be4b9932ce')}, {'title': 'Instagram', 'link': 'https://www.instagram.com/starbazaarindia', '_id': ObjectId('641ca14f37f039be4b9932cf')}, {'title': 'Website', 'link': 'https://starbazaarindia.com', '_id': ObjectId('641ca14f37f039be4b9932d0')}], 'typeOfCustomer': 'permanent', 'crm': [{'msg': 'Need more Headphones for the store.', 'personType': 'client', 'timestamp': '2023-02-20 00:12', '_id': ObjectId('641ca28b37f039be4b9933c2')}, {'msg': 'Feeling really good about the previous products.', 'personType': 'client', 'timestamp': '2023-02-26 00:12', '_id': ObjectId('641ca28b37f039be4b9933c3')}, {'msg': 'Definitely sir, which model would you prefer and an approximation for the quantity. I have sent a catalog to your whatsapp.', 'personType': 'sp', 'timestamp': '2023-02-26 00:12', '_id': ObjectId('641ca28b37f039be4b9933c4')}], '__v': 0}\n",
      "{'_id': ObjectId('63e47a71f39019447bec4817'), 'companyName': 'Decathlon Electronics', 'contactPersonName': 'Louise Hopkins', 'address': 'Decathlon Andheri West  48, Veera Desai Rd, Azad Nagar 2, Jeevan Nagar, Azad Nagar, Andheri West, Mumbai, Maharashtra 400102', 'gst': '26AADCS0472N1Z4', 'phoneNumber': '09620999362', 'discountRate': '4', 'salesPersonAssigned': 'Jim Jones', 'clientSocialMedia': [{'title': 'country', 'link': 'FRA', '_id': ObjectId('641ca12e37f039be4b9932a6')}, {'title': 'Facebook', 'link': 'https://www.facebook.com/decathlonindia', '_id': ObjectId('641ca12e37f039be4b9932a7')}, {'title': 'Twitter', 'link': 'https://twitter.com/decathlon_india', '_id': ObjectId('641ca12e37f039be4b9932a8')}, {'title': 'Instagram', 'link': 'https://www.instagram.com/decathlonsportsindia/', '_id': ObjectId('641ca12e37f039be4b9932a9')}, {'title': 'YouTube', 'link': 'https://www.youtube.com/user/decathlonsportindia', '_id': ObjectId('641ca12e37f039be4b9932aa')}, {'title': 'Blog', 'link': 'https://blog.decathlon.in', '_id': ObjectId('641ca12e37f039be4b9932ab')}, {'title': 'Website', 'link': 'https://www.decathlon.in/', '_id': ObjectId('641ca12e37f039be4b9932ac')}], 'typeOfCustomer': 'potential', 'crm': [{'msg': 'Have made the payement for the shipment , kindly acknowledge.', 'personType': 'client', 'timestamp': '2023-03-24 00:12', '_id': ObjectId('641ca2fa37f039be4b993408')}, {'msg': 'We have received your payment. Thank you very much sir. Would you like to order for the upcoming season?', 'personType': 'sp', 'timestamp': '2023-03-25 00:12', '_id': ObjectId('641ca2fa37f039be4b993409')}], '__v': 0}\n"
     ]
    }
   ],
   "source": [
    "dc_all_records = dlom_clients_collection.find()\n",
    "print(dc_all_records)\n",
    "for row in dc_all_records :\n",
    "    print(row)"
   ]
  },
  {
   "cell_type": "code",
   "execution_count": 40,
   "id": "82bbae86",
   "metadata": {},
   "outputs": [
    {
     "name": "stdout",
     "output_type": "stream",
     "text": [
      "[{'_id': ObjectId('63ce7e543cb25e08b646e2e8'), 'clientId': ObjectId('63ce7e473cb25e08b646e2e0'), 'salesperson': '63d57088175d4fbd6cb97e70', 'salesOrder': {'distributorName': 'company1114', 'distributorDetails': 'addr11', 'voucherNo': 'vno23', 'dated': '2023-02-08', 'modeTermsOfPayment': 'mode1', 'buyerRefOrderNo': 'buyer12', 'otherRef': 'oref2', 'invoiceTo': 'invto2', 'despatchThrough': 'despt', 'destination': 'dest', 'termsOfDelivery': 'terms', 'soTable': [{'siNo': 0, 'descriptionOfGoods': 'desc1', 'dueOn': '2023-02-22', 'qty': 100, 'rate': '100', 'per': 'unit', 'amount': '10000', '_id': ObjectId('63faed58f8c0a4de3b6742a4')}], 'totalQty': 100, 'totalAmt': '10000', 'amtInWords': 'ten thousand only'}, 'invoice': {'distributorName': 'company1114', 'distributorDetails': 'addr11', 'invoiceNo': 'inv122', 'dated': '2023-02-25', 'deliveryNote': 'delnote1', 'supplierRef': 'sref1', 'otherRef': 'orref2', 'client': 'cli2', 'despatchDocNo': 'des', 'deliveryNoteDate': '2023-02-13', 'despatchedThrough': 'des', 'destination': 'des', 'invTable': [{'siNo': 0, 'descriptionOfGoods': 'prodsku99', 'hsnSAC': 'hsn1', 'GSTRate': '9', 'qty': 1, 'rate': '988', 'per': 'unit', 'amount': '988', '_id': ObjectId('63faed58f8c0a4de3b6742a1')}, {'siNo': 0, 'descriptionOfGoods': 'prodsku20', 'hsnSAC': 'hsn2', 'GSTRate': '5', 'qty': 1, 'rate': '1200', 'per': 'unit', 'amount': '1200', '_id': ObjectId('63faed58f8c0a4de3b6742a2')}, {'siNo': 0, 'descriptionOfGoods': 'prodsku20', 'hsnSAC': 'hsn2', 'GSTRate': '5', 'qty': 2, 'rate': '1200', 'per': 'unit', 'amount': '2400', '_id': ObjectId('63faed58f8c0a4de3b6742a3')}], 'totalQty': 4, 'totalAmount': '4857', 'amtChargableInWords': 'four thousand eight hundred and fifty seven only', 'invTaxTable': [{'hsnSAC': 'hsn1', 'taxableValue': '988', 'centralTaxRate': '4.5', 'centralTaxAmt': '44.46', 'stateTaxRate': '4.5', 'stateTaxAmt': '44.46', '_id': ObjectId('63faed58f8c0a4de3b67429f')}, {'hsnSAC': 'hsn2', 'taxableValue': '3600', 'centralTaxRate': '2.5', 'centralTaxAmt': '90', 'stateTaxRate': '2.5', 'stateTaxAmt': '90', '_id': ObjectId('63faed58f8c0a4de3b6742a0')}], 'totalTaxableValue': '4588', 'totalCentralTaxAmt': '134.46', 'totalStateTaxAmt': '134.46', 'taxAmtInWords': 'two hundred and sixty nine only', 'companyPAN': 'cpan', 'companyBankDetails': {'bankName': 'bname1', 'acNo': '1224', 'BranchIFSCode': 'ifcs2'}, 'for': 'daf'}, 'wareHouseReceipt': [{'imgString': 'testimg url1', '_id': ObjectId('63faed58f8c0a4de3b67429c')}, {'imgString': 'testimg url2', '_id': ObjectId('63faed58f8c0a4de3b67429d')}, {'imgString': '', '_id': ObjectId('63faed58f8c0a4de3b67429e')}], 'salesReceipt': {'distributorName': 'company1114', 'distributorDetails': 'addr11', 'soldBy': 'sold1', 'date': '2023-02-15', 'name': 'name1a', 'address': 'adde1', 'mode': 'm1', 'srTable': [{'qty': 10, 'details': 'det1', 'price': '1000', 'amount': '10000', '_id': ObjectId('63faed58f8c0a4de3b67429b')}]}, 'orderDelivery': {'history': [{'timeStamp': '2023-02-18T12:12:39.988Z', 'status': 'dispatched', '_id': ObjectId('63faed58f8c0a4de3b674298')}, {'timeStamp': '2023-02-22T11:42:28.883Z', 'status': 'delivered', '_id': ObjectId('63faed58f8c0a4de3b674299')}, {'timeStamp': '2023-02-23T17:54:30.641Z', 'status': 'client acknowledged', '_id': ObjectId('63faed58f8c0a4de3b67429a')}]}, 'orderCancel': {'timeStamp': '2023-01-23T12:32:13.152Z', 'state': '', 'desc': ''}, 'orderPayment': {'history': [{'timeStamp': '2023-02-18T12:13:13.857Z', 'amount': '100', 'method': 'cash', 'description': 'desc1', '_id': ObjectId('63faed58f8c0a4de3b674296')}, {'timeStamp': '2023-02-23T17:54:51.015Z', 'amount': '567', 'method': 'cash', 'description': 'bank', '_id': ObjectId('63faed58f8c0a4de3b674297')}]}, 'createdAt': datetime.datetime(2023, 1, 23, 12, 32, 20, 243000), 'updatedAt': datetime.datetime(2023, 2, 26, 5, 25, 44, 253000), '__v': 0}, {'_id': ObjectId('63cf8c6b0f0f991962134b55'), 'clientId': ObjectId('63ce7e473cb25e08b646e2e0'), 'salesperson': '', 'salesOrder': {'distributorName': 'company11146', 'distributorDetails': 'addr11', 'voucherNo': '', 'dated': '', 'modeTermsOfPayment': '', 'buyerRefOrderNo': '', 'otherRef': '', 'invoiceTo': '', 'despatchThrough': '', 'destination': '', 'termsOfDelivery': '', 'soTable': [], 'totalQty': 0, 'totalAmt': '', 'amtInWords': ''}, 'invoice': {'distributorName': 'company11146', 'distributorDetails': 'addr11', 'invoiceNo': '', 'dated': '', 'deliveryNote': '', 'supplierRef': '', 'otherRef': '', 'client': '', 'despatchDocNo': '', 'deliveryNoteDate': '', 'despatchedThrough': '', 'destination': '', 'invTable': [], 'totalQty': 0, 'totalAmount': '', 'amtChargableInWords': '', 'invTaxTable': [], 'totalTaxableValue': '', 'totalCentralTaxAmt': '', 'totalStateTaxAmt': '', 'taxAmtInWords': '', 'companyPAN': '', 'companyBankDetails': {'bankName': '', 'acNo': '', 'BranchIFSCode': ''}, 'for': ''}, 'wareHouseReceipt': [{'imgString': '', '_id': ObjectId('63f60d143df4288c08eee4ad')}], 'salesReceipt': {'distributorName': 'company11146', 'distributorDetails': 'addr11', 'soldBy': '', 'date': '', 'name': '', 'address': '', 'mode': '', 'srTable': [{'qty': 1, 'details': 'det1', 'price': '1200', 'amount': '1200', '_id': ObjectId('63f60d143df4288c08eee4ac')}]}, 'orderDelivery': {'history': [{'timeStamp': '2023-02-22T12:36:32.603Z', 'status': 'status1', '_id': ObjectId('63f60d143df4288c08eee4aa')}, {'timeStamp': '2023-02-22T12:36:42.047Z', 'status': 'status2', '_id': ObjectId('63f60d143df4288c08eee4ab')}]}, 'orderCancel': {'timeStamp': '2023-01-24T07:44:25.257Z', 'state': 'reason1', 'desc': 'desc1'}, 'orderPayment': {'history': [{'timeStamp': '2023-02-22T12:39:37.979Z', 'amount': '1200', 'method': 'cash', 'description': 'desc1', '_id': ObjectId('63f60d143df4288c08eee4a9')}]}, 'createdAt': datetime.datetime(2023, 1, 24, 7, 44, 43, 616000), 'updatedAt': datetime.datetime(2023, 2, 22, 12, 39, 48, 669000), '__v': 0}, {'_id': ObjectId('63d247f7ef4b90ee6baa5777'), 'clientId': ObjectId('63ce7e473cb25e08b646e2e0'), 'salesperson': '', 'salesOrder': {'distributorName': 'company11146', 'distributorDetails': 'addr11', 'voucherNo': '', 'dated': '', 'modeTermsOfPayment': '', 'buyerRefOrderNo': '', 'otherRef': '', 'invoiceTo': '', 'despatchThrough': '', 'destination': '', 'termsOfDelivery': '', 'soTable': [], 'totalQty': 0, 'totalAmt': '', 'amtInWords': ''}, 'invoice': {'distributorName': 'company11146', 'distributorDetails': 'addr11', 'invoiceNo': '', 'dated': '', 'deliveryNote': '', 'supplierRef': '', 'otherRef': '', 'client': '', 'despatchDocNo': '', 'deliveryNoteDate': '', 'despatchedThrough': '', 'destination': '', 'invTable': [], 'totalQty': 0, 'totalAmount': '', 'amtChargableInWords': '', 'invTaxTable': [], 'totalTaxableValue': '', 'totalCentralTaxAmt': '', 'totalStateTaxAmt': '', 'taxAmtInWords': '', 'companyPAN': '', 'companyBankDetails': {'bankName': '', 'acNo': '', 'BranchIFSCode': ''}, 'for': ''}, 'wareHouseReceipt': [{'imgString': '', '_id': ObjectId('63f0c158119c38497d5c8c53')}], 'salesReceipt': {'distributorName': 'company11146', 'distributorDetails': 'addr11', 'soldBy': '', 'date': '', 'name': '', 'address': '', 'mode': '', 'srTable': []}, 'orderDelivery': {'history': []}, 'orderCancel': {'timeStamp': '2023-01-26T09:29:15.749Z', 'state': 'reason1', 'desc': 'desc12'}, 'orderPayment': {'history': []}, 'createdAt': datetime.datetime(2023, 1, 26, 9, 29, 27, 505000), 'updatedAt': datetime.datetime(2023, 2, 18, 12, 15, 20, 148000), '__v': 0}, {'_id': ObjectId('63d6084c552dd4d69eee1f57'), 'clientId': ObjectId('63ce7e473cb25e08b646e2e0'), 'salesperson': '63d57048175d4fbd6cb97e68', 'salesOrder': {'distributorName': 'company1114', 'distributorDetails': 'addr11', 'voucherNo': 'vno1', 'dated': '2023-01-22', 'modeTermsOfPayment': 'mod1', 'buyerRefOrderNo': 'ref1', 'otherRef': 'oref1', 'invoiceTo': 'inv1', 'despatchThrough': 'despt1', 'destination': 'dest1', 'termsOfDelivery': 'terms1', 'soTable': [{'siNo': 0, 'descriptionOfGoods': 'desc1', 'dueOn': '2023-01-31', 'qty': 2, 'rate': '10', 'per': 'unit', 'amount': '20', '_id': ObjectId('63fa1deb0613abd661379865')}], 'totalQty': 2, 'totalAmt': '20', 'amtInWords': 'twenty only'}, 'invoice': {'distributorName': 'company1114', 'distributorDetails': 'addr11', 'invoiceNo': 'inv1', 'dated': '2023-01-29', 'deliveryNote': 'dnot1', 'supplierRef': 'sup ref1', 'otherRef': 'otherr ref1', 'client': 'client1', 'despatchDocNo': 'doc1', 'deliveryNoteDate': '2023-01-30', 'despatchedThrough': 'despth1', 'destination': 'ddest1', 'invTable': [{'siNo': 0, 'descriptionOfGoods': 'desc1', 'hsnSAC': 'hsn1', 'GSTRate': '8', 'qty': 5, 'rate': '5', 'per': 'unit', 'amount': '25', '_id': ObjectId('63fa1deb0613abd661379864')}], 'totalQty': 5, 'totalAmount': '27', 'amtChargableInWords': 'twenty seven only', 'invTaxTable': [{'hsnSAC': 'hsn1', 'taxableValue': '25', 'centralTaxRate': '4', 'centralTaxAmt': '1', 'stateTaxRate': '4', 'stateTaxAmt': '1', '_id': ObjectId('63fa1deb0613abd661379863')}], 'totalTaxableValue': '25', 'totalCentralTaxAmt': '1', 'totalStateTaxAmt': '1', 'taxAmtInWords': 'two only', 'companyPAN': 'cpan1', 'companyBankDetails': {'bankName': 'bname1', 'acNo': 'ac112', 'BranchIFSCode': 'ead2132'}, 'for': 'this '}, 'wareHouseReceipt': [{'imgString': '', '_id': ObjectId('63fa1deb0613abd661379862')}], 'salesReceipt': {'distributorName': 'company1114', 'distributorDetails': 'addr11', 'soldBy': 'soldby1', 'date': '2023-01-30', 'name': 'name1', 'address': 'addr1', 'mode': 'mode1', 'srTable': [{'qty': 10, 'details': 'det1', 'price': '500', 'amount': '5000', '_id': ObjectId('63fa1deb0613abd661379861')}]}, 'orderDelivery': {'history': [{'timeStamp': '2023-01-29T08:33:55.295Z', 'status': 'entry1', '_id': ObjectId('63fa1deb0613abd66137985f')}, {'timeStamp': '2023-01-29T08:34:03.854Z', 'status': 'entry2', '_id': ObjectId('63fa1deb0613abd661379860')}]}, 'orderCancel': {'timeStamp': '2023-01-29T05:40:51.542Z', 'state': '', 'desc': ''}, 'orderPayment': {'history': [{'timeStamp': '2023-02-22T11:46:26.180Z', 'amount': '15', 'method': 'cash', 'description': 'desc1', '_id': ObjectId('63fa1deb0613abd66137985e')}]}, 'createdAt': datetime.datetime(2023, 1, 29, 5, 46, 52, 235000), 'updatedAt': datetime.datetime(2023, 2, 25, 14, 40, 43, 215000), '__v': 0}, {'_id': ObjectId('63de815bf820f95e82ddee96'), 'clientId': ObjectId('63ce7e473cb25e08b646e2e0'), 'salesperson': '63d57088175d4fbd6cb97e70', 'salesOrder': {'distributorName': 'company1114', 'distributorDetails': 'addr11', 'voucherNo': '', 'dated': '', 'modeTermsOfPayment': '', 'buyerRefOrderNo': '', 'otherRef': '', 'invoiceTo': 'addr1', 'despatchThrough': '', 'destination': '', 'termsOfDelivery': '', 'soTable': [], 'totalQty': 0, 'totalAmt': '', 'amtInWords': ''}, 'invoice': {'distributorName': 'company1114', 'distributorDetails': 'addr11', 'invoiceNo': 'inv554', 'dated': '', 'deliveryNote': '', 'supplierRef': '', 'otherRef': '', 'client': '', 'despatchDocNo': '', 'deliveryNoteDate': '', 'despatchedThrough': '', 'destination': '', 'invTable': [{'siNo': 0, 'descriptionOfGoods': 'prodsku99', 'hsnSAC': 'hsn1', 'GSTRate': '9', 'qty': 1, 'rate': '988', 'per': 'unit', 'amount': '988', '_id': ObjectId('63fa4ff4d7d738df1c63de2d')}], 'totalQty': 1, 'totalAmount': '1077', 'amtChargableInWords': 'one thousand and seventy seven only', 'invTaxTable': [{'hsnSAC': 'hsn1', 'taxableValue': '988', 'centralTaxRate': '4.5', 'centralTaxAmt': '44.46', 'stateTaxRate': '4.5', 'stateTaxAmt': '44.46', '_id': ObjectId('63fa4ff4d7d738df1c63de2c')}], 'totalTaxableValue': '988', 'totalCentralTaxAmt': '44.46', 'totalStateTaxAmt': '44.46', 'taxAmtInWords': 'eighty nine only', 'companyPAN': '', 'companyBankDetails': {'bankName': '', 'acNo': '', 'BranchIFSCode': ''}, 'for': ''}, 'wareHouseReceipt': [{'imgString': '', '_id': ObjectId('63fa4ff4d7d738df1c63de2b')}], 'salesReceipt': {'distributorName': 'company1114', 'distributorDetails': 'addr11', 'soldBy': '', 'date': '', 'name': '', 'address': '', 'mode': '', 'srTable': []}, 'orderDelivery': {'history': []}, 'orderCancel': {'timeStamp': '2023-02-04T16:01:19.998Z', 'state': '', 'desc': ''}, 'orderPayment': {'history': []}, 'createdAt': datetime.datetime(2023, 2, 4, 16, 1, 31, 499000), 'updatedAt': datetime.datetime(2023, 2, 25, 18, 14, 12, 174000), '__v': 0}, {'_id': ObjectId('63f0bf71119c38497d5c89dd'), 'clientId': ObjectId('63de7c32f820f95e82ddee53'), 'salesperson': '63d57088175d4fbd6cb97e70', 'salesOrder': {'distributorName': 'company1114', 'distributorDetails': 'addr11', 'voucherNo': '', 'dated': '', 'modeTermsOfPayment': '', 'buyerRefOrderNo': '', 'otherRef': '', 'invoiceTo': '', 'despatchThrough': '', 'destination': '', 'termsOfDelivery': '', 'soTable': [], 'totalQty': 0, 'totalAmt': '', 'amtInWords': ''}, 'invoice': {'distributorName': 'company1114', 'distributorDetails': 'addr11', 'invoiceNo': 'inv122', 'dated': '', 'deliveryNote': '', 'supplierRef': '', 'otherRef': '', 'client': '', 'despatchDocNo': '', 'deliveryNoteDate': '', 'despatchedThrough': '', 'destination': '', 'invTable': [{'siNo': 0, 'descriptionOfGoods': 'prodSKU3', 'hsnSAC': 'hsn1', 'GSTRate': '5', 'qty': 2, 'rate': '4001', 'per': 'unit', 'amount': '8002', '_id': ObjectId('63fa46610613abd661379de5')}], 'totalQty': 2, 'totalAmount': '8402', 'amtChargableInWords': 'eight thousand four hundred and two only', 'invTaxTable': [{'hsnSAC': 'hsn1', 'taxableValue': '8002', 'centralTaxRate': '2.5', 'centralTaxAmt': '200.05', 'stateTaxRate': '2.5', 'stateTaxAmt': '200.05', '_id': ObjectId('63fa46610613abd661379de4')}], 'totalTaxableValue': '8002', 'totalCentralTaxAmt': '200.05', 'totalStateTaxAmt': '200.05', 'taxAmtInWords': 'four hundred only', 'companyPAN': '', 'companyBankDetails': {'bankName': '', 'acNo': '', 'BranchIFSCode': ''}, 'for': ''}, 'wareHouseReceipt': [{'imgString': '', '_id': ObjectId('63fa46610613abd661379de3')}], 'salesReceipt': {'distributorName': 'company1114', 'distributorDetails': 'addr11', 'soldBy': '', 'date': '', 'name': '', 'address': '', 'mode': '', 'srTable': []}, 'orderDelivery': {'history': []}, 'orderCancel': {'timeStamp': '2023-02-18T12:06:32.504Z', 'state': '', 'desc': ''}, 'orderPayment': {'history': []}, 'createdAt': datetime.datetime(2023, 2, 18, 12, 7, 13, 860000), 'updatedAt': datetime.datetime(2023, 2, 25, 17, 33, 21, 496000), '__v': 0}, {'_id': ObjectId('63fa4c7fd7d738df1c63dd2f'), 'clientId': ObjectId('63e47a71f39019447bec4817'), 'salesperson': '63d57048175d4fbd6cb97e68', 'salesOrder': {'distributorName': 'company1114', 'distributorDetails': 'addr11', 'voucherNo': '', 'dated': '', 'modeTermsOfPayment': '', 'buyerRefOrderNo': '', 'otherRef': '', 'invoiceTo': 'addr test1', 'despatchThrough': '', 'destination': '', 'termsOfDelivery': '', 'soTable': [], 'totalQty': 0, 'totalAmt': '', 'amtInWords': ''}, 'invoice': {'distributorName': 'company1114', 'distributorDetails': 'addr11', 'invoiceNo': 'in668', 'dated': '', 'deliveryNote': '', 'supplierRef': '', 'otherRef': '', 'client': '', 'despatchDocNo': '', 'deliveryNoteDate': '', 'despatchedThrough': '', 'destination': '', 'invTable': [{'siNo': 0, 'descriptionOfGoods': 'prodsku20', 'hsnSAC': 'hsn2', 'GSTRate': '5', 'qty': 2, 'rate': '1200', 'per': 'unit', 'amount': '2400', '_id': ObjectId('63fa504bd7d738df1c63df78')}], 'totalQty': 2, 'totalAmount': '2520', 'amtChargableInWords': 'two thousand five hundred and twenty only', 'invTaxTable': [{'hsnSAC': 'hsn2', 'taxableValue': '2400', 'centralTaxRate': '2.5', 'centralTaxAmt': '60', 'stateTaxRate': '2.5', 'stateTaxAmt': '60', '_id': ObjectId('63fa504bd7d738df1c63df77')}], 'totalTaxableValue': '2400', 'totalCentralTaxAmt': '60', 'totalStateTaxAmt': '60', 'taxAmtInWords': 'one hundred and twenty only', 'companyPAN': '', 'companyBankDetails': {'bankName': '', 'acNo': '', 'BranchIFSCode': ''}, 'for': ''}, 'wareHouseReceipt': [{'imgString': '', '_id': ObjectId('63fa504bd7d738df1c63df76')}], 'salesReceipt': {'distributorName': 'company1114', 'distributorDetails': 'addr11', 'soldBy': '', 'date': '', 'name': '', 'address': '', 'mode': '', 'srTable': []}, 'orderDelivery': {'history': []}, 'orderCancel': {'timeStamp': '2023-02-25T17:59:07.674Z', 'state': '', 'desc': ''}, 'orderPayment': {'history': []}, 'createdAt': datetime.datetime(2023, 2, 25, 17, 59, 27, 970000), 'updatedAt': datetime.datetime(2023, 2, 25, 18, 15, 39, 687000), '__v': 0}, {'_id': ObjectId('641cc5f237f039be4b9934cc'), 'clientId': ObjectId('63e47a71f39019447bec4817'), 'salesperson': '63d57048175d4fbd6cb97e68', 'salesOrder': {'distributorName': 'BRB Electronics Distributor', 'distributorDetails': 'BSCIC Industrial Estate, Fort, Mumbai 40001', 'voucherNo': 'vno88092', 'dated': '', 'modeTermsOfPayment': 'cash', 'buyerRefOrderNo': 'ord55604', 'otherRef': 'other3323', 'invoiceTo': 'Decathlon Andheri West  48, Veera Desai Rd, Azad Nagar 2, Jeevan Nagar, Azad Nagar, Andheri West, Mumbai, Maharashtra 400102', 'despatchThrough': 'road', 'destination': 'Mumbai', 'termsOfDelivery': '60 day payment', 'soTable': [{'siNo': 0, 'descriptionOfGoods': 'headphone', 'dueOn': '2023-03-27', 'qty': 5, 'rate': '4001', 'per': 'unit', 'amount': '20005', '_id': ObjectId('641cd20f37f039be4b993ff9')}, {'siNo': 0, 'descriptionOfGoods': 'keyboard', 'dueOn': '2023-03-27', 'qty': 1, 'rate': '1200', 'per': 'unit', 'amount': '1200', '_id': ObjectId('641cd20f37f039be4b993ffa')}], 'totalQty': 6, 'totalAmt': '21205', 'amtInWords': 'twenty one thousand two hundred and five only'}, 'invoice': {'distributorName': 'BRB Electronics Distributor', 'distributorDetails': 'BSCIC Industrial Estate, Fort, Mumbai 40001', 'invoiceNo': 'inv7985', 'dated': '2023-03-27', 'deliveryNote': 'delivered through FedEx', 'supplierRef': 'suppl4531', 'otherRef': 'other1214', 'client': 'Decathlon Electronics', 'despatchDocNo': 'doc1443', 'deliveryNoteDate': '2023-03-27', 'despatchedThrough': 'road', 'destination': 'Mumbai', 'invTable': [{'siNo': 0, 'descriptionOfGoods': 'prodSKU3', 'hsnSAC': 'hsn1', 'GSTRate': '5', 'qty': 5, 'rate': '4001', 'per': 'unit', 'amount': '20005', '_id': ObjectId('641cd20f37f039be4b993ff7')}, {'siNo': 0, 'descriptionOfGoods': 'prodsku20', 'hsnSAC': 'hsn1', 'GSTRate': '5', 'qty': 1, 'rate': '1200', 'per': 'unit', 'amount': '1200', '_id': ObjectId('641cd20f37f039be4b993ff8')}], 'totalQty': 6, 'totalAmount': '22265', 'amtChargableInWords': 'twenty two thousand two hundred and sixty five only', 'invTaxTable': [{'hsnSAC': 'hsn1', 'taxableValue': '21205', 'centralTaxRate': '2.5', 'centralTaxAmt': '530.125', 'stateTaxRate': '2.5', 'stateTaxAmt': '530.125', '_id': ObjectId('641cd20f37f039be4b993ff6')}], 'totalTaxableValue': '21205', 'totalCentralTaxAmt': '530.125', 'totalStateTaxAmt': '530.125', 'taxAmtInWords': 'one thousand and sixty only', 'companyPAN': 'ABCTY1234D', 'companyBankDetails': {'bankName': 'SBI Bank', 'acNo': '32104561034', 'BranchIFSCode': 'SBIN0014370'}, 'for': 'Decathlon Electronics'}, 'wareHouseReceipt': [{'imgString': 'data:image/jpeg;base64,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', '_id': ObjectId('641cd20f37f039be4b993ff5')}], 'salesReceipt': {'distributorName': 'BRB Electronics Distributor', 'distributorDetails': 'BSCIC Industrial Estate, Fort, Mumbai 40001', 'soldBy': 'Decathlon Electronics', 'date': '2023-03-24', 'name': 'Hitesh Chowdhary', 'address': 'Decathlon Andheri West  48, Veera Desai Rd, Azad Nagar 2, Jeevan Nagar, Azad Nagar, Andheri West, Mumbai, Maharashtra 400102', 'mode': 'cash', 'srTable': [{'qty': 1, 'details': 'headphone', 'price': '5000', 'amount': '5000', '_id': ObjectId('641cd20f37f039be4b993ff3')}, {'qty': 1, 'details': 'keyboard', 'price': '1200', 'amount': '1200', '_id': ObjectId('641cd20f37f039be4b993ff4')}]}, 'orderDelivery': {'history': [{'timeStamp': '2023-03-23T22:19:43.529Z', 'status': 'packing', '_id': ObjectId('641cd20f37f039be4b993fef')}, {'timeStamp': '2023-03-23T22:19:57.564Z', 'status': 'shipped', '_id': ObjectId('641cd20f37f039be4b993ff0')}, {'timeStamp': '2023-03-23T22:20:05.988Z', 'status': 'delivered', '_id': ObjectId('641cd20f37f039be4b993ff1')}, {'timeStamp': '2023-03-23T22:20:22.959Z', 'status': 'acknowledged', '_id': ObjectId('641cd20f37f039be4b993ff2')}]}, 'orderCancel': {'timeStamp': '2023-03-23T21:30:24.655Z', 'state': '', 'desc': ''}, 'orderPayment': {'history': [{'timeStamp': '2023-03-23T22:20:32.461Z', 'amount': '5000', 'method': 'cash', 'description': 'UPI Transaction ID : 654156789105', '_id': ObjectId('641cd20f37f039be4b993fed')}, {'timeStamp': '2023-03-23T22:26:04.035Z', 'amount': '1200', 'method': 'cash', 'description': 'collected by Jim Jones', '_id': ObjectId('641cd20f37f039be4b993fee')}]}, 'createdAt': datetime.datetime(2023, 3, 23, 21, 34, 42, 95000), 'updatedAt': datetime.datetime(2023, 3, 23, 22, 26, 23, 373000), '__v': 0}]\n"
     ]
    }
   ],
   "source": [
    "do_all_records = dlom_orders_collection.find()\n",
    "do_list_cursor = list(do_all_records)\n",
    "print(do_list_cursor)"
   ]
  },
  {
   "cell_type": "code",
   "execution_count": 41,
   "id": "4490e3ad",
   "metadata": {},
   "outputs": [
    {
     "data": {
      "text/html": [
       "<div>\n",
       "<style scoped>\n",
       "    .dataframe tbody tr th:only-of-type {\n",
       "        vertical-align: middle;\n",
       "    }\n",
       "\n",
       "    .dataframe tbody tr th {\n",
       "        vertical-align: top;\n",
       "    }\n",
       "\n",
       "    .dataframe thead th {\n",
       "        text-align: right;\n",
       "    }\n",
       "</style>\n",
       "<table border=\"1\" class=\"dataframe\">\n",
       "  <thead>\n",
       "    <tr style=\"text-align: right;\">\n",
       "      <th></th>\n",
       "      <th>_id</th>\n",
       "      <th>clientId</th>\n",
       "      <th>salesperson</th>\n",
       "      <th>salesOrder</th>\n",
       "      <th>invoice</th>\n",
       "      <th>wareHouseReceipt</th>\n",
       "      <th>salesReceipt</th>\n",
       "      <th>orderDelivery</th>\n",
       "      <th>orderCancel</th>\n",
       "      <th>orderPayment</th>\n",
       "      <th>createdAt</th>\n",
       "      <th>updatedAt</th>\n",
       "      <th>__v</th>\n",
       "    </tr>\n",
       "  </thead>\n",
       "  <tbody>\n",
       "    <tr>\n",
       "      <th>0</th>\n",
       "      <td>63ce7e543cb25e08b646e2e8</td>\n",
       "      <td>63ce7e473cb25e08b646e2e0</td>\n",
       "      <td>63d57088175d4fbd6cb97e70</td>\n",
       "      <td>{'distributorName': 'company1114', 'distributo...</td>\n",
       "      <td>{'distributorName': 'company1114', 'distributo...</td>\n",
       "      <td>[{'imgString': 'testimg url1', '_id': 63faed58...</td>\n",
       "      <td>{'distributorName': 'company1114', 'distributo...</td>\n",
       "      <td>{'history': [{'timeStamp': '2023-02-18T12:12:3...</td>\n",
       "      <td>{'timeStamp': '2023-01-23T12:32:13.152Z', 'sta...</td>\n",
       "      <td>{'history': [{'timeStamp': '2023-02-18T12:13:1...</td>\n",
       "      <td>2023-01-23 12:32:20.243</td>\n",
       "      <td>2023-02-26 05:25:44.253</td>\n",
       "      <td>0</td>\n",
       "    </tr>\n",
       "    <tr>\n",
       "      <th>1</th>\n",
       "      <td>63cf8c6b0f0f991962134b55</td>\n",
       "      <td>63ce7e473cb25e08b646e2e0</td>\n",
       "      <td></td>\n",
       "      <td>{'distributorName': 'company11146', 'distribut...</td>\n",
       "      <td>{'distributorName': 'company11146', 'distribut...</td>\n",
       "      <td>[{'imgString': '', '_id': 63f60d143df4288c08ee...</td>\n",
       "      <td>{'distributorName': 'company11146', 'distribut...</td>\n",
       "      <td>{'history': [{'timeStamp': '2023-02-22T12:36:3...</td>\n",
       "      <td>{'timeStamp': '2023-01-24T07:44:25.257Z', 'sta...</td>\n",
       "      <td>{'history': [{'timeStamp': '2023-02-22T12:39:3...</td>\n",
       "      <td>2023-01-24 07:44:43.616</td>\n",
       "      <td>2023-02-22 12:39:48.669</td>\n",
       "      <td>0</td>\n",
       "    </tr>\n",
       "    <tr>\n",
       "      <th>2</th>\n",
       "      <td>63d247f7ef4b90ee6baa5777</td>\n",
       "      <td>63ce7e473cb25e08b646e2e0</td>\n",
       "      <td></td>\n",
       "      <td>{'distributorName': 'company11146', 'distribut...</td>\n",
       "      <td>{'distributorName': 'company11146', 'distribut...</td>\n",
       "      <td>[{'imgString': '', '_id': 63f0c158119c38497d5c...</td>\n",
       "      <td>{'distributorName': 'company11146', 'distribut...</td>\n",
       "      <td>{'history': []}</td>\n",
       "      <td>{'timeStamp': '2023-01-26T09:29:15.749Z', 'sta...</td>\n",
       "      <td>{'history': []}</td>\n",
       "      <td>2023-01-26 09:29:27.505</td>\n",
       "      <td>2023-02-18 12:15:20.148</td>\n",
       "      <td>0</td>\n",
       "    </tr>\n",
       "    <tr>\n",
       "      <th>3</th>\n",
       "      <td>63d6084c552dd4d69eee1f57</td>\n",
       "      <td>63ce7e473cb25e08b646e2e0</td>\n",
       "      <td>63d57048175d4fbd6cb97e68</td>\n",
       "      <td>{'distributorName': 'company1114', 'distributo...</td>\n",
       "      <td>{'distributorName': 'company1114', 'distributo...</td>\n",
       "      <td>[{'imgString': '', '_id': 63fa1deb0613abd66137...</td>\n",
       "      <td>{'distributorName': 'company1114', 'distributo...</td>\n",
       "      <td>{'history': [{'timeStamp': '2023-01-29T08:33:5...</td>\n",
       "      <td>{'timeStamp': '2023-01-29T05:40:51.542Z', 'sta...</td>\n",
       "      <td>{'history': [{'timeStamp': '2023-02-22T11:46:2...</td>\n",
       "      <td>2023-01-29 05:46:52.235</td>\n",
       "      <td>2023-02-25 14:40:43.215</td>\n",
       "      <td>0</td>\n",
       "    </tr>\n",
       "    <tr>\n",
       "      <th>4</th>\n",
       "      <td>63de815bf820f95e82ddee96</td>\n",
       "      <td>63ce7e473cb25e08b646e2e0</td>\n",
       "      <td>63d57088175d4fbd6cb97e70</td>\n",
       "      <td>{'distributorName': 'company1114', 'distributo...</td>\n",
       "      <td>{'distributorName': 'company1114', 'distributo...</td>\n",
       "      <td>[{'imgString': '', '_id': 63fa4ff4d7d738df1c63...</td>\n",
       "      <td>{'distributorName': 'company1114', 'distributo...</td>\n",
       "      <td>{'history': []}</td>\n",
       "      <td>{'timeStamp': '2023-02-04T16:01:19.998Z', 'sta...</td>\n",
       "      <td>{'history': []}</td>\n",
       "      <td>2023-02-04 16:01:31.499</td>\n",
       "      <td>2023-02-25 18:14:12.174</td>\n",
       "      <td>0</td>\n",
       "    </tr>\n",
       "  </tbody>\n",
       "</table>\n",
       "</div>"
      ],
      "text/plain": [
       "                        _id                  clientId  \\\n",
       "0  63ce7e543cb25e08b646e2e8  63ce7e473cb25e08b646e2e0   \n",
       "1  63cf8c6b0f0f991962134b55  63ce7e473cb25e08b646e2e0   \n",
       "2  63d247f7ef4b90ee6baa5777  63ce7e473cb25e08b646e2e0   \n",
       "3  63d6084c552dd4d69eee1f57  63ce7e473cb25e08b646e2e0   \n",
       "4  63de815bf820f95e82ddee96  63ce7e473cb25e08b646e2e0   \n",
       "\n",
       "                salesperson  \\\n",
       "0  63d57088175d4fbd6cb97e70   \n",
       "1                             \n",
       "2                             \n",
       "3  63d57048175d4fbd6cb97e68   \n",
       "4  63d57088175d4fbd6cb97e70   \n",
       "\n",
       "                                          salesOrder  \\\n",
       "0  {'distributorName': 'company1114', 'distributo...   \n",
       "1  {'distributorName': 'company11146', 'distribut...   \n",
       "2  {'distributorName': 'company11146', 'distribut...   \n",
       "3  {'distributorName': 'company1114', 'distributo...   \n",
       "4  {'distributorName': 'company1114', 'distributo...   \n",
       "\n",
       "                                             invoice  \\\n",
       "0  {'distributorName': 'company1114', 'distributo...   \n",
       "1  {'distributorName': 'company11146', 'distribut...   \n",
       "2  {'distributorName': 'company11146', 'distribut...   \n",
       "3  {'distributorName': 'company1114', 'distributo...   \n",
       "4  {'distributorName': 'company1114', 'distributo...   \n",
       "\n",
       "                                    wareHouseReceipt  \\\n",
       "0  [{'imgString': 'testimg url1', '_id': 63faed58...   \n",
       "1  [{'imgString': '', '_id': 63f60d143df4288c08ee...   \n",
       "2  [{'imgString': '', '_id': 63f0c158119c38497d5c...   \n",
       "3  [{'imgString': '', '_id': 63fa1deb0613abd66137...   \n",
       "4  [{'imgString': '', '_id': 63fa4ff4d7d738df1c63...   \n",
       "\n",
       "                                        salesReceipt  \\\n",
       "0  {'distributorName': 'company1114', 'distributo...   \n",
       "1  {'distributorName': 'company11146', 'distribut...   \n",
       "2  {'distributorName': 'company11146', 'distribut...   \n",
       "3  {'distributorName': 'company1114', 'distributo...   \n",
       "4  {'distributorName': 'company1114', 'distributo...   \n",
       "\n",
       "                                       orderDelivery  \\\n",
       "0  {'history': [{'timeStamp': '2023-02-18T12:12:3...   \n",
       "1  {'history': [{'timeStamp': '2023-02-22T12:36:3...   \n",
       "2                                    {'history': []}   \n",
       "3  {'history': [{'timeStamp': '2023-01-29T08:33:5...   \n",
       "4                                    {'history': []}   \n",
       "\n",
       "                                         orderCancel  \\\n",
       "0  {'timeStamp': '2023-01-23T12:32:13.152Z', 'sta...   \n",
       "1  {'timeStamp': '2023-01-24T07:44:25.257Z', 'sta...   \n",
       "2  {'timeStamp': '2023-01-26T09:29:15.749Z', 'sta...   \n",
       "3  {'timeStamp': '2023-01-29T05:40:51.542Z', 'sta...   \n",
       "4  {'timeStamp': '2023-02-04T16:01:19.998Z', 'sta...   \n",
       "\n",
       "                                        orderPayment               createdAt  \\\n",
       "0  {'history': [{'timeStamp': '2023-02-18T12:13:1... 2023-01-23 12:32:20.243   \n",
       "1  {'history': [{'timeStamp': '2023-02-22T12:39:3... 2023-01-24 07:44:43.616   \n",
       "2                                    {'history': []} 2023-01-26 09:29:27.505   \n",
       "3  {'history': [{'timeStamp': '2023-02-22T11:46:2... 2023-01-29 05:46:52.235   \n",
       "4                                    {'history': []} 2023-02-04 16:01:31.499   \n",
       "\n",
       "                updatedAt  __v  \n",
       "0 2023-02-26 05:25:44.253    0  \n",
       "1 2023-02-22 12:39:48.669    0  \n",
       "2 2023-02-18 12:15:20.148    0  \n",
       "3 2023-02-25 14:40:43.215    0  \n",
       "4 2023-02-25 18:14:12.174    0  "
      ]
     },
     "execution_count": 41,
     "metadata": {},
     "output_type": "execute_result"
    }
   ],
   "source": [
    "do_df = pd.DataFrame(do_list_cursor)\n",
    "do_df.head()"
   ]
  },
  {
   "cell_type": "code",
   "execution_count": 42,
   "id": "8983a331",
   "metadata": {},
   "outputs": [
    {
     "name": "stdout",
     "output_type": "stream",
     "text": [
      "_id                         object\n",
      "clientId                    object\n",
      "salesperson                 object\n",
      "salesOrder                  object\n",
      "invoice                     object\n",
      "wareHouseReceipt            object\n",
      "salesReceipt                object\n",
      "orderDelivery               object\n",
      "orderCancel                 object\n",
      "orderPayment                object\n",
      "createdAt           datetime64[ns]\n",
      "updatedAt           datetime64[ns]\n",
      "__v                          int64\n",
      "dtype: object\n"
     ]
    }
   ],
   "source": [
    "print(do_df.dtypes)"
   ]
  },
  {
   "cell_type": "code",
   "execution_count": 43,
   "id": "32651a1f",
   "metadata": {},
   "outputs": [
    {
     "name": "stdout",
     "output_type": "stream",
     "text": [
      "[{'_id': ObjectId('63ce7e473cb25e08b646e2e0'), 'companyName': 'JJ Electronics', 'contactPersonName': 'John Doe', 'address': '  Street:  183,184, Avarampalayam Road, Sidhapudur  City:   Coimbatore  State/province/area:    Tamil Nadu    Zip code  641044  Country calling code  +91 Country  India ', 'gst': '37AADCS0472N1Z1', 'phoneNumber': '04222329232', 'discountRate': '5', 'salesPersonAssigned': 'Jim Jones', 'clientSocialMedia': [{'title': 'country', 'link': 'IND', '_id': ObjectId('641c9e1037f039be4b993222')}, {'title': 'LinkedIN', 'link': 'https://www.linkedin.com/in/neel-choksi-73232719b/', '_id': ObjectId('641c9e1037f039be4b993223')}], 'typeOfCustomer': 'potential', 'crm': [{'msg': 'Hoping to receive the next shipment soon.', 'personType': 'client', 'timestamp': '2023-01-29 03:09', '_id': ObjectId('641ca23637f039be4b993358')}, {'msg': 'Definitely, the shipment is on its way.', 'personType': 'sp', 'timestamp': '2023-02-19 00:12', '_id': ObjectId('641ca23637f039be4b993359')}, {'msg': 'Received the shipment, there are some flaws with the products.', 'personType': 'client', 'timestamp': '2023-02-19 00:12', '_id': ObjectId('641ca23637f039be4b99335a')}, {'msg': 'Apologize for the flaws. What can I help you with SIr?', 'personType': 'sp', 'timestamp': '2023-02-23 00:12', '_id': ObjectId('641ca23637f039be4b99335b')}], '__v': 0}, {'_id': ObjectId('63de7c32f820f95e82ddee53'), 'companyName': 'Star Bazaar', 'contactPersonName': 'Hitesh Chowdhary', 'address': 'Star Market, Aarambh Shreeji, Near Mcdonald, Mira Road (East), Mumbai - 401107, Maharashtra, India ', 'gst': '37AADCS0472N2Z0', 'phoneNumber': '9029002233', 'discountRate': '7', 'salesPersonAssigned': 'Jim Jones', 'clientSocialMedia': [{'title': 'country', 'link': 'IND', '_id': ObjectId('641ca14f37f039be4b9932cb')}, {'title': 'Email', 'link': 'mailto:Starhelp@trent-tata.com', '_id': ObjectId('641ca14f37f039be4b9932cc')}, {'title': 'Facebook', 'link': 'https://www.facebook.com/starbazaarindia', '_id': ObjectId('641ca14f37f039be4b9932cd')}, {'title': 'Twitter', 'link': 'https://twitter.com/starbazaarindia', '_id': ObjectId('641ca14f37f039be4b9932ce')}, {'title': 'Instagram', 'link': 'https://www.instagram.com/starbazaarindia', '_id': ObjectId('641ca14f37f039be4b9932cf')}, {'title': 'Website', 'link': 'https://starbazaarindia.com', '_id': ObjectId('641ca14f37f039be4b9932d0')}], 'typeOfCustomer': 'permanent', 'crm': [{'msg': 'Need more Headphones for the store.', 'personType': 'client', 'timestamp': '2023-02-20 00:12', '_id': ObjectId('641ca28b37f039be4b9933c2')}, {'msg': 'Feeling really good about the previous products.', 'personType': 'client', 'timestamp': '2023-02-26 00:12', '_id': ObjectId('641ca28b37f039be4b9933c3')}, {'msg': 'Definitely sir, which model would you prefer and an approximation for the quantity. I have sent a catalog to your whatsapp.', 'personType': 'sp', 'timestamp': '2023-02-26 00:12', '_id': ObjectId('641ca28b37f039be4b9933c4')}], '__v': 0}, {'_id': ObjectId('63e47a71f39019447bec4817'), 'companyName': 'Decathlon Electronics', 'contactPersonName': 'Louise Hopkins', 'address': 'Decathlon Andheri West  48, Veera Desai Rd, Azad Nagar 2, Jeevan Nagar, Azad Nagar, Andheri West, Mumbai, Maharashtra 400102', 'gst': '26AADCS0472N1Z4', 'phoneNumber': '09620999362', 'discountRate': '4', 'salesPersonAssigned': 'Jim Jones', 'clientSocialMedia': [{'title': 'country', 'link': 'FRA', '_id': ObjectId('641ca12e37f039be4b9932a6')}, {'title': 'Facebook', 'link': 'https://www.facebook.com/decathlonindia', '_id': ObjectId('641ca12e37f039be4b9932a7')}, {'title': 'Twitter', 'link': 'https://twitter.com/decathlon_india', '_id': ObjectId('641ca12e37f039be4b9932a8')}, {'title': 'Instagram', 'link': 'https://www.instagram.com/decathlonsportsindia/', '_id': ObjectId('641ca12e37f039be4b9932a9')}, {'title': 'YouTube', 'link': 'https://www.youtube.com/user/decathlonsportindia', '_id': ObjectId('641ca12e37f039be4b9932aa')}, {'title': 'Blog', 'link': 'https://blog.decathlon.in', '_id': ObjectId('641ca12e37f039be4b9932ab')}, {'title': 'Website', 'link': 'https://www.decathlon.in/', '_id': ObjectId('641ca12e37f039be4b9932ac')}], 'typeOfCustomer': 'potential', 'crm': [{'msg': 'Have made the payement for the shipment , kindly acknowledge.', 'personType': 'client', 'timestamp': '2023-03-24 00:12', '_id': ObjectId('641ca2fa37f039be4b993408')}, {'msg': 'We have received your payment. Thank you very much sir. Would you like to order for the upcoming season?', 'personType': 'sp', 'timestamp': '2023-03-25 00:12', '_id': ObjectId('641ca2fa37f039be4b993409')}], '__v': 0}]\n"
     ]
    }
   ],
   "source": [
    "dc_all_records = dlom_clients_collection.find()\n",
    "dc_list_cursor = list(dc_all_records)\n",
    "print(dc_list_cursor)"
   ]
  },
  {
   "cell_type": "code",
   "execution_count": 44,
   "id": "4f40473f",
   "metadata": {},
   "outputs": [
    {
     "data": {
      "text/html": [
       "<div>\n",
       "<style scoped>\n",
       "    .dataframe tbody tr th:only-of-type {\n",
       "        vertical-align: middle;\n",
       "    }\n",
       "\n",
       "    .dataframe tbody tr th {\n",
       "        vertical-align: top;\n",
       "    }\n",
       "\n",
       "    .dataframe thead th {\n",
       "        text-align: right;\n",
       "    }\n",
       "</style>\n",
       "<table border=\"1\" class=\"dataframe\">\n",
       "  <thead>\n",
       "    <tr style=\"text-align: right;\">\n",
       "      <th></th>\n",
       "      <th>_id</th>\n",
       "      <th>companyName</th>\n",
       "      <th>contactPersonName</th>\n",
       "      <th>address</th>\n",
       "      <th>gst</th>\n",
       "      <th>phoneNumber</th>\n",
       "      <th>discountRate</th>\n",
       "      <th>salesPersonAssigned</th>\n",
       "      <th>clientSocialMedia</th>\n",
       "      <th>typeOfCustomer</th>\n",
       "      <th>crm</th>\n",
       "      <th>__v</th>\n",
       "    </tr>\n",
       "  </thead>\n",
       "  <tbody>\n",
       "    <tr>\n",
       "      <th>0</th>\n",
       "      <td>63ce7e473cb25e08b646e2e0</td>\n",
       "      <td>JJ Electronics</td>\n",
       "      <td>John Doe</td>\n",
       "      <td>Street:  183,184, Avarampalayam Road, Sidhap...</td>\n",
       "      <td>37AADCS0472N1Z1</td>\n",
       "      <td>04222329232</td>\n",
       "      <td>5</td>\n",
       "      <td>Jim Jones</td>\n",
       "      <td>[{'title': 'country', 'link': 'IND', '_id': 64...</td>\n",
       "      <td>potential</td>\n",
       "      <td>[{'msg': 'Hoping to receive the next shipment ...</td>\n",
       "      <td>0</td>\n",
       "    </tr>\n",
       "    <tr>\n",
       "      <th>1</th>\n",
       "      <td>63de7c32f820f95e82ddee53</td>\n",
       "      <td>Star Bazaar</td>\n",
       "      <td>Hitesh Chowdhary</td>\n",
       "      <td>Star Market, Aarambh Shreeji, Near Mcdonald, M...</td>\n",
       "      <td>37AADCS0472N2Z0</td>\n",
       "      <td>9029002233</td>\n",
       "      <td>7</td>\n",
       "      <td>Jim Jones</td>\n",
       "      <td>[{'title': 'country', 'link': 'IND', '_id': 64...</td>\n",
       "      <td>permanent</td>\n",
       "      <td>[{'msg': 'Need more Headphones for the store.'...</td>\n",
       "      <td>0</td>\n",
       "    </tr>\n",
       "    <tr>\n",
       "      <th>2</th>\n",
       "      <td>63e47a71f39019447bec4817</td>\n",
       "      <td>Decathlon Electronics</td>\n",
       "      <td>Louise Hopkins</td>\n",
       "      <td>Decathlon Andheri West  48, Veera Desai Rd, Az...</td>\n",
       "      <td>26AADCS0472N1Z4</td>\n",
       "      <td>09620999362</td>\n",
       "      <td>4</td>\n",
       "      <td>Jim Jones</td>\n",
       "      <td>[{'title': 'country', 'link': 'FRA', '_id': 64...</td>\n",
       "      <td>potential</td>\n",
       "      <td>[{'msg': 'Have made the payement for the shipm...</td>\n",
       "      <td>0</td>\n",
       "    </tr>\n",
       "  </tbody>\n",
       "</table>\n",
       "</div>"
      ],
      "text/plain": [
       "                        _id            companyName contactPersonName  \\\n",
       "0  63ce7e473cb25e08b646e2e0         JJ Electronics          John Doe   \n",
       "1  63de7c32f820f95e82ddee53            Star Bazaar  Hitesh Chowdhary   \n",
       "2  63e47a71f39019447bec4817  Decathlon Electronics    Louise Hopkins   \n",
       "\n",
       "                                             address              gst  \\\n",
       "0    Street:  183,184, Avarampalayam Road, Sidhap...  37AADCS0472N1Z1   \n",
       "1  Star Market, Aarambh Shreeji, Near Mcdonald, M...  37AADCS0472N2Z0   \n",
       "2  Decathlon Andheri West  48, Veera Desai Rd, Az...  26AADCS0472N1Z4   \n",
       "\n",
       "   phoneNumber discountRate salesPersonAssigned  \\\n",
       "0  04222329232            5           Jim Jones   \n",
       "1   9029002233            7           Jim Jones   \n",
       "2  09620999362            4           Jim Jones   \n",
       "\n",
       "                                   clientSocialMedia typeOfCustomer  \\\n",
       "0  [{'title': 'country', 'link': 'IND', '_id': 64...      potential   \n",
       "1  [{'title': 'country', 'link': 'IND', '_id': 64...      permanent   \n",
       "2  [{'title': 'country', 'link': 'FRA', '_id': 64...      potential   \n",
       "\n",
       "                                                 crm  __v  \n",
       "0  [{'msg': 'Hoping to receive the next shipment ...    0  \n",
       "1  [{'msg': 'Need more Headphones for the store.'...    0  \n",
       "2  [{'msg': 'Have made the payement for the shipm...    0  "
      ]
     },
     "execution_count": 44,
     "metadata": {},
     "output_type": "execute_result"
    }
   ],
   "source": [
    "dc_df = pd.DataFrame(dc_list_cursor)\n",
    "dc_df.head()"
   ]
  },
  {
   "cell_type": "code",
   "execution_count": 45,
   "id": "c8af2baa",
   "metadata": {},
   "outputs": [
    {
     "name": "stdout",
     "output_type": "stream",
     "text": [
      "_id                    object\n",
      "companyName            object\n",
      "contactPersonName      object\n",
      "address                object\n",
      "gst                    object\n",
      "phoneNumber            object\n",
      "discountRate           object\n",
      "salesPersonAssigned    object\n",
      "clientSocialMedia      object\n",
      "typeOfCustomer         object\n",
      "crm                    object\n",
      "__v                     int64\n",
      "dtype: object\n"
     ]
    }
   ],
   "source": [
    "print(dc_df.dtypes)"
   ]
  },
  {
   "cell_type": "code",
   "execution_count": 46,
   "id": "be0eeb82",
   "metadata": {},
   "outputs": [],
   "source": [
    "monthDayCombo = []\n",
    "uid=0\n",
    "for i in range(1,13):\n",
    "    m_string = \"\"\n",
    "    if(i<10):\n",
    "        m_string = \"0\"+str(i)\n",
    "    else:\n",
    "        m_string = str(i)\n",
    "\n",
    "    for j in range(0,7):\n",
    "        monthDayCombo.append({\n",
    "            'id':uid,\n",
    "            'day':str(j),\n",
    "            'month':m_string\n",
    "        })\n",
    "        uid = uid + 1"
   ]
  },
  {
   "cell_type": "code",
   "execution_count": 47,
   "id": "0379c638",
   "metadata": {
    "scrolled": true
   },
   "outputs": [
    {
     "data": {
      "text/plain": [
       "[{'orderId': '63ce7e543cb25e08b646e2e8',\n",
       "  'clientId': '63ce7e473cb25e08b646e2e0',\n",
       "  'clientName': 'JJ Electronics',\n",
       "  'qty': 4,\n",
       "  'sales': 4857.0,\n",
       "  'month': '02',\n",
       "  'day': '6',\n",
       "  'cliAvgSenti': 0.5,\n",
       "  'spAvgSenti': 1.0},\n",
       " {'orderId': '63cf8c6b0f0f991962134b55',\n",
       "  'clientId': '63ce7e473cb25e08b646e2e0',\n",
       "  'clientName': 'JJ Electronics',\n",
       "  'qty': 0,\n",
       "  'sales': 0.0,\n",
       "  'month': '02',\n",
       "  'day': '6',\n",
       "  'cliAvgSenti': 0.5,\n",
       "  'spAvgSenti': 1.0},\n",
       " {'orderId': '63d247f7ef4b90ee6baa5777',\n",
       "  'clientId': '63ce7e473cb25e08b646e2e0',\n",
       "  'clientName': 'JJ Electronics',\n",
       "  'qty': 0,\n",
       "  'sales': 0.0,\n",
       "  'month': '02',\n",
       "  'day': '6',\n",
       "  'cliAvgSenti': 0.5,\n",
       "  'spAvgSenti': 1.0},\n",
       " {'orderId': '63d6084c552dd4d69eee1f57',\n",
       "  'clientId': '63ce7e473cb25e08b646e2e0',\n",
       "  'clientName': 'JJ Electronics',\n",
       "  'qty': 5,\n",
       "  'sales': 27.0,\n",
       "  'month': '01',\n",
       "  'day': '0',\n",
       "  'cliAvgSenti': 0.5,\n",
       "  'spAvgSenti': 1.0},\n",
       " {'orderId': '63de815bf820f95e82ddee96',\n",
       "  'clientId': '63ce7e473cb25e08b646e2e0',\n",
       "  'clientName': 'JJ Electronics',\n",
       "  'qty': 1,\n",
       "  'sales': 1077.0,\n",
       "  'month': '02',\n",
       "  'day': '6',\n",
       "  'cliAvgSenti': 0.5,\n",
       "  'spAvgSenti': 1.0},\n",
       " {'orderId': '63f0bf71119c38497d5c89dd',\n",
       "  'clientId': '63de7c32f820f95e82ddee53',\n",
       "  'clientName': 'Star Bazaar',\n",
       "  'qty': 2,\n",
       "  'sales': 8402.0,\n",
       "  'month': '02',\n",
       "  'day': '6',\n",
       "  'cliAvgSenti': 1.0,\n",
       "  'spAvgSenti': 1.0},\n",
       " {'orderId': '63fa4c7fd7d738df1c63dd2f',\n",
       "  'clientId': '63e47a71f39019447bec4817',\n",
       "  'clientName': 'Decathlon Electronics',\n",
       "  'qty': 2,\n",
       "  'sales': 2520.0,\n",
       "  'month': '02',\n",
       "  'day': '6',\n",
       "  'cliAvgSenti': 0.0,\n",
       "  'spAvgSenti': 1.0},\n",
       " {'orderId': '641cc5f237f039be4b9934cc',\n",
       "  'clientId': '63e47a71f39019447bec4817',\n",
       "  'clientName': 'Decathlon Electronics',\n",
       "  'qty': 6,\n",
       "  'sales': 22265.0,\n",
       "  'month': '03',\n",
       "  'day': '4',\n",
       "  'cliAvgSenti': 0.0,\n",
       "  'spAvgSenti': 1.0}]"
      ]
     },
     "execution_count": 47,
     "metadata": {},
     "output_type": "execute_result"
    }
   ],
   "source": [
    "dc_all_records = dlom_clients_collection.find()\n",
    "dc_list = list(dc_all_records)\n",
    "# print(len(dc_list))\n",
    "\n",
    "dol_all_records = dlom_orderlogs_collection.find()\n",
    "dol_list = list(dol_all_records)\n",
    "# print(len(dol_list))\n",
    "\n",
    "do_all_records = dlom_orders_collection.find()\n",
    "do_list = list(do_all_records)\n",
    "do_list_processed = []\n",
    "prods_list_processed = []\n",
    "for item in do_list:\n",
    "    #for product list:\n",
    "    \n",
    "    \n",
    "    #for order list:\n",
    "    clientName = \"\"\n",
    "    qty = 0 \n",
    "    order_id = \"\"\n",
    "    sales = \"\"\n",
    "    timestamp = \"\"\n",
    "    day = \"\"\n",
    "    month = \"\"\n",
    "    cliAvgSenti = float(0)\n",
    "    spAvgSenti = float(0)\n",
    "#     print(item['clientId'])\n",
    "    clichats = []\n",
    "    spchats = []\n",
    "    \n",
    "    \n",
    "    for cli in dc_list:\n",
    "        if cli['_id'] == item['clientId']:\n",
    "            clientName = cli['companyName']\n",
    "#             print(list(cli['crm']))\n",
    "            for crm in cli['crm']:\n",
    "                if(len(crm)>0):\n",
    "                    if(crm['personType']=='client'):\n",
    "                        clichats.append(crm['msg'])\n",
    "                    elif (crm['personType']=='sp'):\n",
    "                        spchats.append(crm['msg'])\n",
    "#                 print(crm)\n",
    "            \n",
    "#             print(clientName)\n",
    "#     print(clichats)\n",
    "#     print(spchats)\n",
    "    if(len(clichats)>0):\n",
    "        cliChatsPreds = predict(loaded_pipe,clichats)\n",
    "        for cc in cliChatsPreds:\n",
    "            cliAvgSenti = cliAvgSenti + float(cc[1])\n",
    "        cliAvgSenti = cliAvgSenti/len(cliChatsPreds)\n",
    "        \n",
    "        \n",
    "    if(len(spchats)>0):\n",
    "        spChatsPreds = predict(loaded_pipe,spchats)\n",
    "        for sc in spChatsPreds:\n",
    "            spAvgSenti = spAvgSenti + float(sc[1])\n",
    "        spAvgSenti = spAvgSenti/len(spChatsPreds)\n",
    "\n",
    "        \n",
    "#     print(cliChatsPreds)\n",
    "#     print(spChatsPreds)\n",
    "    \n",
    "    qty = int(item['invoice']['totalQty'])\n",
    "#     print(qty)\n",
    "    \n",
    "    order_id = str(item['_id'])\n",
    "#     print(order_id)\n",
    "    \n",
    "    sales = item['invoice']['totalAmount']\n",
    "    \n",
    "    sales_float =float(0)\n",
    "    if(sales != \"\"):\n",
    "        sales_float = float(sales)\n",
    "    \n",
    "    for dol in dol_list:\n",
    "        if(dol['order']['invoice']['invoiceNo'] == item['invoice']['invoiceNo'] and dol['operation']==\"invoice\"):\n",
    "            timestamp = datetime.datetime.strptime(str(dol['createdAt']), '%Y-%m-%d %H:%M:%S.%f')\n",
    "            month = timestamp.strftime(\"%m\")\n",
    "            day = timestamp.strftime(\"%w\")\n",
    "            break\n",
    "            \n",
    "    \n",
    "    \n",
    "    do_list_processed.append({\n",
    "        'orderId':order_id, \n",
    "        'clientId':str(item['clientId']),\n",
    "        'clientName':clientName,\n",
    "        'qty':qty,\n",
    "        'sales':sales_float,\n",
    "        'month':month,\n",
    "        'day':day,\n",
    "        'cliAvgSenti':cliAvgSenti,\n",
    "        'spAvgSenti':spAvgSenti\n",
    "    })\n",
    "    \n",
    "    if(len(item['invoice']['invTable'])>0):\n",
    "        for prod in item['invoice']['invTable']:\n",
    "#             print(prod)\n",
    "            prods_list_processed.append({\n",
    "                'prodName':prod['descriptionOfGoods'],\n",
    "                'clientName':clientName,\n",
    "                'month':month,\n",
    "                'day':day,\n",
    "                'orderQty':qty,\n",
    "                'orderTotal':sales_float,\n",
    "                'cliAvgSenti':cliAvgSenti,\n",
    "                'spAvgSenti':spAvgSenti,\n",
    "                'sales':float(prod['amount'])\n",
    "            })\n",
    "    \n",
    "\n",
    "dc_list_processed = []\n",
    "for client in dc_list:\n",
    "    \n",
    "    clientOrders = []\n",
    "    for order in do_list_processed:\n",
    "        if order['clientId'] == str(client['_id']):\n",
    "            clientOrders.append(order)\n",
    "    \n",
    "#     print(clientOrders)\n",
    "\n",
    "    \n",
    "    processed_cliOrders = []\n",
    "    qty = 0\n",
    "    for clio in clientOrders:\n",
    "        for mdc in monthDayCombo:\n",
    "            if(mdc['month']==clio['month']):\n",
    "                if(mdc['day']==clio['day']):\n",
    "                    processed_cliOrders.append({\n",
    "                        'id':mdc['id'],\n",
    "                        'qty':clio['qty'],\n",
    "                        'sales':clio['sales']\n",
    "                    })\n",
    "    unique_ids = [] \n",
    "    for pco in processed_cliOrders:\n",
    "        if pco['id'] in unique_ids:\n",
    "            continue\n",
    "        else :\n",
    "            unique_ids.append(pco['id'])\n",
    "    \n",
    "    for uid in unique_ids :\n",
    "        qty_1 =0 \n",
    "        sales_1 = float(0)\n",
    "        month_1 = \"\"\n",
    "        day_1 = \"\"\n",
    "        \n",
    "        for pco in processed_cliOrders:\n",
    "            if(pco['id']==uid):\n",
    "                qty_1 =qty_1 + pco['qty']\n",
    "                sales_1 = sales_1 + pco['sales'] \n",
    "                \n",
    "        for entry in monthDayCombo:\n",
    "            if(entry['id']==uid):\n",
    "                month_1 = entry['month']\n",
    "                day_1 = entry['day']\n",
    "        \n",
    "        dc_list_processed.append({\n",
    "            'cliName':client['companyName'],\n",
    "            'month':month_1,\n",
    "            'day':day_1,\n",
    "            'qty':qty_1,\n",
    "            'sales':sales_1\n",
    "        })\n",
    "    \n",
    "#     print(monthDayCombo)\n",
    "#     print(processed_cliOrders)\n",
    "#     print(unique_ids)\n",
    "    \n",
    "#     print(\"\\n\\n\")\n",
    "\n",
    "#     print(\"\\n\\n\")\n",
    "do_list_processed"
   ]
  },
  {
   "cell_type": "code",
   "execution_count": 48,
   "id": "b644dc73",
   "metadata": {},
   "outputs": [
    {
     "data": {
      "text/html": [
       "<div>\n",
       "<style scoped>\n",
       "    .dataframe tbody tr th:only-of-type {\n",
       "        vertical-align: middle;\n",
       "    }\n",
       "\n",
       "    .dataframe tbody tr th {\n",
       "        vertical-align: top;\n",
       "    }\n",
       "\n",
       "    .dataframe thead th {\n",
       "        text-align: right;\n",
       "    }\n",
       "</style>\n",
       "<table border=\"1\" class=\"dataframe\">\n",
       "  <thead>\n",
       "    <tr style=\"text-align: right;\">\n",
       "      <th></th>\n",
       "      <th>orderId</th>\n",
       "      <th>clientId</th>\n",
       "      <th>clientName</th>\n",
       "      <th>qty</th>\n",
       "      <th>sales</th>\n",
       "      <th>month</th>\n",
       "      <th>day</th>\n",
       "      <th>cliAvgSenti</th>\n",
       "      <th>spAvgSenti</th>\n",
       "    </tr>\n",
       "  </thead>\n",
       "  <tbody>\n",
       "    <tr>\n",
       "      <th>0</th>\n",
       "      <td>63ce7e543cb25e08b646e2e8</td>\n",
       "      <td>63ce7e473cb25e08b646e2e0</td>\n",
       "      <td>JJ Electronics</td>\n",
       "      <td>4</td>\n",
       "      <td>4857.0</td>\n",
       "      <td>02</td>\n",
       "      <td>6</td>\n",
       "      <td>0.5</td>\n",
       "      <td>1.0</td>\n",
       "    </tr>\n",
       "    <tr>\n",
       "      <th>1</th>\n",
       "      <td>63cf8c6b0f0f991962134b55</td>\n",
       "      <td>63ce7e473cb25e08b646e2e0</td>\n",
       "      <td>JJ Electronics</td>\n",
       "      <td>0</td>\n",
       "      <td>0.0</td>\n",
       "      <td>02</td>\n",
       "      <td>6</td>\n",
       "      <td>0.5</td>\n",
       "      <td>1.0</td>\n",
       "    </tr>\n",
       "    <tr>\n",
       "      <th>2</th>\n",
       "      <td>63d247f7ef4b90ee6baa5777</td>\n",
       "      <td>63ce7e473cb25e08b646e2e0</td>\n",
       "      <td>JJ Electronics</td>\n",
       "      <td>0</td>\n",
       "      <td>0.0</td>\n",
       "      <td>02</td>\n",
       "      <td>6</td>\n",
       "      <td>0.5</td>\n",
       "      <td>1.0</td>\n",
       "    </tr>\n",
       "    <tr>\n",
       "      <th>3</th>\n",
       "      <td>63d6084c552dd4d69eee1f57</td>\n",
       "      <td>63ce7e473cb25e08b646e2e0</td>\n",
       "      <td>JJ Electronics</td>\n",
       "      <td>5</td>\n",
       "      <td>27.0</td>\n",
       "      <td>01</td>\n",
       "      <td>0</td>\n",
       "      <td>0.5</td>\n",
       "      <td>1.0</td>\n",
       "    </tr>\n",
       "    <tr>\n",
       "      <th>4</th>\n",
       "      <td>63de815bf820f95e82ddee96</td>\n",
       "      <td>63ce7e473cb25e08b646e2e0</td>\n",
       "      <td>JJ Electronics</td>\n",
       "      <td>1</td>\n",
       "      <td>1077.0</td>\n",
       "      <td>02</td>\n",
       "      <td>6</td>\n",
       "      <td>0.5</td>\n",
       "      <td>1.0</td>\n",
       "    </tr>\n",
       "    <tr>\n",
       "      <th>5</th>\n",
       "      <td>63f0bf71119c38497d5c89dd</td>\n",
       "      <td>63de7c32f820f95e82ddee53</td>\n",
       "      <td>Star Bazaar</td>\n",
       "      <td>2</td>\n",
       "      <td>8402.0</td>\n",
       "      <td>02</td>\n",
       "      <td>6</td>\n",
       "      <td>1.0</td>\n",
       "      <td>1.0</td>\n",
       "    </tr>\n",
       "    <tr>\n",
       "      <th>6</th>\n",
       "      <td>63fa4c7fd7d738df1c63dd2f</td>\n",
       "      <td>63e47a71f39019447bec4817</td>\n",
       "      <td>Decathlon Electronics</td>\n",
       "      <td>2</td>\n",
       "      <td>2520.0</td>\n",
       "      <td>02</td>\n",
       "      <td>6</td>\n",
       "      <td>0.0</td>\n",
       "      <td>1.0</td>\n",
       "    </tr>\n",
       "    <tr>\n",
       "      <th>7</th>\n",
       "      <td>641cc5f237f039be4b9934cc</td>\n",
       "      <td>63e47a71f39019447bec4817</td>\n",
       "      <td>Decathlon Electronics</td>\n",
       "      <td>6</td>\n",
       "      <td>22265.0</td>\n",
       "      <td>03</td>\n",
       "      <td>4</td>\n",
       "      <td>0.0</td>\n",
       "      <td>1.0</td>\n",
       "    </tr>\n",
       "  </tbody>\n",
       "</table>\n",
       "</div>"
      ],
      "text/plain": [
       "                    orderId                  clientId             clientName  \\\n",
       "0  63ce7e543cb25e08b646e2e8  63ce7e473cb25e08b646e2e0         JJ Electronics   \n",
       "1  63cf8c6b0f0f991962134b55  63ce7e473cb25e08b646e2e0         JJ Electronics   \n",
       "2  63d247f7ef4b90ee6baa5777  63ce7e473cb25e08b646e2e0         JJ Electronics   \n",
       "3  63d6084c552dd4d69eee1f57  63ce7e473cb25e08b646e2e0         JJ Electronics   \n",
       "4  63de815bf820f95e82ddee96  63ce7e473cb25e08b646e2e0         JJ Electronics   \n",
       "5  63f0bf71119c38497d5c89dd  63de7c32f820f95e82ddee53            Star Bazaar   \n",
       "6  63fa4c7fd7d738df1c63dd2f  63e47a71f39019447bec4817  Decathlon Electronics   \n",
       "7  641cc5f237f039be4b9934cc  63e47a71f39019447bec4817  Decathlon Electronics   \n",
       "\n",
       "   qty    sales month day  cliAvgSenti  spAvgSenti  \n",
       "0    4   4857.0    02   6          0.5         1.0  \n",
       "1    0      0.0    02   6          0.5         1.0  \n",
       "2    0      0.0    02   6          0.5         1.0  \n",
       "3    5     27.0    01   0          0.5         1.0  \n",
       "4    1   1077.0    02   6          0.5         1.0  \n",
       "5    2   8402.0    02   6          1.0         1.0  \n",
       "6    2   2520.0    02   6          0.0         1.0  \n",
       "7    6  22265.0    03   4          0.0         1.0  "
      ]
     },
     "execution_count": 48,
     "metadata": {},
     "output_type": "execute_result"
    }
   ],
   "source": [
    "orderwise_df_1 = pd.DataFrame(do_list_processed)\n",
    "orderwise_df_1"
   ]
  },
  {
   "cell_type": "code",
   "execution_count": 49,
   "id": "8affdc31",
   "metadata": {},
   "outputs": [
    {
     "data": {
      "text/plain": [
       "orderId         object\n",
       "clientId        object\n",
       "clientName      object\n",
       "qty              int64\n",
       "sales          float64\n",
       "month           object\n",
       "day             object\n",
       "cliAvgSenti    float64\n",
       "spAvgSenti     float64\n",
       "dtype: object"
      ]
     },
     "execution_count": 49,
     "metadata": {},
     "output_type": "execute_result"
    }
   ],
   "source": [
    "orderwise_df_1.dtypes"
   ]
  },
  {
   "cell_type": "code",
   "execution_count": 50,
   "id": "564d5090",
   "metadata": {
    "scrolled": true
   },
   "outputs": [
    {
     "data": {
      "text/plain": [
       "[{'prodName': 'prodsku99',\n",
       "  'clientName': 'JJ Electronics',\n",
       "  'month': '02',\n",
       "  'day': '6',\n",
       "  'orderQty': 4,\n",
       "  'orderTotal': 4857.0,\n",
       "  'cliAvgSenti': 0.5,\n",
       "  'spAvgSenti': 1.0,\n",
       "  'sales': 988.0},\n",
       " {'prodName': 'prodsku20',\n",
       "  'clientName': 'JJ Electronics',\n",
       "  'month': '02',\n",
       "  'day': '6',\n",
       "  'orderQty': 4,\n",
       "  'orderTotal': 4857.0,\n",
       "  'cliAvgSenti': 0.5,\n",
       "  'spAvgSenti': 1.0,\n",
       "  'sales': 1200.0},\n",
       " {'prodName': 'prodsku20',\n",
       "  'clientName': 'JJ Electronics',\n",
       "  'month': '02',\n",
       "  'day': '6',\n",
       "  'orderQty': 4,\n",
       "  'orderTotal': 4857.0,\n",
       "  'cliAvgSenti': 0.5,\n",
       "  'spAvgSenti': 1.0,\n",
       "  'sales': 2400.0},\n",
       " {'prodName': 'desc1',\n",
       "  'clientName': 'JJ Electronics',\n",
       "  'month': '01',\n",
       "  'day': '0',\n",
       "  'orderQty': 5,\n",
       "  'orderTotal': 27.0,\n",
       "  'cliAvgSenti': 0.5,\n",
       "  'spAvgSenti': 1.0,\n",
       "  'sales': 25.0},\n",
       " {'prodName': 'prodsku99',\n",
       "  'clientName': 'JJ Electronics',\n",
       "  'month': '02',\n",
       "  'day': '6',\n",
       "  'orderQty': 1,\n",
       "  'orderTotal': 1077.0,\n",
       "  'cliAvgSenti': 0.5,\n",
       "  'spAvgSenti': 1.0,\n",
       "  'sales': 988.0},\n",
       " {'prodName': 'prodSKU3',\n",
       "  'clientName': 'Star Bazaar',\n",
       "  'month': '02',\n",
       "  'day': '6',\n",
       "  'orderQty': 2,\n",
       "  'orderTotal': 8402.0,\n",
       "  'cliAvgSenti': 1.0,\n",
       "  'spAvgSenti': 1.0,\n",
       "  'sales': 8002.0},\n",
       " {'prodName': 'prodsku20',\n",
       "  'clientName': 'Decathlon Electronics',\n",
       "  'month': '02',\n",
       "  'day': '6',\n",
       "  'orderQty': 2,\n",
       "  'orderTotal': 2520.0,\n",
       "  'cliAvgSenti': 0.0,\n",
       "  'spAvgSenti': 1.0,\n",
       "  'sales': 2400.0},\n",
       " {'prodName': 'prodSKU3',\n",
       "  'clientName': 'Decathlon Electronics',\n",
       "  'month': '03',\n",
       "  'day': '4',\n",
       "  'orderQty': 6,\n",
       "  'orderTotal': 22265.0,\n",
       "  'cliAvgSenti': 0.0,\n",
       "  'spAvgSenti': 1.0,\n",
       "  'sales': 20005.0},\n",
       " {'prodName': 'prodsku20',\n",
       "  'clientName': 'Decathlon Electronics',\n",
       "  'month': '03',\n",
       "  'day': '4',\n",
       "  'orderQty': 6,\n",
       "  'orderTotal': 22265.0,\n",
       "  'cliAvgSenti': 0.0,\n",
       "  'spAvgSenti': 1.0,\n",
       "  'sales': 1200.0}]"
      ]
     },
     "execution_count": 50,
     "metadata": {},
     "output_type": "execute_result"
    }
   ],
   "source": [
    "prods_list_processed"
   ]
  },
  {
   "cell_type": "code",
   "execution_count": 51,
   "id": "be560f7e",
   "metadata": {},
   "outputs": [
    {
     "data": {
      "text/html": [
       "<div>\n",
       "<style scoped>\n",
       "    .dataframe tbody tr th:only-of-type {\n",
       "        vertical-align: middle;\n",
       "    }\n",
       "\n",
       "    .dataframe tbody tr th {\n",
       "        vertical-align: top;\n",
       "    }\n",
       "\n",
       "    .dataframe thead th {\n",
       "        text-align: right;\n",
       "    }\n",
       "</style>\n",
       "<table border=\"1\" class=\"dataframe\">\n",
       "  <thead>\n",
       "    <tr style=\"text-align: right;\">\n",
       "      <th></th>\n",
       "      <th>prodName</th>\n",
       "      <th>clientName</th>\n",
       "      <th>month</th>\n",
       "      <th>day</th>\n",
       "      <th>orderQty</th>\n",
       "      <th>orderTotal</th>\n",
       "      <th>cliAvgSenti</th>\n",
       "      <th>spAvgSenti</th>\n",
       "      <th>sales</th>\n",
       "    </tr>\n",
       "  </thead>\n",
       "  <tbody>\n",
       "    <tr>\n",
       "      <th>0</th>\n",
       "      <td>prodsku99</td>\n",
       "      <td>JJ Electronics</td>\n",
       "      <td>02</td>\n",
       "      <td>6</td>\n",
       "      <td>4</td>\n",
       "      <td>4857.0</td>\n",
       "      <td>0.5</td>\n",
       "      <td>1.0</td>\n",
       "      <td>988.0</td>\n",
       "    </tr>\n",
       "    <tr>\n",
       "      <th>1</th>\n",
       "      <td>prodsku20</td>\n",
       "      <td>JJ Electronics</td>\n",
       "      <td>02</td>\n",
       "      <td>6</td>\n",
       "      <td>4</td>\n",
       "      <td>4857.0</td>\n",
       "      <td>0.5</td>\n",
       "      <td>1.0</td>\n",
       "      <td>1200.0</td>\n",
       "    </tr>\n",
       "    <tr>\n",
       "      <th>2</th>\n",
       "      <td>prodsku20</td>\n",
       "      <td>JJ Electronics</td>\n",
       "      <td>02</td>\n",
       "      <td>6</td>\n",
       "      <td>4</td>\n",
       "      <td>4857.0</td>\n",
       "      <td>0.5</td>\n",
       "      <td>1.0</td>\n",
       "      <td>2400.0</td>\n",
       "    </tr>\n",
       "    <tr>\n",
       "      <th>3</th>\n",
       "      <td>desc1</td>\n",
       "      <td>JJ Electronics</td>\n",
       "      <td>01</td>\n",
       "      <td>0</td>\n",
       "      <td>5</td>\n",
       "      <td>27.0</td>\n",
       "      <td>0.5</td>\n",
       "      <td>1.0</td>\n",
       "      <td>25.0</td>\n",
       "    </tr>\n",
       "    <tr>\n",
       "      <th>4</th>\n",
       "      <td>prodsku99</td>\n",
       "      <td>JJ Electronics</td>\n",
       "      <td>02</td>\n",
       "      <td>6</td>\n",
       "      <td>1</td>\n",
       "      <td>1077.0</td>\n",
       "      <td>0.5</td>\n",
       "      <td>1.0</td>\n",
       "      <td>988.0</td>\n",
       "    </tr>\n",
       "    <tr>\n",
       "      <th>5</th>\n",
       "      <td>prodSKU3</td>\n",
       "      <td>Star Bazaar</td>\n",
       "      <td>02</td>\n",
       "      <td>6</td>\n",
       "      <td>2</td>\n",
       "      <td>8402.0</td>\n",
       "      <td>1.0</td>\n",
       "      <td>1.0</td>\n",
       "      <td>8002.0</td>\n",
       "    </tr>\n",
       "    <tr>\n",
       "      <th>6</th>\n",
       "      <td>prodsku20</td>\n",
       "      <td>Decathlon Electronics</td>\n",
       "      <td>02</td>\n",
       "      <td>6</td>\n",
       "      <td>2</td>\n",
       "      <td>2520.0</td>\n",
       "      <td>0.0</td>\n",
       "      <td>1.0</td>\n",
       "      <td>2400.0</td>\n",
       "    </tr>\n",
       "    <tr>\n",
       "      <th>7</th>\n",
       "      <td>prodSKU3</td>\n",
       "      <td>Decathlon Electronics</td>\n",
       "      <td>03</td>\n",
       "      <td>4</td>\n",
       "      <td>6</td>\n",
       "      <td>22265.0</td>\n",
       "      <td>0.0</td>\n",
       "      <td>1.0</td>\n",
       "      <td>20005.0</td>\n",
       "    </tr>\n",
       "    <tr>\n",
       "      <th>8</th>\n",
       "      <td>prodsku20</td>\n",
       "      <td>Decathlon Electronics</td>\n",
       "      <td>03</td>\n",
       "      <td>4</td>\n",
       "      <td>6</td>\n",
       "      <td>22265.0</td>\n",
       "      <td>0.0</td>\n",
       "      <td>1.0</td>\n",
       "      <td>1200.0</td>\n",
       "    </tr>\n",
       "  </tbody>\n",
       "</table>\n",
       "</div>"
      ],
      "text/plain": [
       "    prodName             clientName month day  orderQty  orderTotal  \\\n",
       "0  prodsku99         JJ Electronics    02   6         4      4857.0   \n",
       "1  prodsku20         JJ Electronics    02   6         4      4857.0   \n",
       "2  prodsku20         JJ Electronics    02   6         4      4857.0   \n",
       "3      desc1         JJ Electronics    01   0         5        27.0   \n",
       "4  prodsku99         JJ Electronics    02   6         1      1077.0   \n",
       "5   prodSKU3            Star Bazaar    02   6         2      8402.0   \n",
       "6  prodsku20  Decathlon Electronics    02   6         2      2520.0   \n",
       "7   prodSKU3  Decathlon Electronics    03   4         6     22265.0   \n",
       "8  prodsku20  Decathlon Electronics    03   4         6     22265.0   \n",
       "\n",
       "   cliAvgSenti  spAvgSenti    sales  \n",
       "0          0.5         1.0    988.0  \n",
       "1          0.5         1.0   1200.0  \n",
       "2          0.5         1.0   2400.0  \n",
       "3          0.5         1.0     25.0  \n",
       "4          0.5         1.0    988.0  \n",
       "5          1.0         1.0   8002.0  \n",
       "6          0.0         1.0   2400.0  \n",
       "7          0.0         1.0  20005.0  \n",
       "8          0.0         1.0   1200.0  "
      ]
     },
     "execution_count": 51,
     "metadata": {},
     "output_type": "execute_result"
    }
   ],
   "source": [
    "prodwise_df_1 = pd.DataFrame(prods_list_processed)\n",
    "prodwise_df_1"
   ]
  },
  {
   "cell_type": "code",
   "execution_count": 52,
   "id": "49797fda",
   "metadata": {},
   "outputs": [
    {
     "data": {
      "text/plain": [
       "prodName        object\n",
       "clientName      object\n",
       "month           object\n",
       "day             object\n",
       "orderQty         int64\n",
       "orderTotal     float64\n",
       "cliAvgSenti    float64\n",
       "spAvgSenti     float64\n",
       "sales          float64\n",
       "dtype: object"
      ]
     },
     "execution_count": 52,
     "metadata": {},
     "output_type": "execute_result"
    }
   ],
   "source": [
    "prodwise_df_1.dtypes"
   ]
  },
  {
   "cell_type": "code",
   "execution_count": 53,
   "id": "dd220afe",
   "metadata": {},
   "outputs": [
    {
     "data": {
      "text/html": [
       "<div>\n",
       "<style scoped>\n",
       "    .dataframe tbody tr th:only-of-type {\n",
       "        vertical-align: middle;\n",
       "    }\n",
       "\n",
       "    .dataframe tbody tr th {\n",
       "        vertical-align: top;\n",
       "    }\n",
       "\n",
       "    .dataframe thead th {\n",
       "        text-align: right;\n",
       "    }\n",
       "</style>\n",
       "<table border=\"1\" class=\"dataframe\">\n",
       "  <thead>\n",
       "    <tr style=\"text-align: right;\">\n",
       "      <th></th>\n",
       "      <th>cliName</th>\n",
       "      <th>month</th>\n",
       "      <th>day</th>\n",
       "      <th>qty</th>\n",
       "      <th>sales</th>\n",
       "    </tr>\n",
       "  </thead>\n",
       "  <tbody>\n",
       "    <tr>\n",
       "      <th>0</th>\n",
       "      <td>JJ Electronics</td>\n",
       "      <td>02</td>\n",
       "      <td>6</td>\n",
       "      <td>5</td>\n",
       "      <td>5934.0</td>\n",
       "    </tr>\n",
       "    <tr>\n",
       "      <th>1</th>\n",
       "      <td>JJ Electronics</td>\n",
       "      <td>01</td>\n",
       "      <td>0</td>\n",
       "      <td>5</td>\n",
       "      <td>27.0</td>\n",
       "    </tr>\n",
       "    <tr>\n",
       "      <th>2</th>\n",
       "      <td>Star Bazaar</td>\n",
       "      <td>02</td>\n",
       "      <td>6</td>\n",
       "      <td>2</td>\n",
       "      <td>8402.0</td>\n",
       "    </tr>\n",
       "    <tr>\n",
       "      <th>3</th>\n",
       "      <td>Decathlon Electronics</td>\n",
       "      <td>02</td>\n",
       "      <td>6</td>\n",
       "      <td>2</td>\n",
       "      <td>2520.0</td>\n",
       "    </tr>\n",
       "    <tr>\n",
       "      <th>4</th>\n",
       "      <td>Decathlon Electronics</td>\n",
       "      <td>03</td>\n",
       "      <td>4</td>\n",
       "      <td>6</td>\n",
       "      <td>22265.0</td>\n",
       "    </tr>\n",
       "  </tbody>\n",
       "</table>\n",
       "</div>"
      ],
      "text/plain": [
       "                 cliName month day  qty    sales\n",
       "0         JJ Electronics    02   6    5   5934.0\n",
       "1         JJ Electronics    01   0    5     27.0\n",
       "2            Star Bazaar    02   6    2   8402.0\n",
       "3  Decathlon Electronics    02   6    2   2520.0\n",
       "4  Decathlon Electronics    03   4    6  22265.0"
      ]
     },
     "execution_count": 53,
     "metadata": {},
     "output_type": "execute_result"
    }
   ],
   "source": [
    "clientwise_df_1 = pd.DataFrame(dc_list_processed)\n",
    "clientwise_df_1"
   ]
  },
  {
   "cell_type": "code",
   "execution_count": 54,
   "id": "a05b4aa3",
   "metadata": {},
   "outputs": [
    {
     "data": {
      "text/plain": [
       "cliName     object\n",
       "month       object\n",
       "day         object\n",
       "qty          int64\n",
       "sales      float64\n",
       "dtype: object"
      ]
     },
     "execution_count": 54,
     "metadata": {},
     "output_type": "execute_result"
    }
   ],
   "source": [
    "clientwise_df_1.dtypes"
   ]
  },
  {
   "cell_type": "code",
   "execution_count": null,
   "id": "a8b85b11",
   "metadata": {},
   "outputs": [],
   "source": []
  },
  {
   "cell_type": "code",
   "execution_count": 55,
   "id": "42fc1afd",
   "metadata": {},
   "outputs": [],
   "source": [
    "from sklearn.model_selection import train_test_split\n",
    "from sklearn.compose import ColumnTransformer\n",
    "from sklearn.impute import SimpleImputer\n",
    "from sklearn.preprocessing import OneHotEncoder\n",
    "from sklearn.preprocessing import OrdinalEncoder\n",
    "from sklearn.preprocessing import MinMaxScaler\n",
    "from sklearn.pipeline import Pipeline,make_pipeline\n",
    "from sklearn.feature_selection import SelectKBest,chi2"
   ]
  },
  {
   "cell_type": "markdown",
   "id": "31a52e40",
   "metadata": {},
   "source": [
    "# m1 - predict orderwise reg"
   ]
  },
  {
   "cell_type": "code",
   "execution_count": 56,
   "id": "bdabfbe5",
   "metadata": {},
   "outputs": [],
   "source": [
    "#create pipeline \n",
    "\n",
    "#preprocess + feature engineering + train model using pipeline\n",
    "\n",
    "#export m1_pipeline \n",
    "\n",
    "#import m1_pipeline \n",
    "\n",
    "# make predict fuction for m1_pipeline"
   ]
  },
  {
   "cell_type": "code",
   "execution_count": 57,
   "id": "cfce6245",
   "metadata": {},
   "outputs": [
    {
     "data": {
      "text/html": [
       "<div>\n",
       "<style scoped>\n",
       "    .dataframe tbody tr th:only-of-type {\n",
       "        vertical-align: middle;\n",
       "    }\n",
       "\n",
       "    .dataframe tbody tr th {\n",
       "        vertical-align: top;\n",
       "    }\n",
       "\n",
       "    .dataframe thead th {\n",
       "        text-align: right;\n",
       "    }\n",
       "</style>\n",
       "<table border=\"1\" class=\"dataframe\">\n",
       "  <thead>\n",
       "    <tr style=\"text-align: right;\">\n",
       "      <th></th>\n",
       "      <th>orderId</th>\n",
       "      <th>clientId</th>\n",
       "      <th>clientName</th>\n",
       "      <th>qty</th>\n",
       "      <th>sales</th>\n",
       "      <th>month</th>\n",
       "      <th>day</th>\n",
       "      <th>cliAvgSenti</th>\n",
       "      <th>spAvgSenti</th>\n",
       "    </tr>\n",
       "  </thead>\n",
       "  <tbody>\n",
       "    <tr>\n",
       "      <th>0</th>\n",
       "      <td>63ce7e543cb25e08b646e2e8</td>\n",
       "      <td>63ce7e473cb25e08b646e2e0</td>\n",
       "      <td>JJ Electronics</td>\n",
       "      <td>4</td>\n",
       "      <td>4857.0</td>\n",
       "      <td>02</td>\n",
       "      <td>6</td>\n",
       "      <td>0.5</td>\n",
       "      <td>1.0</td>\n",
       "    </tr>\n",
       "    <tr>\n",
       "      <th>1</th>\n",
       "      <td>63cf8c6b0f0f991962134b55</td>\n",
       "      <td>63ce7e473cb25e08b646e2e0</td>\n",
       "      <td>JJ Electronics</td>\n",
       "      <td>0</td>\n",
       "      <td>0.0</td>\n",
       "      <td>02</td>\n",
       "      <td>6</td>\n",
       "      <td>0.5</td>\n",
       "      <td>1.0</td>\n",
       "    </tr>\n",
       "    <tr>\n",
       "      <th>2</th>\n",
       "      <td>63d247f7ef4b90ee6baa5777</td>\n",
       "      <td>63ce7e473cb25e08b646e2e0</td>\n",
       "      <td>JJ Electronics</td>\n",
       "      <td>0</td>\n",
       "      <td>0.0</td>\n",
       "      <td>02</td>\n",
       "      <td>6</td>\n",
       "      <td>0.5</td>\n",
       "      <td>1.0</td>\n",
       "    </tr>\n",
       "    <tr>\n",
       "      <th>3</th>\n",
       "      <td>63d6084c552dd4d69eee1f57</td>\n",
       "      <td>63ce7e473cb25e08b646e2e0</td>\n",
       "      <td>JJ Electronics</td>\n",
       "      <td>5</td>\n",
       "      <td>27.0</td>\n",
       "      <td>01</td>\n",
       "      <td>0</td>\n",
       "      <td>0.5</td>\n",
       "      <td>1.0</td>\n",
       "    </tr>\n",
       "    <tr>\n",
       "      <th>4</th>\n",
       "      <td>63de815bf820f95e82ddee96</td>\n",
       "      <td>63ce7e473cb25e08b646e2e0</td>\n",
       "      <td>JJ Electronics</td>\n",
       "      <td>1</td>\n",
       "      <td>1077.0</td>\n",
       "      <td>02</td>\n",
       "      <td>6</td>\n",
       "      <td>0.5</td>\n",
       "      <td>1.0</td>\n",
       "    </tr>\n",
       "    <tr>\n",
       "      <th>5</th>\n",
       "      <td>63f0bf71119c38497d5c89dd</td>\n",
       "      <td>63de7c32f820f95e82ddee53</td>\n",
       "      <td>Star Bazaar</td>\n",
       "      <td>2</td>\n",
       "      <td>8402.0</td>\n",
       "      <td>02</td>\n",
       "      <td>6</td>\n",
       "      <td>1.0</td>\n",
       "      <td>1.0</td>\n",
       "    </tr>\n",
       "    <tr>\n",
       "      <th>6</th>\n",
       "      <td>63fa4c7fd7d738df1c63dd2f</td>\n",
       "      <td>63e47a71f39019447bec4817</td>\n",
       "      <td>Decathlon Electronics</td>\n",
       "      <td>2</td>\n",
       "      <td>2520.0</td>\n",
       "      <td>02</td>\n",
       "      <td>6</td>\n",
       "      <td>0.0</td>\n",
       "      <td>1.0</td>\n",
       "    </tr>\n",
       "    <tr>\n",
       "      <th>7</th>\n",
       "      <td>641cc5f237f039be4b9934cc</td>\n",
       "      <td>63e47a71f39019447bec4817</td>\n",
       "      <td>Decathlon Electronics</td>\n",
       "      <td>6</td>\n",
       "      <td>22265.0</td>\n",
       "      <td>03</td>\n",
       "      <td>4</td>\n",
       "      <td>0.0</td>\n",
       "      <td>1.0</td>\n",
       "    </tr>\n",
       "  </tbody>\n",
       "</table>\n",
       "</div>"
      ],
      "text/plain": [
       "                    orderId                  clientId             clientName  \\\n",
       "0  63ce7e543cb25e08b646e2e8  63ce7e473cb25e08b646e2e0         JJ Electronics   \n",
       "1  63cf8c6b0f0f991962134b55  63ce7e473cb25e08b646e2e0         JJ Electronics   \n",
       "2  63d247f7ef4b90ee6baa5777  63ce7e473cb25e08b646e2e0         JJ Electronics   \n",
       "3  63d6084c552dd4d69eee1f57  63ce7e473cb25e08b646e2e0         JJ Electronics   \n",
       "4  63de815bf820f95e82ddee96  63ce7e473cb25e08b646e2e0         JJ Electronics   \n",
       "5  63f0bf71119c38497d5c89dd  63de7c32f820f95e82ddee53            Star Bazaar   \n",
       "6  63fa4c7fd7d738df1c63dd2f  63e47a71f39019447bec4817  Decathlon Electronics   \n",
       "7  641cc5f237f039be4b9934cc  63e47a71f39019447bec4817  Decathlon Electronics   \n",
       "\n",
       "   qty    sales month day  cliAvgSenti  spAvgSenti  \n",
       "0    4   4857.0    02   6          0.5         1.0  \n",
       "1    0      0.0    02   6          0.5         1.0  \n",
       "2    0      0.0    02   6          0.5         1.0  \n",
       "3    5     27.0    01   0          0.5         1.0  \n",
       "4    1   1077.0    02   6          0.5         1.0  \n",
       "5    2   8402.0    02   6          1.0         1.0  \n",
       "6    2   2520.0    02   6          0.0         1.0  \n",
       "7    6  22265.0    03   4          0.0         1.0  "
      ]
     },
     "execution_count": 57,
     "metadata": {},
     "output_type": "execute_result"
    }
   ],
   "source": [
    "#create pipeline\n",
    "orderwise_df_1"
   ]
  },
  {
   "cell_type": "code",
   "execution_count": 58,
   "id": "15510559",
   "metadata": {},
   "outputs": [
    {
     "data": {
      "text/plain": [
       "(8, 9)"
      ]
     },
     "execution_count": 58,
     "metadata": {},
     "output_type": "execute_result"
    }
   ],
   "source": [
    "orderwise_df_1.shape"
   ]
  },
  {
   "cell_type": "code",
   "execution_count": 59,
   "id": "d628bd44",
   "metadata": {
    "scrolled": true
   },
   "outputs": [
    {
     "data": {
      "text/html": [
       "<div>\n",
       "<style scoped>\n",
       "    .dataframe tbody tr th:only-of-type {\n",
       "        vertical-align: middle;\n",
       "    }\n",
       "\n",
       "    .dataframe tbody tr th {\n",
       "        vertical-align: top;\n",
       "    }\n",
       "\n",
       "    .dataframe thead th {\n",
       "        text-align: right;\n",
       "    }\n",
       "</style>\n",
       "<table border=\"1\" class=\"dataframe\">\n",
       "  <thead>\n",
       "    <tr style=\"text-align: right;\">\n",
       "      <th></th>\n",
       "      <th>clientName</th>\n",
       "      <th>qty</th>\n",
       "      <th>sales</th>\n",
       "      <th>month</th>\n",
       "      <th>day</th>\n",
       "      <th>cliAvgSenti</th>\n",
       "      <th>spAvgSenti</th>\n",
       "    </tr>\n",
       "  </thead>\n",
       "  <tbody>\n",
       "    <tr>\n",
       "      <th>0</th>\n",
       "      <td>JJ Electronics</td>\n",
       "      <td>4</td>\n",
       "      <td>4857.0</td>\n",
       "      <td>02</td>\n",
       "      <td>6</td>\n",
       "      <td>0.5</td>\n",
       "      <td>1.0</td>\n",
       "    </tr>\n",
       "    <tr>\n",
       "      <th>1</th>\n",
       "      <td>JJ Electronics</td>\n",
       "      <td>0</td>\n",
       "      <td>0.0</td>\n",
       "      <td>02</td>\n",
       "      <td>6</td>\n",
       "      <td>0.5</td>\n",
       "      <td>1.0</td>\n",
       "    </tr>\n",
       "  </tbody>\n",
       "</table>\n",
       "</div>"
      ],
      "text/plain": [
       "       clientName  qty   sales month day  cliAvgSenti  spAvgSenti\n",
       "0  JJ Electronics    4  4857.0    02   6          0.5         1.0\n",
       "1  JJ Electronics    0     0.0    02   6          0.5         1.0"
      ]
     },
     "execution_count": 59,
     "metadata": {},
     "output_type": "execute_result"
    }
   ],
   "source": [
    "orderwise_df_1.drop(columns=['orderId','clientId'],inplace=True)\n",
    "orderwise_df_1.head(2)"
   ]
  },
  {
   "cell_type": "code",
   "execution_count": 60,
   "id": "76b12829",
   "metadata": {},
   "outputs": [
    {
     "data": {
      "text/plain": [
       "clientName      object\n",
       "qty              int64\n",
       "sales          float64\n",
       "month           object\n",
       "day             object\n",
       "cliAvgSenti    float64\n",
       "spAvgSenti     float64\n",
       "dtype: object"
      ]
     },
     "execution_count": 60,
     "metadata": {},
     "output_type": "execute_result"
    }
   ],
   "source": [
    "orderwise_df_1.dtypes"
   ]
  },
  {
   "cell_type": "code",
   "execution_count": 61,
   "id": "eb90ed7a",
   "metadata": {},
   "outputs": [],
   "source": [
    "X_train,X_test,y_train,y_test = train_test_split(orderwise_df_1.drop(columns=['sales']),\n",
    "                                                    orderwise_df_1['sales'],\n",
    "                                                 test_size=0.2,\n",
    "                                                 random_state=42\n",
    "                                                )"
   ]
  },
  {
   "cell_type": "code",
   "execution_count": 62,
   "id": "57096a2a",
   "metadata": {},
   "outputs": [
    {
     "data": {
      "text/html": [
       "<div>\n",
       "<style scoped>\n",
       "    .dataframe tbody tr th:only-of-type {\n",
       "        vertical-align: middle;\n",
       "    }\n",
       "\n",
       "    .dataframe tbody tr th {\n",
       "        vertical-align: top;\n",
       "    }\n",
       "\n",
       "    .dataframe thead th {\n",
       "        text-align: right;\n",
       "    }\n",
       "</style>\n",
       "<table border=\"1\" class=\"dataframe\">\n",
       "  <thead>\n",
       "    <tr style=\"text-align: right;\">\n",
       "      <th></th>\n",
       "      <th>clientName</th>\n",
       "      <th>qty</th>\n",
       "      <th>month</th>\n",
       "      <th>day</th>\n",
       "      <th>cliAvgSenti</th>\n",
       "      <th>spAvgSenti</th>\n",
       "    </tr>\n",
       "  </thead>\n",
       "  <tbody>\n",
       "    <tr>\n",
       "      <th>0</th>\n",
       "      <td>JJ Electronics</td>\n",
       "      <td>4</td>\n",
       "      <td>02</td>\n",
       "      <td>6</td>\n",
       "      <td>0.5</td>\n",
       "      <td>1.0</td>\n",
       "    </tr>\n",
       "    <tr>\n",
       "      <th>7</th>\n",
       "      <td>Decathlon Electronics</td>\n",
       "      <td>6</td>\n",
       "      <td>03</td>\n",
       "      <td>4</td>\n",
       "      <td>0.0</td>\n",
       "      <td>1.0</td>\n",
       "    </tr>\n",
       "    <tr>\n",
       "      <th>2</th>\n",
       "      <td>JJ Electronics</td>\n",
       "      <td>0</td>\n",
       "      <td>02</td>\n",
       "      <td>6</td>\n",
       "      <td>0.5</td>\n",
       "      <td>1.0</td>\n",
       "    </tr>\n",
       "    <tr>\n",
       "      <th>4</th>\n",
       "      <td>JJ Electronics</td>\n",
       "      <td>1</td>\n",
       "      <td>02</td>\n",
       "      <td>6</td>\n",
       "      <td>0.5</td>\n",
       "      <td>1.0</td>\n",
       "    </tr>\n",
       "    <tr>\n",
       "      <th>3</th>\n",
       "      <td>JJ Electronics</td>\n",
       "      <td>5</td>\n",
       "      <td>01</td>\n",
       "      <td>0</td>\n",
       "      <td>0.5</td>\n",
       "      <td>1.0</td>\n",
       "    </tr>\n",
       "  </tbody>\n",
       "</table>\n",
       "</div>"
      ],
      "text/plain": [
       "              clientName  qty month day  cliAvgSenti  spAvgSenti\n",
       "0         JJ Electronics    4    02   6          0.5         1.0\n",
       "7  Decathlon Electronics    6    03   4          0.0         1.0\n",
       "2         JJ Electronics    0    02   6          0.5         1.0\n",
       "4         JJ Electronics    1    02   6          0.5         1.0\n",
       "3         JJ Electronics    5    01   0          0.5         1.0"
      ]
     },
     "execution_count": 62,
     "metadata": {},
     "output_type": "execute_result"
    }
   ],
   "source": [
    "X_train.head()"
   ]
  },
  {
   "cell_type": "code",
   "execution_count": 63,
   "id": "c2c566b4",
   "metadata": {},
   "outputs": [
    {
     "data": {
      "text/plain": [
       "0     4857.0\n",
       "7    22265.0\n",
       "2        0.0\n",
       "4     1077.0\n",
       "3       27.0\n",
       "Name: sales, dtype: float64"
      ]
     },
     "execution_count": 63,
     "metadata": {},
     "output_type": "execute_result"
    }
   ],
   "source": [
    "y_train.head()"
   ]
  },
  {
   "cell_type": "code",
   "execution_count": 64,
   "id": "5f872367",
   "metadata": {},
   "outputs": [],
   "source": [
    "# Ordinal encoding\n",
    "from sklearn.compose import ColumnTransformer\n",
    "from sklearn.compose import make_column_transformer\n",
    "from sklearn.pipeline import make_pipeline\n",
    "\n",
    "trf1 = ColumnTransformer([\n",
    "    ('orde_clientName_month_day',OrdinalEncoder(handle_unknown=\"use_encoded_value\",unknown_value=100),[0,2,3])\n",
    "],remainder=\"passthrough\")\n",
    "\n",
    "# trf1 = make_column_transformer(\n",
    "#     (OrdinalEncoder(handle_unknown=\"use_encoded_value\",unknown_value=100),[0,2,3])\n",
    "# )\n",
    "\n",
    "\n",
    "# preprocess = make_column_transformer(\n",
    "#     (['age', 'fare'], StandardScaler()),\n",
    "#     (['pclass', 'sex', 'embarked'], OneHotEncoder())\n",
    "# )\n",
    "\n",
    "# preprocess = make_column_transformer(\n",
    "#     (numerical_features, make_pipeline(SimpleImputer(), StandardScaler())),\n",
    "#     (categorical_features, OneHotEncoder()))\n",
    "\n",
    "\n"
   ]
  },
  {
   "cell_type": "code",
   "execution_count": null,
   "id": "56e40b4b",
   "metadata": {},
   "outputs": [],
   "source": []
  },
  {
   "cell_type": "code",
   "execution_count": 65,
   "id": "4eabf96c",
   "metadata": {},
   "outputs": [],
   "source": [
    "#scaling \n",
    "trf2 = ColumnTransformer([\n",
    "    ('scale',MinMaxScaler(),slice(0,5))\n",
    "])"
   ]
  },
  {
   "cell_type": "code",
   "execution_count": 66,
   "id": "0b9e8adc",
   "metadata": {},
   "outputs": [],
   "source": [
    "#model training \n",
    "from xgboost import XGBRegressor\n",
    "trf3 = XGBRegressor(random_state=42, n_jobs=-1, n_estimators=20, max_depth=4)"
   ]
  },
  {
   "cell_type": "code",
   "execution_count": 335,
   "id": "33d97737",
   "metadata": {},
   "outputs": [],
   "source": [
    "#pipeline \n",
    "pipe_m1 = Pipeline([\n",
    "    ('trf1',trf1),\n",
    "    ('trf2',trf2),\n",
    "    ('trf3',trf3)\n",
    "])\n",
    "# Display Pipeline\n",
    "\n",
    "from sklearn import set_config\n",
    "set_config(display='diagram')"
   ]
  },
  {
   "cell_type": "code",
   "execution_count": null,
   "id": "edf6cbdb",
   "metadata": {},
   "outputs": [],
   "source": [
    "pipe_m1 = make_pipeline"
   ]
  },
  {
   "cell_type": "code",
   "execution_count": 336,
   "id": "44084c08",
   "metadata": {
    "scrolled": true
   },
   "outputs": [
    {
     "data": {
      "text/html": [
       "<style>#sk-container-id-14 {color: black;background-color: white;}#sk-container-id-14 pre{padding: 0;}#sk-container-id-14 div.sk-toggleable {background-color: white;}#sk-container-id-14 label.sk-toggleable__label {cursor: pointer;display: block;width: 100%;margin-bottom: 0;padding: 0.3em;box-sizing: border-box;text-align: center;}#sk-container-id-14 label.sk-toggleable__label-arrow:before {content: \"▸\";float: left;margin-right: 0.25em;color: #696969;}#sk-container-id-14 label.sk-toggleable__label-arrow:hover:before {color: black;}#sk-container-id-14 div.sk-estimator:hover label.sk-toggleable__label-arrow:before {color: black;}#sk-container-id-14 div.sk-toggleable__content {max-height: 0;max-width: 0;overflow: hidden;text-align: left;background-color: #f0f8ff;}#sk-container-id-14 div.sk-toggleable__content pre {margin: 0.2em;color: black;border-radius: 0.25em;background-color: #f0f8ff;}#sk-container-id-14 input.sk-toggleable__control:checked~div.sk-toggleable__content {max-height: 200px;max-width: 100%;overflow: auto;}#sk-container-id-14 input.sk-toggleable__control:checked~label.sk-toggleable__label-arrow:before {content: \"▾\";}#sk-container-id-14 div.sk-estimator input.sk-toggleable__control:checked~label.sk-toggleable__label {background-color: #d4ebff;}#sk-container-id-14 div.sk-label input.sk-toggleable__control:checked~label.sk-toggleable__label {background-color: #d4ebff;}#sk-container-id-14 input.sk-hidden--visually {border: 0;clip: rect(1px 1px 1px 1px);clip: rect(1px, 1px, 1px, 1px);height: 1px;margin: -1px;overflow: hidden;padding: 0;position: absolute;width: 1px;}#sk-container-id-14 div.sk-estimator {font-family: monospace;background-color: #f0f8ff;border: 1px dotted black;border-radius: 0.25em;box-sizing: border-box;margin-bottom: 0.5em;}#sk-container-id-14 div.sk-estimator:hover {background-color: #d4ebff;}#sk-container-id-14 div.sk-parallel-item::after {content: \"\";width: 100%;border-bottom: 1px solid gray;flex-grow: 1;}#sk-container-id-14 div.sk-label:hover label.sk-toggleable__label {background-color: #d4ebff;}#sk-container-id-14 div.sk-serial::before {content: \"\";position: absolute;border-left: 1px solid gray;box-sizing: border-box;top: 0;bottom: 0;left: 50%;z-index: 0;}#sk-container-id-14 div.sk-serial {display: flex;flex-direction: column;align-items: center;background-color: white;padding-right: 0.2em;padding-left: 0.2em;position: relative;}#sk-container-id-14 div.sk-item {position: relative;z-index: 1;}#sk-container-id-14 div.sk-parallel {display: flex;align-items: stretch;justify-content: center;background-color: white;position: relative;}#sk-container-id-14 div.sk-item::before, #sk-container-id-14 div.sk-parallel-item::before {content: \"\";position: absolute;border-left: 1px solid gray;box-sizing: border-box;top: 0;bottom: 0;left: 50%;z-index: -1;}#sk-container-id-14 div.sk-parallel-item {display: flex;flex-direction: column;z-index: 1;position: relative;background-color: white;}#sk-container-id-14 div.sk-parallel-item:first-child::after {align-self: flex-end;width: 50%;}#sk-container-id-14 div.sk-parallel-item:last-child::after {align-self: flex-start;width: 50%;}#sk-container-id-14 div.sk-parallel-item:only-child::after {width: 0;}#sk-container-id-14 div.sk-dashed-wrapped {border: 1px dashed gray;margin: 0 0.4em 0.5em 0.4em;box-sizing: border-box;padding-bottom: 0.4em;background-color: white;}#sk-container-id-14 div.sk-label label {font-family: monospace;font-weight: bold;display: inline-block;line-height: 1.2em;}#sk-container-id-14 div.sk-label-container {text-align: center;}#sk-container-id-14 div.sk-container {/* jupyter's `normalize.less` sets `[hidden] { display: none; }` but bootstrap.min.css set `[hidden] { display: none !important; }` so we also need the `!important` here to be able to override the default hidden behavior on the sphinx rendered scikit-learn.org. See: https://github.com/scikit-learn/scikit-learn/issues/21755 */display: inline-block !important;position: relative;}#sk-container-id-14 div.sk-text-repr-fallback {display: none;}</style><div id=\"sk-container-id-14\" class=\"sk-top-container\"><div class=\"sk-text-repr-fallback\"><pre>Pipeline(steps=[(&#x27;trf1&#x27;,\n",
       "                 ColumnTransformer(remainder=&#x27;passthrough&#x27;,\n",
       "                                   transformers=[(&#x27;orde_clientName_month_day&#x27;,\n",
       "                                                  OrdinalEncoder(handle_unknown=&#x27;use_encoded_value&#x27;,\n",
       "                                                                 unknown_value=100),\n",
       "                                                  [0, 2, 3])])),\n",
       "                (&#x27;trf2&#x27;,\n",
       "                 ColumnTransformer(transformers=[(&#x27;scale&#x27;, MinMaxScaler(),\n",
       "                                                  slice(0, 5, None))])),\n",
       "                (&#x27;trf3&#x27;,\n",
       "                 XGBRegressor(base_score=0.5, booster=&#x27;gbtree&#x27;, callbacks=None,\n",
       "                              colsampl...\n",
       "                              feature_types=None, gamma=0, gpu_id=-1,\n",
       "                              grow_policy=&#x27;depthwise&#x27;, importance_type=None,\n",
       "                              interaction_constraints=&#x27;&#x27;,\n",
       "                              learning_rate=0.300000012, max_bin=256,\n",
       "                              max_cat_threshold=64, max_cat_to_onehot=4,\n",
       "                              max_delta_step=0, max_depth=4, max_leaves=0,\n",
       "                              min_child_weight=1, missing=nan,\n",
       "                              monotone_constraints=&#x27;()&#x27;, n_estimators=20,\n",
       "                              n_jobs=-1, num_parallel_tree=1, predictor=&#x27;auto&#x27;,\n",
       "                              random_state=42, ...))])</pre><b>In a Jupyter environment, please rerun this cell to show the HTML representation or trust the notebook. <br />On GitHub, the HTML representation is unable to render, please try loading this page with nbviewer.org.</b></div><div class=\"sk-container\" hidden><div class=\"sk-item sk-dashed-wrapped\"><div class=\"sk-label-container\"><div class=\"sk-label sk-toggleable\"><input class=\"sk-toggleable__control sk-hidden--visually\" id=\"sk-estimator-id-117\" type=\"checkbox\" ><label for=\"sk-estimator-id-117\" class=\"sk-toggleable__label sk-toggleable__label-arrow\">Pipeline</label><div class=\"sk-toggleable__content\"><pre>Pipeline(steps=[(&#x27;trf1&#x27;,\n",
       "                 ColumnTransformer(remainder=&#x27;passthrough&#x27;,\n",
       "                                   transformers=[(&#x27;orde_clientName_month_day&#x27;,\n",
       "                                                  OrdinalEncoder(handle_unknown=&#x27;use_encoded_value&#x27;,\n",
       "                                                                 unknown_value=100),\n",
       "                                                  [0, 2, 3])])),\n",
       "                (&#x27;trf2&#x27;,\n",
       "                 ColumnTransformer(transformers=[(&#x27;scale&#x27;, MinMaxScaler(),\n",
       "                                                  slice(0, 5, None))])),\n",
       "                (&#x27;trf3&#x27;,\n",
       "                 XGBRegressor(base_score=0.5, booster=&#x27;gbtree&#x27;, callbacks=None,\n",
       "                              colsampl...\n",
       "                              feature_types=None, gamma=0, gpu_id=-1,\n",
       "                              grow_policy=&#x27;depthwise&#x27;, importance_type=None,\n",
       "                              interaction_constraints=&#x27;&#x27;,\n",
       "                              learning_rate=0.300000012, max_bin=256,\n",
       "                              max_cat_threshold=64, max_cat_to_onehot=4,\n",
       "                              max_delta_step=0, max_depth=4, max_leaves=0,\n",
       "                              min_child_weight=1, missing=nan,\n",
       "                              monotone_constraints=&#x27;()&#x27;, n_estimators=20,\n",
       "                              n_jobs=-1, num_parallel_tree=1, predictor=&#x27;auto&#x27;,\n",
       "                              random_state=42, ...))])</pre></div></div></div><div class=\"sk-serial\"><div class=\"sk-item sk-dashed-wrapped\"><div class=\"sk-label-container\"><div class=\"sk-label sk-toggleable\"><input class=\"sk-toggleable__control sk-hidden--visually\" id=\"sk-estimator-id-118\" type=\"checkbox\" ><label for=\"sk-estimator-id-118\" class=\"sk-toggleable__label sk-toggleable__label-arrow\">trf1: ColumnTransformer</label><div class=\"sk-toggleable__content\"><pre>ColumnTransformer(remainder=&#x27;passthrough&#x27;,\n",
       "                  transformers=[(&#x27;orde_clientName_month_day&#x27;,\n",
       "                                 OrdinalEncoder(handle_unknown=&#x27;use_encoded_value&#x27;,\n",
       "                                                unknown_value=100),\n",
       "                                 [0, 2, 3])])</pre></div></div></div><div class=\"sk-parallel\"><div class=\"sk-parallel-item\"><div class=\"sk-item\"><div class=\"sk-label-container\"><div class=\"sk-label sk-toggleable\"><input class=\"sk-toggleable__control sk-hidden--visually\" id=\"sk-estimator-id-119\" type=\"checkbox\" ><label for=\"sk-estimator-id-119\" class=\"sk-toggleable__label sk-toggleable__label-arrow\">orde_clientName_month_day</label><div class=\"sk-toggleable__content\"><pre>[0, 2, 3]</pre></div></div></div><div class=\"sk-serial\"><div class=\"sk-item\"><div class=\"sk-estimator sk-toggleable\"><input class=\"sk-toggleable__control sk-hidden--visually\" id=\"sk-estimator-id-120\" type=\"checkbox\" ><label for=\"sk-estimator-id-120\" class=\"sk-toggleable__label sk-toggleable__label-arrow\">OrdinalEncoder</label><div class=\"sk-toggleable__content\"><pre>OrdinalEncoder(handle_unknown=&#x27;use_encoded_value&#x27;, unknown_value=100)</pre></div></div></div></div></div></div><div class=\"sk-parallel-item\"><div class=\"sk-item\"><div class=\"sk-label-container\"><div class=\"sk-label sk-toggleable\"><input class=\"sk-toggleable__control sk-hidden--visually\" id=\"sk-estimator-id-121\" type=\"checkbox\" ><label for=\"sk-estimator-id-121\" class=\"sk-toggleable__label sk-toggleable__label-arrow\">remainder</label><div class=\"sk-toggleable__content\"><pre>[&#x27;qty&#x27;, &#x27;cliAvgSenti&#x27;, &#x27;spAvgSenti&#x27;]</pre></div></div></div><div class=\"sk-serial\"><div class=\"sk-item\"><div class=\"sk-estimator sk-toggleable\"><input class=\"sk-toggleable__control sk-hidden--visually\" id=\"sk-estimator-id-122\" type=\"checkbox\" ><label for=\"sk-estimator-id-122\" class=\"sk-toggleable__label sk-toggleable__label-arrow\">passthrough</label><div class=\"sk-toggleable__content\"><pre>passthrough</pre></div></div></div></div></div></div></div></div><div class=\"sk-item sk-dashed-wrapped\"><div class=\"sk-label-container\"><div class=\"sk-label sk-toggleable\"><input class=\"sk-toggleable__control sk-hidden--visually\" id=\"sk-estimator-id-123\" type=\"checkbox\" ><label for=\"sk-estimator-id-123\" class=\"sk-toggleable__label sk-toggleable__label-arrow\">trf2: ColumnTransformer</label><div class=\"sk-toggleable__content\"><pre>ColumnTransformer(transformers=[(&#x27;scale&#x27;, MinMaxScaler(), slice(0, 5, None))])</pre></div></div></div><div class=\"sk-parallel\"><div class=\"sk-parallel-item\"><div class=\"sk-item\"><div class=\"sk-label-container\"><div class=\"sk-label sk-toggleable\"><input class=\"sk-toggleable__control sk-hidden--visually\" id=\"sk-estimator-id-124\" type=\"checkbox\" ><label for=\"sk-estimator-id-124\" class=\"sk-toggleable__label sk-toggleable__label-arrow\">scale</label><div class=\"sk-toggleable__content\"><pre>slice(0, 5, None)</pre></div></div></div><div class=\"sk-serial\"><div class=\"sk-item\"><div class=\"sk-estimator sk-toggleable\"><input class=\"sk-toggleable__control sk-hidden--visually\" id=\"sk-estimator-id-125\" type=\"checkbox\" ><label for=\"sk-estimator-id-125\" class=\"sk-toggleable__label sk-toggleable__label-arrow\">MinMaxScaler</label><div class=\"sk-toggleable__content\"><pre>MinMaxScaler()</pre></div></div></div></div></div></div></div></div><div class=\"sk-item\"><div class=\"sk-estimator sk-toggleable\"><input class=\"sk-toggleable__control sk-hidden--visually\" id=\"sk-estimator-id-126\" type=\"checkbox\" ><label for=\"sk-estimator-id-126\" class=\"sk-toggleable__label sk-toggleable__label-arrow\">XGBRegressor</label><div class=\"sk-toggleable__content\"><pre>XGBRegressor(base_score=0.5, booster=&#x27;gbtree&#x27;, callbacks=None,\n",
       "             colsample_bylevel=1, colsample_bynode=1, colsample_bytree=1,\n",
       "             early_stopping_rounds=None, enable_categorical=False,\n",
       "             eval_metric=None, feature_types=None, gamma=0, gpu_id=-1,\n",
       "             grow_policy=&#x27;depthwise&#x27;, importance_type=None,\n",
       "             interaction_constraints=&#x27;&#x27;, learning_rate=0.300000012, max_bin=256,\n",
       "             max_cat_threshold=64, max_cat_to_onehot=4, max_delta_step=0,\n",
       "             max_depth=4, max_leaves=0, min_child_weight=1, missing=nan,\n",
       "             monotone_constraints=&#x27;()&#x27;, n_estimators=20, n_jobs=-1,\n",
       "             num_parallel_tree=1, predictor=&#x27;auto&#x27;, random_state=42, ...)</pre></div></div></div></div></div></div></div>"
      ],
      "text/plain": [
       "Pipeline(steps=[('trf1',\n",
       "                 ColumnTransformer(remainder='passthrough',\n",
       "                                   transformers=[('orde_clientName_month_day',\n",
       "                                                  OrdinalEncoder(handle_unknown='use_encoded_value',\n",
       "                                                                 unknown_value=100),\n",
       "                                                  [0, 2, 3])])),\n",
       "                ('trf2',\n",
       "                 ColumnTransformer(transformers=[('scale', MinMaxScaler(),\n",
       "                                                  slice(0, 5, None))])),\n",
       "                ('trf3',\n",
       "                 XGBRegressor(base_score=0.5, booster='gbtree', callbacks=None,\n",
       "                              colsampl...\n",
       "                              feature_types=None, gamma=0, gpu_id=-1,\n",
       "                              grow_policy='depthwise', importance_type=None,\n",
       "                              interaction_constraints='',\n",
       "                              learning_rate=0.300000012, max_bin=256,\n",
       "                              max_cat_threshold=64, max_cat_to_onehot=4,\n",
       "                              max_delta_step=0, max_depth=4, max_leaves=0,\n",
       "                              min_child_weight=1, missing=nan,\n",
       "                              monotone_constraints='()', n_estimators=20,\n",
       "                              n_jobs=-1, num_parallel_tree=1, predictor='auto',\n",
       "                              random_state=42, ...))])"
      ]
     },
     "execution_count": 336,
     "metadata": {},
     "output_type": "execute_result"
    }
   ],
   "source": [
    "pipe_m1.fit(orderwise_df_1.drop(columns=['sales']),orderwise_df_1['sales'])"
   ]
  },
  {
   "cell_type": "code",
   "execution_count": 337,
   "id": "b6a9cbc9",
   "metadata": {
    "scrolled": true
   },
   "outputs": [
    {
     "data": {
      "text/plain": [
       "{'trf1': ColumnTransformer(remainder='passthrough',\n",
       "                   transformers=[('orde_clientName_month_day',\n",
       "                                  OrdinalEncoder(handle_unknown='use_encoded_value',\n",
       "                                                 unknown_value=100),\n",
       "                                  [0, 2, 3])]),\n",
       " 'trf2': ColumnTransformer(transformers=[('scale', MinMaxScaler(), slice(0, 5, None))]),\n",
       " 'trf3': XGBRegressor(base_score=0.5, booster='gbtree', callbacks=None,\n",
       "              colsample_bylevel=1, colsample_bynode=1, colsample_bytree=1,\n",
       "              early_stopping_rounds=None, enable_categorical=False,\n",
       "              eval_metric=None, feature_types=None, gamma=0, gpu_id=-1,\n",
       "              grow_policy='depthwise', importance_type=None,\n",
       "              interaction_constraints='', learning_rate=0.300000012, max_bin=256,\n",
       "              max_cat_threshold=64, max_cat_to_onehot=4, max_delta_step=0,\n",
       "              max_depth=4, max_leaves=0, min_child_weight=1, missing=nan,\n",
       "              monotone_constraints='()', n_estimators=20, n_jobs=-1,\n",
       "              num_parallel_tree=1, predictor='auto', random_state=42, ...)}"
      ]
     },
     "execution_count": 337,
     "metadata": {},
     "output_type": "execute_result"
    }
   ],
   "source": [
    "pipe_m1.named_steps"
   ]
  },
  {
   "cell_type": "code",
   "execution_count": 322,
   "id": "1521c569",
   "metadata": {},
   "outputs": [],
   "source": [
    "#predict \n",
    "y_pred = pipe_m1.predict(X_test)"
   ]
  },
  {
   "cell_type": "code",
   "execution_count": 323,
   "id": "32518469",
   "metadata": {},
   "outputs": [
    {
     "name": "stdout",
     "output_type": "stream",
     "text": [
      "MAE 2428.5\n",
      "MSE 9493197.152439252\n",
      "RMSE 3081.103236251465\n",
      "R2Score -0.6096679045726092\n"
     ]
    }
   ],
   "source": [
    "from sklearn.metrics import mean_absolute_error\n",
    "from sklearn.metrics import mean_squared_error\n",
    "from sklearn.metrics import r2_score\n",
    "\n",
    "print(\"MAE\",mean_absolute_error(y_test,y_pred))\n",
    "print(\"MSE\",mean_squared_error(y_test,y_pred))\n",
    "print(\"RMSE\",np.sqrt(mean_squared_error(y_test,y_pred)))\n",
    "print(\"R2Score\",r2_score(y_test,y_pred))"
   ]
  },
  {
   "cell_type": "code",
   "execution_count": 338,
   "id": "9ba56bc5",
   "metadata": {},
   "outputs": [],
   "source": [
    "import pickle \n",
    "pickle.dump(pipe_m1,open('pipe_m1_orderwise_sales_reg.pkl','wb'))"
   ]
  },
  {
   "cell_type": "code",
   "execution_count": 339,
   "id": "2fbf3144",
   "metadata": {},
   "outputs": [],
   "source": [
    "pipe_m1_loaded = pickle.load(open('pipe_m1_orderwise_sales_reg.pkl','rb'))"
   ]
  },
  {
   "cell_type": "code",
   "execution_count": 340,
   "id": "9cafa452",
   "metadata": {},
   "outputs": [
    {
     "name": "stdout",
     "output_type": "stream",
     "text": [
      "[['comp2' 5 '03' '4' 0.9 0.4]]\n"
     ]
    }
   ],
   "source": [
    "test_pipe_m1_input = np.array(['comp2',5,'03','4',0.9,0.4],dtype=object).reshape(1,6)\n",
    "print(test_pipe_m1_input)"
   ]
  },
  {
   "cell_type": "code",
   "execution_count": 341,
   "id": "ca340395",
   "metadata": {},
   "outputs": [
    {
     "name": "stderr",
     "output_type": "stream",
     "text": [
      "/home/neelchoksi19bce0990/.local/lib/python3.9/site-packages/sklearn/base.py:450: UserWarning: X does not have valid feature names, but OrdinalEncoder was fitted with feature names\n",
      "  warnings.warn(\n"
     ]
    },
    {
     "data": {
      "text/plain": [
       "array([8072.8545], dtype=float32)"
      ]
     },
     "execution_count": 341,
     "metadata": {},
     "output_type": "execute_result"
    }
   ],
   "source": [
    "pipe_m1_loaded.predict(test_pipe_m1_input)"
   ]
  },
  {
   "cell_type": "code",
   "execution_count": 67,
   "id": "af969ad8",
   "metadata": {},
   "outputs": [
    {
     "data": {
      "text/html": [
       "<style>#sk-container-id-2 {color: black;background-color: white;}#sk-container-id-2 pre{padding: 0;}#sk-container-id-2 div.sk-toggleable {background-color: white;}#sk-container-id-2 label.sk-toggleable__label {cursor: pointer;display: block;width: 100%;margin-bottom: 0;padding: 0.3em;box-sizing: border-box;text-align: center;}#sk-container-id-2 label.sk-toggleable__label-arrow:before {content: \"▸\";float: left;margin-right: 0.25em;color: #696969;}#sk-container-id-2 label.sk-toggleable__label-arrow:hover:before {color: black;}#sk-container-id-2 div.sk-estimator:hover label.sk-toggleable__label-arrow:before {color: black;}#sk-container-id-2 div.sk-toggleable__content {max-height: 0;max-width: 0;overflow: hidden;text-align: left;background-color: #f0f8ff;}#sk-container-id-2 div.sk-toggleable__content pre {margin: 0.2em;color: black;border-radius: 0.25em;background-color: #f0f8ff;}#sk-container-id-2 input.sk-toggleable__control:checked~div.sk-toggleable__content {max-height: 200px;max-width: 100%;overflow: auto;}#sk-container-id-2 input.sk-toggleable__control:checked~label.sk-toggleable__label-arrow:before {content: \"▾\";}#sk-container-id-2 div.sk-estimator input.sk-toggleable__control:checked~label.sk-toggleable__label {background-color: #d4ebff;}#sk-container-id-2 div.sk-label input.sk-toggleable__control:checked~label.sk-toggleable__label {background-color: #d4ebff;}#sk-container-id-2 input.sk-hidden--visually {border: 0;clip: rect(1px 1px 1px 1px);clip: rect(1px, 1px, 1px, 1px);height: 1px;margin: -1px;overflow: hidden;padding: 0;position: absolute;width: 1px;}#sk-container-id-2 div.sk-estimator {font-family: monospace;background-color: #f0f8ff;border: 1px dotted black;border-radius: 0.25em;box-sizing: border-box;margin-bottom: 0.5em;}#sk-container-id-2 div.sk-estimator:hover {background-color: #d4ebff;}#sk-container-id-2 div.sk-parallel-item::after {content: \"\";width: 100%;border-bottom: 1px solid gray;flex-grow: 1;}#sk-container-id-2 div.sk-label:hover label.sk-toggleable__label {background-color: #d4ebff;}#sk-container-id-2 div.sk-serial::before {content: \"\";position: absolute;border-left: 1px solid gray;box-sizing: border-box;top: 0;bottom: 0;left: 50%;z-index: 0;}#sk-container-id-2 div.sk-serial {display: flex;flex-direction: column;align-items: center;background-color: white;padding-right: 0.2em;padding-left: 0.2em;position: relative;}#sk-container-id-2 div.sk-item {position: relative;z-index: 1;}#sk-container-id-2 div.sk-parallel {display: flex;align-items: stretch;justify-content: center;background-color: white;position: relative;}#sk-container-id-2 div.sk-item::before, #sk-container-id-2 div.sk-parallel-item::before {content: \"\";position: absolute;border-left: 1px solid gray;box-sizing: border-box;top: 0;bottom: 0;left: 50%;z-index: -1;}#sk-container-id-2 div.sk-parallel-item {display: flex;flex-direction: column;z-index: 1;position: relative;background-color: white;}#sk-container-id-2 div.sk-parallel-item:first-child::after {align-self: flex-end;width: 50%;}#sk-container-id-2 div.sk-parallel-item:last-child::after {align-self: flex-start;width: 50%;}#sk-container-id-2 div.sk-parallel-item:only-child::after {width: 0;}#sk-container-id-2 div.sk-dashed-wrapped {border: 1px dashed gray;margin: 0 0.4em 0.5em 0.4em;box-sizing: border-box;padding-bottom: 0.4em;background-color: white;}#sk-container-id-2 div.sk-label label {font-family: monospace;font-weight: bold;display: inline-block;line-height: 1.2em;}#sk-container-id-2 div.sk-label-container {text-align: center;}#sk-container-id-2 div.sk-container {/* jupyter's `normalize.less` sets `[hidden] { display: none; }` but bootstrap.min.css set `[hidden] { display: none !important; }` so we also need the `!important` here to be able to override the default hidden behavior on the sphinx rendered scikit-learn.org. See: https://github.com/scikit-learn/scikit-learn/issues/21755 */display: inline-block !important;position: relative;}#sk-container-id-2 div.sk-text-repr-fallback {display: none;}</style><div id=\"sk-container-id-2\" class=\"sk-top-container\"><div class=\"sk-text-repr-fallback\"><pre>LabelEncoder()</pre><b>In a Jupyter environment, please rerun this cell to show the HTML representation or trust the notebook. <br />On GitHub, the HTML representation is unable to render, please try loading this page with nbviewer.org.</b></div><div class=\"sk-container\" hidden><div class=\"sk-item\"><div class=\"sk-estimator sk-toggleable\"><input class=\"sk-toggleable__control sk-hidden--visually\" id=\"sk-estimator-id-2\" type=\"checkbox\" checked><label for=\"sk-estimator-id-2\" class=\"sk-toggleable__label sk-toggleable__label-arrow\">LabelEncoder</label><div class=\"sk-toggleable__content\"><pre>LabelEncoder()</pre></div></div></div></div></div>"
      ],
      "text/plain": [
       "LabelEncoder()"
      ]
     },
     "execution_count": 67,
     "metadata": {},
     "output_type": "execute_result"
    }
   ],
   "source": [
    "from sklearn import preprocessing\n",
    "clientName_oe = preprocessing.LabelEncoder()\n",
    "clientName_oe.fit(orderwise_df_1['clientName'])"
   ]
  },
  {
   "cell_type": "code",
   "execution_count": 68,
   "id": "87c21ecc",
   "metadata": {},
   "outputs": [
    {
     "data": {
      "text/html": [
       "<style>#sk-container-id-3 {color: black;background-color: white;}#sk-container-id-3 pre{padding: 0;}#sk-container-id-3 div.sk-toggleable {background-color: white;}#sk-container-id-3 label.sk-toggleable__label {cursor: pointer;display: block;width: 100%;margin-bottom: 0;padding: 0.3em;box-sizing: border-box;text-align: center;}#sk-container-id-3 label.sk-toggleable__label-arrow:before {content: \"▸\";float: left;margin-right: 0.25em;color: #696969;}#sk-container-id-3 label.sk-toggleable__label-arrow:hover:before {color: black;}#sk-container-id-3 div.sk-estimator:hover label.sk-toggleable__label-arrow:before {color: black;}#sk-container-id-3 div.sk-toggleable__content {max-height: 0;max-width: 0;overflow: hidden;text-align: left;background-color: #f0f8ff;}#sk-container-id-3 div.sk-toggleable__content pre {margin: 0.2em;color: black;border-radius: 0.25em;background-color: #f0f8ff;}#sk-container-id-3 input.sk-toggleable__control:checked~div.sk-toggleable__content {max-height: 200px;max-width: 100%;overflow: auto;}#sk-container-id-3 input.sk-toggleable__control:checked~label.sk-toggleable__label-arrow:before {content: \"▾\";}#sk-container-id-3 div.sk-estimator input.sk-toggleable__control:checked~label.sk-toggleable__label {background-color: #d4ebff;}#sk-container-id-3 div.sk-label input.sk-toggleable__control:checked~label.sk-toggleable__label {background-color: #d4ebff;}#sk-container-id-3 input.sk-hidden--visually {border: 0;clip: rect(1px 1px 1px 1px);clip: rect(1px, 1px, 1px, 1px);height: 1px;margin: -1px;overflow: hidden;padding: 0;position: absolute;width: 1px;}#sk-container-id-3 div.sk-estimator {font-family: monospace;background-color: #f0f8ff;border: 1px dotted black;border-radius: 0.25em;box-sizing: border-box;margin-bottom: 0.5em;}#sk-container-id-3 div.sk-estimator:hover {background-color: #d4ebff;}#sk-container-id-3 div.sk-parallel-item::after {content: \"\";width: 100%;border-bottom: 1px solid gray;flex-grow: 1;}#sk-container-id-3 div.sk-label:hover label.sk-toggleable__label {background-color: #d4ebff;}#sk-container-id-3 div.sk-serial::before {content: \"\";position: absolute;border-left: 1px solid gray;box-sizing: border-box;top: 0;bottom: 0;left: 50%;z-index: 0;}#sk-container-id-3 div.sk-serial {display: flex;flex-direction: column;align-items: center;background-color: white;padding-right: 0.2em;padding-left: 0.2em;position: relative;}#sk-container-id-3 div.sk-item {position: relative;z-index: 1;}#sk-container-id-3 div.sk-parallel {display: flex;align-items: stretch;justify-content: center;background-color: white;position: relative;}#sk-container-id-3 div.sk-item::before, #sk-container-id-3 div.sk-parallel-item::before {content: \"\";position: absolute;border-left: 1px solid gray;box-sizing: border-box;top: 0;bottom: 0;left: 50%;z-index: -1;}#sk-container-id-3 div.sk-parallel-item {display: flex;flex-direction: column;z-index: 1;position: relative;background-color: white;}#sk-container-id-3 div.sk-parallel-item:first-child::after {align-self: flex-end;width: 50%;}#sk-container-id-3 div.sk-parallel-item:last-child::after {align-self: flex-start;width: 50%;}#sk-container-id-3 div.sk-parallel-item:only-child::after {width: 0;}#sk-container-id-3 div.sk-dashed-wrapped {border: 1px dashed gray;margin: 0 0.4em 0.5em 0.4em;box-sizing: border-box;padding-bottom: 0.4em;background-color: white;}#sk-container-id-3 div.sk-label label {font-family: monospace;font-weight: bold;display: inline-block;line-height: 1.2em;}#sk-container-id-3 div.sk-label-container {text-align: center;}#sk-container-id-3 div.sk-container {/* jupyter's `normalize.less` sets `[hidden] { display: none; }` but bootstrap.min.css set `[hidden] { display: none !important; }` so we also need the `!important` here to be able to override the default hidden behavior on the sphinx rendered scikit-learn.org. See: https://github.com/scikit-learn/scikit-learn/issues/21755 */display: inline-block !important;position: relative;}#sk-container-id-3 div.sk-text-repr-fallback {display: none;}</style><div id=\"sk-container-id-3\" class=\"sk-top-container\"><div class=\"sk-text-repr-fallback\"><pre>LabelEncoder()</pre><b>In a Jupyter environment, please rerun this cell to show the HTML representation or trust the notebook. <br />On GitHub, the HTML representation is unable to render, please try loading this page with nbviewer.org.</b></div><div class=\"sk-container\" hidden><div class=\"sk-item\"><div class=\"sk-estimator sk-toggleable\"><input class=\"sk-toggleable__control sk-hidden--visually\" id=\"sk-estimator-id-3\" type=\"checkbox\" checked><label for=\"sk-estimator-id-3\" class=\"sk-toggleable__label sk-toggleable__label-arrow\">LabelEncoder</label><div class=\"sk-toggleable__content\"><pre>LabelEncoder()</pre></div></div></div></div></div>"
      ],
      "text/plain": [
       "LabelEncoder()"
      ]
     },
     "execution_count": 68,
     "metadata": {},
     "output_type": "execute_result"
    }
   ],
   "source": [
    "month_oe = preprocessing.LabelEncoder()\n",
    "m_list = ['01','02','03','04','05','06','07','08','09','10','11','12']\n",
    "month_oe.fit(m_list)"
   ]
  },
  {
   "cell_type": "code",
   "execution_count": 69,
   "id": "0e25a951",
   "metadata": {},
   "outputs": [
    {
     "data": {
      "text/html": [
       "<style>#sk-container-id-4 {color: black;background-color: white;}#sk-container-id-4 pre{padding: 0;}#sk-container-id-4 div.sk-toggleable {background-color: white;}#sk-container-id-4 label.sk-toggleable__label {cursor: pointer;display: block;width: 100%;margin-bottom: 0;padding: 0.3em;box-sizing: border-box;text-align: center;}#sk-container-id-4 label.sk-toggleable__label-arrow:before {content: \"▸\";float: left;margin-right: 0.25em;color: #696969;}#sk-container-id-4 label.sk-toggleable__label-arrow:hover:before {color: black;}#sk-container-id-4 div.sk-estimator:hover label.sk-toggleable__label-arrow:before {color: black;}#sk-container-id-4 div.sk-toggleable__content {max-height: 0;max-width: 0;overflow: hidden;text-align: left;background-color: #f0f8ff;}#sk-container-id-4 div.sk-toggleable__content pre {margin: 0.2em;color: black;border-radius: 0.25em;background-color: #f0f8ff;}#sk-container-id-4 input.sk-toggleable__control:checked~div.sk-toggleable__content {max-height: 200px;max-width: 100%;overflow: auto;}#sk-container-id-4 input.sk-toggleable__control:checked~label.sk-toggleable__label-arrow:before {content: \"▾\";}#sk-container-id-4 div.sk-estimator input.sk-toggleable__control:checked~label.sk-toggleable__label {background-color: #d4ebff;}#sk-container-id-4 div.sk-label input.sk-toggleable__control:checked~label.sk-toggleable__label {background-color: #d4ebff;}#sk-container-id-4 input.sk-hidden--visually {border: 0;clip: rect(1px 1px 1px 1px);clip: rect(1px, 1px, 1px, 1px);height: 1px;margin: -1px;overflow: hidden;padding: 0;position: absolute;width: 1px;}#sk-container-id-4 div.sk-estimator {font-family: monospace;background-color: #f0f8ff;border: 1px dotted black;border-radius: 0.25em;box-sizing: border-box;margin-bottom: 0.5em;}#sk-container-id-4 div.sk-estimator:hover {background-color: #d4ebff;}#sk-container-id-4 div.sk-parallel-item::after {content: \"\";width: 100%;border-bottom: 1px solid gray;flex-grow: 1;}#sk-container-id-4 div.sk-label:hover label.sk-toggleable__label {background-color: #d4ebff;}#sk-container-id-4 div.sk-serial::before {content: \"\";position: absolute;border-left: 1px solid gray;box-sizing: border-box;top: 0;bottom: 0;left: 50%;z-index: 0;}#sk-container-id-4 div.sk-serial {display: flex;flex-direction: column;align-items: center;background-color: white;padding-right: 0.2em;padding-left: 0.2em;position: relative;}#sk-container-id-4 div.sk-item {position: relative;z-index: 1;}#sk-container-id-4 div.sk-parallel {display: flex;align-items: stretch;justify-content: center;background-color: white;position: relative;}#sk-container-id-4 div.sk-item::before, #sk-container-id-4 div.sk-parallel-item::before {content: \"\";position: absolute;border-left: 1px solid gray;box-sizing: border-box;top: 0;bottom: 0;left: 50%;z-index: -1;}#sk-container-id-4 div.sk-parallel-item {display: flex;flex-direction: column;z-index: 1;position: relative;background-color: white;}#sk-container-id-4 div.sk-parallel-item:first-child::after {align-self: flex-end;width: 50%;}#sk-container-id-4 div.sk-parallel-item:last-child::after {align-self: flex-start;width: 50%;}#sk-container-id-4 div.sk-parallel-item:only-child::after {width: 0;}#sk-container-id-4 div.sk-dashed-wrapped {border: 1px dashed gray;margin: 0 0.4em 0.5em 0.4em;box-sizing: border-box;padding-bottom: 0.4em;background-color: white;}#sk-container-id-4 div.sk-label label {font-family: monospace;font-weight: bold;display: inline-block;line-height: 1.2em;}#sk-container-id-4 div.sk-label-container {text-align: center;}#sk-container-id-4 div.sk-container {/* jupyter's `normalize.less` sets `[hidden] { display: none; }` but bootstrap.min.css set `[hidden] { display: none !important; }` so we also need the `!important` here to be able to override the default hidden behavior on the sphinx rendered scikit-learn.org. See: https://github.com/scikit-learn/scikit-learn/issues/21755 */display: inline-block !important;position: relative;}#sk-container-id-4 div.sk-text-repr-fallback {display: none;}</style><div id=\"sk-container-id-4\" class=\"sk-top-container\"><div class=\"sk-text-repr-fallback\"><pre>LabelEncoder()</pre><b>In a Jupyter environment, please rerun this cell to show the HTML representation or trust the notebook. <br />On GitHub, the HTML representation is unable to render, please try loading this page with nbviewer.org.</b></div><div class=\"sk-container\" hidden><div class=\"sk-item\"><div class=\"sk-estimator sk-toggleable\"><input class=\"sk-toggleable__control sk-hidden--visually\" id=\"sk-estimator-id-4\" type=\"checkbox\" checked><label for=\"sk-estimator-id-4\" class=\"sk-toggleable__label sk-toggleable__label-arrow\">LabelEncoder</label><div class=\"sk-toggleable__content\"><pre>LabelEncoder()</pre></div></div></div></div></div>"
      ],
      "text/plain": [
       "LabelEncoder()"
      ]
     },
     "execution_count": 69,
     "metadata": {},
     "output_type": "execute_result"
    }
   ],
   "source": [
    "day_oe =  preprocessing.LabelEncoder()\n",
    "d_list = ['0','1','2','3','4','5','6']\n",
    "day_oe.fit(d_list)"
   ]
  },
  {
   "cell_type": "code",
   "execution_count": 70,
   "id": "caf376a3",
   "metadata": {},
   "outputs": [
    {
     "data": {
      "text/html": [
       "<div>\n",
       "<style scoped>\n",
       "    .dataframe tbody tr th:only-of-type {\n",
       "        vertical-align: middle;\n",
       "    }\n",
       "\n",
       "    .dataframe tbody tr th {\n",
       "        vertical-align: top;\n",
       "    }\n",
       "\n",
       "    .dataframe thead th {\n",
       "        text-align: right;\n",
       "    }\n",
       "</style>\n",
       "<table border=\"1\" class=\"dataframe\">\n",
       "  <thead>\n",
       "    <tr style=\"text-align: right;\">\n",
       "      <th></th>\n",
       "      <th>clientName</th>\n",
       "    </tr>\n",
       "  </thead>\n",
       "  <tbody>\n",
       "    <tr>\n",
       "      <th>0</th>\n",
       "      <td>1</td>\n",
       "    </tr>\n",
       "    <tr>\n",
       "      <th>1</th>\n",
       "      <td>1</td>\n",
       "    </tr>\n",
       "    <tr>\n",
       "      <th>2</th>\n",
       "      <td>1</td>\n",
       "    </tr>\n",
       "    <tr>\n",
       "      <th>3</th>\n",
       "      <td>1</td>\n",
       "    </tr>\n",
       "    <tr>\n",
       "      <th>4</th>\n",
       "      <td>1</td>\n",
       "    </tr>\n",
       "    <tr>\n",
       "      <th>5</th>\n",
       "      <td>2</td>\n",
       "    </tr>\n",
       "    <tr>\n",
       "      <th>6</th>\n",
       "      <td>0</td>\n",
       "    </tr>\n",
       "    <tr>\n",
       "      <th>7</th>\n",
       "      <td>0</td>\n",
       "    </tr>\n",
       "  </tbody>\n",
       "</table>\n",
       "</div>"
      ],
      "text/plain": [
       "   clientName\n",
       "0           1\n",
       "1           1\n",
       "2           1\n",
       "3           1\n",
       "4           1\n",
       "5           2\n",
       "6           0\n",
       "7           0"
      ]
     },
     "execution_count": 70,
     "metadata": {},
     "output_type": "execute_result"
    }
   ],
   "source": [
    "orderwise_df_1_clientName = clientName_oe.transform(orderwise_df_1['clientName'])\n",
    "orderwise_df_1_clientName=pd.DataFrame(orderwise_df_1_clientName,columns=['clientName'])\n",
    "orderwise_df_1_clientName"
   ]
  },
  {
   "cell_type": "code",
   "execution_count": 71,
   "id": "09642715",
   "metadata": {},
   "outputs": [
    {
     "data": {
      "text/html": [
       "<div>\n",
       "<style scoped>\n",
       "    .dataframe tbody tr th:only-of-type {\n",
       "        vertical-align: middle;\n",
       "    }\n",
       "\n",
       "    .dataframe tbody tr th {\n",
       "        vertical-align: top;\n",
       "    }\n",
       "\n",
       "    .dataframe thead th {\n",
       "        text-align: right;\n",
       "    }\n",
       "</style>\n",
       "<table border=\"1\" class=\"dataframe\">\n",
       "  <thead>\n",
       "    <tr style=\"text-align: right;\">\n",
       "      <th></th>\n",
       "      <th>month</th>\n",
       "    </tr>\n",
       "  </thead>\n",
       "  <tbody>\n",
       "    <tr>\n",
       "      <th>0</th>\n",
       "      <td>1</td>\n",
       "    </tr>\n",
       "    <tr>\n",
       "      <th>1</th>\n",
       "      <td>1</td>\n",
       "    </tr>\n",
       "    <tr>\n",
       "      <th>2</th>\n",
       "      <td>1</td>\n",
       "    </tr>\n",
       "    <tr>\n",
       "      <th>3</th>\n",
       "      <td>0</td>\n",
       "    </tr>\n",
       "    <tr>\n",
       "      <th>4</th>\n",
       "      <td>1</td>\n",
       "    </tr>\n",
       "    <tr>\n",
       "      <th>5</th>\n",
       "      <td>1</td>\n",
       "    </tr>\n",
       "    <tr>\n",
       "      <th>6</th>\n",
       "      <td>1</td>\n",
       "    </tr>\n",
       "    <tr>\n",
       "      <th>7</th>\n",
       "      <td>2</td>\n",
       "    </tr>\n",
       "  </tbody>\n",
       "</table>\n",
       "</div>"
      ],
      "text/plain": [
       "   month\n",
       "0      1\n",
       "1      1\n",
       "2      1\n",
       "3      0\n",
       "4      1\n",
       "5      1\n",
       "6      1\n",
       "7      2"
      ]
     },
     "execution_count": 71,
     "metadata": {},
     "output_type": "execute_result"
    }
   ],
   "source": [
    "orderwise_df_1_month = month_oe.transform(orderwise_df_1['month'])\n",
    "orderwise_df_1_month =pd.DataFrame(orderwise_df_1_month,columns=['month'])\n",
    "orderwise_df_1_month"
   ]
  },
  {
   "cell_type": "code",
   "execution_count": 72,
   "id": "d3365fa1",
   "metadata": {},
   "outputs": [
    {
     "data": {
      "text/html": [
       "<div>\n",
       "<style scoped>\n",
       "    .dataframe tbody tr th:only-of-type {\n",
       "        vertical-align: middle;\n",
       "    }\n",
       "\n",
       "    .dataframe tbody tr th {\n",
       "        vertical-align: top;\n",
       "    }\n",
       "\n",
       "    .dataframe thead th {\n",
       "        text-align: right;\n",
       "    }\n",
       "</style>\n",
       "<table border=\"1\" class=\"dataframe\">\n",
       "  <thead>\n",
       "    <tr style=\"text-align: right;\">\n",
       "      <th></th>\n",
       "      <th>day</th>\n",
       "    </tr>\n",
       "  </thead>\n",
       "  <tbody>\n",
       "    <tr>\n",
       "      <th>0</th>\n",
       "      <td>6</td>\n",
       "    </tr>\n",
       "    <tr>\n",
       "      <th>1</th>\n",
       "      <td>6</td>\n",
       "    </tr>\n",
       "    <tr>\n",
       "      <th>2</th>\n",
       "      <td>6</td>\n",
       "    </tr>\n",
       "    <tr>\n",
       "      <th>3</th>\n",
       "      <td>0</td>\n",
       "    </tr>\n",
       "    <tr>\n",
       "      <th>4</th>\n",
       "      <td>6</td>\n",
       "    </tr>\n",
       "    <tr>\n",
       "      <th>5</th>\n",
       "      <td>6</td>\n",
       "    </tr>\n",
       "    <tr>\n",
       "      <th>6</th>\n",
       "      <td>6</td>\n",
       "    </tr>\n",
       "    <tr>\n",
       "      <th>7</th>\n",
       "      <td>4</td>\n",
       "    </tr>\n",
       "  </tbody>\n",
       "</table>\n",
       "</div>"
      ],
      "text/plain": [
       "   day\n",
       "0    6\n",
       "1    6\n",
       "2    6\n",
       "3    0\n",
       "4    6\n",
       "5    6\n",
       "6    6\n",
       "7    4"
      ]
     },
     "execution_count": 72,
     "metadata": {},
     "output_type": "execute_result"
    }
   ],
   "source": [
    "orderwise_df_1_day = day_oe.transform(orderwise_df_1['day'])\n",
    "orderwise_df_1_day = pd.DataFrame(orderwise_df_1_day,columns=['day'])\n",
    "orderwise_df_1_day"
   ]
  },
  {
   "cell_type": "code",
   "execution_count": 73,
   "id": "b72979a1",
   "metadata": {},
   "outputs": [
    {
     "data": {
      "text/html": [
       "<div>\n",
       "<style scoped>\n",
       "    .dataframe tbody tr th:only-of-type {\n",
       "        vertical-align: middle;\n",
       "    }\n",
       "\n",
       "    .dataframe tbody tr th {\n",
       "        vertical-align: top;\n",
       "    }\n",
       "\n",
       "    .dataframe thead th {\n",
       "        text-align: right;\n",
       "    }\n",
       "</style>\n",
       "<table border=\"1\" class=\"dataframe\">\n",
       "  <thead>\n",
       "    <tr style=\"text-align: right;\">\n",
       "      <th></th>\n",
       "      <th>qty</th>\n",
       "      <th>sales</th>\n",
       "      <th>cliAvgSenti</th>\n",
       "      <th>spAvgSenti</th>\n",
       "      <th>clientName</th>\n",
       "      <th>month</th>\n",
       "      <th>day</th>\n",
       "    </tr>\n",
       "  </thead>\n",
       "  <tbody>\n",
       "    <tr>\n",
       "      <th>0</th>\n",
       "      <td>4</td>\n",
       "      <td>4857.0</td>\n",
       "      <td>0.5</td>\n",
       "      <td>1.0</td>\n",
       "      <td>1</td>\n",
       "      <td>1</td>\n",
       "      <td>6</td>\n",
       "    </tr>\n",
       "    <tr>\n",
       "      <th>1</th>\n",
       "      <td>0</td>\n",
       "      <td>0.0</td>\n",
       "      <td>0.5</td>\n",
       "      <td>1.0</td>\n",
       "      <td>1</td>\n",
       "      <td>1</td>\n",
       "      <td>6</td>\n",
       "    </tr>\n",
       "    <tr>\n",
       "      <th>2</th>\n",
       "      <td>0</td>\n",
       "      <td>0.0</td>\n",
       "      <td>0.5</td>\n",
       "      <td>1.0</td>\n",
       "      <td>1</td>\n",
       "      <td>1</td>\n",
       "      <td>6</td>\n",
       "    </tr>\n",
       "    <tr>\n",
       "      <th>3</th>\n",
       "      <td>5</td>\n",
       "      <td>27.0</td>\n",
       "      <td>0.5</td>\n",
       "      <td>1.0</td>\n",
       "      <td>1</td>\n",
       "      <td>0</td>\n",
       "      <td>0</td>\n",
       "    </tr>\n",
       "    <tr>\n",
       "      <th>4</th>\n",
       "      <td>1</td>\n",
       "      <td>1077.0</td>\n",
       "      <td>0.5</td>\n",
       "      <td>1.0</td>\n",
       "      <td>1</td>\n",
       "      <td>1</td>\n",
       "      <td>6</td>\n",
       "    </tr>\n",
       "    <tr>\n",
       "      <th>5</th>\n",
       "      <td>2</td>\n",
       "      <td>8402.0</td>\n",
       "      <td>1.0</td>\n",
       "      <td>1.0</td>\n",
       "      <td>2</td>\n",
       "      <td>1</td>\n",
       "      <td>6</td>\n",
       "    </tr>\n",
       "    <tr>\n",
       "      <th>6</th>\n",
       "      <td>2</td>\n",
       "      <td>2520.0</td>\n",
       "      <td>0.0</td>\n",
       "      <td>1.0</td>\n",
       "      <td>0</td>\n",
       "      <td>1</td>\n",
       "      <td>6</td>\n",
       "    </tr>\n",
       "    <tr>\n",
       "      <th>7</th>\n",
       "      <td>6</td>\n",
       "      <td>22265.0</td>\n",
       "      <td>0.0</td>\n",
       "      <td>1.0</td>\n",
       "      <td>0</td>\n",
       "      <td>2</td>\n",
       "      <td>4</td>\n",
       "    </tr>\n",
       "  </tbody>\n",
       "</table>\n",
       "</div>"
      ],
      "text/plain": [
       "   qty    sales  cliAvgSenti  spAvgSenti  clientName  month  day\n",
       "0    4   4857.0          0.5         1.0           1      1    6\n",
       "1    0      0.0          0.5         1.0           1      1    6\n",
       "2    0      0.0          0.5         1.0           1      1    6\n",
       "3    5     27.0          0.5         1.0           1      0    0\n",
       "4    1   1077.0          0.5         1.0           1      1    6\n",
       "5    2   8402.0          1.0         1.0           2      1    6\n",
       "6    2   2520.0          0.0         1.0           0      1    6\n",
       "7    6  22265.0          0.0         1.0           0      2    4"
      ]
     },
     "execution_count": 73,
     "metadata": {},
     "output_type": "execute_result"
    }
   ],
   "source": [
    "orderwise_df_1=pd.concat([orderwise_df_1.drop(columns=['clientName','month','day']),orderwise_df_1_clientName,orderwise_df_1_month,orderwise_df_1_day],axis=1)\n",
    "orderwise_df_1"
   ]
  },
  {
   "cell_type": "code",
   "execution_count": 74,
   "id": "80a6ebb6",
   "metadata": {},
   "outputs": [
    {
     "data": {
      "text/plain": [
       "qty              int64\n",
       "sales          float64\n",
       "cliAvgSenti    float64\n",
       "spAvgSenti     float64\n",
       "clientName       int64\n",
       "month            int64\n",
       "day              int64\n",
       "dtype: object"
      ]
     },
     "execution_count": 74,
     "metadata": {},
     "output_type": "execute_result"
    }
   ],
   "source": [
    "orderwise_df_1.dtypes"
   ]
  },
  {
   "cell_type": "code",
   "execution_count": 75,
   "id": "995e154d",
   "metadata": {},
   "outputs": [],
   "source": [
    "m1 = XGBRegressor(random_state=42, n_jobs=-1, n_estimators=20, max_depth=4)"
   ]
  },
  {
   "cell_type": "code",
   "execution_count": 76,
   "id": "2fdd0bc6",
   "metadata": {},
   "outputs": [
    {
     "data": {
      "text/html": [
       "<style>#sk-container-id-5 {color: black;background-color: white;}#sk-container-id-5 pre{padding: 0;}#sk-container-id-5 div.sk-toggleable {background-color: white;}#sk-container-id-5 label.sk-toggleable__label {cursor: pointer;display: block;width: 100%;margin-bottom: 0;padding: 0.3em;box-sizing: border-box;text-align: center;}#sk-container-id-5 label.sk-toggleable__label-arrow:before {content: \"▸\";float: left;margin-right: 0.25em;color: #696969;}#sk-container-id-5 label.sk-toggleable__label-arrow:hover:before {color: black;}#sk-container-id-5 div.sk-estimator:hover label.sk-toggleable__label-arrow:before {color: black;}#sk-container-id-5 div.sk-toggleable__content {max-height: 0;max-width: 0;overflow: hidden;text-align: left;background-color: #f0f8ff;}#sk-container-id-5 div.sk-toggleable__content pre {margin: 0.2em;color: black;border-radius: 0.25em;background-color: #f0f8ff;}#sk-container-id-5 input.sk-toggleable__control:checked~div.sk-toggleable__content {max-height: 200px;max-width: 100%;overflow: auto;}#sk-container-id-5 input.sk-toggleable__control:checked~label.sk-toggleable__label-arrow:before {content: \"▾\";}#sk-container-id-5 div.sk-estimator input.sk-toggleable__control:checked~label.sk-toggleable__label {background-color: #d4ebff;}#sk-container-id-5 div.sk-label input.sk-toggleable__control:checked~label.sk-toggleable__label {background-color: #d4ebff;}#sk-container-id-5 input.sk-hidden--visually {border: 0;clip: rect(1px 1px 1px 1px);clip: rect(1px, 1px, 1px, 1px);height: 1px;margin: -1px;overflow: hidden;padding: 0;position: absolute;width: 1px;}#sk-container-id-5 div.sk-estimator {font-family: monospace;background-color: #f0f8ff;border: 1px dotted black;border-radius: 0.25em;box-sizing: border-box;margin-bottom: 0.5em;}#sk-container-id-5 div.sk-estimator:hover {background-color: #d4ebff;}#sk-container-id-5 div.sk-parallel-item::after {content: \"\";width: 100%;border-bottom: 1px solid gray;flex-grow: 1;}#sk-container-id-5 div.sk-label:hover label.sk-toggleable__label {background-color: #d4ebff;}#sk-container-id-5 div.sk-serial::before {content: \"\";position: absolute;border-left: 1px solid gray;box-sizing: border-box;top: 0;bottom: 0;left: 50%;z-index: 0;}#sk-container-id-5 div.sk-serial {display: flex;flex-direction: column;align-items: center;background-color: white;padding-right: 0.2em;padding-left: 0.2em;position: relative;}#sk-container-id-5 div.sk-item {position: relative;z-index: 1;}#sk-container-id-5 div.sk-parallel {display: flex;align-items: stretch;justify-content: center;background-color: white;position: relative;}#sk-container-id-5 div.sk-item::before, #sk-container-id-5 div.sk-parallel-item::before {content: \"\";position: absolute;border-left: 1px solid gray;box-sizing: border-box;top: 0;bottom: 0;left: 50%;z-index: -1;}#sk-container-id-5 div.sk-parallel-item {display: flex;flex-direction: column;z-index: 1;position: relative;background-color: white;}#sk-container-id-5 div.sk-parallel-item:first-child::after {align-self: flex-end;width: 50%;}#sk-container-id-5 div.sk-parallel-item:last-child::after {align-self: flex-start;width: 50%;}#sk-container-id-5 div.sk-parallel-item:only-child::after {width: 0;}#sk-container-id-5 div.sk-dashed-wrapped {border: 1px dashed gray;margin: 0 0.4em 0.5em 0.4em;box-sizing: border-box;padding-bottom: 0.4em;background-color: white;}#sk-container-id-5 div.sk-label label {font-family: monospace;font-weight: bold;display: inline-block;line-height: 1.2em;}#sk-container-id-5 div.sk-label-container {text-align: center;}#sk-container-id-5 div.sk-container {/* jupyter's `normalize.less` sets `[hidden] { display: none; }` but bootstrap.min.css set `[hidden] { display: none !important; }` so we also need the `!important` here to be able to override the default hidden behavior on the sphinx rendered scikit-learn.org. See: https://github.com/scikit-learn/scikit-learn/issues/21755 */display: inline-block !important;position: relative;}#sk-container-id-5 div.sk-text-repr-fallback {display: none;}</style><div id=\"sk-container-id-5\" class=\"sk-top-container\"><div class=\"sk-text-repr-fallback\"><pre>XGBRegressor(base_score=0.5, booster=&#x27;gbtree&#x27;, callbacks=None,\n",
       "             colsample_bylevel=1, colsample_bynode=1, colsample_bytree=1,\n",
       "             early_stopping_rounds=None, enable_categorical=False,\n",
       "             eval_metric=None, feature_types=None, gamma=0, gpu_id=-1,\n",
       "             grow_policy=&#x27;depthwise&#x27;, importance_type=None,\n",
       "             interaction_constraints=&#x27;&#x27;, learning_rate=0.300000012, max_bin=256,\n",
       "             max_cat_threshold=64, max_cat_to_onehot=4, max_delta_step=0,\n",
       "             max_depth=4, max_leaves=0, min_child_weight=1, missing=nan,\n",
       "             monotone_constraints=&#x27;()&#x27;, n_estimators=20, n_jobs=-1,\n",
       "             num_parallel_tree=1, predictor=&#x27;auto&#x27;, random_state=42, ...)</pre><b>In a Jupyter environment, please rerun this cell to show the HTML representation or trust the notebook. <br />On GitHub, the HTML representation is unable to render, please try loading this page with nbviewer.org.</b></div><div class=\"sk-container\" hidden><div class=\"sk-item\"><div class=\"sk-estimator sk-toggleable\"><input class=\"sk-toggleable__control sk-hidden--visually\" id=\"sk-estimator-id-5\" type=\"checkbox\" checked><label for=\"sk-estimator-id-5\" class=\"sk-toggleable__label sk-toggleable__label-arrow\">XGBRegressor</label><div class=\"sk-toggleable__content\"><pre>XGBRegressor(base_score=0.5, booster=&#x27;gbtree&#x27;, callbacks=None,\n",
       "             colsample_bylevel=1, colsample_bynode=1, colsample_bytree=1,\n",
       "             early_stopping_rounds=None, enable_categorical=False,\n",
       "             eval_metric=None, feature_types=None, gamma=0, gpu_id=-1,\n",
       "             grow_policy=&#x27;depthwise&#x27;, importance_type=None,\n",
       "             interaction_constraints=&#x27;&#x27;, learning_rate=0.300000012, max_bin=256,\n",
       "             max_cat_threshold=64, max_cat_to_onehot=4, max_delta_step=0,\n",
       "             max_depth=4, max_leaves=0, min_child_weight=1, missing=nan,\n",
       "             monotone_constraints=&#x27;()&#x27;, n_estimators=20, n_jobs=-1,\n",
       "             num_parallel_tree=1, predictor=&#x27;auto&#x27;, random_state=42, ...)</pre></div></div></div></div></div>"
      ],
      "text/plain": [
       "XGBRegressor(base_score=0.5, booster='gbtree', callbacks=None,\n",
       "             colsample_bylevel=1, colsample_bynode=1, colsample_bytree=1,\n",
       "             early_stopping_rounds=None, enable_categorical=False,\n",
       "             eval_metric=None, feature_types=None, gamma=0, gpu_id=-1,\n",
       "             grow_policy='depthwise', importance_type=None,\n",
       "             interaction_constraints='', learning_rate=0.300000012, max_bin=256,\n",
       "             max_cat_threshold=64, max_cat_to_onehot=4, max_delta_step=0,\n",
       "             max_depth=4, max_leaves=0, min_child_weight=1, missing=nan,\n",
       "             monotone_constraints='()', n_estimators=20, n_jobs=-1,\n",
       "             num_parallel_tree=1, predictor='auto', random_state=42, ...)"
      ]
     },
     "execution_count": 76,
     "metadata": {},
     "output_type": "execute_result"
    }
   ],
   "source": [
    "m1.fit(orderwise_df_1.drop(columns=['sales']),orderwise_df_1['sales'])"
   ]
  },
  {
   "cell_type": "code",
   "execution_count": 77,
   "id": "cdce7ab6",
   "metadata": {},
   "outputs": [],
   "source": [
    "import pickle \n",
    "pickle.dump(m1,open('m1.pkl','wb'))\n",
    "pickle.dump(clientName_oe,open('clientName_oe.pkl','wb'))\n",
    "pickle.dump(month_oe,open('month_oe.pkl','wb'))\n",
    "pickle.dump(day_oe,open('day_oe.pkl','wb'))"
   ]
  },
  {
   "cell_type": "code",
   "execution_count": 78,
   "id": "cfc463af",
   "metadata": {},
   "outputs": [],
   "source": [
    "m1_loaded = pickle.load(open('m1.pkl','rb'))\n",
    "clientName_oe_loaded = pickle.load(open('clientName_oe.pkl','rb'))\n",
    "month_oe_loaded = pickle.load(open('month_oe.pkl','rb'))\n",
    "day_oe_loaded = pickle.load(open('day_oe.pkl','rb'))"
   ]
  },
  {
   "cell_type": "code",
   "execution_count": 82,
   "id": "b8b92276",
   "metadata": {},
   "outputs": [
    {
     "data": {
      "text/html": [
       "<div>\n",
       "<style scoped>\n",
       "    .dataframe tbody tr th:only-of-type {\n",
       "        vertical-align: middle;\n",
       "    }\n",
       "\n",
       "    .dataframe tbody tr th {\n",
       "        vertical-align: top;\n",
       "    }\n",
       "\n",
       "    .dataframe thead th {\n",
       "        text-align: right;\n",
       "    }\n",
       "</style>\n",
       "<table border=\"1\" class=\"dataframe\">\n",
       "  <thead>\n",
       "    <tr style=\"text-align: right;\">\n",
       "      <th></th>\n",
       "      <th>qty</th>\n",
       "      <th>cliAvgSenti</th>\n",
       "      <th>spAvgSenti</th>\n",
       "      <th>clientName</th>\n",
       "      <th>month</th>\n",
       "      <th>day</th>\n",
       "    </tr>\n",
       "  </thead>\n",
       "  <tbody>\n",
       "    <tr>\n",
       "      <th>0</th>\n",
       "      <td>4</td>\n",
       "      <td>0.6</td>\n",
       "      <td>0.7</td>\n",
       "      <td>JJ Electronics</td>\n",
       "      <td>05</td>\n",
       "      <td>3</td>\n",
       "    </tr>\n",
       "  </tbody>\n",
       "</table>\n",
       "</div>"
      ],
      "text/plain": [
       "  qty cliAvgSenti spAvgSenti      clientName month day\n",
       "0   4         0.6        0.7  JJ Electronics    05   3"
      ]
     },
     "execution_count": 82,
     "metadata": {},
     "output_type": "execute_result"
    }
   ],
   "source": [
    "test_m1_input = np.array([int(4),float(0.6),float(0.7),'JJ Electronics','05','3']).reshape(1,6)\n",
    "test_m1_input_df = pd.DataFrame(test_m1_input,columns=['qty','cliAvgSenti','spAvgSenti','clientName','month','day'])\n",
    "test_m1_input_df"
   ]
  },
  {
   "cell_type": "code",
   "execution_count": 83,
   "id": "c19c792d",
   "metadata": {},
   "outputs": [
    {
     "data": {
      "text/plain": [
       "qty            object\n",
       "cliAvgSenti    object\n",
       "spAvgSenti     object\n",
       "clientName     object\n",
       "month          object\n",
       "day            object\n",
       "dtype: object"
      ]
     },
     "execution_count": 83,
     "metadata": {},
     "output_type": "execute_result"
    }
   ],
   "source": [
    "test_m1_input_df.dtypes"
   ]
  },
  {
   "cell_type": "code",
   "execution_count": 84,
   "id": "5d210fe0",
   "metadata": {},
   "outputs": [
    {
     "data": {
      "text/html": [
       "<div>\n",
       "<style scoped>\n",
       "    .dataframe tbody tr th:only-of-type {\n",
       "        vertical-align: middle;\n",
       "    }\n",
       "\n",
       "    .dataframe tbody tr th {\n",
       "        vertical-align: top;\n",
       "    }\n",
       "\n",
       "    .dataframe thead th {\n",
       "        text-align: right;\n",
       "    }\n",
       "</style>\n",
       "<table border=\"1\" class=\"dataframe\">\n",
       "  <thead>\n",
       "    <tr style=\"text-align: right;\">\n",
       "      <th></th>\n",
       "      <th>qty</th>\n",
       "      <th>cliAvgSenti</th>\n",
       "      <th>spAvgSenti</th>\n",
       "      <th>clientName</th>\n",
       "      <th>month</th>\n",
       "      <th>day</th>\n",
       "    </tr>\n",
       "  </thead>\n",
       "  <tbody>\n",
       "    <tr>\n",
       "      <th>0</th>\n",
       "      <td>4</td>\n",
       "      <td>0.6</td>\n",
       "      <td>0.7</td>\n",
       "      <td>1</td>\n",
       "      <td>4</td>\n",
       "      <td>3</td>\n",
       "    </tr>\n",
       "  </tbody>\n",
       "</table>\n",
       "</div>"
      ],
      "text/plain": [
       "  qty cliAvgSenti spAvgSenti  clientName  month  day\n",
       "0   4         0.6        0.7           1      4    3"
      ]
     },
     "execution_count": 84,
     "metadata": {},
     "output_type": "execute_result"
    }
   ],
   "source": [
    "test_m1_input_df_clientName = pd.DataFrame(clientName_oe_loaded.transform(test_m1_input_df['clientName']),columns=['clientName']) \n",
    "test_m1_input_df_month = pd.DataFrame(month_oe_loaded.transform(test_m1_input_df['month']),columns=['month'])\n",
    "test_m1_input_df_day = pd.DataFrame(day_oe_loaded.transform(test_m1_input_df['day']),columns=['day'])\n",
    "test_m1_input_df_transformed =pd.concat([test_m1_input_df.drop(columns=['clientName','month','day']),test_m1_input_df_clientName,test_m1_input_df_month,test_m1_input_df_day],axis=1)\n",
    "test_m1_input_df_transformed"
   ]
  },
  {
   "cell_type": "code",
   "execution_count": 85,
   "id": "21dff6e8",
   "metadata": {},
   "outputs": [],
   "source": [
    "test_m1_input_df_transformed['qty'] = test_m1_input_df_transformed['qty'].astype(int)\n",
    "test_m1_input_df_transformed['cliAvgSenti'] = test_m1_input_df_transformed['cliAvgSenti'].astype(float)\n",
    "test_m1_input_df_transformed['spAvgSenti'] = test_m1_input_df_transformed['spAvgSenti'].astype(float)"
   ]
  },
  {
   "cell_type": "code",
   "execution_count": 86,
   "id": "2de3c8d9",
   "metadata": {},
   "outputs": [
    {
     "data": {
      "text/plain": [
       "qty              int64\n",
       "cliAvgSenti    float64\n",
       "spAvgSenti     float64\n",
       "clientName       int64\n",
       "month            int64\n",
       "day              int64\n",
       "dtype: object"
      ]
     },
     "execution_count": 86,
     "metadata": {},
     "output_type": "execute_result"
    }
   ],
   "source": [
    "test_m1_input_df_transformed.dtypes"
   ]
  },
  {
   "cell_type": "code",
   "execution_count": 87,
   "id": "262a5015",
   "metadata": {},
   "outputs": [
    {
     "data": {
      "text/plain": [
       "array([4679.223], dtype=float32)"
      ]
     },
     "execution_count": 87,
     "metadata": {},
     "output_type": "execute_result"
    }
   ],
   "source": [
    "m1_loaded.predict(test_m1_input_df_transformed)"
   ]
  },
  {
   "cell_type": "code",
   "execution_count": null,
   "id": "e46e16dd",
   "metadata": {},
   "outputs": [],
   "source": []
  },
  {
   "cell_type": "code",
   "execution_count": null,
   "id": "59a067a0",
   "metadata": {},
   "outputs": [],
   "source": []
  },
  {
   "cell_type": "code",
   "execution_count": null,
   "id": "fd1bfffb",
   "metadata": {},
   "outputs": [],
   "source": []
  },
  {
   "cell_type": "code",
   "execution_count": null,
   "id": "e17f99da",
   "metadata": {},
   "outputs": [],
   "source": []
  },
  {
   "cell_type": "code",
   "execution_count": null,
   "id": "877e92b3",
   "metadata": {},
   "outputs": [],
   "source": []
  },
  {
   "cell_type": "code",
   "execution_count": null,
   "id": "56a021b9",
   "metadata": {},
   "outputs": [],
   "source": []
  },
  {
   "cell_type": "code",
   "execution_count": null,
   "id": "88ff2adf",
   "metadata": {},
   "outputs": [],
   "source": []
  },
  {
   "cell_type": "markdown",
   "id": "1c752768",
   "metadata": {},
   "source": [
    "# m2 - predict productwise reg"
   ]
  },
  {
   "cell_type": "code",
   "execution_count": null,
   "id": "1e25b155",
   "metadata": {},
   "outputs": [],
   "source": [
    "#create pipeline \n",
    "#train model using pipeline\n",
    "#export m1_pipeline \n",
    "#import m1_pipeline \n",
    "# make predict fuction for m1_pipeline"
   ]
  },
  {
   "cell_type": "code",
   "execution_count": 88,
   "id": "31943905",
   "metadata": {},
   "outputs": [
    {
     "data": {
      "text/html": [
       "<div>\n",
       "<style scoped>\n",
       "    .dataframe tbody tr th:only-of-type {\n",
       "        vertical-align: middle;\n",
       "    }\n",
       "\n",
       "    .dataframe tbody tr th {\n",
       "        vertical-align: top;\n",
       "    }\n",
       "\n",
       "    .dataframe thead th {\n",
       "        text-align: right;\n",
       "    }\n",
       "</style>\n",
       "<table border=\"1\" class=\"dataframe\">\n",
       "  <thead>\n",
       "    <tr style=\"text-align: right;\">\n",
       "      <th></th>\n",
       "      <th>prodName</th>\n",
       "      <th>clientName</th>\n",
       "      <th>month</th>\n",
       "      <th>day</th>\n",
       "      <th>orderQty</th>\n",
       "      <th>orderTotal</th>\n",
       "      <th>cliAvgSenti</th>\n",
       "      <th>spAvgSenti</th>\n",
       "      <th>sales</th>\n",
       "    </tr>\n",
       "  </thead>\n",
       "  <tbody>\n",
       "    <tr>\n",
       "      <th>0</th>\n",
       "      <td>prodsku99</td>\n",
       "      <td>JJ Electronics</td>\n",
       "      <td>02</td>\n",
       "      <td>6</td>\n",
       "      <td>4</td>\n",
       "      <td>4857.0</td>\n",
       "      <td>0.5</td>\n",
       "      <td>1.0</td>\n",
       "      <td>988.0</td>\n",
       "    </tr>\n",
       "    <tr>\n",
       "      <th>1</th>\n",
       "      <td>prodsku20</td>\n",
       "      <td>JJ Electronics</td>\n",
       "      <td>02</td>\n",
       "      <td>6</td>\n",
       "      <td>4</td>\n",
       "      <td>4857.0</td>\n",
       "      <td>0.5</td>\n",
       "      <td>1.0</td>\n",
       "      <td>1200.0</td>\n",
       "    </tr>\n",
       "  </tbody>\n",
       "</table>\n",
       "</div>"
      ],
      "text/plain": [
       "    prodName      clientName month day  orderQty  orderTotal  cliAvgSenti  \\\n",
       "0  prodsku99  JJ Electronics    02   6         4      4857.0          0.5   \n",
       "1  prodsku20  JJ Electronics    02   6         4      4857.0          0.5   \n",
       "\n",
       "   spAvgSenti   sales  \n",
       "0         1.0   988.0  \n",
       "1         1.0  1200.0  "
      ]
     },
     "execution_count": 88,
     "metadata": {},
     "output_type": "execute_result"
    }
   ],
   "source": [
    "prodwise_df_1.head(2)"
   ]
  },
  {
   "cell_type": "code",
   "execution_count": 89,
   "id": "bf2cbf57",
   "metadata": {},
   "outputs": [
    {
     "data": {
      "text/plain": [
       "prodName        object\n",
       "clientName      object\n",
       "month           object\n",
       "day             object\n",
       "orderQty         int64\n",
       "orderTotal     float64\n",
       "cliAvgSenti    float64\n",
       "spAvgSenti     float64\n",
       "sales          float64\n",
       "dtype: object"
      ]
     },
     "execution_count": 89,
     "metadata": {},
     "output_type": "execute_result"
    }
   ],
   "source": [
    "prodwise_df_1.dtypes"
   ]
  },
  {
   "cell_type": "code",
   "execution_count": 90,
   "id": "4a6dfd50",
   "metadata": {},
   "outputs": [],
   "source": [
    "X_train,X_test,y_train,y_test = train_test_split(prodwise_df_1.drop(columns=['sales']),\n",
    "                                                    prodwise_df_1['sales'],\n",
    "                                                     test_size=0.2,\n",
    "                                                 random_state=42\n",
    "                                                )"
   ]
  },
  {
   "cell_type": "code",
   "execution_count": 91,
   "id": "2eeaa702",
   "metadata": {},
   "outputs": [
    {
     "data": {
      "text/html": [
       "<div>\n",
       "<style scoped>\n",
       "    .dataframe tbody tr th:only-of-type {\n",
       "        vertical-align: middle;\n",
       "    }\n",
       "\n",
       "    .dataframe tbody tr th {\n",
       "        vertical-align: top;\n",
       "    }\n",
       "\n",
       "    .dataframe thead th {\n",
       "        text-align: right;\n",
       "    }\n",
       "</style>\n",
       "<table border=\"1\" class=\"dataframe\">\n",
       "  <thead>\n",
       "    <tr style=\"text-align: right;\">\n",
       "      <th></th>\n",
       "      <th>prodName</th>\n",
       "      <th>clientName</th>\n",
       "      <th>month</th>\n",
       "      <th>day</th>\n",
       "      <th>orderQty</th>\n",
       "      <th>orderTotal</th>\n",
       "      <th>cliAvgSenti</th>\n",
       "      <th>spAvgSenti</th>\n",
       "    </tr>\n",
       "  </thead>\n",
       "  <tbody>\n",
       "    <tr>\n",
       "      <th>5</th>\n",
       "      <td>prodSKU3</td>\n",
       "      <td>Star Bazaar</td>\n",
       "      <td>02</td>\n",
       "      <td>6</td>\n",
       "      <td>2</td>\n",
       "      <td>8402.0</td>\n",
       "      <td>1.0</td>\n",
       "      <td>1.0</td>\n",
       "    </tr>\n",
       "    <tr>\n",
       "      <th>0</th>\n",
       "      <td>prodsku99</td>\n",
       "      <td>JJ Electronics</td>\n",
       "      <td>02</td>\n",
       "      <td>6</td>\n",
       "      <td>4</td>\n",
       "      <td>4857.0</td>\n",
       "      <td>0.5</td>\n",
       "      <td>1.0</td>\n",
       "    </tr>\n",
       "    <tr>\n",
       "      <th>8</th>\n",
       "      <td>prodsku20</td>\n",
       "      <td>Decathlon Electronics</td>\n",
       "      <td>03</td>\n",
       "      <td>4</td>\n",
       "      <td>6</td>\n",
       "      <td>22265.0</td>\n",
       "      <td>0.0</td>\n",
       "      <td>1.0</td>\n",
       "    </tr>\n",
       "    <tr>\n",
       "      <th>2</th>\n",
       "      <td>prodsku20</td>\n",
       "      <td>JJ Electronics</td>\n",
       "      <td>02</td>\n",
       "      <td>6</td>\n",
       "      <td>4</td>\n",
       "      <td>4857.0</td>\n",
       "      <td>0.5</td>\n",
       "      <td>1.0</td>\n",
       "    </tr>\n",
       "    <tr>\n",
       "      <th>4</th>\n",
       "      <td>prodsku99</td>\n",
       "      <td>JJ Electronics</td>\n",
       "      <td>02</td>\n",
       "      <td>6</td>\n",
       "      <td>1</td>\n",
       "      <td>1077.0</td>\n",
       "      <td>0.5</td>\n",
       "      <td>1.0</td>\n",
       "    </tr>\n",
       "  </tbody>\n",
       "</table>\n",
       "</div>"
      ],
      "text/plain": [
       "    prodName             clientName month day  orderQty  orderTotal  \\\n",
       "5   prodSKU3            Star Bazaar    02   6         2      8402.0   \n",
       "0  prodsku99         JJ Electronics    02   6         4      4857.0   \n",
       "8  prodsku20  Decathlon Electronics    03   4         6     22265.0   \n",
       "2  prodsku20         JJ Electronics    02   6         4      4857.0   \n",
       "4  prodsku99         JJ Electronics    02   6         1      1077.0   \n",
       "\n",
       "   cliAvgSenti  spAvgSenti  \n",
       "5          1.0         1.0  \n",
       "0          0.5         1.0  \n",
       "8          0.0         1.0  \n",
       "2          0.5         1.0  \n",
       "4          0.5         1.0  "
      ]
     },
     "execution_count": 91,
     "metadata": {},
     "output_type": "execute_result"
    }
   ],
   "source": [
    "X_train.head()"
   ]
  },
  {
   "cell_type": "code",
   "execution_count": 92,
   "id": "9c843c72",
   "metadata": {},
   "outputs": [
    {
     "data": {
      "text/plain": [
       "5    8002.0\n",
       "0     988.0\n",
       "8    1200.0\n",
       "2    2400.0\n",
       "4     988.0\n",
       "Name: sales, dtype: float64"
      ]
     },
     "execution_count": 92,
     "metadata": {},
     "output_type": "execute_result"
    }
   ],
   "source": [
    "y_train.head()"
   ]
  },
  {
   "cell_type": "code",
   "execution_count": 86,
   "id": "8ee57ab1",
   "metadata": {},
   "outputs": [],
   "source": [
    "#Ordinal encoding \n",
    "trf1 = ColumnTransformer([\n",
    "    ('orde_prodName_clientName_month_day',OrdinalEncoder(handle_unknown=\"use_encoded_value\",unknown_value=100),[0,1,2,3])\n",
    "],remainder=\"passthrough\")"
   ]
  },
  {
   "cell_type": "code",
   "execution_count": 87,
   "id": "79d2c7e2",
   "metadata": {},
   "outputs": [],
   "source": [
    "#scaling \n",
    "trf2 = ColumnTransformer([\n",
    "    ('scale',MinMaxScaler(),slice(0,7))\n",
    "])"
   ]
  },
  {
   "cell_type": "code",
   "execution_count": 88,
   "id": "01cb752c",
   "metadata": {},
   "outputs": [],
   "source": [
    "#model training \n",
    "from xgboost import XGBRegressor\n",
    "trf3 = XGBRegressor(random_state=42, n_jobs=-1, n_estimators=20, max_depth=4)"
   ]
  },
  {
   "cell_type": "code",
   "execution_count": 89,
   "id": "6ba21d48",
   "metadata": {},
   "outputs": [],
   "source": [
    "#pipeline \n",
    "pipe_m2 = Pipeline([\n",
    "    ('trf1',trf1),\n",
    "    ('trf2',trf2),\n",
    "    ('trf3',trf3)\n",
    "])\n"
   ]
  },
  {
   "cell_type": "code",
   "execution_count": 90,
   "id": "4c9628ea",
   "metadata": {},
   "outputs": [
    {
     "data": {
      "text/html": [
       "<style>#sk-container-id-2 {color: black;background-color: white;}#sk-container-id-2 pre{padding: 0;}#sk-container-id-2 div.sk-toggleable {background-color: white;}#sk-container-id-2 label.sk-toggleable__label {cursor: pointer;display: block;width: 100%;margin-bottom: 0;padding: 0.3em;box-sizing: border-box;text-align: center;}#sk-container-id-2 label.sk-toggleable__label-arrow:before {content: \"▸\";float: left;margin-right: 0.25em;color: #696969;}#sk-container-id-2 label.sk-toggleable__label-arrow:hover:before {color: black;}#sk-container-id-2 div.sk-estimator:hover label.sk-toggleable__label-arrow:before {color: black;}#sk-container-id-2 div.sk-toggleable__content {max-height: 0;max-width: 0;overflow: hidden;text-align: left;background-color: #f0f8ff;}#sk-container-id-2 div.sk-toggleable__content pre {margin: 0.2em;color: black;border-radius: 0.25em;background-color: #f0f8ff;}#sk-container-id-2 input.sk-toggleable__control:checked~div.sk-toggleable__content {max-height: 200px;max-width: 100%;overflow: auto;}#sk-container-id-2 input.sk-toggleable__control:checked~label.sk-toggleable__label-arrow:before {content: \"▾\";}#sk-container-id-2 div.sk-estimator input.sk-toggleable__control:checked~label.sk-toggleable__label {background-color: #d4ebff;}#sk-container-id-2 div.sk-label input.sk-toggleable__control:checked~label.sk-toggleable__label {background-color: #d4ebff;}#sk-container-id-2 input.sk-hidden--visually {border: 0;clip: rect(1px 1px 1px 1px);clip: rect(1px, 1px, 1px, 1px);height: 1px;margin: -1px;overflow: hidden;padding: 0;position: absolute;width: 1px;}#sk-container-id-2 div.sk-estimator {font-family: monospace;background-color: #f0f8ff;border: 1px dotted black;border-radius: 0.25em;box-sizing: border-box;margin-bottom: 0.5em;}#sk-container-id-2 div.sk-estimator:hover {background-color: #d4ebff;}#sk-container-id-2 div.sk-parallel-item::after {content: \"\";width: 100%;border-bottom: 1px solid gray;flex-grow: 1;}#sk-container-id-2 div.sk-label:hover label.sk-toggleable__label {background-color: #d4ebff;}#sk-container-id-2 div.sk-serial::before {content: \"\";position: absolute;border-left: 1px solid gray;box-sizing: border-box;top: 0;bottom: 0;left: 50%;z-index: 0;}#sk-container-id-2 div.sk-serial {display: flex;flex-direction: column;align-items: center;background-color: white;padding-right: 0.2em;padding-left: 0.2em;position: relative;}#sk-container-id-2 div.sk-item {position: relative;z-index: 1;}#sk-container-id-2 div.sk-parallel {display: flex;align-items: stretch;justify-content: center;background-color: white;position: relative;}#sk-container-id-2 div.sk-item::before, #sk-container-id-2 div.sk-parallel-item::before {content: \"\";position: absolute;border-left: 1px solid gray;box-sizing: border-box;top: 0;bottom: 0;left: 50%;z-index: -1;}#sk-container-id-2 div.sk-parallel-item {display: flex;flex-direction: column;z-index: 1;position: relative;background-color: white;}#sk-container-id-2 div.sk-parallel-item:first-child::after {align-self: flex-end;width: 50%;}#sk-container-id-2 div.sk-parallel-item:last-child::after {align-self: flex-start;width: 50%;}#sk-container-id-2 div.sk-parallel-item:only-child::after {width: 0;}#sk-container-id-2 div.sk-dashed-wrapped {border: 1px dashed gray;margin: 0 0.4em 0.5em 0.4em;box-sizing: border-box;padding-bottom: 0.4em;background-color: white;}#sk-container-id-2 div.sk-label label {font-family: monospace;font-weight: bold;display: inline-block;line-height: 1.2em;}#sk-container-id-2 div.sk-label-container {text-align: center;}#sk-container-id-2 div.sk-container {/* jupyter's `normalize.less` sets `[hidden] { display: none; }` but bootstrap.min.css set `[hidden] { display: none !important; }` so we also need the `!important` here to be able to override the default hidden behavior on the sphinx rendered scikit-learn.org. See: https://github.com/scikit-learn/scikit-learn/issues/21755 */display: inline-block !important;position: relative;}#sk-container-id-2 div.sk-text-repr-fallback {display: none;}</style><div id=\"sk-container-id-2\" class=\"sk-top-container\"><div class=\"sk-text-repr-fallback\"><pre>Pipeline(steps=[(&#x27;trf1&#x27;,\n",
       "                 ColumnTransformer(remainder=&#x27;passthrough&#x27;,\n",
       "                                   transformers=[(&#x27;orde_prodName_clientName_month_day&#x27;,\n",
       "                                                  OrdinalEncoder(handle_unknown=&#x27;use_encoded_value&#x27;,\n",
       "                                                                 unknown_value=100),\n",
       "                                                  [0, 1, 2, 3])])),\n",
       "                (&#x27;trf2&#x27;,\n",
       "                 ColumnTransformer(transformers=[(&#x27;scale&#x27;, MinMaxScaler(),\n",
       "                                                  slice(0, 7, None))])),\n",
       "                (&#x27;trf3&#x27;,\n",
       "                 XGBRegressor(base_score=0.5, booster=&#x27;gbtree&#x27;, callbacks=No...\n",
       "                              feature_types=None, gamma=0, gpu_id=-1,\n",
       "                              grow_policy=&#x27;depthwise&#x27;, importance_type=None,\n",
       "                              interaction_constraints=&#x27;&#x27;,\n",
       "                              learning_rate=0.300000012, max_bin=256,\n",
       "                              max_cat_threshold=64, max_cat_to_onehot=4,\n",
       "                              max_delta_step=0, max_depth=4, max_leaves=0,\n",
       "                              min_child_weight=1, missing=nan,\n",
       "                              monotone_constraints=&#x27;()&#x27;, n_estimators=20,\n",
       "                              n_jobs=-1, num_parallel_tree=1, predictor=&#x27;auto&#x27;,\n",
       "                              random_state=42, ...))])</pre><b>In a Jupyter environment, please rerun this cell to show the HTML representation or trust the notebook. <br />On GitHub, the HTML representation is unable to render, please try loading this page with nbviewer.org.</b></div><div class=\"sk-container\" hidden><div class=\"sk-item sk-dashed-wrapped\"><div class=\"sk-label-container\"><div class=\"sk-label sk-toggleable\"><input class=\"sk-toggleable__control sk-hidden--visually\" id=\"sk-estimator-id-11\" type=\"checkbox\" ><label for=\"sk-estimator-id-11\" class=\"sk-toggleable__label sk-toggleable__label-arrow\">Pipeline</label><div class=\"sk-toggleable__content\"><pre>Pipeline(steps=[(&#x27;trf1&#x27;,\n",
       "                 ColumnTransformer(remainder=&#x27;passthrough&#x27;,\n",
       "                                   transformers=[(&#x27;orde_prodName_clientName_month_day&#x27;,\n",
       "                                                  OrdinalEncoder(handle_unknown=&#x27;use_encoded_value&#x27;,\n",
       "                                                                 unknown_value=100),\n",
       "                                                  [0, 1, 2, 3])])),\n",
       "                (&#x27;trf2&#x27;,\n",
       "                 ColumnTransformer(transformers=[(&#x27;scale&#x27;, MinMaxScaler(),\n",
       "                                                  slice(0, 7, None))])),\n",
       "                (&#x27;trf3&#x27;,\n",
       "                 XGBRegressor(base_score=0.5, booster=&#x27;gbtree&#x27;, callbacks=No...\n",
       "                              feature_types=None, gamma=0, gpu_id=-1,\n",
       "                              grow_policy=&#x27;depthwise&#x27;, importance_type=None,\n",
       "                              interaction_constraints=&#x27;&#x27;,\n",
       "                              learning_rate=0.300000012, max_bin=256,\n",
       "                              max_cat_threshold=64, max_cat_to_onehot=4,\n",
       "                              max_delta_step=0, max_depth=4, max_leaves=0,\n",
       "                              min_child_weight=1, missing=nan,\n",
       "                              monotone_constraints=&#x27;()&#x27;, n_estimators=20,\n",
       "                              n_jobs=-1, num_parallel_tree=1, predictor=&#x27;auto&#x27;,\n",
       "                              random_state=42, ...))])</pre></div></div></div><div class=\"sk-serial\"><div class=\"sk-item sk-dashed-wrapped\"><div class=\"sk-label-container\"><div class=\"sk-label sk-toggleable\"><input class=\"sk-toggleable__control sk-hidden--visually\" id=\"sk-estimator-id-12\" type=\"checkbox\" ><label for=\"sk-estimator-id-12\" class=\"sk-toggleable__label sk-toggleable__label-arrow\">trf1: ColumnTransformer</label><div class=\"sk-toggleable__content\"><pre>ColumnTransformer(remainder=&#x27;passthrough&#x27;,\n",
       "                  transformers=[(&#x27;orde_prodName_clientName_month_day&#x27;,\n",
       "                                 OrdinalEncoder(handle_unknown=&#x27;use_encoded_value&#x27;,\n",
       "                                                unknown_value=100),\n",
       "                                 [0, 1, 2, 3])])</pre></div></div></div><div class=\"sk-parallel\"><div class=\"sk-parallel-item\"><div class=\"sk-item\"><div class=\"sk-label-container\"><div class=\"sk-label sk-toggleable\"><input class=\"sk-toggleable__control sk-hidden--visually\" id=\"sk-estimator-id-13\" type=\"checkbox\" ><label for=\"sk-estimator-id-13\" class=\"sk-toggleable__label sk-toggleable__label-arrow\">orde_prodName_clientName_month_day</label><div class=\"sk-toggleable__content\"><pre>[0, 1, 2, 3]</pre></div></div></div><div class=\"sk-serial\"><div class=\"sk-item\"><div class=\"sk-estimator sk-toggleable\"><input class=\"sk-toggleable__control sk-hidden--visually\" id=\"sk-estimator-id-14\" type=\"checkbox\" ><label for=\"sk-estimator-id-14\" class=\"sk-toggleable__label sk-toggleable__label-arrow\">OrdinalEncoder</label><div class=\"sk-toggleable__content\"><pre>OrdinalEncoder(handle_unknown=&#x27;use_encoded_value&#x27;, unknown_value=100)</pre></div></div></div></div></div></div><div class=\"sk-parallel-item\"><div class=\"sk-item\"><div class=\"sk-label-container\"><div class=\"sk-label sk-toggleable\"><input class=\"sk-toggleable__control sk-hidden--visually\" id=\"sk-estimator-id-15\" type=\"checkbox\" ><label for=\"sk-estimator-id-15\" class=\"sk-toggleable__label sk-toggleable__label-arrow\">remainder</label><div class=\"sk-toggleable__content\"><pre>[&#x27;orderQty&#x27;, &#x27;orderTotal&#x27;, &#x27;cliAvgSenti&#x27;, &#x27;spAvgSenti&#x27;]</pre></div></div></div><div class=\"sk-serial\"><div class=\"sk-item\"><div class=\"sk-estimator sk-toggleable\"><input class=\"sk-toggleable__control sk-hidden--visually\" id=\"sk-estimator-id-16\" type=\"checkbox\" ><label for=\"sk-estimator-id-16\" class=\"sk-toggleable__label sk-toggleable__label-arrow\">passthrough</label><div class=\"sk-toggleable__content\"><pre>passthrough</pre></div></div></div></div></div></div></div></div><div class=\"sk-item sk-dashed-wrapped\"><div class=\"sk-label-container\"><div class=\"sk-label sk-toggleable\"><input class=\"sk-toggleable__control sk-hidden--visually\" id=\"sk-estimator-id-17\" type=\"checkbox\" ><label for=\"sk-estimator-id-17\" class=\"sk-toggleable__label sk-toggleable__label-arrow\">trf2: ColumnTransformer</label><div class=\"sk-toggleable__content\"><pre>ColumnTransformer(transformers=[(&#x27;scale&#x27;, MinMaxScaler(), slice(0, 7, None))])</pre></div></div></div><div class=\"sk-parallel\"><div class=\"sk-parallel-item\"><div class=\"sk-item\"><div class=\"sk-label-container\"><div class=\"sk-label sk-toggleable\"><input class=\"sk-toggleable__control sk-hidden--visually\" id=\"sk-estimator-id-18\" type=\"checkbox\" ><label for=\"sk-estimator-id-18\" class=\"sk-toggleable__label sk-toggleable__label-arrow\">scale</label><div class=\"sk-toggleable__content\"><pre>slice(0, 7, None)</pre></div></div></div><div class=\"sk-serial\"><div class=\"sk-item\"><div class=\"sk-estimator sk-toggleable\"><input class=\"sk-toggleable__control sk-hidden--visually\" id=\"sk-estimator-id-19\" type=\"checkbox\" ><label for=\"sk-estimator-id-19\" class=\"sk-toggleable__label sk-toggleable__label-arrow\">MinMaxScaler</label><div class=\"sk-toggleable__content\"><pre>MinMaxScaler()</pre></div></div></div></div></div></div></div></div><div class=\"sk-item\"><div class=\"sk-estimator sk-toggleable\"><input class=\"sk-toggleable__control sk-hidden--visually\" id=\"sk-estimator-id-20\" type=\"checkbox\" ><label for=\"sk-estimator-id-20\" class=\"sk-toggleable__label sk-toggleable__label-arrow\">XGBRegressor</label><div class=\"sk-toggleable__content\"><pre>XGBRegressor(base_score=0.5, booster=&#x27;gbtree&#x27;, callbacks=None,\n",
       "             colsample_bylevel=1, colsample_bynode=1, colsample_bytree=1,\n",
       "             early_stopping_rounds=None, enable_categorical=False,\n",
       "             eval_metric=None, feature_types=None, gamma=0, gpu_id=-1,\n",
       "             grow_policy=&#x27;depthwise&#x27;, importance_type=None,\n",
       "             interaction_constraints=&#x27;&#x27;, learning_rate=0.300000012, max_bin=256,\n",
       "             max_cat_threshold=64, max_cat_to_onehot=4, max_delta_step=0,\n",
       "             max_depth=4, max_leaves=0, min_child_weight=1, missing=nan,\n",
       "             monotone_constraints=&#x27;()&#x27;, n_estimators=20, n_jobs=-1,\n",
       "             num_parallel_tree=1, predictor=&#x27;auto&#x27;, random_state=42, ...)</pre></div></div></div></div></div></div></div>"
      ],
      "text/plain": [
       "Pipeline(steps=[('trf1',\n",
       "                 ColumnTransformer(remainder='passthrough',\n",
       "                                   transformers=[('orde_prodName_clientName_month_day',\n",
       "                                                  OrdinalEncoder(handle_unknown='use_encoded_value',\n",
       "                                                                 unknown_value=100),\n",
       "                                                  [0, 1, 2, 3])])),\n",
       "                ('trf2',\n",
       "                 ColumnTransformer(transformers=[('scale', MinMaxScaler(),\n",
       "                                                  slice(0, 7, None))])),\n",
       "                ('trf3',\n",
       "                 XGBRegressor(base_score=0.5, booster='gbtree', callbacks=No...\n",
       "                              feature_types=None, gamma=0, gpu_id=-1,\n",
       "                              grow_policy='depthwise', importance_type=None,\n",
       "                              interaction_constraints='',\n",
       "                              learning_rate=0.300000012, max_bin=256,\n",
       "                              max_cat_threshold=64, max_cat_to_onehot=4,\n",
       "                              max_delta_step=0, max_depth=4, max_leaves=0,\n",
       "                              min_child_weight=1, missing=nan,\n",
       "                              monotone_constraints='()', n_estimators=20,\n",
       "                              n_jobs=-1, num_parallel_tree=1, predictor='auto',\n",
       "                              random_state=42, ...))])"
      ]
     },
     "execution_count": 90,
     "metadata": {},
     "output_type": "execute_result"
    }
   ],
   "source": [
    "pipe_m2.fit(X_train,y_train)"
   ]
  },
  {
   "cell_type": "code",
   "execution_count": 91,
   "id": "b0ad178c",
   "metadata": {},
   "outputs": [
    {
     "data": {
      "text/plain": [
       "{'trf1': ColumnTransformer(remainder='passthrough',\n",
       "                   transformers=[('orde_prodName_clientName_month_day',\n",
       "                                  OrdinalEncoder(handle_unknown='use_encoded_value',\n",
       "                                                 unknown_value=100),\n",
       "                                  [0, 1, 2, 3])]),\n",
       " 'trf2': ColumnTransformer(transformers=[('scale', MinMaxScaler(), slice(0, 7, None))]),\n",
       " 'trf3': XGBRegressor(base_score=0.5, booster='gbtree', callbacks=None,\n",
       "              colsample_bylevel=1, colsample_bynode=1, colsample_bytree=1,\n",
       "              early_stopping_rounds=None, enable_categorical=False,\n",
       "              eval_metric=None, feature_types=None, gamma=0, gpu_id=-1,\n",
       "              grow_policy='depthwise', importance_type=None,\n",
       "              interaction_constraints='', learning_rate=0.300000012, max_bin=256,\n",
       "              max_cat_threshold=64, max_cat_to_onehot=4, max_delta_step=0,\n",
       "              max_depth=4, max_leaves=0, min_child_weight=1, missing=nan,\n",
       "              monotone_constraints='()', n_estimators=20, n_jobs=-1,\n",
       "              num_parallel_tree=1, predictor='auto', random_state=42, ...)}"
      ]
     },
     "execution_count": 91,
     "metadata": {},
     "output_type": "execute_result"
    }
   ],
   "source": [
    "pipe_m2.named_steps"
   ]
  },
  {
   "cell_type": "code",
   "execution_count": 92,
   "id": "f553c67f",
   "metadata": {},
   "outputs": [],
   "source": [
    "#predict \n",
    "y_pred = pipe_m2.predict(X_test)"
   ]
  },
  {
   "cell_type": "code",
   "execution_count": 93,
   "id": "560a3e94",
   "metadata": {},
   "outputs": [
    {
     "name": "stdout",
     "output_type": "stream",
     "text": [
      "MAE 1201.149658203125\n",
      "MSE 1443314.818762362\n",
      "RMSE 1201.3803805466284\n",
      "R2Score -127.45450505183001\n"
     ]
    }
   ],
   "source": [
    "from sklearn.metrics import mean_absolute_error\n",
    "from sklearn.metrics import mean_squared_error\n",
    "from sklearn.metrics import r2_score\n",
    "\n",
    "print(\"MAE\",mean_absolute_error(y_test,y_pred))\n",
    "print(\"MSE\",mean_squared_error(y_test,y_pred))\n",
    "print(\"RMSE\",np.sqrt(mean_squared_error(y_test,y_pred)))\n",
    "print(\"R2Score\",r2_score(y_test,y_pred))"
   ]
  },
  {
   "cell_type": "code",
   "execution_count": 94,
   "id": "ee38b8a0",
   "metadata": {},
   "outputs": [],
   "source": [
    "import pickle \n",
    "pickle.dump(pipe_m2,open('pipe_m2_prodwise_sales_reg.pkl','wb'))\n",
    "\n"
   ]
  },
  {
   "cell_type": "code",
   "execution_count": 95,
   "id": "87259fbf",
   "metadata": {},
   "outputs": [
    {
     "name": "stderr",
     "output_type": "stream",
     "text": [
      "/home/neelchoksi19bce0990/.local/lib/python3.9/site-packages/sklearn/base.py:450: UserWarning: X does not have valid feature names, but OrdinalEncoder was fitted with feature names\n",
      "  warnings.warn(\n"
     ]
    },
    {
     "data": {
      "text/plain": [
       "array([2212.6936], dtype=float32)"
      ]
     },
     "execution_count": 95,
     "metadata": {},
     "output_type": "execute_result"
    }
   ],
   "source": [
    "pipe_m2_loaded = pickle.load(open('pipe_m2_prodwise_sales_reg.pkl','rb'))\n",
    "test_pipe_m2_input = np.array(['prodsku99','company1','03','4',10,6000.0,0.8,0.9],dtype=object).reshape(1,8)\n",
    "pipe_m2_loaded.predict(test_pipe_m2_input)"
   ]
  },
  {
   "cell_type": "code",
   "execution_count": 93,
   "id": "4a8c1efa",
   "metadata": {},
   "outputs": [
    {
     "data": {
      "text/html": [
       "<style>#sk-container-id-6 {color: black;background-color: white;}#sk-container-id-6 pre{padding: 0;}#sk-container-id-6 div.sk-toggleable {background-color: white;}#sk-container-id-6 label.sk-toggleable__label {cursor: pointer;display: block;width: 100%;margin-bottom: 0;padding: 0.3em;box-sizing: border-box;text-align: center;}#sk-container-id-6 label.sk-toggleable__label-arrow:before {content: \"▸\";float: left;margin-right: 0.25em;color: #696969;}#sk-container-id-6 label.sk-toggleable__label-arrow:hover:before {color: black;}#sk-container-id-6 div.sk-estimator:hover label.sk-toggleable__label-arrow:before {color: black;}#sk-container-id-6 div.sk-toggleable__content {max-height: 0;max-width: 0;overflow: hidden;text-align: left;background-color: #f0f8ff;}#sk-container-id-6 div.sk-toggleable__content pre {margin: 0.2em;color: black;border-radius: 0.25em;background-color: #f0f8ff;}#sk-container-id-6 input.sk-toggleable__control:checked~div.sk-toggleable__content {max-height: 200px;max-width: 100%;overflow: auto;}#sk-container-id-6 input.sk-toggleable__control:checked~label.sk-toggleable__label-arrow:before {content: \"▾\";}#sk-container-id-6 div.sk-estimator input.sk-toggleable__control:checked~label.sk-toggleable__label {background-color: #d4ebff;}#sk-container-id-6 div.sk-label input.sk-toggleable__control:checked~label.sk-toggleable__label {background-color: #d4ebff;}#sk-container-id-6 input.sk-hidden--visually {border: 0;clip: rect(1px 1px 1px 1px);clip: rect(1px, 1px, 1px, 1px);height: 1px;margin: -1px;overflow: hidden;padding: 0;position: absolute;width: 1px;}#sk-container-id-6 div.sk-estimator {font-family: monospace;background-color: #f0f8ff;border: 1px dotted black;border-radius: 0.25em;box-sizing: border-box;margin-bottom: 0.5em;}#sk-container-id-6 div.sk-estimator:hover {background-color: #d4ebff;}#sk-container-id-6 div.sk-parallel-item::after {content: \"\";width: 100%;border-bottom: 1px solid gray;flex-grow: 1;}#sk-container-id-6 div.sk-label:hover label.sk-toggleable__label {background-color: #d4ebff;}#sk-container-id-6 div.sk-serial::before {content: \"\";position: absolute;border-left: 1px solid gray;box-sizing: border-box;top: 0;bottom: 0;left: 50%;z-index: 0;}#sk-container-id-6 div.sk-serial {display: flex;flex-direction: column;align-items: center;background-color: white;padding-right: 0.2em;padding-left: 0.2em;position: relative;}#sk-container-id-6 div.sk-item {position: relative;z-index: 1;}#sk-container-id-6 div.sk-parallel {display: flex;align-items: stretch;justify-content: center;background-color: white;position: relative;}#sk-container-id-6 div.sk-item::before, #sk-container-id-6 div.sk-parallel-item::before {content: \"\";position: absolute;border-left: 1px solid gray;box-sizing: border-box;top: 0;bottom: 0;left: 50%;z-index: -1;}#sk-container-id-6 div.sk-parallel-item {display: flex;flex-direction: column;z-index: 1;position: relative;background-color: white;}#sk-container-id-6 div.sk-parallel-item:first-child::after {align-self: flex-end;width: 50%;}#sk-container-id-6 div.sk-parallel-item:last-child::after {align-self: flex-start;width: 50%;}#sk-container-id-6 div.sk-parallel-item:only-child::after {width: 0;}#sk-container-id-6 div.sk-dashed-wrapped {border: 1px dashed gray;margin: 0 0.4em 0.5em 0.4em;box-sizing: border-box;padding-bottom: 0.4em;background-color: white;}#sk-container-id-6 div.sk-label label {font-family: monospace;font-weight: bold;display: inline-block;line-height: 1.2em;}#sk-container-id-6 div.sk-label-container {text-align: center;}#sk-container-id-6 div.sk-container {/* jupyter's `normalize.less` sets `[hidden] { display: none; }` but bootstrap.min.css set `[hidden] { display: none !important; }` so we also need the `!important` here to be able to override the default hidden behavior on the sphinx rendered scikit-learn.org. See: https://github.com/scikit-learn/scikit-learn/issues/21755 */display: inline-block !important;position: relative;}#sk-container-id-6 div.sk-text-repr-fallback {display: none;}</style><div id=\"sk-container-id-6\" class=\"sk-top-container\"><div class=\"sk-text-repr-fallback\"><pre>LabelEncoder()</pre><b>In a Jupyter environment, please rerun this cell to show the HTML representation or trust the notebook. <br />On GitHub, the HTML representation is unable to render, please try loading this page with nbviewer.org.</b></div><div class=\"sk-container\" hidden><div class=\"sk-item\"><div class=\"sk-estimator sk-toggleable\"><input class=\"sk-toggleable__control sk-hidden--visually\" id=\"sk-estimator-id-6\" type=\"checkbox\" checked><label for=\"sk-estimator-id-6\" class=\"sk-toggleable__label sk-toggleable__label-arrow\">LabelEncoder</label><div class=\"sk-toggleable__content\"><pre>LabelEncoder()</pre></div></div></div></div></div>"
      ],
      "text/plain": [
       "LabelEncoder()"
      ]
     },
     "execution_count": 93,
     "metadata": {},
     "output_type": "execute_result"
    }
   ],
   "source": [
    "from sklearn import preprocessing\n",
    "prodName_oe = preprocessing.LabelEncoder()\n",
    "prodName_oe.fit(prodwise_df_1['prodName'])"
   ]
  },
  {
   "cell_type": "code",
   "execution_count": 94,
   "id": "fe01fdcc",
   "metadata": {},
   "outputs": [],
   "source": [
    "import pickle \n",
    "pickle.dump(prodName_oe,open('prodName_oe.pkl','wb'))"
   ]
  },
  {
   "cell_type": "code",
   "execution_count": 95,
   "id": "21bb8baa",
   "metadata": {},
   "outputs": [],
   "source": [
    "prodName_oe_loaded = pickle.load(open('prodName_oe.pkl','rb'))\n",
    "clientName_oe_loaded = pickle.load(open('clientName_oe.pkl','rb'))\n",
    "month_oe_loaded = pickle.load(open('month_oe.pkl','rb'))\n",
    "day_oe_loaded = pickle.load(open('day_oe.pkl','rb'))"
   ]
  },
  {
   "cell_type": "code",
   "execution_count": 96,
   "id": "f1a88951",
   "metadata": {},
   "outputs": [
    {
     "data": {
      "text/html": [
       "<div>\n",
       "<style scoped>\n",
       "    .dataframe tbody tr th:only-of-type {\n",
       "        vertical-align: middle;\n",
       "    }\n",
       "\n",
       "    .dataframe tbody tr th {\n",
       "        vertical-align: top;\n",
       "    }\n",
       "\n",
       "    .dataframe thead th {\n",
       "        text-align: right;\n",
       "    }\n",
       "</style>\n",
       "<table border=\"1\" class=\"dataframe\">\n",
       "  <thead>\n",
       "    <tr style=\"text-align: right;\">\n",
       "      <th></th>\n",
       "      <th>clientName</th>\n",
       "    </tr>\n",
       "  </thead>\n",
       "  <tbody>\n",
       "    <tr>\n",
       "      <th>0</th>\n",
       "      <td>1</td>\n",
       "    </tr>\n",
       "    <tr>\n",
       "      <th>1</th>\n",
       "      <td>1</td>\n",
       "    </tr>\n",
       "    <tr>\n",
       "      <th>2</th>\n",
       "      <td>1</td>\n",
       "    </tr>\n",
       "    <tr>\n",
       "      <th>3</th>\n",
       "      <td>1</td>\n",
       "    </tr>\n",
       "    <tr>\n",
       "      <th>4</th>\n",
       "      <td>1</td>\n",
       "    </tr>\n",
       "    <tr>\n",
       "      <th>5</th>\n",
       "      <td>2</td>\n",
       "    </tr>\n",
       "    <tr>\n",
       "      <th>6</th>\n",
       "      <td>0</td>\n",
       "    </tr>\n",
       "    <tr>\n",
       "      <th>7</th>\n",
       "      <td>0</td>\n",
       "    </tr>\n",
       "    <tr>\n",
       "      <th>8</th>\n",
       "      <td>0</td>\n",
       "    </tr>\n",
       "  </tbody>\n",
       "</table>\n",
       "</div>"
      ],
      "text/plain": [
       "   clientName\n",
       "0           1\n",
       "1           1\n",
       "2           1\n",
       "3           1\n",
       "4           1\n",
       "5           2\n",
       "6           0\n",
       "7           0\n",
       "8           0"
      ]
     },
     "execution_count": 96,
     "metadata": {},
     "output_type": "execute_result"
    }
   ],
   "source": [
    "prodwise_df_1_clientName = clientName_oe_loaded.transform(prodwise_df_1['clientName'])\n",
    "prodwise_df_1_clientName=pd.DataFrame(prodwise_df_1_clientName,columns=['clientName'])\n",
    "prodwise_df_1_clientName"
   ]
  },
  {
   "cell_type": "code",
   "execution_count": 97,
   "id": "c8eeaa99",
   "metadata": {},
   "outputs": [
    {
     "data": {
      "text/html": [
       "<div>\n",
       "<style scoped>\n",
       "    .dataframe tbody tr th:only-of-type {\n",
       "        vertical-align: middle;\n",
       "    }\n",
       "\n",
       "    .dataframe tbody tr th {\n",
       "        vertical-align: top;\n",
       "    }\n",
       "\n",
       "    .dataframe thead th {\n",
       "        text-align: right;\n",
       "    }\n",
       "</style>\n",
       "<table border=\"1\" class=\"dataframe\">\n",
       "  <thead>\n",
       "    <tr style=\"text-align: right;\">\n",
       "      <th></th>\n",
       "      <th>prodName</th>\n",
       "    </tr>\n",
       "  </thead>\n",
       "  <tbody>\n",
       "    <tr>\n",
       "      <th>0</th>\n",
       "      <td>3</td>\n",
       "    </tr>\n",
       "    <tr>\n",
       "      <th>1</th>\n",
       "      <td>2</td>\n",
       "    </tr>\n",
       "    <tr>\n",
       "      <th>2</th>\n",
       "      <td>2</td>\n",
       "    </tr>\n",
       "    <tr>\n",
       "      <th>3</th>\n",
       "      <td>0</td>\n",
       "    </tr>\n",
       "    <tr>\n",
       "      <th>4</th>\n",
       "      <td>3</td>\n",
       "    </tr>\n",
       "    <tr>\n",
       "      <th>5</th>\n",
       "      <td>1</td>\n",
       "    </tr>\n",
       "    <tr>\n",
       "      <th>6</th>\n",
       "      <td>2</td>\n",
       "    </tr>\n",
       "    <tr>\n",
       "      <th>7</th>\n",
       "      <td>1</td>\n",
       "    </tr>\n",
       "    <tr>\n",
       "      <th>8</th>\n",
       "      <td>2</td>\n",
       "    </tr>\n",
       "  </tbody>\n",
       "</table>\n",
       "</div>"
      ],
      "text/plain": [
       "   prodName\n",
       "0         3\n",
       "1         2\n",
       "2         2\n",
       "3         0\n",
       "4         3\n",
       "5         1\n",
       "6         2\n",
       "7         1\n",
       "8         2"
      ]
     },
     "execution_count": 97,
     "metadata": {},
     "output_type": "execute_result"
    }
   ],
   "source": [
    "prodwise_df_1_prodName = prodName_oe_loaded.transform(prodwise_df_1['prodName'])\n",
    "prodwise_df_1_prodName=pd.DataFrame(prodwise_df_1_prodName,columns=['prodName'])\n",
    "prodwise_df_1_prodName"
   ]
  },
  {
   "cell_type": "code",
   "execution_count": 98,
   "id": "861fa28b",
   "metadata": {},
   "outputs": [
    {
     "data": {
      "text/html": [
       "<div>\n",
       "<style scoped>\n",
       "    .dataframe tbody tr th:only-of-type {\n",
       "        vertical-align: middle;\n",
       "    }\n",
       "\n",
       "    .dataframe tbody tr th {\n",
       "        vertical-align: top;\n",
       "    }\n",
       "\n",
       "    .dataframe thead th {\n",
       "        text-align: right;\n",
       "    }\n",
       "</style>\n",
       "<table border=\"1\" class=\"dataframe\">\n",
       "  <thead>\n",
       "    <tr style=\"text-align: right;\">\n",
       "      <th></th>\n",
       "      <th>month</th>\n",
       "    </tr>\n",
       "  </thead>\n",
       "  <tbody>\n",
       "    <tr>\n",
       "      <th>0</th>\n",
       "      <td>1</td>\n",
       "    </tr>\n",
       "    <tr>\n",
       "      <th>1</th>\n",
       "      <td>1</td>\n",
       "    </tr>\n",
       "    <tr>\n",
       "      <th>2</th>\n",
       "      <td>1</td>\n",
       "    </tr>\n",
       "    <tr>\n",
       "      <th>3</th>\n",
       "      <td>0</td>\n",
       "    </tr>\n",
       "    <tr>\n",
       "      <th>4</th>\n",
       "      <td>1</td>\n",
       "    </tr>\n",
       "    <tr>\n",
       "      <th>5</th>\n",
       "      <td>1</td>\n",
       "    </tr>\n",
       "    <tr>\n",
       "      <th>6</th>\n",
       "      <td>1</td>\n",
       "    </tr>\n",
       "    <tr>\n",
       "      <th>7</th>\n",
       "      <td>2</td>\n",
       "    </tr>\n",
       "    <tr>\n",
       "      <th>8</th>\n",
       "      <td>2</td>\n",
       "    </tr>\n",
       "  </tbody>\n",
       "</table>\n",
       "</div>"
      ],
      "text/plain": [
       "   month\n",
       "0      1\n",
       "1      1\n",
       "2      1\n",
       "3      0\n",
       "4      1\n",
       "5      1\n",
       "6      1\n",
       "7      2\n",
       "8      2"
      ]
     },
     "execution_count": 98,
     "metadata": {},
     "output_type": "execute_result"
    }
   ],
   "source": [
    "prodwise_df_1_month = month_oe_loaded.transform(prodwise_df_1['month'])\n",
    "prodwise_df_1_month=pd.DataFrame(prodwise_df_1_month,columns=['month'])\n",
    "prodwise_df_1_month"
   ]
  },
  {
   "cell_type": "code",
   "execution_count": 99,
   "id": "c11e9faa",
   "metadata": {},
   "outputs": [
    {
     "data": {
      "text/html": [
       "<div>\n",
       "<style scoped>\n",
       "    .dataframe tbody tr th:only-of-type {\n",
       "        vertical-align: middle;\n",
       "    }\n",
       "\n",
       "    .dataframe tbody tr th {\n",
       "        vertical-align: top;\n",
       "    }\n",
       "\n",
       "    .dataframe thead th {\n",
       "        text-align: right;\n",
       "    }\n",
       "</style>\n",
       "<table border=\"1\" class=\"dataframe\">\n",
       "  <thead>\n",
       "    <tr style=\"text-align: right;\">\n",
       "      <th></th>\n",
       "      <th>day</th>\n",
       "    </tr>\n",
       "  </thead>\n",
       "  <tbody>\n",
       "    <tr>\n",
       "      <th>0</th>\n",
       "      <td>6</td>\n",
       "    </tr>\n",
       "    <tr>\n",
       "      <th>1</th>\n",
       "      <td>6</td>\n",
       "    </tr>\n",
       "    <tr>\n",
       "      <th>2</th>\n",
       "      <td>6</td>\n",
       "    </tr>\n",
       "    <tr>\n",
       "      <th>3</th>\n",
       "      <td>0</td>\n",
       "    </tr>\n",
       "    <tr>\n",
       "      <th>4</th>\n",
       "      <td>6</td>\n",
       "    </tr>\n",
       "    <tr>\n",
       "      <th>5</th>\n",
       "      <td>6</td>\n",
       "    </tr>\n",
       "    <tr>\n",
       "      <th>6</th>\n",
       "      <td>6</td>\n",
       "    </tr>\n",
       "    <tr>\n",
       "      <th>7</th>\n",
       "      <td>4</td>\n",
       "    </tr>\n",
       "    <tr>\n",
       "      <th>8</th>\n",
       "      <td>4</td>\n",
       "    </tr>\n",
       "  </tbody>\n",
       "</table>\n",
       "</div>"
      ],
      "text/plain": [
       "   day\n",
       "0    6\n",
       "1    6\n",
       "2    6\n",
       "3    0\n",
       "4    6\n",
       "5    6\n",
       "6    6\n",
       "7    4\n",
       "8    4"
      ]
     },
     "execution_count": 99,
     "metadata": {},
     "output_type": "execute_result"
    }
   ],
   "source": [
    "prodwise_df_1_day = day_oe_loaded.transform(prodwise_df_1['day'])\n",
    "prodwise_df_1_day=pd.DataFrame(prodwise_df_1_day,columns=['day'])\n",
    "prodwise_df_1_day"
   ]
  },
  {
   "cell_type": "code",
   "execution_count": 100,
   "id": "6900e992",
   "metadata": {},
   "outputs": [
    {
     "data": {
      "text/html": [
       "<div>\n",
       "<style scoped>\n",
       "    .dataframe tbody tr th:only-of-type {\n",
       "        vertical-align: middle;\n",
       "    }\n",
       "\n",
       "    .dataframe tbody tr th {\n",
       "        vertical-align: top;\n",
       "    }\n",
       "\n",
       "    .dataframe thead th {\n",
       "        text-align: right;\n",
       "    }\n",
       "</style>\n",
       "<table border=\"1\" class=\"dataframe\">\n",
       "  <thead>\n",
       "    <tr style=\"text-align: right;\">\n",
       "      <th></th>\n",
       "      <th>orderQty</th>\n",
       "      <th>orderTotal</th>\n",
       "      <th>cliAvgSenti</th>\n",
       "      <th>spAvgSenti</th>\n",
       "      <th>sales</th>\n",
       "      <th>clientName</th>\n",
       "      <th>prodName</th>\n",
       "      <th>month</th>\n",
       "      <th>day</th>\n",
       "    </tr>\n",
       "  </thead>\n",
       "  <tbody>\n",
       "    <tr>\n",
       "      <th>0</th>\n",
       "      <td>4</td>\n",
       "      <td>4857.0</td>\n",
       "      <td>0.5</td>\n",
       "      <td>1.0</td>\n",
       "      <td>988.0</td>\n",
       "      <td>1</td>\n",
       "      <td>3</td>\n",
       "      <td>1</td>\n",
       "      <td>6</td>\n",
       "    </tr>\n",
       "    <tr>\n",
       "      <th>1</th>\n",
       "      <td>4</td>\n",
       "      <td>4857.0</td>\n",
       "      <td>0.5</td>\n",
       "      <td>1.0</td>\n",
       "      <td>1200.0</td>\n",
       "      <td>1</td>\n",
       "      <td>2</td>\n",
       "      <td>1</td>\n",
       "      <td>6</td>\n",
       "    </tr>\n",
       "    <tr>\n",
       "      <th>2</th>\n",
       "      <td>4</td>\n",
       "      <td>4857.0</td>\n",
       "      <td>0.5</td>\n",
       "      <td>1.0</td>\n",
       "      <td>2400.0</td>\n",
       "      <td>1</td>\n",
       "      <td>2</td>\n",
       "      <td>1</td>\n",
       "      <td>6</td>\n",
       "    </tr>\n",
       "    <tr>\n",
       "      <th>3</th>\n",
       "      <td>5</td>\n",
       "      <td>27.0</td>\n",
       "      <td>0.5</td>\n",
       "      <td>1.0</td>\n",
       "      <td>25.0</td>\n",
       "      <td>1</td>\n",
       "      <td>0</td>\n",
       "      <td>0</td>\n",
       "      <td>0</td>\n",
       "    </tr>\n",
       "    <tr>\n",
       "      <th>4</th>\n",
       "      <td>1</td>\n",
       "      <td>1077.0</td>\n",
       "      <td>0.5</td>\n",
       "      <td>1.0</td>\n",
       "      <td>988.0</td>\n",
       "      <td>1</td>\n",
       "      <td>3</td>\n",
       "      <td>1</td>\n",
       "      <td>6</td>\n",
       "    </tr>\n",
       "    <tr>\n",
       "      <th>5</th>\n",
       "      <td>2</td>\n",
       "      <td>8402.0</td>\n",
       "      <td>1.0</td>\n",
       "      <td>1.0</td>\n",
       "      <td>8002.0</td>\n",
       "      <td>2</td>\n",
       "      <td>1</td>\n",
       "      <td>1</td>\n",
       "      <td>6</td>\n",
       "    </tr>\n",
       "    <tr>\n",
       "      <th>6</th>\n",
       "      <td>2</td>\n",
       "      <td>2520.0</td>\n",
       "      <td>0.0</td>\n",
       "      <td>1.0</td>\n",
       "      <td>2400.0</td>\n",
       "      <td>0</td>\n",
       "      <td>2</td>\n",
       "      <td>1</td>\n",
       "      <td>6</td>\n",
       "    </tr>\n",
       "    <tr>\n",
       "      <th>7</th>\n",
       "      <td>6</td>\n",
       "      <td>22265.0</td>\n",
       "      <td>0.0</td>\n",
       "      <td>1.0</td>\n",
       "      <td>20005.0</td>\n",
       "      <td>0</td>\n",
       "      <td>1</td>\n",
       "      <td>2</td>\n",
       "      <td>4</td>\n",
       "    </tr>\n",
       "    <tr>\n",
       "      <th>8</th>\n",
       "      <td>6</td>\n",
       "      <td>22265.0</td>\n",
       "      <td>0.0</td>\n",
       "      <td>1.0</td>\n",
       "      <td>1200.0</td>\n",
       "      <td>0</td>\n",
       "      <td>2</td>\n",
       "      <td>2</td>\n",
       "      <td>4</td>\n",
       "    </tr>\n",
       "  </tbody>\n",
       "</table>\n",
       "</div>"
      ],
      "text/plain": [
       "   orderQty  orderTotal  cliAvgSenti  spAvgSenti    sales  clientName  \\\n",
       "0         4      4857.0          0.5         1.0    988.0           1   \n",
       "1         4      4857.0          0.5         1.0   1200.0           1   \n",
       "2         4      4857.0          0.5         1.0   2400.0           1   \n",
       "3         5        27.0          0.5         1.0     25.0           1   \n",
       "4         1      1077.0          0.5         1.0    988.0           1   \n",
       "5         2      8402.0          1.0         1.0   8002.0           2   \n",
       "6         2      2520.0          0.0         1.0   2400.0           0   \n",
       "7         6     22265.0          0.0         1.0  20005.0           0   \n",
       "8         6     22265.0          0.0         1.0   1200.0           0   \n",
       "\n",
       "   prodName  month  day  \n",
       "0         3      1    6  \n",
       "1         2      1    6  \n",
       "2         2      1    6  \n",
       "3         0      0    0  \n",
       "4         3      1    6  \n",
       "5         1      1    6  \n",
       "6         2      1    6  \n",
       "7         1      2    4  \n",
       "8         2      2    4  "
      ]
     },
     "execution_count": 100,
     "metadata": {},
     "output_type": "execute_result"
    }
   ],
   "source": [
    "prodwise_df_1=pd.concat([prodwise_df_1.drop(columns=['prodName','clientName','month','day']),prodwise_df_1_clientName,prodwise_df_1_prodName,prodwise_df_1_month,prodwise_df_1_day],axis=1)\n",
    "prodwise_df_1"
   ]
  },
  {
   "cell_type": "code",
   "execution_count": 101,
   "id": "ea6eaeab",
   "metadata": {},
   "outputs": [],
   "source": [
    "from xgboost import XGBRegressor\n",
    "m2 = XGBRegressor(random_state=42, n_jobs=-1, n_estimators=20, max_depth=4)"
   ]
  },
  {
   "cell_type": "code",
   "execution_count": 102,
   "id": "f2c0d2ad",
   "metadata": {},
   "outputs": [
    {
     "data": {
      "text/html": [
       "<style>#sk-container-id-7 {color: black;background-color: white;}#sk-container-id-7 pre{padding: 0;}#sk-container-id-7 div.sk-toggleable {background-color: white;}#sk-container-id-7 label.sk-toggleable__label {cursor: pointer;display: block;width: 100%;margin-bottom: 0;padding: 0.3em;box-sizing: border-box;text-align: center;}#sk-container-id-7 label.sk-toggleable__label-arrow:before {content: \"▸\";float: left;margin-right: 0.25em;color: #696969;}#sk-container-id-7 label.sk-toggleable__label-arrow:hover:before {color: black;}#sk-container-id-7 div.sk-estimator:hover label.sk-toggleable__label-arrow:before {color: black;}#sk-container-id-7 div.sk-toggleable__content {max-height: 0;max-width: 0;overflow: hidden;text-align: left;background-color: #f0f8ff;}#sk-container-id-7 div.sk-toggleable__content pre {margin: 0.2em;color: black;border-radius: 0.25em;background-color: #f0f8ff;}#sk-container-id-7 input.sk-toggleable__control:checked~div.sk-toggleable__content {max-height: 200px;max-width: 100%;overflow: auto;}#sk-container-id-7 input.sk-toggleable__control:checked~label.sk-toggleable__label-arrow:before {content: \"▾\";}#sk-container-id-7 div.sk-estimator input.sk-toggleable__control:checked~label.sk-toggleable__label {background-color: #d4ebff;}#sk-container-id-7 div.sk-label input.sk-toggleable__control:checked~label.sk-toggleable__label {background-color: #d4ebff;}#sk-container-id-7 input.sk-hidden--visually {border: 0;clip: rect(1px 1px 1px 1px);clip: rect(1px, 1px, 1px, 1px);height: 1px;margin: -1px;overflow: hidden;padding: 0;position: absolute;width: 1px;}#sk-container-id-7 div.sk-estimator {font-family: monospace;background-color: #f0f8ff;border: 1px dotted black;border-radius: 0.25em;box-sizing: border-box;margin-bottom: 0.5em;}#sk-container-id-7 div.sk-estimator:hover {background-color: #d4ebff;}#sk-container-id-7 div.sk-parallel-item::after {content: \"\";width: 100%;border-bottom: 1px solid gray;flex-grow: 1;}#sk-container-id-7 div.sk-label:hover label.sk-toggleable__label {background-color: #d4ebff;}#sk-container-id-7 div.sk-serial::before {content: \"\";position: absolute;border-left: 1px solid gray;box-sizing: border-box;top: 0;bottom: 0;left: 50%;z-index: 0;}#sk-container-id-7 div.sk-serial {display: flex;flex-direction: column;align-items: center;background-color: white;padding-right: 0.2em;padding-left: 0.2em;position: relative;}#sk-container-id-7 div.sk-item {position: relative;z-index: 1;}#sk-container-id-7 div.sk-parallel {display: flex;align-items: stretch;justify-content: center;background-color: white;position: relative;}#sk-container-id-7 div.sk-item::before, #sk-container-id-7 div.sk-parallel-item::before {content: \"\";position: absolute;border-left: 1px solid gray;box-sizing: border-box;top: 0;bottom: 0;left: 50%;z-index: -1;}#sk-container-id-7 div.sk-parallel-item {display: flex;flex-direction: column;z-index: 1;position: relative;background-color: white;}#sk-container-id-7 div.sk-parallel-item:first-child::after {align-self: flex-end;width: 50%;}#sk-container-id-7 div.sk-parallel-item:last-child::after {align-self: flex-start;width: 50%;}#sk-container-id-7 div.sk-parallel-item:only-child::after {width: 0;}#sk-container-id-7 div.sk-dashed-wrapped {border: 1px dashed gray;margin: 0 0.4em 0.5em 0.4em;box-sizing: border-box;padding-bottom: 0.4em;background-color: white;}#sk-container-id-7 div.sk-label label {font-family: monospace;font-weight: bold;display: inline-block;line-height: 1.2em;}#sk-container-id-7 div.sk-label-container {text-align: center;}#sk-container-id-7 div.sk-container {/* jupyter's `normalize.less` sets `[hidden] { display: none; }` but bootstrap.min.css set `[hidden] { display: none !important; }` so we also need the `!important` here to be able to override the default hidden behavior on the sphinx rendered scikit-learn.org. See: https://github.com/scikit-learn/scikit-learn/issues/21755 */display: inline-block !important;position: relative;}#sk-container-id-7 div.sk-text-repr-fallback {display: none;}</style><div id=\"sk-container-id-7\" class=\"sk-top-container\"><div class=\"sk-text-repr-fallback\"><pre>XGBRegressor(base_score=0.5, booster=&#x27;gbtree&#x27;, callbacks=None,\n",
       "             colsample_bylevel=1, colsample_bynode=1, colsample_bytree=1,\n",
       "             early_stopping_rounds=None, enable_categorical=False,\n",
       "             eval_metric=None, feature_types=None, gamma=0, gpu_id=-1,\n",
       "             grow_policy=&#x27;depthwise&#x27;, importance_type=None,\n",
       "             interaction_constraints=&#x27;&#x27;, learning_rate=0.300000012, max_bin=256,\n",
       "             max_cat_threshold=64, max_cat_to_onehot=4, max_delta_step=0,\n",
       "             max_depth=4, max_leaves=0, min_child_weight=1, missing=nan,\n",
       "             monotone_constraints=&#x27;()&#x27;, n_estimators=20, n_jobs=-1,\n",
       "             num_parallel_tree=1, predictor=&#x27;auto&#x27;, random_state=42, ...)</pre><b>In a Jupyter environment, please rerun this cell to show the HTML representation or trust the notebook. <br />On GitHub, the HTML representation is unable to render, please try loading this page with nbviewer.org.</b></div><div class=\"sk-container\" hidden><div class=\"sk-item\"><div class=\"sk-estimator sk-toggleable\"><input class=\"sk-toggleable__control sk-hidden--visually\" id=\"sk-estimator-id-7\" type=\"checkbox\" checked><label for=\"sk-estimator-id-7\" class=\"sk-toggleable__label sk-toggleable__label-arrow\">XGBRegressor</label><div class=\"sk-toggleable__content\"><pre>XGBRegressor(base_score=0.5, booster=&#x27;gbtree&#x27;, callbacks=None,\n",
       "             colsample_bylevel=1, colsample_bynode=1, colsample_bytree=1,\n",
       "             early_stopping_rounds=None, enable_categorical=False,\n",
       "             eval_metric=None, feature_types=None, gamma=0, gpu_id=-1,\n",
       "             grow_policy=&#x27;depthwise&#x27;, importance_type=None,\n",
       "             interaction_constraints=&#x27;&#x27;, learning_rate=0.300000012, max_bin=256,\n",
       "             max_cat_threshold=64, max_cat_to_onehot=4, max_delta_step=0,\n",
       "             max_depth=4, max_leaves=0, min_child_weight=1, missing=nan,\n",
       "             monotone_constraints=&#x27;()&#x27;, n_estimators=20, n_jobs=-1,\n",
       "             num_parallel_tree=1, predictor=&#x27;auto&#x27;, random_state=42, ...)</pre></div></div></div></div></div>"
      ],
      "text/plain": [
       "XGBRegressor(base_score=0.5, booster='gbtree', callbacks=None,\n",
       "             colsample_bylevel=1, colsample_bynode=1, colsample_bytree=1,\n",
       "             early_stopping_rounds=None, enable_categorical=False,\n",
       "             eval_metric=None, feature_types=None, gamma=0, gpu_id=-1,\n",
       "             grow_policy='depthwise', importance_type=None,\n",
       "             interaction_constraints='', learning_rate=0.300000012, max_bin=256,\n",
       "             max_cat_threshold=64, max_cat_to_onehot=4, max_delta_step=0,\n",
       "             max_depth=4, max_leaves=0, min_child_weight=1, missing=nan,\n",
       "             monotone_constraints='()', n_estimators=20, n_jobs=-1,\n",
       "             num_parallel_tree=1, predictor='auto', random_state=42, ...)"
      ]
     },
     "execution_count": 102,
     "metadata": {},
     "output_type": "execute_result"
    }
   ],
   "source": [
    "m2.fit(prodwise_df_1.drop(columns=['sales']),prodwise_df_1['sales'])"
   ]
  },
  {
   "cell_type": "code",
   "execution_count": 103,
   "id": "0d40885d",
   "metadata": {},
   "outputs": [],
   "source": [
    "import pickle\n",
    "pickle.dump(m2,open('m2.pkl','wb'))"
   ]
  },
  {
   "cell_type": "code",
   "execution_count": 104,
   "id": "82e7bace",
   "metadata": {},
   "outputs": [],
   "source": [
    "m2_loaded = pickle.load(open('m2.pkl','rb'))"
   ]
  },
  {
   "cell_type": "code",
   "execution_count": 106,
   "id": "9a61bd34",
   "metadata": {},
   "outputs": [
    {
     "data": {
      "text/html": [
       "<div>\n",
       "<style scoped>\n",
       "    .dataframe tbody tr th:only-of-type {\n",
       "        vertical-align: middle;\n",
       "    }\n",
       "\n",
       "    .dataframe tbody tr th {\n",
       "        vertical-align: top;\n",
       "    }\n",
       "\n",
       "    .dataframe thead th {\n",
       "        text-align: right;\n",
       "    }\n",
       "</style>\n",
       "<table border=\"1\" class=\"dataframe\">\n",
       "  <thead>\n",
       "    <tr style=\"text-align: right;\">\n",
       "      <th></th>\n",
       "      <th>orderQty</th>\n",
       "      <th>orderTotal</th>\n",
       "      <th>cliAvgSenti</th>\n",
       "      <th>spAvgSenti</th>\n",
       "      <th>clientName</th>\n",
       "      <th>prodName</th>\n",
       "      <th>month</th>\n",
       "      <th>day</th>\n",
       "    </tr>\n",
       "  </thead>\n",
       "  <tbody>\n",
       "    <tr>\n",
       "      <th>0</th>\n",
       "      <td>4</td>\n",
       "      <td>5000.0</td>\n",
       "      <td>0.6</td>\n",
       "      <td>0.7</td>\n",
       "      <td>JJ Electronics</td>\n",
       "      <td>prodsku20</td>\n",
       "      <td>05</td>\n",
       "      <td>3</td>\n",
       "    </tr>\n",
       "  </tbody>\n",
       "</table>\n",
       "</div>"
      ],
      "text/plain": [
       "  orderQty orderTotal cliAvgSenti spAvgSenti      clientName   prodName month  \\\n",
       "0        4     5000.0         0.6        0.7  JJ Electronics  prodsku20    05   \n",
       "\n",
       "  day  \n",
       "0   3  "
      ]
     },
     "execution_count": 106,
     "metadata": {},
     "output_type": "execute_result"
    }
   ],
   "source": [
    "test_m2_input = np.array([int(4),float(5000),float(0.6),float(0.7),'JJ Electronics','prodsku20','05','3']).reshape(1,8)\n",
    "test_m2_input_df = pd.DataFrame(test_m2_input,columns=['orderQty','orderTotal','cliAvgSenti','spAvgSenti','clientName','prodName','month','day'])\n",
    "test_m2_input_df"
   ]
  },
  {
   "cell_type": "code",
   "execution_count": 107,
   "id": "82163079",
   "metadata": {},
   "outputs": [
    {
     "data": {
      "text/plain": [
       "orderQty       object\n",
       "orderTotal     object\n",
       "cliAvgSenti    object\n",
       "spAvgSenti     object\n",
       "clientName     object\n",
       "prodName       object\n",
       "month          object\n",
       "day            object\n",
       "dtype: object"
      ]
     },
     "execution_count": 107,
     "metadata": {},
     "output_type": "execute_result"
    }
   ],
   "source": [
    "test_m2_input_df.dtypes"
   ]
  },
  {
   "cell_type": "code",
   "execution_count": 108,
   "id": "6e576304",
   "metadata": {},
   "outputs": [
    {
     "data": {
      "text/html": [
       "<div>\n",
       "<style scoped>\n",
       "    .dataframe tbody tr th:only-of-type {\n",
       "        vertical-align: middle;\n",
       "    }\n",
       "\n",
       "    .dataframe tbody tr th {\n",
       "        vertical-align: top;\n",
       "    }\n",
       "\n",
       "    .dataframe thead th {\n",
       "        text-align: right;\n",
       "    }\n",
       "</style>\n",
       "<table border=\"1\" class=\"dataframe\">\n",
       "  <thead>\n",
       "    <tr style=\"text-align: right;\">\n",
       "      <th></th>\n",
       "      <th>orderQty</th>\n",
       "      <th>orderTotal</th>\n",
       "      <th>cliAvgSenti</th>\n",
       "      <th>spAvgSenti</th>\n",
       "      <th>clientName</th>\n",
       "      <th>prodName</th>\n",
       "      <th>month</th>\n",
       "      <th>day</th>\n",
       "    </tr>\n",
       "  </thead>\n",
       "  <tbody>\n",
       "    <tr>\n",
       "      <th>0</th>\n",
       "      <td>4</td>\n",
       "      <td>5000.0</td>\n",
       "      <td>0.6</td>\n",
       "      <td>0.7</td>\n",
       "      <td>1</td>\n",
       "      <td>2</td>\n",
       "      <td>4</td>\n",
       "      <td>3</td>\n",
       "    </tr>\n",
       "  </tbody>\n",
       "</table>\n",
       "</div>"
      ],
      "text/plain": [
       "  orderQty orderTotal cliAvgSenti spAvgSenti  clientName  prodName  month  day\n",
       "0        4     5000.0         0.6        0.7           1         2      4    3"
      ]
     },
     "execution_count": 108,
     "metadata": {},
     "output_type": "execute_result"
    }
   ],
   "source": [
    "test_m2_input_df_prodName = pd.DataFrame(prodName_oe_loaded.transform(test_m2_input_df['prodName']),columns=['prodName']) \n",
    "test_m2_input_df_clientName = pd.DataFrame(clientName_oe_loaded.transform(test_m2_input_df['clientName']),columns=['clientName']) \n",
    "test_m2_input_df_month = pd.DataFrame(month_oe_loaded.transform(test_m2_input_df['month']),columns=['month'])\n",
    "test_m2_input_df_day = pd.DataFrame(day_oe_loaded.transform(test_m2_input_df['day']),columns=['day'])\n",
    "test_m2_input_df_transformed =pd.concat([test_m2_input_df.drop(columns=['prodName','clientName','month','day']),test_m2_input_df_clientName,test_m2_input_df_prodName,test_m2_input_df_month,test_m2_input_df_day],axis=1)\n",
    "test_m2_input_df_transformed"
   ]
  },
  {
   "cell_type": "code",
   "execution_count": 109,
   "id": "849c05d5",
   "metadata": {},
   "outputs": [],
   "source": [
    "test_m2_input_df_transformed['orderQty'] = test_m2_input_df_transformed['orderQty'].astype(int)\n",
    "test_m2_input_df_transformed['orderTotal'] = test_m2_input_df_transformed['orderTotal'].astype(float)\n",
    "test_m2_input_df_transformed['cliAvgSenti'] = test_m2_input_df_transformed['cliAvgSenti'].astype(float)\n",
    "test_m2_input_df_transformed['spAvgSenti'] = test_m2_input_df_transformed['spAvgSenti'].astype(float)"
   ]
  },
  {
   "cell_type": "code",
   "execution_count": 110,
   "id": "3be864fd",
   "metadata": {},
   "outputs": [
    {
     "data": {
      "text/plain": [
       "orderQty         int64\n",
       "orderTotal     float64\n",
       "cliAvgSenti    float64\n",
       "spAvgSenti     float64\n",
       "clientName       int64\n",
       "prodName         int64\n",
       "month            int64\n",
       "day              int64\n",
       "dtype: object"
      ]
     },
     "execution_count": 110,
     "metadata": {},
     "output_type": "execute_result"
    }
   ],
   "source": [
    "test_m2_input_df_transformed.dtypes"
   ]
  },
  {
   "cell_type": "code",
   "execution_count": 111,
   "id": "7b7fb1a4",
   "metadata": {},
   "outputs": [
    {
     "data": {
      "text/plain": [
       "array([1788.8394], dtype=float32)"
      ]
     },
     "execution_count": 111,
     "metadata": {},
     "output_type": "execute_result"
    }
   ],
   "source": [
    "m2_loaded.predict(test_m2_input_df_transformed)"
   ]
  },
  {
   "cell_type": "code",
   "execution_count": null,
   "id": "0d820b54",
   "metadata": {},
   "outputs": [],
   "source": []
  },
  {
   "cell_type": "code",
   "execution_count": null,
   "id": "d350c49e",
   "metadata": {},
   "outputs": [],
   "source": []
  },
  {
   "cell_type": "code",
   "execution_count": null,
   "id": "27ef1d50",
   "metadata": {},
   "outputs": [],
   "source": []
  },
  {
   "cell_type": "code",
   "execution_count": null,
   "id": "20bf0dc2",
   "metadata": {},
   "outputs": [],
   "source": []
  },
  {
   "cell_type": "markdown",
   "id": "020a57c1",
   "metadata": {},
   "source": [
    "# m3 - predict productwise client"
   ]
  },
  {
   "cell_type": "code",
   "execution_count": null,
   "id": "ab877481",
   "metadata": {},
   "outputs": [],
   "source": [
    "#create pipeline \n",
    "#train model using pipeline\n",
    "#export m1_pipeline \n",
    "#import m1_pipeline \n",
    "# make predict fuction for m1_pipeline"
   ]
  },
  {
   "cell_type": "code",
   "execution_count": 112,
   "id": "952efa4b",
   "metadata": {},
   "outputs": [
    {
     "data": {
      "text/html": [
       "<div>\n",
       "<style scoped>\n",
       "    .dataframe tbody tr th:only-of-type {\n",
       "        vertical-align: middle;\n",
       "    }\n",
       "\n",
       "    .dataframe tbody tr th {\n",
       "        vertical-align: top;\n",
       "    }\n",
       "\n",
       "    .dataframe thead th {\n",
       "        text-align: right;\n",
       "    }\n",
       "</style>\n",
       "<table border=\"1\" class=\"dataframe\">\n",
       "  <thead>\n",
       "    <tr style=\"text-align: right;\">\n",
       "      <th></th>\n",
       "      <th>orderQty</th>\n",
       "      <th>orderTotal</th>\n",
       "      <th>cliAvgSenti</th>\n",
       "      <th>spAvgSenti</th>\n",
       "      <th>sales</th>\n",
       "      <th>clientName</th>\n",
       "      <th>prodName</th>\n",
       "      <th>month</th>\n",
       "      <th>day</th>\n",
       "    </tr>\n",
       "  </thead>\n",
       "  <tbody>\n",
       "    <tr>\n",
       "      <th>0</th>\n",
       "      <td>4</td>\n",
       "      <td>4857.0</td>\n",
       "      <td>0.5</td>\n",
       "      <td>1.0</td>\n",
       "      <td>988.0</td>\n",
       "      <td>1</td>\n",
       "      <td>3</td>\n",
       "      <td>1</td>\n",
       "      <td>6</td>\n",
       "    </tr>\n",
       "    <tr>\n",
       "      <th>1</th>\n",
       "      <td>4</td>\n",
       "      <td>4857.0</td>\n",
       "      <td>0.5</td>\n",
       "      <td>1.0</td>\n",
       "      <td>1200.0</td>\n",
       "      <td>1</td>\n",
       "      <td>2</td>\n",
       "      <td>1</td>\n",
       "      <td>6</td>\n",
       "    </tr>\n",
       "    <tr>\n",
       "      <th>2</th>\n",
       "      <td>4</td>\n",
       "      <td>4857.0</td>\n",
       "      <td>0.5</td>\n",
       "      <td>1.0</td>\n",
       "      <td>2400.0</td>\n",
       "      <td>1</td>\n",
       "      <td>2</td>\n",
       "      <td>1</td>\n",
       "      <td>6</td>\n",
       "    </tr>\n",
       "    <tr>\n",
       "      <th>3</th>\n",
       "      <td>5</td>\n",
       "      <td>27.0</td>\n",
       "      <td>0.5</td>\n",
       "      <td>1.0</td>\n",
       "      <td>25.0</td>\n",
       "      <td>1</td>\n",
       "      <td>0</td>\n",
       "      <td>0</td>\n",
       "      <td>0</td>\n",
       "    </tr>\n",
       "    <tr>\n",
       "      <th>4</th>\n",
       "      <td>1</td>\n",
       "      <td>1077.0</td>\n",
       "      <td>0.5</td>\n",
       "      <td>1.0</td>\n",
       "      <td>988.0</td>\n",
       "      <td>1</td>\n",
       "      <td>3</td>\n",
       "      <td>1</td>\n",
       "      <td>6</td>\n",
       "    </tr>\n",
       "  </tbody>\n",
       "</table>\n",
       "</div>"
      ],
      "text/plain": [
       "   orderQty  orderTotal  cliAvgSenti  spAvgSenti   sales  clientName  \\\n",
       "0         4      4857.0          0.5         1.0   988.0           1   \n",
       "1         4      4857.0          0.5         1.0  1200.0           1   \n",
       "2         4      4857.0          0.5         1.0  2400.0           1   \n",
       "3         5        27.0          0.5         1.0    25.0           1   \n",
       "4         1      1077.0          0.5         1.0   988.0           1   \n",
       "\n",
       "   prodName  month  day  \n",
       "0         3      1    6  \n",
       "1         2      1    6  \n",
       "2         2      1    6  \n",
       "3         0      0    0  \n",
       "4         3      1    6  "
      ]
     },
     "execution_count": 112,
     "metadata": {},
     "output_type": "execute_result"
    }
   ],
   "source": [
    "prodwise_df_1.head()"
   ]
  },
  {
   "cell_type": "code",
   "execution_count": 113,
   "id": "8fc7863f",
   "metadata": {},
   "outputs": [
    {
     "data": {
      "text/plain": [
       "orderQty         int64\n",
       "orderTotal     float64\n",
       "cliAvgSenti    float64\n",
       "spAvgSenti     float64\n",
       "sales          float64\n",
       "clientName       int64\n",
       "prodName         int64\n",
       "month            int64\n",
       "day              int64\n",
       "dtype: object"
      ]
     },
     "execution_count": 113,
     "metadata": {},
     "output_type": "execute_result"
    }
   ],
   "source": [
    "prodwise_df_1.dtypes"
   ]
  },
  {
   "cell_type": "code",
   "execution_count": 114,
   "id": "d7c0350b",
   "metadata": {},
   "outputs": [],
   "source": [
    "X_train,X_test,y_train,y_test = train_test_split(prodwise_df_1.drop(columns=['clientName']),\n",
    "                                                    prodwise_df_1['clientName'],\n",
    "                                                 test_size = 0.2,\n",
    "                                                 random_state = 42\n",
    "                                                )"
   ]
  },
  {
   "cell_type": "code",
   "execution_count": 115,
   "id": "f470eddb",
   "metadata": {},
   "outputs": [
    {
     "data": {
      "text/html": [
       "<div>\n",
       "<style scoped>\n",
       "    .dataframe tbody tr th:only-of-type {\n",
       "        vertical-align: middle;\n",
       "    }\n",
       "\n",
       "    .dataframe tbody tr th {\n",
       "        vertical-align: top;\n",
       "    }\n",
       "\n",
       "    .dataframe thead th {\n",
       "        text-align: right;\n",
       "    }\n",
       "</style>\n",
       "<table border=\"1\" class=\"dataframe\">\n",
       "  <thead>\n",
       "    <tr style=\"text-align: right;\">\n",
       "      <th></th>\n",
       "      <th>orderQty</th>\n",
       "      <th>orderTotal</th>\n",
       "      <th>cliAvgSenti</th>\n",
       "      <th>spAvgSenti</th>\n",
       "      <th>sales</th>\n",
       "      <th>prodName</th>\n",
       "      <th>month</th>\n",
       "      <th>day</th>\n",
       "    </tr>\n",
       "  </thead>\n",
       "  <tbody>\n",
       "    <tr>\n",
       "      <th>5</th>\n",
       "      <td>2</td>\n",
       "      <td>8402.0</td>\n",
       "      <td>1.0</td>\n",
       "      <td>1.0</td>\n",
       "      <td>8002.0</td>\n",
       "      <td>1</td>\n",
       "      <td>1</td>\n",
       "      <td>6</td>\n",
       "    </tr>\n",
       "    <tr>\n",
       "      <th>0</th>\n",
       "      <td>4</td>\n",
       "      <td>4857.0</td>\n",
       "      <td>0.5</td>\n",
       "      <td>1.0</td>\n",
       "      <td>988.0</td>\n",
       "      <td>3</td>\n",
       "      <td>1</td>\n",
       "      <td>6</td>\n",
       "    </tr>\n",
       "    <tr>\n",
       "      <th>8</th>\n",
       "      <td>6</td>\n",
       "      <td>22265.0</td>\n",
       "      <td>0.0</td>\n",
       "      <td>1.0</td>\n",
       "      <td>1200.0</td>\n",
       "      <td>2</td>\n",
       "      <td>2</td>\n",
       "      <td>4</td>\n",
       "    </tr>\n",
       "    <tr>\n",
       "      <th>2</th>\n",
       "      <td>4</td>\n",
       "      <td>4857.0</td>\n",
       "      <td>0.5</td>\n",
       "      <td>1.0</td>\n",
       "      <td>2400.0</td>\n",
       "      <td>2</td>\n",
       "      <td>1</td>\n",
       "      <td>6</td>\n",
       "    </tr>\n",
       "    <tr>\n",
       "      <th>4</th>\n",
       "      <td>1</td>\n",
       "      <td>1077.0</td>\n",
       "      <td>0.5</td>\n",
       "      <td>1.0</td>\n",
       "      <td>988.0</td>\n",
       "      <td>3</td>\n",
       "      <td>1</td>\n",
       "      <td>6</td>\n",
       "    </tr>\n",
       "  </tbody>\n",
       "</table>\n",
       "</div>"
      ],
      "text/plain": [
       "   orderQty  orderTotal  cliAvgSenti  spAvgSenti   sales  prodName  month  day\n",
       "5         2      8402.0          1.0         1.0  8002.0         1      1    6\n",
       "0         4      4857.0          0.5         1.0   988.0         3      1    6\n",
       "8         6     22265.0          0.0         1.0  1200.0         2      2    4\n",
       "2         4      4857.0          0.5         1.0  2400.0         2      1    6\n",
       "4         1      1077.0          0.5         1.0   988.0         3      1    6"
      ]
     },
     "execution_count": 115,
     "metadata": {},
     "output_type": "execute_result"
    }
   ],
   "source": [
    "X_train.head()"
   ]
  },
  {
   "cell_type": "code",
   "execution_count": 116,
   "id": "fdcbde34",
   "metadata": {},
   "outputs": [
    {
     "data": {
      "text/plain": [
       "5    2\n",
       "0    1\n",
       "8    0\n",
       "2    1\n",
       "4    1\n",
       "Name: clientName, dtype: int64"
      ]
     },
     "execution_count": 116,
     "metadata": {},
     "output_type": "execute_result"
    }
   ],
   "source": [
    "y_train.head()"
   ]
  },
  {
   "cell_type": "code",
   "execution_count": 183,
   "id": "643b1dfe",
   "metadata": {},
   "outputs": [],
   "source": [
    "#Ordinal encoding \n",
    "trf1 = ColumnTransformer([\n",
    "    ('orde_prodName_month_day',OrdinalEncoder(handle_unknown=\"use_encoded_value\",unknown_value=100),[0,1,2])\n",
    "],remainder=\"passthrough\")"
   ]
  },
  {
   "cell_type": "code",
   "execution_count": 184,
   "id": "27cf5860",
   "metadata": {},
   "outputs": [],
   "source": [
    "#scaling \n",
    "trf2 = ColumnTransformer([\n",
    "    ('scale',MinMaxScaler(),slice(0,7))\n",
    "])"
   ]
  },
  {
   "cell_type": "code",
   "execution_count": 185,
   "id": "6659d13b",
   "metadata": {},
   "outputs": [],
   "source": [
    "#model training \n",
    "from sklearn.ensemble import BaggingClassifier\n",
    "from sklearn.tree import DecisionTreeClassifier\n",
    "trf3 = BaggingClassifier(\n",
    "    base_estimator = DecisionTreeClassifier(),\n",
    "    n_estimators = 500,\n",
    "    max_samples = 0.25,\n",
    "    bootstrap = True,\n",
    "    random_state = 42\n",
    ")"
   ]
  },
  {
   "cell_type": "code",
   "execution_count": 186,
   "id": "cc961262",
   "metadata": {},
   "outputs": [],
   "source": [
    "#pipeline \n",
    "pipe_m3_x = Pipeline([\n",
    "    ('trf1',trf1),\n",
    "    ('trf2',trf2),\n",
    "    ('trf3',trf3)\n",
    "])"
   ]
  },
  {
   "cell_type": "code",
   "execution_count": null,
   "id": "5fce154a",
   "metadata": {},
   "outputs": [],
   "source": []
  },
  {
   "cell_type": "code",
   "execution_count": 187,
   "id": "f2545e42",
   "metadata": {},
   "outputs": [],
   "source": [
    "#Ordinal encoding \n",
    "trf4 = OrdinalEncoder(handle_unknown=\"use_encoded_value\",unknown_value=100)\n"
   ]
  },
  {
   "cell_type": "code",
   "execution_count": 224,
   "id": "2b093aee",
   "metadata": {},
   "outputs": [],
   "source": [
    "trf4_general = OrdinalEncoder(handle_unknown=\"use_encoded_value\",unknown_value=100)"
   ]
  },
  {
   "cell_type": "code",
   "execution_count": 236,
   "id": "be96b812",
   "metadata": {},
   "outputs": [
    {
     "name": "stdout",
     "output_type": "stream",
     "text": [
      "['company1', 'company1', 'company1', 'company1', 'company1', 'comp2', 'test1']\n"
     ]
    },
    {
     "data": {
      "text/plain": [
       "array([['company1'],\n",
       "       ['company1'],\n",
       "       ['company1'],\n",
       "       ['company1'],\n",
       "       ['company1'],\n",
       "       ['comp2'],\n",
       "       ['test1']], dtype='<U8')"
      ]
     },
     "execution_count": 236,
     "metadata": {},
     "output_type": "execute_result"
    }
   ],
   "source": [
    "pred_list = list(prodwise_df_1['clientName'])\n",
    "print(pred_list)\n",
    "ip_pred_list =np.array(pred_list).reshape(len(pred_list),1)\n",
    "ip_pred_list"
   ]
  },
  {
   "cell_type": "code",
   "execution_count": 237,
   "id": "dd5724c1",
   "metadata": {},
   "outputs": [
    {
     "data": {
      "text/html": [
       "<style>#sk-container-id-8 {color: black;background-color: white;}#sk-container-id-8 pre{padding: 0;}#sk-container-id-8 div.sk-toggleable {background-color: white;}#sk-container-id-8 label.sk-toggleable__label {cursor: pointer;display: block;width: 100%;margin-bottom: 0;padding: 0.3em;box-sizing: border-box;text-align: center;}#sk-container-id-8 label.sk-toggleable__label-arrow:before {content: \"▸\";float: left;margin-right: 0.25em;color: #696969;}#sk-container-id-8 label.sk-toggleable__label-arrow:hover:before {color: black;}#sk-container-id-8 div.sk-estimator:hover label.sk-toggleable__label-arrow:before {color: black;}#sk-container-id-8 div.sk-toggleable__content {max-height: 0;max-width: 0;overflow: hidden;text-align: left;background-color: #f0f8ff;}#sk-container-id-8 div.sk-toggleable__content pre {margin: 0.2em;color: black;border-radius: 0.25em;background-color: #f0f8ff;}#sk-container-id-8 input.sk-toggleable__control:checked~div.sk-toggleable__content {max-height: 200px;max-width: 100%;overflow: auto;}#sk-container-id-8 input.sk-toggleable__control:checked~label.sk-toggleable__label-arrow:before {content: \"▾\";}#sk-container-id-8 div.sk-estimator input.sk-toggleable__control:checked~label.sk-toggleable__label {background-color: #d4ebff;}#sk-container-id-8 div.sk-label input.sk-toggleable__control:checked~label.sk-toggleable__label {background-color: #d4ebff;}#sk-container-id-8 input.sk-hidden--visually {border: 0;clip: rect(1px 1px 1px 1px);clip: rect(1px, 1px, 1px, 1px);height: 1px;margin: -1px;overflow: hidden;padding: 0;position: absolute;width: 1px;}#sk-container-id-8 div.sk-estimator {font-family: monospace;background-color: #f0f8ff;border: 1px dotted black;border-radius: 0.25em;box-sizing: border-box;margin-bottom: 0.5em;}#sk-container-id-8 div.sk-estimator:hover {background-color: #d4ebff;}#sk-container-id-8 div.sk-parallel-item::after {content: \"\";width: 100%;border-bottom: 1px solid gray;flex-grow: 1;}#sk-container-id-8 div.sk-label:hover label.sk-toggleable__label {background-color: #d4ebff;}#sk-container-id-8 div.sk-serial::before {content: \"\";position: absolute;border-left: 1px solid gray;box-sizing: border-box;top: 0;bottom: 0;left: 50%;z-index: 0;}#sk-container-id-8 div.sk-serial {display: flex;flex-direction: column;align-items: center;background-color: white;padding-right: 0.2em;padding-left: 0.2em;position: relative;}#sk-container-id-8 div.sk-item {position: relative;z-index: 1;}#sk-container-id-8 div.sk-parallel {display: flex;align-items: stretch;justify-content: center;background-color: white;position: relative;}#sk-container-id-8 div.sk-item::before, #sk-container-id-8 div.sk-parallel-item::before {content: \"\";position: absolute;border-left: 1px solid gray;box-sizing: border-box;top: 0;bottom: 0;left: 50%;z-index: -1;}#sk-container-id-8 div.sk-parallel-item {display: flex;flex-direction: column;z-index: 1;position: relative;background-color: white;}#sk-container-id-8 div.sk-parallel-item:first-child::after {align-self: flex-end;width: 50%;}#sk-container-id-8 div.sk-parallel-item:last-child::after {align-self: flex-start;width: 50%;}#sk-container-id-8 div.sk-parallel-item:only-child::after {width: 0;}#sk-container-id-8 div.sk-dashed-wrapped {border: 1px dashed gray;margin: 0 0.4em 0.5em 0.4em;box-sizing: border-box;padding-bottom: 0.4em;background-color: white;}#sk-container-id-8 div.sk-label label {font-family: monospace;font-weight: bold;display: inline-block;line-height: 1.2em;}#sk-container-id-8 div.sk-label-container {text-align: center;}#sk-container-id-8 div.sk-container {/* jupyter's `normalize.less` sets `[hidden] { display: none; }` but bootstrap.min.css set `[hidden] { display: none !important; }` so we also need the `!important` here to be able to override the default hidden behavior on the sphinx rendered scikit-learn.org. See: https://github.com/scikit-learn/scikit-learn/issues/21755 */display: inline-block !important;position: relative;}#sk-container-id-8 div.sk-text-repr-fallback {display: none;}</style><div id=\"sk-container-id-8\" class=\"sk-top-container\"><div class=\"sk-text-repr-fallback\"><pre>OrdinalEncoder(handle_unknown=&#x27;use_encoded_value&#x27;, unknown_value=100)</pre><b>In a Jupyter environment, please rerun this cell to show the HTML representation or trust the notebook. <br />On GitHub, the HTML representation is unable to render, please try loading this page with nbviewer.org.</b></div><div class=\"sk-container\" hidden><div class=\"sk-item\"><div class=\"sk-estimator sk-toggleable\"><input class=\"sk-toggleable__control sk-hidden--visually\" id=\"sk-estimator-id-75\" type=\"checkbox\" checked><label for=\"sk-estimator-id-75\" class=\"sk-toggleable__label sk-toggleable__label-arrow\">OrdinalEncoder</label><div class=\"sk-toggleable__content\"><pre>OrdinalEncoder(handle_unknown=&#x27;use_encoded_value&#x27;, unknown_value=100)</pre></div></div></div></div></div>"
      ],
      "text/plain": [
       "OrdinalEncoder(handle_unknown='use_encoded_value', unknown_value=100)"
      ]
     },
     "execution_count": 237,
     "metadata": {},
     "output_type": "execute_result"
    }
   ],
   "source": [
    "trf4_general.fit(ip_pred_list)"
   ]
  },
  {
   "cell_type": "code",
   "execution_count": 239,
   "id": "e8d92655",
   "metadata": {},
   "outputs": [],
   "source": [
    "y_train=trf4.fit_transform(pd.DataFrame(y_train))"
   ]
  },
  {
   "cell_type": "code",
   "execution_count": 240,
   "id": "461f3570",
   "metadata": {},
   "outputs": [
    {
     "name": "stderr",
     "output_type": "stream",
     "text": [
      "/home/neelchoksi19bce0990/.local/lib/python3.9/site-packages/sklearn/ensemble/_bagging.py:760: DataConversionWarning: A column-vector y was passed when a 1d array was expected. Please change the shape of y to (n_samples, ), for example using ravel().\n",
      "  y = column_or_1d(y, warn=True)\n"
     ]
    },
    {
     "data": {
      "text/html": [
       "<style>#sk-container-id-9 {color: black;background-color: white;}#sk-container-id-9 pre{padding: 0;}#sk-container-id-9 div.sk-toggleable {background-color: white;}#sk-container-id-9 label.sk-toggleable__label {cursor: pointer;display: block;width: 100%;margin-bottom: 0;padding: 0.3em;box-sizing: border-box;text-align: center;}#sk-container-id-9 label.sk-toggleable__label-arrow:before {content: \"▸\";float: left;margin-right: 0.25em;color: #696969;}#sk-container-id-9 label.sk-toggleable__label-arrow:hover:before {color: black;}#sk-container-id-9 div.sk-estimator:hover label.sk-toggleable__label-arrow:before {color: black;}#sk-container-id-9 div.sk-toggleable__content {max-height: 0;max-width: 0;overflow: hidden;text-align: left;background-color: #f0f8ff;}#sk-container-id-9 div.sk-toggleable__content pre {margin: 0.2em;color: black;border-radius: 0.25em;background-color: #f0f8ff;}#sk-container-id-9 input.sk-toggleable__control:checked~div.sk-toggleable__content {max-height: 200px;max-width: 100%;overflow: auto;}#sk-container-id-9 input.sk-toggleable__control:checked~label.sk-toggleable__label-arrow:before {content: \"▾\";}#sk-container-id-9 div.sk-estimator input.sk-toggleable__control:checked~label.sk-toggleable__label {background-color: #d4ebff;}#sk-container-id-9 div.sk-label input.sk-toggleable__control:checked~label.sk-toggleable__label {background-color: #d4ebff;}#sk-container-id-9 input.sk-hidden--visually {border: 0;clip: rect(1px 1px 1px 1px);clip: rect(1px, 1px, 1px, 1px);height: 1px;margin: -1px;overflow: hidden;padding: 0;position: absolute;width: 1px;}#sk-container-id-9 div.sk-estimator {font-family: monospace;background-color: #f0f8ff;border: 1px dotted black;border-radius: 0.25em;box-sizing: border-box;margin-bottom: 0.5em;}#sk-container-id-9 div.sk-estimator:hover {background-color: #d4ebff;}#sk-container-id-9 div.sk-parallel-item::after {content: \"\";width: 100%;border-bottom: 1px solid gray;flex-grow: 1;}#sk-container-id-9 div.sk-label:hover label.sk-toggleable__label {background-color: #d4ebff;}#sk-container-id-9 div.sk-serial::before {content: \"\";position: absolute;border-left: 1px solid gray;box-sizing: border-box;top: 0;bottom: 0;left: 50%;z-index: 0;}#sk-container-id-9 div.sk-serial {display: flex;flex-direction: column;align-items: center;background-color: white;padding-right: 0.2em;padding-left: 0.2em;position: relative;}#sk-container-id-9 div.sk-item {position: relative;z-index: 1;}#sk-container-id-9 div.sk-parallel {display: flex;align-items: stretch;justify-content: center;background-color: white;position: relative;}#sk-container-id-9 div.sk-item::before, #sk-container-id-9 div.sk-parallel-item::before {content: \"\";position: absolute;border-left: 1px solid gray;box-sizing: border-box;top: 0;bottom: 0;left: 50%;z-index: -1;}#sk-container-id-9 div.sk-parallel-item {display: flex;flex-direction: column;z-index: 1;position: relative;background-color: white;}#sk-container-id-9 div.sk-parallel-item:first-child::after {align-self: flex-end;width: 50%;}#sk-container-id-9 div.sk-parallel-item:last-child::after {align-self: flex-start;width: 50%;}#sk-container-id-9 div.sk-parallel-item:only-child::after {width: 0;}#sk-container-id-9 div.sk-dashed-wrapped {border: 1px dashed gray;margin: 0 0.4em 0.5em 0.4em;box-sizing: border-box;padding-bottom: 0.4em;background-color: white;}#sk-container-id-9 div.sk-label label {font-family: monospace;font-weight: bold;display: inline-block;line-height: 1.2em;}#sk-container-id-9 div.sk-label-container {text-align: center;}#sk-container-id-9 div.sk-container {/* jupyter's `normalize.less` sets `[hidden] { display: none; }` but bootstrap.min.css set `[hidden] { display: none !important; }` so we also need the `!important` here to be able to override the default hidden behavior on the sphinx rendered scikit-learn.org. See: https://github.com/scikit-learn/scikit-learn/issues/21755 */display: inline-block !important;position: relative;}#sk-container-id-9 div.sk-text-repr-fallback {display: none;}</style><div id=\"sk-container-id-9\" class=\"sk-top-container\"><div class=\"sk-text-repr-fallback\"><pre>Pipeline(steps=[(&#x27;trf1&#x27;,\n",
       "                 ColumnTransformer(remainder=&#x27;passthrough&#x27;,\n",
       "                                   transformers=[(&#x27;orde_prodName_month_day&#x27;,\n",
       "                                                  OrdinalEncoder(handle_unknown=&#x27;use_encoded_value&#x27;,\n",
       "                                                                 unknown_value=100),\n",
       "                                                  [0, 1, 2])])),\n",
       "                (&#x27;trf2&#x27;,\n",
       "                 ColumnTransformer(transformers=[(&#x27;scale&#x27;, MinMaxScaler(),\n",
       "                                                  slice(0, 7, None))])),\n",
       "                (&#x27;trf3&#x27;,\n",
       "                 BaggingClassifier(base_estimator=DecisionTreeClassifier(),\n",
       "                                   max_samples=0.25, n_estimators=500,\n",
       "                                   random_state=42))])</pre><b>In a Jupyter environment, please rerun this cell to show the HTML representation or trust the notebook. <br />On GitHub, the HTML representation is unable to render, please try loading this page with nbviewer.org.</b></div><div class=\"sk-container\" hidden><div class=\"sk-item sk-dashed-wrapped\"><div class=\"sk-label-container\"><div class=\"sk-label sk-toggleable\"><input class=\"sk-toggleable__control sk-hidden--visually\" id=\"sk-estimator-id-76\" type=\"checkbox\" ><label for=\"sk-estimator-id-76\" class=\"sk-toggleable__label sk-toggleable__label-arrow\">Pipeline</label><div class=\"sk-toggleable__content\"><pre>Pipeline(steps=[(&#x27;trf1&#x27;,\n",
       "                 ColumnTransformer(remainder=&#x27;passthrough&#x27;,\n",
       "                                   transformers=[(&#x27;orde_prodName_month_day&#x27;,\n",
       "                                                  OrdinalEncoder(handle_unknown=&#x27;use_encoded_value&#x27;,\n",
       "                                                                 unknown_value=100),\n",
       "                                                  [0, 1, 2])])),\n",
       "                (&#x27;trf2&#x27;,\n",
       "                 ColumnTransformer(transformers=[(&#x27;scale&#x27;, MinMaxScaler(),\n",
       "                                                  slice(0, 7, None))])),\n",
       "                (&#x27;trf3&#x27;,\n",
       "                 BaggingClassifier(base_estimator=DecisionTreeClassifier(),\n",
       "                                   max_samples=0.25, n_estimators=500,\n",
       "                                   random_state=42))])</pre></div></div></div><div class=\"sk-serial\"><div class=\"sk-item sk-dashed-wrapped\"><div class=\"sk-label-container\"><div class=\"sk-label sk-toggleable\"><input class=\"sk-toggleable__control sk-hidden--visually\" id=\"sk-estimator-id-77\" type=\"checkbox\" ><label for=\"sk-estimator-id-77\" class=\"sk-toggleable__label sk-toggleable__label-arrow\">trf1: ColumnTransformer</label><div class=\"sk-toggleable__content\"><pre>ColumnTransformer(remainder=&#x27;passthrough&#x27;,\n",
       "                  transformers=[(&#x27;orde_prodName_month_day&#x27;,\n",
       "                                 OrdinalEncoder(handle_unknown=&#x27;use_encoded_value&#x27;,\n",
       "                                                unknown_value=100),\n",
       "                                 [0, 1, 2])])</pre></div></div></div><div class=\"sk-parallel\"><div class=\"sk-parallel-item\"><div class=\"sk-item\"><div class=\"sk-label-container\"><div class=\"sk-label sk-toggleable\"><input class=\"sk-toggleable__control sk-hidden--visually\" id=\"sk-estimator-id-78\" type=\"checkbox\" ><label for=\"sk-estimator-id-78\" class=\"sk-toggleable__label sk-toggleable__label-arrow\">orde_prodName_month_day</label><div class=\"sk-toggleable__content\"><pre>[0, 1, 2]</pre></div></div></div><div class=\"sk-serial\"><div class=\"sk-item\"><div class=\"sk-estimator sk-toggleable\"><input class=\"sk-toggleable__control sk-hidden--visually\" id=\"sk-estimator-id-79\" type=\"checkbox\" ><label for=\"sk-estimator-id-79\" class=\"sk-toggleable__label sk-toggleable__label-arrow\">OrdinalEncoder</label><div class=\"sk-toggleable__content\"><pre>OrdinalEncoder(handle_unknown=&#x27;use_encoded_value&#x27;, unknown_value=100)</pre></div></div></div></div></div></div><div class=\"sk-parallel-item\"><div class=\"sk-item\"><div class=\"sk-label-container\"><div class=\"sk-label sk-toggleable\"><input class=\"sk-toggleable__control sk-hidden--visually\" id=\"sk-estimator-id-80\" type=\"checkbox\" ><label for=\"sk-estimator-id-80\" class=\"sk-toggleable__label sk-toggleable__label-arrow\">remainder</label><div class=\"sk-toggleable__content\"><pre>[&#x27;orderQty&#x27;, &#x27;orderTotal&#x27;, &#x27;cliAvgSenti&#x27;, &#x27;spAvgSenti&#x27;, &#x27;sales&#x27;]</pre></div></div></div><div class=\"sk-serial\"><div class=\"sk-item\"><div class=\"sk-estimator sk-toggleable\"><input class=\"sk-toggleable__control sk-hidden--visually\" id=\"sk-estimator-id-81\" type=\"checkbox\" ><label for=\"sk-estimator-id-81\" class=\"sk-toggleable__label sk-toggleable__label-arrow\">passthrough</label><div class=\"sk-toggleable__content\"><pre>passthrough</pre></div></div></div></div></div></div></div></div><div class=\"sk-item sk-dashed-wrapped\"><div class=\"sk-label-container\"><div class=\"sk-label sk-toggleable\"><input class=\"sk-toggleable__control sk-hidden--visually\" id=\"sk-estimator-id-82\" type=\"checkbox\" ><label for=\"sk-estimator-id-82\" class=\"sk-toggleable__label sk-toggleable__label-arrow\">trf2: ColumnTransformer</label><div class=\"sk-toggleable__content\"><pre>ColumnTransformer(transformers=[(&#x27;scale&#x27;, MinMaxScaler(), slice(0, 7, None))])</pre></div></div></div><div class=\"sk-parallel\"><div class=\"sk-parallel-item\"><div class=\"sk-item\"><div class=\"sk-label-container\"><div class=\"sk-label sk-toggleable\"><input class=\"sk-toggleable__control sk-hidden--visually\" id=\"sk-estimator-id-83\" type=\"checkbox\" ><label for=\"sk-estimator-id-83\" class=\"sk-toggleable__label sk-toggleable__label-arrow\">scale</label><div class=\"sk-toggleable__content\"><pre>slice(0, 7, None)</pre></div></div></div><div class=\"sk-serial\"><div class=\"sk-item\"><div class=\"sk-estimator sk-toggleable\"><input class=\"sk-toggleable__control sk-hidden--visually\" id=\"sk-estimator-id-84\" type=\"checkbox\" ><label for=\"sk-estimator-id-84\" class=\"sk-toggleable__label sk-toggleable__label-arrow\">MinMaxScaler</label><div class=\"sk-toggleable__content\"><pre>MinMaxScaler()</pre></div></div></div></div></div></div></div></div><div class=\"sk-item sk-dashed-wrapped\"><div class=\"sk-label-container\"><div class=\"sk-label sk-toggleable\"><input class=\"sk-toggleable__control sk-hidden--visually\" id=\"sk-estimator-id-85\" type=\"checkbox\" ><label for=\"sk-estimator-id-85\" class=\"sk-toggleable__label sk-toggleable__label-arrow\">trf3: BaggingClassifier</label><div class=\"sk-toggleable__content\"><pre>BaggingClassifier(base_estimator=DecisionTreeClassifier(), max_samples=0.25,\n",
       "                  n_estimators=500, random_state=42)</pre></div></div></div><div class=\"sk-parallel\"><div class=\"sk-parallel-item\"><div class=\"sk-item\"><div class=\"sk-label-container\"><div class=\"sk-label sk-toggleable\"><input class=\"sk-toggleable__control sk-hidden--visually\" id=\"sk-estimator-id-86\" type=\"checkbox\" ><label for=\"sk-estimator-id-86\" class=\"sk-toggleable__label sk-toggleable__label-arrow\">base_estimator: DecisionTreeClassifier</label><div class=\"sk-toggleable__content\"><pre>DecisionTreeClassifier()</pre></div></div></div><div class=\"sk-serial\"><div class=\"sk-item\"><div class=\"sk-estimator sk-toggleable\"><input class=\"sk-toggleable__control sk-hidden--visually\" id=\"sk-estimator-id-87\" type=\"checkbox\" ><label for=\"sk-estimator-id-87\" class=\"sk-toggleable__label sk-toggleable__label-arrow\">DecisionTreeClassifier</label><div class=\"sk-toggleable__content\"><pre>DecisionTreeClassifier()</pre></div></div></div></div></div></div></div></div></div></div></div></div>"
      ],
      "text/plain": [
       "Pipeline(steps=[('trf1',\n",
       "                 ColumnTransformer(remainder='passthrough',\n",
       "                                   transformers=[('orde_prodName_month_day',\n",
       "                                                  OrdinalEncoder(handle_unknown='use_encoded_value',\n",
       "                                                                 unknown_value=100),\n",
       "                                                  [0, 1, 2])])),\n",
       "                ('trf2',\n",
       "                 ColumnTransformer(transformers=[('scale', MinMaxScaler(),\n",
       "                                                  slice(0, 7, None))])),\n",
       "                ('trf3',\n",
       "                 BaggingClassifier(base_estimator=DecisionTreeClassifier(),\n",
       "                                   max_samples=0.25, n_estimators=500,\n",
       "                                   random_state=42))])"
      ]
     },
     "execution_count": 240,
     "metadata": {},
     "output_type": "execute_result"
    }
   ],
   "source": [
    "pipe_m3_x.fit(X_train,y_train)"
   ]
  },
  {
   "cell_type": "code",
   "execution_count": 241,
   "id": "322f2ef2",
   "metadata": {},
   "outputs": [
    {
     "data": {
      "text/plain": [
       "{'trf1': ColumnTransformer(remainder='passthrough',\n",
       "                   transformers=[('orde_prodName_month_day',\n",
       "                                  OrdinalEncoder(handle_unknown='use_encoded_value',\n",
       "                                                 unknown_value=100),\n",
       "                                  [0, 1, 2])]),\n",
       " 'trf2': ColumnTransformer(transformers=[('scale', MinMaxScaler(), slice(0, 7, None))]),\n",
       " 'trf3': BaggingClassifier(base_estimator=DecisionTreeClassifier(), max_samples=0.25,\n",
       "                   n_estimators=500, random_state=42)}"
      ]
     },
     "execution_count": 241,
     "metadata": {},
     "output_type": "execute_result"
    }
   ],
   "source": [
    "pipe_m3_x.named_steps"
   ]
  },
  {
   "cell_type": "code",
   "execution_count": null,
   "id": "51b4fc43",
   "metadata": {},
   "outputs": [],
   "source": []
  },
  {
   "cell_type": "code",
   "execution_count": 242,
   "id": "5af61065",
   "metadata": {},
   "outputs": [],
   "source": [
    "y_pred = pipe_m3_x.predict(X_test)"
   ]
  },
  {
   "cell_type": "code",
   "execution_count": 243,
   "id": "aa48c4e5",
   "metadata": {},
   "outputs": [
    {
     "data": {
      "text/plain": [
       "array([1., 1.])"
      ]
     },
     "execution_count": 243,
     "metadata": {},
     "output_type": "execute_result"
    }
   ],
   "source": [
    "y_pred"
   ]
  },
  {
   "cell_type": "code",
   "execution_count": 244,
   "id": "431c95b7",
   "metadata": {},
   "outputs": [],
   "source": [
    "y_test=trf4.fit_transform(pd.DataFrame(y_test)).reshape(1,len(y_test))[0]"
   ]
  },
  {
   "cell_type": "code",
   "execution_count": 245,
   "id": "b4d50a6f",
   "metadata": {},
   "outputs": [
    {
     "name": "stdout",
     "output_type": "stream",
     "text": [
      "accuracy :  0.0\n",
      "precision :  0.0\n",
      "f1 score :  0.0\n",
      "matthews cor coef :  0.0\n"
     ]
    }
   ],
   "source": [
    "from sklearn.metrics import accuracy_score\n",
    "from sklearn.metrics import matthews_corrcoef\n",
    "from sklearn.metrics import precision_score\n",
    "from sklearn.metrics import f1_score\n",
    "\n",
    "\n",
    "print(\"accuracy : \",accuracy_score(y_test,y_pred))\n",
    "print(\"precision : \",precision_score(y_test,y_pred))\n",
    "print(\"f1 score : \",f1_score(y_test,y_pred))\n",
    "print(\"matthews cor coef : \",matthews_corrcoef(y_test,y_pred))\n"
   ]
  },
  {
   "cell_type": "code",
   "execution_count": 246,
   "id": "77221cab",
   "metadata": {},
   "outputs": [],
   "source": [
    "import pickle \n",
    "pickle.dump(pipe_m3_x,open('pipe_m3_x_prodwise_cliname_classif.pkl','wb'))\n",
    "pickle.dump(trf4_general,open('pipe_m3_y_prodwise_cliname_classif.pkl','wb'))\n",
    "\n"
   ]
  },
  {
   "cell_type": "code",
   "execution_count": 247,
   "id": "e0bf1260",
   "metadata": {},
   "outputs": [
    {
     "name": "stderr",
     "output_type": "stream",
     "text": [
      "/home/neelchoksi19bce0990/.local/lib/python3.9/site-packages/sklearn/base.py:450: UserWarning: X does not have valid feature names, but OrdinalEncoder was fitted with feature names\n",
      "  warnings.warn(\n"
     ]
    },
    {
     "data": {
      "text/plain": [
       "array([1.])"
      ]
     },
     "execution_count": 247,
     "metadata": {},
     "output_type": "execute_result"
    }
   ],
   "source": [
    "pipe_m3_x_loaded = pickle.load(open('pipe_m3_x_prodwise_cliname_classif.pkl','rb'))\n",
    "pipe_m3_y_loaded = pickle.load(open('pipe_m3_y_prodwise_cliname_classif.pkl','rb'))\n",
    "\n",
    "test_pipe_m3_input = np.array(['prodsku99','03','4',10,6000.0,0.8,0.9,988.0],dtype=object).reshape(1,8)\n",
    "pipe_m3_x_loaded.predict(test_pipe_m3_input)"
   ]
  },
  {
   "cell_type": "code",
   "execution_count": 248,
   "id": "16a9e18e",
   "metadata": {},
   "outputs": [
    {
     "name": "stderr",
     "output_type": "stream",
     "text": [
      "/home/neelchoksi19bce0990/.local/lib/python3.9/site-packages/sklearn/base.py:450: UserWarning: X does not have valid feature names, but OrdinalEncoder was fitted with feature names\n",
      "  warnings.warn(\n"
     ]
    },
    {
     "data": {
      "text/plain": [
       "array([[1.]])"
      ]
     },
     "execution_count": 248,
     "metadata": {},
     "output_type": "execute_result"
    }
   ],
   "source": [
    "a=pipe_m3_x_loaded.predict(test_pipe_m3_input).reshape(1,-1)\n",
    "a"
   ]
  },
  {
   "cell_type": "code",
   "execution_count": 250,
   "id": "a4748fbe",
   "metadata": {},
   "outputs": [
    {
     "data": {
      "text/plain": [
       "'company1'"
      ]
     },
     "execution_count": 250,
     "metadata": {},
     "output_type": "execute_result"
    }
   ],
   "source": [
    "pipe_m3_y_loaded.inverse_transform(a)[0][0]"
   ]
  },
  {
   "cell_type": "code",
   "execution_count": 117,
   "id": "70c0cc14",
   "metadata": {},
   "outputs": [],
   "source": [
    "import pickle\n",
    "clientName_oe_loaded = pickle.load(open('clientName_oe.pkl','rb'))"
   ]
  },
  {
   "cell_type": "code",
   "execution_count": 118,
   "id": "0fcd16e9",
   "metadata": {},
   "outputs": [
    {
     "data": {
      "text/plain": [
       "orderQty         int64\n",
       "orderTotal     float64\n",
       "cliAvgSenti    float64\n",
       "spAvgSenti     float64\n",
       "sales          float64\n",
       "clientName       int64\n",
       "prodName         int64\n",
       "month            int64\n",
       "day              int64\n",
       "dtype: object"
      ]
     },
     "execution_count": 118,
     "metadata": {},
     "output_type": "execute_result"
    }
   ],
   "source": [
    "prodwise_df_1.dtypes"
   ]
  },
  {
   "cell_type": "code",
   "execution_count": 119,
   "id": "6bdaf03d",
   "metadata": {},
   "outputs": [],
   "source": [
    "#model training \n",
    "from sklearn.ensemble import BaggingClassifier\n",
    "from sklearn.tree import DecisionTreeClassifier\n",
    "m3 = BaggingClassifier(\n",
    "    base_estimator = DecisionTreeClassifier(),\n",
    "    n_estimators = 500,\n",
    "    max_samples = 0.25,\n",
    "    bootstrap = True,\n",
    "    random_state = 42\n",
    ")"
   ]
  },
  {
   "cell_type": "code",
   "execution_count": 120,
   "id": "2d12947a",
   "metadata": {},
   "outputs": [
    {
     "data": {
      "text/html": [
       "<style>#sk-container-id-8 {color: black;background-color: white;}#sk-container-id-8 pre{padding: 0;}#sk-container-id-8 div.sk-toggleable {background-color: white;}#sk-container-id-8 label.sk-toggleable__label {cursor: pointer;display: block;width: 100%;margin-bottom: 0;padding: 0.3em;box-sizing: border-box;text-align: center;}#sk-container-id-8 label.sk-toggleable__label-arrow:before {content: \"▸\";float: left;margin-right: 0.25em;color: #696969;}#sk-container-id-8 label.sk-toggleable__label-arrow:hover:before {color: black;}#sk-container-id-8 div.sk-estimator:hover label.sk-toggleable__label-arrow:before {color: black;}#sk-container-id-8 div.sk-toggleable__content {max-height: 0;max-width: 0;overflow: hidden;text-align: left;background-color: #f0f8ff;}#sk-container-id-8 div.sk-toggleable__content pre {margin: 0.2em;color: black;border-radius: 0.25em;background-color: #f0f8ff;}#sk-container-id-8 input.sk-toggleable__control:checked~div.sk-toggleable__content {max-height: 200px;max-width: 100%;overflow: auto;}#sk-container-id-8 input.sk-toggleable__control:checked~label.sk-toggleable__label-arrow:before {content: \"▾\";}#sk-container-id-8 div.sk-estimator input.sk-toggleable__control:checked~label.sk-toggleable__label {background-color: #d4ebff;}#sk-container-id-8 div.sk-label input.sk-toggleable__control:checked~label.sk-toggleable__label {background-color: #d4ebff;}#sk-container-id-8 input.sk-hidden--visually {border: 0;clip: rect(1px 1px 1px 1px);clip: rect(1px, 1px, 1px, 1px);height: 1px;margin: -1px;overflow: hidden;padding: 0;position: absolute;width: 1px;}#sk-container-id-8 div.sk-estimator {font-family: monospace;background-color: #f0f8ff;border: 1px dotted black;border-radius: 0.25em;box-sizing: border-box;margin-bottom: 0.5em;}#sk-container-id-8 div.sk-estimator:hover {background-color: #d4ebff;}#sk-container-id-8 div.sk-parallel-item::after {content: \"\";width: 100%;border-bottom: 1px solid gray;flex-grow: 1;}#sk-container-id-8 div.sk-label:hover label.sk-toggleable__label {background-color: #d4ebff;}#sk-container-id-8 div.sk-serial::before {content: \"\";position: absolute;border-left: 1px solid gray;box-sizing: border-box;top: 0;bottom: 0;left: 50%;z-index: 0;}#sk-container-id-8 div.sk-serial {display: flex;flex-direction: column;align-items: center;background-color: white;padding-right: 0.2em;padding-left: 0.2em;position: relative;}#sk-container-id-8 div.sk-item {position: relative;z-index: 1;}#sk-container-id-8 div.sk-parallel {display: flex;align-items: stretch;justify-content: center;background-color: white;position: relative;}#sk-container-id-8 div.sk-item::before, #sk-container-id-8 div.sk-parallel-item::before {content: \"\";position: absolute;border-left: 1px solid gray;box-sizing: border-box;top: 0;bottom: 0;left: 50%;z-index: -1;}#sk-container-id-8 div.sk-parallel-item {display: flex;flex-direction: column;z-index: 1;position: relative;background-color: white;}#sk-container-id-8 div.sk-parallel-item:first-child::after {align-self: flex-end;width: 50%;}#sk-container-id-8 div.sk-parallel-item:last-child::after {align-self: flex-start;width: 50%;}#sk-container-id-8 div.sk-parallel-item:only-child::after {width: 0;}#sk-container-id-8 div.sk-dashed-wrapped {border: 1px dashed gray;margin: 0 0.4em 0.5em 0.4em;box-sizing: border-box;padding-bottom: 0.4em;background-color: white;}#sk-container-id-8 div.sk-label label {font-family: monospace;font-weight: bold;display: inline-block;line-height: 1.2em;}#sk-container-id-8 div.sk-label-container {text-align: center;}#sk-container-id-8 div.sk-container {/* jupyter's `normalize.less` sets `[hidden] { display: none; }` but bootstrap.min.css set `[hidden] { display: none !important; }` so we also need the `!important` here to be able to override the default hidden behavior on the sphinx rendered scikit-learn.org. See: https://github.com/scikit-learn/scikit-learn/issues/21755 */display: inline-block !important;position: relative;}#sk-container-id-8 div.sk-text-repr-fallback {display: none;}</style><div id=\"sk-container-id-8\" class=\"sk-top-container\"><div class=\"sk-text-repr-fallback\"><pre>BaggingClassifier(base_estimator=DecisionTreeClassifier(), max_samples=0.25,\n",
       "                  n_estimators=500, random_state=42)</pre><b>In a Jupyter environment, please rerun this cell to show the HTML representation or trust the notebook. <br />On GitHub, the HTML representation is unable to render, please try loading this page with nbviewer.org.</b></div><div class=\"sk-container\" hidden><div class=\"sk-item sk-dashed-wrapped\"><div class=\"sk-label-container\"><div class=\"sk-label sk-toggleable\"><input class=\"sk-toggleable__control sk-hidden--visually\" id=\"sk-estimator-id-8\" type=\"checkbox\" ><label for=\"sk-estimator-id-8\" class=\"sk-toggleable__label sk-toggleable__label-arrow\">BaggingClassifier</label><div class=\"sk-toggleable__content\"><pre>BaggingClassifier(base_estimator=DecisionTreeClassifier(), max_samples=0.25,\n",
       "                  n_estimators=500, random_state=42)</pre></div></div></div><div class=\"sk-parallel\"><div class=\"sk-parallel-item\"><div class=\"sk-item\"><div class=\"sk-label-container\"><div class=\"sk-label sk-toggleable\"><input class=\"sk-toggleable__control sk-hidden--visually\" id=\"sk-estimator-id-9\" type=\"checkbox\" ><label for=\"sk-estimator-id-9\" class=\"sk-toggleable__label sk-toggleable__label-arrow\">base_estimator: DecisionTreeClassifier</label><div class=\"sk-toggleable__content\"><pre>DecisionTreeClassifier()</pre></div></div></div><div class=\"sk-serial\"><div class=\"sk-item\"><div class=\"sk-estimator sk-toggleable\"><input class=\"sk-toggleable__control sk-hidden--visually\" id=\"sk-estimator-id-10\" type=\"checkbox\" ><label for=\"sk-estimator-id-10\" class=\"sk-toggleable__label sk-toggleable__label-arrow\">DecisionTreeClassifier</label><div class=\"sk-toggleable__content\"><pre>DecisionTreeClassifier()</pre></div></div></div></div></div></div></div></div></div></div>"
      ],
      "text/plain": [
       "BaggingClassifier(base_estimator=DecisionTreeClassifier(), max_samples=0.25,\n",
       "                  n_estimators=500, random_state=42)"
      ]
     },
     "execution_count": 120,
     "metadata": {},
     "output_type": "execute_result"
    }
   ],
   "source": [
    "m3.fit(prodwise_df_1.drop(columns=['clientName']),prodwise_df_1['clientName'])"
   ]
  },
  {
   "cell_type": "code",
   "execution_count": 121,
   "id": "2fdf5e03",
   "metadata": {},
   "outputs": [],
   "source": [
    "import pickle\n",
    "pickle.dump(m3,open('m3.pkl','wb'))"
   ]
  },
  {
   "cell_type": "code",
   "execution_count": 122,
   "id": "898a871b",
   "metadata": {},
   "outputs": [],
   "source": [
    "m3_loaded = pickle.load(open('m3.pkl','rb'))"
   ]
  },
  {
   "cell_type": "code",
   "execution_count": 123,
   "id": "50134957",
   "metadata": {},
   "outputs": [
    {
     "data": {
      "text/html": [
       "<div>\n",
       "<style scoped>\n",
       "    .dataframe tbody tr th:only-of-type {\n",
       "        vertical-align: middle;\n",
       "    }\n",
       "\n",
       "    .dataframe tbody tr th {\n",
       "        vertical-align: top;\n",
       "    }\n",
       "\n",
       "    .dataframe thead th {\n",
       "        text-align: right;\n",
       "    }\n",
       "</style>\n",
       "<table border=\"1\" class=\"dataframe\">\n",
       "  <thead>\n",
       "    <tr style=\"text-align: right;\">\n",
       "      <th></th>\n",
       "      <th>orderQty</th>\n",
       "      <th>orderTotal</th>\n",
       "      <th>cliAvgSenti</th>\n",
       "      <th>spAvgSenti</th>\n",
       "      <th>sales</th>\n",
       "      <th>prodName</th>\n",
       "      <th>month</th>\n",
       "      <th>day</th>\n",
       "    </tr>\n",
       "  </thead>\n",
       "  <tbody>\n",
       "    <tr>\n",
       "      <th>0</th>\n",
       "      <td>4</td>\n",
       "      <td>5000.0</td>\n",
       "      <td>0.6</td>\n",
       "      <td>0.7</td>\n",
       "      <td>8000.0</td>\n",
       "      <td>prodsku20</td>\n",
       "      <td>05</td>\n",
       "      <td>3</td>\n",
       "    </tr>\n",
       "  </tbody>\n",
       "</table>\n",
       "</div>"
      ],
      "text/plain": [
       "  orderQty orderTotal cliAvgSenti spAvgSenti   sales   prodName month day\n",
       "0        4     5000.0         0.6        0.7  8000.0  prodsku20    05   3"
      ]
     },
     "execution_count": 123,
     "metadata": {},
     "output_type": "execute_result"
    }
   ],
   "source": [
    "test_m3_input = np.array([int(4),float(5000),float(0.6),float(0.7),float(8000),'prodsku20','05','3']).reshape(1,8)\n",
    "test_m3_input_df = pd.DataFrame(test_m3_input,columns=['orderQty','orderTotal','cliAvgSenti','spAvgSenti','sales','prodName','month','day'])\n",
    "test_m3_input_df"
   ]
  },
  {
   "cell_type": "code",
   "execution_count": 124,
   "id": "9833f2fc",
   "metadata": {},
   "outputs": [
    {
     "data": {
      "text/plain": [
       "orderQty       object\n",
       "orderTotal     object\n",
       "cliAvgSenti    object\n",
       "spAvgSenti     object\n",
       "sales          object\n",
       "prodName       object\n",
       "month          object\n",
       "day            object\n",
       "dtype: object"
      ]
     },
     "execution_count": 124,
     "metadata": {},
     "output_type": "execute_result"
    }
   ],
   "source": [
    "test_m3_input_df.dtypes"
   ]
  },
  {
   "cell_type": "code",
   "execution_count": 125,
   "id": "dfc0bdba",
   "metadata": {},
   "outputs": [
    {
     "data": {
      "text/html": [
       "<div>\n",
       "<style scoped>\n",
       "    .dataframe tbody tr th:only-of-type {\n",
       "        vertical-align: middle;\n",
       "    }\n",
       "\n",
       "    .dataframe tbody tr th {\n",
       "        vertical-align: top;\n",
       "    }\n",
       "\n",
       "    .dataframe thead th {\n",
       "        text-align: right;\n",
       "    }\n",
       "</style>\n",
       "<table border=\"1\" class=\"dataframe\">\n",
       "  <thead>\n",
       "    <tr style=\"text-align: right;\">\n",
       "      <th></th>\n",
       "      <th>orderQty</th>\n",
       "      <th>orderTotal</th>\n",
       "      <th>cliAvgSenti</th>\n",
       "      <th>spAvgSenti</th>\n",
       "      <th>sales</th>\n",
       "      <th>prodName</th>\n",
       "      <th>month</th>\n",
       "      <th>day</th>\n",
       "    </tr>\n",
       "  </thead>\n",
       "  <tbody>\n",
       "    <tr>\n",
       "      <th>0</th>\n",
       "      <td>4</td>\n",
       "      <td>5000.0</td>\n",
       "      <td>0.6</td>\n",
       "      <td>0.7</td>\n",
       "      <td>8000.0</td>\n",
       "      <td>2</td>\n",
       "      <td>4</td>\n",
       "      <td>3</td>\n",
       "    </tr>\n",
       "  </tbody>\n",
       "</table>\n",
       "</div>"
      ],
      "text/plain": [
       "  orderQty orderTotal cliAvgSenti spAvgSenti   sales  prodName  month  day\n",
       "0        4     5000.0         0.6        0.7  8000.0         2      4    3"
      ]
     },
     "execution_count": 125,
     "metadata": {},
     "output_type": "execute_result"
    }
   ],
   "source": [
    "test_m3_input_df_prodName = pd.DataFrame(prodName_oe_loaded.transform(test_m3_input_df['prodName']),columns=['prodName']) \n",
    "test_m3_input_df_month = pd.DataFrame(month_oe_loaded.transform(test_m3_input_df['month']),columns=['month'])\n",
    "test_m3_input_df_day = pd.DataFrame(day_oe_loaded.transform(test_m3_input_df['day']),columns=['day'])\n",
    "test_m3_input_df_transformed =pd.concat([test_m3_input_df.drop(columns=['prodName','month','day']),test_m3_input_df_prodName,test_m3_input_df_month,test_m3_input_df_day],axis=1)\n",
    "test_m3_input_df_transformed"
   ]
  },
  {
   "cell_type": "code",
   "execution_count": 126,
   "id": "a4bcdf39",
   "metadata": {},
   "outputs": [
    {
     "data": {
      "text/plain": [
       "orderQty       object\n",
       "orderTotal     object\n",
       "cliAvgSenti    object\n",
       "spAvgSenti     object\n",
       "sales          object\n",
       "prodName        int64\n",
       "month           int64\n",
       "day             int64\n",
       "dtype: object"
      ]
     },
     "execution_count": 126,
     "metadata": {},
     "output_type": "execute_result"
    }
   ],
   "source": [
    "test_m3_input_df_transformed.dtypes"
   ]
  },
  {
   "cell_type": "code",
   "execution_count": 127,
   "id": "2323be0e",
   "metadata": {},
   "outputs": [],
   "source": [
    "test_m3_input_df_transformed['orderQty'] = test_m3_input_df_transformed['orderQty'].astype(int)\n",
    "test_m3_input_df_transformed['orderTotal'] = test_m3_input_df_transformed['orderTotal'].astype(float)\n",
    "test_m3_input_df_transformed['cliAvgSenti'] = test_m3_input_df_transformed['cliAvgSenti'].astype(float)\n",
    "test_m3_input_df_transformed['spAvgSenti'] = test_m3_input_df_transformed['spAvgSenti'].astype(float)\n",
    "test_m3_input_df_transformed['sales'] = test_m3_input_df_transformed['sales'].astype(float)"
   ]
  },
  {
   "cell_type": "code",
   "execution_count": 128,
   "id": "b59effeb",
   "metadata": {},
   "outputs": [
    {
     "data": {
      "text/plain": [
       "orderQty         int64\n",
       "orderTotal     float64\n",
       "cliAvgSenti    float64\n",
       "spAvgSenti     float64\n",
       "sales          float64\n",
       "prodName         int64\n",
       "month            int64\n",
       "day              int64\n",
       "dtype: object"
      ]
     },
     "execution_count": 128,
     "metadata": {},
     "output_type": "execute_result"
    }
   ],
   "source": [
    "test_m3_input_df_transformed.dtypes"
   ]
  },
  {
   "cell_type": "code",
   "execution_count": 129,
   "id": "ac3f661d",
   "metadata": {},
   "outputs": [
    {
     "data": {
      "text/plain": [
       "'JJ Electronics'"
      ]
     },
     "execution_count": 129,
     "metadata": {},
     "output_type": "execute_result"
    }
   ],
   "source": [
    "clientName_oe_loaded.inverse_transform(m3_loaded.predict(test_m3_input_df_transformed))[0]"
   ]
  },
  {
   "cell_type": "code",
   "execution_count": null,
   "id": "f874aab5",
   "metadata": {},
   "outputs": [],
   "source": []
  },
  {
   "cell_type": "code",
   "execution_count": null,
   "id": "d8a8f7d5",
   "metadata": {},
   "outputs": [],
   "source": []
  },
  {
   "cell_type": "code",
   "execution_count": null,
   "id": "28cc8e3f",
   "metadata": {},
   "outputs": [],
   "source": []
  },
  {
   "cell_type": "code",
   "execution_count": 173,
   "id": "57fa31fc",
   "metadata": {},
   "outputs": [],
   "source": [
    "# oe_try = OrdinalEncoder(handle_unknown=\"use_encoded_value\",unknown_value=100)"
   ]
  },
  {
   "cell_type": "code",
   "execution_count": 175,
   "id": "3f2332cb",
   "metadata": {},
   "outputs": [
    {
     "data": {
      "text/plain": [
       "array([[0.],\n",
       "       [1.],\n",
       "       [2.]])"
      ]
     },
     "execution_count": 175,
     "metadata": {},
     "output_type": "execute_result"
    }
   ],
   "source": [
    "# oe_try.fit_transform(pd.DataFrame(['CLi1','Cli2','Cli3']))"
   ]
  },
  {
   "cell_type": "code",
   "execution_count": 176,
   "id": "b9ff12e1",
   "metadata": {},
   "outputs": [
    {
     "data": {
      "text/plain": [
       "array([['CLi1']], dtype=object)"
      ]
     },
     "execution_count": 176,
     "metadata": {},
     "output_type": "execute_result"
    }
   ],
   "source": [
    "# oe_try.inverse_transform([[0.]])"
   ]
  },
  {
   "cell_type": "markdown",
   "id": "fb11021a",
   "metadata": {},
   "source": [
    "# m4 - predict productwise product"
   ]
  },
  {
   "cell_type": "code",
   "execution_count": null,
   "id": "ba07d0dd",
   "metadata": {},
   "outputs": [],
   "source": [
    "#create pipeline \n",
    "#train model using pipeline\n",
    "#export m1_pipeline \n",
    "#import m1_pipeline \n",
    "# make predict fuction for m1_pipeline"
   ]
  },
  {
   "cell_type": "code",
   "execution_count": 130,
   "id": "b379889b",
   "metadata": {},
   "outputs": [
    {
     "data": {
      "text/html": [
       "<div>\n",
       "<style scoped>\n",
       "    .dataframe tbody tr th:only-of-type {\n",
       "        vertical-align: middle;\n",
       "    }\n",
       "\n",
       "    .dataframe tbody tr th {\n",
       "        vertical-align: top;\n",
       "    }\n",
       "\n",
       "    .dataframe thead th {\n",
       "        text-align: right;\n",
       "    }\n",
       "</style>\n",
       "<table border=\"1\" class=\"dataframe\">\n",
       "  <thead>\n",
       "    <tr style=\"text-align: right;\">\n",
       "      <th></th>\n",
       "      <th>orderQty</th>\n",
       "      <th>orderTotal</th>\n",
       "      <th>cliAvgSenti</th>\n",
       "      <th>spAvgSenti</th>\n",
       "      <th>sales</th>\n",
       "      <th>clientName</th>\n",
       "      <th>prodName</th>\n",
       "      <th>month</th>\n",
       "      <th>day</th>\n",
       "    </tr>\n",
       "  </thead>\n",
       "  <tbody>\n",
       "    <tr>\n",
       "      <th>0</th>\n",
       "      <td>4</td>\n",
       "      <td>4857.0</td>\n",
       "      <td>0.5</td>\n",
       "      <td>1.0</td>\n",
       "      <td>988.0</td>\n",
       "      <td>1</td>\n",
       "      <td>3</td>\n",
       "      <td>1</td>\n",
       "      <td>6</td>\n",
       "    </tr>\n",
       "    <tr>\n",
       "      <th>1</th>\n",
       "      <td>4</td>\n",
       "      <td>4857.0</td>\n",
       "      <td>0.5</td>\n",
       "      <td>1.0</td>\n",
       "      <td>1200.0</td>\n",
       "      <td>1</td>\n",
       "      <td>2</td>\n",
       "      <td>1</td>\n",
       "      <td>6</td>\n",
       "    </tr>\n",
       "    <tr>\n",
       "      <th>2</th>\n",
       "      <td>4</td>\n",
       "      <td>4857.0</td>\n",
       "      <td>0.5</td>\n",
       "      <td>1.0</td>\n",
       "      <td>2400.0</td>\n",
       "      <td>1</td>\n",
       "      <td>2</td>\n",
       "      <td>1</td>\n",
       "      <td>6</td>\n",
       "    </tr>\n",
       "    <tr>\n",
       "      <th>3</th>\n",
       "      <td>5</td>\n",
       "      <td>27.0</td>\n",
       "      <td>0.5</td>\n",
       "      <td>1.0</td>\n",
       "      <td>25.0</td>\n",
       "      <td>1</td>\n",
       "      <td>0</td>\n",
       "      <td>0</td>\n",
       "      <td>0</td>\n",
       "    </tr>\n",
       "    <tr>\n",
       "      <th>4</th>\n",
       "      <td>1</td>\n",
       "      <td>1077.0</td>\n",
       "      <td>0.5</td>\n",
       "      <td>1.0</td>\n",
       "      <td>988.0</td>\n",
       "      <td>1</td>\n",
       "      <td>3</td>\n",
       "      <td>1</td>\n",
       "      <td>6</td>\n",
       "    </tr>\n",
       "  </tbody>\n",
       "</table>\n",
       "</div>"
      ],
      "text/plain": [
       "   orderQty  orderTotal  cliAvgSenti  spAvgSenti   sales  clientName  \\\n",
       "0         4      4857.0          0.5         1.0   988.0           1   \n",
       "1         4      4857.0          0.5         1.0  1200.0           1   \n",
       "2         4      4857.0          0.5         1.0  2400.0           1   \n",
       "3         5        27.0          0.5         1.0    25.0           1   \n",
       "4         1      1077.0          0.5         1.0   988.0           1   \n",
       "\n",
       "   prodName  month  day  \n",
       "0         3      1    6  \n",
       "1         2      1    6  \n",
       "2         2      1    6  \n",
       "3         0      0    0  \n",
       "4         3      1    6  "
      ]
     },
     "execution_count": 130,
     "metadata": {},
     "output_type": "execute_result"
    }
   ],
   "source": [
    "prodwise_df_1.head()"
   ]
  },
  {
   "cell_type": "code",
   "execution_count": 131,
   "id": "dc11c22e",
   "metadata": {},
   "outputs": [
    {
     "data": {
      "text/plain": [
       "orderQty         int64\n",
       "orderTotal     float64\n",
       "cliAvgSenti    float64\n",
       "spAvgSenti     float64\n",
       "sales          float64\n",
       "clientName       int64\n",
       "prodName         int64\n",
       "month            int64\n",
       "day              int64\n",
       "dtype: object"
      ]
     },
     "execution_count": 131,
     "metadata": {},
     "output_type": "execute_result"
    }
   ],
   "source": [
    "prodwise_df_1.dtypes"
   ]
  },
  {
   "cell_type": "code",
   "execution_count": 132,
   "id": "7b25557c",
   "metadata": {},
   "outputs": [],
   "source": [
    "X_train,X_test,y_train,y_test = train_test_split(prodwise_df_1.drop(columns=['prodName']),\n",
    "                                                    prodwise_df_1['prodName'],\n",
    "                                                 test_size = 0.2,\n",
    "                                                 random_state = 42\n",
    "                                                )"
   ]
  },
  {
   "cell_type": "code",
   "execution_count": 133,
   "id": "006bc2de",
   "metadata": {},
   "outputs": [
    {
     "data": {
      "text/html": [
       "<div>\n",
       "<style scoped>\n",
       "    .dataframe tbody tr th:only-of-type {\n",
       "        vertical-align: middle;\n",
       "    }\n",
       "\n",
       "    .dataframe tbody tr th {\n",
       "        vertical-align: top;\n",
       "    }\n",
       "\n",
       "    .dataframe thead th {\n",
       "        text-align: right;\n",
       "    }\n",
       "</style>\n",
       "<table border=\"1\" class=\"dataframe\">\n",
       "  <thead>\n",
       "    <tr style=\"text-align: right;\">\n",
       "      <th></th>\n",
       "      <th>orderQty</th>\n",
       "      <th>orderTotal</th>\n",
       "      <th>cliAvgSenti</th>\n",
       "      <th>spAvgSenti</th>\n",
       "      <th>sales</th>\n",
       "      <th>clientName</th>\n",
       "      <th>month</th>\n",
       "      <th>day</th>\n",
       "    </tr>\n",
       "  </thead>\n",
       "  <tbody>\n",
       "    <tr>\n",
       "      <th>5</th>\n",
       "      <td>2</td>\n",
       "      <td>8402.0</td>\n",
       "      <td>1.0</td>\n",
       "      <td>1.0</td>\n",
       "      <td>8002.0</td>\n",
       "      <td>2</td>\n",
       "      <td>1</td>\n",
       "      <td>6</td>\n",
       "    </tr>\n",
       "    <tr>\n",
       "      <th>0</th>\n",
       "      <td>4</td>\n",
       "      <td>4857.0</td>\n",
       "      <td>0.5</td>\n",
       "      <td>1.0</td>\n",
       "      <td>988.0</td>\n",
       "      <td>1</td>\n",
       "      <td>1</td>\n",
       "      <td>6</td>\n",
       "    </tr>\n",
       "    <tr>\n",
       "      <th>8</th>\n",
       "      <td>6</td>\n",
       "      <td>22265.0</td>\n",
       "      <td>0.0</td>\n",
       "      <td>1.0</td>\n",
       "      <td>1200.0</td>\n",
       "      <td>0</td>\n",
       "      <td>2</td>\n",
       "      <td>4</td>\n",
       "    </tr>\n",
       "    <tr>\n",
       "      <th>2</th>\n",
       "      <td>4</td>\n",
       "      <td>4857.0</td>\n",
       "      <td>0.5</td>\n",
       "      <td>1.0</td>\n",
       "      <td>2400.0</td>\n",
       "      <td>1</td>\n",
       "      <td>1</td>\n",
       "      <td>6</td>\n",
       "    </tr>\n",
       "    <tr>\n",
       "      <th>4</th>\n",
       "      <td>1</td>\n",
       "      <td>1077.0</td>\n",
       "      <td>0.5</td>\n",
       "      <td>1.0</td>\n",
       "      <td>988.0</td>\n",
       "      <td>1</td>\n",
       "      <td>1</td>\n",
       "      <td>6</td>\n",
       "    </tr>\n",
       "  </tbody>\n",
       "</table>\n",
       "</div>"
      ],
      "text/plain": [
       "   orderQty  orderTotal  cliAvgSenti  spAvgSenti   sales  clientName  month  \\\n",
       "5         2      8402.0          1.0         1.0  8002.0           2      1   \n",
       "0         4      4857.0          0.5         1.0   988.0           1      1   \n",
       "8         6     22265.0          0.0         1.0  1200.0           0      2   \n",
       "2         4      4857.0          0.5         1.0  2400.0           1      1   \n",
       "4         1      1077.0          0.5         1.0   988.0           1      1   \n",
       "\n",
       "   day  \n",
       "5    6  \n",
       "0    6  \n",
       "8    4  \n",
       "2    6  \n",
       "4    6  "
      ]
     },
     "execution_count": 133,
     "metadata": {},
     "output_type": "execute_result"
    }
   ],
   "source": [
    "X_train.head()"
   ]
  },
  {
   "cell_type": "code",
   "execution_count": 134,
   "id": "5bfc0969",
   "metadata": {},
   "outputs": [
    {
     "data": {
      "text/plain": [
       "5    1\n",
       "0    3\n",
       "8    2\n",
       "2    2\n",
       "4    3\n",
       "Name: prodName, dtype: int64"
      ]
     },
     "execution_count": 134,
     "metadata": {},
     "output_type": "execute_result"
    }
   ],
   "source": [
    "y_train.head()"
   ]
  },
  {
   "cell_type": "code",
   "execution_count": 256,
   "id": "e4ba3a12",
   "metadata": {},
   "outputs": [],
   "source": [
    "#Ordinal encoding \n",
    "trf1 = ColumnTransformer([\n",
    "    ('orde_clientName_month_day',OrdinalEncoder(handle_unknown=\"use_encoded_value\",unknown_value=100),[0,1,2])\n",
    "],remainder=\"passthrough\")"
   ]
  },
  {
   "cell_type": "code",
   "execution_count": 257,
   "id": "81b61896",
   "metadata": {},
   "outputs": [],
   "source": [
    "#scaling \n",
    "trf2 = ColumnTransformer([\n",
    "    ('scale',MinMaxScaler(),slice(0,7))\n",
    "])"
   ]
  },
  {
   "cell_type": "code",
   "execution_count": 258,
   "id": "da91be84",
   "metadata": {},
   "outputs": [],
   "source": [
    "#model training \n",
    "from sklearn.ensemble import BaggingClassifier\n",
    "from sklearn.tree import DecisionTreeClassifier\n",
    "trf3 = BaggingClassifier(\n",
    "    base_estimator = DecisionTreeClassifier(),\n",
    "    n_estimators = 500,\n",
    "    max_samples = 0.25,\n",
    "    bootstrap = True,\n",
    "    random_state = 42\n",
    ")"
   ]
  },
  {
   "cell_type": "code",
   "execution_count": 259,
   "id": "1e589963",
   "metadata": {},
   "outputs": [],
   "source": [
    "#pipeline \n",
    "pipe_m4_x = Pipeline([\n",
    "    ('trf1',trf1),\n",
    "    ('trf2',trf2),\n",
    "    ('trf3',trf3)\n",
    "])"
   ]
  },
  {
   "cell_type": "code",
   "execution_count": 260,
   "id": "70f25208",
   "metadata": {},
   "outputs": [],
   "source": [
    "#Ordinal encoding \n",
    "trf4 = OrdinalEncoder(handle_unknown=\"use_encoded_value\",unknown_value=100)\n"
   ]
  },
  {
   "cell_type": "code",
   "execution_count": 261,
   "id": "53bdd9ea",
   "metadata": {},
   "outputs": [],
   "source": [
    "trf4_general = OrdinalEncoder(handle_unknown=\"use_encoded_value\",unknown_value=100)"
   ]
  },
  {
   "cell_type": "code",
   "execution_count": 262,
   "id": "a16511d1",
   "metadata": {},
   "outputs": [
    {
     "name": "stdout",
     "output_type": "stream",
     "text": [
      "['prodsku99', 'prodsku20', 'prodsku20', 'desc1', 'prodsku99', 'prodSKU3', 'prodsku20']\n"
     ]
    },
    {
     "data": {
      "text/plain": [
       "array([['prodsku99'],\n",
       "       ['prodsku20'],\n",
       "       ['prodsku20'],\n",
       "       ['desc1'],\n",
       "       ['prodsku99'],\n",
       "       ['prodSKU3'],\n",
       "       ['prodsku20']], dtype='<U9')"
      ]
     },
     "execution_count": 262,
     "metadata": {},
     "output_type": "execute_result"
    }
   ],
   "source": [
    "pred_list = list(prodwise_df_1['prodName'])\n",
    "print(pred_list)\n",
    "ip_pred_list =np.array(pred_list).reshape(len(pred_list),1)\n",
    "ip_pred_list"
   ]
  },
  {
   "cell_type": "code",
   "execution_count": 263,
   "id": "1674c126",
   "metadata": {},
   "outputs": [
    {
     "data": {
      "text/html": [
       "<style>#sk-container-id-10 {color: black;background-color: white;}#sk-container-id-10 pre{padding: 0;}#sk-container-id-10 div.sk-toggleable {background-color: white;}#sk-container-id-10 label.sk-toggleable__label {cursor: pointer;display: block;width: 100%;margin-bottom: 0;padding: 0.3em;box-sizing: border-box;text-align: center;}#sk-container-id-10 label.sk-toggleable__label-arrow:before {content: \"▸\";float: left;margin-right: 0.25em;color: #696969;}#sk-container-id-10 label.sk-toggleable__label-arrow:hover:before {color: black;}#sk-container-id-10 div.sk-estimator:hover label.sk-toggleable__label-arrow:before {color: black;}#sk-container-id-10 div.sk-toggleable__content {max-height: 0;max-width: 0;overflow: hidden;text-align: left;background-color: #f0f8ff;}#sk-container-id-10 div.sk-toggleable__content pre {margin: 0.2em;color: black;border-radius: 0.25em;background-color: #f0f8ff;}#sk-container-id-10 input.sk-toggleable__control:checked~div.sk-toggleable__content {max-height: 200px;max-width: 100%;overflow: auto;}#sk-container-id-10 input.sk-toggleable__control:checked~label.sk-toggleable__label-arrow:before {content: \"▾\";}#sk-container-id-10 div.sk-estimator input.sk-toggleable__control:checked~label.sk-toggleable__label {background-color: #d4ebff;}#sk-container-id-10 div.sk-label input.sk-toggleable__control:checked~label.sk-toggleable__label {background-color: #d4ebff;}#sk-container-id-10 input.sk-hidden--visually {border: 0;clip: rect(1px 1px 1px 1px);clip: rect(1px, 1px, 1px, 1px);height: 1px;margin: -1px;overflow: hidden;padding: 0;position: absolute;width: 1px;}#sk-container-id-10 div.sk-estimator {font-family: monospace;background-color: #f0f8ff;border: 1px dotted black;border-radius: 0.25em;box-sizing: border-box;margin-bottom: 0.5em;}#sk-container-id-10 div.sk-estimator:hover {background-color: #d4ebff;}#sk-container-id-10 div.sk-parallel-item::after {content: \"\";width: 100%;border-bottom: 1px solid gray;flex-grow: 1;}#sk-container-id-10 div.sk-label:hover label.sk-toggleable__label {background-color: #d4ebff;}#sk-container-id-10 div.sk-serial::before {content: \"\";position: absolute;border-left: 1px solid gray;box-sizing: border-box;top: 0;bottom: 0;left: 50%;z-index: 0;}#sk-container-id-10 div.sk-serial {display: flex;flex-direction: column;align-items: center;background-color: white;padding-right: 0.2em;padding-left: 0.2em;position: relative;}#sk-container-id-10 div.sk-item {position: relative;z-index: 1;}#sk-container-id-10 div.sk-parallel {display: flex;align-items: stretch;justify-content: center;background-color: white;position: relative;}#sk-container-id-10 div.sk-item::before, #sk-container-id-10 div.sk-parallel-item::before {content: \"\";position: absolute;border-left: 1px solid gray;box-sizing: border-box;top: 0;bottom: 0;left: 50%;z-index: -1;}#sk-container-id-10 div.sk-parallel-item {display: flex;flex-direction: column;z-index: 1;position: relative;background-color: white;}#sk-container-id-10 div.sk-parallel-item:first-child::after {align-self: flex-end;width: 50%;}#sk-container-id-10 div.sk-parallel-item:last-child::after {align-self: flex-start;width: 50%;}#sk-container-id-10 div.sk-parallel-item:only-child::after {width: 0;}#sk-container-id-10 div.sk-dashed-wrapped {border: 1px dashed gray;margin: 0 0.4em 0.5em 0.4em;box-sizing: border-box;padding-bottom: 0.4em;background-color: white;}#sk-container-id-10 div.sk-label label {font-family: monospace;font-weight: bold;display: inline-block;line-height: 1.2em;}#sk-container-id-10 div.sk-label-container {text-align: center;}#sk-container-id-10 div.sk-container {/* jupyter's `normalize.less` sets `[hidden] { display: none; }` but bootstrap.min.css set `[hidden] { display: none !important; }` so we also need the `!important` here to be able to override the default hidden behavior on the sphinx rendered scikit-learn.org. See: https://github.com/scikit-learn/scikit-learn/issues/21755 */display: inline-block !important;position: relative;}#sk-container-id-10 div.sk-text-repr-fallback {display: none;}</style><div id=\"sk-container-id-10\" class=\"sk-top-container\"><div class=\"sk-text-repr-fallback\"><pre>OrdinalEncoder(handle_unknown=&#x27;use_encoded_value&#x27;, unknown_value=100)</pre><b>In a Jupyter environment, please rerun this cell to show the HTML representation or trust the notebook. <br />On GitHub, the HTML representation is unable to render, please try loading this page with nbviewer.org.</b></div><div class=\"sk-container\" hidden><div class=\"sk-item\"><div class=\"sk-estimator sk-toggleable\"><input class=\"sk-toggleable__control sk-hidden--visually\" id=\"sk-estimator-id-88\" type=\"checkbox\" checked><label for=\"sk-estimator-id-88\" class=\"sk-toggleable__label sk-toggleable__label-arrow\">OrdinalEncoder</label><div class=\"sk-toggleable__content\"><pre>OrdinalEncoder(handle_unknown=&#x27;use_encoded_value&#x27;, unknown_value=100)</pre></div></div></div></div></div>"
      ],
      "text/plain": [
       "OrdinalEncoder(handle_unknown='use_encoded_value', unknown_value=100)"
      ]
     },
     "execution_count": 263,
     "metadata": {},
     "output_type": "execute_result"
    }
   ],
   "source": [
    "trf4_general.fit(ip_pred_list)"
   ]
  },
  {
   "cell_type": "code",
   "execution_count": 264,
   "id": "9f0e32fa",
   "metadata": {},
   "outputs": [],
   "source": [
    "y_train=trf4.fit_transform(pd.DataFrame(y_train))"
   ]
  },
  {
   "cell_type": "code",
   "execution_count": 265,
   "id": "6ee84421",
   "metadata": {},
   "outputs": [
    {
     "name": "stderr",
     "output_type": "stream",
     "text": [
      "/home/neelchoksi19bce0990/.local/lib/python3.9/site-packages/sklearn/ensemble/_bagging.py:760: DataConversionWarning: A column-vector y was passed when a 1d array was expected. Please change the shape of y to (n_samples, ), for example using ravel().\n",
      "  y = column_or_1d(y, warn=True)\n"
     ]
    },
    {
     "data": {
      "text/html": [
       "<style>#sk-container-id-11 {color: black;background-color: white;}#sk-container-id-11 pre{padding: 0;}#sk-container-id-11 div.sk-toggleable {background-color: white;}#sk-container-id-11 label.sk-toggleable__label {cursor: pointer;display: block;width: 100%;margin-bottom: 0;padding: 0.3em;box-sizing: border-box;text-align: center;}#sk-container-id-11 label.sk-toggleable__label-arrow:before {content: \"▸\";float: left;margin-right: 0.25em;color: #696969;}#sk-container-id-11 label.sk-toggleable__label-arrow:hover:before {color: black;}#sk-container-id-11 div.sk-estimator:hover label.sk-toggleable__label-arrow:before {color: black;}#sk-container-id-11 div.sk-toggleable__content {max-height: 0;max-width: 0;overflow: hidden;text-align: left;background-color: #f0f8ff;}#sk-container-id-11 div.sk-toggleable__content pre {margin: 0.2em;color: black;border-radius: 0.25em;background-color: #f0f8ff;}#sk-container-id-11 input.sk-toggleable__control:checked~div.sk-toggleable__content {max-height: 200px;max-width: 100%;overflow: auto;}#sk-container-id-11 input.sk-toggleable__control:checked~label.sk-toggleable__label-arrow:before {content: \"▾\";}#sk-container-id-11 div.sk-estimator input.sk-toggleable__control:checked~label.sk-toggleable__label {background-color: #d4ebff;}#sk-container-id-11 div.sk-label input.sk-toggleable__control:checked~label.sk-toggleable__label {background-color: #d4ebff;}#sk-container-id-11 input.sk-hidden--visually {border: 0;clip: rect(1px 1px 1px 1px);clip: rect(1px, 1px, 1px, 1px);height: 1px;margin: -1px;overflow: hidden;padding: 0;position: absolute;width: 1px;}#sk-container-id-11 div.sk-estimator {font-family: monospace;background-color: #f0f8ff;border: 1px dotted black;border-radius: 0.25em;box-sizing: border-box;margin-bottom: 0.5em;}#sk-container-id-11 div.sk-estimator:hover {background-color: #d4ebff;}#sk-container-id-11 div.sk-parallel-item::after {content: \"\";width: 100%;border-bottom: 1px solid gray;flex-grow: 1;}#sk-container-id-11 div.sk-label:hover label.sk-toggleable__label {background-color: #d4ebff;}#sk-container-id-11 div.sk-serial::before {content: \"\";position: absolute;border-left: 1px solid gray;box-sizing: border-box;top: 0;bottom: 0;left: 50%;z-index: 0;}#sk-container-id-11 div.sk-serial {display: flex;flex-direction: column;align-items: center;background-color: white;padding-right: 0.2em;padding-left: 0.2em;position: relative;}#sk-container-id-11 div.sk-item {position: relative;z-index: 1;}#sk-container-id-11 div.sk-parallel {display: flex;align-items: stretch;justify-content: center;background-color: white;position: relative;}#sk-container-id-11 div.sk-item::before, #sk-container-id-11 div.sk-parallel-item::before {content: \"\";position: absolute;border-left: 1px solid gray;box-sizing: border-box;top: 0;bottom: 0;left: 50%;z-index: -1;}#sk-container-id-11 div.sk-parallel-item {display: flex;flex-direction: column;z-index: 1;position: relative;background-color: white;}#sk-container-id-11 div.sk-parallel-item:first-child::after {align-self: flex-end;width: 50%;}#sk-container-id-11 div.sk-parallel-item:last-child::after {align-self: flex-start;width: 50%;}#sk-container-id-11 div.sk-parallel-item:only-child::after {width: 0;}#sk-container-id-11 div.sk-dashed-wrapped {border: 1px dashed gray;margin: 0 0.4em 0.5em 0.4em;box-sizing: border-box;padding-bottom: 0.4em;background-color: white;}#sk-container-id-11 div.sk-label label {font-family: monospace;font-weight: bold;display: inline-block;line-height: 1.2em;}#sk-container-id-11 div.sk-label-container {text-align: center;}#sk-container-id-11 div.sk-container {/* jupyter's `normalize.less` sets `[hidden] { display: none; }` but bootstrap.min.css set `[hidden] { display: none !important; }` so we also need the `!important` here to be able to override the default hidden behavior on the sphinx rendered scikit-learn.org. See: https://github.com/scikit-learn/scikit-learn/issues/21755 */display: inline-block !important;position: relative;}#sk-container-id-11 div.sk-text-repr-fallback {display: none;}</style><div id=\"sk-container-id-11\" class=\"sk-top-container\"><div class=\"sk-text-repr-fallback\"><pre>Pipeline(steps=[(&#x27;trf1&#x27;,\n",
       "                 ColumnTransformer(remainder=&#x27;passthrough&#x27;,\n",
       "                                   transformers=[(&#x27;orde_clientName_month_day&#x27;,\n",
       "                                                  OrdinalEncoder(handle_unknown=&#x27;use_encoded_value&#x27;,\n",
       "                                                                 unknown_value=100),\n",
       "                                                  [0, 1, 2])])),\n",
       "                (&#x27;trf2&#x27;,\n",
       "                 ColumnTransformer(transformers=[(&#x27;scale&#x27;, MinMaxScaler(),\n",
       "                                                  slice(0, 7, None))])),\n",
       "                (&#x27;trf3&#x27;,\n",
       "                 BaggingClassifier(base_estimator=DecisionTreeClassifier(),\n",
       "                                   max_samples=0.25, n_estimators=500,\n",
       "                                   random_state=42))])</pre><b>In a Jupyter environment, please rerun this cell to show the HTML representation or trust the notebook. <br />On GitHub, the HTML representation is unable to render, please try loading this page with nbviewer.org.</b></div><div class=\"sk-container\" hidden><div class=\"sk-item sk-dashed-wrapped\"><div class=\"sk-label-container\"><div class=\"sk-label sk-toggleable\"><input class=\"sk-toggleable__control sk-hidden--visually\" id=\"sk-estimator-id-89\" type=\"checkbox\" ><label for=\"sk-estimator-id-89\" class=\"sk-toggleable__label sk-toggleable__label-arrow\">Pipeline</label><div class=\"sk-toggleable__content\"><pre>Pipeline(steps=[(&#x27;trf1&#x27;,\n",
       "                 ColumnTransformer(remainder=&#x27;passthrough&#x27;,\n",
       "                                   transformers=[(&#x27;orde_clientName_month_day&#x27;,\n",
       "                                                  OrdinalEncoder(handle_unknown=&#x27;use_encoded_value&#x27;,\n",
       "                                                                 unknown_value=100),\n",
       "                                                  [0, 1, 2])])),\n",
       "                (&#x27;trf2&#x27;,\n",
       "                 ColumnTransformer(transformers=[(&#x27;scale&#x27;, MinMaxScaler(),\n",
       "                                                  slice(0, 7, None))])),\n",
       "                (&#x27;trf3&#x27;,\n",
       "                 BaggingClassifier(base_estimator=DecisionTreeClassifier(),\n",
       "                                   max_samples=0.25, n_estimators=500,\n",
       "                                   random_state=42))])</pre></div></div></div><div class=\"sk-serial\"><div class=\"sk-item sk-dashed-wrapped\"><div class=\"sk-label-container\"><div class=\"sk-label sk-toggleable\"><input class=\"sk-toggleable__control sk-hidden--visually\" id=\"sk-estimator-id-90\" type=\"checkbox\" ><label for=\"sk-estimator-id-90\" class=\"sk-toggleable__label sk-toggleable__label-arrow\">trf1: ColumnTransformer</label><div class=\"sk-toggleable__content\"><pre>ColumnTransformer(remainder=&#x27;passthrough&#x27;,\n",
       "                  transformers=[(&#x27;orde_clientName_month_day&#x27;,\n",
       "                                 OrdinalEncoder(handle_unknown=&#x27;use_encoded_value&#x27;,\n",
       "                                                unknown_value=100),\n",
       "                                 [0, 1, 2])])</pre></div></div></div><div class=\"sk-parallel\"><div class=\"sk-parallel-item\"><div class=\"sk-item\"><div class=\"sk-label-container\"><div class=\"sk-label sk-toggleable\"><input class=\"sk-toggleable__control sk-hidden--visually\" id=\"sk-estimator-id-91\" type=\"checkbox\" ><label for=\"sk-estimator-id-91\" class=\"sk-toggleable__label sk-toggleable__label-arrow\">orde_clientName_month_day</label><div class=\"sk-toggleable__content\"><pre>[0, 1, 2]</pre></div></div></div><div class=\"sk-serial\"><div class=\"sk-item\"><div class=\"sk-estimator sk-toggleable\"><input class=\"sk-toggleable__control sk-hidden--visually\" id=\"sk-estimator-id-92\" type=\"checkbox\" ><label for=\"sk-estimator-id-92\" class=\"sk-toggleable__label sk-toggleable__label-arrow\">OrdinalEncoder</label><div class=\"sk-toggleable__content\"><pre>OrdinalEncoder(handle_unknown=&#x27;use_encoded_value&#x27;, unknown_value=100)</pre></div></div></div></div></div></div><div class=\"sk-parallel-item\"><div class=\"sk-item\"><div class=\"sk-label-container\"><div class=\"sk-label sk-toggleable\"><input class=\"sk-toggleable__control sk-hidden--visually\" id=\"sk-estimator-id-93\" type=\"checkbox\" ><label for=\"sk-estimator-id-93\" class=\"sk-toggleable__label sk-toggleable__label-arrow\">remainder</label><div class=\"sk-toggleable__content\"><pre>[&#x27;orderQty&#x27;, &#x27;orderTotal&#x27;, &#x27;cliAvgSenti&#x27;, &#x27;spAvgSenti&#x27;, &#x27;sales&#x27;]</pre></div></div></div><div class=\"sk-serial\"><div class=\"sk-item\"><div class=\"sk-estimator sk-toggleable\"><input class=\"sk-toggleable__control sk-hidden--visually\" id=\"sk-estimator-id-94\" type=\"checkbox\" ><label for=\"sk-estimator-id-94\" class=\"sk-toggleable__label sk-toggleable__label-arrow\">passthrough</label><div class=\"sk-toggleable__content\"><pre>passthrough</pre></div></div></div></div></div></div></div></div><div class=\"sk-item sk-dashed-wrapped\"><div class=\"sk-label-container\"><div class=\"sk-label sk-toggleable\"><input class=\"sk-toggleable__control sk-hidden--visually\" id=\"sk-estimator-id-95\" type=\"checkbox\" ><label for=\"sk-estimator-id-95\" class=\"sk-toggleable__label sk-toggleable__label-arrow\">trf2: ColumnTransformer</label><div class=\"sk-toggleable__content\"><pre>ColumnTransformer(transformers=[(&#x27;scale&#x27;, MinMaxScaler(), slice(0, 7, None))])</pre></div></div></div><div class=\"sk-parallel\"><div class=\"sk-parallel-item\"><div class=\"sk-item\"><div class=\"sk-label-container\"><div class=\"sk-label sk-toggleable\"><input class=\"sk-toggleable__control sk-hidden--visually\" id=\"sk-estimator-id-96\" type=\"checkbox\" ><label for=\"sk-estimator-id-96\" class=\"sk-toggleable__label sk-toggleable__label-arrow\">scale</label><div class=\"sk-toggleable__content\"><pre>slice(0, 7, None)</pre></div></div></div><div class=\"sk-serial\"><div class=\"sk-item\"><div class=\"sk-estimator sk-toggleable\"><input class=\"sk-toggleable__control sk-hidden--visually\" id=\"sk-estimator-id-97\" type=\"checkbox\" ><label for=\"sk-estimator-id-97\" class=\"sk-toggleable__label sk-toggleable__label-arrow\">MinMaxScaler</label><div class=\"sk-toggleable__content\"><pre>MinMaxScaler()</pre></div></div></div></div></div></div></div></div><div class=\"sk-item sk-dashed-wrapped\"><div class=\"sk-label-container\"><div class=\"sk-label sk-toggleable\"><input class=\"sk-toggleable__control sk-hidden--visually\" id=\"sk-estimator-id-98\" type=\"checkbox\" ><label for=\"sk-estimator-id-98\" class=\"sk-toggleable__label sk-toggleable__label-arrow\">trf3: BaggingClassifier</label><div class=\"sk-toggleable__content\"><pre>BaggingClassifier(base_estimator=DecisionTreeClassifier(), max_samples=0.25,\n",
       "                  n_estimators=500, random_state=42)</pre></div></div></div><div class=\"sk-parallel\"><div class=\"sk-parallel-item\"><div class=\"sk-item\"><div class=\"sk-label-container\"><div class=\"sk-label sk-toggleable\"><input class=\"sk-toggleable__control sk-hidden--visually\" id=\"sk-estimator-id-99\" type=\"checkbox\" ><label for=\"sk-estimator-id-99\" class=\"sk-toggleable__label sk-toggleable__label-arrow\">base_estimator: DecisionTreeClassifier</label><div class=\"sk-toggleable__content\"><pre>DecisionTreeClassifier()</pre></div></div></div><div class=\"sk-serial\"><div class=\"sk-item\"><div class=\"sk-estimator sk-toggleable\"><input class=\"sk-toggleable__control sk-hidden--visually\" id=\"sk-estimator-id-100\" type=\"checkbox\" ><label for=\"sk-estimator-id-100\" class=\"sk-toggleable__label sk-toggleable__label-arrow\">DecisionTreeClassifier</label><div class=\"sk-toggleable__content\"><pre>DecisionTreeClassifier()</pre></div></div></div></div></div></div></div></div></div></div></div></div>"
      ],
      "text/plain": [
       "Pipeline(steps=[('trf1',\n",
       "                 ColumnTransformer(remainder='passthrough',\n",
       "                                   transformers=[('orde_clientName_month_day',\n",
       "                                                  OrdinalEncoder(handle_unknown='use_encoded_value',\n",
       "                                                                 unknown_value=100),\n",
       "                                                  [0, 1, 2])])),\n",
       "                ('trf2',\n",
       "                 ColumnTransformer(transformers=[('scale', MinMaxScaler(),\n",
       "                                                  slice(0, 7, None))])),\n",
       "                ('trf3',\n",
       "                 BaggingClassifier(base_estimator=DecisionTreeClassifier(),\n",
       "                                   max_samples=0.25, n_estimators=500,\n",
       "                                   random_state=42))])"
      ]
     },
     "execution_count": 265,
     "metadata": {},
     "output_type": "execute_result"
    }
   ],
   "source": [
    "pipe_m4_x.fit(X_train,y_train)"
   ]
  },
  {
   "cell_type": "code",
   "execution_count": 266,
   "id": "2b29fe13",
   "metadata": {},
   "outputs": [
    {
     "data": {
      "text/plain": [
       "{'trf1': ColumnTransformer(remainder='passthrough',\n",
       "                   transformers=[('orde_clientName_month_day',\n",
       "                                  OrdinalEncoder(handle_unknown='use_encoded_value',\n",
       "                                                 unknown_value=100),\n",
       "                                  [0, 1, 2])]),\n",
       " 'trf2': ColumnTransformer(transformers=[('scale', MinMaxScaler(), slice(0, 7, None))]),\n",
       " 'trf3': BaggingClassifier(base_estimator=DecisionTreeClassifier(), max_samples=0.25,\n",
       "                   n_estimators=500, random_state=42)}"
      ]
     },
     "execution_count": 266,
     "metadata": {},
     "output_type": "execute_result"
    }
   ],
   "source": [
    "pipe_m4_x.named_steps"
   ]
  },
  {
   "cell_type": "code",
   "execution_count": 267,
   "id": "3e6e2ab4",
   "metadata": {},
   "outputs": [],
   "source": [
    "y_pred = pipe_m4_x.predict(X_test)"
   ]
  },
  {
   "cell_type": "code",
   "execution_count": 268,
   "id": "0fdacec3",
   "metadata": {},
   "outputs": [],
   "source": [
    "y_test=trf4.fit_transform(pd.DataFrame(y_test)).reshape(1,len(y_test))[0]"
   ]
  },
  {
   "cell_type": "code",
   "execution_count": 270,
   "id": "d8864e17",
   "metadata": {},
   "outputs": [
    {
     "name": "stdout",
     "output_type": "stream",
     "text": [
      "accuracy :  0.0\n",
      "matthews cor coef :  0.0\n"
     ]
    }
   ],
   "source": [
    "from sklearn.metrics import accuracy_score\n",
    "from sklearn.metrics import matthews_corrcoef\n",
    "from sklearn.metrics import precision_score\n",
    "from sklearn.metrics import f1_score\n",
    "\n",
    "\n",
    "print(\"accuracy : \",accuracy_score(y_test,y_pred))\n",
    "# print(\"precision : \",precision_score(y_test,y_pred))\n",
    "# print(\"f1 score : \",f1_score(y_test,y_pred))\n",
    "print(\"matthews cor coef : \",matthews_corrcoef(y_test,y_pred))\n"
   ]
  },
  {
   "cell_type": "code",
   "execution_count": 271,
   "id": "69898351",
   "metadata": {},
   "outputs": [],
   "source": [
    "import pickle \n",
    "pickle.dump(pipe_m4_x,open('pipe_m4_x_prodwise_prodName_classif.pkl','wb'))\n",
    "pickle.dump(trf4_general,open('pipe_m4_y_prodwise_prodName_classif.pkl','wb'))\n",
    "\n"
   ]
  },
  {
   "cell_type": "code",
   "execution_count": 272,
   "id": "06551f77",
   "metadata": {},
   "outputs": [
    {
     "name": "stderr",
     "output_type": "stream",
     "text": [
      "/home/neelchoksi19bce0990/.local/lib/python3.9/site-packages/sklearn/base.py:450: UserWarning: X does not have valid feature names, but OrdinalEncoder was fitted with feature names\n",
      "  warnings.warn(\n"
     ]
    },
    {
     "data": {
      "text/plain": [
       "array([2.])"
      ]
     },
     "execution_count": 272,
     "metadata": {},
     "output_type": "execute_result"
    }
   ],
   "source": [
    "pipe_m4_x_loaded = pickle.load(open('pipe_m4_x_prodwise_prodName_classif.pkl','rb'))\n",
    "pipe_m4_y_loaded = pickle.load(open('pipe_m4_y_prodwise_prodName_classif.pkl','rb'))\n",
    "\n",
    "test_pipe_m4_input = np.array(['company1','03','4',10,6000.0,0.8,0.9,988.0],dtype=object).reshape(1,8)\n",
    "pipe_m4_x_loaded.predict(test_pipe_m4_input)"
   ]
  },
  {
   "cell_type": "code",
   "execution_count": 273,
   "id": "58d7b1a4",
   "metadata": {},
   "outputs": [
    {
     "name": "stderr",
     "output_type": "stream",
     "text": [
      "/home/neelchoksi19bce0990/.local/lib/python3.9/site-packages/sklearn/base.py:450: UserWarning: X does not have valid feature names, but OrdinalEncoder was fitted with feature names\n",
      "  warnings.warn(\n"
     ]
    },
    {
     "data": {
      "text/plain": [
       "array([[2.]])"
      ]
     },
     "execution_count": 273,
     "metadata": {},
     "output_type": "execute_result"
    }
   ],
   "source": [
    "a=pipe_m4_x_loaded.predict(test_pipe_m4_input).reshape(1,-1)\n",
    "a"
   ]
  },
  {
   "cell_type": "code",
   "execution_count": 275,
   "id": "773504f8",
   "metadata": {},
   "outputs": [
    {
     "data": {
      "text/plain": [
       "'prodsku20'"
      ]
     },
     "execution_count": 275,
     "metadata": {},
     "output_type": "execute_result"
    }
   ],
   "source": [
    "pipe_m4_y_loaded.inverse_transform(a)[0][0]"
   ]
  },
  {
   "cell_type": "code",
   "execution_count": 135,
   "id": "4d6aeb8e",
   "metadata": {},
   "outputs": [],
   "source": [
    "import pickle\n",
    "prodName_oe_loaded = pickle.load(open('prodName_oe.pkl','rb'))"
   ]
  },
  {
   "cell_type": "code",
   "execution_count": 136,
   "id": "02a90a4e",
   "metadata": {},
   "outputs": [
    {
     "data": {
      "text/plain": [
       "orderQty         int64\n",
       "orderTotal     float64\n",
       "cliAvgSenti    float64\n",
       "spAvgSenti     float64\n",
       "sales          float64\n",
       "clientName       int64\n",
       "prodName         int64\n",
       "month            int64\n",
       "day              int64\n",
       "dtype: object"
      ]
     },
     "execution_count": 136,
     "metadata": {},
     "output_type": "execute_result"
    }
   ],
   "source": [
    "prodwise_df_1.dtypes"
   ]
  },
  {
   "cell_type": "code",
   "execution_count": 137,
   "id": "73a6ea8b",
   "metadata": {},
   "outputs": [],
   "source": [
    "#model training \n",
    "from sklearn.ensemble import BaggingClassifier\n",
    "from sklearn.tree import DecisionTreeClassifier\n",
    "m4 = BaggingClassifier(\n",
    "    base_estimator = DecisionTreeClassifier(),\n",
    "    n_estimators = 500,\n",
    "    max_samples = 0.25,\n",
    "    bootstrap = True,\n",
    "    random_state = 42\n",
    ")"
   ]
  },
  {
   "cell_type": "code",
   "execution_count": 138,
   "id": "4d628582",
   "metadata": {},
   "outputs": [
    {
     "data": {
      "text/html": [
       "<style>#sk-container-id-9 {color: black;background-color: white;}#sk-container-id-9 pre{padding: 0;}#sk-container-id-9 div.sk-toggleable {background-color: white;}#sk-container-id-9 label.sk-toggleable__label {cursor: pointer;display: block;width: 100%;margin-bottom: 0;padding: 0.3em;box-sizing: border-box;text-align: center;}#sk-container-id-9 label.sk-toggleable__label-arrow:before {content: \"▸\";float: left;margin-right: 0.25em;color: #696969;}#sk-container-id-9 label.sk-toggleable__label-arrow:hover:before {color: black;}#sk-container-id-9 div.sk-estimator:hover label.sk-toggleable__label-arrow:before {color: black;}#sk-container-id-9 div.sk-toggleable__content {max-height: 0;max-width: 0;overflow: hidden;text-align: left;background-color: #f0f8ff;}#sk-container-id-9 div.sk-toggleable__content pre {margin: 0.2em;color: black;border-radius: 0.25em;background-color: #f0f8ff;}#sk-container-id-9 input.sk-toggleable__control:checked~div.sk-toggleable__content {max-height: 200px;max-width: 100%;overflow: auto;}#sk-container-id-9 input.sk-toggleable__control:checked~label.sk-toggleable__label-arrow:before {content: \"▾\";}#sk-container-id-9 div.sk-estimator input.sk-toggleable__control:checked~label.sk-toggleable__label {background-color: #d4ebff;}#sk-container-id-9 div.sk-label input.sk-toggleable__control:checked~label.sk-toggleable__label {background-color: #d4ebff;}#sk-container-id-9 input.sk-hidden--visually {border: 0;clip: rect(1px 1px 1px 1px);clip: rect(1px, 1px, 1px, 1px);height: 1px;margin: -1px;overflow: hidden;padding: 0;position: absolute;width: 1px;}#sk-container-id-9 div.sk-estimator {font-family: monospace;background-color: #f0f8ff;border: 1px dotted black;border-radius: 0.25em;box-sizing: border-box;margin-bottom: 0.5em;}#sk-container-id-9 div.sk-estimator:hover {background-color: #d4ebff;}#sk-container-id-9 div.sk-parallel-item::after {content: \"\";width: 100%;border-bottom: 1px solid gray;flex-grow: 1;}#sk-container-id-9 div.sk-label:hover label.sk-toggleable__label {background-color: #d4ebff;}#sk-container-id-9 div.sk-serial::before {content: \"\";position: absolute;border-left: 1px solid gray;box-sizing: border-box;top: 0;bottom: 0;left: 50%;z-index: 0;}#sk-container-id-9 div.sk-serial {display: flex;flex-direction: column;align-items: center;background-color: white;padding-right: 0.2em;padding-left: 0.2em;position: relative;}#sk-container-id-9 div.sk-item {position: relative;z-index: 1;}#sk-container-id-9 div.sk-parallel {display: flex;align-items: stretch;justify-content: center;background-color: white;position: relative;}#sk-container-id-9 div.sk-item::before, #sk-container-id-9 div.sk-parallel-item::before {content: \"\";position: absolute;border-left: 1px solid gray;box-sizing: border-box;top: 0;bottom: 0;left: 50%;z-index: -1;}#sk-container-id-9 div.sk-parallel-item {display: flex;flex-direction: column;z-index: 1;position: relative;background-color: white;}#sk-container-id-9 div.sk-parallel-item:first-child::after {align-self: flex-end;width: 50%;}#sk-container-id-9 div.sk-parallel-item:last-child::after {align-self: flex-start;width: 50%;}#sk-container-id-9 div.sk-parallel-item:only-child::after {width: 0;}#sk-container-id-9 div.sk-dashed-wrapped {border: 1px dashed gray;margin: 0 0.4em 0.5em 0.4em;box-sizing: border-box;padding-bottom: 0.4em;background-color: white;}#sk-container-id-9 div.sk-label label {font-family: monospace;font-weight: bold;display: inline-block;line-height: 1.2em;}#sk-container-id-9 div.sk-label-container {text-align: center;}#sk-container-id-9 div.sk-container {/* jupyter's `normalize.less` sets `[hidden] { display: none; }` but bootstrap.min.css set `[hidden] { display: none !important; }` so we also need the `!important` here to be able to override the default hidden behavior on the sphinx rendered scikit-learn.org. See: https://github.com/scikit-learn/scikit-learn/issues/21755 */display: inline-block !important;position: relative;}#sk-container-id-9 div.sk-text-repr-fallback {display: none;}</style><div id=\"sk-container-id-9\" class=\"sk-top-container\"><div class=\"sk-text-repr-fallback\"><pre>BaggingClassifier(base_estimator=DecisionTreeClassifier(), max_samples=0.25,\n",
       "                  n_estimators=500, random_state=42)</pre><b>In a Jupyter environment, please rerun this cell to show the HTML representation or trust the notebook. <br />On GitHub, the HTML representation is unable to render, please try loading this page with nbviewer.org.</b></div><div class=\"sk-container\" hidden><div class=\"sk-item sk-dashed-wrapped\"><div class=\"sk-label-container\"><div class=\"sk-label sk-toggleable\"><input class=\"sk-toggleable__control sk-hidden--visually\" id=\"sk-estimator-id-11\" type=\"checkbox\" ><label for=\"sk-estimator-id-11\" class=\"sk-toggleable__label sk-toggleable__label-arrow\">BaggingClassifier</label><div class=\"sk-toggleable__content\"><pre>BaggingClassifier(base_estimator=DecisionTreeClassifier(), max_samples=0.25,\n",
       "                  n_estimators=500, random_state=42)</pre></div></div></div><div class=\"sk-parallel\"><div class=\"sk-parallel-item\"><div class=\"sk-item\"><div class=\"sk-label-container\"><div class=\"sk-label sk-toggleable\"><input class=\"sk-toggleable__control sk-hidden--visually\" id=\"sk-estimator-id-12\" type=\"checkbox\" ><label for=\"sk-estimator-id-12\" class=\"sk-toggleable__label sk-toggleable__label-arrow\">base_estimator: DecisionTreeClassifier</label><div class=\"sk-toggleable__content\"><pre>DecisionTreeClassifier()</pre></div></div></div><div class=\"sk-serial\"><div class=\"sk-item\"><div class=\"sk-estimator sk-toggleable\"><input class=\"sk-toggleable__control sk-hidden--visually\" id=\"sk-estimator-id-13\" type=\"checkbox\" ><label for=\"sk-estimator-id-13\" class=\"sk-toggleable__label sk-toggleable__label-arrow\">DecisionTreeClassifier</label><div class=\"sk-toggleable__content\"><pre>DecisionTreeClassifier()</pre></div></div></div></div></div></div></div></div></div></div>"
      ],
      "text/plain": [
       "BaggingClassifier(base_estimator=DecisionTreeClassifier(), max_samples=0.25,\n",
       "                  n_estimators=500, random_state=42)"
      ]
     },
     "execution_count": 138,
     "metadata": {},
     "output_type": "execute_result"
    }
   ],
   "source": [
    "m4.fit(prodwise_df_1.drop(columns=['prodName']),prodwise_df_1['prodName'])"
   ]
  },
  {
   "cell_type": "code",
   "execution_count": 139,
   "id": "6996b8a5",
   "metadata": {},
   "outputs": [
    {
     "data": {
      "text/html": [
       "<style>#sk-container-id-10 {color: black;background-color: white;}#sk-container-id-10 pre{padding: 0;}#sk-container-id-10 div.sk-toggleable {background-color: white;}#sk-container-id-10 label.sk-toggleable__label {cursor: pointer;display: block;width: 100%;margin-bottom: 0;padding: 0.3em;box-sizing: border-box;text-align: center;}#sk-container-id-10 label.sk-toggleable__label-arrow:before {content: \"▸\";float: left;margin-right: 0.25em;color: #696969;}#sk-container-id-10 label.sk-toggleable__label-arrow:hover:before {color: black;}#sk-container-id-10 div.sk-estimator:hover label.sk-toggleable__label-arrow:before {color: black;}#sk-container-id-10 div.sk-toggleable__content {max-height: 0;max-width: 0;overflow: hidden;text-align: left;background-color: #f0f8ff;}#sk-container-id-10 div.sk-toggleable__content pre {margin: 0.2em;color: black;border-radius: 0.25em;background-color: #f0f8ff;}#sk-container-id-10 input.sk-toggleable__control:checked~div.sk-toggleable__content {max-height: 200px;max-width: 100%;overflow: auto;}#sk-container-id-10 input.sk-toggleable__control:checked~label.sk-toggleable__label-arrow:before {content: \"▾\";}#sk-container-id-10 div.sk-estimator input.sk-toggleable__control:checked~label.sk-toggleable__label {background-color: #d4ebff;}#sk-container-id-10 div.sk-label input.sk-toggleable__control:checked~label.sk-toggleable__label {background-color: #d4ebff;}#sk-container-id-10 input.sk-hidden--visually {border: 0;clip: rect(1px 1px 1px 1px);clip: rect(1px, 1px, 1px, 1px);height: 1px;margin: -1px;overflow: hidden;padding: 0;position: absolute;width: 1px;}#sk-container-id-10 div.sk-estimator {font-family: monospace;background-color: #f0f8ff;border: 1px dotted black;border-radius: 0.25em;box-sizing: border-box;margin-bottom: 0.5em;}#sk-container-id-10 div.sk-estimator:hover {background-color: #d4ebff;}#sk-container-id-10 div.sk-parallel-item::after {content: \"\";width: 100%;border-bottom: 1px solid gray;flex-grow: 1;}#sk-container-id-10 div.sk-label:hover label.sk-toggleable__label {background-color: #d4ebff;}#sk-container-id-10 div.sk-serial::before {content: \"\";position: absolute;border-left: 1px solid gray;box-sizing: border-box;top: 0;bottom: 0;left: 50%;z-index: 0;}#sk-container-id-10 div.sk-serial {display: flex;flex-direction: column;align-items: center;background-color: white;padding-right: 0.2em;padding-left: 0.2em;position: relative;}#sk-container-id-10 div.sk-item {position: relative;z-index: 1;}#sk-container-id-10 div.sk-parallel {display: flex;align-items: stretch;justify-content: center;background-color: white;position: relative;}#sk-container-id-10 div.sk-item::before, #sk-container-id-10 div.sk-parallel-item::before {content: \"\";position: absolute;border-left: 1px solid gray;box-sizing: border-box;top: 0;bottom: 0;left: 50%;z-index: -1;}#sk-container-id-10 div.sk-parallel-item {display: flex;flex-direction: column;z-index: 1;position: relative;background-color: white;}#sk-container-id-10 div.sk-parallel-item:first-child::after {align-self: flex-end;width: 50%;}#sk-container-id-10 div.sk-parallel-item:last-child::after {align-self: flex-start;width: 50%;}#sk-container-id-10 div.sk-parallel-item:only-child::after {width: 0;}#sk-container-id-10 div.sk-dashed-wrapped {border: 1px dashed gray;margin: 0 0.4em 0.5em 0.4em;box-sizing: border-box;padding-bottom: 0.4em;background-color: white;}#sk-container-id-10 div.sk-label label {font-family: monospace;font-weight: bold;display: inline-block;line-height: 1.2em;}#sk-container-id-10 div.sk-label-container {text-align: center;}#sk-container-id-10 div.sk-container {/* jupyter's `normalize.less` sets `[hidden] { display: none; }` but bootstrap.min.css set `[hidden] { display: none !important; }` so we also need the `!important` here to be able to override the default hidden behavior on the sphinx rendered scikit-learn.org. See: https://github.com/scikit-learn/scikit-learn/issues/21755 */display: inline-block !important;position: relative;}#sk-container-id-10 div.sk-text-repr-fallback {display: none;}</style><div id=\"sk-container-id-10\" class=\"sk-top-container\"><div class=\"sk-text-repr-fallback\"><pre>BaggingClassifier(base_estimator=DecisionTreeClassifier(), max_samples=0.25,\n",
       "                  n_estimators=500, random_state=42)</pre><b>In a Jupyter environment, please rerun this cell to show the HTML representation or trust the notebook. <br />On GitHub, the HTML representation is unable to render, please try loading this page with nbviewer.org.</b></div><div class=\"sk-container\" hidden><div class=\"sk-item sk-dashed-wrapped\"><div class=\"sk-label-container\"><div class=\"sk-label sk-toggleable\"><input class=\"sk-toggleable__control sk-hidden--visually\" id=\"sk-estimator-id-14\" type=\"checkbox\" ><label for=\"sk-estimator-id-14\" class=\"sk-toggleable__label sk-toggleable__label-arrow\">BaggingClassifier</label><div class=\"sk-toggleable__content\"><pre>BaggingClassifier(base_estimator=DecisionTreeClassifier(), max_samples=0.25,\n",
       "                  n_estimators=500, random_state=42)</pre></div></div></div><div class=\"sk-parallel\"><div class=\"sk-parallel-item\"><div class=\"sk-item\"><div class=\"sk-label-container\"><div class=\"sk-label sk-toggleable\"><input class=\"sk-toggleable__control sk-hidden--visually\" id=\"sk-estimator-id-15\" type=\"checkbox\" ><label for=\"sk-estimator-id-15\" class=\"sk-toggleable__label sk-toggleable__label-arrow\">base_estimator: DecisionTreeClassifier</label><div class=\"sk-toggleable__content\"><pre>DecisionTreeClassifier()</pre></div></div></div><div class=\"sk-serial\"><div class=\"sk-item\"><div class=\"sk-estimator sk-toggleable\"><input class=\"sk-toggleable__control sk-hidden--visually\" id=\"sk-estimator-id-16\" type=\"checkbox\" ><label for=\"sk-estimator-id-16\" class=\"sk-toggleable__label sk-toggleable__label-arrow\">DecisionTreeClassifier</label><div class=\"sk-toggleable__content\"><pre>DecisionTreeClassifier()</pre></div></div></div></div></div></div></div></div></div></div>"
      ],
      "text/plain": [
       "BaggingClassifier(base_estimator=DecisionTreeClassifier(), max_samples=0.25,\n",
       "                  n_estimators=500, random_state=42)"
      ]
     },
     "execution_count": 139,
     "metadata": {},
     "output_type": "execute_result"
    }
   ],
   "source": [
    "m4.fit(prodwise_df_1.drop(columns=['prodName']),prodwise_df_1['prodName'])"
   ]
  },
  {
   "cell_type": "code",
   "execution_count": 140,
   "id": "52635ea3",
   "metadata": {},
   "outputs": [],
   "source": [
    "import pickle\n",
    "pickle.dump(m4,open('m4.pkl','wb'))"
   ]
  },
  {
   "cell_type": "code",
   "execution_count": 141,
   "id": "2eca92b0",
   "metadata": {},
   "outputs": [],
   "source": [
    "m4_loaded = pickle.load(open('m4.pkl','rb'))"
   ]
  },
  {
   "cell_type": "code",
   "execution_count": 142,
   "id": "5f6a2d8d",
   "metadata": {},
   "outputs": [
    {
     "data": {
      "text/html": [
       "<div>\n",
       "<style scoped>\n",
       "    .dataframe tbody tr th:only-of-type {\n",
       "        vertical-align: middle;\n",
       "    }\n",
       "\n",
       "    .dataframe tbody tr th {\n",
       "        vertical-align: top;\n",
       "    }\n",
       "\n",
       "    .dataframe thead th {\n",
       "        text-align: right;\n",
       "    }\n",
       "</style>\n",
       "<table border=\"1\" class=\"dataframe\">\n",
       "  <thead>\n",
       "    <tr style=\"text-align: right;\">\n",
       "      <th></th>\n",
       "      <th>orderQty</th>\n",
       "      <th>orderTotal</th>\n",
       "      <th>cliAvgSenti</th>\n",
       "      <th>spAvgSenti</th>\n",
       "      <th>sales</th>\n",
       "      <th>clientName</th>\n",
       "      <th>month</th>\n",
       "      <th>day</th>\n",
       "    </tr>\n",
       "  </thead>\n",
       "  <tbody>\n",
       "    <tr>\n",
       "      <th>0</th>\n",
       "      <td>4</td>\n",
       "      <td>5000.0</td>\n",
       "      <td>0.6</td>\n",
       "      <td>0.7</td>\n",
       "      <td>8000.0</td>\n",
       "      <td>JJ Electronics</td>\n",
       "      <td>05</td>\n",
       "      <td>3</td>\n",
       "    </tr>\n",
       "  </tbody>\n",
       "</table>\n",
       "</div>"
      ],
      "text/plain": [
       "  orderQty orderTotal cliAvgSenti spAvgSenti   sales      clientName month day\n",
       "0        4     5000.0         0.6        0.7  8000.0  JJ Electronics    05   3"
      ]
     },
     "execution_count": 142,
     "metadata": {},
     "output_type": "execute_result"
    }
   ],
   "source": [
    "test_m4_input = np.array([int(4),float(5000),float(0.6),float(0.7),float(8000),'JJ Electronics','05','3']).reshape(1,8)\n",
    "test_m4_input_df = pd.DataFrame(test_m4_input,columns=['orderQty','orderTotal','cliAvgSenti','spAvgSenti','sales','clientName','month','day'])\n",
    "test_m4_input_df"
   ]
  },
  {
   "cell_type": "code",
   "execution_count": 143,
   "id": "4edfabbd",
   "metadata": {},
   "outputs": [
    {
     "data": {
      "text/plain": [
       "orderQty       object\n",
       "orderTotal     object\n",
       "cliAvgSenti    object\n",
       "spAvgSenti     object\n",
       "sales          object\n",
       "clientName     object\n",
       "month          object\n",
       "day            object\n",
       "dtype: object"
      ]
     },
     "execution_count": 143,
     "metadata": {},
     "output_type": "execute_result"
    }
   ],
   "source": [
    "test_m4_input_df.dtypes"
   ]
  },
  {
   "cell_type": "code",
   "execution_count": 144,
   "id": "7ceb6007",
   "metadata": {},
   "outputs": [
    {
     "data": {
      "text/html": [
       "<div>\n",
       "<style scoped>\n",
       "    .dataframe tbody tr th:only-of-type {\n",
       "        vertical-align: middle;\n",
       "    }\n",
       "\n",
       "    .dataframe tbody tr th {\n",
       "        vertical-align: top;\n",
       "    }\n",
       "\n",
       "    .dataframe thead th {\n",
       "        text-align: right;\n",
       "    }\n",
       "</style>\n",
       "<table border=\"1\" class=\"dataframe\">\n",
       "  <thead>\n",
       "    <tr style=\"text-align: right;\">\n",
       "      <th></th>\n",
       "      <th>orderQty</th>\n",
       "      <th>orderTotal</th>\n",
       "      <th>cliAvgSenti</th>\n",
       "      <th>spAvgSenti</th>\n",
       "      <th>sales</th>\n",
       "      <th>clientName</th>\n",
       "      <th>month</th>\n",
       "      <th>day</th>\n",
       "    </tr>\n",
       "  </thead>\n",
       "  <tbody>\n",
       "    <tr>\n",
       "      <th>0</th>\n",
       "      <td>4</td>\n",
       "      <td>5000.0</td>\n",
       "      <td>0.6</td>\n",
       "      <td>0.7</td>\n",
       "      <td>8000.0</td>\n",
       "      <td>1</td>\n",
       "      <td>4</td>\n",
       "      <td>3</td>\n",
       "    </tr>\n",
       "  </tbody>\n",
       "</table>\n",
       "</div>"
      ],
      "text/plain": [
       "  orderQty orderTotal cliAvgSenti spAvgSenti   sales  clientName  month  day\n",
       "0        4     5000.0         0.6        0.7  8000.0           1      4    3"
      ]
     },
     "execution_count": 144,
     "metadata": {},
     "output_type": "execute_result"
    }
   ],
   "source": [
    "test_m4_input_df_clientName = pd.DataFrame(clientName_oe_loaded.transform(test_m4_input_df['clientName']),columns=['clientName']) \n",
    "test_m4_input_df_month = pd.DataFrame(month_oe_loaded.transform(test_m4_input_df['month']),columns=['month'])\n",
    "test_m4_input_df_day = pd.DataFrame(day_oe_loaded.transform(test_m4_input_df['day']),columns=['day'])\n",
    "test_m4_input_df_transformed =pd.concat([test_m4_input_df.drop(columns=['clientName','month','day']),test_m4_input_df_clientName,test_m4_input_df_month,test_m4_input_df_day],axis=1)\n",
    "test_m4_input_df_transformed"
   ]
  },
  {
   "cell_type": "code",
   "execution_count": 145,
   "id": "dde7128a",
   "metadata": {},
   "outputs": [
    {
     "data": {
      "text/plain": [
       "orderQty       object\n",
       "orderTotal     object\n",
       "cliAvgSenti    object\n",
       "spAvgSenti     object\n",
       "sales          object\n",
       "clientName      int64\n",
       "month           int64\n",
       "day             int64\n",
       "dtype: object"
      ]
     },
     "execution_count": 145,
     "metadata": {},
     "output_type": "execute_result"
    }
   ],
   "source": [
    "test_m4_input_df_transformed.dtypes"
   ]
  },
  {
   "cell_type": "code",
   "execution_count": 146,
   "id": "c2609f4d",
   "metadata": {},
   "outputs": [],
   "source": [
    "test_m4_input_df_transformed['orderQty'] = test_m4_input_df_transformed['orderQty'].astype(int)\n",
    "test_m4_input_df_transformed['orderTotal'] = test_m4_input_df_transformed['orderTotal'].astype(float)\n",
    "test_m4_input_df_transformed['cliAvgSenti'] = test_m4_input_df_transformed['cliAvgSenti'].astype(float)\n",
    "test_m4_input_df_transformed['spAvgSenti'] = test_m4_input_df_transformed['spAvgSenti'].astype(float)\n",
    "test_m4_input_df_transformed['sales'] = test_m4_input_df_transformed['sales'].astype(float)"
   ]
  },
  {
   "cell_type": "code",
   "execution_count": 147,
   "id": "c46868de",
   "metadata": {},
   "outputs": [
    {
     "data": {
      "text/plain": [
       "orderQty         int64\n",
       "orderTotal     float64\n",
       "cliAvgSenti    float64\n",
       "spAvgSenti     float64\n",
       "sales          float64\n",
       "clientName       int64\n",
       "month            int64\n",
       "day              int64\n",
       "dtype: object"
      ]
     },
     "execution_count": 147,
     "metadata": {},
     "output_type": "execute_result"
    }
   ],
   "source": [
    "test_m4_input_df_transformed.dtypes"
   ]
  },
  {
   "cell_type": "code",
   "execution_count": 148,
   "id": "c6b1aa8a",
   "metadata": {},
   "outputs": [
    {
     "data": {
      "text/plain": [
       "'prodsku20'"
      ]
     },
     "execution_count": 148,
     "metadata": {},
     "output_type": "execute_result"
    }
   ],
   "source": [
    "prodName_oe_loaded.inverse_transform(m4_loaded.predict(test_m4_input_df_transformed))[0]"
   ]
  },
  {
   "cell_type": "code",
   "execution_count": null,
   "id": "d8f15574",
   "metadata": {},
   "outputs": [],
   "source": []
  },
  {
   "cell_type": "code",
   "execution_count": null,
   "id": "ab2ea862",
   "metadata": {},
   "outputs": [],
   "source": []
  },
  {
   "cell_type": "markdown",
   "id": "88e1e6da",
   "metadata": {},
   "source": [
    "# m5 - predict clientwise sales "
   ]
  },
  {
   "cell_type": "code",
   "execution_count": null,
   "id": "a7e8c40f",
   "metadata": {},
   "outputs": [],
   "source": [
    "#create pipeline \n",
    "#train model using pipeline\n",
    "#export m1_pipeline \n",
    "#import m1_pipeline \n",
    "# make predict fuction for m1_pipeline"
   ]
  },
  {
   "cell_type": "code",
   "execution_count": 149,
   "id": "220aecca",
   "metadata": {},
   "outputs": [
    {
     "data": {
      "text/html": [
       "<div>\n",
       "<style scoped>\n",
       "    .dataframe tbody tr th:only-of-type {\n",
       "        vertical-align: middle;\n",
       "    }\n",
       "\n",
       "    .dataframe tbody tr th {\n",
       "        vertical-align: top;\n",
       "    }\n",
       "\n",
       "    .dataframe thead th {\n",
       "        text-align: right;\n",
       "    }\n",
       "</style>\n",
       "<table border=\"1\" class=\"dataframe\">\n",
       "  <thead>\n",
       "    <tr style=\"text-align: right;\">\n",
       "      <th></th>\n",
       "      <th>cliName</th>\n",
       "      <th>month</th>\n",
       "      <th>day</th>\n",
       "      <th>qty</th>\n",
       "      <th>sales</th>\n",
       "    </tr>\n",
       "  </thead>\n",
       "  <tbody>\n",
       "    <tr>\n",
       "      <th>0</th>\n",
       "      <td>JJ Electronics</td>\n",
       "      <td>02</td>\n",
       "      <td>6</td>\n",
       "      <td>5</td>\n",
       "      <td>5934.0</td>\n",
       "    </tr>\n",
       "    <tr>\n",
       "      <th>1</th>\n",
       "      <td>JJ Electronics</td>\n",
       "      <td>01</td>\n",
       "      <td>0</td>\n",
       "      <td>5</td>\n",
       "      <td>27.0</td>\n",
       "    </tr>\n",
       "    <tr>\n",
       "      <th>2</th>\n",
       "      <td>Star Bazaar</td>\n",
       "      <td>02</td>\n",
       "      <td>6</td>\n",
       "      <td>2</td>\n",
       "      <td>8402.0</td>\n",
       "    </tr>\n",
       "    <tr>\n",
       "      <th>3</th>\n",
       "      <td>Decathlon Electronics</td>\n",
       "      <td>02</td>\n",
       "      <td>6</td>\n",
       "      <td>2</td>\n",
       "      <td>2520.0</td>\n",
       "    </tr>\n",
       "    <tr>\n",
       "      <th>4</th>\n",
       "      <td>Decathlon Electronics</td>\n",
       "      <td>03</td>\n",
       "      <td>4</td>\n",
       "      <td>6</td>\n",
       "      <td>22265.0</td>\n",
       "    </tr>\n",
       "  </tbody>\n",
       "</table>\n",
       "</div>"
      ],
      "text/plain": [
       "                 cliName month day  qty    sales\n",
       "0         JJ Electronics    02   6    5   5934.0\n",
       "1         JJ Electronics    01   0    5     27.0\n",
       "2            Star Bazaar    02   6    2   8402.0\n",
       "3  Decathlon Electronics    02   6    2   2520.0\n",
       "4  Decathlon Electronics    03   4    6  22265.0"
      ]
     },
     "execution_count": 149,
     "metadata": {},
     "output_type": "execute_result"
    }
   ],
   "source": [
    "clientwise_df_1.head()"
   ]
  },
  {
   "cell_type": "code",
   "execution_count": 150,
   "id": "fce3b701",
   "metadata": {},
   "outputs": [
    {
     "data": {
      "text/plain": [
       "cliName     object\n",
       "month       object\n",
       "day         object\n",
       "qty          int64\n",
       "sales      float64\n",
       "dtype: object"
      ]
     },
     "execution_count": 150,
     "metadata": {},
     "output_type": "execute_result"
    }
   ],
   "source": [
    "clientwise_df_1.dtypes"
   ]
  },
  {
   "cell_type": "code",
   "execution_count": 151,
   "id": "19714006",
   "metadata": {},
   "outputs": [],
   "source": [
    "X_train,X_test,y_train,y_test = train_test_split(clientwise_df_1.drop(columns=['sales']),\n",
    "                                                    clientwise_df_1['sales'],\n",
    "                                                     test_size = 0.2,\n",
    "                                                 random_state=42\n",
    "                                                )"
   ]
  },
  {
   "cell_type": "code",
   "execution_count": 152,
   "id": "bc0eee60",
   "metadata": {},
   "outputs": [
    {
     "data": {
      "text/html": [
       "<div>\n",
       "<style scoped>\n",
       "    .dataframe tbody tr th:only-of-type {\n",
       "        vertical-align: middle;\n",
       "    }\n",
       "\n",
       "    .dataframe tbody tr th {\n",
       "        vertical-align: top;\n",
       "    }\n",
       "\n",
       "    .dataframe thead th {\n",
       "        text-align: right;\n",
       "    }\n",
       "</style>\n",
       "<table border=\"1\" class=\"dataframe\">\n",
       "  <thead>\n",
       "    <tr style=\"text-align: right;\">\n",
       "      <th></th>\n",
       "      <th>cliName</th>\n",
       "      <th>month</th>\n",
       "      <th>day</th>\n",
       "      <th>qty</th>\n",
       "    </tr>\n",
       "  </thead>\n",
       "  <tbody>\n",
       "    <tr>\n",
       "      <th>4</th>\n",
       "      <td>Decathlon Electronics</td>\n",
       "      <td>03</td>\n",
       "      <td>4</td>\n",
       "      <td>6</td>\n",
       "    </tr>\n",
       "    <tr>\n",
       "      <th>2</th>\n",
       "      <td>Star Bazaar</td>\n",
       "      <td>02</td>\n",
       "      <td>6</td>\n",
       "      <td>2</td>\n",
       "    </tr>\n",
       "    <tr>\n",
       "      <th>0</th>\n",
       "      <td>JJ Electronics</td>\n",
       "      <td>02</td>\n",
       "      <td>6</td>\n",
       "      <td>5</td>\n",
       "    </tr>\n",
       "    <tr>\n",
       "      <th>3</th>\n",
       "      <td>Decathlon Electronics</td>\n",
       "      <td>02</td>\n",
       "      <td>6</td>\n",
       "      <td>2</td>\n",
       "    </tr>\n",
       "  </tbody>\n",
       "</table>\n",
       "</div>"
      ],
      "text/plain": [
       "                 cliName month day  qty\n",
       "4  Decathlon Electronics    03   4    6\n",
       "2            Star Bazaar    02   6    2\n",
       "0         JJ Electronics    02   6    5\n",
       "3  Decathlon Electronics    02   6    2"
      ]
     },
     "execution_count": 152,
     "metadata": {},
     "output_type": "execute_result"
    }
   ],
   "source": [
    "X_train.head()"
   ]
  },
  {
   "cell_type": "code",
   "execution_count": 153,
   "id": "9e03e23b",
   "metadata": {},
   "outputs": [
    {
     "data": {
      "text/plain": [
       "4    22265.0\n",
       "2     8402.0\n",
       "0     5934.0\n",
       "3     2520.0\n",
       "Name: sales, dtype: float64"
      ]
     },
     "execution_count": 153,
     "metadata": {},
     "output_type": "execute_result"
    }
   ],
   "source": [
    "y_train.head()"
   ]
  },
  {
   "cell_type": "code",
   "execution_count": 101,
   "id": "f45d73fa",
   "metadata": {},
   "outputs": [],
   "source": [
    "#Ordinal encoding\n",
    "trf1 = ColumnTransformer([\n",
    "    ('orde_clientName_month_day',OrdinalEncoder(handle_unknown=\"use_encoded_value\",unknown_value=100),[0,1,2])\n",
    "],remainder=\"passthrough\")"
   ]
  },
  {
   "cell_type": "code",
   "execution_count": 102,
   "id": "9617afa2",
   "metadata": {},
   "outputs": [],
   "source": [
    "#scaling \n",
    "trf2 = ColumnTransformer([\n",
    "    ('scale',MinMaxScaler(),slice(0,3))\n",
    "])"
   ]
  },
  {
   "cell_type": "code",
   "execution_count": 103,
   "id": "e198e665",
   "metadata": {},
   "outputs": [],
   "source": [
    "#model training \n",
    "from xgboost import XGBRegressor\n",
    "trf3 = XGBRegressor(random_state=42, n_jobs=-1, n_estimators=20, max_depth=4)"
   ]
  },
  {
   "cell_type": "code",
   "execution_count": 110,
   "id": "ec88f77b",
   "metadata": {},
   "outputs": [],
   "source": [
    "#pipeline \n",
    "pipe_m5 = Pipeline([\n",
    "    ('trf1',trf1),\n",
    "    ('trf2',trf2),\n",
    "    ('trf3',trf3)\n",
    "])\n"
   ]
  },
  {
   "cell_type": "code",
   "execution_count": 111,
   "id": "550259ff",
   "metadata": {},
   "outputs": [
    {
     "data": {
      "text/html": [
       "<style>#sk-container-id-5 {color: black;background-color: white;}#sk-container-id-5 pre{padding: 0;}#sk-container-id-5 div.sk-toggleable {background-color: white;}#sk-container-id-5 label.sk-toggleable__label {cursor: pointer;display: block;width: 100%;margin-bottom: 0;padding: 0.3em;box-sizing: border-box;text-align: center;}#sk-container-id-5 label.sk-toggleable__label-arrow:before {content: \"▸\";float: left;margin-right: 0.25em;color: #696969;}#sk-container-id-5 label.sk-toggleable__label-arrow:hover:before {color: black;}#sk-container-id-5 div.sk-estimator:hover label.sk-toggleable__label-arrow:before {color: black;}#sk-container-id-5 div.sk-toggleable__content {max-height: 0;max-width: 0;overflow: hidden;text-align: left;background-color: #f0f8ff;}#sk-container-id-5 div.sk-toggleable__content pre {margin: 0.2em;color: black;border-radius: 0.25em;background-color: #f0f8ff;}#sk-container-id-5 input.sk-toggleable__control:checked~div.sk-toggleable__content {max-height: 200px;max-width: 100%;overflow: auto;}#sk-container-id-5 input.sk-toggleable__control:checked~label.sk-toggleable__label-arrow:before {content: \"▾\";}#sk-container-id-5 div.sk-estimator input.sk-toggleable__control:checked~label.sk-toggleable__label {background-color: #d4ebff;}#sk-container-id-5 div.sk-label input.sk-toggleable__control:checked~label.sk-toggleable__label {background-color: #d4ebff;}#sk-container-id-5 input.sk-hidden--visually {border: 0;clip: rect(1px 1px 1px 1px);clip: rect(1px, 1px, 1px, 1px);height: 1px;margin: -1px;overflow: hidden;padding: 0;position: absolute;width: 1px;}#sk-container-id-5 div.sk-estimator {font-family: monospace;background-color: #f0f8ff;border: 1px dotted black;border-radius: 0.25em;box-sizing: border-box;margin-bottom: 0.5em;}#sk-container-id-5 div.sk-estimator:hover {background-color: #d4ebff;}#sk-container-id-5 div.sk-parallel-item::after {content: \"\";width: 100%;border-bottom: 1px solid gray;flex-grow: 1;}#sk-container-id-5 div.sk-label:hover label.sk-toggleable__label {background-color: #d4ebff;}#sk-container-id-5 div.sk-serial::before {content: \"\";position: absolute;border-left: 1px solid gray;box-sizing: border-box;top: 0;bottom: 0;left: 50%;z-index: 0;}#sk-container-id-5 div.sk-serial {display: flex;flex-direction: column;align-items: center;background-color: white;padding-right: 0.2em;padding-left: 0.2em;position: relative;}#sk-container-id-5 div.sk-item {position: relative;z-index: 1;}#sk-container-id-5 div.sk-parallel {display: flex;align-items: stretch;justify-content: center;background-color: white;position: relative;}#sk-container-id-5 div.sk-item::before, #sk-container-id-5 div.sk-parallel-item::before {content: \"\";position: absolute;border-left: 1px solid gray;box-sizing: border-box;top: 0;bottom: 0;left: 50%;z-index: -1;}#sk-container-id-5 div.sk-parallel-item {display: flex;flex-direction: column;z-index: 1;position: relative;background-color: white;}#sk-container-id-5 div.sk-parallel-item:first-child::after {align-self: flex-end;width: 50%;}#sk-container-id-5 div.sk-parallel-item:last-child::after {align-self: flex-start;width: 50%;}#sk-container-id-5 div.sk-parallel-item:only-child::after {width: 0;}#sk-container-id-5 div.sk-dashed-wrapped {border: 1px dashed gray;margin: 0 0.4em 0.5em 0.4em;box-sizing: border-box;padding-bottom: 0.4em;background-color: white;}#sk-container-id-5 div.sk-label label {font-family: monospace;font-weight: bold;display: inline-block;line-height: 1.2em;}#sk-container-id-5 div.sk-label-container {text-align: center;}#sk-container-id-5 div.sk-container {/* jupyter's `normalize.less` sets `[hidden] { display: none; }` but bootstrap.min.css set `[hidden] { display: none !important; }` so we also need the `!important` here to be able to override the default hidden behavior on the sphinx rendered scikit-learn.org. See: https://github.com/scikit-learn/scikit-learn/issues/21755 */display: inline-block !important;position: relative;}#sk-container-id-5 div.sk-text-repr-fallback {display: none;}</style><div id=\"sk-container-id-5\" class=\"sk-top-container\"><div class=\"sk-text-repr-fallback\"><pre>Pipeline(steps=[(&#x27;trf1&#x27;,\n",
       "                 ColumnTransformer(remainder=&#x27;passthrough&#x27;,\n",
       "                                   transformers=[(&#x27;orde_clientName_month_day&#x27;,\n",
       "                                                  OrdinalEncoder(handle_unknown=&#x27;use_encoded_value&#x27;,\n",
       "                                                                 unknown_value=100),\n",
       "                                                  [0, 1, 2])])),\n",
       "                (&#x27;trf2&#x27;,\n",
       "                 ColumnTransformer(transformers=[(&#x27;scale&#x27;, MinMaxScaler(),\n",
       "                                                  slice(0, 3, None))])),\n",
       "                (&#x27;trf3&#x27;,\n",
       "                 XGBRegressor(base_score=0.5, booster=&#x27;gbtree&#x27;, callbacks=None,\n",
       "                              colsampl...\n",
       "                              feature_types=None, gamma=0, gpu_id=-1,\n",
       "                              grow_policy=&#x27;depthwise&#x27;, importance_type=None,\n",
       "                              interaction_constraints=&#x27;&#x27;,\n",
       "                              learning_rate=0.300000012, max_bin=256,\n",
       "                              max_cat_threshold=64, max_cat_to_onehot=4,\n",
       "                              max_delta_step=0, max_depth=4, max_leaves=0,\n",
       "                              min_child_weight=1, missing=nan,\n",
       "                              monotone_constraints=&#x27;()&#x27;, n_estimators=20,\n",
       "                              n_jobs=-1, num_parallel_tree=1, predictor=&#x27;auto&#x27;,\n",
       "                              random_state=42, ...))])</pre><b>In a Jupyter environment, please rerun this cell to show the HTML representation or trust the notebook. <br />On GitHub, the HTML representation is unable to render, please try loading this page with nbviewer.org.</b></div><div class=\"sk-container\" hidden><div class=\"sk-item sk-dashed-wrapped\"><div class=\"sk-label-container\"><div class=\"sk-label sk-toggleable\"><input class=\"sk-toggleable__control sk-hidden--visually\" id=\"sk-estimator-id-41\" type=\"checkbox\" ><label for=\"sk-estimator-id-41\" class=\"sk-toggleable__label sk-toggleable__label-arrow\">Pipeline</label><div class=\"sk-toggleable__content\"><pre>Pipeline(steps=[(&#x27;trf1&#x27;,\n",
       "                 ColumnTransformer(remainder=&#x27;passthrough&#x27;,\n",
       "                                   transformers=[(&#x27;orde_clientName_month_day&#x27;,\n",
       "                                                  OrdinalEncoder(handle_unknown=&#x27;use_encoded_value&#x27;,\n",
       "                                                                 unknown_value=100),\n",
       "                                                  [0, 1, 2])])),\n",
       "                (&#x27;trf2&#x27;,\n",
       "                 ColumnTransformer(transformers=[(&#x27;scale&#x27;, MinMaxScaler(),\n",
       "                                                  slice(0, 3, None))])),\n",
       "                (&#x27;trf3&#x27;,\n",
       "                 XGBRegressor(base_score=0.5, booster=&#x27;gbtree&#x27;, callbacks=None,\n",
       "                              colsampl...\n",
       "                              feature_types=None, gamma=0, gpu_id=-1,\n",
       "                              grow_policy=&#x27;depthwise&#x27;, importance_type=None,\n",
       "                              interaction_constraints=&#x27;&#x27;,\n",
       "                              learning_rate=0.300000012, max_bin=256,\n",
       "                              max_cat_threshold=64, max_cat_to_onehot=4,\n",
       "                              max_delta_step=0, max_depth=4, max_leaves=0,\n",
       "                              min_child_weight=1, missing=nan,\n",
       "                              monotone_constraints=&#x27;()&#x27;, n_estimators=20,\n",
       "                              n_jobs=-1, num_parallel_tree=1, predictor=&#x27;auto&#x27;,\n",
       "                              random_state=42, ...))])</pre></div></div></div><div class=\"sk-serial\"><div class=\"sk-item sk-dashed-wrapped\"><div class=\"sk-label-container\"><div class=\"sk-label sk-toggleable\"><input class=\"sk-toggleable__control sk-hidden--visually\" id=\"sk-estimator-id-42\" type=\"checkbox\" ><label for=\"sk-estimator-id-42\" class=\"sk-toggleable__label sk-toggleable__label-arrow\">trf1: ColumnTransformer</label><div class=\"sk-toggleable__content\"><pre>ColumnTransformer(remainder=&#x27;passthrough&#x27;,\n",
       "                  transformers=[(&#x27;orde_clientName_month_day&#x27;,\n",
       "                                 OrdinalEncoder(handle_unknown=&#x27;use_encoded_value&#x27;,\n",
       "                                                unknown_value=100),\n",
       "                                 [0, 1, 2])])</pre></div></div></div><div class=\"sk-parallel\"><div class=\"sk-parallel-item\"><div class=\"sk-item\"><div class=\"sk-label-container\"><div class=\"sk-label sk-toggleable\"><input class=\"sk-toggleable__control sk-hidden--visually\" id=\"sk-estimator-id-43\" type=\"checkbox\" ><label for=\"sk-estimator-id-43\" class=\"sk-toggleable__label sk-toggleable__label-arrow\">orde_clientName_month_day</label><div class=\"sk-toggleable__content\"><pre>[0, 1, 2]</pre></div></div></div><div class=\"sk-serial\"><div class=\"sk-item\"><div class=\"sk-estimator sk-toggleable\"><input class=\"sk-toggleable__control sk-hidden--visually\" id=\"sk-estimator-id-44\" type=\"checkbox\" ><label for=\"sk-estimator-id-44\" class=\"sk-toggleable__label sk-toggleable__label-arrow\">OrdinalEncoder</label><div class=\"sk-toggleable__content\"><pre>OrdinalEncoder(handle_unknown=&#x27;use_encoded_value&#x27;, unknown_value=100)</pre></div></div></div></div></div></div><div class=\"sk-parallel-item\"><div class=\"sk-item\"><div class=\"sk-label-container\"><div class=\"sk-label sk-toggleable\"><input class=\"sk-toggleable__control sk-hidden--visually\" id=\"sk-estimator-id-45\" type=\"checkbox\" ><label for=\"sk-estimator-id-45\" class=\"sk-toggleable__label sk-toggleable__label-arrow\">remainder</label><div class=\"sk-toggleable__content\"><pre>[&#x27;qty&#x27;]</pre></div></div></div><div class=\"sk-serial\"><div class=\"sk-item\"><div class=\"sk-estimator sk-toggleable\"><input class=\"sk-toggleable__control sk-hidden--visually\" id=\"sk-estimator-id-46\" type=\"checkbox\" ><label for=\"sk-estimator-id-46\" class=\"sk-toggleable__label sk-toggleable__label-arrow\">passthrough</label><div class=\"sk-toggleable__content\"><pre>passthrough</pre></div></div></div></div></div></div></div></div><div class=\"sk-item sk-dashed-wrapped\"><div class=\"sk-label-container\"><div class=\"sk-label sk-toggleable\"><input class=\"sk-toggleable__control sk-hidden--visually\" id=\"sk-estimator-id-47\" type=\"checkbox\" ><label for=\"sk-estimator-id-47\" class=\"sk-toggleable__label sk-toggleable__label-arrow\">trf2: ColumnTransformer</label><div class=\"sk-toggleable__content\"><pre>ColumnTransformer(transformers=[(&#x27;scale&#x27;, MinMaxScaler(), slice(0, 3, None))])</pre></div></div></div><div class=\"sk-parallel\"><div class=\"sk-parallel-item\"><div class=\"sk-item\"><div class=\"sk-label-container\"><div class=\"sk-label sk-toggleable\"><input class=\"sk-toggleable__control sk-hidden--visually\" id=\"sk-estimator-id-48\" type=\"checkbox\" ><label for=\"sk-estimator-id-48\" class=\"sk-toggleable__label sk-toggleable__label-arrow\">scale</label><div class=\"sk-toggleable__content\"><pre>slice(0, 3, None)</pre></div></div></div><div class=\"sk-serial\"><div class=\"sk-item\"><div class=\"sk-estimator sk-toggleable\"><input class=\"sk-toggleable__control sk-hidden--visually\" id=\"sk-estimator-id-49\" type=\"checkbox\" ><label for=\"sk-estimator-id-49\" class=\"sk-toggleable__label sk-toggleable__label-arrow\">MinMaxScaler</label><div class=\"sk-toggleable__content\"><pre>MinMaxScaler()</pre></div></div></div></div></div></div></div></div><div class=\"sk-item\"><div class=\"sk-estimator sk-toggleable\"><input class=\"sk-toggleable__control sk-hidden--visually\" id=\"sk-estimator-id-50\" type=\"checkbox\" ><label for=\"sk-estimator-id-50\" class=\"sk-toggleable__label sk-toggleable__label-arrow\">XGBRegressor</label><div class=\"sk-toggleable__content\"><pre>XGBRegressor(base_score=0.5, booster=&#x27;gbtree&#x27;, callbacks=None,\n",
       "             colsample_bylevel=1, colsample_bynode=1, colsample_bytree=1,\n",
       "             early_stopping_rounds=None, enable_categorical=False,\n",
       "             eval_metric=None, feature_types=None, gamma=0, gpu_id=-1,\n",
       "             grow_policy=&#x27;depthwise&#x27;, importance_type=None,\n",
       "             interaction_constraints=&#x27;&#x27;, learning_rate=0.300000012, max_bin=256,\n",
       "             max_cat_threshold=64, max_cat_to_onehot=4, max_delta_step=0,\n",
       "             max_depth=4, max_leaves=0, min_child_weight=1, missing=nan,\n",
       "             monotone_constraints=&#x27;()&#x27;, n_estimators=20, n_jobs=-1,\n",
       "             num_parallel_tree=1, predictor=&#x27;auto&#x27;, random_state=42, ...)</pre></div></div></div></div></div></div></div>"
      ],
      "text/plain": [
       "Pipeline(steps=[('trf1',\n",
       "                 ColumnTransformer(remainder='passthrough',\n",
       "                                   transformers=[('orde_clientName_month_day',\n",
       "                                                  OrdinalEncoder(handle_unknown='use_encoded_value',\n",
       "                                                                 unknown_value=100),\n",
       "                                                  [0, 1, 2])])),\n",
       "                ('trf2',\n",
       "                 ColumnTransformer(transformers=[('scale', MinMaxScaler(),\n",
       "                                                  slice(0, 3, None))])),\n",
       "                ('trf3',\n",
       "                 XGBRegressor(base_score=0.5, booster='gbtree', callbacks=None,\n",
       "                              colsampl...\n",
       "                              feature_types=None, gamma=0, gpu_id=-1,\n",
       "                              grow_policy='depthwise', importance_type=None,\n",
       "                              interaction_constraints='',\n",
       "                              learning_rate=0.300000012, max_bin=256,\n",
       "                              max_cat_threshold=64, max_cat_to_onehot=4,\n",
       "                              max_delta_step=0, max_depth=4, max_leaves=0,\n",
       "                              min_child_weight=1, missing=nan,\n",
       "                              monotone_constraints='()', n_estimators=20,\n",
       "                              n_jobs=-1, num_parallel_tree=1, predictor='auto',\n",
       "                              random_state=42, ...))])"
      ]
     },
     "execution_count": 111,
     "metadata": {},
     "output_type": "execute_result"
    }
   ],
   "source": [
    "pipe_m5.fit(X_train,y_train)"
   ]
  },
  {
   "cell_type": "code",
   "execution_count": 112,
   "id": "cdd47d08",
   "metadata": {},
   "outputs": [
    {
     "data": {
      "text/plain": [
       "{'trf1': ColumnTransformer(remainder='passthrough',\n",
       "                   transformers=[('orde_clientName_month_day',\n",
       "                                  OrdinalEncoder(handle_unknown='use_encoded_value',\n",
       "                                                 unknown_value=100),\n",
       "                                  [0, 1, 2])]),\n",
       " 'trf2': ColumnTransformer(transformers=[('scale', MinMaxScaler(), slice(0, 3, None))]),\n",
       " 'trf3': XGBRegressor(base_score=0.5, booster='gbtree', callbacks=None,\n",
       "              colsample_bylevel=1, colsample_bynode=1, colsample_bytree=1,\n",
       "              early_stopping_rounds=None, enable_categorical=False,\n",
       "              eval_metric=None, feature_types=None, gamma=0, gpu_id=-1,\n",
       "              grow_policy='depthwise', importance_type=None,\n",
       "              interaction_constraints='', learning_rate=0.300000012, max_bin=256,\n",
       "              max_cat_threshold=64, max_cat_to_onehot=4, max_delta_step=0,\n",
       "              max_depth=4, max_leaves=0, min_child_weight=1, missing=nan,\n",
       "              monotone_constraints='()', n_estimators=20, n_jobs=-1,\n",
       "              num_parallel_tree=1, predictor='auto', random_state=42, ...)}"
      ]
     },
     "execution_count": 112,
     "metadata": {},
     "output_type": "execute_result"
    }
   ],
   "source": [
    "pipe_m5.named_steps"
   ]
  },
  {
   "cell_type": "code",
   "execution_count": 113,
   "id": "1ddbf24f",
   "metadata": {},
   "outputs": [],
   "source": [
    "#predict \n",
    "y_pred = pipe_m5.predict(X_test)"
   ]
  },
  {
   "cell_type": "code",
   "execution_count": 114,
   "id": "0ca17bb8",
   "metadata": {},
   "outputs": [
    {
     "name": "stdout",
     "output_type": "stream",
     "text": [
      "MAE 5844.107421875\n",
      "MSE 34153591.55841446\n",
      "RMSE 5844.107421875\n",
      "R2Score nan\n"
     ]
    },
    {
     "name": "stderr",
     "output_type": "stream",
     "text": [
      "/home/neelchoksi19bce0990/.local/lib/python3.9/site-packages/sklearn/metrics/_regression.py:918: UndefinedMetricWarning: R^2 score is not well-defined with less than two samples.\n",
      "  warnings.warn(msg, UndefinedMetricWarning)\n"
     ]
    }
   ],
   "source": [
    "from sklearn.metrics import mean_absolute_error\n",
    "from sklearn.metrics import mean_squared_error\n",
    "from sklearn.metrics import r2_score\n",
    "\n",
    "print(\"MAE\",mean_absolute_error(y_test,y_pred))\n",
    "print(\"MSE\",mean_squared_error(y_test,y_pred))\n",
    "print(\"RMSE\",np.sqrt(mean_squared_error(y_test,y_pred)))\n",
    "print(\"R2Score\",r2_score(y_test,y_pred))"
   ]
  },
  {
   "cell_type": "code",
   "execution_count": 115,
   "id": "ec8a6aec",
   "metadata": {},
   "outputs": [],
   "source": [
    "import pickle \n",
    "pickle.dump(pipe_m5,open('pipe_m5_clientwise_sales_reg.pkl','wb'))\n",
    "\n"
   ]
  },
  {
   "cell_type": "code",
   "execution_count": 116,
   "id": "4760c544",
   "metadata": {},
   "outputs": [
    {
     "name": "stderr",
     "output_type": "stream",
     "text": [
      "/home/neelchoksi19bce0990/.local/lib/python3.9/site-packages/sklearn/base.py:450: UserWarning: X does not have valid feature names, but OrdinalEncoder was fitted with feature names\n",
      "  warnings.warn(\n"
     ]
    },
    {
     "data": {
      "text/plain": [
       "array([5871.1074], dtype=float32)"
      ]
     },
     "execution_count": 116,
     "metadata": {},
     "output_type": "execute_result"
    }
   ],
   "source": [
    "pipe_m5_loaded = pickle.load(open('pipe_m5_clientwise_sales_reg.pkl','rb'))\n",
    "test_pipe_m5_input = np.array(['company1','08','4',10],dtype=object).reshape(1,4)\n",
    "pipe_m5_loaded.predict(test_pipe_m5_input)"
   ]
  },
  {
   "cell_type": "code",
   "execution_count": 154,
   "id": "01e48958",
   "metadata": {},
   "outputs": [],
   "source": [
    "import pickle \n",
    "clientName_oe_loaded = pickle.load(open('clientName_oe.pkl','rb'))\n",
    "month_oe_loaded = pickle.load(open('month_oe.pkl','rb'))\n",
    "day_oe_loaded = pickle.load(open('day_oe.pkl','rb'))"
   ]
  },
  {
   "cell_type": "code",
   "execution_count": 155,
   "id": "179493e0",
   "metadata": {},
   "outputs": [
    {
     "data": {
      "text/html": [
       "<div>\n",
       "<style scoped>\n",
       "    .dataframe tbody tr th:only-of-type {\n",
       "        vertical-align: middle;\n",
       "    }\n",
       "\n",
       "    .dataframe tbody tr th {\n",
       "        vertical-align: top;\n",
       "    }\n",
       "\n",
       "    .dataframe thead th {\n",
       "        text-align: right;\n",
       "    }\n",
       "</style>\n",
       "<table border=\"1\" class=\"dataframe\">\n",
       "  <thead>\n",
       "    <tr style=\"text-align: right;\">\n",
       "      <th></th>\n",
       "      <th>cliName</th>\n",
       "    </tr>\n",
       "  </thead>\n",
       "  <tbody>\n",
       "    <tr>\n",
       "      <th>0</th>\n",
       "      <td>1</td>\n",
       "    </tr>\n",
       "    <tr>\n",
       "      <th>1</th>\n",
       "      <td>1</td>\n",
       "    </tr>\n",
       "    <tr>\n",
       "      <th>2</th>\n",
       "      <td>2</td>\n",
       "    </tr>\n",
       "    <tr>\n",
       "      <th>3</th>\n",
       "      <td>0</td>\n",
       "    </tr>\n",
       "    <tr>\n",
       "      <th>4</th>\n",
       "      <td>0</td>\n",
       "    </tr>\n",
       "  </tbody>\n",
       "</table>\n",
       "</div>"
      ],
      "text/plain": [
       "   cliName\n",
       "0        1\n",
       "1        1\n",
       "2        2\n",
       "3        0\n",
       "4        0"
      ]
     },
     "execution_count": 155,
     "metadata": {},
     "output_type": "execute_result"
    }
   ],
   "source": [
    "clientwise_df_1_clientName = clientName_oe_loaded.transform(clientwise_df_1['cliName'])\n",
    "clientwise_df_1_clientName=pd.DataFrame(clientwise_df_1_clientName,columns=['cliName'])\n",
    "clientwise_df_1_clientName"
   ]
  },
  {
   "cell_type": "code",
   "execution_count": 156,
   "id": "a4123e39",
   "metadata": {},
   "outputs": [
    {
     "data": {
      "text/html": [
       "<div>\n",
       "<style scoped>\n",
       "    .dataframe tbody tr th:only-of-type {\n",
       "        vertical-align: middle;\n",
       "    }\n",
       "\n",
       "    .dataframe tbody tr th {\n",
       "        vertical-align: top;\n",
       "    }\n",
       "\n",
       "    .dataframe thead th {\n",
       "        text-align: right;\n",
       "    }\n",
       "</style>\n",
       "<table border=\"1\" class=\"dataframe\">\n",
       "  <thead>\n",
       "    <tr style=\"text-align: right;\">\n",
       "      <th></th>\n",
       "      <th>month</th>\n",
       "    </tr>\n",
       "  </thead>\n",
       "  <tbody>\n",
       "    <tr>\n",
       "      <th>0</th>\n",
       "      <td>1</td>\n",
       "    </tr>\n",
       "    <tr>\n",
       "      <th>1</th>\n",
       "      <td>0</td>\n",
       "    </tr>\n",
       "    <tr>\n",
       "      <th>2</th>\n",
       "      <td>1</td>\n",
       "    </tr>\n",
       "    <tr>\n",
       "      <th>3</th>\n",
       "      <td>1</td>\n",
       "    </tr>\n",
       "    <tr>\n",
       "      <th>4</th>\n",
       "      <td>2</td>\n",
       "    </tr>\n",
       "  </tbody>\n",
       "</table>\n",
       "</div>"
      ],
      "text/plain": [
       "   month\n",
       "0      1\n",
       "1      0\n",
       "2      1\n",
       "3      1\n",
       "4      2"
      ]
     },
     "execution_count": 156,
     "metadata": {},
     "output_type": "execute_result"
    }
   ],
   "source": [
    "clientwise_df_1_month = month_oe_loaded.transform(clientwise_df_1['month'])\n",
    "clientwise_df_1_month=pd.DataFrame(clientwise_df_1_month,columns=['month'])\n",
    "clientwise_df_1_month"
   ]
  },
  {
   "cell_type": "code",
   "execution_count": 157,
   "id": "ba16dbe8",
   "metadata": {},
   "outputs": [
    {
     "data": {
      "text/html": [
       "<div>\n",
       "<style scoped>\n",
       "    .dataframe tbody tr th:only-of-type {\n",
       "        vertical-align: middle;\n",
       "    }\n",
       "\n",
       "    .dataframe tbody tr th {\n",
       "        vertical-align: top;\n",
       "    }\n",
       "\n",
       "    .dataframe thead th {\n",
       "        text-align: right;\n",
       "    }\n",
       "</style>\n",
       "<table border=\"1\" class=\"dataframe\">\n",
       "  <thead>\n",
       "    <tr style=\"text-align: right;\">\n",
       "      <th></th>\n",
       "      <th>day</th>\n",
       "    </tr>\n",
       "  </thead>\n",
       "  <tbody>\n",
       "    <tr>\n",
       "      <th>0</th>\n",
       "      <td>6</td>\n",
       "    </tr>\n",
       "    <tr>\n",
       "      <th>1</th>\n",
       "      <td>0</td>\n",
       "    </tr>\n",
       "    <tr>\n",
       "      <th>2</th>\n",
       "      <td>6</td>\n",
       "    </tr>\n",
       "    <tr>\n",
       "      <th>3</th>\n",
       "      <td>6</td>\n",
       "    </tr>\n",
       "    <tr>\n",
       "      <th>4</th>\n",
       "      <td>4</td>\n",
       "    </tr>\n",
       "  </tbody>\n",
       "</table>\n",
       "</div>"
      ],
      "text/plain": [
       "   day\n",
       "0    6\n",
       "1    0\n",
       "2    6\n",
       "3    6\n",
       "4    4"
      ]
     },
     "execution_count": 157,
     "metadata": {},
     "output_type": "execute_result"
    }
   ],
   "source": [
    "clientwise_df_1_day = day_oe_loaded.transform(clientwise_df_1['day'])\n",
    "clientwise_df_1_day=pd.DataFrame(clientwise_df_1_day,columns=['day'])\n",
    "clientwise_df_1_day"
   ]
  },
  {
   "cell_type": "code",
   "execution_count": 158,
   "id": "b6aa98a4",
   "metadata": {},
   "outputs": [
    {
     "data": {
      "text/html": [
       "<div>\n",
       "<style scoped>\n",
       "    .dataframe tbody tr th:only-of-type {\n",
       "        vertical-align: middle;\n",
       "    }\n",
       "\n",
       "    .dataframe tbody tr th {\n",
       "        vertical-align: top;\n",
       "    }\n",
       "\n",
       "    .dataframe thead th {\n",
       "        text-align: right;\n",
       "    }\n",
       "</style>\n",
       "<table border=\"1\" class=\"dataframe\">\n",
       "  <thead>\n",
       "    <tr style=\"text-align: right;\">\n",
       "      <th></th>\n",
       "      <th>qty</th>\n",
       "      <th>sales</th>\n",
       "      <th>cliName</th>\n",
       "      <th>month</th>\n",
       "      <th>day</th>\n",
       "    </tr>\n",
       "  </thead>\n",
       "  <tbody>\n",
       "    <tr>\n",
       "      <th>0</th>\n",
       "      <td>5</td>\n",
       "      <td>5934.0</td>\n",
       "      <td>1</td>\n",
       "      <td>1</td>\n",
       "      <td>6</td>\n",
       "    </tr>\n",
       "    <tr>\n",
       "      <th>1</th>\n",
       "      <td>5</td>\n",
       "      <td>27.0</td>\n",
       "      <td>1</td>\n",
       "      <td>0</td>\n",
       "      <td>0</td>\n",
       "    </tr>\n",
       "    <tr>\n",
       "      <th>2</th>\n",
       "      <td>2</td>\n",
       "      <td>8402.0</td>\n",
       "      <td>2</td>\n",
       "      <td>1</td>\n",
       "      <td>6</td>\n",
       "    </tr>\n",
       "    <tr>\n",
       "      <th>3</th>\n",
       "      <td>2</td>\n",
       "      <td>2520.0</td>\n",
       "      <td>0</td>\n",
       "      <td>1</td>\n",
       "      <td>6</td>\n",
       "    </tr>\n",
       "    <tr>\n",
       "      <th>4</th>\n",
       "      <td>6</td>\n",
       "      <td>22265.0</td>\n",
       "      <td>0</td>\n",
       "      <td>2</td>\n",
       "      <td>4</td>\n",
       "    </tr>\n",
       "  </tbody>\n",
       "</table>\n",
       "</div>"
      ],
      "text/plain": [
       "   qty    sales  cliName  month  day\n",
       "0    5   5934.0        1      1    6\n",
       "1    5     27.0        1      0    0\n",
       "2    2   8402.0        2      1    6\n",
       "3    2   2520.0        0      1    6\n",
       "4    6  22265.0        0      2    4"
      ]
     },
     "execution_count": 158,
     "metadata": {},
     "output_type": "execute_result"
    }
   ],
   "source": [
    "clientwise_df_1=pd.concat([clientwise_df_1.drop(columns=['cliName','month','day']),clientwise_df_1_clientName,clientwise_df_1_month,clientwise_df_1_day],axis=1)\n",
    "clientwise_df_1"
   ]
  },
  {
   "cell_type": "code",
   "execution_count": 159,
   "id": "95ee1632",
   "metadata": {},
   "outputs": [
    {
     "data": {
      "text/plain": [
       "qty          int64\n",
       "sales      float64\n",
       "cliName      int64\n",
       "month        int64\n",
       "day          int64\n",
       "dtype: object"
      ]
     },
     "execution_count": 159,
     "metadata": {},
     "output_type": "execute_result"
    }
   ],
   "source": [
    "clientwise_df_1.dtypes"
   ]
  },
  {
   "cell_type": "code",
   "execution_count": 160,
   "id": "f50dc865",
   "metadata": {},
   "outputs": [],
   "source": [
    "from xgboost import XGBRegressor\n",
    "m5 = XGBRegressor(random_state=42, n_jobs=-1, n_estimators=20, max_depth=4)"
   ]
  },
  {
   "cell_type": "code",
   "execution_count": 161,
   "id": "d8c21ec0",
   "metadata": {},
   "outputs": [
    {
     "data": {
      "text/html": [
       "<style>#sk-container-id-11 {color: black;background-color: white;}#sk-container-id-11 pre{padding: 0;}#sk-container-id-11 div.sk-toggleable {background-color: white;}#sk-container-id-11 label.sk-toggleable__label {cursor: pointer;display: block;width: 100%;margin-bottom: 0;padding: 0.3em;box-sizing: border-box;text-align: center;}#sk-container-id-11 label.sk-toggleable__label-arrow:before {content: \"▸\";float: left;margin-right: 0.25em;color: #696969;}#sk-container-id-11 label.sk-toggleable__label-arrow:hover:before {color: black;}#sk-container-id-11 div.sk-estimator:hover label.sk-toggleable__label-arrow:before {color: black;}#sk-container-id-11 div.sk-toggleable__content {max-height: 0;max-width: 0;overflow: hidden;text-align: left;background-color: #f0f8ff;}#sk-container-id-11 div.sk-toggleable__content pre {margin: 0.2em;color: black;border-radius: 0.25em;background-color: #f0f8ff;}#sk-container-id-11 input.sk-toggleable__control:checked~div.sk-toggleable__content {max-height: 200px;max-width: 100%;overflow: auto;}#sk-container-id-11 input.sk-toggleable__control:checked~label.sk-toggleable__label-arrow:before {content: \"▾\";}#sk-container-id-11 div.sk-estimator input.sk-toggleable__control:checked~label.sk-toggleable__label {background-color: #d4ebff;}#sk-container-id-11 div.sk-label input.sk-toggleable__control:checked~label.sk-toggleable__label {background-color: #d4ebff;}#sk-container-id-11 input.sk-hidden--visually {border: 0;clip: rect(1px 1px 1px 1px);clip: rect(1px, 1px, 1px, 1px);height: 1px;margin: -1px;overflow: hidden;padding: 0;position: absolute;width: 1px;}#sk-container-id-11 div.sk-estimator {font-family: monospace;background-color: #f0f8ff;border: 1px dotted black;border-radius: 0.25em;box-sizing: border-box;margin-bottom: 0.5em;}#sk-container-id-11 div.sk-estimator:hover {background-color: #d4ebff;}#sk-container-id-11 div.sk-parallel-item::after {content: \"\";width: 100%;border-bottom: 1px solid gray;flex-grow: 1;}#sk-container-id-11 div.sk-label:hover label.sk-toggleable__label {background-color: #d4ebff;}#sk-container-id-11 div.sk-serial::before {content: \"\";position: absolute;border-left: 1px solid gray;box-sizing: border-box;top: 0;bottom: 0;left: 50%;z-index: 0;}#sk-container-id-11 div.sk-serial {display: flex;flex-direction: column;align-items: center;background-color: white;padding-right: 0.2em;padding-left: 0.2em;position: relative;}#sk-container-id-11 div.sk-item {position: relative;z-index: 1;}#sk-container-id-11 div.sk-parallel {display: flex;align-items: stretch;justify-content: center;background-color: white;position: relative;}#sk-container-id-11 div.sk-item::before, #sk-container-id-11 div.sk-parallel-item::before {content: \"\";position: absolute;border-left: 1px solid gray;box-sizing: border-box;top: 0;bottom: 0;left: 50%;z-index: -1;}#sk-container-id-11 div.sk-parallel-item {display: flex;flex-direction: column;z-index: 1;position: relative;background-color: white;}#sk-container-id-11 div.sk-parallel-item:first-child::after {align-self: flex-end;width: 50%;}#sk-container-id-11 div.sk-parallel-item:last-child::after {align-self: flex-start;width: 50%;}#sk-container-id-11 div.sk-parallel-item:only-child::after {width: 0;}#sk-container-id-11 div.sk-dashed-wrapped {border: 1px dashed gray;margin: 0 0.4em 0.5em 0.4em;box-sizing: border-box;padding-bottom: 0.4em;background-color: white;}#sk-container-id-11 div.sk-label label {font-family: monospace;font-weight: bold;display: inline-block;line-height: 1.2em;}#sk-container-id-11 div.sk-label-container {text-align: center;}#sk-container-id-11 div.sk-container {/* jupyter's `normalize.less` sets `[hidden] { display: none; }` but bootstrap.min.css set `[hidden] { display: none !important; }` so we also need the `!important` here to be able to override the default hidden behavior on the sphinx rendered scikit-learn.org. See: https://github.com/scikit-learn/scikit-learn/issues/21755 */display: inline-block !important;position: relative;}#sk-container-id-11 div.sk-text-repr-fallback {display: none;}</style><div id=\"sk-container-id-11\" class=\"sk-top-container\"><div class=\"sk-text-repr-fallback\"><pre>XGBRegressor(base_score=0.5, booster=&#x27;gbtree&#x27;, callbacks=None,\n",
       "             colsample_bylevel=1, colsample_bynode=1, colsample_bytree=1,\n",
       "             early_stopping_rounds=None, enable_categorical=False,\n",
       "             eval_metric=None, feature_types=None, gamma=0, gpu_id=-1,\n",
       "             grow_policy=&#x27;depthwise&#x27;, importance_type=None,\n",
       "             interaction_constraints=&#x27;&#x27;, learning_rate=0.300000012, max_bin=256,\n",
       "             max_cat_threshold=64, max_cat_to_onehot=4, max_delta_step=0,\n",
       "             max_depth=4, max_leaves=0, min_child_weight=1, missing=nan,\n",
       "             monotone_constraints=&#x27;()&#x27;, n_estimators=20, n_jobs=-1,\n",
       "             num_parallel_tree=1, predictor=&#x27;auto&#x27;, random_state=42, ...)</pre><b>In a Jupyter environment, please rerun this cell to show the HTML representation or trust the notebook. <br />On GitHub, the HTML representation is unable to render, please try loading this page with nbviewer.org.</b></div><div class=\"sk-container\" hidden><div class=\"sk-item\"><div class=\"sk-estimator sk-toggleable\"><input class=\"sk-toggleable__control sk-hidden--visually\" id=\"sk-estimator-id-17\" type=\"checkbox\" checked><label for=\"sk-estimator-id-17\" class=\"sk-toggleable__label sk-toggleable__label-arrow\">XGBRegressor</label><div class=\"sk-toggleable__content\"><pre>XGBRegressor(base_score=0.5, booster=&#x27;gbtree&#x27;, callbacks=None,\n",
       "             colsample_bylevel=1, colsample_bynode=1, colsample_bytree=1,\n",
       "             early_stopping_rounds=None, enable_categorical=False,\n",
       "             eval_metric=None, feature_types=None, gamma=0, gpu_id=-1,\n",
       "             grow_policy=&#x27;depthwise&#x27;, importance_type=None,\n",
       "             interaction_constraints=&#x27;&#x27;, learning_rate=0.300000012, max_bin=256,\n",
       "             max_cat_threshold=64, max_cat_to_onehot=4, max_delta_step=0,\n",
       "             max_depth=4, max_leaves=0, min_child_weight=1, missing=nan,\n",
       "             monotone_constraints=&#x27;()&#x27;, n_estimators=20, n_jobs=-1,\n",
       "             num_parallel_tree=1, predictor=&#x27;auto&#x27;, random_state=42, ...)</pre></div></div></div></div></div>"
      ],
      "text/plain": [
       "XGBRegressor(base_score=0.5, booster='gbtree', callbacks=None,\n",
       "             colsample_bylevel=1, colsample_bynode=1, colsample_bytree=1,\n",
       "             early_stopping_rounds=None, enable_categorical=False,\n",
       "             eval_metric=None, feature_types=None, gamma=0, gpu_id=-1,\n",
       "             grow_policy='depthwise', importance_type=None,\n",
       "             interaction_constraints='', learning_rate=0.300000012, max_bin=256,\n",
       "             max_cat_threshold=64, max_cat_to_onehot=4, max_delta_step=0,\n",
       "             max_depth=4, max_leaves=0, min_child_weight=1, missing=nan,\n",
       "             monotone_constraints='()', n_estimators=20, n_jobs=-1,\n",
       "             num_parallel_tree=1, predictor='auto', random_state=42, ...)"
      ]
     },
     "execution_count": 161,
     "metadata": {},
     "output_type": "execute_result"
    }
   ],
   "source": [
    "m5.fit(clientwise_df_1.drop(columns=['sales']),clientwise_df_1['sales'])"
   ]
  },
  {
   "cell_type": "code",
   "execution_count": 162,
   "id": "ee694d83",
   "metadata": {},
   "outputs": [],
   "source": [
    "import pickle\n",
    "pickle.dump(m5,open('m5.pkl','wb'))"
   ]
  },
  {
   "cell_type": "code",
   "execution_count": 163,
   "id": "353ecc36",
   "metadata": {},
   "outputs": [],
   "source": [
    "m5_loaded = pickle.load(open('m5.pkl','rb'))"
   ]
  },
  {
   "cell_type": "code",
   "execution_count": 167,
   "id": "de27958a",
   "metadata": {},
   "outputs": [
    {
     "data": {
      "text/html": [
       "<div>\n",
       "<style scoped>\n",
       "    .dataframe tbody tr th:only-of-type {\n",
       "        vertical-align: middle;\n",
       "    }\n",
       "\n",
       "    .dataframe tbody tr th {\n",
       "        vertical-align: top;\n",
       "    }\n",
       "\n",
       "    .dataframe thead th {\n",
       "        text-align: right;\n",
       "    }\n",
       "</style>\n",
       "<table border=\"1\" class=\"dataframe\">\n",
       "  <thead>\n",
       "    <tr style=\"text-align: right;\">\n",
       "      <th></th>\n",
       "      <th>qty</th>\n",
       "      <th>cliName</th>\n",
       "      <th>month</th>\n",
       "      <th>day</th>\n",
       "    </tr>\n",
       "  </thead>\n",
       "  <tbody>\n",
       "    <tr>\n",
       "      <th>0</th>\n",
       "      <td>4</td>\n",
       "      <td>Decathlon Electronics</td>\n",
       "      <td>05</td>\n",
       "      <td>3</td>\n",
       "    </tr>\n",
       "  </tbody>\n",
       "</table>\n",
       "</div>"
      ],
      "text/plain": [
       "  qty                cliName month day\n",
       "0   4  Decathlon Electronics    05   3"
      ]
     },
     "execution_count": 167,
     "metadata": {},
     "output_type": "execute_result"
    }
   ],
   "source": [
    "test_m5_input = np.array([int(4),'Decathlon Electronics','05','3']).reshape(1,4)\n",
    "test_m5_input_df = pd.DataFrame(test_m5_input,columns=['qty','cliName','month','day'])\n",
    "test_m5_input_df"
   ]
  },
  {
   "cell_type": "code",
   "execution_count": 168,
   "id": "bf31b49e",
   "metadata": {},
   "outputs": [
    {
     "data": {
      "text/plain": [
       "qty        object\n",
       "cliName    object\n",
       "month      object\n",
       "day        object\n",
       "dtype: object"
      ]
     },
     "execution_count": 168,
     "metadata": {},
     "output_type": "execute_result"
    }
   ],
   "source": [
    "test_m5_input_df.dtypes"
   ]
  },
  {
   "cell_type": "code",
   "execution_count": 169,
   "id": "e4af5b8d",
   "metadata": {},
   "outputs": [
    {
     "data": {
      "text/html": [
       "<div>\n",
       "<style scoped>\n",
       "    .dataframe tbody tr th:only-of-type {\n",
       "        vertical-align: middle;\n",
       "    }\n",
       "\n",
       "    .dataframe tbody tr th {\n",
       "        vertical-align: top;\n",
       "    }\n",
       "\n",
       "    .dataframe thead th {\n",
       "        text-align: right;\n",
       "    }\n",
       "</style>\n",
       "<table border=\"1\" class=\"dataframe\">\n",
       "  <thead>\n",
       "    <tr style=\"text-align: right;\">\n",
       "      <th></th>\n",
       "      <th>qty</th>\n",
       "      <th>cliName</th>\n",
       "      <th>month</th>\n",
       "      <th>day</th>\n",
       "    </tr>\n",
       "  </thead>\n",
       "  <tbody>\n",
       "    <tr>\n",
       "      <th>0</th>\n",
       "      <td>4</td>\n",
       "      <td>0</td>\n",
       "      <td>4</td>\n",
       "      <td>3</td>\n",
       "    </tr>\n",
       "  </tbody>\n",
       "</table>\n",
       "</div>"
      ],
      "text/plain": [
       "  qty  cliName  month  day\n",
       "0   4        0      4    3"
      ]
     },
     "execution_count": 169,
     "metadata": {},
     "output_type": "execute_result"
    }
   ],
   "source": [
    "test_m5_input_df_clientName = pd.DataFrame(clientName_oe_loaded.transform(test_m5_input_df['cliName']),columns=['cliName']) \n",
    "test_m5_input_df_month = pd.DataFrame(month_oe_loaded.transform(test_m5_input_df['month']),columns=['month'])\n",
    "test_m5_input_df_day = pd.DataFrame(day_oe_loaded.transform(test_m5_input_df['day']),columns=['day'])\n",
    "test_m5_input_df_transformed =pd.concat([test_m5_input_df.drop(columns=['cliName','month','day']),test_m5_input_df_clientName,test_m5_input_df_month,test_m5_input_df_day],axis=1)\n",
    "test_m5_input_df_transformed"
   ]
  },
  {
   "cell_type": "code",
   "execution_count": 170,
   "id": "3893c381",
   "metadata": {},
   "outputs": [
    {
     "data": {
      "text/plain": [
       "qty        object\n",
       "cliName     int64\n",
       "month       int64\n",
       "day         int64\n",
       "dtype: object"
      ]
     },
     "execution_count": 170,
     "metadata": {},
     "output_type": "execute_result"
    }
   ],
   "source": [
    "test_m5_input_df_transformed.dtypes"
   ]
  },
  {
   "cell_type": "code",
   "execution_count": 171,
   "id": "4449f761",
   "metadata": {},
   "outputs": [],
   "source": [
    "test_m5_input_df_transformed['qty'] = test_m5_input_df_transformed['qty'].astype(int)"
   ]
  },
  {
   "cell_type": "code",
   "execution_count": 172,
   "id": "b1dd5702",
   "metadata": {},
   "outputs": [
    {
     "data": {
      "text/plain": [
       "qty        int64\n",
       "cliName    int64\n",
       "month      int64\n",
       "day        int64\n",
       "dtype: object"
      ]
     },
     "execution_count": 172,
     "metadata": {},
     "output_type": "execute_result"
    }
   ],
   "source": [
    "test_m5_input_df_transformed.dtypes"
   ]
  },
  {
   "cell_type": "code",
   "execution_count": 173,
   "id": "f01178ae",
   "metadata": {},
   "outputs": [
    {
     "data": {
      "text/plain": [
       "array([2568.574], dtype=float32)"
      ]
     },
     "execution_count": 173,
     "metadata": {},
     "output_type": "execute_result"
    }
   ],
   "source": [
    "m5_loaded.predict(test_m5_input_df_transformed)"
   ]
  },
  {
   "cell_type": "code",
   "execution_count": null,
   "id": "0e38f91f",
   "metadata": {},
   "outputs": [],
   "source": []
  }
 ],
 "metadata": {
  "kernelspec": {
   "display_name": "senti",
   "language": "python",
   "name": "senti"
  },
  "language_info": {
   "codemirror_mode": {
    "name": "ipython",
    "version": 3
   },
   "file_extension": ".py",
   "mimetype": "text/x-python",
   "name": "python",
   "nbconvert_exporter": "python",
   "pygments_lexer": "ipython3",
   "version": "3.9.16"
  }
 },
 "nbformat": 4,
 "nbformat_minor": 5
}
