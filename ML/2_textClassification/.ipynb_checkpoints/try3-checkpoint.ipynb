{
 "cells": [
  {
   "cell_type": "code",
   "execution_count": 1,
   "id": "fae13003",
   "metadata": {},
   "outputs": [],
   "source": [
    "import pandas as pd \n",
    "import numpy as np"
   ]
  },
  {
   "cell_type": "code",
   "execution_count": 2,
   "id": "4536fc84",
   "metadata": {},
   "outputs": [],
   "source": [
    "df = pd.read_csv(\"../3_regClassif/senti_clientwise_try1.csv\")"
   ]
  },
  {
   "cell_type": "code",
   "execution_count": 4,
   "id": "7149e52c",
   "metadata": {},
   "outputs": [
    {
     "name": "stdout",
     "output_type": "stream",
     "text": [
      "(59094, 6)\n"
     ]
    },
    {
     "data": {
      "text/html": [
       "<div>\n",
       "<style scoped>\n",
       "    .dataframe tbody tr th:only-of-type {\n",
       "        vertical-align: middle;\n",
       "    }\n",
       "\n",
       "    .dataframe tbody tr th {\n",
       "        vertical-align: top;\n",
       "    }\n",
       "\n",
       "    .dataframe thead th {\n",
       "        text-align: right;\n",
       "    }\n",
       "</style>\n",
       "<table border=\"1\" class=\"dataframe\">\n",
       "  <thead>\n",
       "    <tr style=\"text-align: right;\">\n",
       "      <th></th>\n",
       "      <th>Unnamed: 0</th>\n",
       "      <th>OrderId</th>\n",
       "      <th>CliChats</th>\n",
       "      <th>SpChats</th>\n",
       "      <th>CliAvgSenti</th>\n",
       "      <th>Sp_avg_senti</th>\n",
       "    </tr>\n",
       "  </thead>\n",
       "  <tbody>\n",
       "    <tr>\n",
       "      <th>0</th>\n",
       "      <td>0</td>\n",
       "      <td>17393</td>\n",
       "      <td>I only rented this because i loved the first m...</td>\n",
       "      <td>This film plunges headlong into the realm of t...</td>\n",
       "      <td>0.4</td>\n",
       "      <td>0.4</td>\n",
       "    </tr>\n",
       "    <tr>\n",
       "      <th>1</th>\n",
       "      <td>1</td>\n",
       "      <td>17393</td>\n",
       "      <td>'I don't understand. None of this makes any se...</td>\n",
       "      <td>Taylor Hackford wanted to make this movie for ...</td>\n",
       "      <td>0.4</td>\n",
       "      <td>0.6</td>\n",
       "    </tr>\n",
       "    <tr>\n",
       "      <th>2</th>\n",
       "      <td>2</td>\n",
       "      <td>17393</td>\n",
       "      <td>I know that to include everything in the book,...</td>\n",
       "      <td>I don't know about the real Cobb but I got the...</td>\n",
       "      <td>0.8</td>\n",
       "      <td>0.0</td>\n",
       "    </tr>\n",
       "    <tr>\n",
       "      <th>3</th>\n",
       "      <td>3</td>\n",
       "      <td>17393</td>\n",
       "      <td>This is easily the worst, most offensive piece...</td>\n",
       "      <td>The film starts in the Long Island Kennel Club...</td>\n",
       "      <td>0.4</td>\n",
       "      <td>0.6</td>\n",
       "    </tr>\n",
       "    <tr>\n",
       "      <th>4</th>\n",
       "      <td>4</td>\n",
       "      <td>17394</td>\n",
       "      <td>When you see Barry Corbin in the cast of a mov...</td>\n",
       "      <td>Richard Attenborough who already given us magn...</td>\n",
       "      <td>0.4</td>\n",
       "      <td>0.6</td>\n",
       "    </tr>\n",
       "  </tbody>\n",
       "</table>\n",
       "</div>"
      ],
      "text/plain": [
       "   Unnamed: 0  OrderId                                           CliChats  \\\n",
       "0           0    17393  I only rented this because i loved the first m...   \n",
       "1           1    17393  'I don't understand. None of this makes any se...   \n",
       "2           2    17393  I know that to include everything in the book,...   \n",
       "3           3    17393  This is easily the worst, most offensive piece...   \n",
       "4           4    17394  When you see Barry Corbin in the cast of a mov...   \n",
       "\n",
       "                                             SpChats  CliAvgSenti  \\\n",
       "0  This film plunges headlong into the realm of t...          0.4   \n",
       "1  Taylor Hackford wanted to make this movie for ...          0.4   \n",
       "2  I don't know about the real Cobb but I got the...          0.8   \n",
       "3  The film starts in the Long Island Kennel Club...          0.4   \n",
       "4  Richard Attenborough who already given us magn...          0.4   \n",
       "\n",
       "   Sp_avg_senti  \n",
       "0           0.4  \n",
       "1           0.6  \n",
       "2           0.0  \n",
       "3           0.6  \n",
       "4           0.6  "
      ]
     },
     "execution_count": 4,
     "metadata": {},
     "output_type": "execute_result"
    }
   ],
   "source": [
    "print(df.shape)\n",
    "df.head()"
   ]
  },
  {
   "cell_type": "markdown",
   "id": "7f17b535",
   "metadata": {},
   "source": [
    "# Text Preprocessing"
   ]
  },
  {
   "cell_type": "code",
   "execution_count": null,
   "id": "ce077480",
   "metadata": {},
   "outputs": [],
   "source": []
  }
 ],
 "metadata": {
  "kernelspec": {
   "display_name": "Python 3 (ipykernel)",
   "language": "python",
   "name": "python3"
  },
  "language_info": {
   "codemirror_mode": {
    "name": "ipython",
    "version": 3
   },
   "file_extension": ".py",
   "mimetype": "text/x-python",
   "name": "python",
   "nbconvert_exporter": "python",
   "pygments_lexer": "ipython3",
   "version": "3.9.7"
  }
 },
 "nbformat": 4,
 "nbformat_minor": 5
}
