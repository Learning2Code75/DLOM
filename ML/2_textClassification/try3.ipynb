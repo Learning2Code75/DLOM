{
 "cells": [
  {
   "cell_type": "code",
   "execution_count": 1,
   "id": "e07f39d4",
   "metadata": {},
   "outputs": [],
   "source": [
    "import pandas as pd \n",
    "import numpy as np"
   ]
  },
  {
   "cell_type": "markdown",
   "id": "134d2990",
   "metadata": {},
   "source": [
    "# Test Dataset "
   ]
  },
  {
   "cell_type": "code",
   "execution_count": 2,
   "id": "5ac53e41",
   "metadata": {},
   "outputs": [],
   "source": [
    "df = pd.read_csv(\"../1_mockData/try1/senti_orderwise.csv\")"
   ]
  },
  {
   "cell_type": "code",
   "execution_count": 3,
   "id": "b7e82f1d",
   "metadata": {},
   "outputs": [
    {
     "name": "stdout",
     "output_type": "stream",
     "text": [
      "(59094, 8)\n"
     ]
    },
    {
     "data": {
      "text/html": [
       "<div>\n",
       "<style scoped>\n",
       "    .dataframe tbody tr th:only-of-type {\n",
       "        vertical-align: middle;\n",
       "    }\n",
       "\n",
       "    .dataframe tbody tr th {\n",
       "        vertical-align: top;\n",
       "    }\n",
       "\n",
       "    .dataframe thead th {\n",
       "        text-align: right;\n",
       "    }\n",
       "</style>\n",
       "<table border=\"1\" class=\"dataframe\">\n",
       "  <thead>\n",
       "    <tr style=\"text-align: right;\">\n",
       "      <th></th>\n",
       "      <th>Unnamed: 0</th>\n",
       "      <th>OrderId</th>\n",
       "      <th>CliChats</th>\n",
       "      <th>SpChats</th>\n",
       "      <th>CliSenti</th>\n",
       "      <th>SpSenti</th>\n",
       "      <th>CliAvgSenti</th>\n",
       "      <th>SpAvgSenti</th>\n",
       "    </tr>\n",
       "  </thead>\n",
       "  <tbody>\n",
       "    <tr>\n",
       "      <th>0</th>\n",
       "      <td>0</td>\n",
       "      <td>17393</td>\n",
       "      <td>Finding the premise intriguing, and reading th...</td>\n",
       "      <td>This is a gem of a movie not just for people w...</td>\n",
       "      <td>NaN</td>\n",
       "      <td>NaN</td>\n",
       "      <td>0.4</td>\n",
       "      <td>1.0</td>\n",
       "    </tr>\n",
       "    <tr>\n",
       "      <th>1</th>\n",
       "      <td>1</td>\n",
       "      <td>17393</td>\n",
       "      <td>Finding the premise intriguing, and reading th...</td>\n",
       "      <td>This is a gem of a movie not just for people w...</td>\n",
       "      <td>NaN</td>\n",
       "      <td>NaN</td>\n",
       "      <td>0.4</td>\n",
       "      <td>1.0</td>\n",
       "    </tr>\n",
       "    <tr>\n",
       "      <th>2</th>\n",
       "      <td>2</td>\n",
       "      <td>17393</td>\n",
       "      <td>Finding the premise intriguing, and reading th...</td>\n",
       "      <td>This is a gem of a movie not just for people w...</td>\n",
       "      <td>NaN</td>\n",
       "      <td>NaN</td>\n",
       "      <td>0.4</td>\n",
       "      <td>1.0</td>\n",
       "    </tr>\n",
       "    <tr>\n",
       "      <th>3</th>\n",
       "      <td>3</td>\n",
       "      <td>17393</td>\n",
       "      <td>Finding the premise intriguing, and reading th...</td>\n",
       "      <td>This is a gem of a movie not just for people w...</td>\n",
       "      <td>NaN</td>\n",
       "      <td>NaN</td>\n",
       "      <td>0.4</td>\n",
       "      <td>1.0</td>\n",
       "    </tr>\n",
       "    <tr>\n",
       "      <th>4</th>\n",
       "      <td>4</td>\n",
       "      <td>17394</td>\n",
       "      <td>Good luck finding this film to even watch - it...</td>\n",
       "      <td>For all the Homicide junkies out there, this m...</td>\n",
       "      <td>NaN</td>\n",
       "      <td>NaN</td>\n",
       "      <td>0.8</td>\n",
       "      <td>0.4</td>\n",
       "    </tr>\n",
       "  </tbody>\n",
       "</table>\n",
       "</div>"
      ],
      "text/plain": [
       "   Unnamed: 0  OrderId                                           CliChats  \\\n",
       "0           0    17393  Finding the premise intriguing, and reading th...   \n",
       "1           1    17393  Finding the premise intriguing, and reading th...   \n",
       "2           2    17393  Finding the premise intriguing, and reading th...   \n",
       "3           3    17393  Finding the premise intriguing, and reading th...   \n",
       "4           4    17394  Good luck finding this film to even watch - it...   \n",
       "\n",
       "                                             SpChats  CliSenti  SpSenti  \\\n",
       "0  This is a gem of a movie not just for people w...       NaN      NaN   \n",
       "1  This is a gem of a movie not just for people w...       NaN      NaN   \n",
       "2  This is a gem of a movie not just for people w...       NaN      NaN   \n",
       "3  This is a gem of a movie not just for people w...       NaN      NaN   \n",
       "4  For all the Homicide junkies out there, this m...       NaN      NaN   \n",
       "\n",
       "   CliAvgSenti  SpAvgSenti  \n",
       "0          0.4         1.0  \n",
       "1          0.4         1.0  \n",
       "2          0.4         1.0  \n",
       "3          0.4         1.0  \n",
       "4          0.8         0.4  "
      ]
     },
     "execution_count": 3,
     "metadata": {},
     "output_type": "execute_result"
    }
   ],
   "source": [
    "print(df.shape)\n",
    "df.head()"
   ]
  },
  {
   "cell_type": "markdown",
   "id": "bffd18eb",
   "metadata": {},
   "source": [
    "# 1.Text Preprocessing"
   ]
  },
  {
   "cell_type": "code",
   "execution_count": 4,
   "id": "66f8b707",
   "metadata": {},
   "outputs": [],
   "source": [
    "# lowercasing\n",
    "df['CliChats']= df['CliChats'].str.lower()\n",
    "df['SpChats']=df['SpChats'].str.lower()"
   ]
  },
  {
   "cell_type": "code",
   "execution_count": 5,
   "id": "c8d94fac",
   "metadata": {},
   "outputs": [
    {
     "data": {
      "text/html": [
       "<div>\n",
       "<style scoped>\n",
       "    .dataframe tbody tr th:only-of-type {\n",
       "        vertical-align: middle;\n",
       "    }\n",
       "\n",
       "    .dataframe tbody tr th {\n",
       "        vertical-align: top;\n",
       "    }\n",
       "\n",
       "    .dataframe thead th {\n",
       "        text-align: right;\n",
       "    }\n",
       "</style>\n",
       "<table border=\"1\" class=\"dataframe\">\n",
       "  <thead>\n",
       "    <tr style=\"text-align: right;\">\n",
       "      <th></th>\n",
       "      <th>Unnamed: 0</th>\n",
       "      <th>OrderId</th>\n",
       "      <th>CliChats</th>\n",
       "      <th>SpChats</th>\n",
       "      <th>CliSenti</th>\n",
       "      <th>SpSenti</th>\n",
       "      <th>CliAvgSenti</th>\n",
       "      <th>SpAvgSenti</th>\n",
       "    </tr>\n",
       "  </thead>\n",
       "  <tbody>\n",
       "    <tr>\n",
       "      <th>0</th>\n",
       "      <td>0</td>\n",
       "      <td>17393</td>\n",
       "      <td>finding the premise intriguing, and reading th...</td>\n",
       "      <td>this is a gem of a movie not just for people w...</td>\n",
       "      <td>NaN</td>\n",
       "      <td>NaN</td>\n",
       "      <td>0.4</td>\n",
       "      <td>1.0</td>\n",
       "    </tr>\n",
       "    <tr>\n",
       "      <th>1</th>\n",
       "      <td>1</td>\n",
       "      <td>17393</td>\n",
       "      <td>finding the premise intriguing, and reading th...</td>\n",
       "      <td>this is a gem of a movie not just for people w...</td>\n",
       "      <td>NaN</td>\n",
       "      <td>NaN</td>\n",
       "      <td>0.4</td>\n",
       "      <td>1.0</td>\n",
       "    </tr>\n",
       "  </tbody>\n",
       "</table>\n",
       "</div>"
      ],
      "text/plain": [
       "   Unnamed: 0  OrderId                                           CliChats  \\\n",
       "0           0    17393  finding the premise intriguing, and reading th...   \n",
       "1           1    17393  finding the premise intriguing, and reading th...   \n",
       "\n",
       "                                             SpChats  CliSenti  SpSenti  \\\n",
       "0  this is a gem of a movie not just for people w...       NaN      NaN   \n",
       "1  this is a gem of a movie not just for people w...       NaN      NaN   \n",
       "\n",
       "   CliAvgSenti  SpAvgSenti  \n",
       "0          0.4         1.0  \n",
       "1          0.4         1.0  "
      ]
     },
     "execution_count": 5,
     "metadata": {},
     "output_type": "execute_result"
    }
   ],
   "source": [
    "df.head(2)"
   ]
  },
  {
   "cell_type": "code",
   "execution_count": 6,
   "id": "2d3de02a",
   "metadata": {},
   "outputs": [],
   "source": [
    "#removing html tags \n",
    "import re \n",
    "def remove_html_tags(text):\n",
    "    pattern = re.compile('<.*?>')\n",
    "    return pattern.sub(r'',text)"
   ]
  },
  {
   "cell_type": "code",
   "execution_count": 7,
   "id": "ef3edcf2",
   "metadata": {},
   "outputs": [],
   "source": [
    "df['CliChats'] = df['CliChats'].apply(remove_html_tags)\n",
    "df['SpChats'] = df['SpChats'].apply(remove_html_tags)"
   ]
  },
  {
   "cell_type": "code",
   "execution_count": 8,
   "id": "7f0939ec",
   "metadata": {},
   "outputs": [
    {
     "data": {
      "text/html": [
       "<div>\n",
       "<style scoped>\n",
       "    .dataframe tbody tr th:only-of-type {\n",
       "        vertical-align: middle;\n",
       "    }\n",
       "\n",
       "    .dataframe tbody tr th {\n",
       "        vertical-align: top;\n",
       "    }\n",
       "\n",
       "    .dataframe thead th {\n",
       "        text-align: right;\n",
       "    }\n",
       "</style>\n",
       "<table border=\"1\" class=\"dataframe\">\n",
       "  <thead>\n",
       "    <tr style=\"text-align: right;\">\n",
       "      <th></th>\n",
       "      <th>Unnamed: 0</th>\n",
       "      <th>OrderId</th>\n",
       "      <th>CliChats</th>\n",
       "      <th>SpChats</th>\n",
       "      <th>CliSenti</th>\n",
       "      <th>SpSenti</th>\n",
       "      <th>CliAvgSenti</th>\n",
       "      <th>SpAvgSenti</th>\n",
       "    </tr>\n",
       "  </thead>\n",
       "  <tbody>\n",
       "    <tr>\n",
       "      <th>0</th>\n",
       "      <td>0</td>\n",
       "      <td>17393</td>\n",
       "      <td>finding the premise intriguing, and reading th...</td>\n",
       "      <td>this is a gem of a movie not just for people w...</td>\n",
       "      <td>NaN</td>\n",
       "      <td>NaN</td>\n",
       "      <td>0.4</td>\n",
       "      <td>1.0</td>\n",
       "    </tr>\n",
       "    <tr>\n",
       "      <th>1</th>\n",
       "      <td>1</td>\n",
       "      <td>17393</td>\n",
       "      <td>finding the premise intriguing, and reading th...</td>\n",
       "      <td>this is a gem of a movie not just for people w...</td>\n",
       "      <td>NaN</td>\n",
       "      <td>NaN</td>\n",
       "      <td>0.4</td>\n",
       "      <td>1.0</td>\n",
       "    </tr>\n",
       "  </tbody>\n",
       "</table>\n",
       "</div>"
      ],
      "text/plain": [
       "   Unnamed: 0  OrderId                                           CliChats  \\\n",
       "0           0    17393  finding the premise intriguing, and reading th...   \n",
       "1           1    17393  finding the premise intriguing, and reading th...   \n",
       "\n",
       "                                             SpChats  CliSenti  SpSenti  \\\n",
       "0  this is a gem of a movie not just for people w...       NaN      NaN   \n",
       "1  this is a gem of a movie not just for people w...       NaN      NaN   \n",
       "\n",
       "   CliAvgSenti  SpAvgSenti  \n",
       "0          0.4         1.0  \n",
       "1          0.4         1.0  "
      ]
     },
     "execution_count": 8,
     "metadata": {},
     "output_type": "execute_result"
    }
   ],
   "source": [
    "df.head(2)"
   ]
  },
  {
   "cell_type": "code",
   "execution_count": 9,
   "id": "d83ebb39",
   "metadata": {},
   "outputs": [],
   "source": [
    "#remove URLs\n",
    "def remove_url(text):\n",
    "    pattern = re.compile(r'https?://\\S+|www\\.\\S+')\n",
    "    return pattern.sub(r'',text)"
   ]
  },
  {
   "cell_type": "code",
   "execution_count": 10,
   "id": "efd446d3",
   "metadata": {},
   "outputs": [],
   "source": [
    "df['CliChats'] = df['CliChats'].apply(remove_url)\n",
    "df['SpChats'] = df['SpChats'].apply(remove_url)"
   ]
  },
  {
   "cell_type": "code",
   "execution_count": 11,
   "id": "9b4aeaf6",
   "metadata": {},
   "outputs": [
    {
     "data": {
      "text/html": [
       "<div>\n",
       "<style scoped>\n",
       "    .dataframe tbody tr th:only-of-type {\n",
       "        vertical-align: middle;\n",
       "    }\n",
       "\n",
       "    .dataframe tbody tr th {\n",
       "        vertical-align: top;\n",
       "    }\n",
       "\n",
       "    .dataframe thead th {\n",
       "        text-align: right;\n",
       "    }\n",
       "</style>\n",
       "<table border=\"1\" class=\"dataframe\">\n",
       "  <thead>\n",
       "    <tr style=\"text-align: right;\">\n",
       "      <th></th>\n",
       "      <th>Unnamed: 0</th>\n",
       "      <th>OrderId</th>\n",
       "      <th>CliChats</th>\n",
       "      <th>SpChats</th>\n",
       "      <th>CliSenti</th>\n",
       "      <th>SpSenti</th>\n",
       "      <th>CliAvgSenti</th>\n",
       "      <th>SpAvgSenti</th>\n",
       "    </tr>\n",
       "  </thead>\n",
       "  <tbody>\n",
       "    <tr>\n",
       "      <th>0</th>\n",
       "      <td>0</td>\n",
       "      <td>17393</td>\n",
       "      <td>finding the premise intriguing, and reading th...</td>\n",
       "      <td>this is a gem of a movie not just for people w...</td>\n",
       "      <td>NaN</td>\n",
       "      <td>NaN</td>\n",
       "      <td>0.4</td>\n",
       "      <td>1.0</td>\n",
       "    </tr>\n",
       "    <tr>\n",
       "      <th>1</th>\n",
       "      <td>1</td>\n",
       "      <td>17393</td>\n",
       "      <td>finding the premise intriguing, and reading th...</td>\n",
       "      <td>this is a gem of a movie not just for people w...</td>\n",
       "      <td>NaN</td>\n",
       "      <td>NaN</td>\n",
       "      <td>0.4</td>\n",
       "      <td>1.0</td>\n",
       "    </tr>\n",
       "  </tbody>\n",
       "</table>\n",
       "</div>"
      ],
      "text/plain": [
       "   Unnamed: 0  OrderId                                           CliChats  \\\n",
       "0           0    17393  finding the premise intriguing, and reading th...   \n",
       "1           1    17393  finding the premise intriguing, and reading th...   \n",
       "\n",
       "                                             SpChats  CliSenti  SpSenti  \\\n",
       "0  this is a gem of a movie not just for people w...       NaN      NaN   \n",
       "1  this is a gem of a movie not just for people w...       NaN      NaN   \n",
       "\n",
       "   CliAvgSenti  SpAvgSenti  \n",
       "0          0.4         1.0  \n",
       "1          0.4         1.0  "
      ]
     },
     "execution_count": 11,
     "metadata": {},
     "output_type": "execute_result"
    }
   ],
   "source": [
    "df.head(2)"
   ]
  },
  {
   "cell_type": "code",
   "execution_count": 12,
   "id": "98501e2e",
   "metadata": {},
   "outputs": [],
   "source": [
    "#remove punctuations \n",
    "def remove_punctuations(text):\n",
    "    return re.sub(r'[^\\w\\s]', '', text)"
   ]
  },
  {
   "cell_type": "code",
   "execution_count": 13,
   "id": "782cc482",
   "metadata": {},
   "outputs": [],
   "source": [
    "df['CliChats'] = df['CliChats'].apply(remove_punctuations)\n",
    "df['SpChats'] = df['SpChats'].apply(remove_punctuations)"
   ]
  },
  {
   "cell_type": "code",
   "execution_count": 14,
   "id": "269f94dc",
   "metadata": {},
   "outputs": [
    {
     "data": {
      "text/html": [
       "<div>\n",
       "<style scoped>\n",
       "    .dataframe tbody tr th:only-of-type {\n",
       "        vertical-align: middle;\n",
       "    }\n",
       "\n",
       "    .dataframe tbody tr th {\n",
       "        vertical-align: top;\n",
       "    }\n",
       "\n",
       "    .dataframe thead th {\n",
       "        text-align: right;\n",
       "    }\n",
       "</style>\n",
       "<table border=\"1\" class=\"dataframe\">\n",
       "  <thead>\n",
       "    <tr style=\"text-align: right;\">\n",
       "      <th></th>\n",
       "      <th>Unnamed: 0</th>\n",
       "      <th>OrderId</th>\n",
       "      <th>CliChats</th>\n",
       "      <th>SpChats</th>\n",
       "      <th>CliSenti</th>\n",
       "      <th>SpSenti</th>\n",
       "      <th>CliAvgSenti</th>\n",
       "      <th>SpAvgSenti</th>\n",
       "    </tr>\n",
       "  </thead>\n",
       "  <tbody>\n",
       "    <tr>\n",
       "      <th>0</th>\n",
       "      <td>0</td>\n",
       "      <td>17393</td>\n",
       "      <td>finding the premise intriguing and reading the...</td>\n",
       "      <td>this is a gem of a movie not just for people w...</td>\n",
       "      <td>NaN</td>\n",
       "      <td>NaN</td>\n",
       "      <td>0.4</td>\n",
       "      <td>1.0</td>\n",
       "    </tr>\n",
       "    <tr>\n",
       "      <th>1</th>\n",
       "      <td>1</td>\n",
       "      <td>17393</td>\n",
       "      <td>finding the premise intriguing and reading the...</td>\n",
       "      <td>this is a gem of a movie not just for people w...</td>\n",
       "      <td>NaN</td>\n",
       "      <td>NaN</td>\n",
       "      <td>0.4</td>\n",
       "      <td>1.0</td>\n",
       "    </tr>\n",
       "  </tbody>\n",
       "</table>\n",
       "</div>"
      ],
      "text/plain": [
       "   Unnamed: 0  OrderId                                           CliChats  \\\n",
       "0           0    17393  finding the premise intriguing and reading the...   \n",
       "1           1    17393  finding the premise intriguing and reading the...   \n",
       "\n",
       "                                             SpChats  CliSenti  SpSenti  \\\n",
       "0  this is a gem of a movie not just for people w...       NaN      NaN   \n",
       "1  this is a gem of a movie not just for people w...       NaN      NaN   \n",
       "\n",
       "   CliAvgSenti  SpAvgSenti  \n",
       "0          0.4         1.0  \n",
       "1          0.4         1.0  "
      ]
     },
     "execution_count": 14,
     "metadata": {},
     "output_type": "execute_result"
    }
   ],
   "source": [
    "df.head(2)"
   ]
  },
  {
   "cell_type": "code",
   "execution_count": 15,
   "id": "36312252",
   "metadata": {},
   "outputs": [],
   "source": [
    "# chat word treatment\n",
    "abbreviations = {\n",
    "    \"$\" : \" dollar \",\n",
    "    \"€\" : \" euro \",\n",
    "    \"4ao\" : \"for adults only\",\n",
    "    \"a.m\" : \"before midday\",\n",
    "    \"a3\" : \"anytime anywhere anyplace\",\n",
    "    \"aamof\" : \"as a matter of fact\",\n",
    "    \"acct\" : \"account\",\n",
    "    \"adih\" : \"another day in hell\",\n",
    "    \"afaic\" : \"as far as i am concerned\",\n",
    "    \"afaict\" : \"as far as i can tell\",\n",
    "    \"afaik\" : \"as far as i know\",\n",
    "    \"afair\" : \"as far as i remember\",\n",
    "    \"afk\" : \"away from keyboard\",\n",
    "    \"app\" : \"application\",\n",
    "    \"approx\" : \"approximately\",\n",
    "    \"apps\" : \"applications\",\n",
    "    \"asap\" : \"as soon as possible\",\n",
    "    \"atk\" : \"at the keyboard\",\n",
    "    \"ave.\" : \"avenue\",\n",
    "    \"aymm\" : \"are you my mother\",\n",
    "    \"ayor\" : \"at your own risk\", \n",
    "    \"b&b\" : \"bed and breakfast\",\n",
    "    \"b+b\" : \"bed and breakfast\",\n",
    "    \"b.c\" : \"before christ\",\n",
    "    \"b2b\" : \"business to business\",\n",
    "    \"b2c\" : \"business to customer\",\n",
    "    \"b4\" : \"before\",\n",
    "    \"b4n\" : \"bye for now\",\n",
    "    \"b@u\" : \"back at you\",\n",
    "    \"bae\" : \"before anyone else\",\n",
    "    \"bak\" : \"back at keyboard\",\n",
    "    \"bbbg\" : \"bye bye be good\",\n",
    "    \"bbias\" : \"be back in a second\",\n",
    "    \"bbl\" : \"be back later\",\n",
    "    \"bbs\" : \"be back soon\",\n",
    "    \"be4\" : \"before\",\n",
    "    \"bfn\" : \"bye for now\",\n",
    "    \"blvd\" : \"boulevard\",\n",
    "    \"bout\" : \"about\",\n",
    "    \"brb\" : \"be right back\",\n",
    "    \"bros\" : \"brothers\",\n",
    "    \"brt\" : \"be right there\",\n",
    "    \"bsaaw\" : \"big smile and a wink\",\n",
    "    \"btw\" : \"by the way\",\n",
    "    \"bwl\" : \"bursting with laughter\",\n",
    "    \"c/o\" : \"care of\",\n",
    "    \"cet\" : \"central european time\",\n",
    "    \"cf\" : \"compare\",\n",
    "    \"cia\" : \"central intelligence agency\",\n",
    "    \"csl\" : \"can not stop laughing\",\n",
    "    \"cu\" : \"see you\",\n",
    "    \"cul8r\" : \"see you later\",\n",
    "    \"cv\" : \"curriculum vitae\",\n",
    "    \"cwot\" : \"complete waste of time\",\n",
    "    \"cya\" : \"see you\",\n",
    "    \"cyt\" : \"see you tomorrow\",\n",
    "    \"dae\" : \"does anyone else\",\n",
    "    \"dbmib\" : \"do not bother me i am busy\",\n",
    "    \"diy\" : \"do it yourself\",\n",
    "    \"dm\" : \"direct message\",\n",
    "    \"dwh\" : \"during work hours\",\n",
    "    \"e123\" : \"easy as one two three\",\n",
    "    \"eet\" : \"eastern european time\",\n",
    "    \"eg\" : \"example\",\n",
    "    \"embm\" : \"early morning business meeting\",\n",
    "    \"encl\" : \"enclosed\",\n",
    "    \"encl.\" : \"enclosed\",\n",
    "    \"etc\" : \"and so on\",\n",
    "    \"faq\" : \"frequently asked questions\",\n",
    "    \"fawc\" : \"for anyone who cares\",\n",
    "    \"fb\" : \"facebook\",\n",
    "    \"fc\" : \"fingers crossed\",\n",
    "    \"fig\" : \"figure\",\n",
    "    \"fimh\" : \"forever in my heart\", \n",
    "    \"ft.\" : \"feet\",\n",
    "    \"ft\" : \"featuring\",\n",
    "    \"ftl\" : \"for the loss\",\n",
    "    \"ftw\" : \"for the win\",\n",
    "    \"fwiw\" : \"for what it is worth\",\n",
    "    \"fyi\" : \"for your information\",\n",
    "    \"g9\" : \"genius\",\n",
    "    \"gahoy\" : \"get a hold of yourself\",\n",
    "    \"gal\" : \"get a life\",\n",
    "    \"gcse\" : \"general certificate of secondary education\",\n",
    "    \"gfn\" : \"gone for now\",\n",
    "    \"gg\" : \"good game\",\n",
    "    \"gl\" : \"good luck\",\n",
    "    \"glhf\" : \"good luck have fun\",\n",
    "    \"gmt\" : \"greenwich mean time\",\n",
    "    \"gmta\" : \"great minds think alike\",\n",
    "    \"gn\" : \"good night\",\n",
    "    \"g.o.a.t\" : \"greatest of all time\",\n",
    "    \"goat\" : \"greatest of all time\",\n",
    "    \"goi\" : \"get over it\",\n",
    "    \"gps\" : \"global positioning system\",\n",
    "    \"gr8\" : \"great\",\n",
    "    \"gratz\" : \"congratulations\",\n",
    "    \"gyal\" : \"girl\",\n",
    "    \"h&c\" : \"hot and cold\",\n",
    "    \"hp\" : \"horsepower\",\n",
    "    \"hr\" : \"hour\",\n",
    "    \"hrh\" : \"his royal highness\",\n",
    "    \"ht\" : \"height\",\n",
    "    \"ibrb\" : \"i will be right back\",\n",
    "    \"ic\" : \"i see\",\n",
    "    \"icq\" : \"i seek you\",\n",
    "    \"icymi\" : \"in case you missed it\",\n",
    "    \"idc\" : \"i do not care\",\n",
    "    \"idk\" : \"i do not know\",\n",
    "    \"ie\" : \"that is\",\n",
    "    \"i.e\" : \"that is\",\n",
    "    \"ifyp\" : \"i feel your pain\",\n",
    "    \"IG\" : \"instagram\",\n",
    "    \"iirc\" : \"if i remember correctly\",\n",
    "    \"ilu\" : \"i love you\",\n",
    "    \"ily\" : \"i love you\",\n",
    "    \"imho\" : \"in my humble opinion\",\n",
    "    \"imo\" : \"in my opinion\",\n",
    "    \"imu\" : \"i miss you\",\n",
    "    \"iow\" : \"in other words\",\n",
    "    \"irl\" : \"in real life\",\n",
    "    \"j4f\" : \"just for fun\",\n",
    "    \"jic\" : \"just in case\",\n",
    "    \"jk\" : \"just kidding\",\n",
    "    \"jsyk\" : \"just so you know\",\n",
    "    \"l8r\" : \"later\",\n",
    "    \"lb\" : \"pound\",\n",
    "    \"lbs\" : \"pounds\",\n",
    "    \"ldr\" : \"long distance relationship\",\n",
    "    \"lol\" : \"laughing out loud\",\n",
    "    \"ltd\" : \"limited\",\n",
    "    \"ltns\" : \"long time no see\",\n",
    "    \"m8\" : \"mate\",\n",
    "    \"mfw\" : \"my face when\",\n",
    "    \"mph\" : \"miles per hour\",\n",
    "    \"mr\" : \"mister\",\n",
    "    \"mrw\" : \"my reaction when\",\n",
    "    \"ms\" : \"miss\",\n",
    "    \"mte\" : \"my thoughts exactly\",\n",
    "    \"nagi\" : \"not a good idea\",\n",
    "    \"nbc\" : \"national broadcasting company\",\n",
    "    \"nbd\" : \"not big deal\",\n",
    "    \"nfs\" : \"not for sale\",\n",
    "    \"ngl\" : \"not going to lie\",\n",
    "    \"nhs\" : \"national health service\",\n",
    "    \"nrn\" : \"no reply necessary\",\n",
    "    \"nsfl\" : \"not safe for life\",\n",
    "    \"nsfw\" : \"not safe for work\",\n",
    "    \"nth\" : \"nice to have\",\n",
    "    \"nvr\" : \"never\",\n",
    "    \"nyc\" : \"new york city\",\n",
    "    \"oc\" : \"original content\",\n",
    "    \"og\" : \"original\",\n",
    "    \"ohp\" : \"overhead projector\",\n",
    "    \"oic\" : \"oh i see\",\n",
    "    \"omdb\" : \"over my dead body\",\n",
    "    \"omg\" : \"oh my god\",\n",
    "    \"omw\" : \"on my way\",\n",
    "    \"p.a\" : \"per annum\",\n",
    "    \"p.m\" : \"after midday\",\n",
    "    \"pm\" : \"prime minister\",\n",
    "    \"poc\" : \"people of color\",\n",
    "    \"pov\" : \"point of view\",\n",
    "    \"pp\" : \"pages\",\n",
    "    \"ppl\" : \"people\",\n",
    "    \"prw\" : \"parents are watching\",\n",
    "    \"ps\" : \"postscript\",\n",
    "    \"pt\" : \"point\",\n",
    "    \"ptb\" : \"please text back\",\n",
    "    \"pto\" : \"please turn over\",\n",
    "    \"qpsa\" : \"what happens\", #\"que pasa\",\n",
    "    \"ratchet\" : \"rude\",\n",
    "    \"rbtl\" : \"read between the lines\",\n",
    "    \"rlrt\" : \"real life retweet\", \n",
    "    \"rofl\" : \"rolling on the floor laughing\",\n",
    "    \"roflol\" : \"rolling on the floor laughing out loud\",\n",
    "    \"rt\" : \"retweet\",\n",
    "    \"ruok\" : \"are you ok\",\n",
    "    \"sfw\" : \"safe for work\",\n",
    "    \"sk8\" : \"skate\",\n",
    "    \"smh\" : \"shake my head\",\n",
    "    \"sq\" : \"square\",\n",
    "    \"srsly\" : \"seriously\", \n",
    "    \"ssdd\" : \"same stuff different day\",\n",
    "    \"tbh\" : \"to be honest\",\n",
    "    \"tbs\" : \"tablespooful\",\n",
    "    \"tbsp\" : \"tablespooful\",\n",
    "    \"tfw\" : \"that feeling when\",\n",
    "    \"thks\" : \"thank you\",\n",
    "    \"tho\" : \"though\",\n",
    "    \"thx\" : \"thank you\",\n",
    "    \"tia\" : \"thanks in advance\",\n",
    "    \"til\" : \"today i learned\",\n",
    "    \"tl;dr\" : \"too long i did not read\",\n",
    "    \"tldr\" : \"too long i did not read\",\n",
    "    \"tmb\" : \"tweet me back\",\n",
    "    \"tntl\" : \"trying not to laugh\",\n",
    "    \"ttyl\" : \"talk to you later\",\n",
    "    \"u\" : \"you\",\n",
    "    \"u2\" : \"you too\",\n",
    "    \"u4e\" : \"yours for ever\",\n",
    "    \"utc\" : \"coordinated universal time\",\n",
    "    \"w/\" : \"with\",\n",
    "    \"w/o\" : \"without\",\n",
    "    \"w8\" : \"wait\",\n",
    "    \"wassup\" : \"what is up\",\n",
    "    \"wb\" : \"welcome back\",\n",
    "    \"wtg\" : \"way to go\",\n",
    "    \"wtpa\" : \"where the party at\",\n",
    "    \"wuf\" : \"where are you from\",\n",
    "    \"wuzup\" : \"what is up\",\n",
    "    \"wywh\" : \"wish you were here\",\n",
    "    \"yd\" : \"yard\",\n",
    "    \"ygtr\" : \"you got that right\",\n",
    "    \"ynk\" : \"you never know\",\n",
    "    \"zzz\" : \"sleeping bored and tired\"\n",
    "}\n",
    "def chat_word_treatment(text):\n",
    "    new_text = []\n",
    "    for w in text.split():\n",
    "        if w.lower() in abbreviations:\n",
    "            new_text.append(abbreviations[w.lower()])\n",
    "        else :\n",
    "            new_text.append(w)\n",
    "    return \" \".join(new_text)"
   ]
  },
  {
   "cell_type": "code",
   "execution_count": 16,
   "id": "692a5c19",
   "metadata": {},
   "outputs": [],
   "source": [
    "df['CliChats'] = df['CliChats'].apply(chat_word_treatment)\n",
    "df['SpChats'] = df['SpChats'].apply(chat_word_treatment)"
   ]
  },
  {
   "cell_type": "code",
   "execution_count": 17,
   "id": "123dcbe6",
   "metadata": {},
   "outputs": [
    {
     "data": {
      "text/html": [
       "<div>\n",
       "<style scoped>\n",
       "    .dataframe tbody tr th:only-of-type {\n",
       "        vertical-align: middle;\n",
       "    }\n",
       "\n",
       "    .dataframe tbody tr th {\n",
       "        vertical-align: top;\n",
       "    }\n",
       "\n",
       "    .dataframe thead th {\n",
       "        text-align: right;\n",
       "    }\n",
       "</style>\n",
       "<table border=\"1\" class=\"dataframe\">\n",
       "  <thead>\n",
       "    <tr style=\"text-align: right;\">\n",
       "      <th></th>\n",
       "      <th>Unnamed: 0</th>\n",
       "      <th>OrderId</th>\n",
       "      <th>CliChats</th>\n",
       "      <th>SpChats</th>\n",
       "      <th>CliSenti</th>\n",
       "      <th>SpSenti</th>\n",
       "      <th>CliAvgSenti</th>\n",
       "      <th>SpAvgSenti</th>\n",
       "    </tr>\n",
       "  </thead>\n",
       "  <tbody>\n",
       "    <tr>\n",
       "      <th>0</th>\n",
       "      <td>0</td>\n",
       "      <td>17393</td>\n",
       "      <td>finding the premise intriguing and reading the...</td>\n",
       "      <td>this is a gem of a movie not just for people w...</td>\n",
       "      <td>NaN</td>\n",
       "      <td>NaN</td>\n",
       "      <td>0.4</td>\n",
       "      <td>1.0</td>\n",
       "    </tr>\n",
       "    <tr>\n",
       "      <th>1</th>\n",
       "      <td>1</td>\n",
       "      <td>17393</td>\n",
       "      <td>finding the premise intriguing and reading the...</td>\n",
       "      <td>this is a gem of a movie not just for people w...</td>\n",
       "      <td>NaN</td>\n",
       "      <td>NaN</td>\n",
       "      <td>0.4</td>\n",
       "      <td>1.0</td>\n",
       "    </tr>\n",
       "  </tbody>\n",
       "</table>\n",
       "</div>"
      ],
      "text/plain": [
       "   Unnamed: 0  OrderId                                           CliChats  \\\n",
       "0           0    17393  finding the premise intriguing and reading the...   \n",
       "1           1    17393  finding the premise intriguing and reading the...   \n",
       "\n",
       "                                             SpChats  CliSenti  SpSenti  \\\n",
       "0  this is a gem of a movie not just for people w...       NaN      NaN   \n",
       "1  this is a gem of a movie not just for people w...       NaN      NaN   \n",
       "\n",
       "   CliAvgSenti  SpAvgSenti  \n",
       "0          0.4         1.0  \n",
       "1          0.4         1.0  "
      ]
     },
     "execution_count": 17,
     "metadata": {},
     "output_type": "execute_result"
    }
   ],
   "source": [
    "df.head(2)"
   ]
  },
  {
   "cell_type": "code",
   "execution_count": 18,
   "id": "d65ffe06",
   "metadata": {},
   "outputs": [],
   "source": [
    "#spelling correction\n",
    "from textblob import TextBlob\n",
    "def spell_correct(text):\n",
    "    new_text = []\n",
    "    for w in text.split():\n",
    "        textBlb = TextBlob(w)\n",
    "        new_text.append(textBlb.correct().string)\n",
    "    return \" \".join(new_text)"
   ]
  },
  {
   "cell_type": "code",
   "execution_count": 19,
   "id": "804cc4f4",
   "metadata": {},
   "outputs": [
    {
     "ename": "KeyboardInterrupt",
     "evalue": "",
     "output_type": "error",
     "traceback": [
      "\u001b[0;31m---------------------------------------------------------------------------\u001b[0m",
      "\u001b[0;31mKeyboardInterrupt\u001b[0m                         Traceback (most recent call last)",
      "Input \u001b[0;32mIn [19]\u001b[0m, in \u001b[0;36m<cell line: 1>\u001b[0;34m()\u001b[0m\n\u001b[0;32m----> 1\u001b[0m df[\u001b[38;5;124m'\u001b[39m\u001b[38;5;124mCliChats\u001b[39m\u001b[38;5;124m'\u001b[39m] \u001b[38;5;241m=\u001b[39m \u001b[43mdf\u001b[49m\u001b[43m[\u001b[49m\u001b[38;5;124;43m'\u001b[39;49m\u001b[38;5;124;43mCliChats\u001b[39;49m\u001b[38;5;124;43m'\u001b[39;49m\u001b[43m]\u001b[49m\u001b[38;5;241;43m.\u001b[39;49m\u001b[43mapply\u001b[49m\u001b[43m(\u001b[49m\u001b[43mspell_correct\u001b[49m\u001b[43m)\u001b[49m\n\u001b[1;32m      2\u001b[0m df[\u001b[38;5;124m'\u001b[39m\u001b[38;5;124mSpChats\u001b[39m\u001b[38;5;124m'\u001b[39m] \u001b[38;5;241m=\u001b[39m df[\u001b[38;5;124m'\u001b[39m\u001b[38;5;124mSpChats\u001b[39m\u001b[38;5;124m'\u001b[39m]\u001b[38;5;241m.\u001b[39mapply(spell_correct)\n",
      "File \u001b[0;32m~/.local/lib/python3.9/site-packages/pandas/core/series.py:4433\u001b[0m, in \u001b[0;36mSeries.apply\u001b[0;34m(self, func, convert_dtype, args, **kwargs)\u001b[0m\n\u001b[1;32m   4323\u001b[0m \u001b[38;5;28;01mdef\u001b[39;00m \u001b[38;5;21mapply\u001b[39m(\n\u001b[1;32m   4324\u001b[0m     \u001b[38;5;28mself\u001b[39m,\n\u001b[1;32m   4325\u001b[0m     func: AggFuncType,\n\u001b[0;32m   (...)\u001b[0m\n\u001b[1;32m   4328\u001b[0m     \u001b[38;5;241m*\u001b[39m\u001b[38;5;241m*\u001b[39mkwargs,\n\u001b[1;32m   4329\u001b[0m ) \u001b[38;5;241m-\u001b[39m\u001b[38;5;241m>\u001b[39m DataFrame \u001b[38;5;241m|\u001b[39m Series:\n\u001b[1;32m   4330\u001b[0m     \u001b[38;5;124;03m\"\"\"\u001b[39;00m\n\u001b[1;32m   4331\u001b[0m \u001b[38;5;124;03m    Invoke function on values of Series.\u001b[39;00m\n\u001b[1;32m   4332\u001b[0m \n\u001b[0;32m   (...)\u001b[0m\n\u001b[1;32m   4431\u001b[0m \u001b[38;5;124;03m    dtype: float64\u001b[39;00m\n\u001b[1;32m   4432\u001b[0m \u001b[38;5;124;03m    \"\"\"\u001b[39;00m\n\u001b[0;32m-> 4433\u001b[0m     \u001b[38;5;28;01mreturn\u001b[39;00m \u001b[43mSeriesApply\u001b[49m\u001b[43m(\u001b[49m\u001b[38;5;28;43mself\u001b[39;49m\u001b[43m,\u001b[49m\u001b[43m \u001b[49m\u001b[43mfunc\u001b[49m\u001b[43m,\u001b[49m\u001b[43m \u001b[49m\u001b[43mconvert_dtype\u001b[49m\u001b[43m,\u001b[49m\u001b[43m \u001b[49m\u001b[43margs\u001b[49m\u001b[43m,\u001b[49m\u001b[43m \u001b[49m\u001b[43mkwargs\u001b[49m\u001b[43m)\u001b[49m\u001b[38;5;241;43m.\u001b[39;49m\u001b[43mapply\u001b[49m\u001b[43m(\u001b[49m\u001b[43m)\u001b[49m\n",
      "File \u001b[0;32m~/.local/lib/python3.9/site-packages/pandas/core/apply.py:1082\u001b[0m, in \u001b[0;36mSeriesApply.apply\u001b[0;34m(self)\u001b[0m\n\u001b[1;32m   1078\u001b[0m \u001b[38;5;28;01mif\u001b[39;00m \u001b[38;5;28misinstance\u001b[39m(\u001b[38;5;28mself\u001b[39m\u001b[38;5;241m.\u001b[39mf, \u001b[38;5;28mstr\u001b[39m):\n\u001b[1;32m   1079\u001b[0m     \u001b[38;5;66;03m# if we are a string, try to dispatch\u001b[39;00m\n\u001b[1;32m   1080\u001b[0m     \u001b[38;5;28;01mreturn\u001b[39;00m \u001b[38;5;28mself\u001b[39m\u001b[38;5;241m.\u001b[39mapply_str()\n\u001b[0;32m-> 1082\u001b[0m \u001b[38;5;28;01mreturn\u001b[39;00m \u001b[38;5;28;43mself\u001b[39;49m\u001b[38;5;241;43m.\u001b[39;49m\u001b[43mapply_standard\u001b[49m\u001b[43m(\u001b[49m\u001b[43m)\u001b[49m\n",
      "File \u001b[0;32m~/.local/lib/python3.9/site-packages/pandas/core/apply.py:1137\u001b[0m, in \u001b[0;36mSeriesApply.apply_standard\u001b[0;34m(self)\u001b[0m\n\u001b[1;32m   1131\u001b[0m         values \u001b[38;5;241m=\u001b[39m obj\u001b[38;5;241m.\u001b[39mastype(\u001b[38;5;28mobject\u001b[39m)\u001b[38;5;241m.\u001b[39m_values\n\u001b[1;32m   1132\u001b[0m         \u001b[38;5;66;03m# error: Argument 2 to \"map_infer\" has incompatible type\u001b[39;00m\n\u001b[1;32m   1133\u001b[0m         \u001b[38;5;66;03m# \"Union[Callable[..., Any], str, List[Union[Callable[..., Any], str]],\u001b[39;00m\n\u001b[1;32m   1134\u001b[0m         \u001b[38;5;66;03m# Dict[Hashable, Union[Union[Callable[..., Any], str],\u001b[39;00m\n\u001b[1;32m   1135\u001b[0m         \u001b[38;5;66;03m# List[Union[Callable[..., Any], str]]]]]\"; expected\u001b[39;00m\n\u001b[1;32m   1136\u001b[0m         \u001b[38;5;66;03m# \"Callable[[Any], Any]\"\u001b[39;00m\n\u001b[0;32m-> 1137\u001b[0m         mapped \u001b[38;5;241m=\u001b[39m \u001b[43mlib\u001b[49m\u001b[38;5;241;43m.\u001b[39;49m\u001b[43mmap_infer\u001b[49m\u001b[43m(\u001b[49m\n\u001b[1;32m   1138\u001b[0m \u001b[43m            \u001b[49m\u001b[43mvalues\u001b[49m\u001b[43m,\u001b[49m\n\u001b[1;32m   1139\u001b[0m \u001b[43m            \u001b[49m\u001b[43mf\u001b[49m\u001b[43m,\u001b[49m\u001b[43m  \u001b[49m\u001b[38;5;66;43;03m# type: ignore[arg-type]\u001b[39;49;00m\n\u001b[1;32m   1140\u001b[0m \u001b[43m            \u001b[49m\u001b[43mconvert\u001b[49m\u001b[38;5;241;43m=\u001b[39;49m\u001b[38;5;28;43mself\u001b[39;49m\u001b[38;5;241;43m.\u001b[39;49m\u001b[43mconvert_dtype\u001b[49m\u001b[43m,\u001b[49m\n\u001b[1;32m   1141\u001b[0m \u001b[43m        \u001b[49m\u001b[43m)\u001b[49m\n\u001b[1;32m   1143\u001b[0m \u001b[38;5;28;01mif\u001b[39;00m \u001b[38;5;28mlen\u001b[39m(mapped) \u001b[38;5;129;01mand\u001b[39;00m \u001b[38;5;28misinstance\u001b[39m(mapped[\u001b[38;5;241m0\u001b[39m], ABCSeries):\n\u001b[1;32m   1144\u001b[0m     \u001b[38;5;66;03m# GH#43986 Need to do list(mapped) in order to get treated as nested\u001b[39;00m\n\u001b[1;32m   1145\u001b[0m     \u001b[38;5;66;03m#  See also GH#25959 regarding EA support\u001b[39;00m\n\u001b[1;32m   1146\u001b[0m     \u001b[38;5;28;01mreturn\u001b[39;00m obj\u001b[38;5;241m.\u001b[39m_constructor_expanddim(\u001b[38;5;28mlist\u001b[39m(mapped), index\u001b[38;5;241m=\u001b[39mobj\u001b[38;5;241m.\u001b[39mindex)\n",
      "File \u001b[0;32m~/.local/lib/python3.9/site-packages/pandas/_libs/lib.pyx:2870\u001b[0m, in \u001b[0;36mpandas._libs.lib.map_infer\u001b[0;34m()\u001b[0m\n",
      "Input \u001b[0;32mIn [18]\u001b[0m, in \u001b[0;36mspell_correct\u001b[0;34m(text)\u001b[0m\n\u001b[1;32m      5\u001b[0m \u001b[38;5;28;01mfor\u001b[39;00m w \u001b[38;5;129;01min\u001b[39;00m text\u001b[38;5;241m.\u001b[39msplit():\n\u001b[1;32m      6\u001b[0m     textBlb \u001b[38;5;241m=\u001b[39m TextBlob(w)\n\u001b[0;32m----> 7\u001b[0m     new_text\u001b[38;5;241m.\u001b[39mappend(\u001b[43mtextBlb\u001b[49m\u001b[38;5;241;43m.\u001b[39;49m\u001b[43mcorrect\u001b[49m\u001b[43m(\u001b[49m\u001b[43m)\u001b[49m\u001b[38;5;241m.\u001b[39mstring)\n\u001b[1;32m      8\u001b[0m \u001b[38;5;28;01mreturn\u001b[39;00m \u001b[38;5;124m\"\u001b[39m\u001b[38;5;124m \u001b[39m\u001b[38;5;124m\"\u001b[39m\u001b[38;5;241m.\u001b[39mjoin(new_text)\n",
      "File \u001b[0;32m~/.local/lib/python3.9/site-packages/textblob/blob.py:609\u001b[0m, in \u001b[0;36mBaseBlob.correct\u001b[0;34m(self)\u001b[0m\n\u001b[1;32m    607\u001b[0m tokens \u001b[38;5;241m=\u001b[39m nltk\u001b[38;5;241m.\u001b[39mtokenize\u001b[38;5;241m.\u001b[39mregexp_tokenize(\u001b[38;5;28mself\u001b[39m\u001b[38;5;241m.\u001b[39mraw, \u001b[38;5;124mr\u001b[39m\u001b[38;5;124m\"\u001b[39m\u001b[38;5;124m\\\u001b[39m\u001b[38;5;124mw+|[^\u001b[39m\u001b[38;5;124m\\\u001b[39m\u001b[38;5;124mw\u001b[39m\u001b[38;5;124m\\\u001b[39m\u001b[38;5;124ms]|\u001b[39m\u001b[38;5;124m\\\u001b[39m\u001b[38;5;124ms\u001b[39m\u001b[38;5;124m\"\u001b[39m)\n\u001b[1;32m    608\u001b[0m corrected \u001b[38;5;241m=\u001b[39m (Word(w)\u001b[38;5;241m.\u001b[39mcorrect() \u001b[38;5;28;01mfor\u001b[39;00m w \u001b[38;5;129;01min\u001b[39;00m tokens)\n\u001b[0;32m--> 609\u001b[0m ret \u001b[38;5;241m=\u001b[39m \u001b[38;5;124;43m'\u001b[39;49m\u001b[38;5;124;43m'\u001b[39;49m\u001b[38;5;241;43m.\u001b[39;49m\u001b[43mjoin\u001b[49m\u001b[43m(\u001b[49m\u001b[43mcorrected\u001b[49m\u001b[43m)\u001b[49m\n\u001b[1;32m    610\u001b[0m \u001b[38;5;28;01mreturn\u001b[39;00m \u001b[38;5;28mself\u001b[39m\u001b[38;5;241m.\u001b[39m\u001b[38;5;18m__class__\u001b[39m(ret)\n",
      "File \u001b[0;32m~/.local/lib/python3.9/site-packages/textblob/blob.py:608\u001b[0m, in \u001b[0;36m<genexpr>\u001b[0;34m(.0)\u001b[0m\n\u001b[1;32m    606\u001b[0m \u001b[38;5;66;03m# regex matches: word or punctuation or whitespace\u001b[39;00m\n\u001b[1;32m    607\u001b[0m tokens \u001b[38;5;241m=\u001b[39m nltk\u001b[38;5;241m.\u001b[39mtokenize\u001b[38;5;241m.\u001b[39mregexp_tokenize(\u001b[38;5;28mself\u001b[39m\u001b[38;5;241m.\u001b[39mraw, \u001b[38;5;124mr\u001b[39m\u001b[38;5;124m\"\u001b[39m\u001b[38;5;124m\\\u001b[39m\u001b[38;5;124mw+|[^\u001b[39m\u001b[38;5;124m\\\u001b[39m\u001b[38;5;124mw\u001b[39m\u001b[38;5;124m\\\u001b[39m\u001b[38;5;124ms]|\u001b[39m\u001b[38;5;124m\\\u001b[39m\u001b[38;5;124ms\u001b[39m\u001b[38;5;124m\"\u001b[39m)\n\u001b[0;32m--> 608\u001b[0m corrected \u001b[38;5;241m=\u001b[39m (\u001b[43mWord\u001b[49m\u001b[43m(\u001b[49m\u001b[43mw\u001b[49m\u001b[43m)\u001b[49m\u001b[38;5;241;43m.\u001b[39;49m\u001b[43mcorrect\u001b[49m\u001b[43m(\u001b[49m\u001b[43m)\u001b[49m \u001b[38;5;28;01mfor\u001b[39;00m w \u001b[38;5;129;01min\u001b[39;00m tokens)\n\u001b[1;32m    609\u001b[0m ret \u001b[38;5;241m=\u001b[39m \u001b[38;5;124m'\u001b[39m\u001b[38;5;124m'\u001b[39m\u001b[38;5;241m.\u001b[39mjoin(corrected)\n\u001b[1;32m    610\u001b[0m \u001b[38;5;28;01mreturn\u001b[39;00m \u001b[38;5;28mself\u001b[39m\u001b[38;5;241m.\u001b[39m\u001b[38;5;18m__class__\u001b[39m(ret)\n",
      "File \u001b[0;32m~/.local/lib/python3.9/site-packages/textblob/blob.py:142\u001b[0m, in \u001b[0;36mWord.correct\u001b[0;34m(self)\u001b[0m\n\u001b[1;32m    136\u001b[0m \u001b[38;5;28;01mdef\u001b[39;00m \u001b[38;5;21mcorrect\u001b[39m(\u001b[38;5;28mself\u001b[39m):\n\u001b[1;32m    137\u001b[0m     \u001b[38;5;124;03m'''Correct the spelling of the word. Returns the word with the highest\u001b[39;00m\n\u001b[1;32m    138\u001b[0m \u001b[38;5;124;03m    confidence using the spelling corrector.\u001b[39;00m\n\u001b[1;32m    139\u001b[0m \n\u001b[1;32m    140\u001b[0m \u001b[38;5;124;03m    .. versionadded:: 0.6.0\u001b[39;00m\n\u001b[1;32m    141\u001b[0m \u001b[38;5;124;03m    '''\u001b[39;00m\n\u001b[0;32m--> 142\u001b[0m     \u001b[38;5;28;01mreturn\u001b[39;00m Word(\u001b[38;5;28;43mself\u001b[39;49m\u001b[38;5;241;43m.\u001b[39;49m\u001b[43mspellcheck\u001b[49m\u001b[43m(\u001b[49m\u001b[43m)\u001b[49m[\u001b[38;5;241m0\u001b[39m][\u001b[38;5;241m0\u001b[39m])\n",
      "File \u001b[0;32m~/.local/lib/python3.9/site-packages/textblob/blob.py:134\u001b[0m, in \u001b[0;36mWord.spellcheck\u001b[0;34m(self)\u001b[0m\n\u001b[1;32m    125\u001b[0m \u001b[38;5;28;01mdef\u001b[39;00m \u001b[38;5;21mspellcheck\u001b[39m(\u001b[38;5;28mself\u001b[39m):\n\u001b[1;32m    126\u001b[0m     \u001b[38;5;124;03m'''Return a list of (word, confidence) tuples of spelling corrections.\u001b[39;00m\n\u001b[1;32m    127\u001b[0m \n\u001b[1;32m    128\u001b[0m \u001b[38;5;124;03m    Based on: Peter Norvig, \"How to Write a Spelling Corrector\"\u001b[39;00m\n\u001b[0;32m   (...)\u001b[0m\n\u001b[1;32m    132\u001b[0m \u001b[38;5;124;03m    .. versionadded:: 0.6.0\u001b[39;00m\n\u001b[1;32m    133\u001b[0m \u001b[38;5;124;03m    '''\u001b[39;00m\n\u001b[0;32m--> 134\u001b[0m     \u001b[38;5;28;01mreturn\u001b[39;00m \u001b[43msuggest\u001b[49m\u001b[43m(\u001b[49m\u001b[38;5;28;43mself\u001b[39;49m\u001b[38;5;241;43m.\u001b[39;49m\u001b[43mstring\u001b[49m\u001b[43m)\u001b[49m\n",
      "File \u001b[0;32m~/.local/lib/python3.9/site-packages/textblob/en/__init__.py:123\u001b[0m, in \u001b[0;36msuggest\u001b[0;34m(w)\u001b[0m\n\u001b[1;32m    120\u001b[0m \u001b[38;5;28;01mdef\u001b[39;00m \u001b[38;5;21msuggest\u001b[39m(w):\n\u001b[1;32m    121\u001b[0m     \u001b[38;5;124;03m\"\"\" Returns a list of (word, confidence)-tuples of spelling corrections.\u001b[39;00m\n\u001b[1;32m    122\u001b[0m \u001b[38;5;124;03m    \"\"\"\u001b[39;00m\n\u001b[0;32m--> 123\u001b[0m     \u001b[38;5;28;01mreturn\u001b[39;00m \u001b[43mspelling\u001b[49m\u001b[38;5;241;43m.\u001b[39;49m\u001b[43msuggest\u001b[49m\u001b[43m(\u001b[49m\u001b[43mw\u001b[49m\u001b[43m)\u001b[49m\n",
      "File \u001b[0;32m~/.local/lib/python3.9/site-packages/textblob/_text.py:1399\u001b[0m, in \u001b[0;36mSpelling.suggest\u001b[0;34m(self, w)\u001b[0m\n\u001b[1;32m   1395\u001b[0m \u001b[38;5;28;01mif\u001b[39;00m w\u001b[38;5;241m.\u001b[39mreplace(\u001b[38;5;124m\"\u001b[39m\u001b[38;5;124m.\u001b[39m\u001b[38;5;124m\"\u001b[39m, \u001b[38;5;124m\"\u001b[39m\u001b[38;5;124m\"\u001b[39m)\u001b[38;5;241m.\u001b[39misdigit():\n\u001b[1;32m   1396\u001b[0m     \u001b[38;5;28;01mreturn\u001b[39;00m [(w, \u001b[38;5;241m1.0\u001b[39m)] \u001b[38;5;66;03m# 1.5\u001b[39;00m\n\u001b[1;32m   1397\u001b[0m candidates \u001b[38;5;241m=\u001b[39m \u001b[38;5;28mself\u001b[39m\u001b[38;5;241m.\u001b[39m_known([w]) \\\n\u001b[1;32m   1398\u001b[0m           \u001b[38;5;129;01mor\u001b[39;00m \u001b[38;5;28mself\u001b[39m\u001b[38;5;241m.\u001b[39m_known(\u001b[38;5;28mself\u001b[39m\u001b[38;5;241m.\u001b[39m_edit1(w)) \\\n\u001b[0;32m-> 1399\u001b[0m           \u001b[38;5;129;01mor\u001b[39;00m \u001b[38;5;28mself\u001b[39m\u001b[38;5;241m.\u001b[39m_known(\u001b[38;5;28;43mself\u001b[39;49m\u001b[38;5;241;43m.\u001b[39;49m\u001b[43m_edit2\u001b[49m\u001b[43m(\u001b[49m\u001b[43mw\u001b[49m\u001b[43m)\u001b[49m) \\\n\u001b[1;32m   1400\u001b[0m           \u001b[38;5;129;01mor\u001b[39;00m [w]\n\u001b[1;32m   1401\u001b[0m candidates \u001b[38;5;241m=\u001b[39m [(\u001b[38;5;28mself\u001b[39m\u001b[38;5;241m.\u001b[39mget(c, \u001b[38;5;241m0.0\u001b[39m), c) \u001b[38;5;28;01mfor\u001b[39;00m c \u001b[38;5;129;01min\u001b[39;00m candidates]\n\u001b[1;32m   1402\u001b[0m s \u001b[38;5;241m=\u001b[39m \u001b[38;5;28mfloat\u001b[39m(\u001b[38;5;28msum\u001b[39m(p \u001b[38;5;28;01mfor\u001b[39;00m p, word \u001b[38;5;129;01min\u001b[39;00m candidates) \u001b[38;5;129;01mor\u001b[39;00m \u001b[38;5;241m1\u001b[39m)\n",
      "File \u001b[0;32m~/.local/lib/python3.9/site-packages/textblob/_text.py:1376\u001b[0m, in \u001b[0;36mSpelling._edit2\u001b[0;34m(self, w)\u001b[0m\n\u001b[1;32m   1372\u001b[0m \u001b[38;5;124;03m\"\"\" Returns a set of words with edit distance 2 from the given word\u001b[39;00m\n\u001b[1;32m   1373\u001b[0m \u001b[38;5;124;03m\"\"\"\u001b[39;00m\n\u001b[1;32m   1374\u001b[0m \u001b[38;5;66;03m# Of all spelling errors, 99% is covered by edit distance 2.\u001b[39;00m\n\u001b[1;32m   1375\u001b[0m \u001b[38;5;66;03m# Only keep candidates that are actually known words (20% speedup).\u001b[39;00m\n\u001b[0;32m-> 1376\u001b[0m \u001b[38;5;28;01mreturn\u001b[39;00m \u001b[38;5;28;43mset\u001b[39;49m\u001b[43m(\u001b[49m\u001b[43me2\u001b[49m\u001b[43m \u001b[49m\u001b[38;5;28;43;01mfor\u001b[39;49;00m\u001b[43m \u001b[49m\u001b[43me1\u001b[49m\u001b[43m \u001b[49m\u001b[38;5;129;43;01min\u001b[39;49;00m\u001b[43m \u001b[49m\u001b[38;5;28;43mself\u001b[39;49m\u001b[38;5;241;43m.\u001b[39;49m\u001b[43m_edit1\u001b[49m\u001b[43m(\u001b[49m\u001b[43mw\u001b[49m\u001b[43m)\u001b[49m\u001b[43m \u001b[49m\u001b[38;5;28;43;01mfor\u001b[39;49;00m\u001b[43m \u001b[49m\u001b[43me2\u001b[49m\u001b[43m \u001b[49m\u001b[38;5;129;43;01min\u001b[39;49;00m\u001b[43m \u001b[49m\u001b[38;5;28;43mself\u001b[39;49m\u001b[38;5;241;43m.\u001b[39;49m\u001b[43m_edit1\u001b[49m\u001b[43m(\u001b[49m\u001b[43me1\u001b[49m\u001b[43m)\u001b[49m\u001b[43m \u001b[49m\u001b[38;5;28;43;01mif\u001b[39;49;00m\u001b[43m \u001b[49m\u001b[43me2\u001b[49m\u001b[43m \u001b[49m\u001b[38;5;129;43;01min\u001b[39;49;00m\u001b[43m \u001b[49m\u001b[38;5;28;43mself\u001b[39;49m\u001b[43m)\u001b[49m\n",
      "File \u001b[0;32m~/.local/lib/python3.9/site-packages/textblob/_text.py:1376\u001b[0m, in \u001b[0;36m<genexpr>\u001b[0;34m(.0)\u001b[0m\n\u001b[1;32m   1372\u001b[0m \u001b[38;5;124;03m\"\"\" Returns a set of words with edit distance 2 from the given word\u001b[39;00m\n\u001b[1;32m   1373\u001b[0m \u001b[38;5;124;03m\"\"\"\u001b[39;00m\n\u001b[1;32m   1374\u001b[0m \u001b[38;5;66;03m# Of all spelling errors, 99% is covered by edit distance 2.\u001b[39;00m\n\u001b[1;32m   1375\u001b[0m \u001b[38;5;66;03m# Only keep candidates that are actually known words (20% speedup).\u001b[39;00m\n\u001b[0;32m-> 1376\u001b[0m \u001b[38;5;28;01mreturn\u001b[39;00m \u001b[38;5;28mset\u001b[39m(e2 \u001b[38;5;28;01mfor\u001b[39;00m e1 \u001b[38;5;129;01min\u001b[39;00m \u001b[38;5;28mself\u001b[39m\u001b[38;5;241m.\u001b[39m_edit1(w) \u001b[38;5;28;01mfor\u001b[39;00m e2 \u001b[38;5;129;01min\u001b[39;00m \u001b[38;5;28mself\u001b[39m\u001b[38;5;241m.\u001b[39m_edit1(e1) \u001b[38;5;28;01mif\u001b[39;00m \u001b[43me2\u001b[49m\u001b[43m \u001b[49m\u001b[38;5;129;43;01min\u001b[39;49;00m\u001b[43m \u001b[49m\u001b[38;5;28;43mself\u001b[39;49m)\n",
      "File \u001b[0;32m~/.local/lib/python3.9/site-packages/textblob/_text.py:96\u001b[0m, in \u001b[0;36mlazydict.__contains__\u001b[0;34m(self, *args)\u001b[0m\n\u001b[1;32m     95\u001b[0m \u001b[38;5;28;01mdef\u001b[39;00m \u001b[38;5;21m__contains__\u001b[39m(\u001b[38;5;28mself\u001b[39m, \u001b[38;5;241m*\u001b[39margs):\n\u001b[0;32m---> 96\u001b[0m     \u001b[38;5;28;01mreturn\u001b[39;00m \u001b[38;5;28;43mself\u001b[39;49m\u001b[38;5;241;43m.\u001b[39;49m\u001b[43m_lazy\u001b[49m\u001b[43m(\u001b[49m\u001b[38;5;124;43m\"\u001b[39;49m\u001b[38;5;124;43m__contains__\u001b[39;49m\u001b[38;5;124;43m\"\u001b[39;49m\u001b[43m,\u001b[49m\u001b[43m \u001b[49m\u001b[38;5;241;43m*\u001b[39;49m\u001b[43margs\u001b[49m\u001b[43m)\u001b[49m\n",
      "File \u001b[0;32m~/.local/lib/python3.9/site-packages/textblob/_text.py:87\u001b[0m, in \u001b[0;36mlazydict._lazy\u001b[0;34m(self, method, *args)\u001b[0m\n\u001b[1;32m     85\u001b[0m     \u001b[38;5;28mself\u001b[39m\u001b[38;5;241m.\u001b[39mload()\n\u001b[1;32m     86\u001b[0m     \u001b[38;5;28msetattr\u001b[39m(\u001b[38;5;28mself\u001b[39m, method, types\u001b[38;5;241m.\u001b[39mMethodType(\u001b[38;5;28mgetattr\u001b[39m(\u001b[38;5;28mdict\u001b[39m, method), \u001b[38;5;28mself\u001b[39m))\n\u001b[0;32m---> 87\u001b[0m \u001b[38;5;28;01mreturn\u001b[39;00m \u001b[38;5;28mgetattr\u001b[39m(\u001b[38;5;28;43mdict\u001b[39;49m, method)(\u001b[38;5;28mself\u001b[39m, \u001b[38;5;241m*\u001b[39margs)\n",
      "\u001b[0;31mKeyboardInterrupt\u001b[0m: "
     ]
    }
   ],
   "source": [
    "df['CliChats'] = df['CliChats'].apply(spell_correct)\n",
    "df['SpChats'] = df['SpChats'].apply(spell_correct)"
   ]
  },
  {
   "cell_type": "code",
   "execution_count": 20,
   "id": "16d5ecae",
   "metadata": {},
   "outputs": [
    {
     "data": {
      "text/html": [
       "<div>\n",
       "<style scoped>\n",
       "    .dataframe tbody tr th:only-of-type {\n",
       "        vertical-align: middle;\n",
       "    }\n",
       "\n",
       "    .dataframe tbody tr th {\n",
       "        vertical-align: top;\n",
       "    }\n",
       "\n",
       "    .dataframe thead th {\n",
       "        text-align: right;\n",
       "    }\n",
       "</style>\n",
       "<table border=\"1\" class=\"dataframe\">\n",
       "  <thead>\n",
       "    <tr style=\"text-align: right;\">\n",
       "      <th></th>\n",
       "      <th>Unnamed: 0</th>\n",
       "      <th>OrderId</th>\n",
       "      <th>CliChats</th>\n",
       "      <th>SpChats</th>\n",
       "      <th>CliSenti</th>\n",
       "      <th>SpSenti</th>\n",
       "      <th>CliAvgSenti</th>\n",
       "      <th>SpAvgSenti</th>\n",
       "    </tr>\n",
       "  </thead>\n",
       "  <tbody>\n",
       "    <tr>\n",
       "      <th>0</th>\n",
       "      <td>0</td>\n",
       "      <td>17393</td>\n",
       "      <td>finding the premise intriguing and reading the...</td>\n",
       "      <td>this is a gem of a movie not just for people w...</td>\n",
       "      <td>NaN</td>\n",
       "      <td>NaN</td>\n",
       "      <td>0.4</td>\n",
       "      <td>1.0</td>\n",
       "    </tr>\n",
       "    <tr>\n",
       "      <th>1</th>\n",
       "      <td>1</td>\n",
       "      <td>17393</td>\n",
       "      <td>finding the premise intriguing and reading the...</td>\n",
       "      <td>this is a gem of a movie not just for people w...</td>\n",
       "      <td>NaN</td>\n",
       "      <td>NaN</td>\n",
       "      <td>0.4</td>\n",
       "      <td>1.0</td>\n",
       "    </tr>\n",
       "  </tbody>\n",
       "</table>\n",
       "</div>"
      ],
      "text/plain": [
       "   Unnamed: 0  OrderId                                           CliChats  \\\n",
       "0           0    17393  finding the premise intriguing and reading the...   \n",
       "1           1    17393  finding the premise intriguing and reading the...   \n",
       "\n",
       "                                             SpChats  CliSenti  SpSenti  \\\n",
       "0  this is a gem of a movie not just for people w...       NaN      NaN   \n",
       "1  this is a gem of a movie not just for people w...       NaN      NaN   \n",
       "\n",
       "   CliAvgSenti  SpAvgSenti  \n",
       "0          0.4         1.0  \n",
       "1          0.4         1.0  "
      ]
     },
     "execution_count": 20,
     "metadata": {},
     "output_type": "execute_result"
    }
   ],
   "source": [
    "df.head(2)"
   ]
  },
  {
   "cell_type": "code",
   "execution_count": 21,
   "id": "62dcd02a",
   "metadata": {},
   "outputs": [
    {
     "name": "stderr",
     "output_type": "stream",
     "text": [
      "[nltk_data] Downloading package stopwords to\n",
      "[nltk_data]     /home/neelchoksi19bce0990/nltk_data...\n",
      "[nltk_data]   Package stopwords is already up-to-date!\n"
     ]
    },
    {
     "data": {
      "text/plain": [
       "['i',\n",
       " 'me',\n",
       " 'my',\n",
       " 'myself',\n",
       " 'we',\n",
       " 'our',\n",
       " 'ours',\n",
       " 'ourselves',\n",
       " 'you',\n",
       " \"you're\",\n",
       " \"you've\",\n",
       " \"you'll\",\n",
       " \"you'd\",\n",
       " 'your',\n",
       " 'yours',\n",
       " 'yourself',\n",
       " 'yourselves',\n",
       " 'he',\n",
       " 'him',\n",
       " 'his',\n",
       " 'himself',\n",
       " 'she',\n",
       " \"she's\",\n",
       " 'her',\n",
       " 'hers',\n",
       " 'herself',\n",
       " 'it',\n",
       " \"it's\",\n",
       " 'its',\n",
       " 'itself',\n",
       " 'they',\n",
       " 'them',\n",
       " 'their',\n",
       " 'theirs',\n",
       " 'themselves',\n",
       " 'what',\n",
       " 'which',\n",
       " 'who',\n",
       " 'whom',\n",
       " 'this',\n",
       " 'that',\n",
       " \"that'll\",\n",
       " 'these',\n",
       " 'those',\n",
       " 'am',\n",
       " 'is',\n",
       " 'are',\n",
       " 'was',\n",
       " 'were',\n",
       " 'be',\n",
       " 'been',\n",
       " 'being',\n",
       " 'have',\n",
       " 'has',\n",
       " 'had',\n",
       " 'having',\n",
       " 'do',\n",
       " 'does',\n",
       " 'did',\n",
       " 'doing',\n",
       " 'a',\n",
       " 'an',\n",
       " 'the',\n",
       " 'and',\n",
       " 'but',\n",
       " 'if',\n",
       " 'or',\n",
       " 'because',\n",
       " 'as',\n",
       " 'until',\n",
       " 'while',\n",
       " 'of',\n",
       " 'at',\n",
       " 'by',\n",
       " 'for',\n",
       " 'with',\n",
       " 'about',\n",
       " 'against',\n",
       " 'between',\n",
       " 'into',\n",
       " 'through',\n",
       " 'during',\n",
       " 'before',\n",
       " 'after',\n",
       " 'above',\n",
       " 'below',\n",
       " 'to',\n",
       " 'from',\n",
       " 'up',\n",
       " 'down',\n",
       " 'in',\n",
       " 'out',\n",
       " 'on',\n",
       " 'off',\n",
       " 'over',\n",
       " 'under',\n",
       " 'again',\n",
       " 'further',\n",
       " 'then',\n",
       " 'once',\n",
       " 'here',\n",
       " 'there',\n",
       " 'when',\n",
       " 'where',\n",
       " 'why',\n",
       " 'how',\n",
       " 'all',\n",
       " 'any',\n",
       " 'both',\n",
       " 'each',\n",
       " 'few',\n",
       " 'more',\n",
       " 'most',\n",
       " 'other',\n",
       " 'some',\n",
       " 'such',\n",
       " 'no',\n",
       " 'nor',\n",
       " 'not',\n",
       " 'only',\n",
       " 'own',\n",
       " 'same',\n",
       " 'so',\n",
       " 'than',\n",
       " 'too',\n",
       " 'very',\n",
       " 's',\n",
       " 't',\n",
       " 'can',\n",
       " 'will',\n",
       " 'just',\n",
       " 'don',\n",
       " \"don't\",\n",
       " 'should',\n",
       " \"should've\",\n",
       " 'now',\n",
       " 'd',\n",
       " 'll',\n",
       " 'm',\n",
       " 'o',\n",
       " 're',\n",
       " 've',\n",
       " 'y',\n",
       " 'ain',\n",
       " 'aren',\n",
       " \"aren't\",\n",
       " 'couldn',\n",
       " \"couldn't\",\n",
       " 'didn',\n",
       " \"didn't\",\n",
       " 'doesn',\n",
       " \"doesn't\",\n",
       " 'hadn',\n",
       " \"hadn't\",\n",
       " 'hasn',\n",
       " \"hasn't\",\n",
       " 'haven',\n",
       " \"haven't\",\n",
       " 'isn',\n",
       " \"isn't\",\n",
       " 'ma',\n",
       " 'mightn',\n",
       " \"mightn't\",\n",
       " 'mustn',\n",
       " \"mustn't\",\n",
       " 'needn',\n",
       " \"needn't\",\n",
       " 'shan',\n",
       " \"shan't\",\n",
       " 'shouldn',\n",
       " \"shouldn't\",\n",
       " 'wasn',\n",
       " \"wasn't\",\n",
       " 'weren',\n",
       " \"weren't\",\n",
       " 'won',\n",
       " \"won't\",\n",
       " 'wouldn',\n",
       " \"wouldn't\"]"
      ]
     },
     "execution_count": 21,
     "metadata": {},
     "output_type": "execute_result"
    }
   ],
   "source": [
    "import nltk\n",
    "nltk.download('stopwords')\n",
    "from nltk.corpus import stopwords\n",
    "stopwords.words('english')"
   ]
  },
  {
   "cell_type": "code",
   "execution_count": 22,
   "id": "c7b8ae6f",
   "metadata": {},
   "outputs": [],
   "source": [
    "# remove stopwords:\n",
    "def remove_stopwords(text):\n",
    "    new_text=[]\n",
    "    \n",
    "    for word in text.split():\n",
    "        if word in stopwords.words('english'):\n",
    "            new_text.append('')\n",
    "        else :\n",
    "            new_text.append(word)\n",
    "    x = new_text[:]\n",
    "    new_text.clear()\n",
    "    return \" \".join(x)"
   ]
  },
  {
   "cell_type": "code",
   "execution_count": 23,
   "id": "426bff5b",
   "metadata": {},
   "outputs": [
    {
     "ename": "KeyboardInterrupt",
     "evalue": "",
     "output_type": "error",
     "traceback": [
      "\u001b[0;31m---------------------------------------------------------------------------\u001b[0m",
      "\u001b[0;31mKeyboardInterrupt\u001b[0m                         Traceback (most recent call last)",
      "Input \u001b[0;32mIn [23]\u001b[0m, in \u001b[0;36m<cell line: 1>\u001b[0;34m()\u001b[0m\n\u001b[0;32m----> 1\u001b[0m df[\u001b[38;5;124m'\u001b[39m\u001b[38;5;124mCliChats\u001b[39m\u001b[38;5;124m'\u001b[39m] \u001b[38;5;241m=\u001b[39m \u001b[43mdf\u001b[49m\u001b[43m[\u001b[49m\u001b[38;5;124;43m'\u001b[39;49m\u001b[38;5;124;43mCliChats\u001b[39;49m\u001b[38;5;124;43m'\u001b[39;49m\u001b[43m]\u001b[49m\u001b[38;5;241;43m.\u001b[39;49m\u001b[43mapply\u001b[49m\u001b[43m(\u001b[49m\u001b[43mremove_stopwords\u001b[49m\u001b[43m)\u001b[49m\n\u001b[1;32m      2\u001b[0m df[\u001b[38;5;124m'\u001b[39m\u001b[38;5;124mSpChats\u001b[39m\u001b[38;5;124m'\u001b[39m] \u001b[38;5;241m=\u001b[39m df[\u001b[38;5;124m'\u001b[39m\u001b[38;5;124mSpChats\u001b[39m\u001b[38;5;124m'\u001b[39m]\u001b[38;5;241m.\u001b[39mapply(remove_stopwords)\n",
      "File \u001b[0;32m~/.local/lib/python3.9/site-packages/pandas/core/series.py:4433\u001b[0m, in \u001b[0;36mSeries.apply\u001b[0;34m(self, func, convert_dtype, args, **kwargs)\u001b[0m\n\u001b[1;32m   4323\u001b[0m \u001b[38;5;28;01mdef\u001b[39;00m \u001b[38;5;21mapply\u001b[39m(\n\u001b[1;32m   4324\u001b[0m     \u001b[38;5;28mself\u001b[39m,\n\u001b[1;32m   4325\u001b[0m     func: AggFuncType,\n\u001b[0;32m   (...)\u001b[0m\n\u001b[1;32m   4328\u001b[0m     \u001b[38;5;241m*\u001b[39m\u001b[38;5;241m*\u001b[39mkwargs,\n\u001b[1;32m   4329\u001b[0m ) \u001b[38;5;241m-\u001b[39m\u001b[38;5;241m>\u001b[39m DataFrame \u001b[38;5;241m|\u001b[39m Series:\n\u001b[1;32m   4330\u001b[0m     \u001b[38;5;124;03m\"\"\"\u001b[39;00m\n\u001b[1;32m   4331\u001b[0m \u001b[38;5;124;03m    Invoke function on values of Series.\u001b[39;00m\n\u001b[1;32m   4332\u001b[0m \n\u001b[0;32m   (...)\u001b[0m\n\u001b[1;32m   4431\u001b[0m \u001b[38;5;124;03m    dtype: float64\u001b[39;00m\n\u001b[1;32m   4432\u001b[0m \u001b[38;5;124;03m    \"\"\"\u001b[39;00m\n\u001b[0;32m-> 4433\u001b[0m     \u001b[38;5;28;01mreturn\u001b[39;00m \u001b[43mSeriesApply\u001b[49m\u001b[43m(\u001b[49m\u001b[38;5;28;43mself\u001b[39;49m\u001b[43m,\u001b[49m\u001b[43m \u001b[49m\u001b[43mfunc\u001b[49m\u001b[43m,\u001b[49m\u001b[43m \u001b[49m\u001b[43mconvert_dtype\u001b[49m\u001b[43m,\u001b[49m\u001b[43m \u001b[49m\u001b[43margs\u001b[49m\u001b[43m,\u001b[49m\u001b[43m \u001b[49m\u001b[43mkwargs\u001b[49m\u001b[43m)\u001b[49m\u001b[38;5;241;43m.\u001b[39;49m\u001b[43mapply\u001b[49m\u001b[43m(\u001b[49m\u001b[43m)\u001b[49m\n",
      "File \u001b[0;32m~/.local/lib/python3.9/site-packages/pandas/core/apply.py:1082\u001b[0m, in \u001b[0;36mSeriesApply.apply\u001b[0;34m(self)\u001b[0m\n\u001b[1;32m   1078\u001b[0m \u001b[38;5;28;01mif\u001b[39;00m \u001b[38;5;28misinstance\u001b[39m(\u001b[38;5;28mself\u001b[39m\u001b[38;5;241m.\u001b[39mf, \u001b[38;5;28mstr\u001b[39m):\n\u001b[1;32m   1079\u001b[0m     \u001b[38;5;66;03m# if we are a string, try to dispatch\u001b[39;00m\n\u001b[1;32m   1080\u001b[0m     \u001b[38;5;28;01mreturn\u001b[39;00m \u001b[38;5;28mself\u001b[39m\u001b[38;5;241m.\u001b[39mapply_str()\n\u001b[0;32m-> 1082\u001b[0m \u001b[38;5;28;01mreturn\u001b[39;00m \u001b[38;5;28;43mself\u001b[39;49m\u001b[38;5;241;43m.\u001b[39;49m\u001b[43mapply_standard\u001b[49m\u001b[43m(\u001b[49m\u001b[43m)\u001b[49m\n",
      "File \u001b[0;32m~/.local/lib/python3.9/site-packages/pandas/core/apply.py:1137\u001b[0m, in \u001b[0;36mSeriesApply.apply_standard\u001b[0;34m(self)\u001b[0m\n\u001b[1;32m   1131\u001b[0m         values \u001b[38;5;241m=\u001b[39m obj\u001b[38;5;241m.\u001b[39mastype(\u001b[38;5;28mobject\u001b[39m)\u001b[38;5;241m.\u001b[39m_values\n\u001b[1;32m   1132\u001b[0m         \u001b[38;5;66;03m# error: Argument 2 to \"map_infer\" has incompatible type\u001b[39;00m\n\u001b[1;32m   1133\u001b[0m         \u001b[38;5;66;03m# \"Union[Callable[..., Any], str, List[Union[Callable[..., Any], str]],\u001b[39;00m\n\u001b[1;32m   1134\u001b[0m         \u001b[38;5;66;03m# Dict[Hashable, Union[Union[Callable[..., Any], str],\u001b[39;00m\n\u001b[1;32m   1135\u001b[0m         \u001b[38;5;66;03m# List[Union[Callable[..., Any], str]]]]]\"; expected\u001b[39;00m\n\u001b[1;32m   1136\u001b[0m         \u001b[38;5;66;03m# \"Callable[[Any], Any]\"\u001b[39;00m\n\u001b[0;32m-> 1137\u001b[0m         mapped \u001b[38;5;241m=\u001b[39m \u001b[43mlib\u001b[49m\u001b[38;5;241;43m.\u001b[39;49m\u001b[43mmap_infer\u001b[49m\u001b[43m(\u001b[49m\n\u001b[1;32m   1138\u001b[0m \u001b[43m            \u001b[49m\u001b[43mvalues\u001b[49m\u001b[43m,\u001b[49m\n\u001b[1;32m   1139\u001b[0m \u001b[43m            \u001b[49m\u001b[43mf\u001b[49m\u001b[43m,\u001b[49m\u001b[43m  \u001b[49m\u001b[38;5;66;43;03m# type: ignore[arg-type]\u001b[39;49;00m\n\u001b[1;32m   1140\u001b[0m \u001b[43m            \u001b[49m\u001b[43mconvert\u001b[49m\u001b[38;5;241;43m=\u001b[39;49m\u001b[38;5;28;43mself\u001b[39;49m\u001b[38;5;241;43m.\u001b[39;49m\u001b[43mconvert_dtype\u001b[49m\u001b[43m,\u001b[49m\n\u001b[1;32m   1141\u001b[0m \u001b[43m        \u001b[49m\u001b[43m)\u001b[49m\n\u001b[1;32m   1143\u001b[0m \u001b[38;5;28;01mif\u001b[39;00m \u001b[38;5;28mlen\u001b[39m(mapped) \u001b[38;5;129;01mand\u001b[39;00m \u001b[38;5;28misinstance\u001b[39m(mapped[\u001b[38;5;241m0\u001b[39m], ABCSeries):\n\u001b[1;32m   1144\u001b[0m     \u001b[38;5;66;03m# GH#43986 Need to do list(mapped) in order to get treated as nested\u001b[39;00m\n\u001b[1;32m   1145\u001b[0m     \u001b[38;5;66;03m#  See also GH#25959 regarding EA support\u001b[39;00m\n\u001b[1;32m   1146\u001b[0m     \u001b[38;5;28;01mreturn\u001b[39;00m obj\u001b[38;5;241m.\u001b[39m_constructor_expanddim(\u001b[38;5;28mlist\u001b[39m(mapped), index\u001b[38;5;241m=\u001b[39mobj\u001b[38;5;241m.\u001b[39mindex)\n",
      "File \u001b[0;32m~/.local/lib/python3.9/site-packages/pandas/_libs/lib.pyx:2870\u001b[0m, in \u001b[0;36mpandas._libs.lib.map_infer\u001b[0;34m()\u001b[0m\n",
      "Input \u001b[0;32mIn [22]\u001b[0m, in \u001b[0;36mremove_stopwords\u001b[0;34m(text)\u001b[0m\n\u001b[1;32m      3\u001b[0m new_text\u001b[38;5;241m=\u001b[39m[]\n\u001b[1;32m      5\u001b[0m \u001b[38;5;28;01mfor\u001b[39;00m word \u001b[38;5;129;01min\u001b[39;00m text\u001b[38;5;241m.\u001b[39msplit():\n\u001b[0;32m----> 6\u001b[0m     \u001b[38;5;28;01mif\u001b[39;00m word \u001b[38;5;129;01min\u001b[39;00m \u001b[43mstopwords\u001b[49m\u001b[38;5;241;43m.\u001b[39;49m\u001b[43mwords\u001b[49m\u001b[43m(\u001b[49m\u001b[38;5;124;43m'\u001b[39;49m\u001b[38;5;124;43menglish\u001b[39;49m\u001b[38;5;124;43m'\u001b[39;49m\u001b[43m)\u001b[49m:\n\u001b[1;32m      7\u001b[0m         new_text\u001b[38;5;241m.\u001b[39mappend(\u001b[38;5;124m'\u001b[39m\u001b[38;5;124m'\u001b[39m)\n\u001b[1;32m      8\u001b[0m     \u001b[38;5;28;01melse\u001b[39;00m :\n",
      "File \u001b[0;32m~/.local/lib/python3.9/site-packages/nltk/corpus/reader/wordlist.py:21\u001b[0m, in \u001b[0;36mWordListCorpusReader.words\u001b[0;34m(self, fileids, ignore_lines_startswith)\u001b[0m\n\u001b[1;32m     18\u001b[0m \u001b[38;5;28;01mdef\u001b[39;00m \u001b[38;5;21mwords\u001b[39m(\u001b[38;5;28mself\u001b[39m, fileids\u001b[38;5;241m=\u001b[39m\u001b[38;5;28;01mNone\u001b[39;00m, ignore_lines_startswith\u001b[38;5;241m=\u001b[39m\u001b[38;5;124m\"\u001b[39m\u001b[38;5;130;01m\\n\u001b[39;00m\u001b[38;5;124m\"\u001b[39m):\n\u001b[1;32m     19\u001b[0m     \u001b[38;5;28;01mreturn\u001b[39;00m [\n\u001b[1;32m     20\u001b[0m         line\n\u001b[0;32m---> 21\u001b[0m         \u001b[38;5;28;01mfor\u001b[39;00m line \u001b[38;5;129;01min\u001b[39;00m line_tokenize(\u001b[38;5;28;43mself\u001b[39;49m\u001b[38;5;241;43m.\u001b[39;49m\u001b[43mraw\u001b[49m\u001b[43m(\u001b[49m\u001b[43mfileids\u001b[49m\u001b[43m)\u001b[49m)\n\u001b[1;32m     22\u001b[0m         \u001b[38;5;28;01mif\u001b[39;00m \u001b[38;5;129;01mnot\u001b[39;00m line\u001b[38;5;241m.\u001b[39mstartswith(ignore_lines_startswith)\n\u001b[1;32m     23\u001b[0m     ]\n",
      "File \u001b[0;32m~/.local/lib/python3.9/site-packages/nltk/corpus/reader/api.py:218\u001b[0m, in \u001b[0;36mCorpusReader.raw\u001b[0;34m(self, fileids)\u001b[0m\n\u001b[1;32m    216\u001b[0m contents \u001b[38;5;241m=\u001b[39m []\n\u001b[1;32m    217\u001b[0m \u001b[38;5;28;01mfor\u001b[39;00m f \u001b[38;5;129;01min\u001b[39;00m fileids:\n\u001b[0;32m--> 218\u001b[0m     \u001b[38;5;28;01mwith\u001b[39;00m \u001b[38;5;28;43mself\u001b[39;49m\u001b[38;5;241;43m.\u001b[39;49m\u001b[43mopen\u001b[49m\u001b[43m(\u001b[49m\u001b[43mf\u001b[49m\u001b[43m)\u001b[49m \u001b[38;5;28;01mas\u001b[39;00m fp:\n\u001b[1;32m    219\u001b[0m         contents\u001b[38;5;241m.\u001b[39mappend(fp\u001b[38;5;241m.\u001b[39mread())\n\u001b[1;32m    220\u001b[0m \u001b[38;5;28;01mreturn\u001b[39;00m concat(contents)\n",
      "File \u001b[0;32m~/.local/lib/python3.9/site-packages/nltk/corpus/reader/api.py:231\u001b[0m, in \u001b[0;36mCorpusReader.open\u001b[0;34m(self, file)\u001b[0m\n\u001b[1;32m    223\u001b[0m \u001b[38;5;124;03m\"\"\"\u001b[39;00m\n\u001b[1;32m    224\u001b[0m \u001b[38;5;124;03mReturn an open stream that can be used to read the given file.\u001b[39;00m\n\u001b[1;32m    225\u001b[0m \u001b[38;5;124;03mIf the file's encoding is not None, then the stream will\u001b[39;00m\n\u001b[0;32m   (...)\u001b[0m\n\u001b[1;32m    228\u001b[0m \u001b[38;5;124;03m:param file: The file identifier of the file to read.\u001b[39;00m\n\u001b[1;32m    229\u001b[0m \u001b[38;5;124;03m\"\"\"\u001b[39;00m\n\u001b[1;32m    230\u001b[0m encoding \u001b[38;5;241m=\u001b[39m \u001b[38;5;28mself\u001b[39m\u001b[38;5;241m.\u001b[39mencoding(file)\n\u001b[0;32m--> 231\u001b[0m stream \u001b[38;5;241m=\u001b[39m \u001b[38;5;28;43mself\u001b[39;49m\u001b[38;5;241;43m.\u001b[39;49m\u001b[43m_root\u001b[49m\u001b[38;5;241;43m.\u001b[39;49m\u001b[43mjoin\u001b[49m\u001b[43m(\u001b[49m\u001b[43mfile\u001b[49m\u001b[43m)\u001b[49m\u001b[38;5;241;43m.\u001b[39;49m\u001b[43mopen\u001b[49m\u001b[43m(\u001b[49m\u001b[43mencoding\u001b[49m\u001b[43m)\u001b[49m\n\u001b[1;32m    232\u001b[0m \u001b[38;5;28;01mreturn\u001b[39;00m stream\n",
      "File \u001b[0;32m~/.local/lib/python3.9/site-packages/nltk/data.py:326\u001b[0m, in \u001b[0;36mFileSystemPathPointer.open\u001b[0;34m(self, encoding)\u001b[0m\n\u001b[1;32m    324\u001b[0m stream \u001b[38;5;241m=\u001b[39m \u001b[38;5;28mopen\u001b[39m(\u001b[38;5;28mself\u001b[39m\u001b[38;5;241m.\u001b[39m_path, \u001b[38;5;124m\"\u001b[39m\u001b[38;5;124mrb\u001b[39m\u001b[38;5;124m\"\u001b[39m)\n\u001b[1;32m    325\u001b[0m \u001b[38;5;28;01mif\u001b[39;00m encoding \u001b[38;5;129;01mis\u001b[39;00m \u001b[38;5;129;01mnot\u001b[39;00m \u001b[38;5;28;01mNone\u001b[39;00m:\n\u001b[0;32m--> 326\u001b[0m     stream \u001b[38;5;241m=\u001b[39m \u001b[43mSeekableUnicodeStreamReader\u001b[49m\u001b[43m(\u001b[49m\u001b[43mstream\u001b[49m\u001b[43m,\u001b[49m\u001b[43m \u001b[49m\u001b[43mencoding\u001b[49m\u001b[43m)\u001b[49m\n\u001b[1;32m    327\u001b[0m \u001b[38;5;28;01mreturn\u001b[39;00m stream\n",
      "File \u001b[0;32m~/.local/lib/python3.9/site-packages/nltk/compat.py:41\u001b[0m, in \u001b[0;36mpy3_data.<locals>._decorator\u001b[0;34m(*args, **kwargs)\u001b[0m\n\u001b[1;32m     39\u001b[0m \u001b[38;5;28;01mdef\u001b[39;00m \u001b[38;5;21m_decorator\u001b[39m(\u001b[38;5;241m*\u001b[39margs, \u001b[38;5;241m*\u001b[39m\u001b[38;5;241m*\u001b[39mkwargs):\n\u001b[1;32m     40\u001b[0m     args \u001b[38;5;241m=\u001b[39m (args[\u001b[38;5;241m0\u001b[39m], add_py3_data(args[\u001b[38;5;241m1\u001b[39m])) \u001b[38;5;241m+\u001b[39m args[\u001b[38;5;241m2\u001b[39m:]\n\u001b[0;32m---> 41\u001b[0m     \u001b[38;5;28;01mreturn\u001b[39;00m \u001b[43minit_func\u001b[49m\u001b[43m(\u001b[49m\u001b[38;5;241;43m*\u001b[39;49m\u001b[43margs\u001b[49m\u001b[43m,\u001b[49m\u001b[43m \u001b[49m\u001b[38;5;241;43m*\u001b[39;49m\u001b[38;5;241;43m*\u001b[39;49m\u001b[43mkwargs\u001b[49m\u001b[43m)\u001b[49m\n",
      "File \u001b[0;32m~/.local/lib/python3.9/site-packages/nltk/data.py:991\u001b[0m, in \u001b[0;36mSeekableUnicodeStreamReader.__init__\u001b[0;34m(self, stream, encoding, errors)\u001b[0m\n\u001b[1;32m    988\u001b[0m \u001b[38;5;129m@py3_data\u001b[39m\n\u001b[1;32m    989\u001b[0m \u001b[38;5;28;01mdef\u001b[39;00m \u001b[38;5;21m__init__\u001b[39m(\u001b[38;5;28mself\u001b[39m, stream, encoding, errors\u001b[38;5;241m=\u001b[39m\u001b[38;5;124m\"\u001b[39m\u001b[38;5;124mstrict\u001b[39m\u001b[38;5;124m\"\u001b[39m):\n\u001b[1;32m    990\u001b[0m     \u001b[38;5;66;03m# Rewind the stream to its beginning.\u001b[39;00m\n\u001b[0;32m--> 991\u001b[0m     \u001b[43mstream\u001b[49m\u001b[38;5;241;43m.\u001b[39;49m\u001b[43mseek\u001b[49m\u001b[43m(\u001b[49m\u001b[38;5;241;43m0\u001b[39;49m\u001b[43m)\u001b[49m\n\u001b[1;32m    993\u001b[0m     \u001b[38;5;28mself\u001b[39m\u001b[38;5;241m.\u001b[39mstream \u001b[38;5;241m=\u001b[39m stream\n\u001b[1;32m    994\u001b[0m     \u001b[38;5;124;03m\"\"\"The underlying stream.\"\"\"\u001b[39;00m\n",
      "\u001b[0;31mKeyboardInterrupt\u001b[0m: "
     ]
    }
   ],
   "source": [
    "df['CliChats'] = df['CliChats'].apply(remove_stopwords)\n",
    "df['SpChats'] = df['SpChats'].apply(remove_stopwords)"
   ]
  },
  {
   "cell_type": "code",
   "execution_count": null,
   "id": "d369f45d",
   "metadata": {},
   "outputs": [],
   "source": [
    "df.head(2)"
   ]
  },
  {
   "cell_type": "code",
   "execution_count": null,
   "id": "6d98467e",
   "metadata": {},
   "outputs": [],
   "source": [
    "#stemming:\n",
    "from nltk.stem.porter import PorterStemmer\n",
    "ps = PorterStemmer()\n",
    "def stem_words(text):\n",
    "    return \" \".join([ps.stem(word) for word in text.split()])"
   ]
  },
  {
   "cell_type": "code",
   "execution_count": null,
   "id": "46861a03",
   "metadata": {},
   "outputs": [],
   "source": [
    "df['CliChats'] = df['CliChats'].apply(stem_words)\n",
    "df['SpChats'] = df['SpChats'].apply(stem_words)"
   ]
  },
  {
   "cell_type": "code",
   "execution_count": null,
   "id": "d162ed19",
   "metadata": {},
   "outputs": [],
   "source": [
    "df.head(2)"
   ]
  },
  {
   "cell_type": "code",
   "execution_count": 24,
   "id": "8fff26e0",
   "metadata": {},
   "outputs": [
    {
     "data": {
      "text/plain": [
       "(59094, 8)"
      ]
     },
     "execution_count": 24,
     "metadata": {},
     "output_type": "execute_result"
    }
   ],
   "source": [
    "df.shape"
   ]
  },
  {
   "cell_type": "code",
   "execution_count": null,
   "id": "c32f4a1b",
   "metadata": {},
   "outputs": [],
   "source": []
  },
  {
   "cell_type": "markdown",
   "id": "f682226e",
   "metadata": {},
   "source": [
    "# 2.Text Representation"
   ]
  },
  {
   "cell_type": "code",
   "execution_count": 25,
   "id": "c5737149",
   "metadata": {},
   "outputs": [
    {
     "data": {
      "text/html": [
       "<div>\n",
       "<style scoped>\n",
       "    .dataframe tbody tr th:only-of-type {\n",
       "        vertical-align: middle;\n",
       "    }\n",
       "\n",
       "    .dataframe tbody tr th {\n",
       "        vertical-align: top;\n",
       "    }\n",
       "\n",
       "    .dataframe thead th {\n",
       "        text-align: right;\n",
       "    }\n",
       "</style>\n",
       "<table border=\"1\" class=\"dataframe\">\n",
       "  <thead>\n",
       "    <tr style=\"text-align: right;\">\n",
       "      <th></th>\n",
       "      <th>Unnamed: 0</th>\n",
       "      <th>OrderId</th>\n",
       "      <th>CliChats</th>\n",
       "      <th>SpChats</th>\n",
       "      <th>CliSenti</th>\n",
       "      <th>SpSenti</th>\n",
       "      <th>CliAvgSenti</th>\n",
       "      <th>SpAvgSenti</th>\n",
       "    </tr>\n",
       "  </thead>\n",
       "  <tbody>\n",
       "    <tr>\n",
       "      <th>0</th>\n",
       "      <td>0</td>\n",
       "      <td>17393</td>\n",
       "      <td>finding the premise intriguing and reading the...</td>\n",
       "      <td>this is a gem of a movie not just for people w...</td>\n",
       "      <td>NaN</td>\n",
       "      <td>NaN</td>\n",
       "      <td>0.4</td>\n",
       "      <td>1.0</td>\n",
       "    </tr>\n",
       "    <tr>\n",
       "      <th>1</th>\n",
       "      <td>1</td>\n",
       "      <td>17393</td>\n",
       "      <td>finding the premise intriguing and reading the...</td>\n",
       "      <td>this is a gem of a movie not just for people w...</td>\n",
       "      <td>NaN</td>\n",
       "      <td>NaN</td>\n",
       "      <td>0.4</td>\n",
       "      <td>1.0</td>\n",
       "    </tr>\n",
       "  </tbody>\n",
       "</table>\n",
       "</div>"
      ],
      "text/plain": [
       "   Unnamed: 0  OrderId                                           CliChats  \\\n",
       "0           0    17393  finding the premise intriguing and reading the...   \n",
       "1           1    17393  finding the premise intriguing and reading the...   \n",
       "\n",
       "                                             SpChats  CliSenti  SpSenti  \\\n",
       "0  this is a gem of a movie not just for people w...       NaN      NaN   \n",
       "1  this is a gem of a movie not just for people w...       NaN      NaN   \n",
       "\n",
       "   CliAvgSenti  SpAvgSenti  \n",
       "0          0.4         1.0  \n",
       "1          0.4         1.0  "
      ]
     },
     "execution_count": 25,
     "metadata": {},
     "output_type": "execute_result"
    }
   ],
   "source": [
    "df.head(2)"
   ]
  },
  {
   "cell_type": "markdown",
   "id": "f635c9f0",
   "metadata": {},
   "source": [
    "## BoW : Bag Of Words"
   ]
  },
  {
   "cell_type": "code",
   "execution_count": 26,
   "id": "1492a1e2",
   "metadata": {},
   "outputs": [],
   "source": [
    "from sklearn.feature_extraction.text import CountVectorizer \n",
    "cv1 = CountVectorizer(max_features=5000)\n",
    "cv2 = CountVectorizer(max_features=5000)"
   ]
  },
  {
   "cell_type": "code",
   "execution_count": 27,
   "id": "4a9cda9d",
   "metadata": {},
   "outputs": [
    {
     "name": "stdout",
     "output_type": "stream",
     "text": [
      "{'finding': 1718, 'the': 4421, 'premise': 3371, 'intriguing': 2328, 'and': 232, 'reading': 3540, 'reviews': 3682, 'being': 451, 'an': 230, 'angel': 238, 'fan': 1640, 'watched': 4812, 'this': 4452, 'movie': 2909, 'its': 2365, 'sexy': 3911, 'original': 3123, 'quite': 3496, 'entertaining': 1493, 'david': 1131, 'is': 2354, 'keith': 2451, 'hes': 2090, 'married': 2735, 'man': 2711, 'stay': 4164, 'at': 339, 'home': 2139, 'dad': 1103, 'he': 2050, 'feels': 1678, 'little': 2619, 'in': 2251, 'his': 2113, 'marriage': 2734, 'makes': 2707, 'mistake': 2857, 'of': 3077, 'close': 850, 'circle': 817, 'teenage': 4384, 'girls': 1900, 'who': 4870, 'are': 292, 'fascinated': 1649, 'with': 4912, 'idea': 2208, 'doing': 1309, 'it': 2360, 'older': 3095, 'theyll': 4439, 'do': 1299, 'anything': 266, 'to': 4502, 'get': 1889, 'into': 2325, 'bed': 438, 'including': 2258, 'lie': 2586, 'but': 637, 'they': 4437, 'mostly': 2893, 'try': 4599, 'push': 3478, 'that': 4419, 'sends': 3876, 'edge': 1413, 'shows': 3961, 'skin': 4008, 'one': 3099, 'looking': 2643, 'hot': 2170, 'plays': 3301, 'sleazy': 4015, 'enough': 1486, 'toward': 4534, 'goofy': 1927, 'teens': 4387, 'you': 4986, 'end': 1463, 'up': 4683, 'for': 1775, 'him': 2106, 'more': 2888, 'thing': 4445, 'when': 4861, 'someone': 4058, 'oh': 3090, 'yeah': 4977, 'hard': 2024, 'see': 3857, 'them': 4427, 'as': 319, 'victim': 4730, 'make': 2704, 'everything': 1538, 'too': 4517, 'easy': 1404, 'film': 1703, 'sort': 4071, 'reminded': 3622, 'me': 2768, 'jones': 2417, 'where': 4863, 'on': 3097, 'outside': 3139, 'during': 1381, 'ocean': 3072, 'crossing': 1074, 'everybody': 1534, 'knows': 2494, 'thats': 4420, 'going': 1920, 'just': 2438, 'real': 3543, 'want': 4789, 'white': 4869, 'house': 2174, 'dont': 1318, 'even': 1527, 'know': 2490, 'why': 4876, 'half': 2000, 'because': 434, 'like': 2596, 'charlie': 764, 'sheen': 3925, 'donald': 1315, 'sutherland': 4325, 'expect': 1569, 'usual': 4700, 'ability': 66, 'bullets': 621, 'from': 1832, 'every': 1533, 'angle': 243, 'be': 421, 'able': 67, 'run': 3755, 'faster': 1654, 'than': 4415, 'usually': 4701, 'car': 681, 'or': 3118, 'was': 4804, 'silly': 3975, 'didnt': 1238, 'then': 4431, 'had': 1996, 'anyway': 267, 'always': 211, 'brother': 598, 'although': 208, 'most': 2892, 'scenes': 3814, 'were': 4848, 'left': 2561, 'cutting': 1100, 'room': 3735, 'floor': 1751, 'funniest': 1845, 'line': 2606, 'nothing': 3039, 'so': 4038, 'filmed': 1704, 'we': 4823, 'grew': 1961, 'dance': 1111, 'club': 862, 'called': 651, 'front': 1833, 'fx': 1851, 'what': 4857, 'loved': 2663, 'about': 68, 'main': 2698, 'character': 757, 'not': 3032, 'named': 2947, 'box': 556, 'brings': 586, 'supposed': 4300, 'police': 3320, 'great': 1953, 'opportunity': 3115, 'drive': 1358, 'around': 305, 'red': 3573, 'need': 2972, 'copy': 1003, 'directors': 1262, 'cut': 1097, 'can': 666, 'all': 192, 'my': 2938, 'only': 3104, 'scene': 3812, 'beginning': 445, 'got': 1932, 'spot': 4126, 'dating': 1127, 'football': 1774, 'team': 4372, 'interesting': 2317, 'name': 2946, 'comes': 891, 'first': 1729, 'entry': 1499, 'imdb': 2234, 'fame': 1634, 'has': 2037, 'fortune': 1797, 'written': 4972, 'by': 643, 'famous': 1639, 'writer': 4967, 'probably': 3407, 'best': 471, 'movies': 2911, 'ever': 1532, 'made': 2689, 'comedy': 890, 'category': 717, 'yet': 4984, 'appearance': 280, 'theatre': 4424, 'play': 3296, 'feature': 1670, 'takes': 4342, 'value': 4709, 'masterpiece': 2751, 'should': 3951, 'miss': 2852, 'subtitles': 4254, 'aged': 155, 'bus': 632, 'route': 3742, 'war': 4793, 'decides': 1153, 'passengers': 3198, 'behaviour': 449, 'two': 4620, 'musicians': 2934, 'sing': 3988, 'their': 4426, 'miserable': 2849, 'life': 2588, 'also': 205, 'tragedy': 4548, 'come': 885, 'singing': 3990, 'both': 548, 'extraordinary': 1601, 'road': 3710, 'brothers': 599, 'amateur': 214, 'actors': 105, 'together': 4506, 'whos': 4874, 'give': 1901, 'reallife': 3552, 'characters': 759, 'gives': 1903, 'brilliant': 582, 'image': 2227, 'society': 4043, 'facing': 1612, 'insight': 2291, 'person': 3237, 'everyone': 1536, 'aware': 376, 'begin': 444, 'live': 2620, 'own': 3153, 'lives': 2623, 'hoping': 2156, 'might': 2824, 'using': 4699, 'simple': 3981, 'language': 2519, 'director': 1260, 'picture': 3269, 'torn': 4522, 'previous': 3388, 'world': 4946, 'highlights': 2100, 'personal': 3239, 'success': 4260, 'singer': 3989, 'veteran': 4725, 'way': 4820, 'visit': 4756, 'recently': 3564, 'son': 4064, 'seems': 3865, 'german': 1886, 'narration': 2951, 'memorable': 2790, 'soundtrack': 4079, 'songs': 4066, 'atmosphere': 340, 'well': 4843, 'photographed': 3258, 'edited': 1415, 'debut': 1147, 'introduction': 2332, 'series': 3890, 'comedies': 889, 'will': 4886, 'cinematography': 816, '1980s': 23, 'sam': 3779, 'other': 3128, 'favourite': 1665, 'psycho': 3455, 'classic': 833, 'especially': 1515, 'remake': 3615, 'think': 4447, 'been': 440, 'less': 2572, 'rest': 3660, 'comments': 903, 'here': 2082, 'theres': 4435, 'far': 1645, 'wrong': 4973, 'problem': 3408, 'color': 876, 'shot': 3949, 'black': 495, 'few': 1687, 'people': 3220, 'realize': 3548, 'after': 149, 'invented': 2334, 'choice': 796, 'budget': 610, 'concern': 936, 'hitchcocks': 2119, 'now': 3046, 'say': 3801, 'have': 2046, 'colors': 878, 'green': 1960, 'particularly': 3189, 'marion': 2729, 'bright': 580, 'look': 2641, 'happy': 2023, 'horrific': 2162, 'events': 1530, 'take': 4340, 'place': 3281, 'these': 4436, 'looks': 2644, 'cartoon': 705, 'audience': 357, 'laugh': 2531, 'rather': 3527, 'second': 3847, 'lighting': 2593, 'dark': 1122, 'tale': 4344, 'which': 4866, 'seemed': 3863, 'fail': 1617, 'go': 1914, 'opposite': 3117, 'direction': 1257, 'very': 4724, 'lit': 2616, 'times': 4492, 'illogical': 2225, 'obvious': 3064, 'performance': 3227, 'yes': 4982, 'does': 1305, 'pull': 3459, 'off': 3078, 'norman': 3026, 'bates': 414, 'madness': 2691, 'there': 4433, 'element': 1439, 'failed': 1618, 'show': 3954, 'certain': 735, 'least': 2555, 'away': 377, 'once': 3098, 'truth': 4598, 'beyond': 478, 'recognized': 3567, 'good': 1925, 'aspects': 329, 'some': 4055, 'performances': 3228, 'said': 3776, 'came': 655, 'pulling': 3461, 'decent': 1150, 'portrayal': 3339, 'moore': 2885, 'chemistry': 781, 'different': 1244, 'welcome': 4842, 'change': 748, 'anne': 253, 'may': 2765, 'atrocious': 342, 'unlike': 4673, 'biggest': 482, 'stars': 4151, 'given': 1902, 'last': 2524, 'opening': 3109, 'read': 3539, 'cover': 1031, 'novel': 3044, 'gus': 1990, 'van': 4713, 'claimed': 827, 'hitchcock': 2118, 'new': 2989, 'adaptation': 114, 'wish': 4905, 'bought': 553, 'book': 536, 'saved': 3797, 'comment': 900, 'seeing': 3858, 'possibly': 3350, 'seen': 3866, 'no': 3008, 'attempt': 347, 'fact': 1613, 'rip': 3700, 'would': 4956, 'believable': 455, 'if': 2216, 'tried': 4582, 'tell': 4390, 'us': 4691, 'really': 3553, 'three': 4464, 'planet': 3289, 'many': 2723, 'shots': 3950, 'exactly': 1545, 'without': 4914, 'any': 262, 'actual': 109, 'thought': 4457, 'composed': 930, 'such': 4263, 'talking': 4351, 'while': 4867, 'faces': 1610, 'entirely': 1497, 'covered': 1032, 'shadow': 3912, 'bad': 388, 'wanted': 4790, 'hide': 2093, 'nobody': 3010, 'could': 1016, 'awful': 379, 'artistic': 316, 'words': 4938, 'review': 3679, 'pointless': 3317, 'itself': 2366, 'something': 4060, 'already': 203, 'else': 1444, 'waste': 4807, 'your': 4991, 'time': 4489, 'luck': 2675, 'watch': 4810, 'released': 3604, 'tape': 4357, 'dvd': 1385, 'saw': 3800, 'release': 3603, 'early': 1394, '70s': 57, 'lucky': 2677, 'catch': 715, 'via': 4727, 'american': 221, 'efforts': 1428, 'still': 4186, 'moments': 2873, 'stayed': 4165, 'thirty': 4451, 'reason': 3555, 'repeat': 3633, 'accurate': 90, 'soon': 4068, 'five': 1734, 'pieces': 3273, 'jack': 2370, 'managed': 2713, 'low': 2669, 'effort': 1427, 'possible': 3349, 'certainly': 736, 'wandering': 4786, 'used': 4694, 'intense': 2308, 'late': 2526, '60s': 55, 'college': 874, 'sports': 4125, 'student': 4233, 'movements': 2907, 'sexual': 3908, 'revolution': 3683, 'ground': 1968, 'male': 2710, 'karen': 2445, 'blacks': 496, 'guard': 1978, 'use': 4693, 'word': 4937, 'hadnt': 1997, 'witnessed': 4916, 'before': 442, 'unexpected': 4651, 'nudity': 3051, 'overall': 3143, 'others': 3129, 'im': 2226, 'nice': 2995, 'surprise': 4306, 'young': 4989, 'williams': 4888, 'her': 2081, 'films': 1710, 'thin': 4444, 'mike': 2826, 'warren': 4801, 'fresh': 1825, 'out': 3134, 'tv': 4610, 'robert': 3713, 'actor': 104, 'whole': 4872, 'lot': 2655, 'folks': 1762, 'simply': 3983, 'playing': 3300, 'connection': 952, 'between': 477, 'harry': 2033, 'gets': 1890, 'based': 408, 'youll': 4988, 'hospital': 2168, 'ahead': 166, 'produced': 3414, 'screenwriter': 3835, 'gave': 1867, 'network': 2986, 'deals': 1141, 'staff': 4134, 'gross': 1967, 'corruption': 1011, 'large': 2520, 'manhattan': 2716, 'george': 1885, 'scott': 3826, 'superb': 4290, 'head': 2051, 'driven': 1360, 'tries': 4583, 'divorce': 1298, 'throwing': 4475, 'worst': 4951, 'medical': 2779, 'over': 3141, 'caring': 692, 'sick': 3964, 'viewers': 4740, 'shocked': 3939, 'feel': 1675, 'pain': 3168, 'pun': 3464, 'intended': 2307, 'done': 1316, 'vivid': 4762, 'images': 2229, 'powerful': 3358, 'find': 1717, 'yourself': 4993, 'laughing': 2535, 'deeply': 1159, 'disturbed': 1296, 'documentary': 1304, 'style': 4244, 'fashion': 1652, 'starts': 4155, 'unfortunately': 4657, 'subplot': 4250, 'falling': 1631, 'daughter': 1128, 'patient': 3208, 'murdering': 2925, 'credibility': 1054, 'becomes': 436, 'romantic': 3732, 'dialog': 1230, 'add': 117, 'mental': 2796, 'doctor': 1301, 'found': 1802, 'totally': 4526, 'unbelievable': 4633, 'security': 3856, 'call': 650, 'check': 776, 'killings': 2473, 'almost': 199, 'brought': 600, 'much': 2918, 'damage': 1105, 'corrupt': 1010, 'another': 257, 'script': 3836, 'things': 4446, 'happening': 2019, 'example': 1547, 'within': 4913, 'period': 3235, '20': 29, 'minutes': 2845, 'doctors': 1302, 'accused': 92, 'same': 3780, 'story': 4202, 'someones': 4059, 'died': 1240, 'third': 4450, 'nurse': 3055, 'coffee': 869, 'break': 568, 'subtle': 4255, 'humor': 2188, 'messages': 2807, 'fed': 1674, 'unforgettable': 4655, 'however': 2178, 'murder': 2922, 'help': 2075, 'focus': 1757, 'reactions': 3538, 'screen': 3831, 'conversations': 990, 'mad': 2688, 'patients': 3209, 'force': 1777, 'mystery': 2943, 'type': 4622, 'scenario': 3811, 'seriously': 3892, 'hurts': 2200, 'quality': 3485, 'revealing': 3675, 'how': 2176, 'did': 1237, 'wondered': 4927, 'following': 1765, 'producers': 3416, 'killer': 2470, 'point': 3315, 'having': 2048, 'relationship': 3598, 'anybody': 263, 'whom': 4873, 'focused': 1758, 'incompetent': 2260, 'walls': 4784, 'frequently': 1824, 'era': 1508, 'stories': 4200, 'instead': 2300, 'park': 3184, 'havent': 2047, 'sympathy': 4334, 'trilogy': 4584, 'matter': 2759, 'missing': 2855, 'century': 734, 'talk': 4349, 'vampire': 4711, 'twisted': 4618, 'romance': 3731, 'priest': 3393, 'girl': 1898, 'wont': 4932, 'above': 69, 'offer': 3081, 'master': 2749, 'exception': 1551, 'surreal': 4311, 'sets': 3898, 'mood': 2882, 'perfectly': 3225, 'start': 4152, 'bit': 490, 'slow': 4023, 'felt': 1682, 'necessary': 2969, 'build': 614, 'moving': 2914, 'along': 201, 'never': 2987, 'lets': 2577, 'until': 4680, 'credits': 1058, 'roll': 3727, 'love': 2662, 'sense': 3877, 'lead': 2546, 'disturbing': 1297, 'stranger': 4210, 'touches': 4529, 'perhaps': 3234, 'exceptional': 1552, 'buffs': 612, 'admittedly': 126, 'vampires': 4712, 'sappy': 3786, 'boring': 543, 'gritty': 1966, 'beautiful': 430, 'ways': 4822, 'obviously': 3065, 'chances': 747, 'interested': 2316, 'dream': 1349, 'street': 4213, 'back': 384, 'sequel': 3885, 'nightmare': 3002, 'hope': 2150, 'number': 3052, 'cameos': 657, 'freddy': 1818, 'teenager': 4385, 'loves': 2667, 'family': 1637, 'effects': 1426, 'funny': 1846, 'cast': 711, 'includes': 2257, 'lisa': 2611, 'sister': 3995, 'let': 2576, 'amanda': 213, '3d': 47, 'missed': 2853, 'wave': 4817, 'wasnt': 4806, 'born': 545, 'stands': 4143, 'better': 475, 'ones': 3102, 'absolutely': 73, 'became': 433, 'monster': 2877, '80s': 59, 'jason': 2381, 'imagine': 2232, 'recommend': 3568, 'fans': 1642, 'horror': 2164, 'directed': 1255, 'french': 1822, 'patrick': 3211, 'forget': 1784, 'day': 1134, 'celebrity': 728, 'france': 1807, 'equivalent': 1507, 'jerry': 2392, '13': 6, 'troma': 4589, 'states': 4159, 'guys': 1993, 'short': 3946, 'st': 4133, 'viewed': 4738, 'recording': 3572, 'liked': 2597, 'went': 4847, 'several': 3905, 'understand': 4642, 'considered': 959, 'julie': 2428, 'andrews': 236, 'lovely': 2664, 'voice': 4763, 'top': 4519, 'form': 1789, 'contains': 973, 'though': 4456, 'fun': 1842, 'ordered': 3120, 'iti': 2363, 'disappointed': 1270, 'couple': 1025, 'sequences': 3888, 'included': 2256, 'version': 4721, 'farce': 1646, 'names': 2949, 'plot': 3309, 'literature': 2618, 'ridiculous': 3693, 'weapon': 4828, 'doesnt': 1306, 'arm': 300, 'bare': 402, 'hands': 2012, 'cant': 673, 'believe': 456, 'portrayed': 3340, 'impressive': 2248, 'positive': 3344, 'points': 3318, 'english': 1478, 'teacher': 4368, 'insane': 2289, 'she': 3923, 'unless': 4672, 'epic': 1501, 'avoid': 371, 'costs': 1013, 'wouldnt': 4958, 'friend': 1827, 'philip': 3251, 'baker': 391, 'hall': 2002, 'rented': 3631, 'season': 3844, 'disc': 1275, 'typical': 4624, 'clichés': 844, 'genre': 1879, 'wacky': 4770, 'blonde': 513, 'interest': 2315, 'asian': 321, 'anyone': 265, 'needed': 2973, 'various': 4715, 'puts': 3482, 'job': 2403, 'airplane': 173, 'save': 3796, 'hilarious': 2102, 'middle': 2821, 'episode': 1502, 'described': 1195, 'lies': 2587, 'passable': 3196, 'entertainment': 1494, 'watching': 4814, 'episodes': 1503, 'row': 3744, 'growing': 1972, 'bored': 541, 'belief': 453, 'endless': 1468, 'rogers': 3724, 'gay': 1868, 'sandra': 3784, 'blah': 498, 'lack': 2504, 'annoying': 256, 'track': 4539, 'fool': 1770, 'thinking': 4448, 'arrested': 306, 'development': 1223, 'surprised': 4307, 'air': 171, 'right': 3696, 'fox': 1805, 'forgot': 1787, 'needless': 2974, 'trust': 4597, 'friends': 1829, 'taste': 4362, 'grade': 1939, 'night': 3001, 'turned': 4606, 'picks': 3268, 'week': 4837, 'hear': 2056, 'rock': 3719, 'west': 4852, 'except': 1550, 'thumbs': 4480, 'theaters': 4423, 'long': 2639, 'money': 2874, 'problems': 3409, 'deserved': 1200, 'next': 2994, 'afternoon': 150, 'followed': 1764, 'advice': 137, 'holes': 2130, '10': 0, 'seem': 3862, 'worth': 4952, 'fine': 1720, 'hour': 2172, 'role': 3725, 'nicholas': 2997, 'cage': 646, 'dennis': 1179, 'hopper': 2157, 'goes': 1919, 'works': 4945, 'music': 2931, 'deal': 1139, 'later': 2528, 'work': 4940, 'built': 618, 'tension': 4399, 'theater': 4422, 'difficult': 1245, 'appreciate': 285, 'deserves': 1201, 'full': 1840, 'attention': 351, 'turn': 4605, 'phone': 3255, 'sure': 4302, 'listen': 2614, 'spent': 4104, 'father': 1658, 'wants': 4792, 'boris': 544, 'charles': 763, 'meet': 2782, 'accidentally': 85, 'fall': 1629, 'leave': 2556, 'past': 3203, 'behind': 450, 'overdone': 3145, 'dialogue': 1232, 'situations': 4003, 'lines': 2607, 'gorgeous': 1930, 'frame': 1806, 'dressed': 1353, 'desert': 1198, 'strikes': 4220, 'hysterical': 2204, 'clothes': 859, 'body': 529, 'walks': 4781, 'shock': 3938, 'wonderful': 4928, 'nonstop': 3021, 'stupid': 4242, 'kept': 2456, 'chair': 741, 'corny': 1006, 'plenty': 3307, 'space': 4084, 'runs': 3758, '80': 58, 'camp': 662, 'serious': 3891, 'law': 2540, 'beautifully': 431, 'flick': 1746, 'offers': 3084, 'completely': 927, 'lacking': 2506, 'excitement': 1557, 'leading': 2548, 'ladies': 2509, 'appeal': 277, 'fight': 1694, 'mild': 2827, 'suspense': 4322, 'detective': 1218, 'played': 3297, 'timothy': 4494, 'despite': 1211, 'cross': 1073, 'lesser': 2573, 'benefit': 467, 'oliver': 3096, 'blend': 506, 'sea': 3839, 'lowbudget': 2670, 'western': 4853, 'genres': 1880, 'minor': 2843, 'altogether': 210, 'field': 1691, 'remotely': 3626, 'james': 2376, 'escapes': 1514, 'chain': 739, 'gang': 1858, 'intent': 2310, 'killing': 2472, 'retired': 3667, 'put': 3481, 'latter': 2530, 'trap': 4560, 'barbara': 401, 'naturally': 2959, 'former': 1791, 'accompanied': 86, 'chris': 803, 'pursuit': 3477, 'broke': 593, 'jail': 2374, 'proceedings': 3410, 'approach': 288, 'fully': 1841, 'ease': 1398, 'violence': 4748, 'generated': 1873, 'presence': 3374, 'among': 224, 'bunch': 623, 'previously': 3389, 'appeared': 282, 'troubled': 4592, 'major': 2702, 'pick': 3265, 'restored': 3662, 'edition': 1417, 'theatrical': 4425, 'format': 1790, 'uk': 4627, 'generic': 1876, 'clearly': 838, 'suggested': 4275, 'title': 4499, 'again': 152, 'paid': 3167, 'fitting': 1733, '1968': 17, 'pat': 3204, 'billy': 484, 'kid': 2464, 'dignity': 1248, 'attempting': 349, 'move': 2904, 'climax': 847, 'moment': 2872, 'vengeance': 4719, 'witness': 4915, 'apart': 270, 'sequence': 3887, 'sees': 3867, 'trick': 4580, 'borrowed': 546, 'el': 1434, 'trapped': 4561, 'inside': 2290, 'violent': 4749, 'death': 1145, 'protagonists': 3442, 'gratuitous': 1950, 'supporting': 4298, 'michael': 2817, 'town': 4536, 'sheriff': 3929, 'mexican': 2814, 'larry': 2523, 'member': 2788, 'assigned': 333, 'task': 4361, 'keep': 2448, 'truly': 4596, 'uneven': 4650, 'vs': 4768, 'wine': 4896, 'notice': 3040, 'filmmaker': 1707, 'trying': 4600, 'featured': 1671, 'individual': 2271, 'camera': 658, 'content': 975, 'sleep': 4016, 'showing': 3959, 'owned': 3154, 'parts': 3193, 'okay': 3093, 'compare': 914, 'italian': 2361, 'nazis': 2963, 'those': 4455, 'grow': 1971, 'youre': 4992, 'actually': 110, 'credit': 1056, 'care': 685, 'forgotten': 1788, 'cared': 686, 'mention': 2798, 'amazing': 217, 'computer': 932, 'often': 3089, 'happen': 2017, 'basic': 410, 'easily': 1400, 'subplots': 4251, 'upon': 4685, 'enjoyable': 1480, 'realistic': 3546, 'arent': 295, 'enjoy': 1479, 'bringing': 585, 'gem': 1869, '2003': 33, 'international': 2319, 'festival': 1685, 'hell': 2074, 'system': 4336, 'andrew': 235, 'miller': 2832, 'acting': 99, 'writing': 4971, 'screening': 3832, 'intelligent': 2306, 'guy': 1992, 'inventive': 2335, 'small': 4025, 'big': 480, 'hollywood': 2134, 'crap': 1039, 'shame': 3918, 'mister': 2860, 'accident': 84, 'near': 2964, 'experiences': 1576, 'reminiscent': 3624, 'saturday': 3794, 'warner': 4799, 'cartoons': 706, 'falls': 1632, 'cliff': 845, 'per': 3222, 'grown': 1973, 'child': 787, 'manages': 2715, 'meeting': 2783, 'australian': 365, 'unfunny': 4658, 'depressing': 1188, 'ten': 4394, 'visual': 4759, 'stunts': 4241, 'attempted': 348, 'since': 3986, 'duck': 1374, 'high': 2096, 'class': 831, 'national': 2956, 'age': 154, 'finds': 1719, 'definitely': 1165, 'passed': 3197, 'ago': 161, 'calling': 652, 'heres': 2083, 'drunk': 1369, 'tied': 4484, 'eyes': 1606, 'extreme': 1603, 'terror': 4407, 'guessing': 1981, 'worthless': 4953, 'john': 2407, 'star': 4146, 'product': 3418, 'british': 588, 'achieve': 93, 'tone': 4512, 'references': 3581, 'fellow': 1681, 'splatter': 4113, 'flicks': 1747, 'pretty': 3385, 'walker': 4779, 'due': 1376, 'lady': 2510, 'amy': 229, 'appears': 284, 'understanding': 4644, 'dean': 1143, 'intentionally': 2312, 'dire': 1253, 'production': 3419, 'values': 4710, 'rising': 3704, 'mediocre': 2780, 'net': 2985, 'result': 3663, 'laughed': 2534, 'chinese': 795, 'fu': 1838, 'king': 2479, 'allowing': 196, 'franchise': 1808, 'max': 2764, 'bring': 584, 'myself': 2940, 'rate': 3525, 'average': 370, 'nearly': 2966, 'gone': 1923, 'nasty': 2954, 'feeling': 1676, 'passion': 3201, 'dreadful': 1348, 'score': 3824, 'matches': 2754, 'heart': 2059, 'makers': 2706, 'amount': 226, 'cash': 709, 'thankfully': 4417, 'expected': 1571, 'course': 1028, 'paint': 3171, 'landscape': 2517, 'purely': 3473, 'ideas': 2210, 'action': 100, 'glory': 1912, 'uses': 4698, 'train': 4553, 'poor': 3327, 'ambitious': 219, 'mid': 2820, 'viewing': 4741, 'across': 96, 'losing': 2652, 'edgy': 1414, 'whilst': 4868, 'sadly': 3771, 'getting': 1891, 'caught': 721, 'mix': 2863, 'fantasy': 1644, 'neither': 2981, 'worked': 4941, 'context': 977, 'stunt': 4240, 'men': 2793, 'deserve': 1199, 'punishment': 3466, 'undoubtedly': 4649, 'am': 212, 'rated': 3526, 'screenplay': 3833, 'rating': 3528, 'heroine': 2087, 'carol': 694, 'excellent': 1549, 'thomas': 4453, 'inspector': 2292, 'whose': 4875, 'personally': 3242, 'guilty': 1986, 'alan': 177, 'curtis': 1095, 'view': 4737, 'naive': 2944, 'prove': 3445, 'noir': 3011, 'spanish': 4087, 'la': 2502, 'alternative': 207, 'searching': 3843, 'impressed': 2246, 'impact': 2239, 'sole': 4049, 'female': 1683, 'performs': 3233, 'heroic': 2086, 'believing': 459, 'innocence': 2286, 'boss': 547, 'refuses': 3587, 'return': 3668, 'pet': 3245, 'secretly': 3853, 'business': 634, 'designed': 1203, 'childrens': 791, 'suppose': 4299, '1940s': 14, 'code': 868, 'operation': 3112, 'portray': 3338, 'sex': 3907, 'through': 4472, 'dolls': 1313, 'herself': 2089, 'giving': 1904, 'information': 2280, 'phantom': 3249, 'instance': 2297, 'constantly': 966, 'strangely': 4209, 'improved': 2250, 'provided': 3449, 'moves': 2908, 'science': 3818, 'fiction': 1689, 'childhood': 788, 'hated': 2041, 'implausible': 2240, 'plots': 3310, 'pity': 3280, 'children': 790, 'kind': 2476, 'respect': 3656, 'dumb': 1379, 'realise': 3544, '2002': 32, 'boy': 558, 'spy': 4130, 'parents': 3182, 'aliens': 189, 'sounded': 4076, 'filmmakers': 1708, 'stretch': 4217, 'stylish': 4246, 'seat': 3846, 'question': 3488, 'manage': 2712, 'rubbish': 3748, 'fascinating': 1650, 'drama': 1341, 'similarities': 3978, 'subject': 4248, 'elephant': 1441, 'kids': 2467, 'superior': 4294, 'expectations': 1570, 'ended': 1465, 'taking': 4343, 'impression': 2247, 'thanks': 4418, 'perfect': 3223, 'group': 1969, 'school': 3816, 'inspired': 2294, 'books': 537, 'pretend': 3382, 'reasons': 3558, 'expressions': 1597, 'arrives': 310, 'movement': 2906, 'focusing': 1760, 'situation': 4002, 'intelligence': 2305, 'reaction': 3537, 'cruelty': 1079, 'similar': 3977, 'juvenile': 2442, 'cinema': 812, 'hughes': 2182, 'teen': 4383, 'princess': 3398, 'clumsy': 865, 'become': 435, 'hollow': 2132, 'defined': 1163, 'stereotypes': 4177, 'credible': 1055, 'degree': 1166, 'ending': 1466, 'affected': 142, 'projects': 3428, 'jean': 2386, 'peters': 3247, 'friendly': 1828, 'sheer': 3926, 'joy': 2422, 'performing': 3232, 'plain': 3285, 'face': 1608, 'years': 4979, 'women': 4923, 'doubts': 1326, 'either': 1433, 'concept': 935, 'heads': 2054, 'wise': 4904, 'philosophical': 3253, 'justice': 2439, 'tad': 4338, 'stays': 4167, 'definite': 1164, 'window': 4894, 'costume': 1014, 'roles': 3726, 'choose': 798, 'talented': 4346, 'actress': 106, 'robin': 3715, '14': 8, 'year': 4978, 'old': 3094, 'wrote': 4974, 'exists': 1567, 'shes': 3930, 'making': 2709, 'gonna': 1924, 'ruin': 3750, 'awesome': 378, 'huge': 2180, 'disappointment': 1272, 'opinion': 3113, 'wait': 4772, 'keaton': 2447, 'special': 4093, 'compared': 915, 'screaming': 3829, 'theyre': 4440, 'positively': 3345, 'arms': 302, 'thick': 4442, 'parody': 3186, 'dozens': 1333, 'worse': 4950, 'paul': 3212, '30': 43, 'pure': 3472, 'holiday': 2131, 'scary': 3810, 'tales': 4348, 'fear': 1667, 'christmas': 807, 'careful': 689, 'santa': 3785, 'ill': 2222, 'greedy': 1958, 'wife': 4882, 'mary': 2743, 'ellen': 1443, 'kills': 2474, 'husband': 2201, 'marshall': 2738, 'bell': 460, 'coach': 866, 'plan': 3286, 'ruined': 3751, 'crazy': 1042, 'suit': 4278, 'dr': 1334, 'drake': 1340, 'free': 1819, 'suggest': 4274, 'academy': 77, 'awards': 375, 'oscar': 3126, 'case': 707, 'remember': 3619, '3000': 44, 'miles': 2830, 'hasnt': 2038, 'video': 4734, 'carpenter': 695, 'kurt': 2500, 'russell': 3762, 'elvis': 1446, 'id': 2207, 'acted': 98, 'performed': 3229, 'greatest': 1955, 'hits': 2122, 'escape': 1512, 'york': 4985, 'trouble': 4591, 'china': 794, 'magic': 2695, 'disappointing': 1271, 'views': 4743, 'learning': 2553, 'tree': 4572, 'finally': 1715, 'woman': 4921, 'alone': 200, 'happens': 2020, 'twice': 4613, 'flat': 1740, 'jokes': 2414, 'keeps': 2450, 'battle': 417, 'wolf': 4920, 'beaten': 427, 'higher': 2097, 'lake': 2512, 'genuinely': 1884, 'creepy': 1059, 'featuring': 1673, 'downhill': 1330, 'concerned': 937, 'mom': 2871, 'younger': 4990, 'mildly': 2828, 'dangerous': 1117, 'environment': 1500, 'features': 1672, 'lame': 2513, 'occasionally': 3068, 'discover': 1276, 'bodies': 528, 'convincing': 994, 'terms': 4401, 'contrast': 984, 'stuff': 4238, 'matters': 2760, 'learned': 2552, 'leaving': 2558, 'viewer': 4739, 'finale': 1714, 'discovery': 1279, 'basement': 409, 'running': 3757, 'madefortv': 2690, 'suddenly': 4268, 'remembered': 3620, 'badly': 389, 'highlight': 2099, 'barry': 405, 'taken': 4341, 'blond': 512, 'starred': 4149, 'watchable': 4811, 'le': 2545, '2005': 35, 'par': 3178, 'visuals': 4761, 'colorful': 877, 'expert': 1580, 'hotel': 2171, 'bank': 398, 'emotion': 1453, 'nicely': 2996, 'working': 4944, 'sits': 4000, 'bar': 400, 'begins': 446, 'unfold': 4653, 'strong': 4224, 'sacrifice': 3768, 'spoil': 4116, 'lynch': 2684, 'godfather': 1917, 'remarkable': 3616, 'surface': 4304, 'sorts': 4072, 'feelings': 1677, 'limited': 2602, 'ive': 2369, 'known': 2493, 'dreams': 1350, 'decades': 1149, 'confess': 944, 'experienced': 1575, 'emotional': 1454, 'rush': 3760, 'days': 1135, 'kings': 2481, 'ok': 3092, 'producing': 3417, 'straight': 4205, 'slasher': 4013, 'results': 3665, 'convinced': 993, 'university': 4670, 'separate': 3884, 'painful': 3169, 'escaped': 1513, 'local': 2629, 'catholic': 719, 'recall': 3560, 'honor': 2146, 'students': 4234, 'argue': 298, 'each': 1389, 'meanwhile': 2775, 'professor': 3422, 'parker': 3185, 'proves': 3447, 'utterly': 4703, 'relationships': 3599, 'boyfriend': 559, 'mothers': 2895, 'blank': 503, 'none': 3016, 'means': 2773, 'meaningful': 2771, 'hold': 2126, 'breath': 572, 'waiting': 4774, 'asylum': 338, 'pace': 3158, 'numerous': 3054, 'inane': 2252, 'produce': 3413, 'frustration': 1837, 'helped': 2076, 'editing': 1416, 'sound': 4075, 'killers': 2471, 'jerk': 2391, 'pregnant': 3368, 'girlfriend': 1899, 'aint': 170, '15': 9, 'living': 2624, 'must': 2935, 'enjoyed': 1481, 'estate': 1520, 'storyline': 4203, 'suffer': 4270, 'grant': 1945, 'joseph': 2418, 'couldnt': 1017, 'part': 3187, 'fit': 1731, 'barney': 404, 'eager': 1390, 'agent': 157, 'dead': 1137, 'shower': 3958, 'progresses': 3426, 'introduces': 2331, 'key': 2458, 'reasonable': 3556, 'grace': 1938, 'overthetop': 3150, 'provide': 3448, 'gory': 1931, 'kidding': 2465, 'lowest': 2672, 'comic': 894, 'hero': 2084, 'won': 4925, 'share': 3920, 'oscars': 3127, 'wins': 4900, 'tells': 4392, 'dick': 1236, 'tracy': 4542, 'al': 176, 'pacino': 3161, 'follows': 1766, 'ryan': 3767, 'apparently': 276, 'murdered': 2923, 'retarded': 3666, 'issue': 2358, 'whether': 4865, 'crime': 1062, 'necessarily': 2968, 'required': 3646, 'indie': 2270, 'aside': 322, 'pearl': 3218, 'don': 1314, 'distant': 1293, 'kevin': 2457, 'spacey': 4085, 'extended': 1598, 'cameo': 656, 'emotionally': 1455, 'ourselves': 3133, 'drug': 1367, 'clean': 836, 'michelle': 2818, 'normal': 3024, 'merely': 2802, 'seeks': 3861, 'allen': 193, 'harris': 2031, 'cannot': 672, 'barely': 403, 'focuses': 1759, 'primarily': 3394, 'protagonist': 3441, 'slowly': 4024, 'everyones': 1537, 'asking': 325, 'chief': 786, 'allows': 197, 'responsibility': 3658, 'happiness': 2022, 'human': 2184, 'choices': 797, 'consequences': 955, 'struck': 4227, 'depth': 1190, 'tend': 4395, 'putting': 3483, 'unfolds': 4654, 'ask': 323, 'questions': 3489, 'answers': 259, 'arrive': 308, 'hit': 2117, 'piece': 3272, 'filmmaking': 1709, 'explanation': 1585, 'actions': 101, 'youve': 4995, 'pays': 3215, 'saying': 3802, 'career': 687, 'finest': 1721, 'today': 4503, 'pleasure': 3306, 'craft': 1036, 'subtlety': 4256, 'hardly': 2027, 'holds': 2128, 'game': 1855, 'himself': 2107, 'notch': 3035, 'humanity': 2185, 'level': 2581, 'buried': 625, 'terrific': 4404, 'spots': 4127, 'strongly': 4226, 'leaves': 2557, 'commentary': 901, 'racism': 3503, 'effectively': 1425, 'handled': 2011, 'odd': 3073, 'stronger': 4225, 'satisfying': 3793, 'fare': 1647, 'further': 1847, 'catherine': 718, 'stone': 4193, 'london': 2635, 'soccer': 4041, 'player': 3298, '110': 4, 'ends': 1469, 'hire': 2111, 'psychiatrist': 3453, 'glass': 1906, 'mentally': 2797, 'competent': 920, 'stand': 4138, 'trial': 4576, 'mind': 2835, 'murders': 2927, 'doomed': 1320, 'opened': 3108, 'took': 4518, 'forever': 1783, 'constant': 965, 'locations': 2631, 'convoluted': 996, 'killed': 2469, 'ice': 2206, 'cute': 1098, 'games': 1856, 'explicit': 1586, 'nude': 3050, 'douglas': 1328, 'bloody': 515, 'board': 524, 'fantastic': 1643, 'charlotte': 765, 'isnt': 2356, 'attacked': 345, 'gangster': 1859, '1983': 24, 'costumes': 1015, 'dated': 1126, 'horribly': 2160, 'fair': 1622, 'tony': 4516, 'brian': 574, 'de': 1136, 'graphic': 1947, 'set': 3897, 'mean': 2769, 'literally': 2617, 'accent': 78, 'integrity': 2303, 'complain': 922, 'shouting': 3953, 'excessive': 1554, 'design': 1202, 'chainsaw': 740, 'incident': 2254, 'downright': 1331, 'brutal': 604, 'blood': 514, 'everywhere': 1539, 'shoot': 3942, 'down': 1329, 'displayed': 1290, 'steven': 4180, 'quiet': 3492, 'niro': 3007, 'wonder': 4926, 'soft': 4044, 'porn': 3334, 'adds': 122, 'elizabeth': 1442, 'drugs': 1368, 'darker': 1123, 'side': 3965, 'coming': 897, 'america': 220, 'loses': 2651, 'empire': 1459, 'mansion': 2722, 'doubt': 1325, 'load': 2626, 'wasted': 4808, 'commercials': 905, 'ad': 111, 'makeup': 2708, 'teeth': 4388, 'dentist': 1180, 'potential': 3353, 'gotten': 1935, 'self': 3871, 'lousy': 2660, 'writers': 4969, 'chance': 746, 'pilot': 3275, 'lacked': 2505, 'zero': 4996, 'quick': 3490, 'dies': 1241, 'fond': 1767, 'reviewers': 3681, 'rank': 3518, 'below': 464, 'peter': 3246, 'jackson': 2373, 'particular': 3188, 'animated': 248, 'relies': 3607, 'artists': 317, 'vision': 4755, 'speaking': 4091, 'homage': 2138, 'flaws': 1744, 'source': 4080, 'forces': 1779, 'standing': 4141, 'feet': 1679, 'physically': 3263, 'true': 4595, 'fate': 1657, 'chose': 801, 'carry': 701, 'ring': 3698, 'doom': 1319, 'rescue': 3648, 'demands': 1176, 'conceived': 934, 'weight': 4840, 'lord': 2647, 'rings': 3699, 'inevitable': 2275, 'conclusion': 941, 'explores': 1591, 'similarly': 3979, 'liking': 2601, 'developed': 1221, 'poetry': 3313, 'important': 2242, 'novels': 3045, 'tribute': 4579, 'favorite': 1663, 'sings': 3992, 'song': 4065, 'tune': 4601, 'theme': 4428, 'seconds': 3850, 'invisible': 2339, 'visible': 4754, 'exposed': 1594, 'atmospheric': 341, 'whenever': 4862, 'itthe': 2367, 'final': 1713, 'admit': 125, 'inspiration': 2293, 'discovered': 1277, 'alexander': 185, 'thief': 4443, '1950s': 15, 'jungle': 2435, 'shown': 3960, 'program': 3424, 'incredibly': 2264, 'remained': 3612, 'list': 2612, 'originally': 3125, 'presented': 3377, 'process': 3412, 'nature': 2960, 'mgm': 2816, 'stunning': 4239, 'exciting': 1558, 'extras': 1602, 'dubbed': 1372, 'trailer': 4551, 'thank': 4416, 'four': 1803, 'replace': 3638, 'public': 3458, 'follow': 1763, 'mitchell': 2862, 'plus': 3311, 'steel': 4171, 'creating': 1047, 'super': 4289, 'metal': 2810, 'nick': 2999, 'silver': 3976, 'boys': 560, 'otherwise': 3130, 'leads': 2549, 'onto': 3106, 'bobby': 527, 'shy': 3963, 'iii': 2221, 'capable': 674, 'incredible': 2263, 'acts': 108, 'order': 3119, 'vicious': 4729, 'carl': 693, 'false': 1633, 'motivation': 2897, 'fat': 1655, 'models': 2869, '25': 41, '50': 52, 'heat': 2063, 'glover': 1913, 'brains': 563, 'turns': 4609, 'unpleasant': 4677, 'rape': 3521, 'pay': 3213, 'rap': 3520, 'common': 908, 'told': 4508, 'roy': 3745, 'lose': 2649, 'smooth': 4033, 'asked': 324, 'dramatic': 1343, 'sleeping': 4017, 'stephen': 4174, 'deliberately': 1167, 'convince': 992, 'cuts': 1099, 'ann': 251, 'margaret': 2725, 'cardboard': 683, 'office': 3085, 'effect': 1423, 'affair': 139, 'properly': 3437, 'dealing': 1140, 'claim': 826, 'casting': 712, 'supernatural': 4296, 'thriller': 4467, 'haunting': 2045, 'richard': 3688, 'lawyer': 2542, 'closer': 853, 'discovers': 1278, 'appear': 279, 'race': 3500, 'beings': 452, 'lived': 2621, 'australia': 364, 'thousands': 4461, 'spectacular': 4097, 'experience': 1574, 'solid': 4051, 'disappoint': 1269, 'thrillers': 4468, 'promising': 3433, 'talks': 4352, 'spiritual': 4111, 'identity': 2212, 'modern': 2870, 'masterful': 2750, 'visually': 4760, 'foreign': 1781, 'paced': 3159, 'gold': 1921, 'rarely': 3524, 'captures': 679, 'newly': 2990, 'note': 3036, 'grim': 1964, 'logical': 2634, 'surprises': 4308, 'heist': 2070, 'directing': 1256, 'darkness': 1124, 'against': 153, '11': 3, 'rent': 3629, 'buy': 641, 'spend': 4101, 'tragic': 4549, 'our': 3132, 'fill': 1701, 'accepted': 82, 'basically': 411, 'block': 510, 'buster': 635, 'curious': 1091, 'fourth': 1804, 'complex': 928, 'audiences': 358, 'alcoholic': 183, 'moral': 2886, 'warn': 4797, 'future': 1849, 'introduce': 2329, 'mysterious': 2942, 'morning': 2891, 'table': 4337, 'met': 2809, 'reveal': 3673, 'entire': 1496, 'brilliantly': 583, 'charming': 767, 'cool': 998, 'date': 1125, 'blockbuster': 511, 'imagination': 2230, 'hanks': 2016, 'newman': 2991, 'beating': 428, 'shooting': 3943, 'staged': 4136, 'tom': 4509, 'laughable': 2532, 'scifi': 3822, 'channel': 752, '17': 11, 'lost': 2654, 'ship': 3934, 'christopher': 808, 'reach': 3532, 'idiots': 2215, 'decided': 1152, 'castle': 713, 'scream': 3828, 'hopes': 2155, 'mother': 2894, 'topic': 4520, 'stop': 4196, 'baldwin': 393, 'helping': 2077, 'project': 3427, 'open': 3107, 'community': 910, 'reality': 3547, 'redeeming': 3574, 'factor': 1614, 'vast': 4716, 'light': 2591, 'horrible': 2159, 'guess': 1979, 'helps': 2078, 'terrible': 4402, 'amounts': 227, 'afford': 144, 'hired': 2112, 'anywhere': 269, 'nowhere': 3048, 'fails': 1620, 'excuse': 1559, 'official': 3088, 'site': 3999, 'graphics': 1948, 'million': 2833, 'resort': 3654, 'vacation': 4704, 'please': 3304, 'somewhere': 4063, 'setting': 3899, 'hundreds': 2192, 'chick': 784, 'essence': 1516, 'mentioned': 2799, 'influenced': 2279, 'spoken': 4121, 'food': 1769, 'support': 4297, 'associated': 335, 'blues': 521, 'african': 148, 'civil': 824, 'rights': 3697, 'treatment': 4570, 'received': 3562, 'tears': 4375, 'correct': 1009, 'media': 2778, 'maintain': 2701, 'mindless': 2836, 'hype': 2203, 'somehow': 4057, 'compelled': 918, 'culture': 1087, 'hood': 2147, 'visiting': 4757, 'texas': 4413, 'thus': 4481, 'longer': 2640, 'explain': 1581, 'confused': 947, 'dropped': 1365, 'drops': 1366, 'ball': 394, 'fairly': 1623, 'clear': 837, 'gods': 1918, 'exist': 1564, 'useful': 4695, 'involving': 2345, 'sons': 4067, 'unwatchable': 4682, 'military': 2831, 'trained': 4554, 'jet': 2396, 'country': 1022, 'colonel': 875, 'wow': 4962, 'absurd': 74, 'aid': 167, 'anymore': 264, 'blown': 518, 'ah': 165, 'musical': 2932, 'familiar': 1635, 'towns': 4537, 'stick': 4183, 'learn': 2551, 'joe': 2405, 'dame': 1106, 'picked': 3266, 'thinks': 4449, 'sweet': 4328, 'kiss': 2483, 'kate': 2446, 'scale': 3804, 'looked': 2642, 'answer': 258, 'execution': 1561, 'seagal': 3840, 'partner': 3192, 'investigation': 2338, 'raised': 3509, 'hence': 2079, 'california': 649, 'naked': 2945, 'prostitute': 3440, 'inspiring': 2295, 'involved': 2342, 'device': 1225, 'occasional': 3067, 'lover': 2665, 'slightest': 4020, 'sold': 4046, 'evidence': 1540, 'god': 1916, 'telling': 4391, 'exercise': 1563, 'characterization': 758, 'band': 396, 'pushing': 3480, 'broad': 589, 'minimal': 2839, 'practice': 3361, 'sitting': 4001, 'crack': 1035, 'hung': 2193, 'learns': 2554, 'evil': 1542, 'players': 3299, 'engage': 1474, 'torture': 4523, 'beat': 426, 'maybe': 2766, 'steal': 4168, 'candy': 670, 'measure': 2776, 'develop': 1220, 'villains': 4746, 'act': 97, 'leader': 2547, 'spends': 4103, 'majority': 2703, 'loud': 2658, 'wildly': 4885, 'whoever': 4871, 'yelling': 4980, 'likes': 2599, 'touch': 4527, 'accents': 79, 'exaggerated': 1546, 'impossible': 2244, 'kill': 2468, 'weird': 4841, 'bmovie': 522, 'creation': 1048, 'brand': 564, 'bizarre': 494, 'curse': 1094, 'hanging': 2015, 'meaning': 2770, 'theyve': 4441, 'strike': 4219, 'stock': 4189, 'setup': 3902, 'standard': 4139, 'unique': 4665, 'roger': 3723, 'pictures': 3270, 'dan': 1110, 'direct': 1254, 'gore': 1929, 'footage': 1773, 'island': 2355, 'stellar': 4172, 'johnson': 2409, 'scientist': 3820, 'turning': 4608, 'native': 2957, 'population': 3333, 'creatures': 1053, 'creature': 1052, 'deep': 1157, 'created': 1045, 'highest': 2098, 'scientific': 3819, 'city': 823, 'psychic': 3454, 'link': 2608, 'midnight': 2823, 'wearing': 4831, 'dress': 1352, 'breaks': 570, 'location': 2630, 'suits': 4281, 'experiments': 1579, 'laughably': 2533, 'cameron': 661, 'imitation': 2235, 'grasp': 1949, 'cultural': 1086, 'importance': 2241, 'intention': 2311, 'critical': 1069, 'theory': 4432, 'avoided': 372, 'text': 4414, 'disagree': 1265, 'ignore': 2218, 'wall': 4782, 'insulting': 2302, 'immediately': 2237, 'popular': 3332, 'heard': 2057, 'sequels': 3886, 'crew': 1060, 'returns': 3671, 'successfully': 4262, 'terry': 4410, 'weeks': 4839, 'europe': 1523, 'matt': 2758, 'brad': 561, 'pitt': 3279, 'confusing': 948, 'reduced': 3576, 'twists': 4619, 'gifted': 1897, 'perform': 3226, 'qualities': 3484, 'shines': 3932, 'useless': 4696, 'cheesy': 780, 'sometimes': 4061, 'irritating': 2353, 'write': 4966, 'double': 1324, 'statement': 4158, 'television': 4389, 'notion': 3042, 'brown': 601, 'animals': 247, 'fire': 1726, 'button': 640, 'disaster': 1273, 'lesson': 2574, 'adequate': 123, 'emotions': 1456, 'behavior': 448, 'masters': 2752, 'hand': 2007, 'reaching': 3535, 'personality': 3241, 'pulls': 3462, 'perfection': 3224, 'carrying': 702, 'fathers': 1659, 'passes': 3199, 'abuse': 75, 'creates': 1046, 'ruthless': 3766, 'sadistic': 3770, 'cold': 871, 'physical': 3262, 'background': 386, 'somewhat': 4062, 'plausible': 3295, 'birth': 488, 'hideous': 2094, 'seldom': 3870, 'reveals': 3676, 'consider': 957, 'painted': 3172, 'honestly': 2143, 'forward': 1798, 'francis': 1809, 'enters': 1490, 'drag': 1336, 'event': 1529, 'knowing': 2491, 'delightful': 1169, 'eddie': 1411, 'loose': 2645, 'outstanding': 3140, 'legendary': 2565, 'humble': 2187, 'formulaic': 1794, 'imagery': 2228, 'alive': 191, 'catches': 716, 'non': 3015, 'gift': 1896, 'matthew': 2762, 'says': 3803, 'marketing': 2732, 'extra': 1600, 'die': 1239, 'eye': 1605, 'hed': 2069, 'brilliance': 581, 'larger': 2522, 'angels': 241, 'talent': 4345, 'amusing': 228, 'artist': 315, 'stealing': 4169, 'walked': 4777, 'agree': 162, 'reviewer': 3680, 'condition': 942, 'sadness': 3772, 'humour': 2190, 'detail': 1215, 'whats': 4859, 'frustrated': 1835, 'highly': 2101, 'memory': 2792, 'lane': 2518, 'listening': 2615, 'south': 4081, 'radio': 3505, 'neil': 2980, 'brave': 566, 'hoped': 2151, 'spin': 4107, 'tricks': 4581, 'adams': 113, 'brief': 578, 'theyd': 4438, 'alike': 190, 'quirky': 3494, 'solely': 4050, 'complicated': 929, 'sharp': 3922, 'anger': 242, 'baby': 383, 'shed': 3924, 'fake': 1627, 'mtv': 2917, 'moviethe': 2912, 'angela': 239, 'mouth': 2903, 'racist': 3504, 'closest': 854, 'according': 88, 'trek': 4574, 'guide': 1984, 'alien': 188, 'ugly': 4626, 'andor': 234, 'relate': 3594, 'devil': 1226, 'resembles': 3651, 'blob': 509, 'throughout': 4473, 'mine': 2838, 'absolute': 72, 'celluloid': 730, 'wars': 4803, 'saga': 3775, 'menace': 2794, 'hate': 2040, 'describe': 1194, 'robots': 3718, 'wears': 4832, 'hair': 1998, 'apocalypse': 273, 'happened': 2018, 'broadway': 592, 'heck': 2068, 'crying': 1083, 'gene': 1870, 'kelly': 2452, 'willing': 4889, 'bet': 472, 'wondering': 4930, 'flying': 1755, 'jay': 2383, 'weak': 4824, 'adult': 129, 'filmi': 1705, 'shortly': 3947, 'jazz': 2384, 'engaged': 1475, 'started': 4153, 'cinemas': 813, 'gradually': 1940, 'mess': 2805, 'promises': 3432, 'post': 3351, 'existence': 1566, 'letters': 2579, 'narrative': 2952, 'slapstick': 4012, 'fingers': 1723, 'hidden': 2092, 'chase': 768, 'thrown': 4476, 'strip': 4223, 'attempts': 350, 'eccentric': 1409, 'single': 3991, 'strangers': 4211, 'capture': 677, 'merit': 2803, 'social': 4042, 'obsession': 3063, 'global': 1910, 'territory': 4406, 'wished': 4906, 'embarrassing': 1449, 'cars': 703, 'attraction': 355, 'deranged': 1191, 'principal': 3399, 'statue': 4162, 'gag': 1852, 'smile': 4028, 'reads': 3541, 'bob': 526, 'lyrics': 2685, 'wicked': 4877, 'drunken': 1370, 'virgin': 4750, 'rick': 3689, 'rocket': 3720, 'service': 3896, 'pants': 3176, 'walk': 4776, 'compelling': 919, 'wear': 4830, 'sticks': 4184, 'pie': 3271, 'werent': 4849, 'presents': 3378, 'moviei': 2910, 'acceptable': 81, 'studio': 4235, 'resources': 3655, 'smoking': 4032, 'cost': 1012, 'dollars': 1312, 'bin': 485, 'allowed': 195, 'uninspired': 4660, 'dry': 1371, 'eugene': 1522, 'wasting': 4809, 'talents': 4347, 'hey': 2091, 'cares': 691, 'garbage': 1861, 'savage': 3795, 'canadian': 668, 'wind': 4893, 'unbearable': 4632, 'teach': 4367, 'core': 1004, 'ratings': 3529, 'twenty': 4612, 'wes': 4851, 'forced': 1778, 'offensive': 3080, 'trash': 4562, 'wet': 4855, 'twelve': 4611, 'extremely': 1604, 'corpse': 1008, 'calls': 653, 'mile': 2829, 'unnecessary': 4675, 'hack': 1995, 'filled': 1702, 'stomach': 4192, 'threw': 4465, 'ashamed': 320, 'month': 2880, 'appalling': 274, 'danger': 1116, 'locked': 2632, 'prison': 3402, 'damn': 1108, 'joined': 2411, 'witty': 4918, 'twist': 4617, 'demand': 1175, 'ticket': 4482, 'expecting': 1572, 'summary': 4284, 'julia': 2427, 'roberts': 3714, 'sad': 3769, 'odds': 3075, 'spoiler': 4118, 'needs': 2975, 'gentle': 1881, 'beach': 422, 'initially': 2283, 'talked': 4350, 'art': 312, 'predictable': 3366, 'stereotypical': 4178, 'bigger': 481, 'secret': 3851, 'revealed': 3674, 'regard': 3588, 'turner': 4607, 'earlier': 1393, 'bore': 540, 'hardy': 2028, 'jane': 2378, 'austen': 362, 'library': 2585, 'henry': 2080, 'passionate': 3202, 'whatsoever': 4860, 'videos': 4735, 'dvds': 1386, 'ray': 3531, 'dude': 1375, 'changing': 751, 'forest': 1782, 'interpretation': 2321, 'legend': 2564, 'stress': 4216, 'stan': 4137, 'factory': 1615, 'carried': 699, 'valley': 4707, 'nights': 3004, 'steve': 4179, 'door': 1321, 'unknown': 4671, 'stuck': 4232, 'sign': 3970, 'mirror': 2847, 'blew': 507, 'study': 4237, 'museum': 2930, 'tortured': 4524, 'faithful': 1626, 'sorry': 4070, 'nor': 3023, 'depicted': 1183, 'filming': 1706, 'themes': 4429, 'bitter': 493, 'ii': 2220, 'dialogs': 1231, 'delivered': 1171, 'harvey': 2036, 'prefer': 3367, 'blue': 520, 'feast': 1669, 'author': 367, 'mario': 2728, 'cousin': 1030, 'history': 2116, 'treated': 4569, 'briefly': 579, 'columbo': 880, 'diamond': 1234, 'professional': 3421, 'examples': 1548, 'genius': 1878, 'ensemble': 1487, 'nonsensical': 3020, 'asks': 326, 'specific': 4095, 'offered': 3082, 'sarah': 3787, 'waters': 4816, 'recommended': 3569, 'actresses': 107, 'sally': 3778, 'souls': 4074, 'chosen': 802, 'lesbian': 2570, 'betrayal': 473, 'surprising': 4309, 'gotta': 1934, 'skip': 4009, 'apparent': 275, 'winds': 4895, 'empty': 1460, 'powers': 3359, 'mans': 2721, 'ripoff': 3701, 'invasion': 2333, 'alltime': 198, 'drawn': 1346, 'beauty': 432, 'cinematographer': 815, 'joan': 2402, 'fault': 1660, 'composer': 931, '13th': 7, 'russian': 3764, 'germans': 1887, 'parallel': 3179, 'involvement': 2343, 'wwii': 4975, 'eastern': 1402, 'notable': 3033, 'drags': 1339, 'consistently': 962, 'clips': 849, 'present': 3375, 'propaganda': 3435, 'therefore': 4434, 'unusual': 4681, 'khan': 2459, 'record': 3570, 'discuss': 1280, 'loss': 2653, 'equally': 1505, 'difference': 1242, 'glad': 1905, 'crowd': 1075, 'adults': 130, 'charm': 766, 'wallace': 4783, 'forgettable': 1785, 'failure': 1621, 'parent': 3181, 'shouldnt': 3952, 'unfortunate': 4656, 'sent': 3881, 'chicago': 783, 'began': 443, 'likable': 2595, 'injured': 2284, 'bear': 423, 'blind': 508, 'speaks': 4092, 'owner': 3155, 'awkward': 382, 'journey': 2421, 'nicole': 3000, 'thoughtful': 4458, 'grows': 1974, 'photography': 3260, 'murphy': 2928, 'enjoying': 1482, 'irish': 2347, 'striking': 4221, 'san': 3782, 'reminds': 3623, 'grandmother': 1944, 'price': 3391, 'contact': 969, 'essentially': 1518, 'kirk': 2482, 'giant': 1895, 'travel': 4564, 'machine': 2686, 'unhappy': 4659, 'mere': 2801, 'enterprise': 1489, 'william': 4887, 'notes': 3038, 'memories': 2791, 'leonard': 2569, 'noticed': 3041, 'directly': 1259, 'executive': 1562, 'producer': 3415, 'fred': 1817, 'state': 4156, 'hurt': 2199, 'display': 1289, 'hole': 2129, 'considering': 960, 'originality': 3124, 'imagined': 2233, 'web': 4833, 'shall': 3916, 'belongs': 462, 'experiment': 1577, 'natural': 2958, 'clever': 839, 'complete': 926, 'cleverly': 840, 'massive': 2748, 'overlong': 3146, 'fighting': 1696, 'martial': 2740, 'decisions': 1155, 'award': 374, 'balance': 392, 'warm': 4795, 'united': 4667, 'jonathan': 2416, 'flesh': 1745, 'criminal': 1064, 'vice': 4728, 'cops': 1002, 'loving': 2668, 'typically': 4625, 'trashy': 4563, 'variety': 4714, 'kudos': 2498, 'hilariously': 2103, 'ludicrous': 2679, 'delivers': 1173, 'decade': 1148, 'smoke': 4031, 'hopelessly': 2154, 'pathetic': 3206, 'climactic': 846, 'motion': 2896, 'massacre': 2747, 'shake': 3914, 'ken': 2453, 'raw': 3530, 'breasts': 571, 'kennedy': 2454, 'buck': 606, 'pair': 3174, 'cinematic': 814, 'teaching': 4371, 'roman': 3730, 'rise': 3703, 'explains': 1584, 'countries': 1021, 'civilization': 825, 'general': 1871, 'graham': 1941, 'church': 810, 'wide': 4878, 'usa': 4692, 'invited': 2340, 'whatever': 4858, 'religious': 3609, 'medium': 2781, 'faith': 1625, 'kim': 2475, 'animation': 249, 'japan': 2379, 'kinda': 2477, 'sinister': 3993, 'ghost': 1892, 'strange': 4208, 'ancient': 231, 'horrendous': 2158, 'creators': 1051, 'power': 3357, 'hong': 2145, 'suitable': 4279, 'judge': 2424, 'korean': 2496, 'minds': 2837, 'maker': 2705, 'speak': 4090, 'settle': 3901, 'pointed': 3316, 'wooden': 4934, 'sentence': 3882, 'poignant': 3314, 'soap': 4039, 'soldiers': 4048, 'sounds': 4078, 'warned': 4798, 'linda': 2605, 'painfully': 3170, 'distracting': 1295, 'embarrassment': 1450, 'drink': 1356, 'hungry': 2194, 'under': 4638, 'circumstances': 818, 'executed': 1560, 'cliché': 842, 'campy': 665, 'dancers': 1113, 'stinker': 4188, 'touching': 4530, 'bond': 533, 'grandfather': 1943, 'rare': 3523, 'cancer': 669, 'accept': 80, 'melodrama': 2786, '2004': 34, 'nomination': 3014, 'lying': 2683, 'comedic': 888, 'uncle': 4635, 'cream': 1043, 'laughter': 2537, 'lou': 2657, 'dorothy': 1323, 'foot': 1772, 'sport': 4124, 'bother': 549, 'wouldve': 4959, 'cruel': 1078, 'army': 303, 'troops': 4590, 'transformation': 4557, 'attack': 344, 'provides': 3450, 'funnier': 1844, 'pacing': 3160, '12': 5, 'surfing': 4305, 'alice': 187, 'animal': 246, 'response': 3657, 'lewis': 2583, 'ears': 1396, 'stupidity': 4243, 'staying': 4166, 'hunt': 2195, 'rich': 3687, 'disney': 1287, 'smith': 4030, 'historically': 2115, 'goal': 1915, 'comfortable': 893, 'historical': 2114, 'relatively': 3601, 'significant': 3971, 'seven': 3903, 'sympathetic': 4333, 'portraying': 3341, 'silent': 3974, 'regarding': 3589, 'familys': 1638, 'magical': 2696, 'wrestling': 4965, 'fictional': 1690, 'purpose': 3475, 'pleased': 3305, 'critic': 1068, 'authentic': 366, 'critics': 1071, 'crappy': 1040, 'finish': 1724, 'mistakes': 2859, 'wannabe': 4788, 'commercial': 904, 'stranded': 4207, 'clichéd': 843, 'committed': 907, 'notably': 3034, 'amongst': 225, 'minute': 2844, 'surely': 4303, 'stage': 4135, 'prime': 3396, 'scare': 3805, 'hours': 2173, 'loosely': 2646, 'constructed': 967, 'personalities': 3240, 'persons': 3243, 'heavy': 2067, 'depiction': 1185, 'depressed': 1187, 'sight': 3969, 'gags': 1853, 'uplifting': 4684, 'initial': 2282, 'ready': 3542, 'party': 3194, 'ordinary': 3122, 'mixed': 2864, 'dealt': 1142, 'mute': 2937, 'influence': 2278, 'cat': 714, 'handful': 2009, 'believes': 458, 'effective': 1424, 'anthony': 260, 'suspenseful': 4323, 'thrill': 4466, 'rides': 3692, 'quickly': 3491, 'performers': 3231, 'delivering': 1172, 'thoroughly': 4454, 'writerdirector': 4968, 'suffered': 4271, 'ages': 159, 'behave': 447, 'teenagers': 4386, 'summer': 4285, 'contemporary': 974, 'lighthearted': 2592, 'delivery': 1174, 'sell': 3873, 'timing': 4493, 'themselves': 4430, 'duke': 1377, 'dog': 1307, 'becoming': 437, 'dogs': 1308, 'appealing': 278, 'cheap': 773, 'simon': 3980, 'beloved': 463, 'attitudes': 353, 'stereotype': 4176, 'soul': 4073, 'mummy': 2920, 'tremendous': 4575, 'lackluster': 2507, 'lone': 2636, 'dull': 1378, 'negative': 2976, 'generous': 1877, 'moviethis': 2913, 'rough': 3740, 'stole': 4190, 'endearing': 1464, 'lacks': 2508, 'banned': 399, 'rely': 3610, 'frightening': 1831, 'socalled': 4040, 'revolutionary': 3684, 'objects': 3059, 'proof': 3434, 'decide': 1151, 'hunting': 2198, 'european': 1524, 'facts': 1616, 'explained': 1582, 'realism': 3545, 'nonsense': 3019, 'classes': 832, 'political': 3322, 'hopeless': 2153, 'scared': 3807, 'heroes': 2085, 'nevertheless': 2988, 'afraid': 146, 'decision': 1154, 'remind': 3621, 'starting': 4154, 'insult': 2301, 'prisoners': 3404, 'mountains': 2901, 'sun': 4286, 'clue': 863, 'government': 1936, 'gas': 1865, 'jews': 2399, 'comparison': 917, 'poverty': 3355, 'solution': 4053, 'freedom': 1820, 'peace': 3216, 'cooper': 999, 'contract': 982, 'unintentional': 4661, 'elsewhere': 1445, 'exchange': 1555, 'frankly': 1815, 'engaging': 1476, 'fighter': 1695, 'plane': 3287, 'buddy': 609, 'express': 1595, 'melodramatic': 2787, 'surprisingly': 4310, 'howard': 2177, 'amazed': 216, 'communist': 909, 'survived': 4316, 'established': 1519, 'ex': 1543, 'royal': 3746, 'activities': 103, 'strictly': 4218, 'destroyed': 1213, 'airport': 174, 'served': 3894, 'holding': 2127, 'union': 4664, 'reaches': 3534, 'captured': 678, 'company': 913, 'largely': 2521, 'dollar': 1311, 'grand': 1942, 'guns': 1989, 'energy': 1473, 'burn': 626, 'traditional': 4546, 'conventional': 988, 'details': 1217, 'eventually': 1531, 'worthy': 4955, 'throws': 4477, 'dirty': 1264, 'easier': 1399, 'finger': 1722, 'fast': 1653, 'dig': 1246, 'adorable': 128, 'twilight': 4614, 'zone': 4999, 'dancer': 1112, 'steals': 4170, 'monsters': 2878, 'ron': 3734, 'disappeared': 1267, 'added': 118, 'villain': 4745, 'successful': 4261, 'bergman': 468, 'earth': 1397, 'desired': 1205, '90': 60, 'wild': 4884, 'attitude': 352, 'gary': 1864, 'handsome': 2013, 'changes': 750, 'draw': 1344, 'sat': 3788, 'bands': 397, 'basis': 412, 'hints': 2109, 'ultimately': 4629, 'persona': 3238, 'solve': 4054, 'inner': 2285, 'conflicts': 946, 'albeit': 179, 'explored': 1590, 'frustrating': 1836, 'advance': 131, 'maria': 2726, 'idiotic': 2214, 'reached': 3533, 'entitled': 1498, 'fortunately': 1796, 'mature': 2763, 'album': 181, 'rolling': 3729, 'bill': 483, 'pulp': 3463, 'eve': 1526, 'pretentious': 3384, 'careers': 688, 'vote': 4767, 'brazil': 567, 'portrait': 3337, 'broken': 594, 'zombie': 4997, 'tired': 4496, 'current': 1092, 'desperate': 1208, 'chases': 770, 'knew': 2485, 'johnny': 2408, 'upset': 4688, 'suicide': 4277, 'mustsee': 2936, 'soldier': 4047, 'terrorists': 4409, 'humorous': 2189, 'lee': 2560, 'ruins': 3752, 'wax': 4819, 'witch': 4910, 'laughs': 2536, 'jon': 2415, 'jessica': 2394, 'joke': 2413, 'length': 2568, 'elements': 1440, 'shining': 3933, 'ghosts': 1893, 'youd': 4987, 'softcore': 4045, 'trite': 4587, 'cry': 1082, 'erotic': 1510, 'jeffrey': 2388, 'gordon': 1928, 'remains': 3614, 'receive': 3561, 'method': 2812, 'bothered': 550, 'mentioning': 2800, 'moon': 2884, 'rose': 3738, 'land': 2514, 'nine': 3005, 'versions': 4722, 'eight': 1431, 'spread': 4128, 'teachers': 4369, 'possessed': 3346, 'serves': 3895, 'destroy': 1212, 'understandable': 4643, 'knowledge': 2492, 'research': 3649, 'smart': 4027, 'thousand': 4460, 'humans': 2186, 'shakespeare': 3915, 'cook': 997, 'pushed': 3479, 'pulled': 3460, 'realized': 3549, 'shoots': 3944, 'proved': 3446, 'threat': 4462, 'issues': 2359, 'renting': 3632, 'store': 4199, 'poster': 3352, 'thru': 4478, 'stewart': 4182, 'witches': 4911, 'spell': 4100, 'harder': 2026, 'attractive': 356, 'village': 4744, 'alfred': 186, 'lemmon': 2567, 'aunt': 360, 'lots': 2656, 'dozen': 1332, 'picking': 3267, 'proud': 3444, 'gripping': 1965, 'members': 2789, 'subjects': 4249, 'overwhelming': 3151, 'hearts': 2061, 'snow': 4037, 'hooked': 2149, 'superbly': 4291, 'youth': 4994, 'places': 3283, 'introduced': 2330, 'captivating': 676, 'towards': 4535, 'bold': 530, 'create': 1044, 'shape': 3919, 'documentaries': 1303, 'oddly': 3074, '2001': 31, 'alas': 178, 'alex': 184, 'speed': 4099, 'honesty': 2144, 'handed': 2008, 'routine': 3743, 'monkey': 2875, 'appropriately': 290, 'adventure': 134, 'buying': 642, 'murray': 2929, 'redemption': 3575, 'tim': 4488, 'size': 4005, 'breathtaking': 573, 'virtually': 4752, 'flawless': 1743, '100': 1, 'awake': 373, 'carefully': 690, 'matrix': 2757, 'range': 3516, 'terribly': 4403, 'illegal': 2223, 'figure': 1698, 'assassin': 331, 'granted': 1946, 'blade': 497, 'runner': 3756, 'futuristic': 1850, 'neighbors': 2979, 'relatives': 3602, 'technical': 4376, 'digital': 1247, 'forth': 1795, 'equipment': 1506, 'baseball': 407, 'league': 2550, 'greatly': 1956, 'differences': 1243, 'japanese': 2380, 'cable': 645, 'winters': 4902, 'spring': 4129, 'training': 4555, 'months': 2881, 'samurai': 3781, 'lab': 2503, 'total': 4525, 'marvelous': 2742, 'test': 4411, 'twin': 4615, 'sisters': 3996, 'susan': 4319, 'glasses': 1907, 'technology': 4380, 'rival': 3707, 'lovable': 2661, 'motivations': 2898, 'quest': 3487, 'neighborhood': 2978, 'twins': 4616, 'heavily': 2066, 'scheme': 3815, 'planning': 3291, 'horrid': 2161, 'repeated': 3634, 'butler': 638, 'cats': 720, 'rule': 3753, 'bumbling': 622, 'maniac': 2717, 'trio': 4585, 'alongside': 202, 'voices': 4765, 'satisfy': 3792, 'patience': 3207, 'impress': 2245, 'dialogues': 1233, 'awfully': 380, 'unintentionally': 4662, 'comical': 895, 'flashbacks': 1739, 'betty': 476, 'overly': 3148, 'horse': 2166, 'fields': 1692, 'husbands': 2202, 'mistress': 2861, 'artificial': 314, 'irony': 2351, 'da': 1102, 'revenge': 3678, 'mission': 2856, 'ran': 3512, 'walking': 4780, 'indeed': 2265, 'adapted': 116, 'hollywoods': 2135, 'judging': 2425, 'adaptations': 115, 'noise': 3012, 'essential': 1517, 'match': 2753, 'encounter': 1461, 'albert': 180, 'cole': 872, 'paris': 3183, 'eva': 1525, 'independent': 2266, 'tie': 4483, 'send': 3875, 'chasing': 771, 'rolled': 3728, 'poetic': 3312, 'creative': 1049, 'identify': 2211, 'reflect': 3583, 'presentation': 3376, 'awhile': 381, 'jamie': 2377, 'spoiled': 4117, 'dramas': 1342, 'endings': 1467, 'likely': 2598, 'meets': 2784, 'intimate': 2324, 'headed': 2052, 'argument': 299, 'market': 2731, 'adventures': 135, 'occur': 3069, 'account': 89, 'alternate': 206, 'universe': 4669, 'wing': 4897, 'conflict': 945, 'criticism': 1070, 'distinct': 1294, 'oz': 3157, 'command': 898, 'philosophy': 3254, 'attacks': 346, 'planes': 3288, 'ranks': 3519, 'anime': 250, 'tonight': 4514, 'north': 3028, 'include': 2255, 'rachel': 3501, 'hill': 2104, 'loser': 2650, 'mrs': 2915, 'assistant': 334, 'blame': 501, 'angry': 245, 'spooky': 4123, 'rules': 3754, 'frank': 1812, 'message': 2806, 'sword': 4331, 'demon': 1177, 'crafted': 1037, 'drives': 1362, 'elegant': 1438, 'bag': 390, 'sky': 4010, 'luckily': 2676, 'cynical': 1101, 'saves': 3798, 'ironic': 2349, 'backdrop': 385, 'racial': 3502, 'americans': 222, 'citizens': 822, 'prejudice': 3369, 'wealthy': 4827, 'francisco': 1810, 'wounded': 4961, 'everyday': 1535, 'england': 1477, 'trip': 4586, 'encounters': 1462, 'friendship': 1830, 'sensitive': 3880, 'bomb': 532, 'riding': 3695, 'secretary': 3852, 'iron': 2348, 'illness': 2224, 'control': 986, 'cop': 1000, 'worker': 4942, 'types': 4623, 'revelation': 3677, 'repeatedly': 3635, 'devoted': 1229, 'marry': 2736, 'happily': 2021, 'dislike': 1285, 'closely': 852, '90s': 61, 'poorly': 3328, 'mob': 2866, 'secrets': 3854, 'saving': 3799, 'financial': 1716, 'aspect': 328, 'facial': 1611, 'enter': 1488, '40': 49, 'active': 102, 'normally': 3025, 'crush': 1081, 'unrealistic': 4678, 'womens': 4924, 'officer': 3086, 'allow': 194, 'glimpse': 1909, 'continued': 979, 'nonetheless': 3017, 'responsible': 3659, 'material': 2756, 'studios': 4236, 'besides': 470, 'reunion': 3672, 'complaint': 924, 'appearances': 281, 'subsequent': 4252, 'spirit': 4108, 'canada': 667, 'tourist': 4533, 'florida': 1752, 'court': 1029, 'innocent': 2287, 'fell': 1680, 'sunday': 4287, 'holmes': 2136, 'worlds': 4947, 'jr': 2423, 'relative': 3600, 'safety': 3774, 'safe': 3773, 'agreed': 163, 'enemy': 1472, 'plans': 3292, 'selling': 3874, 'scientists': 3821, 'deliver': 1170, 'bruce': 602, 'edward': 1421, 'dancing': 1115, 'sir': 3994, 'arthur': 313, 'tradition': 4545, 'crimes': 1063, 'mysteries': 2941, 'sit': 3997, '60': 54, 'intrigue': 2326, 'available': 369, 'alright': 204, 'relief': 3606, 'changed': 749, 'till': 4487, 'trailers': 4552, 'laura': 2538, 'president': 3379, 'comedian': 886, 'stark': 4148, 'adding': 120, 'westerns': 4854, '1930s': 13, 'cowboy': 1034, 'ride': 3691, 'flashback': 1738, 'transfer': 4556, 'contained': 971, 'genuine': 1883, 'continuity': 981, 'section': 3855, 'draws': 1347, 'chilling': 793, 'pretending': 3383, 'duo': 1380, 'halloween': 2003, 'round': 3741, 'mask': 2744, 'huh': 2183, 'daughters': 1129, 'count': 1019, 'dying': 1387, 'wonderfully': 4929, '1970s': 18, 'loaded': 2627, 'mainly': 2699, 'troubles': 4593, 'sudden': 4267, '24': 40, 'prevent': 3386, 'tight': 4486, 'brooks': 597, 'afterwards': 151, 'steps': 4175, 'murderer': 2924, 'commit': 906, 'audio': 359, 'horses': 2167, 'challenge': 742, 'stanwyck': 4145, '30s': 45, '40s': 50, 'morgan': 2890, 'concerns': 939, 'magazine': 2694, 'farm': 1648, 'spending': 4102, 'possibilities': 3347, 'wonders': 4931, 'regardless': 3590, 'report': 3640, 'presumably': 3381, 'held': 2071, 'fascination': 1651, 'goodness': 1926, 'considerable': 958, 'tough': 4531, 'assume': 336, 'nonexistent': 3018, 'treat': 4568, 'construction': 968, 'musicals': 2933, 'numbers': 3053, 'flow': 1753, 'sinatra': 3985, 'floating': 1750, 'brando': 565, 'letter': 2578, 'challenging': 744, 'closing': 858, 'triumph': 4588, 'rental': 3630, 'bronson': 595, 'damned': 1109, 'stopped': 4197, 'continue': 978, 'boredom': 542, 'charismatic': 762, 'aimed': 169, 'waited': 4773, 'disease': 1282, 'showed': 3957, 'backgrounds': 387, 'ranch': 3513, 'companion': 912, 'sidekick': 3966, 'ben': 465, 'walter': 4785, 'scenery': 3813, 'rid': 3690, 'claims': 828, 'struggle': 4229, 'ruth': 3765, 'valuable': 4708, 'manner': 2720, 'river': 3708, 'wanting': 4791, 'jim': 2400, 'aussie': 361, 'station': 4161, 'harrison': 2032, 'upper': 4686, 'surrounding': 4313, 'fits': 1732, 'hat': 2039, 'shoes': 3941, 'victoria': 4733, 'reel': 3578, 'helicopter': 2073, 'fabulous': 1607, 'wed': 4835, 'worthwhile': 4954, 'consistent': 961, 'zombies': 4998, 'clint': 848, 'eastwood': 1403, 'denzel': 1181, 'washington': 4805, 'precious': 3363, 'adopted': 127, 'fought': 1800, 'excited': 1556, 'overacting': 3142, 'mafia': 2693, 'seemingly': 3864, 'bears': 424, 'resemblance': 3650, 'boat': 525, 'page': 3165, 'gangsters': 1860, 'pop': 3329, '1960s': 16, 'religion': 3608, 'advantage': 133, 'powell': 3356, 'starring': 4150, 'eric': 1509, 'dragged': 1337, 'cases': 708, 'raise': 3508, 'suspect': 4320, 'arrived': 309, 'charisma': 761, 'directs': 1263, 'combination': 882, 'deadly': 1138, 'consists': 963, 'static': 4160, 'busy': 636, 'pink': 3276, 'hates': 2042, 'hardcore': 2025, 'hatred': 2043, 'elderly': 1436, 'scares': 3808, 'base': 406, 'cheese': 779, 'vehicle': 4718, 'cause': 722, 'expression': 1596, 'slap': 4011, 'countless': 1020, 'portrays': 3342, 'gun': 1988, 'knife': 2486, 'defense': 1162, 'represents': 3644, 'ups': 4687, 'recognition': 3565, 'anna': 252, 'raped': 3522, 'horrors': 2165, 'appreciated': 286, 'tedious': 4382, 'staring': 4147, 'apartment': 271, 'asleep': 327, 'topless': 4521, 'channels': 753, 'stops': 4198, 'central': 733, 'favor': 1662, 'manager': 2714, 'poker': 3319, 'tiny': 4495, 'blows': 519, 'card': 682, 'cards': 684, 'friday': 1826, 'mankind': 2719, 'recorded': 3571, 'justify': 2440, 'todays': 4504, 'standards': 4140, 'virginia': 4751, '2006': 36, 'restaurant': 3661, 'closed': 851, 'bound': 554, 'idiot': 2213, 'ha': 1994, 'psychological': 3456, 'bottom': 552, 'dawn': 1133, 'halfway': 2001, 'venture': 4720, 'deeper': 1158, '23': 39, 'jumped': 2431, 'elaborate': 1435, 'term': 4400, 'paper': 3177, 'online': 3103, 'controversial': 987, 'detailed': 1216, 'discussion': 1281, 'internet': 2320, 'emphasis': 1458, 'opera': 3111, 'queen': 3486, 'purposes': 3476, 'unaware': 4631, 'bette': 474, 'underrated': 4641, 'recent': 3563, 'winning': 4899, 'vulnerable': 4769, 'center': 731, 'crisis': 1067, 'arrival': 307, 'homeless': 2140, 'anderson': 233, 'shine': 3931, 'wreck': 4964, 'logic': 2633, 'delight': 1168, 'carrie': 698, 'spoof': 4122, 'oneliners': 3101, 'rob': 3711, 'position': 3343, 'karate': 2444, 'generally': 1872, 'fonda': 1768, 'involves': 2344, 'honest': 2142, 'outcome': 3135, 'shocking': 3940, 'brain': 562, 'tender': 4396, 'broadcasting': 591, 'nightmares': 3003, 'symbolism': 4332, 'plant': 3293, 'placed': 3282, 'puppet': 3468, 'shorts': 3948, 'synopsis': 4335, 'exact': 1544, 'private': 3405, 'senseless': 3878, 'obscure': 3061, 'disappears': 1268, 'sentimental': 3883, 'passing': 3200, 'urban': 4689, 'waves': 4818, 'contain': 970, 'comfort': 892, 'traffic': 4547, 'removed': 3627, '2000': 30, 'scripted': 3837, 'donna': 1317, 'wayne': 4821, 'gray': 1952, 'martin': 2741, 'ear': 1391, 'vaguely': 4706, 'bland': 502, 'chest': 782, 'wound': 4960, 'grave': 1951, 'kicked': 2461, '2007': 37, 'freeman': 1821, 'phillips': 3252, 'jimmy': 2401, 'ed': 1410, 'holy': 2137, 'carrey': 697, 'joel': 2406, 'bird': 486, 'cgi': 738, 'spare': 4088, 'unable': 4630, 'accomplished': 87, 'sake': 3777, 'hundred': 2191, 'letting': 2580, 'survival': 4314, 'exploitation': 1587, 'multiple': 2919, 'bucks': 607, 'winter': 4901, 'step': 4173, 'puppets': 3469, 'depicts': 1186, 'mighty': 2825, 'frost': 1834, 'aka': 175, 'worry': 4949, 'charge': 760, 'outfit': 3137, 'weapons': 4829, 'southern': 4082, 'unconvincing': 4637, 'meant': 2774, 'electric': 1437, 'laurel': 2539, 'buff': 611, 'spoke': 4120, 'ultimate': 4628, 'quote': 3497, 'laid': 2511, 'replaced': 3639, 'filmthis': 1712, 'understood': 4646, 'remarks': 3618, 'sean': 3841, 'connery': 953, 'user': 4697, 'harsh': 2034, 'rude': 3749, 'eighties': 1432, 'nostalgia': 3030, 'bullet': 620, 'enemies': 1471, 'stated': 4157, 'region': 3591, 'figured': 1699, 'loneliness': 2637, 'rubber': 3747, 'shark': 3921, 'middleaged': 2822, 'sum': 4283, 'reputation': 3645, 'survive': 4315, 'proper': 3436, 'related': 3595, 'cult': 1085, 'water': 4815, 'shut': 3962, 'itthis': 2368, 'kicks': 2463, 'interaction': 2314, 'superficial': 4292, 'handle': 2010, 'areas': 294, 'warning': 4800, 'desperately': 1209, 'props': 3439, 'courage': 1027, 'credited': 1057, 'six': 4004, 'fix': 1735, 'punch': 3465, 'pages': 3166, 'meryl': 2804, 'streep': 4212, 'hoffman': 2124, 'nation': 2955, 'builds': 617, 'generation': 1874, 'fly': 1754, 'davis': 1132, 'angles': 244, 'camerawork': 660, 'versus': 4723, 'random': 3514, 'conversation': 989, 'utter': 4702, 'translation': 4559, 'clues': 864, 'confusion': 949, 'pack': 3162, 'timei': 4490, 'guessed': 1980, 'profound': 3423, 'fairy': 1624, 'reasonably': 3557, 'defeat': 1160, 'speech': 4098, 'understated': 4645, 'ideal': 2209, 'realizes': 3550, 'filmthe': 1711, 'settings': 3900, 'scope': 3823, 'chuck': 809, 'norris': 3027, 'pass': 3195, 'latest': 2529, 'plastic': 3294, 'doll': 1310, 'vincent': 4747, 'struggles': 4230, 'fallen': 1630, 'guts': 1991, 'victims': 4731, 'toy': 4538, 'hearing': 2058, 'east': 1401, 'millions': 2834, 'opens': 3110, 'authority': 368, 'bits': 492, 'cell': 729, 'serial': 3889, 'aforementioned': 145, 'prior': 3401, 'witnesses': 4917, 'terrifying': 4405, 'levels': 2582, 'sub': 4247, 'colour': 879, 'jennifer': 2389, 'fbi': 1666, 'realm': 3554, 'fears': 1668, 'specifically': 4096, 'signs': 3972, 'andy': 237, 'sitcom': 3998, 'ripped': 3702, 'sexuality': 3909, 'interests': 2318, 'search': 3842, 'rebel': 3559, 'desires': 1206, 'blatant': 504, 'entertain': 1491, 'aim': 168, 'greater': 1954, 'liberal': 2584, '911': 62, 'minimum': 2840, 'wishes': 4907, 'entertained': 1492, 'nowadays': 3047, 'progress': 3425, 'refreshing': 3585, 'tear': 4374, 'warrior': 4802, 'tons': 4515, 'annoyed': 255, 'lasted': 2525, 'nostalgic': 3031, 'technique': 4378, 'succeeds': 4259, 'displays': 1291, '70': 56, 'haunted': 2044, 'disjointed': 1284, 'win': 4892, 'dedicated': 1156, 'installment': 2296, 'foster': 1799, 'target': 4359, 'prepare': 3372, 'performer': 3230, 'extent': 1599, 'egyptian': 1430, 'porno': 3335, 'junk': 2437, 'comics': 896, 'gruesome': 1976, 'motives': 2899, 'selfish': 3872, 'dimensional': 1249, 'heaven': 2064, 'annie': 254, 'offended': 3079, 'wood': 4933, 'cities': 820, 'treats': 4571, 'workers': 4943, 'methods': 2813, 'wisdom': 4903, 'outrageous': 3138, 'unsettling': 4679, 'exotic': 1568, 'model': 2868, 'woods': 4935, 'aging': 160, 'explaining': 1583, 'truck': 4594, 'storytelling': 4204, 'kenneth': 2455, 'lawrence': 2541, 'existed': 1565, 'namely': 2948, 'beer': 441, 'praise': 3362, 'resolution': 3653, 'cameras': 659, 'africa': 147, 'daily': 1104, 'appreciation': 287, 'strength': 4215, 'yesterday': 4983, '1980': 22, 'instant': 2298, 'health': 2055, 'miserably': 2850, 'noone': 3022, 'paying': 3214, 'individuals': 2272, 'status': 4163, 'stevens': 4181, 'ninja': 3006, 'improve': 2249, 'conditions': 943, 'achievement': 95, 'couldve': 1018, 'distance': 1292, 'pleasant': 3302, 'josh': 2419, 'pleasantly': 3303, 'miniseries': 2841, 'aired': 172, 'ted': 4381, 'throw': 4474, 'travels': 4566, 'ned': 2971, 'flaw': 1741, 'structure': 4228, 'indian': 2268, 'continues': 980, 'checked': 777, 'bat': 413, 'screens': 3834, 'blow': 516, 'centers': 732, 'freak': 1816, 'eating': 1407, 'womans': 4922, 'neck': 2970, 'eats': 1408, 'ties': 4485, 'chased': 769, 'brutally': 605, 'mundane': 2921, 'preview': 3387, 'mode': 2867, 'terrorist': 4408, 'tracks': 4541, 'neighbor': 2977, 'industry': 2273, 'press': 3380, 'screams': 3830, 'slick': 4018, 'addition': 121, 'involve': 2341, 'remain': 3611, 'abandoned': 63, 'wishing': 4908, 'dave': 1130, 'weekend': 4838, 'remote': 3625, 'cabin': 644, 'suffers': 4273, 'onedimensional': 3100, 'manipulative': 2718, 'juliet': 2429, 'sucked': 4265, 'ass': 330, 'eerie': 1422, 'birds': 487, 'desire': 1204, 'austin': 363, 'amazingly': 218, 'kinds': 2478, 'experimental': 1578, 'garbo': 1862, 'marie': 2727, 'intensity': 2309, 'forgive': 1786, 'cup': 1088, 'tea': 4366, 'absence': 70, 'marks': 2733, 'underground': 4639, 'todd': 4505, 'uninteresting': 4663, 'amateurish': 215, 'deaths': 1146, 'messed': 2808, 'flawed': 1742, 'dreary': 1351, 'bbc': 420, 'finished': 1725, 'hitler': 2120, 'germany': 1888, 'bollywood': 531, 'advise': 138, 'spoilers': 4119, 'rural': 3759, 'ponyo': 3325, 'lonely': 2638, 'spirited': 4109, 'beneath': 466, 'hiding': 2095, 'faults': 1661, 'miscast': 2848, 'officers': 3087, 'commander': 899, 'regular': 3593, 'minister': 2842, 'nuclear': 3049, 'wore': 4939, 'disgusting': 1283, 'hunter': 2196, 'mexico': 2815, 'border': 539, 'helen': 2072, 'urge': 4690, 'wit': 4909, 'depicting': 1184, 'bathroom': 415, 'mainstream': 2700, 'arts': 318, 'defend': 1161, 'favorites': 1664, 'prisoner': 3403, 'criminals': 1065, 'path': 3205, 'moody': 2883, 'wrapped': 4963, 'providing': 3451, 'unlikely': 4674, '1010': 2, 'magnificent': 2697, 'lifetime': 2590, 'grey': 1962, 'hopefully': 2152, 'reynolds': 3686, 'greek': 1959, 'relations': 3597, 'covers': 1033, 'abc': 64, 'doors': 1322, 'jesus': 2395, 'jewish': 2398, 'psychotic': 3457, 'jake': 2375, 'purchase': 3470, 'smiling': 4029, 'dances': 1114, 'bedroom': 439, 'seek': 3859, 'styles': 4245, 'slightly': 4021, 'turkey': 4603, 'bush': 633, 'menacing': 2795, 'demons': 1178, 'corner': 1005, 'photographer': 3259, 'guest': 1982, 'sincere': 3987, 'adam': 112, 'sucks': 4266, 'perspective': 3244, 'wedding': 4836, 'ward': 4794, 'nicholson': 2998, 'hbo': 2049, 'garden': 1863, 'bite': 491, 'guilt': 1985, 'burned': 627, 'sophisticated': 4069, 'enormous': 1485, 'determined': 1219, 'ironically': 2350, 'splendid': 4114, 'object': 3057, 'vague': 4705, 'welles': 4844, 'embarrassed': 1448, 'burton': 631, 'obsessed': 3062, 'gothic': 1933, 'substance': 4253, 'batman': 416, 'expensive': 1573, 'thrills': 4470, 'phrase': 3261, 'containing': 972, 'walken': 4778, 'triangle': 4577, 'circus': 819, 'returning': 3670, 'kidnapped': 2466, 'danny': 1119, 'suspicious': 4324, 'kyle': 2501, 'bleak': 505, 'irrelevant': 2352, 'sexually': 3910, 'mass': 2746, 'checking': 778, 'mark': 2730, 'enjoys': 1484, 'touched': 4528, 'reporter': 3641, 'editor': 1418, 'somebody': 4056, 'underwater': 4647, 'tank': 4355, 'print': 3400, 'march': 2724, 'harold': 2030, 'families': 1636, 'regret': 3592, 'universal': 4668, 'golden': 1922, 'dracula': 1335, 'carradine': 696, 'glenn': 1908, 'frankenstein': 1813, 'cure': 1089, 'currently': 1093, 'abysmal': 76, 'wake': 4775, 'explosions': 1593, 'coast': 867, 'spain': 4086, 'rome': 3733, 'mate': 2755, 'commented': 902, 'june': 2434, 'ridiculously': 3694, 'damme': 1107, 'sounding': 4077, 'drinking': 1357, 'led': 2559, 'oil': 3091, 'drop': 1364, 'narrator': 2953, 'opinions': 3114, 'interview': 2322, 'ya': 4976, 'em': 1447, 'join': 2410, 'figures': 1700, 'segment': 3868, 'thoughts': 4459, 'rain': 3507, 'spite': 4112, 'bone': 534, 'drivel': 1359, 'titles': 4501, 'increasingly': 2262, 'hint': 2108, 'pool': 3326, 'failing': 1619, 'disbelief': 1274, 'appearing': 283, 'explosion': 1592, 'burns': 629, 'hitting': 2123, 'destruction': 1214, 'exceptionally': 1553, 'bourne': 555, 'furthermore': 1848, 'mixture': 2865, 'weve': 4856, 'foul': 1801, 'obnoxious': 3060, 'voiceover': 4764, 'shallow': 3917, 'shadows': 3913, 'overrated': 3149, 'groups': 1970, 'conspiracy': 964, 'connected': 951, 'wanna': 4787, 'armed': 301, 'suck': 4264, 'franco': 1811, 'vietnam': 4736, 'senses': 3879, 'curiosity': 1090, 'ireland': 2346, 'uncomfortable': 4636, 'pops': 3331, 'sung': 4288, 'lion': 2609, 'beast': 425, 'likewise': 2600, 'rocks': 3721, 'widescreen': 4879, 'lively': 2622, 'moved': 2905, 'spark': 4089, 'nancy': 2950, 'itll': 2364, 'beats': 429, 'tame': 4354, 'onscreen': 3105, 'partly': 3191, 'packed': 3164, 'battles': 418, 'robot': 3717, 'underworld': 4648, 'directorial': 1261, 'skill': 4006, 'nominated': 3013, 'cinderella': 811, 'childish': 789, 'suited': 4280, 'jump': 2430, 'keeping': 2449, 'tap': 4356, 'dynamic': 1388, 'jumping': 2432, 'combine': 883, 'glorious': 1911, 'lay': 2543, 'photo': 3257, 'shirt': 3937, 'victor': 4732, 'martha': 2739, 'remarkably': 3617, 'peak': 3217, 'lovers': 2666, 'premiere': 3370, 'robbery': 3712, '35': 46, 'los': 2648, 'angeles': 240, 'heartbreaking': 2060, 'suffering': 4272, 'shop': 3945, 'widow': 4881, 'stolen': 4191, 'lips': 2610, 'fish': 1730, 'potentially': 3354, 'astonishing': 337, 'formula': 1793, 'contrived': 985, 'depression': 1189, 'assault': 332, 'serve': 3893, 'crucial': 1076, 'tribe': 4578, 'mountain': 2900, 'dinosaur': 1251, 'louis': 2659, 'captain': 675, 'clown': 861, 'dinosaurs': 1252, 'pride': 3392, 'innovative': 2288, 'ingredients': 2281, 'tunes': 4602, 'succeed': 4257, 'pile': 3274, 'practically': 3360, 'threatening': 4463, 'driving': 1363, 'unit': 4666, 'evident': 1541, 'tiresome': 4497, 'infamous': 2276, 'turkish': 4604, 'kung': 2499, 'competition': 921, 'education': 1419, 'dragon': 1338, 'hills': 2105, 'lately': 2527, 'hammer': 2006, 'kong': 2495, 'reeves': 3579, 'abilities': 65, 'prom': 3429, 'arrogant': 311, 'tommy': 4510, 'satisfied': 3791, 'area': 293, 'eaten': 1406, 'snake': 4034, 'calm': 654, 'blair': 499, 'cave': 726, 'nose': 3029, 'macy': 2687, 'teaches': 4370, 'directions': 1258, 'eat': 1405, 'peoples': 3221, 'superhero': 4293, 'luke': 2681, 'wilson': 4891, 'antics': 261, 'scarecrow': 3806, 'clothing': 860, 'arnold': 304, 'underlying': 4640, 'occurred': 3070, 'visits': 4758, 'temple': 4393, 'realizing': 3551, 'spirits': 4110, 'closeups': 857, 'tends': 4397, 'prepared': 3373, 'dinner': 1250, 'instantly': 2299, 'causes': 724, 'nervous': 2984, 'possibility': 3348, 'host': 2169, '18': 12, 'equal': 1504, 'fi': 1688, 'birthday': 489, 'gate': 1866, 'disappear': 1266, 'seeking': 3860, 'arguably': 297, 'hang': 2014, 'chaplin': 755, 'interviews': 2323, 'vhs': 4726, 'bonus': 535, 'broadcast': 590, 'overcome': 3144, 'russia': 3763, 'britain': 587, 'sue': 4269, 'bugs': 613, 'hip': 2110, 'fancy': 1641, 'wizard': 4919, 'comparing': 916, 'worried': 4948, 'nazi': 2962, 'nearby': 2965, 'april': 291, 'department': 1182, 'attracted': 354, 'choreography': 799, 'root': 3737, 'punk': 3467, 'christ': 804, 'chapter': 756, 'popcorn': 3330, 'plague': 3284, 'ralph': 3511, 'hunters': 2197, 'storm': 4201, 'blake': 500, 'judy': 2426, 'bull': 619, 'stooges': 4195, 'recognize': 3566, 'achieved': 94, 'rage': 3506, 'piano': 3264, 'classical': 834, 'virus': 4753, 'flight': 1749, 'bible': 479, 'bottle': 551, 'stood': 4194, 'cruise': 1080, 'mouse': 2902, 'sides': 3967, 'caused': 723, 'flash': 1737, 'cringe': 1066, 'shelf': 3927, 'straightforward': 4206, 'description': 1197, 'swimming': 4329, 'lloyd': 2625, 'justin': 2441, 'parties': 3190, 'scores': 3825, 'india': 2267, 'offering': 3083, 'unbelievably': 4634, '1972': 20, 'alcohol': 182, 'provoking': 3452, 'advanced': 132, 'buddies': 608, 'navy': 2961, '20th': 38, 'ships': 3935, 'trade': 4543, 'anyways': 268, 'dutch': 1383, '45': 51, 'legs': 2566, 'satan': 3789, 'yellow': 4981, 'ford': 1780, 'repeating': 3636, 'slight': 4019, 'developing': 1222, 'importantly': 2243, 'enjoyment': 1483, 'balls': 395, 'appropriate': 289, 'raises': 3510, 'doug': 1327, 'immensely': 2238, 'americas': 223, 'soviet': 4083, 'intrigued': 2327, 'heavens': 2065, 'italy': 2362, 'rotten': 3739, 'jackie': 2372, 'chan': 745, 'noble': 3009, 'agency': 156, 'lust': 2682, 'suggests': 4276, 'risk': 3705, 'montage': 2879, 'inept': 2274, 'cheating': 775, 'repetitive': 3637, 'inferior': 2277, 'collection': 873, 'teams': 4373, 'relevant': 3605, '1990': 25, 'whereas': 4864, 'satire': 3790, 'combined': 884, 'techniques': 4379, 'ranger': 3517, 'legal': 2563, '2nd': 42, 'drew': 1355, 'mickey': 2819, 'faced': 1609, 'winner': 4898, 'develops': 1224, 'forms': 1792, 'trademark': 4544, 'viewings': 4742, 'complaints': 925, 'weakest': 4825, 'productions': 3420, 'desperation': 1210, 'smaller': 4026, 'revolves': 3685, 'requires': 3647, 'watches': 4813, 'couples': 1026, 'throat': 4471, 'building': 615, 'von': 4766, 'severe': 3906, 'creativity': 1050, '50s': 53, 'suspects': 4321, '1971': 19, 'paranoia': 3180, 'fever': 1686, 'cried': 1061, 'fulci': 1839, 'kick': 2460, 'kicking': 2462, 'believed': 457, 'streets': 4214, 'breaking': 569, 'testament': 4412, 'opposed': 3116, 'hook': 2148, 'wellknown': 4845, 'crash': 1041, 'neat': 2967, 'overlooked': 3147, 'imaginative': 2231, 'boxing': 557, 'evening': 1528, 'christian': 805, 'tour': 4532, 'exploration': 1588, 'meat': 2777, 'attached': 343, 'succeeded': 4258, '1995': 26, 'flair': 1736, 'plight': 3308, 'intellectual': 2304, 'burning': 628, 'madonna': 2692, 'dear': 1144, 'matthau': 2761, 'argento': 296, 'dust': 1382, 'buildings': 616, 'treasure': 4567, 'isolated': 2357, 'survivors': 4318, 'closeup': 856, 'incoherent': 2259, 'lights': 2594, 'pitiful': 3278, 'edgar': 1412, 'et': 1521, 'mel': 2785, 'con': 933, 'supposedly': 4301, 'thugs': 4479, 'emma': 1452, 'carries': 700, 'mars': 2737, 'dresses': 1354, 'joins': 2412, 'slave': 4014, 'outer': 3136, 'cd': 727, 'contrary': 983, 'politically': 3323, 'politics': 3324, 'news': 2992, 'caine': 648, 'wifes': 4883, 'unexpectedly': 4652, 'monkeys': 2876, 'indians': 2269, 'fights': 1697, 'hudson': 2179, 'guarantee': 1977, 'remaining': 3613, 'website': 4834, 'houses': 2175, 'pal': 3175, 'werewolf': 4850, 'causing': 725, 'chaos': 754, 'devils': 1227, 'willis': 4890, 'describes': 1196, 'accurately': 91, 'precisely': 3364, 'disneys': 1288, 'leg': 2562, 'hugh': 2181, 'transition': 4558, 'occasion': 3066, 'fifteen': 1693, 'noted': 3037, 'rabbit': 3499, 'package': 3163, 'knock': 2488, 'tense': 4398, 'orders': 3121, 'showcase': 3955, 'agents': 158, 'scripts': 3838, 'loyal': 2673, 'hokey': 2125, 'blowing': 517, 'femme': 1684, 'disliked': 1286, 'leslie': 2571, 'nelson': 2982, 'phil': 3250, 'cagney': 647, 'sloppy': 4022, 'lazy': 2544, 'che': 772, 'unoriginal': 4676, 'lessons': 2575, 'woody': 4936, 'warmth': 4796, 'surviving': 4317, 'guests': 1983, 'prize': 3406, 'struggling': 4231, 'claire': 829, 'listed': 2613, 'tall': 4353, 'tracking': 4540, 'seventies': 3904, 'taylor': 4365, 'returned': 3669, 'mistaken': 2858, 'property': 3438, 'kane': 2443, 'patricia': 3210, 'copies': 1001, 'jumps': 2433, 'butt': 639, 'shell': 3928, 'ignorant': 2217, 'forbidden': 1776, 'frankie': 1814, 'nuts': 3056, 'boot': 538, 'fooled': 1771, 'jeff': 2387, 'bridges': 577, 'newspaper': 2993, 'dare': 1120, 'moreover': 2889, 'objective': 3058, 'secondly': 3849, 'conservative': 956, 'rendition': 3628, 'kitchen': 2484, 'conscience': 954, 'bernard': 469, 'cheated': 774, 'skills': 4007, 'concerning': 938, 'painting': 3173, 'species': 4094, 'jobs': 2404, 'riveting': 3709, 'beliefs': 454, 'complaining': 923, 'cg': 737, 'simplistic': 3982, 'tyler': 4621, 'misses': 2854, 'reed': 3577, 'citizen': 821, 'wealth': 4826, 'surrounded': 4312, 'junior': 2436, 'coherent': 870, 'classics': 835, 'lower': 2671, 'sandler': 3783, 'spielberg': 4105, 'occurs': 3071, 'heartwarming': 2062, 'tomorrow': 4511, 'meaningless': 2772, 'loads': 2628, 'access': 83, 'scottish': 3827, 'prince': 3397, 'metaphor': 2811, 'emily': 1451, 'stiff': 4185, 'grab': 1937, 'descent': 1193, 'bridge': 576, 'planned': 3290, 'notorious': 3043, 'endure': 1470, 'fatal': 1656, 'trail': 4550, 'lifestyle': 2589, 'robinson': 3716, 'crystal': 1084, 'protect': 3443, 'represented': 3643, 'altman': 209, 'tarantino': 4358, 'affect': 141, 'stanley': 4144, 'horrifying': 2163, 'solo': 4052, 'landing': 2515, 'hamilton': 2004, 'addiction': 119, 'timeless': 4491, 'relation': 3596, 'promise': 3430, 'pitch': 3277, 'earl': 1392, 'tag': 4339, 'concert': 940, 'titled': 4500, 'explore': 1589, 'quinn': 3493, 'miracle': 2846, 'absent': 71, 'split': 4115, 'technically': 4377, 'duty': 1384, 'quotes': 3498, 'react': 3536, 'vegas': 4717, 'predator': 3365, 'promised': 3431, 'intentions': 2313, 'convey': 991, 'sidney': 3968, 'journalist': 2420, 'odyssey': 3076, 'titanic': 4498, 'generations': 1875, 'segments': 3869, 'countryside': 1023, 'stilted': 4187, 'morality': 2887, 'cliche': 841, 'bo': 523, 'toilet': 4507, 'harm': 2029, 'limits': 2603, 'mst3k': 2916, 'nemesis': 2983, 'flies': 1748, 'penn': 3219, 'seasons': 3845, 'bride': 575, 'devoid': 1228, 'tongue': 4513, 'cusack': 1096, 'griffith': 1963, 'crude': 1077, 'dubbing': 1373, 'silence': 3973, 'carter': 704, 'admire': 124, 'lucas': 2674, 'cannon': 671, 'guitar': 1987, 'greed': 1957, 'counts': 1024, 'frequent': 1823, 'petty': 3248, 'closet': 855, 'investigate': 2336, 'spike': 4106, 'earned': 1395, 'swedish': 4327, 'wouldbe': 4957, 'represent': 3642, 'reflection': 3584, 'connect': 950, 'capturing': 680, 'swear': 4326, 'snakes': 4035, 'craig': 1038, 'showdown': 3956, 'inappropriate': 2253, 'string': 4222, 'owners': 3156, 'driver': 1361, 'square': 4132, 'jackass': 2371, 'phony': 3256, 'hal': 1999, 'lincoln': 2604, 'kubrick': 2497, 'agrees': 164, 'jewel': 2397, 'childs': 792, 'superman': 4295, 'reference': 3580, 'switch': 4330, 'jesse': 2393, 'homosexual': 2141, 'ego': 1429, 'combat': 881, '1st': 28, 'jeremy': 2390, 'flynn': 1756, 'refused': 3586, 'ian': 2205, 'sin': 3984, 'apes': 272, 'grudge': 1975, 'challenged': 743, 'incomprehensible': 2261, 'quit': 3495, 'perry': 3236, 'mason': 2745, 'burt': 630, 'emperor': 1457, 'wells': 4846, 'firm': 1728, 'campaign': 663, 'fired': 1727, 'rita': 3706, 'kingdom': 2480, 'holly': 2133, 'daniel': 1118, 'lucy': 2678, 'thrilling': 4469, 'ignored': 2219, 'folk': 1761, 'investigating': 2337, 'hers': 2088, 'taught': 4363, 'falk': 1628, 'convincingly': 995, 'wagon': 4771, 'corporate': 1007, 'traveling': 4565, 'purple': 3474, 'errors': 1511, 'affairs': 140, 'murderous': 2926, 'shirley': 3936, 'comedians': 887, '16': 10, 'polish': 3321, 'misery': 2851, 'rocky': 3722, 'crocodile': 1072, 'jaws': 2382, 'bruno': 603, 'sullivan': 4282, 'clark': 830, 'knocked': 2489, 'brooklyn': 596, 'campbell': 664, 'gentleman': 1882, 'gandhi': 1857, 'rushed': 3761, 'affection': 143, 'rooms': 3736, '1999': 27, 'sneak': 4036, 'funeral': 1843, 'bunny': 624, 'widmark': 4880, 'daring': 1121, 'jealous': 2385, 'drawing': 1345, 'enthusiasm': 1495, 'tarzan': 4360, 'portion': 3336, 'purchased': 3471, '1979': 21, 'proceeds': 3411, 'bay': 419, 'belong': 461, 'resist': 3652, 'advertising': 136, 'prey': 3390, 'writes': 4970, 'chicken': 785, 'resulting': 3664, 'diane': 1235, 'companies': 911, 'schools': 3817, 'christians': 806, 'heading': 2053, 'ought': 3131, 'hitman': 2121, 'referred': 3582, 'immediate': 2236, 'lands': 2516, 'secondary': 3848, 'trees': 4573, 'despair': 1207, 'primary': 3395, 'mayor': 2767, 'lugosi': 2680, 'scarlett': 3809, 'standout': 4142, 'hamlet': 2005, 'taxi': 4364, 'knight': 2487, 'contest': 976, 'owen': 3152, 'hart': 2035, 'gain': 1854, 'chorus': 800, 'myers': 2939, 'randy': 3515, '3rd': 48, 'giallo': 1894, 'educational': 1420, 'derek': 1192, 'squad': 4131, 'cassavetes': 710, 'doc': 1300}\n",
      "{'this': 4454, 'is': 2352, 'gem': 1870, 'of': 3078, 'movie': 2913, 'not': 3032, 'just': 2432, 'for': 1775, 'people': 3219, 'who': 4872, 'like': 2596, 'fun': 1843, 'and': 235, 'quirky': 3493, 'but': 642, 'love': 2661, 'the': 4423, 'history': 2117, 'scifi': 3824, 'classic': 838, 'hollywood': 2136, 'movies': 2915, 'each': 1396, 'alien': 192, 'crew': 1064, 'character': 763, 'or': 3118, 'member': 2791, 'its': 2363, 'pure': 3469, 'pleasure': 3305, 'watching': 4816, 'them': 4429, 'other': 3129, 'big': 486, 'more': 2892, 'corruption': 1016, 'in': 2252, 'whole': 4874, 'american': 224, 'system': 4340, 'those': 4457, 'vote': 4769, 'do': 1306, 'matter': 2761, 'so': 4041, 'proved': 3443, 'machines': 2687, 'that': 4421, 'end': 1468, 'comedian': 892, 'to': 4502, 'office': 3086, 'are': 295, 'such': 4268, 'joke': 2408, 'we': 4826, 'almost': 203, 'need': 2976, 'comic': 900, 'represent': 3639, 'us': 4692, 'as': 321, 'have': 2046, 'been': 446, 'laughed': 2530, 'at': 340, 'years': 4979, 'around': 307, 'world': 4947, 'become': 441, 'way': 4823, 'life': 2587, 'americans': 225, 'will': 4889, 'be': 427, 'only': 3105, 'thing': 4447, 'left': 2557, 'after': 153, 'he': 2050, 'leaves': 2553, 'none': 3016, 'soon': 4071, 'oddly': 3075, 'person': 3235, 'honesty': 2147, 'someone': 4061, 'even': 1529, 'position': 3341, 'tells': 4395, 'truth': 4598, 'story': 4206, 'very': 4726, 'subtle': 4260, 'if': 2218, 'you': 4986, 'go': 1915, 'it': 2358, 'laughs': 2532, 'aint': 172, 'happening': 2020, 'lot': 2654, 'thought': 4459, 'overall': 3145, 'enjoyed': 1486, 'best': 476, 'stephen': 4177, 'kings': 2476, 'dark': 1126, 'can': 670, 'surprising': 4313, 'ending': 1471, 'terrifying': 4408, 'atmosphere': 342, 'amazing': 220, 'book': 544, 'adaptation': 117, 'outstanding': 3142, 'cast': 717, 'educational': 1426, 'dont': 1326, 'play': 3295, 'with': 4912, 'short': 3945, 'everything': 1540, 'an': 233, 'excellent': 1551, 'horror': 2166, 'should': 3950, 'favorite': 1665, 'straight': 4209, 'review': 3678, 'existence': 1567, 'entirely': 1501, 'take': 4344, 'tv': 4610, 'magazine': 2695, 'see': 3857, 'what': 4859, 'coming': 903, 'up': 4684, 'decide': 1157, 'watch': 4812, 'there': 4435, 'brief': 586, 'reviews': 3681, 'most': 2896, 'films': 1710, 'shown': 3959, 'on': 3098, 'five': 1734, 'major': 2704, 'channels': 759, 'addition': 124, 'film': 1703, '15': 10, 'star': 4149, 'rating': 3527, 'means': 2775, 'miss': 2854, 'superior': 4299, 'down': 1337, 'standing': 4144, 'poor': 3324, 'learned': 2548, 'from': 1833, 'vast': 4717, 'experience': 1575, 'few': 1687, 'stars': 4154, 'gross': 1967, 'taste': 4365, 'language': 2514, 'offensive': 3081, 'content': 979, 'blood': 520, 'guts': 1992, 'especially': 1518, 'killing': 2467, 'off': 3079, 'when': 4863, 'everyone': 1538, 'was': 4806, 'about': 71, 'live': 2619, 'happily': 2022, 'ever': 1534, 'isnt': 2354, 'done': 1324, 'being': 457, 'predictable': 3362, 'worst': 4952, 'insult': 2301, 'new': 2991, 'girl': 1899, 'given': 1903, 'worthy': 4956, 'our': 3133, 'time': 4490, 'attention': 353, 'by': 648, 'reviewers': 3680, 'description': 1201, 'truly': 4596, 'awful': 381, 'tale': 4348, 'stupid': 4247, 'watched': 4814, 'my': 2941, 'wife': 4885, 'were': 4850, 'glad': 1906, 'did': 1242, 'reviewer': 3679, 'further': 1848, 'stated': 4160, 'war': 4794, 'peace': 3216, 'which': 4868, 'agree': 166, 'reading': 3539, 'through': 4474, 'imdb': 2236, 'title': 4499, 'day': 1140, 'two': 4620, 'later': 2524, 'urge': 4691, 'pick': 3264, 'speak': 4093, 'add': 120, 'emphasis': 1462, 'first': 1729, 'became': 439, 'well': 4846, 'attractive': 358, 'characters': 765, 'believable': 461, 'relationships': 3597, 'between': 483, 'interesting': 2317, 'situations': 4006, 'respect': 3655, 'good': 1927, 'over': 3143, 'evil': 1544, 'liked': 2597, 'integrity': 2303, 'personalities': 3238, 'holly': 2135, 'her': 2080, 'virginia': 4752, 'barbara': 404, 'grant': 1947, 'nick': 2999, 'male': 2712, 'involved': 2340, 'storyline': 4207, 'includes': 2259, 'wicked': 4880, 'witch': 4911, 'west': 4854, 'form': 1789, 'angela': 242, 'provided': 3446, 'she': 3922, 'plays': 3300, 'part': 3187, 'some': 4058, 'appreciated': 290, 'friendship': 1831, 'depicted': 1188, 'one': 3100, 'having': 2048, 'loving': 2667, 'single': 3994, 'every': 1535, 'material': 2758, 'advantage': 137, 'little': 2618, 'affection': 147, 'any': 265, 'wonder': 4926, 'felt': 1684, 'interest': 2315, 'considering': 965, 'manner': 2721, 'their': 4428, 'initial': 2283, 'meeting': 2785, 'lively': 2621, 'think': 4449, 'these': 4438, 'issues': 2357, 'events': 1532, 'enough': 1491, 'necessary': 2973, 'pretend': 3378, 'circumstances': 824, 'realistic': 3545, 'order': 3119, 'greatly': 1958, 'significant': 3971, 'musical': 2936, 'education': 1425, 'enjoy': 1484, 'sounds': 4081, 'produced': 3411, 'voices': 4767, 'without': 4914, 'critical': 1073, 'listening': 2614, 'thus': 4482, 'both': 556, 'classical': 839, 'pieces': 3272, 'pop': 3326, 'came': 660, 'werent': 4851, 'struck': 4231, 'lack': 2499, 'talent': 4349, 'also': 209, 'dubbed': 1379, 'look': 2640, 'dvd': 1392, 'average': 371, 'delivered': 1177, 'price': 3387, 'paid': 3168, 'per': 3221, 'collection': 879, 'currently': 1097, 'stands': 4146, 'four': 1803, 'places': 3283, 'brave': 574, 'available': 370, 'above': 72, 'figure': 1697, 'purchase': 3467, 'would': 4957, 'why': 4879, 'mystery': 2946, 'me': 2770, 'enjoyment': 1488, 'placed': 3282, 'anyway': 271, 'out': 3135, 'ten': 4397, 'performances': 3227, 'audiences': 360, 'advertising': 140, 'something': 4063, 'else': 1448, 'cant': 678, 'remember': 3616, 'right': 3696, 'now': 3046, 'case': 713, 'hasnt': 2038, 'use': 4694, 'ago': 165, 'saw': 3802, 'remake': 3613, 'sixties': 4008, 'mini': 2840, 'liking': 2600, 'television': 4392, 'wanted': 4791, 'know': 2485, 'whether': 4867, 'still': 4189, 'much': 2922, 'cinema': 818, 'answer': 261, 'team': 4375, 'final': 1713, 'job': 2399, 'venice': 4722, 'italy': 2360, 'plan': 3286, 'flawless': 1742, 'execution': 1562, 'perfect': 3222, 'they': 4439, 'escape': 1515, 'wont': 4932, 'work': 4941, 'rest': 3660, 'lives': 2622, 'problem': 3405, 'didnt': 1243, 'into': 2324, 'account': 94, 'within': 4913, 'own': 3155, 'ranks': 3517, 'doesnt': 1313, 'split': 4118, 'wants': 4793, 'keep': 2443, 'all': 196, 'himself': 2107, 'kill': 2463, 'survive': 4319, 'revenge': 3677, 'year': 4978, 'los': 2647, 'angeles': 243, 'surviving': 4321, 'members': 2792, 'create': 1049, 'smart': 4031, 'steal': 4171, 'back': 387, 'gold': 1922, 'get': 1890, 'itself': 2364, 'course': 1032, 'original': 3124, 'since': 3989, 'has': 2037, 'plenty': 3306, 'offer': 3082, 'make': 2706, 'forget': 1784, 'typical': 4624, 'heist': 2069, 'action': 104, 'certainly': 744, 'better': 480, 'ones': 3103, 'kind': 2471, 'nice': 2995, 'landscapes': 2512, 'real': 3542, 'ok': 3093, 'special': 4096, 'effects': 1432, 'stunning': 4244, 'acting': 103, 'youll': 4988, 'often': 3090, 'must': 2939, 'admit': 129, 'really': 3552, 'give': 1902, 'deserved': 1204, 'great': 1955, 'show': 3954, 'made': 2690, 'appearance': 284, 'helped': 2075, 'series': 3889, 'unfortunately': 4658, 'unless': 4672, 'actually': 113, 'lost': 2653, 'heavy': 2066, 'references': 3580, 'season': 3846, 'shows': 3960, 'probably': 3404, 'appropriate': 293, 'finale': 1714, 'opposed': 3116, 'separate': 3883, 'gotta': 1936, 'hope': 2153, 'continue': 982, 'feature': 1672, 'law': 2536, 'am': 215, 'fan': 1642, 'call': 655, 'along': 205, 'plot': 3308, 'access': 88, 'heads': 2054, 'state': 4159, 'easier': 1405, 'than': 4417, 'local': 2628, 'store': 4203, 'come': 891, 'tone': 4511, 'emotion': 1457, 'wooden': 4935, 'editing': 1422, 'actors': 108, 'term': 4403, 'loosely': 2645, 'sound': 4078, 'lines': 2606, 'could': 1021, 'potential': 3350, 'scripts': 3840, 'want': 4790, 'may': 2767, 'suggest': 4279, 'crash': 1045, 'force': 1776, 'never': 2989, 'seen': 3866, 'his': 2114, 'introduce': 2328, 'walk': 4777, 'away': 378, 'bad': 390, 'your': 4991, 'mouth': 2907, 'projects': 3425, 'musicals': 2937, '1940s': 15, 'set': 3896, 'formula': 1793, 'im': 2228, 'talking': 4355, 'certain': 743, 'running': 3759, 'surface': 4309, 'got': 1934, 'different': 1249, 'light': 2591, 'worth': 4953, 'nomination': 3014, 'picture': 3268, 'although': 212, 'had': 1997, 'no': 3007, 'chance': 752, 'beating': 434, 'winner': 4901, 'kelly': 2447, 'career': 692, 'yes': 4982, 'paris': 3183, 'singing': 3993, 'rain': 3505, 'gets': 1891, 'sea': 3841, 'wolf': 4920, 'thinking': 4450, 'picking': 3266, 'while': 4869, 'leave': 2552, 'nothing': 3039, 'until': 4681, 'sort': 4074, 'music': 2935, 'man': 2713, 'foot': 1772, 'caught': 729, 'door': 1329, 'hilarity': 2103, 'mostly': 2897, 'attempt': 349, 'falls': 1634, 'going': 1921, 'many': 2724, 'elements': 1445, 'buddy': 615, 'nostalgia': 3030, 'wwii': 4975, 'ended': 1470, 'month': 2883, 'release': 3601, 'guy': 1993, 'always': 214, 'find': 1717, 'human': 2186, 'songs': 4069, 'making': 2711, '10': 0, 'near': 2968, 'nearly': 2970, '12': 6, 'hours': 2175, 'starts': 4158, 'feel': 1677, 'bit': 497, 'long': 2638, 'small': 4029, 'number': 3052, 'gene': 1871, 'does': 1312, 'seems': 3865, 'dated': 1131, 'feels': 1680, 'adds': 126, 'minutes': 2847, 'definite': 1170, 'supposedly': 4306, 'thriller': 4469, 'subplots': 4256, 'developed': 1226, 'simultaneously': 3986, 'climax': 852, 'writing': 4971, 'trite': 4587, 'pace': 3159, 'slow': 4027, 'disjointed': 1291, 'boring': 551, 'george': 1885, 'looks': 2643, 'needs': 2979, 'matt': 2760, 'others': 3130, 'seemed': 3863, 'read': 3538, 'carefully': 695, 'crafted': 1041, 'politically': 3321, 'correct': 1014, 'saying': 3804, 'business': 639, 'oil': 3092, 'documentaries': 1310, 'provide': 3445, 'excitement': 1558, 'theres': 4437, 'absolutely': 76, 'disappointing': 1277, 'brought': 606, 'mind': 2836, 'rolling': 3729, 'peter': 3244, 'fact': 1615, 'female': 1685, 'lead': 2542, 'okay': 3094, 'object': 3057, 'discussion': 1288, 'days': 1141, 'wrote': 4974, 'warned': 4799, 'stories': 4204, 'fifteen': 1692, 'trying': 4600, 'things': 4448, 'sense': 3876, 'flow': 1753, 'looked': 2641, 'whatever': 4860, 'filmed': 1704, 'editor': 1424, 'tried': 4582, 'piece': 3271, 'together': 4506, 'project': 3424, 'previous': 3384, 'studio': 4239, 'boss': 555, 'him': 2106, 'disaster': 1279, 'screenplay': 3835, 'attempts': 352, 'theatrical': 4427, 'version': 4723, 'quite': 3494, 'impression': 2248, 'head': 2051, 'quick': 3489, 'paced': 3160, 'constantly': 971, 'times': 4493, 'tense': 4401, 'remarkable': 3614, 'student': 4237, 'doctors': 1309, 'notably': 3034, 'julia': 2421, 'roberts': 3714, 'kevin': 2452, 'among': 227, 'whom': 4876, 'remaining': 3611, 'dead': 1143, 'getting': 1892, 'seconds': 3851, 'then': 4433, 'complex': 933, 'involving': 2343, 'medical': 2781, 'electric': 1442, 'variety': 4715, 'terms': 4404, 'strongly': 4230, 'suspect': 4324, 'words': 4939, 'follow': 1763, 'kiss': 2478, 'simple': 3981, 'extended': 1600, 'philosophy': 3252, 'risk': 3705, 'doctor': 1308, 'let': 2575, 'hopes': 2157, 'answers': 262, 'religion': 3606, 'cannot': 677, 'convincingly': 1000, 'famous': 1641, 'science': 3820, 'comes': 897, 'during': 1388, 'death': 1151, 'vision': 4756, 'incident': 2256, 'young': 4989, 'killed': 2464, 'another': 260, 'boy': 566, 'kid': 2459, 'accident': 89, 'responsible': 3659, 'success': 4265, 'suit': 4283, 'test': 4414, 'limits': 2602, 'how': 2179, 'remain': 3609, 'monsters': 2881, 'past': 3203, 'future': 1850, 'haunted': 2044, 'alone': 204, 'second': 3849, 'women': 4923, 'took': 4517, 'bed': 444, 'sees': 3867, 'sets': 3897, 'playing': 3299, 'videos': 4736, 'third': 4452, 'school': 3818, 'fourth': 1804, 'father': 1660, 'driven': 1367, 'insane': 2289, 'haunting': 2045, 'main': 2700, 'focus': 1757, 'entire': 1500, 'passes': 3199, 'eyes': 1608, 'moment': 2875, 'dying': 1394, 'stage': 4138, 'die': 1244, 'strong': 4228, 'somehow': 4060, 'demons': 1184, 'except': 1552, 'realizes': 3549, 'move': 2908, 'again': 156, 'round': 3745, 'kills': 2469, 'doing': 1316, 'wondering': 4930, 'thankfully': 4419, 'because': 440, 'happy': 2024, 'endings': 1472, 'photographer': 3257, 'played': 3296, 'considerable': 963, 'intensity': 2309, 'michael': 2817, 'horrific': 2164, 'nightmares': 3003, 'brutally': 611, 'murders': 2931, 'models': 2871, 'lovely': 2663, 'ladies': 2503, 'start': 4155, 'turning': 4608, 'might': 2824, 'killer': 2465, 'writerdirector': 4968, 'william': 4890, 'builds': 622, 'reasonable': 3555, 'amount': 229, 'tension': 4402, 'delivers': 1179, 'effective': 1430, 'moments': 2876, 'savage': 3797, 'violence': 4749, 'woman': 4921, 'plastic': 3293, 'garbage': 1861, 'bag': 392, 'highlight': 2098, 'puts': 3479, 'refreshing': 3584, 'nicely': 2996, 'drawn': 1354, 'engaging': 1481, 'plausible': 3294, 'everyday': 1537, 'nudity': 3051, 'fine': 1720, 'helps': 2077, 'matters': 2762, 'charming': 773, 'james': 2373, 'double': 1332, 'brother': 604, 'concerned': 943, 'psychiatrist': 3450, 'dr': 1342, 'frank': 1813, 'curtis': 1099, 'don': 1322, 'gay': 1869, 'assistant': 336, 'louis': 2658, 'detective': 1223, 'police': 3318, 'chief': 794, 'sweet': 4332, 'model': 2870, 'polished': 3319, 'cinematography': 822, 'makes': 2709, 'impressive': 2249, 'occasional': 3067, 'breathtaking': 581, 'shots': 3949, 'jack': 2368, 'score': 3826, 'trick': 4580, 'cool': 1003, 'parts': 3193, 'robert': 3713, 'sally': 3780, 'shower': 3957, 'ring': 3698, 'bay': 425, 'standard': 4142, 'old': 3095, 'roles': 3726, 'solid': 4054, 'enjoyable': 1485, 'following': 1765, 'progress': 3422, 'perhaps': 3233, 'expected': 1572, 'too': 4516, 'consider': 962, 'anderson': 236, 'danny': 1123, 'interested': 2316, 'dan': 1113, 'reed': 3577, 'lies': 2586, 'seem': 3862, 'understand': 4642, 'genre': 1879, 'falling': 1633, 'fails': 1622, 'impress': 2246, 'drama': 1349, 'rather': 3526, 'focusing': 1760, 'master': 2751, 'premise': 3367, 'couple': 1029, 'meet': 2784, 'happens': 2021, 'directors': 1268, 'handled': 2012, 'goes': 1920, 'deeper': 1164, 'showing': 3958, 'side': 3964, 'mental': 2799, 'detail': 1220, 'wrong': 4973, 'key': 2453, 'missing': 2857, 'type': 4622, 'generally': 1873, 'warning': 4801, 'happen': 2018, 'element': 1444, 'here': 2081, 'simply': 3984, 'hour': 2174, 'stiff': 4188, 'competition': 927, 'issue': 2356, 'directing': 1262, 'abilities': 68, 'id': 2209, 'say': 3803, 'next': 2994, 'stick': 4186, 'hes': 2089, 'instead': 2300, 'clever': 845, 'hell': 2073, 'quality': 3482, 'worse': 4951, 'david': 1136, 'lynch': 2683, 'brain': 570, 'whatsoever': 4862, 'wasted': 4810, 'bill': 489, 'tom': 4509, 'jerry': 2389, 'cartoon': 711, 'development': 1228, 'strange': 4212, 'scale': 3806, 'total': 4524, 'chaos': 760, 'sucked': 4270, 'whats': 4861, 'throughout': 4475, 'unbearable': 4631, 'highly': 2100, 'recommend': 3568, 'costs': 1018, 'nonsense': 3019, 'le': 2541, 'million': 2834, 'cinemas': 819, 'created': 1050, 'comedy': 896, 'technically': 4380, 'brilliant': 590, 'clearly': 844, 'influenced': 2280, 'subsequent': 4257, 'filmmakers': 1708, 'brothers': 605, 'witty': 4918, 'artist': 317, 'wins': 4903, 'huge': 2183, 'search': 3844, 'town': 4535, 'ticket': 4483, 'basically': 415, 'device': 1230, 'support': 4302, 'wonderfully': 4929, 'scenes': 3816, 'dream': 1357, 'though': 4458, 'middle': 2821, 'impossible': 2245, 'natural': 2962, 'sing': 3991, 'talk': 4353, 'stolen': 4195, 'football': 1774, 'game': 1856, 'memorable': 2793, 'funniest': 1846, 'opera': 3112, 'put': 3478, 'laugh': 2527, 'ha': 1995, 'delight': 1174, 'casting': 718, 'group': 1969, 'deadly': 1144, 'french': 1823, 'takes': 4346, 'found': 1802, 'emotionally': 1459, 'instance': 2297, 'reasons': 3557, 'giving': 1905, 'highest': 2097, 'minor': 2845, 'shouldnt': 3952, 'recommended': 3569, 'couldnt': 1022, 'robin': 3715, 'williams': 4891, 'slight': 4023, 'disturbing': 1303, 'psychological': 3453, 'focused': 1758, 'storytelling': 4208, 'night': 3001, 'personal': 3237, 'lover': 2664, 'moves': 2912, 'block': 516, 'receives': 3562, 'reads': 3540, 'written': 4972, 'named': 2950, 'abuse': 78, 'suffered': 4276, 'hands': 2013, 'parents': 3182, 'adopted': 131, 'mother': 2898, 'social': 4045, 'worker': 4943, 'donna': 1325, 'fascinated': 1651, 'begins': 452, 'discovers': 1285, 'possibility': 3345, 'exist': 1565, 'spoil': 4119, 'tell': 4393, 'fascinating': 1652, 'telling': 4394, 'question': 3486, 'talented': 4350, 'actresses': 110, 'ability': 69, 'personality': 3239, 'portrays': 3340, 'win': 4895, 'oscar': 3127, 'pull': 3456, 'supporting': 4303, 'actress': 109, 'script': 3838, 'curious': 1095, 'twists': 4619, 'otherwise': 3131, 'rent': 3626, 'called': 656, 'hide': 2092, 'puppet': 3465, 'complete': 931, 'utter': 4703, 'puppets': 3466, 'dolls': 1320, 'where': 4865, 'rated': 3525, 'contains': 977, 'installment': 2296, 'completely': 932, 'princess': 3395, 'forgotten': 1788, 'nor': 3023, 'gotten': 1937, 'fascination': 1653, 'internet': 2319, 'buy': 646, 'able': 70, 'loved': 2662, 'jeffrey': 2385, 'hunter': 2197, 'charisma': 767, 'ask': 325, 'anything': 270, 'vaguely': 4707, 'scene': 3814, 'bunch': 629, 'before': 448, 'wonderful': 4928, 'fred': 1818, 'rogers': 3724, 'wasnt': 4808, 'knew': 2481, 'record': 3570, 'catchy': 724, 'funny': 1847, 'baker': 393, 'partner': 3192, 'usual': 4701, 'humour': 2192, 'solo': 4055, 'routine': 3746, 'ahead': 169, 'park': 3184, 'humble': 2189, 'viewer': 4740, 'tastes': 4366, 'severely': 3905, 'limited': 2601, 'mine': 2839, 'ought': 3132, 'mild': 2827, 'embarrassment': 1454, 'hadnt': 1998, 'earlier': 1399, 'last': 2519, 'saturday': 3796, 'starting': 4157, 'similarities': 3978, 'works': 4946, 'legendary': 2561, 'drive': 1365, 'least': 2551, 'concepts': 942, 'relative': 3598, 'car': 686, 'opening': 3110, 'credits': 1062, 'roll': 3727, 'similar': 3977, 'ride': 3692, 'betty': 482, 'rita': 3706, 'cases': 714, 'place': 3281, 'mad': 2689, 'extremely': 1606, 'reminiscent': 3621, 'behind': 456, 'scary': 3812, 'creature': 1057, 'notice': 3040, 'hair': 1999, 'effect': 1429, 'appears': 288, 'tribute': 4579, 'therefore': 4436, 'context': 981, 'message': 2808, 'blow': 522, 'throw': 4476, 'vs': 4770, 'presented': 3372, 'towards': 4534, 'masterpiece': 2753, 'professor': 3419, 'angle': 246, 'bring': 592, 'beautiful': 436, 'admittedly': 130, 'subject': 4253, 'high': 2095, 'ends': 1474, 'cuts': 1103, 'forth': 1795, 'theory': 4434, 'justify': 2434, 'universe': 4669, 'artificial': 316, 'believe': 462, 'differences': 1248, 'sisters': 3999, 'alike': 194, 'lasting': 2521, 'choice': 804, 'nature': 2964, 'pain': 3169, 'inability': 2253, 'bond': 540, 'either': 1438, 'myself': 2943, 'viewers': 4741, 'tend': 4398, 'view': 4738, 'ways': 4825, 'section': 3855, 'audience': 359, 'explanation': 1586, 'far': 1647, 'contrived': 989, 'mean': 2771, 'point': 3314, 'says': 3805, 'essence': 1519, 'dialog': 1235, 'response': 3657, 'statement': 4161, 'joy': 2417, 'looking': 2642, 'indeed': 2267, 'lie': 2585, 'happiness': 2023, 'possibilities': 3344, 'same': 3783, 'imagination': 2232, 'protagonist': 3438, 'guess': 1980, 'contrary': 987, 'popular': 3329, 'name': 2949, 'brand': 572, 'soap': 4042, 'prime': 3393, 'minister': 2844, 'knowing': 2486, 'used': 4695, 'engaged': 1480, 'remains': 3612, 'forever': 1783, 'fair': 1624, 'share': 3919, 'flaws': 1743, 'background': 389, 'narrative': 2955, 'sloppy': 4026, 'dialogs': 1236, 'forced': 1777, 'delivery': 1180, 'opinion': 3113, 'albeit': 181, 'ensemble': 1492, 'sudden': 4272, 'husband': 2202, 'introduced': 2329, 'dimension': 1254, 'higher': 2096, 'easily': 1406, 'inspiration': 2293, 'experienced': 1576, 'thoroughly': 4456, 'previously': 3385, 'already': 207, 'post': 3348, 'bound': 562, 'degree': 1172, 'gave': 1868, 'lane': 2513, 'ray': 3530, 'ghost': 1893, 'directed': 1261, 'mister': 2862, 'mrs': 2919, 'level': 2580, 'failed': 1620, 'went': 4849, 'powerful': 3355, 'performance': 3226, 'free': 1820, 'spirit': 4111, 'independent': 2268, 'regardless': 3589, 'fingers': 1723, 'help': 2074, 'speech': 4101, 'thats': 4422, 'inspiring': 2295, 'messages': 2809, 'deeply': 1165, 'moving': 2918, 'granted': 1948, 'capable': 679, 'flick': 1745, 'ive': 2367, 'terrible': 4405, 'kids': 2462, 'adults': 134, 'showed': 3956, 'lighting': 2593, 'mess': 2807, 'ups': 4688, 'shot': 3948, 'river': 3708, 'boat': 531, 'destroyed': 1218, 'sheriff': 3928, 'dad': 1107, 'evening': 1530, 'molly': 2873, 'swimming': 4333, 'supposed': 4305, 'bank': 401, 'died': 1245, 'heard': 2057, 'nurse': 3055, 'extra': 1602, 'finally': 1715, 'dies': 1246, 'honestly': 2146, 'lion': 2608, 'king': 2474, 'toy': 4536, 'youre': 4992, 'divorce': 1305, 'child': 795, 'corny': 1011, 'dialogue': 1237, 'cardboard': 688, 'stock': 4193, 'red': 3573, 'zombie': 4997, 'subplot': 4255, 'noone': 3022, 'teach': 4370, 'creative': 1054, 'true': 4595, 'sign': 3969, 'weak': 4827, 'satisfying': 3795, 'compelled': 924, 'debut': 1153, 'actor': 107, 'anthony': 263, 'de': 1142, 'forgettable': 1785, 'watches': 4815, 'indie': 2272, 'phantom': 3247, 'lady': 2504, 'crack': 1039, 'noir': 3010, 'top': 4518, 'twenty': 4612, 'classics': 840, 'noted': 3037, 'images': 2231, 'worthwhile': 4955, 'viewing': 4742, 'required': 3644, 'beyond': 484, 'prove': 3442, 'innocence': 2286, 'scott': 3828, 'alan': 179, 'murder': 2927, 'secretary': 3853, 'amateur': 217, 'herself': 2088, 'working': 4945, 'streets': 4218, 'york': 4985, 'putting': 3480, 'honest': 2145, 'belongs': 468, 'due': 1383, 'presence': 3369, 'slightest': 4024, 'sure': 4307, 'dynamic': 1395, 'leading': 2544, 'becomes': 442, 'fault': 1662, 'director': 1266, 'terribly': 4406, 'hidden': 2091, 'pays': 3215, 'late': 2522, 'visit': 4757, 'wandering': 4787, 'cook': 1002, 'jr': 2418, 'information': 2281, 'paint': 3172, 'visiting': 4758, 'jazz': 2381, 'describe': 1198, 'yet': 4984, 'ruin': 3752, 'once': 3099, 'finished': 1725, 'lucky': 2676, 'likely': 2598, 'mainly': 2701, 'rate': 3524, 'bland': 509, 'magnificent': 2699, 'said': 3778, 'safe': 3775, 'fall': 1631, 'clark': 835, 'spoof': 4125, 'edition': 1423, 'living': 2623, 'tad': 4342, 'zombies': 4998, 'silly': 3975, 'paper': 3178, 'dawn': 1139, 'son': 4067, 'bride': 583, 'return': 3667, 'terror': 4410, 'attack': 346, 'flesh': 1744, 'eating': 1413, 'shocking': 3939, 'parody': 3186, 'lame': 2507, 'grade': 1941, 'welles': 4847, 'harry': 2033, 'edited': 1421, 'preview': 3383, 'composer': 937, 'darkness': 1128, 'menace': 2797, 'combined': 890, 'romantic': 3732, 'idea': 2210, 'occurred': 3071, 'present': 3370, 'using': 4700, 'possible': 3346, 'please': 3303, 'bridge': 584, 'deal': 1145, 'tune': 4601, 'hit': 2118, 'referred': 3581, 'disney': 1294, 'somebody': 4059, 'lab': 2498, 'phone': 3253, 'numbers': 3053, 'negative': 2980, 'asked': 326, 'lawrence': 2537, 'cut': 1101, 'involve': 2339, 'convinced': 998, 'needed': 2977, 'footage': 1773, 'sequence': 3886, 'suggested': 4280, 'inspired': 2294, 'treated': 4569, 'wild': 4887, 'jump': 2424, 'space': 4087, 'donald': 1323, 'wind': 4896, 'water': 4817, 'missed': 2855, 'happened': 2019, 'front': 1834, 'process': 3409, 'sexy': 3910, 'replaced': 3636, 'dramatic': 1351, 'exactly': 1547, 'saved': 3799, 'line': 2605, 'guitar': 1988, 'nobody': 3009, 'possibly': 3347, 'dubbing': 1380, 'run': 3757, 'careful': 694, 'built': 623, 'effort': 1433, 'reason': 3554, 'favor': 1664, 'vague': 4706, 'result': 3662, 'maybe': 2768, 'crazy': 1047, 'theyre': 4442, 'gun': 1989, 'battle': 423, 'breaking': 577, 'closing': 862, 'reference': 3579, 'obvious': 3064, 'finish': 1724, 'travel': 4563, 'jungle': 2429, 'connection': 959, 'cannibal': 675, 'family': 1639, 'extreme': 1605, 'crime': 1066, 'century': 742, 'massacre': 2748, 'depicting': 1189, 'self': 3870, 'hint': 2109, 'ruthless': 3768, 'sister': 3998, 'stop': 4200, 'several': 3904, 'green': 1961, 'notorious': 3043, 'string': 4226, 'gore': 1931, 'eighties': 1437, 'engage': 1479, 'contest': 980, 'attempting': 351, 'gory': 1933, 'graphic': 1949, 'display': 1295, 'motion': 2900, 'pictures': 3269, 'less': 2571, 'bollywood': 538, 'location': 2629, 'inept': 2276, 'seriously': 3891, 'apparent': 279, 'conclusion': 947, 'appeared': 286, 'shock': 3937, 'awe': 379, 'basic': 414, 'loose': 2644, 'extent': 1601, 'toward': 4533, 'humans': 2188, 'animals': 250, 'pursuit': 3474, 'sadistic': 3772, 'mention': 2801, 'features': 1674, 'somewhat': 4065, 'onedimensional': 3101, 'visual': 4760, 'grudge': 1975, 'japanese': 2377, 'knows': 2489, 'dealing': 1146, 'intelligent': 2306, 'logic': 2632, 'uses': 4699, 'known': 2488, 'clichés': 850, 'associated': 337, 'imaginative': 2233, 'mere': 2804, 'sequences': 3887, 'purpose': 3472, 'scare': 3807, 'succeeded': 4263, 'flying': 1755, 'colors': 884, 'theater': 4424, 'ill': 2224, 'michelle': 2818, 'stevens': 4184, 'plain': 3285, 'cameo': 661, 'role': 3725, 'linda': 2604, 'party': 3194, 'fancy': 1643, 'cabin': 649, 'van': 4714, 'breaks': 578, 'psycho': 3452, 'catching': 723, 'various': 4716, 'states': 4162, 'direction': 1263, 'horrible': 2161, 'skip': 4013, 'turkey': 4603, 'luke': 2680, 'billy': 490, 'picked': 3265, 'boys': 568, 'gag': 1853, 'under': 4638, 'control': 990, 'adam': 115, 'joe': 2401, 'eat': 1411, 'tall': 4357, 'kate': 2441, 'skills': 4011, 'former': 1791, 'writer': 4967, 'bob': 532, 'promises': 3429, 'related': 3593, 'note': 3036, 'martin': 2742, 'based': 412, 'thomas': 4455, 'novel': 3044, 'alexander': 188, 'critics': 1075, 'mentioning': 2803, 'originality': 3125, 'contain': 975, 'pathetic': 3206, 'overacting': 3144, 'humor': 2190, 'intellectual': 2304, 'belief': 459, 'swedish': 4331, 'act': 101, 'excuse': 1560, 'eva': 1527, 'illogical': 2227, 'disgusting': 1290, 'wouldnt': 4958, 'surprised': 4311, 'kitchen': 2479, 'dinner': 1256, 'cinematic': 820, 'chosen': 809, 'delightful': 1175, 'burt': 635, 'welcome': 4845, 'change': 754, 'depth': 1195, 'emotional': 1458, 'significance': 3970, 'overlooked': 3149, 'treasure': 4567, 'silver': 3976, 'screen': 3833, 'magic': 2697, 'carry': 707, 'daily': 1108, 'serious': 3890, 'theaters': 4425, 'filled': 1701, 'considered': 964, 'fill': 1700, '40': 51, 'virgin': 4751, 'fit': 1731, 'plus': 3310, 'commentary': 907, 'pretty': 3381, 'andy': 240, 'shy': 3962, 'silent': 3974, 'figures': 1699, 'neighbors': 2983, 'whose': 4878, 'band': 398, 'believes': 464, 'secret': 3852, 'revealed': 3673, 'sexual': 3907, 'opposite': 3117, 'passionate': 3202, 'ran': 3511, 'jay': 2380, 'relationship': 3596, 'affected': 146, 'cheating': 781, '13': 7, 'age': 158, 'havent': 2047, 'video': 4735, 'deep': 1163, 'depressing': 1193, 'unit': 4666, 'lee': 2556, 'german': 1887, 'hysterical': 2206, 'whos': 4877, 'tag': 4343, 'holds': 2130, 'check': 782, 'contained': 976, 'tricks': 4581, 'fooled': 1771, 'seemingly': 3864, 'nonsensical': 3020, 'presentation': 3371, 'dislike': 1292, 'genius': 1878, 'beginning': 451, 'confused': 954, 'expect': 1570, 'philosophical': 3251, 'meaning': 2772, 'meaningless': 2774, 'fail': 1619, 'realize': 3547, 'fantasy': 1646, 'length': 2565, 'try': 4599, 'touch': 4526, 'general': 1872, 'diane': 1240, 'la': 2497, 'meets': 2786, 'men': 2796, 'shoot': 3941, 'random': 3512, 'blond': 518, 'rage': 3504, 'overcome': 3146, 'loneliness': 2636, '1st': 30, 'onto': 3107, 'girlfriend': 1900, 'depicts': 1191, 'innocent': 2287, 'wished': 4907, 'acts': 111, 'identity': 2214, 'direct': 1260, 'feeling': 1678, 'reality': 3546, 'choose': 806, 'expression': 1598, 'hated': 2041, 'turned': 4606, 'ultimate': 4628, 'clumsy': 869, 'survival': 4318, 'taking': 4347, 'club': 866, 'hear': 2056, 'shake': 3913, 'blue': 526, 'box': 564, 'opens': 3111, 'reminds': 3620, 'actual': 112, 'creation': 1053, 'arrived': 311, 'troubled': 4592, 'specifically': 4099, 'designed': 1207, 'unfortunate': 4657, 'condition': 948, 'ultimately': 4629, 'intended': 2307, 'disagree': 1271, 'coherent': 874, 'artistic': 318, 'example': 1549, 'spent': 4107, 'argue': 300, 'write': 4966, 'author': 368, 'maker': 2707, 'exciting': 1559, 'areas': 297, 'arent': 298, 'primarily': 3391, 'rule': 3755, 'immediately': 2238, 'understandable': 4643, 'interpretation': 2320, 'art': 314, 'drags': 1347, 'loses': 2650, 'visuals': 4762, 'perfection': 3223, 'understood': 4647, 'value': 4710, 'common': 914, 'compared': 921, 'countries': 1026, 'eastern': 1408, 'controversial': 992, 'communist': 915, 'false': 1635, 'era': 1511, 'fight': 1693, 'prison': 3399, 'describes': 1200, 'released': 3602, '60s': 57, 'asks': 328, 'types': 4623, 'crimes': 1067, 'tough': 4530, 'acted': 102, 'glimpse': 1910, 'fabulous': 1609, 'suffering': 4277, 'sometimes': 4064, 'details': 1222, 'comics': 902, 'important': 2243, 'moral': 2890, 'values': 4711, 'lose': 2648, 'friends': 1830, 'comedies': 895, 'express': 1596, 'step': 4176, 'heavily': 2065, 'relies': 3605, 'jokes': 2409, 'toilet': 4507, 'attached': 345, 'simon': 3980, 'hilarious': 2101, 'portrayal': 3337, 'quickly': 3490, 'england': 1482, 'frost': 1835, 'edgar': 1418, 'yourself': 4993, 'food': 1769, 'chain': 746, 'hard': 2025, 'received': 3561, 'fairly': 1625, 'positive': 3342, 'majority': 2705, 'flop': 1751, 'faith': 1627, 'whenever': 4864, 'jeff': 2384, 'bridges': 585, 'huston': 2204, 'surprisingly': 4314, 'however': 2181, 'interview': 2321, 'vampire': 4712, 'fast': 1655, 'suffer': 4275, 'consequences': 961, 'land': 2508, 'tedious': 4385, '60': 56, '20': 31, 'shallow': 3916, 'lake': 2506, 'boot': 546, 'website': 4837, 'earth': 1403, 'filmthe': 1711, 'usually': 4702, 'lets': 2576, 'tunes': 4602, 'jason': 2378, 'particular': 3188, 'rocky': 3722, 'london': 2634, 'filming': 1706, 'drag': 1344, 'full': 1841, 'tim': 4489, 'drug': 1374, 'british': 596, 'underlying': 4640, 'themes': 4431, 'obviously': 3065, 'entertaining': 1497, 'waste': 4809, 'timei': 4491, 'meant': 2776, 'surreal': 4315, 'hand': 2008, 'fake': 1629, 'unnecessary': 4676, 'attraction': 357, 'anyone': 268, 'started': 4156, 'half': 2001, 'against': 157, 'painfully': 3171, 'cliché': 848, 'word': 4938, 'laughable': 2528, 'poorly': 3325, 'ridiculous': 3693, 'despite': 1215, 'expecting': 1573, 'discuss': 1287, 'rock': 3719, 'sand': 3785, 'pretentious': 3380, 'korean': 2491, 'theatre': 4426, 'ugly': 4626, 'relief': 3604, 'eve': 1528, 'jennifer': 2386, 'cinderella': 817, 'garden': 1863, 'matthew': 2764, 'prince': 3394, 'jean': 2383, 'fairy': 1626, 'southern': 4085, 'characterization': 764, 'steve': 4182, 'tiny': 4496, 'comments': 909, 'thrown': 4478, 'older': 3096, 'children': 798, 'ages': 163, 'tired': 4497, 'annoying': 259, 'allow': 198, 'somewhere': 4066, 'early': 1400, '40s': 52, 'sheer': 3925, 'flawed': 1741, 'seat': 3848, 'recent': 3563, 'border': 547, 'afraid': 150, 'chose': 808, 'realm': 3553, 'senses': 3878, 'sexually': 3909, 'banned': 402, 'initially': 2284, 'japan': 2376, 'driver': 1368, 'younger': 4990, 'sleeping': 4021, 'willing': 4892, 'affair': 143, 'count': 1024, 'village': 4745, 'visually': 4761, 'shadows': 3912, 'passion': 3201, 'mood': 2886, 'watchable': 4813, 'creepy': 1063, 'territory': 4409, 'married': 2736, 'told': 4508, 'thousand': 4462, 'innovative': 2288, 'kinds': 2473, 'hold': 2128, 'ideas': 2212, 'wish': 4906, 'explain': 1582, 'spike': 4109, 'prior': 3398, 'trailers': 4551, 'admire': 128, 'washington': 4807, 'dvds': 1393, 'disappointed': 1276, 'advice': 141, 'wasting': 4811, 'assume': 338, 'sappy': 3789, 'page': 3166, 'budget': 616, 'blockbuster': 517, 'media': 2780, 'hype': 2205, 'promised': 3428, 'ron': 3735, 'howard': 2180, 'justice': 2433, 'atrocious': 344, 'sorry': 4073, 'pitiful': 3278, 'implausible': 2241, 'lousy': 2659, 'hey': 2090, 'thank': 4418, 'foster': 1800, 'three': 4466, 'weeks': 4842, 'peoples': 3220, 'problems': 3406, 'unbelievable': 4632, 'bother': 557, 'officer': 3087, 'inside': 2290, 'hed': 2068, 'corpses': 1013, 'led': 2555, 'cop': 1005, 'allowing': 200, 'claimed': 832, 'struggle': 4233, 'face': 1610, 'prevent': 3382, 'cops': 1007, 'desperate': 1212, 'situation': 4005, 'guys': 1994, 'outside': 3141, 'taken': 4345, 'city': 829, 'reduced': 3576, 'plans': 3291, 'send': 3874, 'home': 2141, 'department': 1187, 'country': 1027, 'allowed': 199, 'white': 4871, 'authority': 369, 'besides': 475, 'christopher': 814, 'sold': 4049, 'accent': 83, 'recording': 3572, '100': 1, 'totally': 4525, 'suspects': 4325, 'individuals': 2274, 'elderly': 1441, 'break': 576, 'seeing': 3858, 'demand': 1181, 'included': 2258, 'pretending': 3379, 'wall': 4783, 'room': 3737, 'week': 4840, 'fallen': 1632, 'target': 4362, 'failure': 1623, 'movement': 2910, 'mediocre': 2782, 'hopefully': 2155, 'insight': 2291, 'money': 2877, 'episode': 1505, 'spoilers': 4122, 'rarely': 3522, 'choices': 805, 'program': 3421, 'low': 2668, 'minimum': 2842, 'queen': 3483, 'wide': 4881, 'open': 3108, 'fighting': 1695, 'themselves': 4432, 'sympathetic': 4337, 'charm': 772, 'hoped': 2154, 'minimal': 2841, 'creatures': 1058, 'apparently': 280, 'sad': 3771, 'entry': 1502, 'field': 1690, 'questions': 3488, 'beat': 432, 'spoiled': 4120, 'oh': 3091, 'blatant': 511, 'ripoff': 3701, 'stuff': 4242, 'levels': 2581, 'sleazy': 4019, 'deliver': 1176, 'idiot': 2215, 'occasionally': 3068, 'toys': 4537, 'tarzan': 4363, 'rubber': 3749, 'whilst': 4870, 'screaming': 3831, 'slightly': 4025, 'threatening': 4465, 'painful': 3170, '80s': 61, 'aliens': 193, 'trapped': 4560, 'aging': 164, 'security': 3856, 'guard': 1978, 'begin': 450, 'minds': 2838, 'guards': 1979, 'repeated': 3631, 'gang': 1858, 'adventures': 139, 'hero': 2083, 'lacking': 2501, 'confidence': 951, 'wishing': 4909, 'infamous': 2278, 'trained': 4553, 'army': 305, 'style': 4249, 'blowing': 523, 'train': 4552, 'wreck': 4964, 'fare': 1649, 'fashion': 1654, 'dare': 1124, 'scores': 3827, 'captain': 680, 'ghosts': 1894, 'jackson': 2370, 'yeah': 4977, 'complain': 928, 'hearing': 2058, 'trip': 4586, 'heaven': 2064, 'lower': 2670, 'mike': 2826, 'starring': 4153, 'anne': 256, 'australia': 365, 'offers': 3085, 'scenery': 3815, 'fantastic': 1645, 'area': 296, 'recently': 3564, 'period': 3234, 'sleep': 4020, 'decided': 1158, 'revealing': 3674, 'fellow': 1683, 'vampires': 4713, 'meanwhile': 2777, 'jesse': 2390, 'supernatural': 4301, 'ancient': 234, 'tree': 4572, 'obsessed': 3062, 'paul': 3212, 'understands': 4645, 'obsession': 3063, 'vincent': 4748, 'encounter': 1465, 'damned': 1112, 'concert': 946, 'valley': 4708, 'news': 2992, 'angry': 248, 'bar': 403, 'path': 3205, 'care': 690, 'aunt': 362, 'join': 2406, 'locations': 2630, 'sadly': 3773, 'passed': 3197, 'plane': 3287, 'shortly': 3946, 'premiere': 3366, '1010': 3, 'underrated': 4641, 'upon': 4686, 'bought': 561, 'mix': 2865, 'suspense': 4326, 'romance': 3731, 'wit': 4910, 'bat': 418, 'contact': 974, 'speaks': 4095, 'english': 1483, 'writers': 4969, 'pay': 3213, 'close': 855, 'shame': 3917, 'exposure': 1595, 'recognition': 3565, 'stay': 4167, 'production': 3416, 'seasons': 3847, 'miniseries': 2843, 'noise': 3011, 'convince': 997, 'producers': 3413, 'particularly': 3189, 'corrupt': 1015, 'stark': 4151, 'photography': 3258, 'warner': 4800, 'flat': 1739, 'poster': 3349, 'narrator': 2956, 'advance': 135, 'causes': 732, 'suppose': 4304, 'hang': 2015, 'leader': 2543, 'lawyer': 2538, 'runs': 3760, 'thugs': 4480, 'finds': 1719, 'andrews': 239, 'dick': 1241, 'spends': 4106, 'evidence': 1542, 'fights': 1696, 'private': 3402, 'keith': 2446, 'da': 1106, 'displays': 1297, 'elsewhere': 1449, 'speaking': 4094, 'staring': 4150, 'floor': 1750, 'likable': 2595, 'drunk': 1376, 'suitable': 4284, 'union': 4664, 'mob': 2868, 'learn': 2547, 'spanish': 4091, 'holes': 2132, 'visits': 4759, 'witness': 4915, 'enters': 1494, 'orders': 3121, 'ashamed': 322, 'stayed': 4168, 'scarlett': 3811, 'outfit': 3138, 'lonely': 2637, 'alcoholic': 185, 'literature': 2617, 'cry': 1085, 'bathroom': 421, 'staying': 4169, 'alive': 195, 'fonda': 1768, 'directs': 1269, 'warn': 4798, 'veteran': 4727, 'depiction': 1190, 'soldiers': 4051, 'returning': 3669, 'imagine': 2234, 'research': 3647, 'fresh': 1826, 'shelf': 3926, 'turns': 4609, 'endless': 1473, 'chases': 776, 'chase': 774, 'quinn': 3492, 'terrorist': 4411, 'rare': 3521, 'carries': 706, 'draw': 1352, 'sutherland': 4329, 'agent': 161, 'ben': 471, 'multiple': 2924, 'thrillers': 4470, 'captured': 683, 'portrayed': 3338, 'frightening': 1832, 'convincing': 999, 'soundtrack': 4082, 'mentioned': 2802, 'qualities': 3481, 'dumb': 1386, 'andor': 237, 'unconvincing': 4636, 'loud': 2657, 'villain': 4746, 'repeatedly': 3632, 'costumes': 1020, '25': 43, 'freddy': 1819, 'chicago': 790, 'festival': 1686, '2007': 39, 'uninspired': 4660, 'originally': 3126, 'fool': 1770, 'paying': 3214, 'promise': 3427, 'documentary': 1311, 'madefortv': 2691, 'sentimental': 3882, 'piano': 3263, 'sitting': 4004, 'hotel': 2173, 'rooms': 3738, 'narration': 2954, 'redeeming': 3574, 'aspects': 331, 'interviews': 2322, 'irrelevant': 2350, 'eye': 1607, 'witnesses': 4917, 'company': 919, 'brian': 582, 'shed': 3923, 'segments': 3869, 'agency': 160, 'sexuality': 3908, 'delivering': 1178, 'montage': 2882, 'clean': 842, 'empty': 1464, 'legend': 2560, 'deserve': 1203, 'remembered': 3617, 'channel': 758, 'biography': 492, 'sunday': 4292, 'citizen': 827, 'song': 4068, 'benefit': 473, 'event': 1531, 'musicians': 2938, 'europe': 1525, 'sentence': 3881, 'sat': 3791, 'rolled': 3728, 'serial': 3888, 'calling': 657, 'soviet': 4086, 'killers': 2466, 'attitude': 354, 'sits': 4003, 'station': 4164, 'keeping': 2444, 'wearing': 4834, 'warm': 4796, 'affect': 145, 'trial': 4576, 'ourselves': 3134, 'legs': 2562, 'investigation': 2336, 'uninteresting': 4663, 'political': 3320, 'colin': 878, 'wilson': 4894, 'center': 739, 'controlled': 991, 'radio': 3503, 'letters': 2578, 'cuba': 1088, 'concept': 941, 'becoming': 443, 'remote': 3622, 'forest': 1782, 'pleasant': 3301, 'stretch': 4221, 'robbery': 3712, '2nd': 44, 'realise': 3543, 'load': 2625, 'court': 1033, 'date': 1130, 'logical': 2633, 'horribly': 2162, 'black': 502, 'large': 2515, 'intelligence': 2305, 'resources': 3654, 'sympathy': 4338, 'blows': 525, 'revolutionary': 3683, 'filmmaking': 1709, 'sensitive': 3879, 'teachers': 4372, 'eventually': 1533, 'juvenile': 2436, 'conversations': 995, 'trouble': 4591, 'sucks': 4271, 'waiting': 4775, 'easy': 1410, 'structure': 4232, 'road': 3710, 'lasted': 2520, 'thirty': 4453, 'useful': 4696, 'sit': 4000, 'lesson': 2573, 'unique': 4665, 'decisions': 1161, 'cheated': 780, 'worry': 4950, 'drugs': 1375, 'crude': 1081, 'behavior': 454, 'youve': 4995, 'longer': 2639, 'entertainment': 1498, 'trash': 4561, 'street': 4217, 'corner': 1010, 'excited': 1557, 'ready': 3541, 'minute': 2846, 'cause': 730, 'renting': 3629, 'asian': 323, 'protagonists': 3439, 'drop': 1371, 'broad': 597, 'dozens': 1341, 'press': 3375, 'sight': 3968, 'unfair': 4653, 'mistakes': 2861, 'conditions': 949, 'effectively': 1431, 'safety': 3776, 'victims': 4732, 'surely': 4308, 'unrealistic': 4679, 'asleep': 329, 'feet': 1681, 'sorts': 4075, 'activities': 106, 'tons': 4514, 'odd': 3074, 'absurd': 77, 'brutal': 610, 'followed': 1764, 'california': 654, 'awhile': 383, 'familiar': 1637, 'precious': 3360, 'surprise': 4310, 'heart': 2059, 'ice': 2208, 'wet': 4857, 'wait': 4773, 'discover': 1282, 'idiots': 2217, 'villains': 4747, 'comedic': 894, 'wars': 4805, 'succeed': 4262, 'hence': 2078, 'rental': 3627, 'definitely': 1171, 'drink': 1363, 'screening': 3834, 'incredibly': 2266, 'cinematographer': 821, 'sides': 3966, 'hundreds': 2194, 'exact': 1546, 'worked': 4942, 'smoke': 4035, 'ass': 332, 'shorts': 3947, 'lots': 2655, 'central': 741, 'presents': 3373, 'woods': 4936, 'cousin': 1034, 'sitcom': 4001, '70s': 59, 'ted': 4384, 'gives': 1904, 'bergman': 474, 'john': 2403, 'cassavetes': 716, 'rich': 3687, 'opinions': 3114, 'francis': 1810, 'ellen': 1447, 'roger': 3723, 'bruce': 608, 'dennis': 1185, 'hopper': 2159, 'jon': 2410, 'nicholson': 2998, 'studios': 4240, 'attitudes': 355, 'politics': 3322, 'sex': 3906, 'race': 3498, 'americas': 226, 'involvement': 2341, 'conflicts': 953, 'vietnam': 4737, 'conversation': 994, 'hal': 2000, 'clear': 843, 'soldier': 4050, 'society': 4046, 'facing': 1614, 'talks': 4356, 'methods': 2813, 'achieve': 97, 'al': 178, 'panic': 3176, 'jumping': 2426, 'examples': 1550, 'seventies': 3903, 'folks': 1762, 'today': 4503, 'shop': 3944, 'stand': 4141, 'contemporary': 978, 'dig': 1251, 'modern': 2872, 'buff': 617, 'likes': 2599, 'el': 1439, 'outer': 3137, 'aspect': 330, 'cost': 1017, 'constant': 970, 'fx': 1852, 'attracted': 356, 'technology': 4383, 'emotions': 1460, 'impact': 2240, 'nowadays': 3047, 'cheesy': 786, 'slasher': 4017, 'cover': 1035, 'match': 2755, 'chainsaw': 747, 'cold': 876, 'weekend': 4841, 'murdered': 2928, 'unknown': 4671, 'hunting': 2199, 'dangerous': 1121, 'cheap': 779, 'scripted': 3839, 'perform': 3225, 'intentions': 2313, 'specific': 4098, 'useless': 4697, 'including': 2260, 'victim': 4731, 'girls': 1901, 'virtually': 4753, 'served': 3893, 'aside': 324, 'bmovie': 528, '30': 45, 'miles': 2831, 'technical': 4379, 'points': 3317, 'afternoon': 154, 'house': 2176, 'darker': 1127, 'lights': 2594, 'camera': 663, 'building': 620, 'disappointment': 1278, 'hardly': 2028, 'player': 3297, 'cult': 1089, 'flicks': 1746, 'utterly': 4704, 'horrendous': 2160, 'power': 3354, 'realism': 3544, 'consists': 968, 'pass': 3195, 'landing': 2509, 'ball': 396, 'held': 2070, 'skill': 4010, 'construction': 973, 'tradition': 4544, 'itthis': 2366, 'kung': 2494, 'fu': 1839, 'chuck': 815, 'evident': 1543, 'beautifully': 437, 'versions': 4724, 'air': 173, 'roman': 3730, 'beauty': 438, 'portraying': 3339, 'biggest': 488, 'greatest': 1957, 'forms': 1792, 'comparison': 923, 'scientific': 3821, 'friend': 1828, '2005': 37, 'realized': 3548, 'thoughts': 4461, 'animal': 249, 'mars': 2738, 'creating': 1052, 'historical': 2115, 'performed': 3228, 'russian': 3766, 'naturally': 2963, 'curiosity': 1094, 'fell': 1682, 'scientist': 3822, 'spread': 4131, 'comment': 906, 'spectacular': 4100, 'eddie': 1417, 'resemblance': 3648, 'starred': 4152, 'contract': 986, 'players': 3298, 'sent': 3880, 'nervous': 2987, 'sounding': 4080, 'ralph': 3509, 'patient': 3208, 'nominated': 3013, 'western': 4855, 'liberal': 2583, 'ryan': 3769, 'began': 449, 'westerns': 4856, 'retired': 3666, 'pacing': 3161, 'weve': 4858, 'naked': 2948, 'dancing': 1118, 'porn': 3332, 'tries': 4583, 'mask': 2746, '1970s': 19, 'lay': 2539, 'blame': 508, 'competent': 926, 'psychotic': 3454, 'shooting': 3942, 'gratuitous': 1952, 'imagery': 2230, 'hardcore': 2026, 'practically': 3357, 'spite': 4115, 'tied': 4485, 'socalled': 4043, 'dull': 1385, 'clint': 853, 'jimmy': 2397, 'stewart': 4185, 'thrills': 4472, 'represented': 3640, 'freedom': 1821, 'folk': 1761, 'hurt': 2200, 'strictly': 4222, 'environment': 1503, 'heroes': 2084, 'fear': 1669, 'goal': 1916, 'indians': 2271, 'gray': 1954, 'fortune': 1797, 'follows': 1766, 'trail': 4549, 'joined': 2407, 'walter': 4786, 'nevertheless': 2990, 'doubt': 1333, 'earned': 1401, 'described': 1199, 'serves': 3894, 'dust': 1389, 'recognize': 3566, 'necessarily': 2972, 'notion': 3042, 'distance': 1298, 'filmi': 1705, 'gorgeous': 1932, 'painted': 3173, 'focuses': 1759, 'interaction': 2314, 'adventure': 138, 'static': 4163, 'mans': 2722, 'decent': 1156, 'greater': 1956, 'strength': 4219, 'eastwood': 1409, 'wayne': 4824, 'understated': 4646, 'touching': 4529, 'altogether': 213, 'judge': 2419, 'deserves': 1205, 'returns': 3670, 'balls': 397, 'loaded': 2626, 'barely': 406, 'raises': 3508, 'thin': 4446, 'oneliners': 3102, 'murderous': 2930, 'fans': 1644, 'hoping': 2158, 'prepared': 3368, 'accept': 85, 'merely': 2805, 'beach': 428, 'voiceover': 4766, 'barry': 409, 'australian': 366, 'les': 2568, 'gags': 1854, 'sick': 3963, 'virus': 4754, 'ii': 2222, 'max': 2766, 'miller': 2833, 'satan': 3792, 'combination': 888, 'conventional': 993, 'mixed': 2866, 'charles': 769, 'driving': 1370, 'daughter': 1133, 'trio': 4585, 'approach': 292, 'jones': 2412, 'doc': 1307, 'robinson': 3716, 'priest': 3390, 'moore': 2889, 'standout': 4145, 'unfunny': 4659, 'amazed': 219, 'fat': 1657, 'greek': 1960, 'wedding': 4839, 'everybody': 1536, 'italian': 2359, 'sheen': 3924, 'bates': 419, 'superb': 4295, 'terrific': 4407, 'wrapped': 4963, 'setting': 3898, 'relatives': 3600, 'combat': 887, 'explaining': 1584, 'wore': 4940, 'priceless': 3388, 'crisis': 1071, 'gripping': 1965, 'steals': 4173, 'jeremy': 2387, 'mark': 2731, 'workers': 4944, 'emma': 1456, 'changed': 755, 'imagined': 2235, 'uk': 4627, 'jane': 2375, 'absolute': 75, 'board': 530, 'machine': 2686, 'roof': 3736, 'drives': 1369, 'criminal': 1068, 'allows': 201, 'understanding': 4644, 'criminals': 1069, 'ordinary': 3122, 'families': 1638, 'code': 872, 'honor': 2149, 'include': 2257, 'copy': 1008, 'twin': 4615, 'fame': 1636, 'rome': 3733, 'summer': 4290, 'jobs': 2400, 'fired': 1727, 'derek': 1196, 'stone': 4197, 'slowly': 4028, 'artists': 319, 'leslie': 2570, 'camerawork': 665, 'rubbish': 3750, 'africa': 151, '50s': 55, 'alltime': 202, 'airport': 176, 'poetry': 3312, 'bored': 549, 'tears': 4378, 'planning': 3290, '11': 4, 'angels': 244, 'featuring': 1675, 'tame': 4358, 'luckily': 2675, 'extras': 1604, 'photo': 3255, 'trailer': 4550, 'arguably': 299, '90s': 63, 'reactions': 3537, 'regular': 3591, 'mustsee': 2940, 'khan': 2454, 'months': 2884, 'lately': 2523, 'wear': 4833, 'segment': 3868, 'clips': 854, 'site': 4002, 'intentionally': 2312, 'wanna': 4788, 'report': 3637, 'laughing': 2531, 'entertained': 1496, 'chris': 810, 'host': 2171, 'baby': 386, 'mid': 2820, 'portray': 3336, 'wears': 4835, 'hat': 2039, 'zero': 4996, 'truck': 4594, 'difference': 1247, 'equally': 1508, 'goofy': 1929, 'sticks': 4187, 'twilight': 4614, 'zone': 4999, 'resulting': 3663, 'lands': 2510, 'hospital': 2170, 'kick': 2455, 'button': 645, 'dollars': 1319, 'cash': 715, 'purely': 3470, 'morality': 2891, 'culture': 1091, 'relatively': 3599, 'guarantee': 1977, 'explosions': 1592, 'heck': 2067, 'personally': 3240, 'turn': 4605, 'disbelief': 1280, 'animated': 251, 'source': 4083, 'ruined': 3753, 'animation': 252, 'pity': 3280, 'creators': 1056, 'twice': 4613, 'hire': 2112, 'showcase': 3955, 'duo': 1387, 'sunshine': 4293, 'alongside': 206, 'neil': 2984, 'matthau': 2763, 'lewis': 2582, 'bitter': 500, 'commercial': 910, 'richard': 3688, 'burns': 634, 'cole': 877, 'clown': 865, 'manhattan': 2718, 'ties': 4486, 'glorious': 1912, 'apartment': 275, 'photos': 3259, 'cartoons': 712, 'walls': 4785, 'picks': 3267, '1972': 20, 'won': 4925, 'gentle': 1881, 'brings': 594, 'makeup': 2710, 'proud': 3441, 'selling': 3873, 'obnoxious': 3060, 'fully': 1842, 'root': 3739, 'enjoying': 1487, 'patience': 3207, 'reunion': 3671, 'fire': 1726, 'hot': 2172, 'ross': 3742, 'shoots': 3943, 'grace': 1940, 'quiet': 3491, 'subjects': 4254, 'marriage': 2735, 'singer': 3992, 'victor': 4733, 'fox': 1805, 'jonathan': 2411, 'spots': 4130, 'row': 3747, 'calls': 658, 'depressed': 1192, 'broken': 602, 'decides': 1159, 'fly': 1754, 'funeral': 1844, 'mate': 2757, 'weird': 4844, 'bizarre': 501, 'julie': 2422, 'underground': 4639, 'hitchcock': 2120, 'brazil': 575, 'proof': 3431, 'household': 2177, 'anime': 253, 'reached': 3532, 'status': 4166, 'countless': 1025, 'bigger': 487, 'scope': 3825, 'overly': 3150, 'pointless': 3316, 'battles': 424, 'respected': 3656, 'ship': 3933, 'commander': 905, 'academy': 82, 'tight': 4487, 'threat': 4464, 'invasion': 2332, 'class': 836, 'dragged': 1345, 'speed': 4102, 'base': 410, 'aged': 159, 'episodes': 1506, 'coach': 870, 'believed': 463, 'suited': 4285, 'perfectly': 3224, 'latter': 2526, 'generic': 1876, 'buying': 647, 'dragon': 1346, 'progresses': 3423, 'epic': 1504, 'neither': 2985, 'concerning': 944, 'numerous': 3054, 'fits': 1732, 'exceptionally': 1555, 'six': 4007, 'changing': 757, 'attacks': 348, 'avoided': 373, 'heroic': 2085, 'dealt': 1148, 'cared': 691, 'abandoned': 66, 'continues': 984, 'ignored': 2221, 'raped': 3520, 'boyfriend': 567, 'pregnant': 3364, 'displayed': 1296, 'fed': 1676, 'stood': 4198, 'closer': 858, 'rented': 3628, 'library': 2584, 'grown': 1973, 'surrounded': 4316, 'spring': 4132, 'successful': 4266, 'angel': 241, 'hooked': 2152, 'category': 725, 'kicks': 2458, 'rocks': 3721, 'keeps': 2445, 'faces': 1612, 'relevant': 3603, 'shut': 3961, 'favorites': 1666, 'directly': 1265, 'vein': 4720, 'et': 1524, 'trademark': 4543, 'measure': 2778, 'appreciate': 289, 'forward': 1799, 'seagal': 3842, 'transformation': 4556, 'shadow': 3911, 'dirty': 1270, 'continued': 983, 'headed': 2052, 'facts': 1618, 'meat': 2779, 'america': 223, 'objective': 3058, 'requires': 3645, 'worlds': 4948, 'accomplished': 92, 'plight': 3307, 'ripped': 3702, 'despair': 1211, 'community': 916, 'service': 3895, 'badly': 391, 'rural': 3761, 'lou': 2656, 'disease': 1289, 'chair': 748, 'loves': 2666, 'comfortable': 899, 'computer': 938, 'finding': 1718, 'gere': 1886, 'rob': 3711, 'according': 93, 'thrill': 4468, 'unusual': 4682, 'heroine': 2087, 'mainstream': 2702, 'cute': 1102, 'carter': 710, 'kenneth': 2450, 'richards': 3689, 'flight': 1748, 'twisted': 4618, 'luck': 2674, 'teacher': 4371, 'print': 3397, 'size': 4009, 'government': 1938, 'cultural': 1090, 'importance': 2242, 'shape': 3918, 'wake': 4776, 'astonishing': 339, 'whereas': 4866, 'leonard': 2567, 'turner': 4607, 'march': 2725, 'undoubtedly': 4650, 'constructed': 972, 'beloved': 469, 'newspaper': 2993, 'antics': 264, 'difficult': 1250, 'drew': 1362, 'shes': 3929, 'dance': 1114, 'friendly': 1829, 'recall': 3559, 'committed': 913, 'suicide': 4282, 'makers': 2708, 'twist': 4617, 'connery': 960, 'harris': 2031, 'bobby': 533, 'ridiculously': 3694, 'morgan': 2893, 'freeman': 1822, 'nose': 3029, 'funnier': 1845, 'punk': 3464, 'persona': 3236, 'factor': 1616, 'theme': 4430, 'confusion': 956, 'harvey': 2036, 'lacks': 2502, 'che': 778, 'defined': 1169, 'generation': 1874, 'revolution': 3682, 'property': 3435, 'timing': 4494, 'confusing': 955, 'distracting': 1301, 'consistently': 967, 'gary': 1865, 'handsome': 2014, 'commit': 912, 'scenario': 3813, 'maria': 2727, 'incredible': 2265, 'guilty': 1987, 'smaller': 4030, 'apart': 274, 'whoever': 4873, 'repeating': 3633, 'unoriginal': 4677, 'winter': 4904, 'fought': 1801, 'hints': 2110, 'memory': 2795, 'conflict': 952, 'image': 2229, 'touched': 4527, 'forgot': 1787, 'lord': 2646, 'relate': 3592, 'titanic': 4498, 'cringe': 1070, 'figured': 1698, 'pile': 3274, 'save': 3798, 'sequel': 3884, 'saving': 3801, 'torn': 4521, 'avoid': 372, 'synopsis': 4339, 'darn': 1129, 'bare': 405, 'chest': 789, 'cliff': 851, 'feelings': 1679, 'idiotic': 2216, 'soul': 4076, 'lone': 2635, 'ranger': 3515, 'indian': 2270, 'possessed': 3343, 'protect': 3440, 'native': 2961, 'kept': 2451, 'memories': 2794, 'adult': 133, 'league': 2546, 'douglas': 1336, 'kennedy': 2449, 'moody': 2887, 'students': 4238, 'baldwin': 395, 'oliver': 3097, 'randy': 3513, 'rachel': 3499, 'nelson': 2986, 'experiment': 1578, 'experiences': 1577, 'stopped': 4201, 'childhood': 796, 'flashbacks': 1738, 'childrens': 799, 'disturbed': 1302, 'physically': 3262, 'careers': 693, 'intriguing': 2327, '17': 12, 'joel': 2402, 'track': 4538, 'wes': 4853, 'anyones': 269, '50': 54, 'judging': 2420, 'cure': 1093, 'thousands': 4463, 'talents': 4351, 'dreadful': 1356, 'lit': 2615, 'camp': 667, 'smile': 4032, 'iti': 2361, 'sake': 3779, 'hate': 2040, 'ignore': 2220, 'arrested': 308, 'locked': 2631, 'cell': 737, 'halfway': 2002, 'across': 100, 'escaped': 1516, 'summary': 4289, 'achieved': 98, 'screens': 3836, 'doomed': 1328, 'hopeless': 2156, 'crush': 1084, 'desires': 1210, 'iron': 2346, 'catches': 722, 'bright': 588, 'bear': 429, 'closeups': 861, 'flaw': 1740, 'millions': 2835, 'dear': 1150, 'hearts': 2061, 'briefly': 587, 'viewings': 4743, 'overlong': 3148, 'triumph': 4588, 'kane': 2437, 'opened': 3109, 'owner': 3156, 'dedicated': 1162, 'subtlety': 4261, 'phrase': 3260, 'golden': 1923, 'regret': 3590, 'basement': 413, 'amusing': 231, 'north': 3028, 'saves': 3800, 'huh': 2185, 'warmth': 4797, 'commercials': 911, 'carmen': 699, 'stereotypical': 4181, 'rush': 3762, 'purchased': 3468, 'sharp': 3921, 'crowd': 1079, 'capture': 682, 'reveals': 3675, 'travels': 4565, 'isolated': 2355, 'appeal': 281, 'masses': 2749, 'drunken': 1377, 'bottom': 560, 'credit': 1061, 'eager': 1397, 'mistaken': 2860, 'learning': 2549, 'ease': 1404, 'growing': 1972, '16': 11, 'matches': 2756, 'grows': 1974, 'juliet': 2423, 'walker': 4780, 'austin': 364, 'adaptations': 118, 'chinese': 803, '30s': 47, 'china': 802, 'desire': 1208, 'trade': 4542, 'purposes': 3473, 'united': 4667, 'kingdom': 2475, 'horses': 2169, 'ian': 2207, 'snake': 4038, 'inappropriate': 2255, 'destiny': 1216, 'screams': 3832, '1990s': 26, 'slave': 4018, 'masters': 2754, 'walked': 4778, 'steven': 4183, 'absent': 74, 'lovers': 2665, 'grand': 1944, 'hollywoods': 2137, 'navy': 2965, 'remotely': 3623, 'accurate': 95, 'anybody': 266, 'spot': 4129, 'belong': 467, 'standards': 4143, 'similarly': 3979, 'doug': 1335, 'passing': 3200, 'knowledge': 2487, 'gods': 1919, 'heres': 2082, 'crappy': 1044, 'neighborhood': 2982, 'giant': 1896, 'rat': 3523, 'spoiler': 4121, 'gonna': 1926, 'couldve': 1023, 'rely': 3608, 'conceived': 940, 'college': 880, 'drinking': 1364, 'appear': 283, 'continuity': 985, 'laughably': 2529, 'scarecrow': 3808, '2002': 34, 'crap': 1043, 'explosion': 1591, '110': 5, 'ya': 4976, 'mixture': 2867, 'troubles': 4593, 'humorous': 2191, 'youd': 4987, 'searching': 3845, 'accused': 96, 'involves': 2342, 'quest': 3485, 'movements': 2911, 'clues': 868, 'nearby': 2969, 'names': 2952, 'encounters': 1466, 'resort': 3653, 'mario': 2729, 'essentially': 1521, 'nonetheless': 3017, 'fulci': 1840, 'giallo': 1895, 'womans': 4922, 'skin': 4012, 'provides': 3447, 'color': 882, 'scheme': 3817, 'fitting': 1733, 'vhs': 4728, 'international': 2318, 'subtitles': 4259, 'crucial': 1080, 'bonus': 543, 'highlights': 2099, 'moon': 2888, 'mission': 2858, 'namely': 2951, 'alternate': 210, 'wise': 4905, 'managed': 2715, 'catch': 721, 'franco': 1812, 'recorded': 3571, 'spaghetti': 4089, 'rendition': 3625, 'titled': 4500, 'pride': 3389, 'vengeance': 4721, '1968': 18, 'broadcast': 598, 'disc': 1281, 'properly': 3434, 'gas': 1866, 'typically': 4625, 'letter': 2577, 'knight': 2483, 'tony': 4515, 'larry': 2518, 'cards': 689, 'duke': 1384, 'charge': 766, 'officers': 3088, 'cgi': 745, 'catherine': 726, 'spend': 4104, 'disappoint': 1275, 'colorful': 883, 'lesbian': 2569, 'entertain': 1495, 'develop': 1225, 'adams': 116, 'anywhere': 273, 'sarah': 3790, 'wanting': 4792, 'worthless': 4954, 'loser': 2649, 'bet': 477, 'chances': 753, 'blonde': 519, 'listen': 2613, 'hole': 2131, 'list': 2611, 'dire': 1259, 'weight': 4843, 'dialogues': 1238, 'firm': 1728, 'dry': 1378, 'cars': 709, 'throat': 4473, 'punch': 3462, 'lying': 2682, 'table': 4341, 'claims': 833, 'comical': 901, 'views': 4744, '1950s': 16, 'versus': 4725, '90': 62, 'setup': 3901, 'promising': 3430, 'burning': 633, 'valuable': 4709, 'horse': 2168, 'reflection': 3583, 'sole': 4052, 'individual': 2273, 'ironically': 2348, 'reflect': 3582, 'demands': 1182, 'inner': 2285, 'farm': 1650, 'cat': 720, 'compelling': 925, 'grim': 1964, 'absence': 73, 'bleak': 512, 'desert': 1202, 'thanks': 4420, 'god': 1917, 'fate': 1659, 'disappears': 1274, 'sends': 3875, 'cup': 1092, 'tea': 4369, 'lived': 2620, 'grew': 1962, 'exception': 1553, 'frequently': 1825, 'abused': 79, 'wounded': 4961, 'unable': 4630, 'desperately': 1213, 'receive': 3560, 'jail': 2371, 'rape': 3519, 'matrix': 2759, 'woo': 4933, 'teams': 4376, 'arm': 302, 'glass': 1907, 'body': 535, 'plots': 3309, 'mom': 2874, 'grow': 1971, 'hollow': 2134, 'teens': 4390, 'fiction': 1688, 'concerns': 945, 'kicked': 2456, 'monster': 2880, 'awesome': 380, 'hates': 2042, 'questionable': 3487, 'frankly': 1816, 'wed': 4838, 'woody': 4937, 'vegas': 4718, 'dollar': 1318, 'financial': 1716, 'desired': 1209, 'misses': 2856, 'awards': 376, 'escapes': 1517, 'downright': 1339, 'ad': 114, 'favourite': 1667, 'chemistry': 787, 'circle': 823, 'energy': 1478, 'games': 1857, 'mindless': 2837, 'arrival': 309, 'trees': 4573, 'explored': 1590, 'crossing': 1078, 'laughter': 2533, 'serve': 3892, 'additional': 125, 'adequate': 127, 'contrast': 988, 'universal': 4668, 'deliberately': 1173, 'detailed': 1221, 'occasion': 3066, 'aired': 174, 'impressed': 2247, 'genuinely': 1884, 'results': 3664, 'cage': 651, 'shocked': 3938, 'merit': 2806, 'core': 1009, 'leaving': 2554, 'anger': 245, 'cake': 653, 'mysterious': 2945, 'ambitious': 222, 'explained': 1583, 'sacrifice': 3770, 'perspective': 3242, 'undead': 4637, 'frame': 1807, 'lazy': 2540, 'metal': 2811, 'combine': 889, 'dreams': 1358, 'jerk': 2388, 'chasing': 777, 'unlikely': 4675, 'glenn': 1909, 'marvelous': 2744, 'exposition': 1594, 'spoken': 4124, 'stylish': 4251, 'trust': 4597, 'card': 687, 'reynolds': 3686, 'kyle': 2496, 'proves': 3444, 'moviethe': 2916, 'decades': 1155, 'pops': 3328, 'treat': 4568, 'beaten': 433, 'books': 545, 'atmospheric': 343, 'neck': 2974, 'public': 3455, 'decision': 1160, 'dropped': 1372, 'sky': 4014, 'bone': 541, 'chased': 775, 'alright': 208, 'grey': 1963, '18': 13, 'awkward': 384, 'patrick': 3211, 'beer': 447, 'texas': 4415, 'pleasantly': 3302, 'south': 4084, 'jealous': 2382, 'tape': 4360, 'spoke': 4123, 'digital': 1252, 'transfer': 4555, 'pulp': 3460, 'voice': 4764, 'extraordinary': 1603, 'aaron': 65, 'mickey': 2819, 'popcorn': 3327, 'salman': 3781, 'shirt': 3936, 'marry': 2737, 'insulting': 2302, 'india': 2269, '3000': 46, 'expectations': 1571, 'tommy': 4510, 'aka': 177, 'apocalypse': 277, 'religious': 3607, 'nowhere': 3048, 'exotic': 1569, 'planet': 3288, 'lacked': 2500, 'bible': 485, 'tragic': 4548, 'attempted': 350, 'miserably': 2852, 'mentally': 2800, 'accepted': 87, 'punishment': 3463, 'charlie': 770, 'church': 816, 'super': 4294, 'bloody': 521, 'nightmare': 3002, 'wouldve': 4959, 'brando': 573, 'aware': 377, 'crying': 1086, 'hitting': 2125, 'shoes': 3940, 'till': 4488, 'theyd': 4440, 'award': 375, 'guest': 1983, 'island': 2353, '1996': 28, 'splendid': 4117, 'tragedy': 4547, 'amanda': 216, 'nine': 3005, 'developing': 1227, 'failing': 1621, 'asking': 327, 'explains': 1585, 'bits': 499, 'checking': 784, 'brad': 569, 'stupidity': 4248, 'itthe': 2365, 'comedians': 893, 'university': 4670, 'christian': 812, 'pig': 3273, 'latest': 2525, 'chilling': 801, 'cheese': 785, 'spell': 4103, 'sophisticated': 4072, 'helping': 2076, 'sings': 3995, 'smooth': 4037, 'album': 183, 'covers': 1037, 'bands': 399, 'disappeared': 1273, 'sons': 4070, 'appreciation': 291, 'chan': 751, 'cowboy': 1038, 'meaningful': 2773, 'blend': 513, 'wonders': 4931, 'wealthy': 4830, 'elaborate': 1440, 'gain': 1855, 'soccer': 4044, 'exchange': 1556, 'captures': 684, 'nostalgic': 3031, '2004': 36, 'stereotype': 4179, 'humanity': 2187, 'manages': 2717, 'cynical': 1105, 'strangers': 4215, 'bringing': 593, 'feast': 1671, 'secondly': 3850, 'strike': 4223, 'increasingly': 2264, 'monty': 2885, 'stranger': 4214, 'daniel': 1122, 'range': 3514, 'domestic': 1321, 'closely': 857, 'shoulder': 3951, 'cutting': 1104, 'jewish': 2394, 'successfully': 4267, 'husbands': 2203, 'abusive': 80, 'treatment': 4570, 'featured': 1673, 'wishes': 4908, 'yesterday': 4983, 'damage': 1109, 'pat': 3204, 'scream': 3830, 'teenager': 4388, 'anymore': 267, 'kapoor': 2438, 'ali': 190, 'squad': 4134, 'bullet': 625, 'moviethis': 2917, 'crocodile': 1076, 'wound': 4960, 'fortunately': 1796, 'demon': 1183, 'eats': 1414, '2003': 35, 'essential': 1520, 'usa': 4693, 'pulled': 3457, 'jesus': 2392, 'proper': 3433, 'exploitation': 1588, 'lovable': 2660, 'intrigued': 2326, 'discovered': 1283, 'eccentric': 1415, 'sadness': 3774, 'gone': 1925, 'remained': 3610, 'east': 1407, 'window': 4897, 'thick': 4444, 'hanging': 2016, '1980s': 24, 'hanks': 2017, 'forces': 1778, 'unpleasant': 4678, 'philip': 3249, 'hoffman': 2126, 'amy': 232, 'lighthearted': 2592, 'overdone': 3147, 'drawing': 1353, 'wallace': 4784, 'danger': 1120, 'curse': 1098, 'endure': 1475, 'creates': 1051, 'beings': 458, 'cried': 1065, 'bore': 548, 'changes': 756, 'stops': 4202, 'tracy': 4541, 'strangely': 4213, 'accidentally': 90, 'cameras': 664, 'childs': 800, 'unfolds': 4655, 'build': 619, 'unexpected': 4652, 'enjoys': 1489, 'furthermore': 1849, 'decade': 1154, 'civil': 830, 'glory': 1913, 'training': 4554, 'african': 152, 'appearances': 285, 'queens': 3484, 'appearing': 287, 'birth': 495, 'melodramatic': 2790, 'carrying': 708, 'born': 553, 'ludicrous': 2678, 'davis': 1138, 'traffic': 4546, 'craft': 1040, 'tear': 4377, 'wow': 4962, 'pulls': 3459, 'directorial': 1267, 'popularity': 3330, 'fish': 1730, 'dating': 1132, 'bothered': 558, 'finger': 1722, 'terrorists': 4412, 'bush': 638, '911': 64, 'throwing': 4477, '24': 42, 'alice': 191, 'bette': 479, 'hack': 1996, 'handed': 2009, 'incoherent': 2261, 'mexican': 2814, 'tracks': 4540, 'johnny': 2404, 'appalling': 278, 'arrogant': 313, 'bull': 624, 'loyal': 2672, 'macbeth': 2685, 'margaret': 2726, 'acceptable': 86, 'lifted': 2590, 'shakespeare': 3914, 'require': 3643, 'weapon': 4831, 'borrowed': 554, 'deals': 1147, 'believing': 465, 'britain': 595, 'arms': 304, 'sidney': 3967, 'stereotypes': 4180, 'equivalent': 1510, 'exaggerated': 1548, 'embarrassing': 1453, 'notable': 3033, 'hitler': 2122, 'rise': 3703, 'teenage': 4387, 'jews': 2395, 'thinks': 4451, 'nazi': 2966, 'germany': 1889, 'pilot': 3275, 'reach': 3531, 'population': 3331, 'canadian': 672, 'suddenly': 4273, 'winning': 4902, '23': 41, 'carpenter': 701, 'graham': 1943, 'dave': 1135, 'suffers': 4278, 'motives': 2903, 'manipulative': 2719, 'hurts': 2201, 'mouse': 2906, 'dog': 1314, 'normal': 3024, 'clue': 867, 'enormous': 1490, 'uncomfortable': 4635, 'surrounding': 4317, 'gruesome': 1976, 'hunt': 2196, 'jumped': 2425, 'batman': 422, 'kim': 2470, 'lowbudget': 2669, 'urban': 4690, 'broadway': 600, 'devil': 1231, 'storm': 4205, 'cross': 1077, 'invisible': 2337, 'bottle': 559, 'morris': 2895, 'spare': 4092, 'beast': 431, 'marks': 2734, 'talked': 4354, 'rose': 3741, 'noble': 3008, 'todays': 4504, 'president': 3374, 'seek': 3859, 'exposed': 1593, 'nazis': 2967, 'comparing': 922, 'hatred': 2043, 'buried': 630, 'rights': 3697, 'network': 2988, 'noises': 3012, 'guessed': 1981, 'irritating': 2351, 'stays': 4170, 'mistake': 2859, 'distant': 1299, 'connect': 957, 'ed': 1416, 'complicated': 935, 'violent': 4750, 'silence': 3973, 'viewed': 4739, 'directions': 1264, 'ear': 1398, 'fond': 1767, 'mysteries': 2944, 'executed': 1561, 'returned': 3668, 'current': 1096, 'guilt': 1986, 'neat': 2971, 'poverty': 3352, 'offering': 3084, 'hilariously': 2102, 'cannon': 676, 'gentleman': 1882, 'porno': 3333, 'grab': 1939, 'catholic': 727, 'packed': 3165, 'poetic': 3311, 'offered': 3083, 'alex': 187, 'outrageous': 3140, 'buildings': 621, 'racial': 3500, 'bus': 637, 'holy': 2139, 'kidnapped': 2461, 'rising': 3704, 'sun': 4291, 'design': 1206, 'market': 2732, 'myers': 2942, 'task': 4364, 'listed': 2612, 'met': 2810, 'origin': 3123, 'technique': 4381, 'national': 2960, 'symbolism': 4336, 'appealing': 282, 'boris': 552, 'factory': 1617, 'russia': 3765, 'tends': 4400, 'military': 2832, 'duty': 1391, 'official': 3089, 'refuses': 3586, 'birds': 494, 'angles': 247, 'walking': 4781, 'trap': 4559, 'pair': 3175, 'literally': 2616, 'generous': 1877, 'harsh': 2034, 'devoid': 1233, 'nasty': 2957, 'germans': 1888, 'ruins': 3754, 'gothic': 1935, 'empire': 1463, 'flashback': 1737, 'menacing': 2798, 'grasp': 1951, 'resemble': 3649, 'rude': 3751, 'smith': 4034, 'settings': 3899, 'dress': 1360, 'elegant': 1443, 'resembles': 3650, 'prefer': 3363, 'mature': 2765, 'ratings': 3528, 'reaction': 3536, 'patients': 3209, 'davies': 1137, 'countryside': 1028, 'lloyd': 2624, 'elizabeth': 1446, 'murray': 2933, 'holmes': 2138, 'propaganda': 3432, 'roy': 3748, 'henry': 2079, 'exceptional': 1554, 'introduction': 2331, 'superbly': 4296, 'upper': 4687, 'hiding': 2094, 'bomb': 539, 'scientists': 3823, 'inspector': 2292, 'kinda': 2472, 'captivating': 681, 'restaurant': 3661, 'stuck': 4236, 'explicit': 1587, 'opportunity': 3115, 'circus': 825, 'leads': 2545, 'credible': 1060, 'bath': 420, 'alas': 180, 'lisa': 2610, 'stranded': 4211, 'outcome': 3136, 'mary': 2745, 'pink': 3276, 'affairs': 144, 'blair': 506, 'beats': 435, 'turkish': 4604, 'styles': 4250, 'groups': 1970, 'purple': 3471, 'sin': 3987, 'racist': 3502, 'willis': 4893, 'kurt': 2495, 'russell': 3764, 'arnold': 306, 'slap': 4015, 'professional': 3418, 'clichéd': 849, 'teeth': 4391, 'edge': 1419, 'spooky': 4126, 'unsettling': 4680, 'agreed': 167, 'regard': 3587, 'satire': 3793, 'classes': 837, 'blake': 507, 'simpsons': 3985, 'blind': 515, 'depression': 1194, 'broke': 601, 'oz': 3158, 'format': 1790, 'struggling': 4235, 'wing': 4900, 'hits': 2124, 'santa': 3788, 'sean': 3843, 'guests': 1984, 'plant': 3292, 'lust': 2681, 'eerie': 1428, 'reallife': 3551, 'gritty': 1966, 'sub': 4252, 'traveling': 4564, 'witnessed': 4916, 'behave': 453, 'maintain': 2703, 'reminded': 3619, 'unforgettable': 4656, '1995': 27, 'wood': 4934, 'riding': 3695, 'intense': 2308, 'noticed': 3041, 'moved': 2909, 'finest': 1721, 'foreign': 1781, 'amazingly': 221, 'revolves': 3684, 'descent': 1197, 'murderer': 2929, 'rid': 3691, 'lesser': 2572, 'provoking': 3449, 'stealing': 4172, 'equal': 1507, 'chick': 791, 'moviei': 2914, 'bears': 430, 'producer': 3412, 'albert': 182, 'journalist': 2415, 'triangle': 4577, 'importantly': 2244, 'physical': 3261, 'bell': 466, 'centers': 740, 'teen': 4386, 'alcohol': 184, 'birthday': 496, 'grandfather': 1945, 'comfort': 898, 'redemption': 3575, 'practice': 3358, 'halloween': 2004, 'drops': 1373, 'props': 3436, 'needless': 2978, 'damn': 1111, 'performers': 3230, 'freak': 1817, 'scares': 3810, 'powers': 3356, 'cruel': 1082, 'carried': 705, 'tortured': 4523, 'dressed': 1361, 'clothes': 863, 'hung': 2195, 'lowest': 2671, 'theyve': 4443, 'costume': 1019, 'blacks': 503, 'objects': 3059, 'scared': 3809, 'stinker': 4191, 'produce': 3410, 'spiritual': 4114, 'staff': 4137, 'heroin': 2086, 'illegal': 2225, 'replace': 3635, 'trek': 4574, 'overwhelming': 3153, 'superman': 4300, 'expressed': 1597, 'exercise': 1564, 'mitchell': 2864, 'youth': 4994, 'sell': 3872, 'parties': 3190, 'adding': 123, 'irish': 2345, 'choreography': 807, 'butler': 643, 'shining': 3932, 'forgive': 1786, 'childish': 797, 'chapter': 762, 'mel': 2788, 'ann': 254, 'warren': 4802, 'brooks': 603, 'carol': 700, 'covered': 1036, 'ground': 1968, '70': 58, 'hindi': 2108, 'joseph': 2413, 'greed': 1959, 'rescue': 3646, 'basis': 416, 'painting': 3174, 'non': 3015, 'touches': 4528, 'hundred': 2193, 'pages': 3167, 'web': 4836, 'novels': 3045, 'raised': 3507, 'suspicious': 4328, 'emperor': 1461, 'madness': 2692, 'statue': 4165, 'torture': 4522, 'deaths': 1152, 'shall': 3915, 'wine': 4899, 'weakest': 4828, 'link': 2607, 'illness': 2226, 'miracle': 2848, 'survived': 4320, 'credibility': 1059, 'pun': 3461, 'spending': 4105, 'smoking': 4036, 'rough': 3744, 'hills': 2105, 'rings': 3699, 'topic': 4519, 'incomprehensible': 2263, 'lincoln': 2603, 'ford': 1780, 'faced': 1611, 'added': 121, 'letting': 2579, 'burned': 632, 'burn': 631, 'spy': 4133, 'masterful': 2752, 'arthur': 315, 'screenwriter': 3837, 'wondered': 4927, 'taylor': 4368, 'text': 4416, 'upset': 4689, 'amateurish': 218, 'ironic': 2347, 'bo': 529, 'brilliantly': 591, 'crystal': 1087, 'jake': 2372, 'dutch': 1390, 'nonstop': 3021, 'pleased': 3304, 'challenge': 749, 'larger': 2517, 'christ': 811, 'thief': 4445, 'petty': 3245, 'occasions': 3069, 'industry': 2275, 'imitation': 2237, 'square': 4135, 'massive': 2750, 'odds': 3076, 'mirror': 2849, 'wildly': 4888, 'pacino': 3162, 'fathers': 1661, 'prey': 3386, 'mode': 2869, 'timothy': 4495, 'pitt': 3279, 'daughters': 1134, 'tongue': 4512, 'dude': 1382, 'warriors': 4804, 'nation': 2959, 'oscars': 3128, 'seven': 3902, 'generations': 1875, 'primary': 3392, 'racism': 3501, 'sword': 4335, 'lucy': 2677, 'blues': 527, 'baseball': 411, 'prisoners': 3401, 'sport': 4127, 'genuine': 1883, 'martha': 2740, 'misery': 2853, 'candy': 674, 'topless': 4520, 'user': 4698, 'estate': 1523, 'rules': 3756, 'helicopter': 2072, 'instant': 2298, 'cable': 650, 'holding': 2129, 'frustrated': 1836, 'hugh': 2184, 'naive': 2947, 'ignorant': 2219, 'inventive': 2334, 'below': 470, 'techniques': 4382, 'attacked': 347, 'wacky': 4772, 'vehicle': 4719, 'genres': 1880, 'underwater': 4648, 'investigate': 2335, 'ocean': 3073, 'experiments': 1580, 'enemy': 1477, 'mildly': 2828, 'sum': 4288, 'junk': 2431, 'karen': 2440, 'ideal': 2211, 'reasonably': 3556, 'aforementioned': 149, 'carl': 698, 'friday': 1827, '13th': 8, 'travesty': 4566, 'miscast': 2850, 'efforts': 1434, 'largely': 2516, 'swear': 4330, 'abysmal': 81, 'intention': 2311, 'sounded': 4079, 'disliked': 1293, 'lessons': 2574, 'brown': 607, 'charlotte': 771, 'marshall': 2739, 'bird': 493, 'nicholas': 2997, 'laura': 2534, 'jim': 2396, 'learns': 2550, 'tender': 4399, 'harold': 2030, 'shouting': 3953, 'simplistic': 3983, 'nuclear': 3049, 'european': 1526, 'mothers': 2899, 'watson': 4819, 'vacation': 4705, 'rick': 3690, 'everyones': 1539, 'unlike': 4673, 'sidekick': 3965, 'castle': 719, 'carradine': 702, 'instantly': 2299, 'gus': 1991, 'convoluted': 1001, 'tonight': 4513, 'blown': 524, 'striking': 4225, 'graphics': 1950, 'futuristic': 1851, 'historically': 2116, '1930s': 14, 'reporter': 3638, 'substance': 4258, 'hook': 2151, 'arrives': 312, 'destruction': 1219, 'traditional': 4545, 'magical': 2698, 'outing': 3139, 'develops': 1229, 'aid': 170, 'unintentionally': 4662, 'health': 2055, 'mountains': 2905, 'frustration': 1838, 'lifetime': 2589, 'adorable': 132, 'explore': 1589, 'neighbor': 2981, 'timeless': 4492, 'flynn': 1756, 'owners': 3157, 'lyrics': 2684, 'study': 4241, 'visible': 4755, 'actions': 105, 'cities': 826, 'ears': 1402, 'journey': 2416, 'norman': 3026, 'nights': 3004, 'joan': 2398, 'hart': 2035, 'abc': 67, 'dancers': 1116, 'todd': 4505, 'raise': 3506, 'bones': 542, 'midnight': 2823, 'struggles': 4234, 'quote': 3495, 'morning': 2894, 'rip': 3700, 'atlantis': 341, 'cares': 696, 'soft': 4047, 'boll': 537, 'agrees': 168, 'softcore': 4048, 'rushed': 3763, 'prejudice': 3365, 'bbc': 426, 'compare': 920, 'wealth': 4829, 'breath': 580, 'agents': 162, 'kicking': 2457, 'butt': 644, 'corpse': 1012, 'blew': 514, 'convey': 996, 'destroy': 1217, 'shell': 3927, 'widescreen': 4882, 'bucks': 613, 'st': 4136, 'ordered': 3120, 'jessica': 2391, 'closet': 860, 'mistress': 2863, 'sir': 3997, 'determined': 1224, 'solution': 4056, 'duck': 1381, 'parent': 3181, 'sports': 4128, 'walks': 4782, 'ninja': 3006, 'martial': 2741, 'arts': 320, 'invited': 2338, 'afterwards': 155, 'dances': 1117, 'farce': 1648, 'sequels': 3885, 'monkey': 2878, '3rd': 50, 'connected': 958, 'pushed': 3476, 'justin': 2435, 'florida': 1752, 'keaton': 2442, 'gangster': 1859, 'pet': 3243, 'immensely': 2239, 'jaws': 2379, 'ruth': 3767, 'surprises': 4312, 'writes': 4970, 'someones': 4062, 'buddies': 614, 'boredom': 550, 'spain': 4090, 'snow': 4040, 'cave': 734, 'suck': 4269, 'mankind': 2720, 'walken': 4779, 'cleverly': 846, 'hall': 2003, 'helen': 2071, 'bargain': 407, 'dracula': 1343, 'conspiracy': 969, 'hamilton': 2005, 'performer': 3229, 'slick': 4022, 'portion': 3334, 'distinct': 1300, 'represents': 3641, 'mummy': 2925, 'mountain': 2904, 'devoted': 1234, 'expressions': 1599, 'stilted': 4190, 'shirley': 3935, 'reaches': 3533, 'sandler': 3786, 'hired': 2113, 'cruise': 1083, 'nude': 3050, 'breasts': 579, 'pg13': 3246, 'teenagers': 4389, 'facial': 1613, 'godfather': 1918, 'cancer': 673, 'sinister': 3996, 'andrew': 238, 'responsibility': 3658, 'solve': 4057, 'filling': 1702, 'broadcasting': 599, 'franchise': 1809, 'superhero': 4298, 'inane': 2254, 'discovering': 1284, 'arrive': 310, 'enemies': 1476, 'twelve': 4611, 'par': 3179, 'anyways': 272, 'hamlet': 2006, 'guns': 1990, 'addiction': 122, 'desperation': 1214, 'creativity': 1055, 'vulnerable': 4771, 'dozen': 1340, 'advanced': 136, 'losing': 2651, 'satisfied': 3794, 'mexico': 2815, '1973': 21, 'faster': 1656, 'settle': 3900, 'divine': 1304, 'senseless': 3877, 'killings': 2468, 'authentic': 367, 'seeking': 3860, 'san': 3784, 'francisco': 1811, 'confess': 950, 'basketball': 417, 'coast': 871, 'winds': 4898, 'annie': 257, 'lips': 2609, 'tracking': 4539, 'spirited': 4112, 'charismatic': 768, 'owen': 3154, 'push': 3475, 'errors': 1514, 'notes': 3038, 'melodrama': 2789, 'horrifying': 2165, 'pack': 3163, 'thoughtful': 4460, 'weapons': 4832, 'johnson': 2405, 'nicole': 3000, 'grave': 1953, 'photographed': 3256, 'kudos': 2493, 'unintentional': 4661, 'steps': 4178, 'reeves': 3578, 'amongst': 228, 'coffee': 873, 'knock': 2484, 'harder': 2027, 'reveal': 3672, 'sam': 3782, 'widmark': 4883, 'notch': 3035, 'dreary': 1359, 'dinosaur': 1257, 'rex': 3685, 'frustrating': 1837, 'providing': 3448, 'homage': 2140, 'stunts': 4246, 'claude': 841, 'tourist': 4532, 'murphy': 2932, 'homosexual': 2144, 'handful': 2010, 'species': 4097, 'bodies': 534, 'splatter': 4116, 'campbell': 668, 'throws': 4479, 'celluloid': 738, 'expensive': 1574, 'capturing': 685, 'courage': 1031, 'prom': 3426, 'solely': 4053, 'irony': 2349, 'occur': 3070, 'maggie': 2696, 'frequent': 1824, 'shine': 3930, 'simplicity': 3982, 'susan': 4323, 'celebrity': 736, 'streep': 4216, 'claire': 834, 'discovery': 1286, 'danes': 1119, 'potentially': 3351, 'landscape': 2511, 'backdrop': 388, 'product': 3415, 'plague': 3284, 'mst3k': 2920, 'inevitable': 2277, 'eric': 1512, 'thrilling': 4471, 'profound': 3420, 'steel': 4174, 'producing': 3414, 'cd': 735, 'prize': 3403, 'manage': 2714, '1983': 25, 'proceedings': 3407, 'commented': 908, 'houses': 2178, 'predator': 3361, 'ken': 2448, 'kidding': 2460, 'hood': 2150, 'overthetop': 3152, 'uplifting': 4685, 'unwatchable': 4683, 'campy': 669, 'annoyed': 258, 'hokey': 2127, 'ego': 1435, 'hip': 2111, 'threw': 4467, 'nonexistent': 3018, 'fix': 1735, 'eight': 1436, 'waited': 4774, 'presumably': 3377, 'hunters': 2198, 'normally': 3025, 'tyler': 4621, 'mile': 2830, 'phil': 3248, 'performing': 3231, 'rival': 3707, 'forty': 1798, 'suspenseful': 4327, 'brains': 571, 'heartwarming': 2062, 'superficial': 4297, 'straightforward': 4210, 'rebel': 3558, 'anna': 255, 'wave': 4820, 'realizing': 3550, 'via': 4729, 'meg': 2787, 'christmas': 813, 'filmmaker': 1707, 'cusack': 1100, 'loads': 2627, 'jumps': 2427, 'junior': 2430, 'goodness': 1928, 'womens': 4924, 'fatal': 1658, 'advise': 142, 'eaten': 1412, 'tour': 4531, 'guide': 1985, 'barney': 408, 'selfish': 3871, 'stooges': 4199, 'gangsters': 1860, 'airplane': 175, '45': 53, 'command': 904, 'em': 1451, 'bettie': 481, 'complaint': 930, 'alert': 186, 'trilogy': 4584, 'parker': 3185, 'strikes': 4224, 'beliefs': 460, 'pitch': 3277, 'alfred': 189, 'yellow': 4981, 'suits': 4286, 'companion': 918, 'identify': 2213, 'teaches': 4373, 'faithful': 1628, 'adapted': 119, 'alternative': 211, 'encourage': 1467, 'offended': 3080, 'tremendous': 4575, 'familys': 1640, 'jackie': 2369, 'manager': 2716, 'performs': 3232, 'awake': 374, 'prisoner': 3400, 'portrait': 3335, 'fbi': 1668, 'exists': 1568, 'raw': 3529, 'equipment': 1509, 'con': 939, 'aussie': 363, 'invented': 2333, 'citizens': 828, '2000': 32, 'cats': 728, 'motivation': 2901, 'gordon': 1930, 'hudson': 2182, 'patricia': 3210, 'macy': 2688, 'hill': 2104, 'dignity': 1253, 'wholly': 4875, 'hbo': 2049, 'remarkably': 3615, 'downhill': 1338, 'rank': 3516, 'emily': 1455, 'dancer': 1115, 'wannabe': 4789, 'middleaged': 2822, 'dramas': 1350, 'experimental': 1579, 'occurs': 3072, 'colonel': 881, 'parallel': 3180, 'stole': 4194, 'afford': 148, 'remind': 3618, 'amounts': 230, 'accents': 84, 'uncle': 4634, 'resist': 3651, 'devils': 1232, 'criticism': 1074, 'doom': 1327, 'hideous': 2093, 'intimate': 2323, 'armed': 303, 'mass': 2747, 'seeks': 3861, 'unbelievably': 4633, 'mafia': 2694, 'stellar': 4175, 'penn': 3218, 'hitman': 2123, 'pants': 3177, 'fears': 1670, 'teaching': 4374, 'handle': 2011, 'nuts': 3056, 'closed': 856, 'gift': 1897, 'overrated': 3151, 'translation': 4558, 'dean': 1149, 'accompanied': 91, 'dogs': 1315, 'gate': 1867, 'enter': 1493, 'hitch': 2119, 'refused': 3585, '35': 48, 'unfold': 4654, 'carrey': 703, 'roots': 3740, 'smiling': 4033, 'bugs': 618, 'transition': 4557, 'rabbit': 3497, 'bourne': 563, 'bite': 498, 'caring': 697, 'allen': 197, 'laid': 2505, 'sandra': 3787, 'bullock': 627, 'heading': 2053, 'scottish': 3829, 'voiced': 4765, 'succeeds': 4264, 'balance': 394, 'chicks': 793, 'cameron': 666, 'passable': 3196, 'blah': 505, 'von': 4768, 'jamie': 2374, 'rap': 3518, 'yelling': 4980, 'gradually': 1942, 'influence': 2279, 'aimed': 171, 'lifestyle': 2588, 'calm': 659, 'craig': 1042, 'blank': 510, 'frankenstein': 1814, 'sue': 4274, 'ned': 2975, 'dimensional': 1255, 'edgy': 1420, '14': 9, '1979': 22, 'stress': 4220, 'holiday': 2133, 'online': 3104, '1980': 23, 'widow': 4884, 'wrestling': 4965, 'buck': 612, 'carrie': 704, 'busy': 641, 'werewolf': 4852, 'vicious': 4730, 'introduces': 2330, 'rocket': 3720, 'clothing': 864, 'twins': 4616, 'iii': 2223, 'causing': 733, 'hitchcocks': 2121, 'wax': 4822, 'switch': 4334, 'waves': 4821, 'pool': 3323, 'mansion': 2723, 'sinatra': 3988, 'pulling': 3458, 'established': 1522, 'complaining': 929, 'uneven': 4651, 'claim': 831, 'prostitute': 3437, 'principal': 3396, 'saga': 3777, 'muddled': 2923, 'onscreen': 3106, 'survivors': 4322, 'couples': 1030, 'achievement': 99, 'praise': 3359, '1000': 2, 'expert': 1581, 'troops': 4590, 'drake': 1348, 'romp': 3734, 'erotic': 1513, 'mtv': 2921, 'everywhere': 1541, 'horrors': 2167, 'dinosaurs': 1258, '2006': 38, '1960s': 17, 'consistent': 966, 'ships': 3934, 'chicken': 792, 'relation': 3594, 'riveting': 3709, 'edward': 1427, 'method': 2812, 'burton': 636, 'glover': 1914, 'sullivan': 4287, 'argument': 301, 'marketing': 2733, 'stomach': 4196, 'beneath': 472, 'caused': 731, 'monkeys': 2879, 'doors': 1330, 'museum': 2934, 'marion': 2730, 'enthusiasm': 1499, 'awfully': 382, 'resolution': 3652, 'grandmother': 1946, '2001': 33, 'loss': 2652, 'troma': 4589, 'audio': 361, 'knife': 2482, 'buster': 640, 'revelation': 3676, 'tales': 4352, 'bang': 400, 'nancy': 2953, 'obscure': 3061, 'intrigue': 2325, 'robot': 3717, 'suggests': 4281, 'stronger': 4229, 'waters': 4818, 'theyll': 4441, 'fictional': 1689, 'diamond': 1239, 'josh': 2414, 'souls': 4077, 'reputation': 3642, 'mgm': 2816, 'shark': 3920, 'heartbreaking': 2060, 'copies': 1006, 'underworld': 4649, 'disappear': 1272, 'coincidence': 875, 'stanwyck': 4148, 'productions': 3417, 'shines': 3931, 'treats': 4571, 'embarrassed': 1452, 'intent': 2310, 'rambo': 3510, 'lemmon': 2564, 'schools': 3819, 'pressure': 3376, 'chess': 788, 'flash': 1736, 'betrayal': 478, 'garbo': 1862, 'crawford': 1046, 'april': 294, '1999': 29, 'france': 1808, 'fields': 1691, 'ingredients': 2282, 'temple': 4396, 'stanley': 4147, 'assigned': 335, 'hammer': 2007, 'pushing': 3477, 'passengers': 3198, 'phillips': 3250, 'flies': 1747, 'hong': 2148, 'kong': 2490, 'pointed': 3315, 'wellknown': 4848, 'babies': 385, 'ex': 1545, 'spin': 4110, 'secrets': 3854, 'planned': 3289, 'thumbs': 4481, 'jet': 2393, 'victoria': 4734, 'stunned': 4243, 'bullets': 626, 'improved': 2251, 'guessing': 1982, 'dorothy': 1331, 'reaching': 3534, 'cameos': 662, 'hardy': 2029, 'muppet': 2926, 'colour': 885, 'filmthis': 1712, 'marty': 2743, 'blade': 504, 'mildred': 2829, 'medium': 2783, 'pearl': 3217, 'signs': 3972, 'worried': 4949, 'poignant': 3313, 'frankie': 1815, 'leigh': 2563, 'unlikeable': 4674, 'itll': 2362, 'warrior': 4803, 'trashy': 4562, 'closest': 859, 'tarantino': 4361, 'endearing': 1469, 'assassin': 333, 'defense': 1168, 'quotes': 3496, 'homeless': 2142, 'rotten': 3743, 'retarded': 3665, 'executive': 1563, 'tribe': 4578, 'regarding': 3588, 'global': 1911, '20th': 40, 'defeat': 1166, '80': 60, 'bin': 491, 'robots': 3718, 'staged': 4139, 'runner': 3758, 'strip': 4227, 'titles': 4501, 'foxx': 1806, '3d': 49, 'spielberg': 4108, 'tie': 4484, 'apes': 276, 'canada': 671, 'wives': 4919, 'partly': 3191, 'madonna': 2693, 'caine': 652, 'harrison': 2032, 'critic': 1072, 'stunt': 4245, 'lengthy': 2566, 'assault': 334, 'odyssey': 3077, 'improve': 2250, 'terry': 4413, 'taught': 4367, 'persons': 3241, 'cream': 1048, 'kitty': 2480, 'wifes': 4886, 'sincere': 3990, 'slapstick': 4016, 'spacey': 4088, 'repeat': 3630, 'bold': 536, 'companies': 917, 'repetitive': 3634, 'mighty': 2825, 'package': 3164, 'relations': 3595, 'doubts': 1334, 'brilliance': 589, 'columbo': 886, 'falk': 1630, 'forcing': 1779, 'legal': 2559, 'leg': 2558, 'floating': 1749, 'heat': 2063, 'complexity': 934, 'norris': 3027, 'boxing': 565, 'bedroom': 445, 'tank': 4359, 'recognized': 3567, 'faults': 1663, 'ward': 4795, 'defend': 1167, 'doll': 1317, 'spirits': 4113, 'psychic': 3451, 'lugosi': 2679, 'removed': 3624, 'damme': 1110, 'kirk': 2477, 'behaviour': 455, 'powell': 3353, 'dentist': 1186, 'golf': 1924, 'miserable': 2851, 'phony': 3254, 'kubrick': 2492, 'react': 3535, 'pie': 3270, 'cooper': 1004, 'cliche': 847, 'bumbling': 628, 'challenging': 750, 'marie': 2728, 'laurel': 2535, 'gifted': 1898, 'mayor': 2769, 'vivid': 4763, 'glasses': 1908, 'formulaic': 1794, 'drivel': 1366, 'karate': 2439, 'elvis': 1450, 'bruno': 609, 'motivations': 2902, 'june': 2428, 'checked': 783, 'draws': 1355, 'proceeds': 3408, 'lucas': 2673, 'chaplin': 761, 'stinks': 4192, 'horrid': 2163, 'ireland': 2344, 'fighter': 1694, 'stan': 4140, 'natalie': 2958, 'composed': 936, 'incompetent': 2262, 'daring': 1125, 'existed': 1566, 'garfield': 1864, 'snakes': 4039, 'homer': 2143}\n"
     ]
    }
   ],
   "source": [
    "bow_cli = cv1.fit_transform(df['CliChats'])\n",
    "bow_sp = cv2.fit_transform(df['SpChats'])\n",
    "print(cv1.vocabulary_)\n",
    "print(cv2.vocabulary_)"
   ]
  },
  {
   "cell_type": "code",
   "execution_count": 28,
   "id": "fff0e9a5",
   "metadata": {},
   "outputs": [
    {
     "data": {
      "text/plain": [
       "<59094x5000 sparse matrix of type '<class 'numpy.int64'>'\n",
       "\twith 24496193 stored elements in Compressed Sparse Row format>"
      ]
     },
     "execution_count": 28,
     "metadata": {},
     "output_type": "execute_result"
    }
   ],
   "source": [
    "bow_cli"
   ]
  },
  {
   "cell_type": "code",
   "execution_count": 29,
   "id": "bd506da3",
   "metadata": {},
   "outputs": [
    {
     "data": {
      "text/plain": [
       "<59094x5000 sparse matrix of type '<class 'numpy.int64'>'\n",
       "\twith 24426794 stored elements in Compressed Sparse Row format>"
      ]
     },
     "execution_count": 29,
     "metadata": {},
     "output_type": "execute_result"
    }
   ],
   "source": [
    "bow_sp"
   ]
  },
  {
   "cell_type": "code",
   "execution_count": 30,
   "id": "beb58a0d",
   "metadata": {},
   "outputs": [],
   "source": [
    "df_bow_cli = pd.DataFrame(bow_cli[0].toarray())"
   ]
  },
  {
   "cell_type": "code",
   "execution_count": 31,
   "id": "32726542",
   "metadata": {},
   "outputs": [],
   "source": [
    "df_bow_sp = pd.DataFrame(bow_sp[0].toarray())"
   ]
  },
  {
   "cell_type": "code",
   "execution_count": 32,
   "id": "38fb7a11",
   "metadata": {},
   "outputs": [
    {
     "data": {
      "text/html": [
       "<div>\n",
       "<style scoped>\n",
       "    .dataframe tbody tr th:only-of-type {\n",
       "        vertical-align: middle;\n",
       "    }\n",
       "\n",
       "    .dataframe tbody tr th {\n",
       "        vertical-align: top;\n",
       "    }\n",
       "\n",
       "    .dataframe thead th {\n",
       "        text-align: right;\n",
       "    }\n",
       "</style>\n",
       "<table border=\"1\" class=\"dataframe\">\n",
       "  <thead>\n",
       "    <tr style=\"text-align: right;\">\n",
       "      <th></th>\n",
       "      <th>0</th>\n",
       "      <th>1</th>\n",
       "      <th>2</th>\n",
       "      <th>3</th>\n",
       "      <th>4</th>\n",
       "      <th>5</th>\n",
       "      <th>6</th>\n",
       "      <th>7</th>\n",
       "      <th>8</th>\n",
       "      <th>9</th>\n",
       "      <th>...</th>\n",
       "      <th>4990</th>\n",
       "      <th>4991</th>\n",
       "      <th>4992</th>\n",
       "      <th>4993</th>\n",
       "      <th>4994</th>\n",
       "      <th>4995</th>\n",
       "      <th>4996</th>\n",
       "      <th>4997</th>\n",
       "      <th>4998</th>\n",
       "      <th>4999</th>\n",
       "    </tr>\n",
       "  </thead>\n",
       "  <tbody>\n",
       "    <tr>\n",
       "      <th>0</th>\n",
       "      <td>0</td>\n",
       "      <td>0</td>\n",
       "      <td>0</td>\n",
       "      <td>0</td>\n",
       "      <td>0</td>\n",
       "      <td>0</td>\n",
       "      <td>0</td>\n",
       "      <td>0</td>\n",
       "      <td>0</td>\n",
       "      <td>0</td>\n",
       "      <td>...</td>\n",
       "      <td>0</td>\n",
       "      <td>1</td>\n",
       "      <td>0</td>\n",
       "      <td>0</td>\n",
       "      <td>0</td>\n",
       "      <td>0</td>\n",
       "      <td>0</td>\n",
       "      <td>0</td>\n",
       "      <td>0</td>\n",
       "      <td>0</td>\n",
       "    </tr>\n",
       "  </tbody>\n",
       "</table>\n",
       "<p>1 rows × 5000 columns</p>\n",
       "</div>"
      ],
      "text/plain": [
       "   0     1     2     3     4     5     6     7     8     9     ...  4990  \\\n",
       "0     0     0     0     0     0     0     0     0     0     0  ...     0   \n",
       "\n",
       "   4991  4992  4993  4994  4995  4996  4997  4998  4999  \n",
       "0     1     0     0     0     0     0     0     0     0  \n",
       "\n",
       "[1 rows x 5000 columns]"
      ]
     },
     "execution_count": 32,
     "metadata": {},
     "output_type": "execute_result"
    }
   ],
   "source": [
    "df_bow_cli.head(2)"
   ]
  },
  {
   "cell_type": "code",
   "execution_count": 33,
   "id": "523a47e4",
   "metadata": {},
   "outputs": [
    {
     "data": {
      "text/html": [
       "<div>\n",
       "<style scoped>\n",
       "    .dataframe tbody tr th:only-of-type {\n",
       "        vertical-align: middle;\n",
       "    }\n",
       "\n",
       "    .dataframe tbody tr th {\n",
       "        vertical-align: top;\n",
       "    }\n",
       "\n",
       "    .dataframe thead th {\n",
       "        text-align: right;\n",
       "    }\n",
       "</style>\n",
       "<table border=\"1\" class=\"dataframe\">\n",
       "  <thead>\n",
       "    <tr style=\"text-align: right;\">\n",
       "      <th></th>\n",
       "      <th>0</th>\n",
       "      <th>1</th>\n",
       "      <th>2</th>\n",
       "      <th>3</th>\n",
       "      <th>4</th>\n",
       "      <th>5</th>\n",
       "      <th>6</th>\n",
       "      <th>7</th>\n",
       "      <th>8</th>\n",
       "      <th>9</th>\n",
       "      <th>...</th>\n",
       "      <th>4990</th>\n",
       "      <th>4991</th>\n",
       "      <th>4992</th>\n",
       "      <th>4993</th>\n",
       "      <th>4994</th>\n",
       "      <th>4995</th>\n",
       "      <th>4996</th>\n",
       "      <th>4997</th>\n",
       "      <th>4998</th>\n",
       "      <th>4999</th>\n",
       "    </tr>\n",
       "  </thead>\n",
       "  <tbody>\n",
       "    <tr>\n",
       "      <th>0</th>\n",
       "      <td>0</td>\n",
       "      <td>0</td>\n",
       "      <td>0</td>\n",
       "      <td>0</td>\n",
       "      <td>0</td>\n",
       "      <td>0</td>\n",
       "      <td>0</td>\n",
       "      <td>0</td>\n",
       "      <td>0</td>\n",
       "      <td>0</td>\n",
       "      <td>...</td>\n",
       "      <td>0</td>\n",
       "      <td>0</td>\n",
       "      <td>0</td>\n",
       "      <td>0</td>\n",
       "      <td>0</td>\n",
       "      <td>0</td>\n",
       "      <td>0</td>\n",
       "      <td>0</td>\n",
       "      <td>0</td>\n",
       "      <td>0</td>\n",
       "    </tr>\n",
       "  </tbody>\n",
       "</table>\n",
       "<p>1 rows × 5000 columns</p>\n",
       "</div>"
      ],
      "text/plain": [
       "   0     1     2     3     4     5     6     7     8     9     ...  4990  \\\n",
       "0     0     0     0     0     0     0     0     0     0     0  ...     0   \n",
       "\n",
       "   4991  4992  4993  4994  4995  4996  4997  4998  4999  \n",
       "0     0     0     0     0     0     0     0     0     0  \n",
       "\n",
       "[1 rows x 5000 columns]"
      ]
     },
     "execution_count": 33,
     "metadata": {},
     "output_type": "execute_result"
    }
   ],
   "source": [
    "df_bow_sp.head(2)"
   ]
  },
  {
   "cell_type": "code",
   "execution_count": null,
   "id": "27c573cb",
   "metadata": {},
   "outputs": [],
   "source": []
  },
  {
   "cell_type": "markdown",
   "id": "fc673358",
   "metadata": {},
   "source": [
    "## TFIDF "
   ]
  },
  {
   "cell_type": "code",
   "execution_count": 34,
   "id": "1f087454",
   "metadata": {},
   "outputs": [],
   "source": [
    "from sklearn.feature_extraction.text import TfidfVectorizer\n",
    "tfidf1 = TfidfVectorizer(max_features = 5000)\n",
    "tfidf2 = TfidfVectorizer(max_features = 5000)"
   ]
  },
  {
   "cell_type": "code",
   "execution_count": 35,
   "id": "e0a57466",
   "metadata": {},
   "outputs": [],
   "source": [
    "df_tfidf_cli = tfidf1.fit_transform(df['CliChats']).toarray()\n",
    "df_tfidf_sp = tfidf2.fit_transform(df['SpChats']).toarray()"
   ]
  },
  {
   "cell_type": "code",
   "execution_count": 37,
   "id": "0b117026",
   "metadata": {},
   "outputs": [
    {
     "data": {
      "text/plain": [
       "array([[0., 0., 0., ..., 0., 0., 0.],\n",
       "       [0., 0., 0., ..., 0., 0., 0.],\n",
       "       [0., 0., 0., ..., 0., 0., 0.],\n",
       "       ...,\n",
       "       [0., 0., 0., ..., 0., 0., 0.],\n",
       "       [0., 0., 0., ..., 0., 0., 0.],\n",
       "       [0., 0., 0., ..., 0., 0., 0.]])"
      ]
     },
     "execution_count": 37,
     "metadata": {},
     "output_type": "execute_result"
    }
   ],
   "source": [
    "df_tfidf_cli"
   ]
  },
  {
   "cell_type": "code",
   "execution_count": 38,
   "id": "4b42b59c",
   "metadata": {},
   "outputs": [
    {
     "data": {
      "text/plain": [
       "array([[0.        , 0.        , 0.        , ..., 0.        , 0.        ,\n",
       "        0.        ],\n",
       "       [0.        , 0.        , 0.        , ..., 0.        , 0.        ,\n",
       "        0.        ],\n",
       "       [0.        , 0.        , 0.        , ..., 0.        , 0.        ,\n",
       "        0.        ],\n",
       "       ...,\n",
       "       [0.        , 0.03758159, 0.        , ..., 0.        , 0.        ,\n",
       "        0.        ],\n",
       "       [0.        , 0.03758159, 0.        , ..., 0.        , 0.        ,\n",
       "        0.        ],\n",
       "       [0.        , 0.03758159, 0.        , ..., 0.        , 0.        ,\n",
       "        0.        ]])"
      ]
     },
     "execution_count": 38,
     "metadata": {},
     "output_type": "execute_result"
    }
   ],
   "source": [
    "df_tfidf_sp"
   ]
  },
  {
   "cell_type": "code",
   "execution_count": 39,
   "id": "104d1a48",
   "metadata": {},
   "outputs": [
    {
     "name": "stdout",
     "output_type": "stream",
     "text": [
      "[2.33663028 3.61635399 4.76360592 ... 3.99530932 4.23801026 4.74984257]\n",
      "['10' '100' '1010' ... 'zombie' 'zombies' 'zone']\n",
      "[2.34315675 3.59754178 5.23580013 ... 4.00175767 4.18101956 4.73413918]\n",
      "['10' '100' '1000' ... 'zombie' 'zombies' 'zone']\n"
     ]
    }
   ],
   "source": [
    "print(tfidf1.idf_)\n",
    "print(tfidf1.get_feature_names_out())\n",
    "print(tfidf2.idf_)\n",
    "print(tfidf2.get_feature_names_out())"
   ]
  },
  {
   "cell_type": "code",
   "execution_count": null,
   "id": "973e7c87",
   "metadata": {},
   "outputs": [],
   "source": []
  },
  {
   "cell_type": "code",
   "execution_count": null,
   "id": "a29e8166",
   "metadata": {},
   "outputs": [],
   "source": []
  },
  {
   "cell_type": "code",
   "execution_count": null,
   "id": "0b5c0e23",
   "metadata": {},
   "outputs": [],
   "source": []
  },
  {
   "cell_type": "code",
   "execution_count": null,
   "id": "a6ad0f95",
   "metadata": {},
   "outputs": [],
   "source": []
  },
  {
   "cell_type": "markdown",
   "id": "5bc7cd59",
   "metadata": {},
   "source": [
    "# 3.Word2Vec"
   ]
  },
  {
   "cell_type": "code",
   "execution_count": 40,
   "id": "baf68a67",
   "metadata": {},
   "outputs": [],
   "source": [
    "import gensim \n",
    "from gensim.models import Word2Vec,KeyedVectors"
   ]
  },
  {
   "cell_type": "code",
   "execution_count": 42,
   "id": "6a6560f7",
   "metadata": {},
   "outputs": [],
   "source": [
    "cli_model = KeyedVectors.load_word2vec_format('./data/GoogleNews-vectors-negative300.bin.gz',binary=True)"
   ]
  },
  {
   "cell_type": "code",
   "execution_count": null,
   "id": "68ebd024",
   "metadata": {},
   "outputs": [],
   "source": [
    "from nltk import sent_tokenize \n",
    "from gensim.utils import simple_preprocess \n",
    "\n",
    "corpus = [] \n",
    "for i in range(0,59094):\n",
    "    raw_sent = df['review'].iloc[i]\n",
    "    corpus.append(simple_preprocess(raw_sent))"
   ]
  },
  {
   "cell_type": "code",
   "execution_count": null,
   "id": "fa611554",
   "metadata": {},
   "outputs": [],
   "source": []
  },
  {
   "cell_type": "code",
   "execution_count": null,
   "id": "ee4cadf8",
   "metadata": {},
   "outputs": [],
   "source": []
  },
  {
   "cell_type": "code",
   "execution_count": null,
   "id": "d81159f1",
   "metadata": {},
   "outputs": [],
   "source": []
  },
  {
   "cell_type": "markdown",
   "id": "795e0764",
   "metadata": {},
   "source": [
    "# 4.TextClassif - ML Models\n",
    "- text vectorization : BOW, NGrams, TFIDF , word2vec\n",
    "- NB\n",
    "- Random forest\n",
    "- hyperparamter tuning : Email Spam classifier vid "
   ]
  },
  {
   "cell_type": "code",
   "execution_count": 43,
   "id": "23cd2fd4",
   "metadata": {},
   "outputs": [],
   "source": [
    "df_movie = pd.read_csv(\"./data/IMDBDataset.csv\")"
   ]
  },
  {
   "cell_type": "code",
   "execution_count": 44,
   "id": "2bc75bd6",
   "metadata": {},
   "outputs": [
    {
     "data": {
      "text/html": [
       "<div>\n",
       "<style scoped>\n",
       "    .dataframe tbody tr th:only-of-type {\n",
       "        vertical-align: middle;\n",
       "    }\n",
       "\n",
       "    .dataframe tbody tr th {\n",
       "        vertical-align: top;\n",
       "    }\n",
       "\n",
       "    .dataframe thead th {\n",
       "        text-align: right;\n",
       "    }\n",
       "</style>\n",
       "<table border=\"1\" class=\"dataframe\">\n",
       "  <thead>\n",
       "    <tr style=\"text-align: right;\">\n",
       "      <th></th>\n",
       "      <th>review</th>\n",
       "      <th>sentiment</th>\n",
       "    </tr>\n",
       "  </thead>\n",
       "  <tbody>\n",
       "    <tr>\n",
       "      <th>0</th>\n",
       "      <td>One of the other reviewers has mentioned that ...</td>\n",
       "      <td>positive</td>\n",
       "    </tr>\n",
       "    <tr>\n",
       "      <th>1</th>\n",
       "      <td>A wonderful little production. &lt;br /&gt;&lt;br /&gt;The...</td>\n",
       "      <td>positive</td>\n",
       "    </tr>\n",
       "  </tbody>\n",
       "</table>\n",
       "</div>"
      ],
      "text/plain": [
       "                                              review sentiment\n",
       "0  One of the other reviewers has mentioned that ...  positive\n",
       "1  A wonderful little production. <br /><br />The...  positive"
      ]
     },
     "execution_count": 44,
     "metadata": {},
     "output_type": "execute_result"
    }
   ],
   "source": [
    "df_movie.head(2)"
   ]
  },
  {
   "cell_type": "code",
   "execution_count": 45,
   "id": "ba6014f8",
   "metadata": {},
   "outputs": [
    {
     "data": {
      "text/plain": [
       "positive    25000\n",
       "negative    25000\n",
       "Name: sentiment, dtype: int64"
      ]
     },
     "execution_count": 45,
     "metadata": {},
     "output_type": "execute_result"
    }
   ],
   "source": [
    "df_movie['sentiment'].value_counts()"
   ]
  },
  {
   "cell_type": "code",
   "execution_count": 46,
   "id": "8509576e",
   "metadata": {},
   "outputs": [
    {
     "data": {
      "text/plain": [
       "review       0\n",
       "sentiment    0\n",
       "dtype: int64"
      ]
     },
     "execution_count": 46,
     "metadata": {},
     "output_type": "execute_result"
    }
   ],
   "source": [
    "df_movie.isnull().sum()"
   ]
  },
  {
   "cell_type": "code",
   "execution_count": 47,
   "id": "a966502b",
   "metadata": {},
   "outputs": [
    {
     "data": {
      "text/plain": [
       "418"
      ]
     },
     "execution_count": 47,
     "metadata": {},
     "output_type": "execute_result"
    }
   ],
   "source": [
    "df_movie.duplicated().sum()"
   ]
  },
  {
   "cell_type": "code",
   "execution_count": 48,
   "id": "0957d362",
   "metadata": {},
   "outputs": [],
   "source": [
    "df_movie.drop_duplicates(inplace=True)"
   ]
  },
  {
   "cell_type": "code",
   "execution_count": 50,
   "id": "384f9727",
   "metadata": {},
   "outputs": [
    {
     "data": {
      "text/plain": [
       "0"
      ]
     },
     "execution_count": 50,
     "metadata": {},
     "output_type": "execute_result"
    }
   ],
   "source": [
    "df_movie.duplicated().sum()"
   ]
  },
  {
   "cell_type": "code",
   "execution_count": null,
   "id": "b3644ecf",
   "metadata": {},
   "outputs": [],
   "source": [
    "#preprocessing : \n",
    "import re \n",
    "\n",
    "\n"
   ]
  },
  {
   "cell_type": "markdown",
   "id": "2b72b713",
   "metadata": {},
   "source": [
    "## bow"
   ]
  },
  {
   "cell_type": "code",
   "execution_count": null,
   "id": "53281bf4",
   "metadata": {},
   "outputs": [],
   "source": []
  },
  {
   "cell_type": "markdown",
   "id": "3e61ce32",
   "metadata": {},
   "source": [
    "## tfidf"
   ]
  },
  {
   "cell_type": "code",
   "execution_count": null,
   "id": "a4308742",
   "metadata": {},
   "outputs": [],
   "source": []
  },
  {
   "cell_type": "markdown",
   "id": "42a8a858",
   "metadata": {},
   "source": [
    "## word2vec"
   ]
  },
  {
   "cell_type": "code",
   "execution_count": null,
   "id": "e36837e2",
   "metadata": {},
   "outputs": [],
   "source": []
  },
  {
   "cell_type": "markdown",
   "id": "ccc79ea9",
   "metadata": {},
   "source": [
    "# 5.own prev- hybrid ml models apply \n",
    "- last part use : https://github.com/campusx-official/sms-spam-classifier/blob/main/sms-spam-detection.ipynb"
   ]
  },
  {
   "cell_type": "code",
   "execution_count": null,
   "id": "3ce80ff7",
   "metadata": {},
   "outputs": [],
   "source": []
  },
  {
   "cell_type": "code",
   "execution_count": null,
   "id": "37dffb9d",
   "metadata": {},
   "outputs": [],
   "source": []
  },
  {
   "cell_type": "code",
   "execution_count": null,
   "id": "c3e1f2bf",
   "metadata": {},
   "outputs": [],
   "source": []
  },
  {
   "cell_type": "code",
   "execution_count": null,
   "id": "5770ebd2",
   "metadata": {},
   "outputs": [],
   "source": []
  },
  {
   "cell_type": "code",
   "execution_count": null,
   "id": "251e1fe4",
   "metadata": {},
   "outputs": [],
   "source": []
  },
  {
   "cell_type": "markdown",
   "id": "f349424f",
   "metadata": {},
   "source": [
    "# 6.pydata - london : ANN , LSTM , GRU \n",
    "- code : https://github.com/scoutbee/pytorch-nlp-notebooks\n",
    "- slides : in folder"
   ]
  },
  {
   "cell_type": "code",
   "execution_count": null,
   "id": "bd15ec0f",
   "metadata": {},
   "outputs": [],
   "source": []
  },
  {
   "cell_type": "code",
   "execution_count": null,
   "id": "793d00d0",
   "metadata": {},
   "outputs": [],
   "source": []
  },
  {
   "cell_type": "code",
   "execution_count": null,
   "id": "a1e89cf1",
   "metadata": {},
   "outputs": [],
   "source": []
  },
  {
   "cell_type": "markdown",
   "id": "3b6d7c14",
   "metadata": {},
   "source": [
    "# 7.pytorch - ensemble use on ANN , LSTM , GRU"
   ]
  },
  {
   "cell_type": "code",
   "execution_count": null,
   "id": "073fe413",
   "metadata": {},
   "outputs": [],
   "source": []
  },
  {
   "cell_type": "code",
   "execution_count": null,
   "id": "82b9ae57",
   "metadata": {},
   "outputs": [],
   "source": []
  },
  {
   "cell_type": "code",
   "execution_count": null,
   "id": "a99db404",
   "metadata": {},
   "outputs": [],
   "source": []
  },
  {
   "cell_type": "code",
   "execution_count": null,
   "id": "41323fd6",
   "metadata": {},
   "outputs": [],
   "source": []
  },
  {
   "cell_type": "markdown",
   "id": "c8a373fd",
   "metadata": {},
   "source": [
    "# Replacing CliSenti , SpSenti with model predictions "
   ]
  },
  {
   "cell_type": "code",
   "execution_count": null,
   "id": "2e482876",
   "metadata": {},
   "outputs": [],
   "source": []
  }
 ],
 "metadata": {
  "kernelspec": {
   "display_name": "Python 3 (ipykernel)",
   "language": "python",
   "name": "python3"
  },
  "language_info": {
   "codemirror_mode": {
    "name": "ipython",
    "version": 3
   },
   "file_extension": ".py",
   "mimetype": "text/x-python",
   "name": "python",
   "nbconvert_exporter": "python",
   "pygments_lexer": "ipython3",
   "version": "3.9.7"
  }
 },
 "nbformat": 4,
 "nbformat_minor": 5
}
