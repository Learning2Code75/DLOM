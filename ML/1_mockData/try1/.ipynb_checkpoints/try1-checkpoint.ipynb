{
 "cells": [
  {
   "cell_type": "markdown",
   "id": "43c6e6ee",
   "metadata": {},
   "source": [
    "# Importing data from csv files "
   ]
  },
  {
   "cell_type": "code",
   "execution_count": 1,
   "id": "5a9989a1",
   "metadata": {},
   "outputs": [],
   "source": [
    "import pandas as pd \n",
    "import os"
   ]
  },
  {
   "cell_type": "code",
   "execution_count": 2,
   "id": "45ec378e",
   "metadata": {},
   "outputs": [
    {
     "name": "stdout",
     "output_type": "stream",
     "text": [
      "1_orderwise_sales_December.csv\n",
      "1_orderwise_sales_October.csv\n",
      "1_orderwise_sales_July.csv\n",
      "1_orderwise_sales_September.csv\n",
      "1_orderwise_sales_June.csv\n",
      "1_orderwise_sales_May.csv\n",
      "1_orderwise_sales_January.csv\n",
      "1_orderwise_sales_March.csv\n",
      "1_orderwise_sales_February.csv\n",
      "1_orderwise_sales_November.csv\n",
      "1_orderwise_sales_April.csv\n",
      "1_orderwise_sales_August.csv\n"
     ]
    }
   ],
   "source": [
    "files = [file for file in os.listdir('../1_mockData')]\n",
    "\n",
    "all_months_data = pd.DataFrame()\n",
    "\n",
    "for file in files:\n",
    "    if(\".csv\" in file):\n",
    "        print(file)\n",
    "        df = pd.read_csv(\"../1_mockData/\"+file)\n",
    "        all_months_data = pd.concat([all_months_data,df])"
   ]
  },
  {
   "cell_type": "code",
   "execution_count": 3,
   "id": "84724981",
   "metadata": {},
   "outputs": [
    {
     "data": {
      "text/plain": [
       "(59094, 9)"
      ]
     },
     "execution_count": 3,
     "metadata": {},
     "output_type": "execute_result"
    }
   ],
   "source": [
    "all_months_data.shape"
   ]
  },
  {
   "cell_type": "code",
   "execution_count": 4,
   "id": "65cd0ad0",
   "metadata": {},
   "outputs": [
    {
     "data": {
      "text/html": [
       "<div>\n",
       "<style scoped>\n",
       "    .dataframe tbody tr th:only-of-type {\n",
       "        vertical-align: middle;\n",
       "    }\n",
       "\n",
       "    .dataframe tbody tr th {\n",
       "        vertical-align: top;\n",
       "    }\n",
       "\n",
       "    .dataframe thead th {\n",
       "        text-align: right;\n",
       "    }\n",
       "</style>\n",
       "<table border=\"1\" class=\"dataframe\">\n",
       "  <thead>\n",
       "    <tr style=\"text-align: right;\">\n",
       "      <th></th>\n",
       "      <th>Unnamed: 0</th>\n",
       "      <th>OrderID</th>\n",
       "      <th>Product</th>\n",
       "      <th>QtyOrdered</th>\n",
       "      <th>UnitPrice</th>\n",
       "      <th>OrderDate</th>\n",
       "      <th>OrderLocation</th>\n",
       "      <th>Month</th>\n",
       "      <th>ClientName</th>\n",
       "    </tr>\n",
       "  </thead>\n",
       "  <tbody>\n",
       "    <tr>\n",
       "      <th>0</th>\n",
       "      <td>0</td>\n",
       "      <td>17393</td>\n",
       "      <td>prod4</td>\n",
       "      <td>1</td>\n",
       "      <td>800</td>\n",
       "      <td>12/06/19 08:30</td>\n",
       "      <td>79 Walnut St, New York City ,NY</td>\n",
       "      <td>December</td>\n",
       "      <td>Client2</td>\n",
       "    </tr>\n",
       "    <tr>\n",
       "      <th>1</th>\n",
       "      <td>1</td>\n",
       "      <td>17393</td>\n",
       "      <td>prod12</td>\n",
       "      <td>4</td>\n",
       "      <td>400</td>\n",
       "      <td>12/06/19 08:30</td>\n",
       "      <td>79 Walnut St, New York City ,NY</td>\n",
       "      <td>December</td>\n",
       "      <td>Client2</td>\n",
       "    </tr>\n",
       "  </tbody>\n",
       "</table>\n",
       "</div>"
      ],
      "text/plain": [
       "   Unnamed: 0  OrderID Product  QtyOrdered  UnitPrice       OrderDate  \\\n",
       "0           0    17393   prod4           1        800  12/06/19 08:30   \n",
       "1           1    17393  prod12           4        400  12/06/19 08:30   \n",
       "\n",
       "                     OrderLocation     Month ClientName  \n",
       "0  79 Walnut St, New York City ,NY  December    Client2  \n",
       "1  79 Walnut St, New York City ,NY  December    Client2  "
      ]
     },
     "execution_count": 4,
     "metadata": {},
     "output_type": "execute_result"
    }
   ],
   "source": [
    "all_months_data.head(2)"
   ]
  },
  {
   "cell_type": "code",
   "execution_count": 5,
   "id": "b9e78ba9",
   "metadata": {},
   "outputs": [],
   "source": [
    "all_months_data.to_csv(\"all_data_sales_try1.csv\",index=False)"
   ]
  },
  {
   "cell_type": "code",
   "execution_count": null,
   "id": "54110685",
   "metadata": {},
   "outputs": [],
   "source": []
  }
 ],
 "metadata": {
  "kernelspec": {
   "display_name": "Python 3 (ipykernel)",
   "language": "python",
   "name": "python3"
  },
  "language_info": {
   "codemirror_mode": {
    "name": "ipython",
    "version": 3
   },
   "file_extension": ".py",
   "mimetype": "text/x-python",
   "name": "python",
   "nbconvert_exporter": "python",
   "pygments_lexer": "ipython3",
   "version": "3.9.7"
  }
 },
 "nbformat": 4,
 "nbformat_minor": 5
}
