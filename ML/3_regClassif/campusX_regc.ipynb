{
 "cells": [
  {
   "cell_type": "markdown",
   "id": "a509b9d8",
   "metadata": {},
   "source": [
    "# Vid1 : What is ML \n",
    "- What is ML ? : Learning from data\n",
    "- used in various scenarios : \n",
    "- email spam (if conditions are written - easy to hack)\n",
    "- data analysis : hidden information \n",
    "- data mining : more hidden information found\n",
    "- ML was there from a lot of time but due to applications , data explosion now , hardware now --> ML boomed"
   ]
  },
  {
   "cell_type": "markdown",
   "id": "67cafd61",
   "metadata": {},
   "source": [
    "# Vid2 : AI vs ML vs DL \n",
    "- expert systems : specific problems, could not handle fuzzy logic(img classif, voice recog)\n",
    "- ML : find pattern in data --> no rule based programming  \n",
    "- DL : it is same as ML but algo is inspired by neurons . features had to be specified in ML but DL finds features for its own. more layers --> deeper the understanding of data. more data more better performance\n",
    "- DL : img, text , GAN"
   ]
  },
  {
   "cell_type": "markdown",
   "id": "be090af7",
   "metadata": {},
   "source": [
    "# Vid3 : Types of ML \n",
    "- Supervised ML : data available includes ==> input features, output \n",
    "- "
   ]
  },
  {
   "cell_type": "code",
   "execution_count": null,
   "id": "523c7924",
   "metadata": {},
   "outputs": [],
   "source": []
  },
  {
   "cell_type": "code",
   "execution_count": null,
   "id": "b3cec37d",
   "metadata": {},
   "outputs": [],
   "source": []
  },
  {
   "cell_type": "code",
   "execution_count": null,
   "id": "efb0e2a4",
   "metadata": {},
   "outputs": [],
   "source": []
  },
  {
   "cell_type": "code",
   "execution_count": null,
   "id": "90118a3d",
   "metadata": {},
   "outputs": [],
   "source": []
  }
 ],
 "metadata": {
  "kernelspec": {
   "display_name": "Python 3 (ipykernel)",
   "language": "python",
   "name": "python3"
  },
  "language_info": {
   "codemirror_mode": {
    "name": "ipython",
    "version": 3
   },
   "file_extension": ".py",
   "mimetype": "text/x-python",
   "name": "python",
   "nbconvert_exporter": "python",
   "pygments_lexer": "ipython3",
   "version": "3.9.7"
  }
 },
 "nbformat": 4,
 "nbformat_minor": 5
}
