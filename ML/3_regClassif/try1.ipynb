{
 "cells": [
  {
   "cell_type": "code",
   "execution_count": 1,
   "id": "596d5988",
   "metadata": {},
   "outputs": [],
   "source": [
    "import pandas as pd"
   ]
  },
  {
   "cell_type": "code",
   "execution_count": 2,
   "id": "7f3b5982",
   "metadata": {},
   "outputs": [
    {
     "name": "stdout",
     "output_type": "stream",
     "text": [
      "(55219, 12)\n",
      "(18622, 9)\n",
      "(59094, 13)\n"
     ]
    }
   ],
   "source": [
    "df_orderwise = pd.read_csv(\"./orderwise_try4.csv\")\n",
    "print(df_orderwise.shape)\n",
    "df_clientwise = pd.read_csv(\"./clientwise_try2.csv\")\n",
    "print(df_clientwise.shape)\n",
    "df_productwise = pd.read_csv(\"./productwise_try2.csv\")\n",
    "print(df_productwise.shape)"
   ]
  },
  {
   "cell_type": "code",
   "execution_count": 3,
   "id": "4b0835d8",
   "metadata": {},
   "outputs": [
    {
     "data": {
      "text/html": [
       "<div>\n",
       "<style scoped>\n",
       "    .dataframe tbody tr th:only-of-type {\n",
       "        vertical-align: middle;\n",
       "    }\n",
       "\n",
       "    .dataframe tbody tr th {\n",
       "        vertical-align: top;\n",
       "    }\n",
       "\n",
       "    .dataframe thead th {\n",
       "        text-align: right;\n",
       "    }\n",
       "</style>\n",
       "<table border=\"1\" class=\"dataframe\">\n",
       "  <thead>\n",
       "    <tr style=\"text-align: right;\">\n",
       "      <th></th>\n",
       "      <th>Unnamed: 0</th>\n",
       "      <th>OrderID</th>\n",
       "      <th>ClientName</th>\n",
       "      <th>MonthNum</th>\n",
       "      <th>Hour</th>\n",
       "      <th>Minute</th>\n",
       "      <th>Day</th>\n",
       "      <th>Prods</th>\n",
       "      <th>CliSentiAvg</th>\n",
       "      <th>SpSentiAvg</th>\n",
       "      <th>QtyOrdered</th>\n",
       "      <th>Sales</th>\n",
       "    </tr>\n",
       "  </thead>\n",
       "  <tbody>\n",
       "    <tr>\n",
       "      <th>0</th>\n",
       "      <td>0</td>\n",
       "      <td>1001</td>\n",
       "      <td>Client1</td>\n",
       "      <td>1</td>\n",
       "      <td>20</td>\n",
       "      <td>51</td>\n",
       "      <td>4</td>\n",
       "      <td>prod14,prod6,prod2</td>\n",
       "      <td>0.2</td>\n",
       "      <td>0.4</td>\n",
       "      <td>1</td>\n",
       "      <td>100</td>\n",
       "    </tr>\n",
       "    <tr>\n",
       "      <th>1</th>\n",
       "      <td>1</td>\n",
       "      <td>1001</td>\n",
       "      <td>Client1</td>\n",
       "      <td>1</td>\n",
       "      <td>20</td>\n",
       "      <td>51</td>\n",
       "      <td>4</td>\n",
       "      <td>prod14,prod6,prod2</td>\n",
       "      <td>0.4</td>\n",
       "      <td>0.4</td>\n",
       "      <td>3</td>\n",
       "      <td>1800</td>\n",
       "    </tr>\n",
       "  </tbody>\n",
       "</table>\n",
       "</div>"
      ],
      "text/plain": [
       "   Unnamed: 0  OrderID ClientName  MonthNum  Hour  Minute  Day  \\\n",
       "0           0     1001    Client1         1    20      51    4   \n",
       "1           1     1001    Client1         1    20      51    4   \n",
       "\n",
       "                Prods  CliSentiAvg  SpSentiAvg  QtyOrdered  Sales  \n",
       "0  prod14,prod6,prod2          0.2         0.4           1    100  \n",
       "1  prod14,prod6,prod2          0.4         0.4           3   1800  "
      ]
     },
     "execution_count": 3,
     "metadata": {},
     "output_type": "execute_result"
    }
   ],
   "source": [
    "df_orderwise.head(2)"
   ]
  },
  {
   "cell_type": "code",
   "execution_count": 4,
   "id": "7c0df02f",
   "metadata": {},
   "outputs": [
    {
     "data": {
      "text/html": [
       "<div>\n",
       "<style scoped>\n",
       "    .dataframe tbody tr th:only-of-type {\n",
       "        vertical-align: middle;\n",
       "    }\n",
       "\n",
       "    .dataframe tbody tr th {\n",
       "        vertical-align: top;\n",
       "    }\n",
       "\n",
       "    .dataframe thead th {\n",
       "        text-align: right;\n",
       "    }\n",
       "</style>\n",
       "<table border=\"1\" class=\"dataframe\">\n",
       "  <thead>\n",
       "    <tr style=\"text-align: right;\">\n",
       "      <th></th>\n",
       "      <th>Unnamed: 0</th>\n",
       "      <th>OrderID</th>\n",
       "      <th>MonthNum</th>\n",
       "      <th>ClientName</th>\n",
       "      <th>Prods</th>\n",
       "      <th>QtyOrdered</th>\n",
       "      <th>Sales</th>\n",
       "      <th>CliSentiAvg</th>\n",
       "      <th>SpSentiAvg</th>\n",
       "    </tr>\n",
       "  </thead>\n",
       "  <tbody>\n",
       "    <tr>\n",
       "      <th>0</th>\n",
       "      <td>0</td>\n",
       "      <td>1001</td>\n",
       "      <td>1</td>\n",
       "      <td>Client1</td>\n",
       "      <td>prod14,prod6,prod2</td>\n",
       "      <td>5</td>\n",
       "      <td>2400</td>\n",
       "      <td>0.2</td>\n",
       "      <td>0.4</td>\n",
       "    </tr>\n",
       "    <tr>\n",
       "      <th>1</th>\n",
       "      <td>1</td>\n",
       "      <td>1002</td>\n",
       "      <td>1</td>\n",
       "      <td>Client8</td>\n",
       "      <td>prod2,prod15,prod15</td>\n",
       "      <td>10</td>\n",
       "      <td>9500</td>\n",
       "      <td>0.4</td>\n",
       "      <td>0.4</td>\n",
       "    </tr>\n",
       "  </tbody>\n",
       "</table>\n",
       "</div>"
      ],
      "text/plain": [
       "   Unnamed: 0  OrderID  MonthNum ClientName                Prods  QtyOrdered  \\\n",
       "0           0     1001         1    Client1   prod14,prod6,prod2           5   \n",
       "1           1     1002         1    Client8  prod2,prod15,prod15          10   \n",
       "\n",
       "   Sales  CliSentiAvg  SpSentiAvg  \n",
       "0   2400          0.2         0.4  \n",
       "1   9500          0.4         0.4  "
      ]
     },
     "execution_count": 4,
     "metadata": {},
     "output_type": "execute_result"
    }
   ],
   "source": [
    "df_clientwise.head(2)"
   ]
  },
  {
   "cell_type": "code",
   "execution_count": 5,
   "id": "bcda87d6",
   "metadata": {},
   "outputs": [
    {
     "data": {
      "text/html": [
       "<div>\n",
       "<style scoped>\n",
       "    .dataframe tbody tr th:only-of-type {\n",
       "        vertical-align: middle;\n",
       "    }\n",
       "\n",
       "    .dataframe tbody tr th {\n",
       "        vertical-align: top;\n",
       "    }\n",
       "\n",
       "    .dataframe thead th {\n",
       "        text-align: right;\n",
       "    }\n",
       "</style>\n",
       "<table border=\"1\" class=\"dataframe\">\n",
       "  <thead>\n",
       "    <tr style=\"text-align: right;\">\n",
       "      <th></th>\n",
       "      <th>Unnamed: 0</th>\n",
       "      <th>ProdName</th>\n",
       "      <th>MonthNum</th>\n",
       "      <th>OrderID</th>\n",
       "      <th>OrderQty</th>\n",
       "      <th>OrderTotal</th>\n",
       "      <th>ClientName</th>\n",
       "      <th>ProdPrice</th>\n",
       "      <th>Hour</th>\n",
       "      <th>Minute</th>\n",
       "      <th>Day</th>\n",
       "      <th>CliSentiAvg</th>\n",
       "      <th>SpSentiAvg</th>\n",
       "    </tr>\n",
       "  </thead>\n",
       "  <tbody>\n",
       "    <tr>\n",
       "      <th>0</th>\n",
       "      <td>0</td>\n",
       "      <td>prod4</td>\n",
       "      <td>12</td>\n",
       "      <td>17393</td>\n",
       "      <td>1</td>\n",
       "      <td>800</td>\n",
       "      <td>Client2</td>\n",
       "      <td>800</td>\n",
       "      <td>8</td>\n",
       "      <td>30</td>\n",
       "      <td>4</td>\n",
       "      <td>0.4</td>\n",
       "      <td>0.4</td>\n",
       "    </tr>\n",
       "    <tr>\n",
       "      <th>1</th>\n",
       "      <td>1</td>\n",
       "      <td>prod12</td>\n",
       "      <td>12</td>\n",
       "      <td>17393</td>\n",
       "      <td>1</td>\n",
       "      <td>800</td>\n",
       "      <td>Client2</td>\n",
       "      <td>1600</td>\n",
       "      <td>8</td>\n",
       "      <td>30</td>\n",
       "      <td>4</td>\n",
       "      <td>0.4</td>\n",
       "      <td>0.6</td>\n",
       "    </tr>\n",
       "  </tbody>\n",
       "</table>\n",
       "</div>"
      ],
      "text/plain": [
       "   Unnamed: 0 ProdName  MonthNum  OrderID  OrderQty  OrderTotal ClientName  \\\n",
       "0           0    prod4        12    17393         1         800    Client2   \n",
       "1           1   prod12        12    17393         1         800    Client2   \n",
       "\n",
       "   ProdPrice  Hour  Minute  Day  CliSentiAvg  SpSentiAvg  \n",
       "0        800     8      30    4          0.4         0.4  \n",
       "1       1600     8      30    4          0.4         0.6  "
      ]
     },
     "execution_count": 5,
     "metadata": {},
     "output_type": "execute_result"
    }
   ],
   "source": [
    "df_productwise.head(2)"
   ]
  },
  {
   "cell_type": "code",
   "execution_count": null,
   "id": "dfed57b1",
   "metadata": {},
   "outputs": [],
   "source": []
  }
 ],
 "metadata": {
  "kernelspec": {
   "display_name": "Python 3 (ipykernel)",
   "language": "python",
   "name": "python3"
  },
  "language_info": {
   "codemirror_mode": {
    "name": "ipython",
    "version": 3
   },
   "file_extension": ".py",
   "mimetype": "text/x-python",
   "name": "python",
   "nbconvert_exporter": "python",
   "pygments_lexer": "ipython3",
   "version": "3.9.7"
  }
 },
 "nbformat": 4,
 "nbformat_minor": 5
}
