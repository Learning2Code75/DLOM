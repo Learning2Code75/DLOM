{
 "cells": [
  {
   "cell_type": "code",
   "execution_count": 3,
   "id": "d0d4a61d",
   "metadata": {},
   "outputs": [],
   "source": [
    "import pandas as pd \n",
    "import os \n"
   ]
  },
  {
   "cell_type": "code",
   "execution_count": 9,
   "id": "ca3bd206",
   "metadata": {},
   "outputs": [
    {
     "name": "stdout",
     "output_type": "stream",
     "text": [
      "1_orderwise_sales_December.csv\n",
      "1_orderwise_sales_October.csv\n",
      "1_orderwise_sales_July.csv\n",
      "1_orderwise_sales_September.csv\n",
      "1_orderwise_sales_June.csv\n",
      "1_orderwise_sales_May.csv\n",
      "1_orderwise_sales_January.csv\n",
      "1_orderwise_sales_March.csv\n",
      "1_orderwise_sales_February.csv\n",
      "1_orderwise_sales_November.csv\n",
      "1_orderwise_sales_April.csv\n",
      "1_orderwise_sales_August.csv\n"
     ]
    }
   ],
   "source": [
    "files = [file for file in os.listdir('../1_mockData')]\n",
    "\n",
    "all_months_data = pd.DataFrame()\n",
    "\n",
    "for file in files:\n",
    "    if(\".csv\" in file):\n",
    "        print(file)\n",
    "        df = pd.read_csv(\"../1_mockData/\"+file)\n",
    "        all_months_data = pd.concat([all_months_data,df])\n",
    "        \n",
    "all_months_data.to_csv(\"all_data_sales.csv\",index=False)"
   ]
  },
  {
   "cell_type": "code",
   "execution_count": 5,
   "id": "9a45a550",
   "metadata": {
    "scrolled": false
   },
   "outputs": [
    {
     "data": {
      "text/html": [
       "<div>\n",
       "<style scoped>\n",
       "    .dataframe tbody tr th:only-of-type {\n",
       "        vertical-align: middle;\n",
       "    }\n",
       "\n",
       "    .dataframe tbody tr th {\n",
       "        vertical-align: top;\n",
       "    }\n",
       "\n",
       "    .dataframe thead th {\n",
       "        text-align: right;\n",
       "    }\n",
       "</style>\n",
       "<table border=\"1\" class=\"dataframe\">\n",
       "  <thead>\n",
       "    <tr style=\"text-align: right;\">\n",
       "      <th></th>\n",
       "      <th>Unnamed: 0</th>\n",
       "      <th>OrderID</th>\n",
       "      <th>Product</th>\n",
       "      <th>QtyOrdered</th>\n",
       "      <th>UnitPrice</th>\n",
       "      <th>OrderDate</th>\n",
       "      <th>OrderLocation</th>\n",
       "      <th>Month</th>\n",
       "      <th>ClientName</th>\n",
       "    </tr>\n",
       "  </thead>\n",
       "  <tbody>\n",
       "    <tr>\n",
       "      <th>0</th>\n",
       "      <td>0</td>\n",
       "      <td>17393</td>\n",
       "      <td>prod4</td>\n",
       "      <td>1</td>\n",
       "      <td>800</td>\n",
       "      <td>12/06/19 08:30</td>\n",
       "      <td>79 Walnut St, New York City ,NY</td>\n",
       "      <td>December</td>\n",
       "      <td>Client2</td>\n",
       "    </tr>\n",
       "    <tr>\n",
       "      <th>1</th>\n",
       "      <td>1</td>\n",
       "      <td>17393</td>\n",
       "      <td>prod12</td>\n",
       "      <td>4</td>\n",
       "      <td>400</td>\n",
       "      <td>12/06/19 08:30</td>\n",
       "      <td>79 Walnut St, New York City ,NY</td>\n",
       "      <td>December</td>\n",
       "      <td>Client2</td>\n",
       "    </tr>\n",
       "    <tr>\n",
       "      <th>2</th>\n",
       "      <td>2</td>\n",
       "      <td>17393</td>\n",
       "      <td>prod2</td>\n",
       "      <td>7</td>\n",
       "      <td>500</td>\n",
       "      <td>12/06/19 08:30</td>\n",
       "      <td>79 Walnut St, New York City ,NY</td>\n",
       "      <td>December</td>\n",
       "      <td>Client2</td>\n",
       "    </tr>\n",
       "    <tr>\n",
       "      <th>3</th>\n",
       "      <td>3</td>\n",
       "      <td>17393</td>\n",
       "      <td>prod5</td>\n",
       "      <td>10</td>\n",
       "      <td>900</td>\n",
       "      <td>12/06/19 08:30</td>\n",
       "      <td>79 Walnut St, New York City ,NY</td>\n",
       "      <td>December</td>\n",
       "      <td>Client2</td>\n",
       "    </tr>\n",
       "    <tr>\n",
       "      <th>4</th>\n",
       "      <td>4</td>\n",
       "      <td>17394</td>\n",
       "      <td>prod14</td>\n",
       "      <td>1</td>\n",
       "      <td>100</td>\n",
       "      <td>12/26/19 17:28</td>\n",
       "      <td>362 Adams St, Dallas ,TX</td>\n",
       "      <td>December</td>\n",
       "      <td>Client4</td>\n",
       "    </tr>\n",
       "  </tbody>\n",
       "</table>\n",
       "</div>"
      ],
      "text/plain": [
       "   Unnamed: 0  OrderID Product  QtyOrdered  UnitPrice       OrderDate  \\\n",
       "0           0    17393   prod4           1        800  12/06/19 08:30   \n",
       "1           1    17393  prod12           4        400  12/06/19 08:30   \n",
       "2           2    17393   prod2           7        500  12/06/19 08:30   \n",
       "3           3    17393   prod5          10        900  12/06/19 08:30   \n",
       "4           4    17394  prod14           1        100  12/26/19 17:28   \n",
       "\n",
       "                     OrderLocation     Month ClientName  \n",
       "0  79 Walnut St, New York City ,NY  December    Client2  \n",
       "1  79 Walnut St, New York City ,NY  December    Client2  \n",
       "2  79 Walnut St, New York City ,NY  December    Client2  \n",
       "3  79 Walnut St, New York City ,NY  December    Client2  \n",
       "4         362 Adams St, Dallas ,TX  December    Client4  "
      ]
     },
     "execution_count": 5,
     "metadata": {},
     "output_type": "execute_result"
    }
   ],
   "source": [
    "df = pd.read_csv(\"all_data_sales.csv\")\n",
    "df.head()"
   ]
  },
  {
   "cell_type": "code",
   "execution_count": 6,
   "id": "f02b745a",
   "metadata": {},
   "outputs": [
    {
     "name": "stdout",
     "output_type": "stream",
     "text": [
      "<class 'pandas.core.frame.DataFrame'>\n",
      "RangeIndex: 59094 entries, 0 to 59093\n",
      "Data columns (total 9 columns):\n",
      " #   Column         Non-Null Count  Dtype \n",
      "---  ------         --------------  ----- \n",
      " 0   Unnamed: 0     59094 non-null  int64 \n",
      " 1   OrderID        59094 non-null  int64 \n",
      " 2   Product        59094 non-null  object\n",
      " 3   QtyOrdered     59094 non-null  int64 \n",
      " 4   UnitPrice      59094 non-null  int64 \n",
      " 5   OrderDate      59094 non-null  object\n",
      " 6   OrderLocation  59094 non-null  object\n",
      " 7   Month          59094 non-null  object\n",
      " 8   ClientName     59094 non-null  object\n",
      "dtypes: int64(4), object(5)\n",
      "memory usage: 4.1+ MB\n"
     ]
    }
   ],
   "source": [
    "df.info()"
   ]
  },
  {
   "cell_type": "code",
   "execution_count": 7,
   "id": "56f5c4b0",
   "metadata": {},
   "outputs": [
    {
     "data": {
      "text/html": [
       "<div>\n",
       "<style scoped>\n",
       "    .dataframe tbody tr th:only-of-type {\n",
       "        vertical-align: middle;\n",
       "    }\n",
       "\n",
       "    .dataframe tbody tr th {\n",
       "        vertical-align: top;\n",
       "    }\n",
       "\n",
       "    .dataframe thead th {\n",
       "        text-align: right;\n",
       "    }\n",
       "</style>\n",
       "<table border=\"1\" class=\"dataframe\">\n",
       "  <thead>\n",
       "    <tr style=\"text-align: right;\">\n",
       "      <th></th>\n",
       "      <th>Unnamed: 0</th>\n",
       "      <th>OrderID</th>\n",
       "      <th>QtyOrdered</th>\n",
       "      <th>UnitPrice</th>\n",
       "    </tr>\n",
       "  </thead>\n",
       "  <tbody>\n",
       "    <tr>\n",
       "      <th>count</th>\n",
       "      <td>59094.000000</td>\n",
       "      <td>59094.000000</td>\n",
       "      <td>59094.000000</td>\n",
       "      <td>59094.000000</td>\n",
       "    </tr>\n",
       "    <tr>\n",
       "      <th>mean</th>\n",
       "      <td>2574.685704</td>\n",
       "      <td>10307.503486</td>\n",
       "      <td>4.428588</td>\n",
       "      <td>559.801333</td>\n",
       "    </tr>\n",
       "    <tr>\n",
       "      <th>std</th>\n",
       "      <td>1609.386840</td>\n",
       "      <td>5384.004816</td>\n",
       "      <td>3.497477</td>\n",
       "      <td>302.814769</td>\n",
       "    </tr>\n",
       "    <tr>\n",
       "      <th>min</th>\n",
       "      <td>0.000000</td>\n",
       "      <td>1001.000000</td>\n",
       "      <td>1.000000</td>\n",
       "      <td>100.000000</td>\n",
       "    </tr>\n",
       "    <tr>\n",
       "      <th>25%</th>\n",
       "      <td>1231.000000</td>\n",
       "      <td>5642.000000</td>\n",
       "      <td>1.000000</td>\n",
       "      <td>300.000000</td>\n",
       "    </tr>\n",
       "    <tr>\n",
       "      <th>50%</th>\n",
       "      <td>2462.000000</td>\n",
       "      <td>10313.000000</td>\n",
       "      <td>3.000000</td>\n",
       "      <td>500.000000</td>\n",
       "    </tr>\n",
       "    <tr>\n",
       "      <th>75%</th>\n",
       "      <td>3745.000000</td>\n",
       "      <td>14978.000000</td>\n",
       "      <td>8.000000</td>\n",
       "      <td>800.000000</td>\n",
       "    </tr>\n",
       "    <tr>\n",
       "      <th>max</th>\n",
       "      <td>7091.000000</td>\n",
       "      <td>19622.000000</td>\n",
       "      <td>11.000000</td>\n",
       "      <td>1000.000000</td>\n",
       "    </tr>\n",
       "  </tbody>\n",
       "</table>\n",
       "</div>"
      ],
      "text/plain": [
       "         Unnamed: 0       OrderID    QtyOrdered     UnitPrice\n",
       "count  59094.000000  59094.000000  59094.000000  59094.000000\n",
       "mean    2574.685704  10307.503486      4.428588    559.801333\n",
       "std     1609.386840   5384.004816      3.497477    302.814769\n",
       "min        0.000000   1001.000000      1.000000    100.000000\n",
       "25%     1231.000000   5642.000000      1.000000    300.000000\n",
       "50%     2462.000000  10313.000000      3.000000    500.000000\n",
       "75%     3745.000000  14978.000000      8.000000    800.000000\n",
       "max     7091.000000  19622.000000     11.000000   1000.000000"
      ]
     },
     "execution_count": 7,
     "metadata": {},
     "output_type": "execute_result"
    }
   ],
   "source": [
    "df.describe()"
   ]
  },
  {
   "cell_type": "markdown",
   "id": "29286d57",
   "metadata": {},
   "source": [
    "# Desired datasets : \n",
    "## Orderwise prediction of sales \n",
    "OrderID | ProdName | Prod Qty | Unit Price | Month | Order Location | Client Sentiment (before order) | Salesperson Sentiment (before order) | Total sales\n",
    "\n",
    "## Productwise prediction of sales \n",
    "ProdName | Month | Order Value | Order Qty | # sold\n",
    "\n",
    "## Clientwise prediction of sales \n",
    "CustID | CustName | Month | Location | Client Sentiments | Salesperson Sentiments | Total Sales  "
   ]
  },
  {
   "cell_type": "code",
   "execution_count": 8,
   "id": "4bff8b7a",
   "metadata": {},
   "outputs": [],
   "source": [
    "# Build from df + df_senti + clientwise\n",
    "#orderwise : orderid | prodarr              |totQty | month | location| ClientName |totPrice| cli avg sentiScore| sp avg sentiScore            \n",
    "#           ord_id_1 | [prod1,prod2,prod3,..]| 4    |January| addr    |   client1  |  4555  |     60            |         30\n",
    "# predict totPrice(reg)\n",
    "\n",
    "#prodwise : prodName | month | orderQty | orderTotal |clientName| prodPrice(unit*qty)\n",
    "#             prod1  |January|  5       |    4555    |client1   |     2555\n",
    "# predict prodPrice(reg) , prodName(classif), clientName(classif)\n",
    "\n",
    "#clientwise: clientName | month | orderQty | prodarr        | orderTotal  | cli_avg_senti | sp_avg_senti\n",
    "#             client1   |January|   40      |[p1,p2,p3,p4]  |    30000    |      60       |       50 \n",
    "# predict orderTotal(reg) \n",
    "\n",
    "#df_senti \n",
    "#for orderwise order_id  | cli_chats(bef that order) | sp_chats(bef that order) | cli_avg_senti | sp_avg_senti\n",
    "\n",
    "#Build from df_senti\n",
    "\n",
    "#for clientwise   clientName | month | cli_chats(that month) | sp_chats(that month) | cli_avg_senti | sp_avg_senti"
   ]
  },
  {
   "cell_type": "code",
   "execution_count": null,
   "id": "c986357b",
   "metadata": {},
   "outputs": [],
   "source": [
    "df = df.reset_index()\n"
   ]
  },
  {
   "cell_type": "code",
   "execution_count": null,
   "id": "b6adc550",
   "metadata": {},
   "outputs": [],
   "source": [
    "columns_orderwise = ['OrderId','Prodarr','TotQty','Month','Location','ClientName','CliAvgSentiScore','SPAvgSentScore','TotPrice']\n",
    "df_orderwise = pd.DataFrame(columns=columns_orderwise)\n",
    "i = 0\n",
    "for index, row in df.iterrows():\n",
    "#     print(row['OrderID'])\n",
    "    df_orderwise.loc[i] = [row['OrderID'],\"NA\",\"NA\",\"NA\",\"NA\",\"NA\",\"NA\",\"NA\",\"NA\"]\n",
    "    i=i+1"
   ]
  },
  {
   "cell_type": "code",
   "execution_count": null,
   "id": "c960924d",
   "metadata": {},
   "outputs": [],
   "source": [
    "df_orderwise.head()"
   ]
  },
  {
   "cell_type": "code",
   "execution_count": 27,
   "id": "47a8245b",
   "metadata": {},
   "outputs": [],
   "source": [
    "def create_orderwise_1(x):\n",
    "    return x\n",
    "def create_orderwise_2(x):\n",
    "    "
   ]
  },
  {
   "cell_type": "code",
   "execution_count": 28,
   "id": "64a13712",
   "metadata": {},
   "outputs": [
    {
     "data": {
      "text/html": [
       "<div>\n",
       "<style scoped>\n",
       "    .dataframe tbody tr th:only-of-type {\n",
       "        vertical-align: middle;\n",
       "    }\n",
       "\n",
       "    .dataframe tbody tr th {\n",
       "        vertical-align: top;\n",
       "    }\n",
       "\n",
       "    .dataframe thead th {\n",
       "        text-align: right;\n",
       "    }\n",
       "</style>\n",
       "<table border=\"1\" class=\"dataframe\">\n",
       "  <thead>\n",
       "    <tr style=\"text-align: right;\">\n",
       "      <th></th>\n",
       "      <th>0</th>\n",
       "    </tr>\n",
       "  </thead>\n",
       "  <tbody>\n",
       "    <tr>\n",
       "      <th>0</th>\n",
       "      <td>17393</td>\n",
       "    </tr>\n",
       "    <tr>\n",
       "      <th>1</th>\n",
       "      <td>17393</td>\n",
       "    </tr>\n",
       "    <tr>\n",
       "      <th>2</th>\n",
       "      <td>17393</td>\n",
       "    </tr>\n",
       "    <tr>\n",
       "      <th>3</th>\n",
       "      <td>17393</td>\n",
       "    </tr>\n",
       "    <tr>\n",
       "      <th>4</th>\n",
       "      <td>17394</td>\n",
       "    </tr>\n",
       "  </tbody>\n",
       "</table>\n",
       "</div>"
      ],
      "text/plain": [
       "       0\n",
       "0  17393\n",
       "1  17393\n",
       "2  17393\n",
       "3  17393\n",
       "4  17394"
      ]
     },
     "execution_count": 28,
     "metadata": {},
     "output_type": "execute_result"
    }
   ],
   "source": [
    "result1 = [create_orderwise_1(x) for x in df['OrderID']]\n",
    "df_orderwise_1 = pd.DataFrame(result1)\n",
    "df_orderwise_1.head()"
   ]
  },
  {
   "cell_type": "code",
   "execution_count": null,
   "id": "cfaac5d4",
   "metadata": {},
   "outputs": [],
   "source": [
    "result2 = []\n",
    "# Iterating over one column - `f` is some function that processes your data\n",
    "result = [f(x) for x in df['col']]\n",
    "# Iterating over two columns, use `zip`\n",
    "result = [f(x, y) for x, y in zip(df['col1'], df['col2'])]\n",
    "# Iterating over multiple columns - same data type\n",
    "result = [f(row[0], ..., row[n]) for row in df[['col1', ...,'coln']].to_numpy()]\n",
    "# Iterating over multiple columns - differing data type\n",
    "result = [f(row[0], ..., row[n]) for row in zip(df['col1'], ..., df['coln'])]\n"
   ]
  },
  {
   "cell_type": "markdown",
   "id": "ab72c75f",
   "metadata": {},
   "source": [
    "# Final data generation "
   ]
  },
  {
   "cell_type": "code",
   "execution_count": 30,
   "id": "99b24d64",
   "metadata": {},
   "outputs": [
    {
     "data": {
      "text/html": [
       "<div>\n",
       "<style scoped>\n",
       "    .dataframe tbody tr th:only-of-type {\n",
       "        vertical-align: middle;\n",
       "    }\n",
       "\n",
       "    .dataframe tbody tr th {\n",
       "        vertical-align: top;\n",
       "    }\n",
       "\n",
       "    .dataframe thead th {\n",
       "        text-align: right;\n",
       "    }\n",
       "</style>\n",
       "<table border=\"1\" class=\"dataframe\">\n",
       "  <thead>\n",
       "    <tr style=\"text-align: right;\">\n",
       "      <th></th>\n",
       "      <th>Unnamed: 0</th>\n",
       "      <th>OrderID</th>\n",
       "      <th>Product</th>\n",
       "      <th>QtyOrdered</th>\n",
       "      <th>UnitPrice</th>\n",
       "      <th>OrderDate</th>\n",
       "      <th>OrderLocation</th>\n",
       "      <th>Month</th>\n",
       "      <th>ClientName</th>\n",
       "    </tr>\n",
       "  </thead>\n",
       "  <tbody>\n",
       "    <tr>\n",
       "      <th>0</th>\n",
       "      <td>0</td>\n",
       "      <td>17393</td>\n",
       "      <td>prod4</td>\n",
       "      <td>1</td>\n",
       "      <td>800</td>\n",
       "      <td>12/06/19 08:30</td>\n",
       "      <td>79 Walnut St, New York City ,NY</td>\n",
       "      <td>December</td>\n",
       "      <td>Client2</td>\n",
       "    </tr>\n",
       "    <tr>\n",
       "      <th>1</th>\n",
       "      <td>1</td>\n",
       "      <td>17393</td>\n",
       "      <td>prod12</td>\n",
       "      <td>4</td>\n",
       "      <td>400</td>\n",
       "      <td>12/06/19 08:30</td>\n",
       "      <td>79 Walnut St, New York City ,NY</td>\n",
       "      <td>December</td>\n",
       "      <td>Client2</td>\n",
       "    </tr>\n",
       "    <tr>\n",
       "      <th>2</th>\n",
       "      <td>2</td>\n",
       "      <td>17393</td>\n",
       "      <td>prod2</td>\n",
       "      <td>7</td>\n",
       "      <td>500</td>\n",
       "      <td>12/06/19 08:30</td>\n",
       "      <td>79 Walnut St, New York City ,NY</td>\n",
       "      <td>December</td>\n",
       "      <td>Client2</td>\n",
       "    </tr>\n",
       "    <tr>\n",
       "      <th>3</th>\n",
       "      <td>3</td>\n",
       "      <td>17393</td>\n",
       "      <td>prod5</td>\n",
       "      <td>10</td>\n",
       "      <td>900</td>\n",
       "      <td>12/06/19 08:30</td>\n",
       "      <td>79 Walnut St, New York City ,NY</td>\n",
       "      <td>December</td>\n",
       "      <td>Client2</td>\n",
       "    </tr>\n",
       "    <tr>\n",
       "      <th>4</th>\n",
       "      <td>4</td>\n",
       "      <td>17394</td>\n",
       "      <td>prod14</td>\n",
       "      <td>1</td>\n",
       "      <td>100</td>\n",
       "      <td>12/26/19 17:28</td>\n",
       "      <td>362 Adams St, Dallas ,TX</td>\n",
       "      <td>December</td>\n",
       "      <td>Client4</td>\n",
       "    </tr>\n",
       "  </tbody>\n",
       "</table>\n",
       "</div>"
      ],
      "text/plain": [
       "   Unnamed: 0  OrderID Product  QtyOrdered  UnitPrice       OrderDate  \\\n",
       "0           0    17393   prod4           1        800  12/06/19 08:30   \n",
       "1           1    17393  prod12           4        400  12/06/19 08:30   \n",
       "2           2    17393   prod2           7        500  12/06/19 08:30   \n",
       "3           3    17393   prod5          10        900  12/06/19 08:30   \n",
       "4           4    17394  prod14           1        100  12/26/19 17:28   \n",
       "\n",
       "                     OrderLocation     Month ClientName  \n",
       "0  79 Walnut St, New York City ,NY  December    Client2  \n",
       "1  79 Walnut St, New York City ,NY  December    Client2  \n",
       "2  79 Walnut St, New York City ,NY  December    Client2  \n",
       "3  79 Walnut St, New York City ,NY  December    Client2  \n",
       "4         362 Adams St, Dallas ,TX  December    Client4  "
      ]
     },
     "execution_count": 30,
     "metadata": {},
     "output_type": "execute_result"
    }
   ],
   "source": [
    "df_raw = pd.read_csv(\"all_data_sales.csv\")\n",
    "df_raw.head()"
   ]
  },
  {
   "cell_type": "code",
   "execution_count": 35,
   "id": "25ce0c68",
   "metadata": {},
   "outputs": [
    {
     "name": "stdout",
     "output_type": "stream",
     "text": [
      "Predict TotPrice\n"
     ]
    },
    {
     "data": {
      "text/html": [
       "<div>\n",
       "<style scoped>\n",
       "    .dataframe tbody tr th:only-of-type {\n",
       "        vertical-align: middle;\n",
       "    }\n",
       "\n",
       "    .dataframe tbody tr th {\n",
       "        vertical-align: top;\n",
       "    }\n",
       "\n",
       "    .dataframe thead th {\n",
       "        text-align: right;\n",
       "    }\n",
       "</style>\n",
       "<table border=\"1\" class=\"dataframe\">\n",
       "  <thead>\n",
       "    <tr style=\"text-align: right;\">\n",
       "      <th></th>\n",
       "      <th>OrderId</th>\n",
       "      <th>Prods</th>\n",
       "      <th>TotQty</th>\n",
       "      <th>Month</th>\n",
       "      <th>Location</th>\n",
       "      <th>ClientName</th>\n",
       "      <th>CliAvgSenti</th>\n",
       "      <th>SpAvgSenti</th>\n",
       "      <th>TotPrice</th>\n",
       "    </tr>\n",
       "  </thead>\n",
       "  <tbody>\n",
       "  </tbody>\n",
       "</table>\n",
       "</div>"
      ],
      "text/plain": [
       "Empty DataFrame\n",
       "Columns: [OrderId, Prods, TotQty, Month, Location, ClientName, CliAvgSenti, SpAvgSenti, TotPrice]\n",
       "Index: []"
      ]
     },
     "execution_count": 35,
     "metadata": {},
     "output_type": "execute_result"
    }
   ],
   "source": [
    "columns_orderwise_try1 = ['OrderId','Prods','TotQty','Month','Location','ClientName','CliAvgSenti','SpAvgSenti','TotPrice']\n",
    "df_orderwise_try1 = pd.DataFrame(columns=columns_orderwise_try1)\n",
    "print(\"Predict: TotPrice\")\n",
    "df_orderwise_try1.head()\n",
    "#if not using query : build the entire dataframe during data gen\n"
   ]
  },
  {
   "cell_type": "code",
   "execution_count": 52,
   "id": "4d90e3d8",
   "metadata": {},
   "outputs": [
    {
     "name": "stdout",
     "output_type": "stream",
     "text": [
      "Predict: ProdPrice,ProdName,ClientName\n"
     ]
    },
    {
     "data": {
      "text/html": [
       "<div>\n",
       "<style scoped>\n",
       "    .dataframe tbody tr th:only-of-type {\n",
       "        vertical-align: middle;\n",
       "    }\n",
       "\n",
       "    .dataframe tbody tr th {\n",
       "        vertical-align: top;\n",
       "    }\n",
       "\n",
       "    .dataframe thead th {\n",
       "        text-align: right;\n",
       "    }\n",
       "</style>\n",
       "<table border=\"1\" class=\"dataframe\">\n",
       "  <thead>\n",
       "    <tr style=\"text-align: right;\">\n",
       "      <th></th>\n",
       "      <th>ProdName</th>\n",
       "      <th>Month</th>\n",
       "      <th>OrderQty</th>\n",
       "      <th>OrderTotal</th>\n",
       "      <th>ClientName</th>\n",
       "      <th>ProdPrice</th>\n",
       "    </tr>\n",
       "  </thead>\n",
       "  <tbody>\n",
       "    <tr>\n",
       "      <th>0</th>\n",
       "      <td>prod4</td>\n",
       "      <td>December</td>\n",
       "      <td>NaN</td>\n",
       "      <td>NaN</td>\n",
       "      <td>Client2</td>\n",
       "      <td>800</td>\n",
       "    </tr>\n",
       "    <tr>\n",
       "      <th>1</th>\n",
       "      <td>prod12</td>\n",
       "      <td>December</td>\n",
       "      <td>NaN</td>\n",
       "      <td>NaN</td>\n",
       "      <td>Client2</td>\n",
       "      <td>1600</td>\n",
       "    </tr>\n",
       "    <tr>\n",
       "      <th>2</th>\n",
       "      <td>prod2</td>\n",
       "      <td>December</td>\n",
       "      <td>NaN</td>\n",
       "      <td>NaN</td>\n",
       "      <td>Client2</td>\n",
       "      <td>3500</td>\n",
       "    </tr>\n",
       "    <tr>\n",
       "      <th>3</th>\n",
       "      <td>prod5</td>\n",
       "      <td>December</td>\n",
       "      <td>NaN</td>\n",
       "      <td>NaN</td>\n",
       "      <td>Client2</td>\n",
       "      <td>9000</td>\n",
       "    </tr>\n",
       "    <tr>\n",
       "      <th>4</th>\n",
       "      <td>prod14</td>\n",
       "      <td>December</td>\n",
       "      <td>NaN</td>\n",
       "      <td>NaN</td>\n",
       "      <td>Client4</td>\n",
       "      <td>100</td>\n",
       "    </tr>\n",
       "  </tbody>\n",
       "</table>\n",
       "</div>"
      ],
      "text/plain": [
       "  ProdName     Month OrderQty OrderTotal ClientName  ProdPrice\n",
       "0    prod4  December      NaN        NaN    Client2        800\n",
       "1   prod12  December      NaN        NaN    Client2       1600\n",
       "2    prod2  December      NaN        NaN    Client2       3500\n",
       "3    prod5  December      NaN        NaN    Client2       9000\n",
       "4   prod14  December      NaN        NaN    Client4        100"
      ]
     },
     "execution_count": 52,
     "metadata": {},
     "output_type": "execute_result"
    }
   ],
   "source": [
    "columns_productwise_try1 = ['ProdName','Month','OrderQty','OrderTotal','ClientName','ProdPrice']\n",
    "df_productwise_try1 = pd.DataFrame(columns=columns_productwise_try1)\n",
    "print('Predict: ProdPrice,ProdName,ClientName')\n",
    "df_productwise_try1['ProdName'] = df_raw['Product'].copy()\n",
    "df_productwise_try1['Month'] = df_raw['Month'].copy()\n",
    "#OrderQty calculate later ; if not by query -- do during data gen\n",
    "#OrderTotal calculate later : if not by query -- do during data gen\n",
    "df_productwise_try1['ClientName'] = df_raw['ClientName'].copy()\n",
    "df_productwise_try1['ProdPrice'] = df_raw['UnitPrice']*df_raw['QtyOrdered']\n",
    "df_productwise_try1.head()"
   ]
  },
  {
   "cell_type": "code",
   "execution_count": 39,
   "id": "7d47cb7e",
   "metadata": {},
   "outputs": [
    {
     "name": "stdout",
     "output_type": "stream",
     "text": [
      "Predict: OrderTotal\n"
     ]
    },
    {
     "data": {
      "text/html": [
       "<div>\n",
       "<style scoped>\n",
       "    .dataframe tbody tr th:only-of-type {\n",
       "        vertical-align: middle;\n",
       "    }\n",
       "\n",
       "    .dataframe tbody tr th {\n",
       "        vertical-align: top;\n",
       "    }\n",
       "\n",
       "    .dataframe thead th {\n",
       "        text-align: right;\n",
       "    }\n",
       "</style>\n",
       "<table border=\"1\" class=\"dataframe\">\n",
       "  <thead>\n",
       "    <tr style=\"text-align: right;\">\n",
       "      <th></th>\n",
       "      <th>ClientName</th>\n",
       "      <th>Month</th>\n",
       "      <th>OrderQty</th>\n",
       "      <th>Prods</th>\n",
       "      <th>CliAvgSenti</th>\n",
       "      <th>SpAvgSenti</th>\n",
       "      <th>OrderTotal</th>\n",
       "    </tr>\n",
       "  </thead>\n",
       "  <tbody>\n",
       "  </tbody>\n",
       "</table>\n",
       "</div>"
      ],
      "text/plain": [
       "Empty DataFrame\n",
       "Columns: [ClientName, Month, OrderQty, Prods, CliAvgSenti, SpAvgSenti, OrderTotal]\n",
       "Index: []"
      ]
     },
     "execution_count": 39,
     "metadata": {},
     "output_type": "execute_result"
    }
   ],
   "source": [
    "columns_clientwise_try1 = ['ClientName','Month','OrderQty','Prods','CliAvgSenti','SpAvgSenti','OrderTotal']\n",
    "df_clientwise_try1 = pd.DataFrame(columns=columns_clientwise_try1)\n",
    "print('Predict: OrderTotal')\n",
    "df_clientwise_try1.head()\n",
    "# do using query or drop this dataframe altogether"
   ]
  },
  {
   "cell_type": "code",
   "execution_count": 40,
   "id": "e398a8c4",
   "metadata": {},
   "outputs": [
    {
     "data": {
      "text/html": [
       "<div>\n",
       "<style scoped>\n",
       "    .dataframe tbody tr th:only-of-type {\n",
       "        vertical-align: middle;\n",
       "    }\n",
       "\n",
       "    .dataframe tbody tr th {\n",
       "        vertical-align: top;\n",
       "    }\n",
       "\n",
       "    .dataframe thead th {\n",
       "        text-align: right;\n",
       "    }\n",
       "</style>\n",
       "<table border=\"1\" class=\"dataframe\">\n",
       "  <thead>\n",
       "    <tr style=\"text-align: right;\">\n",
       "      <th></th>\n",
       "      <th>OrderId</th>\n",
       "      <th>CliChats</th>\n",
       "      <th>SpChats</th>\n",
       "      <th>CliAvgSenti</th>\n",
       "      <th>Sp_avg_senti</th>\n",
       "    </tr>\n",
       "  </thead>\n",
       "  <tbody>\n",
       "  </tbody>\n",
       "</table>\n",
       "</div>"
      ],
      "text/plain": [
       "Empty DataFrame\n",
       "Columns: [OrderId, CliChats, SpChats, CliAvgSenti, Sp_avg_senti]\n",
       "Index: []"
      ]
     },
     "execution_count": 40,
     "metadata": {},
     "output_type": "execute_result"
    }
   ],
   "source": [
    "columns_senti_orderwise_try1 = ['OrderId','CliChats','SpChats','CliAvgSenti','Sp_avg_senti'] \n",
    "df_senti_orderwise_try1 = pd.DataFrame(columns=columns_senti_orderwise_try1)\n",
    "df_senti_orderwise_try1.head()"
   ]
  },
  {
   "cell_type": "code",
   "execution_count": 41,
   "id": "ed7a18b3",
   "metadata": {},
   "outputs": [
    {
     "data": {
      "text/html": [
       "<div>\n",
       "<style scoped>\n",
       "    .dataframe tbody tr th:only-of-type {\n",
       "        vertical-align: middle;\n",
       "    }\n",
       "\n",
       "    .dataframe tbody tr th {\n",
       "        vertical-align: top;\n",
       "    }\n",
       "\n",
       "    .dataframe thead th {\n",
       "        text-align: right;\n",
       "    }\n",
       "</style>\n",
       "<table border=\"1\" class=\"dataframe\">\n",
       "  <thead>\n",
       "    <tr style=\"text-align: right;\">\n",
       "      <th></th>\n",
       "      <th>ClientName</th>\n",
       "      <th>Month</th>\n",
       "      <th>CliChats</th>\n",
       "      <th>SpChats</th>\n",
       "      <th>CliAvgSenti</th>\n",
       "      <th>SpAvgSenti</th>\n",
       "    </tr>\n",
       "  </thead>\n",
       "  <tbody>\n",
       "  </tbody>\n",
       "</table>\n",
       "</div>"
      ],
      "text/plain": [
       "Empty DataFrame\n",
       "Columns: [ClientName, Month, CliChats, SpChats, CliAvgSenti, SpAvgSenti]\n",
       "Index: []"
      ]
     },
     "execution_count": 41,
     "metadata": {},
     "output_type": "execute_result"
    }
   ],
   "source": [
    "columns_senti_clientwise_try1 = ['ClientName','Month','CliChats','SpChats','CliAvgSenti','SpAvgSenti']\n",
    "df_senti_clientwise_try1 = pd.DataFrame(columns=columns_senti_clientwise_try1)\n",
    "df_senti_clientwise_try1.head()"
   ]
  },
  {
   "cell_type": "code",
   "execution_count": null,
   "id": "f0a63286",
   "metadata": {},
   "outputs": [],
   "source": []
  }
 ],
 "metadata": {
  "kernelspec": {
   "display_name": "Python 3 (ipykernel)",
   "language": "python",
   "name": "python3"
  },
  "language_info": {
   "codemirror_mode": {
    "name": "ipython",
    "version": 3
   },
   "file_extension": ".py",
   "mimetype": "text/x-python",
   "name": "python",
   "nbconvert_exporter": "python",
   "pygments_lexer": "ipython3",
   "version": "3.9.7"
  }
 },
 "nbformat": 4,
 "nbformat_minor": 5
}
